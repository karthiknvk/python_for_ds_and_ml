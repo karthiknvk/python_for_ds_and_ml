{
 "cells": [
  {
   "cell_type": "code",
   "execution_count": 1,
   "metadata": {},
   "outputs": [],
   "source": [
    "import pandas as pd\n",
    "import numpy as np\n",
    "%matplotlib inline"
   ]
  },
  {
   "cell_type": "code",
   "execution_count": 2,
   "metadata": {},
   "outputs": [],
   "source": [
    "from plotly import __version__"
   ]
  },
  {
   "cell_type": "code",
   "execution_count": 3,
   "metadata": {},
   "outputs": [],
   "source": [
    "import chart_studio.plotly as py"
   ]
  },
  {
   "cell_type": "code",
   "execution_count": 4,
   "metadata": {},
   "outputs": [
    {
     "name": "stdout",
     "output_type": "stream",
     "text": [
      "5.22.0\n"
     ]
    }
   ],
   "source": [
    "print(__version__)"
   ]
  },
  {
   "cell_type": "code",
   "execution_count": 5,
   "metadata": {},
   "outputs": [],
   "source": [
    "import cufflinks as cf"
   ]
  },
  {
   "cell_type": "code",
   "execution_count": 6,
   "metadata": {},
   "outputs": [],
   "source": [
    "from plotly.offline import download_plotlyjs,init_notebook_mode,plot,iplot"
   ]
  },
  {
   "cell_type": "code",
   "execution_count": 7,
   "metadata": {},
   "outputs": [
    {
     "data": {
      "text/html": [
       "        <script type=\"text/javascript\">\n",
       "        window.PlotlyConfig = {MathJaxConfig: 'local'};\n",
       "        if (window.MathJax && window.MathJax.Hub && window.MathJax.Hub.Config) {window.MathJax.Hub.Config({SVG: {font: \"STIX-Web\"}});}\n",
       "        if (typeof require !== 'undefined') {\n",
       "        require.undef(\"plotly\");\n",
       "        requirejs.config({\n",
       "            paths: {\n",
       "                'plotly': ['https://cdn.plot.ly/plotly-2.32.0.min']\n",
       "            }\n",
       "        });\n",
       "        require(['plotly'], function(Plotly) {\n",
       "            window._Plotly = Plotly;\n",
       "        });\n",
       "        }\n",
       "        </script>\n",
       "        "
      ]
     },
     "metadata": {},
     "output_type": "display_data"
    }
   ],
   "source": [
    "init_notebook_mode(connected=True)\n",
    "#this connect javascript to notebook\n",
    "#plotly connect pandas and python to interactive javascript library"
   ]
  },
  {
   "cell_type": "code",
   "execution_count": 8,
   "metadata": {},
   "outputs": [
    {
     "data": {
      "text/html": [
       "        <script type=\"text/javascript\">\n",
       "        window.PlotlyConfig = {MathJaxConfig: 'local'};\n",
       "        if (window.MathJax && window.MathJax.Hub && window.MathJax.Hub.Config) {window.MathJax.Hub.Config({SVG: {font: \"STIX-Web\"}});}\n",
       "        if (typeof require !== 'undefined') {\n",
       "        require.undef(\"plotly\");\n",
       "        requirejs.config({\n",
       "            paths: {\n",
       "                'plotly': ['https://cdn.plot.ly/plotly-2.32.0.min']\n",
       "            }\n",
       "        });\n",
       "        require(['plotly'], function(Plotly) {\n",
       "            window._Plotly = Plotly;\n",
       "        });\n",
       "        }\n",
       "        </script>\n",
       "        "
      ]
     },
     "metadata": {},
     "output_type": "display_data"
    }
   ],
   "source": [
    "cf.go_offline()\n",
    "#why????"
   ]
  },
  {
   "cell_type": "code",
   "execution_count": 9,
   "metadata": {},
   "outputs": [],
   "source": [
    "#DATA"
   ]
  },
  {
   "cell_type": "code",
   "execution_count": 10,
   "metadata": {},
   "outputs": [],
   "source": [
    "df=pd.DataFrame(np.random.randn(100,4),columns='A B C D'.split())"
   ]
  },
  {
   "cell_type": "code",
   "execution_count": 12,
   "metadata": {},
   "outputs": [
    {
     "data": {
      "text/html": [
       "<div>\n",
       "<style scoped>\n",
       "    .dataframe tbody tr th:only-of-type {\n",
       "        vertical-align: middle;\n",
       "    }\n",
       "\n",
       "    .dataframe tbody tr th {\n",
       "        vertical-align: top;\n",
       "    }\n",
       "\n",
       "    .dataframe thead th {\n",
       "        text-align: right;\n",
       "    }\n",
       "</style>\n",
       "<table border=\"1\" class=\"dataframe\">\n",
       "  <thead>\n",
       "    <tr style=\"text-align: right;\">\n",
       "      <th></th>\n",
       "      <th>A</th>\n",
       "      <th>B</th>\n",
       "      <th>C</th>\n",
       "      <th>D</th>\n",
       "    </tr>\n",
       "  </thead>\n",
       "  <tbody>\n",
       "    <tr>\n",
       "      <th>0</th>\n",
       "      <td>-2.297061</td>\n",
       "      <td>-0.437324</td>\n",
       "      <td>0.631665</td>\n",
       "      <td>-0.670696</td>\n",
       "    </tr>\n",
       "    <tr>\n",
       "      <th>1</th>\n",
       "      <td>-1.094255</td>\n",
       "      <td>0.859047</td>\n",
       "      <td>0.458807</td>\n",
       "      <td>0.525875</td>\n",
       "    </tr>\n",
       "    <tr>\n",
       "      <th>2</th>\n",
       "      <td>0.691244</td>\n",
       "      <td>1.267088</td>\n",
       "      <td>-0.859646</td>\n",
       "      <td>-0.219470</td>\n",
       "    </tr>\n",
       "    <tr>\n",
       "      <th>3</th>\n",
       "      <td>-0.194967</td>\n",
       "      <td>0.687901</td>\n",
       "      <td>1.915628</td>\n",
       "      <td>0.400876</td>\n",
       "    </tr>\n",
       "    <tr>\n",
       "      <th>4</th>\n",
       "      <td>-0.477360</td>\n",
       "      <td>-0.574767</td>\n",
       "      <td>1.227218</td>\n",
       "      <td>0.197891</td>\n",
       "    </tr>\n",
       "    <tr>\n",
       "      <th>...</th>\n",
       "      <td>...</td>\n",
       "      <td>...</td>\n",
       "      <td>...</td>\n",
       "      <td>...</td>\n",
       "    </tr>\n",
       "    <tr>\n",
       "      <th>95</th>\n",
       "      <td>0.621538</td>\n",
       "      <td>-0.743183</td>\n",
       "      <td>-1.122867</td>\n",
       "      <td>-0.636575</td>\n",
       "    </tr>\n",
       "    <tr>\n",
       "      <th>96</th>\n",
       "      <td>0.364337</td>\n",
       "      <td>-0.629386</td>\n",
       "      <td>1.961240</td>\n",
       "      <td>-0.233887</td>\n",
       "    </tr>\n",
       "    <tr>\n",
       "      <th>97</th>\n",
       "      <td>0.088184</td>\n",
       "      <td>-0.789124</td>\n",
       "      <td>-0.402308</td>\n",
       "      <td>0.276616</td>\n",
       "    </tr>\n",
       "    <tr>\n",
       "      <th>98</th>\n",
       "      <td>0.858824</td>\n",
       "      <td>-0.001664</td>\n",
       "      <td>-0.776408</td>\n",
       "      <td>-0.219753</td>\n",
       "    </tr>\n",
       "    <tr>\n",
       "      <th>99</th>\n",
       "      <td>-1.772513</td>\n",
       "      <td>-0.910226</td>\n",
       "      <td>0.708905</td>\n",
       "      <td>2.161901</td>\n",
       "    </tr>\n",
       "  </tbody>\n",
       "</table>\n",
       "<p>100 rows × 4 columns</p>\n",
       "</div>"
      ],
      "text/plain": [
       "           A         B         C         D\n",
       "0  -2.297061 -0.437324  0.631665 -0.670696\n",
       "1  -1.094255  0.859047  0.458807  0.525875\n",
       "2   0.691244  1.267088 -0.859646 -0.219470\n",
       "3  -0.194967  0.687901  1.915628  0.400876\n",
       "4  -0.477360 -0.574767  1.227218  0.197891\n",
       "..       ...       ...       ...       ...\n",
       "95  0.621538 -0.743183 -1.122867 -0.636575\n",
       "96  0.364337 -0.629386  1.961240 -0.233887\n",
       "97  0.088184 -0.789124 -0.402308  0.276616\n",
       "98  0.858824 -0.001664 -0.776408 -0.219753\n",
       "99 -1.772513 -0.910226  0.708905  2.161901\n",
       "\n",
       "[100 rows x 4 columns]"
      ]
     },
     "execution_count": 12,
     "metadata": {},
     "output_type": "execute_result"
    }
   ],
   "source": [
    "df"
   ]
  },
  {
   "cell_type": "code",
   "execution_count": 11,
   "metadata": {},
   "outputs": [],
   "source": [
    "df2=pd.DataFrame({'Category':['A','B','C'],'Values':[32,43,50]})"
   ]
  },
  {
   "cell_type": "code",
   "execution_count": 12,
   "metadata": {},
   "outputs": [
    {
     "data": {
      "text/html": [
       "<div>\n",
       "<style scoped>\n",
       "    .dataframe tbody tr th:only-of-type {\n",
       "        vertical-align: middle;\n",
       "    }\n",
       "\n",
       "    .dataframe tbody tr th {\n",
       "        vertical-align: top;\n",
       "    }\n",
       "\n",
       "    .dataframe thead th {\n",
       "        text-align: right;\n",
       "    }\n",
       "</style>\n",
       "<table border=\"1\" class=\"dataframe\">\n",
       "  <thead>\n",
       "    <tr style=\"text-align: right;\">\n",
       "      <th></th>\n",
       "      <th>Category</th>\n",
       "      <th>Values</th>\n",
       "    </tr>\n",
       "  </thead>\n",
       "  <tbody>\n",
       "    <tr>\n",
       "      <th>0</th>\n",
       "      <td>A</td>\n",
       "      <td>32</td>\n",
       "    </tr>\n",
       "    <tr>\n",
       "      <th>1</th>\n",
       "      <td>B</td>\n",
       "      <td>43</td>\n",
       "    </tr>\n",
       "    <tr>\n",
       "      <th>2</th>\n",
       "      <td>C</td>\n",
       "      <td>50</td>\n",
       "    </tr>\n",
       "  </tbody>\n",
       "</table>\n",
       "</div>"
      ],
      "text/plain": [
       "  Category  Values\n",
       "0        A      32\n",
       "1        B      43\n",
       "2        C      50"
      ]
     },
     "execution_count": 12,
     "metadata": {},
     "output_type": "execute_result"
    }
   ],
   "source": [
    "df2"
   ]
  },
  {
   "cell_type": "code",
   "execution_count": 16,
   "metadata": {},
   "outputs": [
    {
     "data": {
      "text/plain": [
       "<Axes: >"
      ]
     },
     "execution_count": 16,
     "metadata": {},
     "output_type": "execute_result"
    },
    {
     "data": {
      "image/png": "[encoded data removed]",
      "text/plain": [
       "<Figure size 640x480 with 1 Axes>"
      ]
     },
     "metadata": {},
     "output_type": "display_data"
    }
   ],
   "source": [
    "df.plot()"
   ]
  },
  {
   "cell_type": "code",
   "execution_count": 15,
   "metadata": {},
   "outputs": [
    {
     "data": {
      "application/vnd.plotly.v1+json": {
       "config": {
        "linkText": "Export to plot.ly",
        "plotlyServerURL": "https://plot.ly",
        "showLink": true
       },
       "data": [
        {
         "line": {
          "color": "rgba(255, 153, 51, 1.0)",
          "dash": "solid",
          "shape": "linear",
          "width": 1.3
         },
         "mode": "lines",
         "name": "A",
         "text": "",
         "type": "scatter",
         "x": [
          0,
          1,
          2,
          3,
          4,
          5,
          6,
          7,
          8,
          9,
          10,
          11,
          12,
          13,
          14,
          15,
          16,
          17,
          18,
          19,
          20,
          21,
          22,
          23,
          24,
          25,
          26,
          27,
          28,
          29,
          30,
          31,
          32,
          33,
          34,
          35,
          36,
          37,
          38,
          39,
          40,
          41,
          42,
          43,
          44,
          45,
          46,
          47,
          48,
          49,
          50,
          51,
          52,
          53,
          54,
          55,
          56,
          57,
          58,
          59,
          60,
          61,
          62,
          63,
          64,
          65,
          66,
          67,
          68,
          69,
          70,
          71,
          72,
          73,
          74,
          75,
          76,
          77,
          78,
          79,
          80,
          81,
          82,
          83,
          84,
          85,
          86,
          87,
          88,
          89,
          90,
          91,
          92,
          93,
          94,
          95,
          96,
          97,
          98,
          99
         ],
         "y": [
          -0.6237268104686525,
          1.274572752369918,
          1.2855856084667923,
          0.4780921393755692,
          0.34494324406716476,
          -0.6405949323178967,
          -0.23348553233512562,
          0.17813370617579363,
          -0.7673268343683513,
          0.6579796347779423,
          0.09150439440134266,
          -0.3202194087654672,
          -0.7198822372283044,
          -0.03040259488005372,
          1.130130891132435,
          -1.3944379204410033,
          1.8055147559922298,
          -1.9857070195145679,
          1.4470767837214011,
          1.2874355830663946,
          0.696433594308047,
          2.404825719871125,
          -0.9623858314433245,
          -0.1859132142492279,
          0.03170213208913351,
          0.5002634060080197,
          1.4787083705078896,
          0.7458816130279491,
          0.3594135831219899,
          -1.2275883098721305,
          -0.03238291414533404,
          -0.15198417429647754,
          -0.8830153029958461,
          -0.8132224851313794,
          -2.0501610155245906,
          -0.9041899883149012,
          2.178167424721099,
          0.286622228389137,
          1.075573863823262,
          -0.4356904238305605,
          -1.0651750876267727,
          -0.0028056950631574658,
          -0.49382633776458307,
          -1.3147464271320535,
          -0.08989013325516612,
          -0.7042291895417842,
          -0.36343888412820746,
          0.333312240811528,
          1.0876510344408286,
          -0.3062546243441566,
          0.5660085135696187,
          0.09294517023552899,
          0.1894174818824277,
          0.04080039057265011,
          1.9675892925427019,
          -1.301768091588984,
          1.3152747666891773,
          0.005160869784432948,
          1.462520086249543,
          0.23850033626882083,
          0.8276718102531865,
          0.7004459393770409,
          0.19721486412706607,
          1.352394056400812,
          -1.5484023795619661,
          -0.22703321615797586,
          0.38543157811012896,
          0.8648956881612846,
          0.11555970092743817,
          0.24377042358437961,
          -0.8907934979824191,
          -0.41298058093838874,
          0.08772890141429637,
          -0.07976871061424609,
          0.2956966147265074,
          0.004051788741819877,
          -0.21232058552429844,
          -1.644617144448248,
          0.9817767416421945,
          -0.4355636648375388,
          -0.5358800350351557,
          0.2686898414179787,
          -1.7857386894657712,
          0.16534194227863233,
          1.6237878884244912,
          0.940607078882582,
          0.21777436019505278,
          1.2675257874568937,
          -1.1924645795499464,
          -1.0024359732972687,
          -0.9049278274834502,
          2.1992791381619425,
          -0.10497720054729366,
          -0.4905151303510943,
          -0.6425792587255553,
          0.5835158348888574,
          0.1531735913687253,
          1.2239349589688424,
          -0.03703710548486216,
          -0.2791575018844413
         ]
        },
        {
         "line": {
          "color": "rgba(55, 128, 191, 1.0)",
          "dash": "solid",
          "shape": "linear",
          "width": 1.3
         },
         "mode": "lines",
         "name": "B",
         "text": "",
         "type": "scatter",
         "x": [
          0,
          1,
          2,
          3,
          4,
          5,
          6,
          7,
          8,
          9,
          10,
          11,
          12,
          13,
          14,
          15,
          16,
          17,
          18,
          19,
          20,
          21,
          22,
          23,
          24,
          25,
          26,
          27,
          28,
          29,
          30,
          31,
          32,
          33,
          34,
          35,
          36,
          37,
          38,
          39,
          40,
          41,
          42,
          43,
          44,
          45,
          46,
          47,
          48,
          49,
          50,
          51,
          52,
          53,
          54,
          55,
          56,
          57,
          58,
          59,
          60,
          61,
          62,
          63,
          64,
          65,
          66,
          67,
          68,
          69,
          70,
          71,
          72,
          73,
          74,
          75,
          76,
          77,
          78,
          79,
          80,
          81,
          82,
          83,
          84,
          85,
          86,
          87,
          88,
          89,
          90,
          91,
          92,
          93,
          94,
          95,
          96,
          97,
          98,
          99
         ],
         "y": [
          -0.5992388419623923,
          -1.2575663073827104,
          -0.8681566591353996,
          0.7064138445219653,
          1.220897910921186,
          -0.23843854751836333,
          0.08125458191418496,
          0.6318372109145688,
          0.942548979492198,
          2.320690008639898,
          0.9429607967997387,
          -0.29015875072636427,
          -1.6581592775086522,
          -0.5477094864769935,
          0.767637407871621,
          0.8881186319337434,
          -0.0643904961411898,
          0.9534947040026447,
          -0.16606079238591212,
          0.8603565522937122,
          -0.1580619170545945,
          -0.9653181739405476,
          -0.46734405290943015,
          -1.2911496712539385,
          -0.3972209893445163,
          0.3488214938166166,
          -0.21314454951927206,
          -0.4643598207233956,
          -0.6800305118874078,
          1.2935401582290862,
          1.4361191337703871,
          -1.171567562342489,
          -0.3670068378880621,
          -1.1054577060016664,
          -0.32064801789654274,
          -0.9363926236184297,
          -0.49477094246354825,
          0.812902698213528,
          0.8537832422872523,
          0.094645992888546,
          -0.6994604522634928,
          1.0646035005563184,
          0.8307767553268849,
          1.0896853366905155,
          0.2714464628285896,
          -0.5975426618874339,
          -0.16416177611486993,
          0.2877218711794547,
          -0.3781742013756831,
          0.48423209173426957,
          -1.180883461347576,
          -1.8120680649992547,
          0.8284734124830162,
          -1.1731129598625227,
          1.9801720805279264,
          1.2077623807204638,
          -0.13553492849395918,
          0.7018366579992051,
          0.23908836812693707,
          1.1711500013199105,
          0.3263080964506011,
          1.9688996231734426,
          0.18021053530810413,
          0.5375796221576216,
          1.5367208473457563,
          0.3513982997315935,
          0.9127172041851135,
          -2.230666072053595,
          -0.019961815619791035,
          -0.30999675103673313,
          -0.8464020313819279,
          -0.2533707794233801,
          0.4896143033570152,
          1.46020941716156,
          1.2582452885624982,
          -0.029048024548711818,
          -1.946621422012302,
          0.9796055069317009,
          1.7544797453482672,
          -0.9410046003128689,
          0.05471156767059863,
          1.8503324453552497,
          1.5160510298296148,
          -0.18408876323412576,
          -0.997566364283777,
          -1.2160719819895915,
          -0.015213805397837697,
          -1.3869063045253367,
          -0.3214812075644415,
          -0.27298008360765874,
          -0.424922336179347,
          -0.43640971391586103,
          0.24837444626450242,
          -0.5897616186959732,
          -0.966304223117495,
          0.3293893994072471,
          -1.126034549538087,
          0.7201557873948927,
          0.19646839542118436,
          -0.8793115217131454
         ]
        },
        {
         "line": {
          "color": "rgba(50, 171, 96, 1.0)",
          "dash": "solid",
          "shape": "linear",
          "width": 1.3
         },
         "mode": "lines",
         "name": "C",
         "text": "",
         "type": "scatter",
         "x": [
          0,
          1,
          2,
          3,
          4,
          5,
          6,
          7,
          8,
          9,
          10,
          11,
          12,
          13,
          14,
          15,
          16,
          17,
          18,
          19,
          20,
          21,
          22,
          23,
          24,
          25,
          26,
          27,
          28,
          29,
          30,
          31,
          32,
          33,
          34,
          35,
          36,
          37,
          38,
          39,
          40,
          41,
          42,
          43,
          44,
          45,
          46,
          47,
          48,
          49,
          50,
          51,
          52,
          53,
          54,
          55,
          56,
          57,
          58,
          59,
          60,
          61,
          62,
          63,
          64,
          65,
          66,
          67,
          68,
          69,
          70,
          71,
          72,
          73,
          74,
          75,
          76,
          77,
          78,
          79,
          80,
          81,
          82,
          83,
          84,
          85,
          86,
          87,
          88,
          89,
          90,
          91,
          92,
          93,
          94,
          95,
          96,
          97,
          98,
          99
         ],
         "y": [
          0.8583663857467344,
          -1.5145392864678382,
          0.34690164059855494,
          -1.0771202641605213,
          0.7457894747870629,
          1.3465439153846355,
          -0.19439011320307956,
          -0.1278688585773838,
          0.8714217088237272,
          -1.2069465803723132,
          0.678669003387527,
          0.6908710435304085,
          -1.3518678827881616,
          -2.109643525172609,
          -0.14739200141021705,
          0.2736555043972159,
          1.5072558687922262,
          0.3716347249206074,
          0.9505652814339628,
          -1.9060707429949018,
          -0.7216299456200906,
          0.5033731431095232,
          1.567603658183932,
          -1.744367667834536,
          0.6046135698475051,
          -1.2591214070600647,
          0.24835386011648616,
          -1.990235566012449,
          0.2909701259669725,
          0.3835805487265389,
          -0.3289224481078893,
          2.783013415400195,
          0.004641289184778225,
          -0.5331706362446346,
          -0.85464536453022,
          -1.939048766759401,
          1.5732448829480874,
          0.6039064537817525,
          1.7959504221230522,
          1.0956375803715455,
          -0.30958601346015857,
          0.6493122178381358,
          -0.13110025881025425,
          0.08373256007282438,
          -0.9453019502596386,
          1.3098828552097408,
          1.0238437785917132,
          -0.2796519031510746,
          -0.18589891701581704,
          -1.9507939085538313,
          -1.9240307432375254,
          0.25150645933656285,
          -0.4025651321810857,
          -2.0008241036823686,
          -0.6715003970746136,
          -0.4865133485971033,
          -1.0906624905781868,
          -0.3155942117620863,
          1.0912079824359904,
          0.7558457550507326,
          0.9947145179461878,
          -0.884063002623822,
          -0.9426633092127263,
          -1.5032010405626413,
          0.016891280439735923,
          -1.4880291703598918,
          1.1960536111450781,
          0.645816263530466,
          0.7265415536969748,
          -0.07193586504117896,
          -0.15127496930009326,
          0.7246289940737326,
          1.1197657056355594,
          -2.0824336274218602,
          -0.9504679410546145,
          0.41403009909111205,
          0.29797641820947335,
          1.1205868149104123,
          -0.7225223044674257,
          -1.7344026712503873,
          0.7463173594083022,
          -0.25507555623623346,
          -0.3559478068672032,
          -0.42604250219736656,
          1.4951429885340772,
          -0.2616445199840373,
          0.8296699030143622,
          -2.343331318484972,
          0.9516666452755717,
          -0.05688586925889025,
          0.051787880004286954,
          2.352043014383918,
          -1.5993797304717008,
          -1.0915611825741727,
          -0.5340771017543282,
          0.7301909733814406,
          -0.9680356653278129,
          -0.6277223443047016,
          -0.8408546145530816,
          -1.5771668688401028
         ]
        },
        {
         "line": {
          "color": "rgba(128, 0, 128, 1.0)",
          "dash": "solid",
          "shape": "linear",
          "width": 1.3
         },
         "mode": "lines",
         "name": "D",
         "text": "",
         "type": "scatter",
         "x": [
          0,
          1,
          2,
          3,
          4,
          5,
          6,
          7,
          8,
          9,
          10,
          11,
          12,
          13,
          14,
          15,
          16,
          17,
          18,
          19,
          20,
          21,
          22,
          23,
          24,
          25,
          26,
          27,
          28,
          29,
          30,
          31,
          32,
          33,
          34,
          35,
          36,
          37,
          38,
          39,
          40,
          41,
          42,
          43,
          44,
          45,
          46,
          47,
          48,
          49,
          50,
          51,
          52,
          53,
          54,
          55,
          56,
          57,
          58,
          59,
          60,
          61,
          62,
          63,
          64,
          65,
          66,
          67,
          68,
          69,
          70,
          71,
          72,
          73,
          74,
          75,
          76,
          77,
          78,
          79,
          80,
          81,
          82,
          83,
          84,
          85,
          86,
          87,
          88,
          89,
          90,
          91,
          92,
          93,
          94,
          95,
          96,
          97,
          98,
          99
         ],
         "y": [
          0.07924185651283985,
          0.6818652924290595,
          -1.5873646183219725,
          0.12143990441081044,
          0.05207846008017546,
          -1.6172186411018126,
          0.011936196923565652,
          0.3529043777707589,
          -0.2505368958304461,
          0.5242368019228532,
          0.8248947952081447,
          -0.44144132648920137,
          -1.1808687641887123,
          -0.5373388775111392,
          -0.3237467751304937,
          -0.3776318955153955,
          -1.0239629768554412,
          1.245531514165095,
          1.1073940699327756,
          0.4251891543621005,
          0.513692890737192,
          -0.8251306325144719,
          -0.5401465320493954,
          -0.16508677184432394,
          0.10365248867441129,
          -0.49532774975850336,
          0.33529958182784414,
          0.43571929713716445,
          0.39720144728297835,
          1.310944841202766,
          -2.3169983885896843,
          -0.18908103238767154,
          0.5292222231066129,
          0.29016145332777066,
          0.8427822926991279,
          -0.23657082738896495,
          -0.9235212521760812,
          -1.7890541565202018,
          0.8155050859900476,
          -0.10032716975412605,
          -1.365892603250562,
          0.13199703355022221,
          0.7329981815183036,
          -0.028480770358342258,
          0.5961455415925334,
          0.12109006891748281,
          -0.27040586484201984,
          -0.05622323384537568,
          0.2547450277359559,
          0.7390152320916648,
          1.4217961618406467,
          0.2806795766706054,
          1.036600861298079,
          -0.25972435751392714,
          -1.354284864112056,
          0.22207571354595435,
          1.86260698428309,
          -0.023431220580845128,
          0.12190958858536981,
          -0.3441378034341104,
          -0.3071343352575743,
          0.731265097288132,
          -0.9491959956966635,
          -1.1545115660287404,
          -0.452396235391058,
          -0.754086005700038,
          -0.43677995059947394,
          -1.2842290256385585,
          -0.5598699785720364,
          -1.9924405355160102,
          0.021257367426427105,
          0.668053699107769,
          -1.6077823585790698,
          -0.9608748165757212,
          0.5312422174535207,
          1.3370322151179366,
          0.8246792139371296,
          -0.43104272603839816,
          0.20878375668740443,
          -0.20858077619848964,
          -0.06922238817565377,
          -0.31461710761825573,
          3.1295338984364833,
          0.8281974921069192,
          1.2578508827664443,
          -0.4435176039959194,
          0.5236437557733773,
          -0.19699010977378437,
          0.006036150046611265,
          -0.7437834804755933,
          1.1688954857881058,
          0.46977893589293973,
          0.9529961423643826,
          1.0784673273714247,
          0.0937729889871102,
          -0.0691169318342257,
          -0.6697870179389714,
          -0.06400552700673463,
          -1.8031729430720378,
          0.49745682576903094
         ]
        }
       ],
       "layout": {
        "legend": {
         "bgcolor": "#F5F6F9",
         "font": {
          "color": "#4D5663"
         }
        },
        "paper_bgcolor": "#F5F6F9",
        "plot_bgcolor": "#F5F6F9",
        "template": {
         "data": {
          "bar": [
           {
            "error_x": {
             "color": "#2a3f5f"
            },
            "error_y": {
             "color": "#2a3f5f"
            },
            "marker": {
             "line": {
              "color": "#E5ECF6",
              "width": 0.5
             },
             "pattern": {
              "fillmode": "overlay",
              "size": 10,
              "solidity": 0.2
             }
            },
            "type": "bar"
           }
          ],
          "barpolar": [
           {
            "marker": {
             "line": {
              "color": "#E5ECF6",
              "width": 0.5
             },
             "pattern": {
              "fillmode": "overlay",
              "size": 10,
              "solidity": 0.2
             }
            },
            "type": "barpolar"
           }
          ],
          "carpet": [
           {
            "aaxis": {
             "endlinecolor": "#2a3f5f",
             "gridcolor": "white",
             "linecolor": "white",
             "minorgridcolor": "white",
             "startlinecolor": "#2a3f5f"
            },
            "baxis": {
             "endlinecolor": "#2a3f5f",
             "gridcolor": "white",
             "linecolor": "white",
             "minorgridcolor": "white",
             "startlinecolor": "#2a3f5f"
            },
            "type": "carpet"
           }
          ],
          "choropleth": [
           {
            "colorbar": {
             "outlinewidth": 0,
             "ticks": ""
            },
            "type": "choropleth"
           }
          ],
          "contour": [
           {
            "colorbar": {
             "outlinewidth": 0,
             "ticks": ""
            },
            "colorscale": [
             [
              0,
              "#0d0887"
             ],
             [
              0.1111111111111111,
              "#46039f"
             ],
             [
              0.2222222222222222,
              "#7201a8"
             ],
             [
              0.3333333333333333,
              "#9c179e"
             ],
             [
              0.4444444444444444,
              "#bd3786"
             ],
             [
              0.5555555555555556,
              "#d8576b"
             ],
             [
              0.6666666666666666,
              "#ed7953"
             ],
             [
              0.7777777777777778,
              "#fb9f3a"
             ],
             [
              0.8888888888888888,
              "#fdca26"
             ],
             [
              1,
              "#f0f921"
             ]
            ],
            "type": "contour"
           }
          ],
          "contourcarpet": [
           {
            "colorbar": {
             "outlinewidth": 0,
             "ticks": ""
            },
            "type": "contourcarpet"
           }
          ],
          "heatmap": [
           {
            "colorbar": {
             "outlinewidth": 0,
             "ticks": ""
            },
            "colorscale": [
             [
              0,
              "#0d0887"
             ],
             [
              0.1111111111111111,
              "#46039f"
             ],
             [
              0.2222222222222222,
              "#7201a8"
             ],
             [
              0.3333333333333333,
              "#9c179e"
             ],
             [
              0.4444444444444444,
              "#bd3786"
             ],
             [
              0.5555555555555556,
              "#d8576b"
             ],
             [
              0.6666666666666666,
              "#ed7953"
             ],
             [
              0.7777777777777778,
              "#fb9f3a"
             ],
             [
              0.8888888888888888,
              "#fdca26"
             ],
             [
              1,
              "#f0f921"
             ]
            ],
            "type": "heatmap"
           }
          ],
          "heatmapgl": [
           {
            "colorbar": {
             "outlinewidth": 0,
             "ticks": ""
            },
            "colorscale": [
             [
              0,
              "#0d0887"
             ],
             [
              0.1111111111111111,
              "#46039f"
             ],
             [
              0.2222222222222222,
              "#7201a8"
             ],
             [
              0.3333333333333333,
              "#9c179e"
             ],
             [
              0.4444444444444444,
              "#bd3786"
             ],
             [
              0.5555555555555556,
              "#d8576b"
             ],
             [
              0.6666666666666666,
              "#ed7953"
             ],
             [
              0.7777777777777778,
              "#fb9f3a"
             ],
             [
              0.8888888888888888,
              "#fdca26"
             ],
             [
              1,
              "#f0f921"
             ]
            ],
            "type": "heatmapgl"
           }
          ],
          "histogram": [
           {
            "marker": {
             "pattern": {
              "fillmode": "overlay",
              "size": 10,
              "solidity": 0.2
             }
            },
            "type": "histogram"
           }
          ],
          "histogram2d": [
           {
            "colorbar": {
             "outlinewidth": 0,
             "ticks": ""
            },
            "colorscale": [
             [
              0,
              "#0d0887"
             ],
             [
              0.1111111111111111,
              "#46039f"
             ],
             [
              0.2222222222222222,
              "#7201a8"
             ],
             [
              0.3333333333333333,
              "#9c179e"
             ],
             [
              0.4444444444444444,
              "#bd3786"
             ],
             [
              0.5555555555555556,
              "#d8576b"
             ],
             [
              0.6666666666666666,
              "#ed7953"
             ],
             [
              0.7777777777777778,
              "#fb9f3a"
             ],
             [
              0.8888888888888888,
              "#fdca26"
             ],
             [
              1,
              "#f0f921"
             ]
            ],
            "type": "histogram2d"
           }
          ],
          "histogram2dcontour": [
           {
            "colorbar": {
             "outlinewidth": 0,
             "ticks": ""
            },
            "colorscale": [
             [
              0,
              "#0d0887"
             ],
             [
              0.1111111111111111,
              "#46039f"
             ],
             [
              0.2222222222222222,
              "#7201a8"
             ],
             [
              0.3333333333333333,
              "#9c179e"
             ],
             [
              0.4444444444444444,
              "#bd3786"
             ],
             [
              0.5555555555555556,
              "#d8576b"
             ],
             [
              0.6666666666666666,
              "#ed7953"
             ],
             [
              0.7777777777777778,
              "#fb9f3a"
             ],
             [
              0.8888888888888888,
              "#fdca26"
             ],
             [
              1,
              "#f0f921"
             ]
            ],
            "type": "histogram2dcontour"
           }
          ],
          "mesh3d": [
           {
            "colorbar": {
             "outlinewidth": 0,
             "ticks": ""
            },
            "type": "mesh3d"
           }
          ],
          "parcoords": [
           {
            "line": {
             "colorbar": {
              "outlinewidth": 0,
              "ticks": ""
             }
            },
            "type": "parcoords"
           }
          ],
          "pie": [
           {
            "automargin": true,
            "type": "pie"
           }
          ],
          "scatter": [
           {
            "fillpattern": {
             "fillmode": "overlay",
             "size": 10,
             "solidity": 0.2
            },
            "type": "scatter"
           }
          ],
          "scatter3d": [
           {
            "line": {
             "colorbar": {
              "outlinewidth": 0,
              "ticks": ""
             }
            },
            "marker": {
             "colorbar": {
              "outlinewidth": 0,
              "ticks": ""
             }
            },
            "type": "scatter3d"
           }
          ],
          "scattercarpet": [
           {
            "marker": {
             "colorbar": {
              "outlinewidth": 0,
              "ticks": ""
             }
            },
            "type": "scattercarpet"
           }
          ],
          "scattergeo": [
           {
            "marker": {
             "colorbar": {
              "outlinewidth": 0,
              "ticks": ""
             }
            },
            "type": "scattergeo"
           }
          ],
          "scattergl": [
           {
            "marker": {
             "colorbar": {
              "outlinewidth": 0,
              "ticks": ""
             }
            },
            "type": "scattergl"
           }
          ],
          "scattermapbox": [
           {
            "marker": {
             "colorbar": {
              "outlinewidth": 0,
              "ticks": ""
             }
            },
            "type": "scattermapbox"
           }
          ],
          "scatterpolar": [
           {
            "marker": {
             "colorbar": {
              "outlinewidth": 0,
              "ticks": ""
             }
            },
            "type": "scatterpolar"
           }
          ],
          "scatterpolargl": [
           {
            "marker": {
             "colorbar": {
              "outlinewidth": 0,
              "ticks": ""
             }
            },
            "type": "scatterpolargl"
           }
          ],
          "scatterternary": [
           {
            "marker": {
             "colorbar": {
              "outlinewidth": 0,
              "ticks": ""
             }
            },
            "type": "scatterternary"
           }
          ],
          "surface": [
           {
            "colorbar": {
             "outlinewidth": 0,
             "ticks": ""
            },
            "colorscale": [
             [
              0,
              "#0d0887"
             ],
             [
              0.1111111111111111,
              "#46039f"
             ],
             [
              0.2222222222222222,
              "#7201a8"
             ],
             [
              0.3333333333333333,
              "#9c179e"
             ],
             [
              0.4444444444444444,
              "#bd3786"
             ],
             [
              0.5555555555555556,
              "#d8576b"
             ],
             [
              0.6666666666666666,
              "#ed7953"
             ],
             [
              0.7777777777777778,
              "#fb9f3a"
             ],
             [
              0.8888888888888888,
              "#fdca26"
             ],
             [
              1,
              "#f0f921"
             ]
            ],
            "type": "surface"
           }
          ],
          "table": [
           {
            "cells": {
             "fill": {
              "color": "#EBF0F8"
             },
             "line": {
              "color": "white"
             }
            },
            "header": {
             "fill": {
              "color": "#C8D4E3"
             },
             "line": {
              "color": "white"
             }
            },
            "type": "table"
           }
          ]
         },
         "layout": {
          "annotationdefaults": {
           "arrowcolor": "#2a3f5f",
           "arrowhead": 0,
           "arrowwidth": 1
          },
          "autotypenumbers": "strict",
          "coloraxis": {
           "colorbar": {
            "outlinewidth": 0,
            "ticks": ""
           }
          },
          "colorscale": {
           "diverging": [
            [
             0,
             "#8e0152"
            ],
            [
             0.1,
             "#c51b7d"
            ],
            [
             0.2,
             "#de77ae"
            ],
            [
             0.3,
             "#f1b6da"
            ],
            [
             0.4,
             "#fde0ef"
            ],
            [
             0.5,
             "#f7f7f7"
            ],
            [
             0.6,
             "#e6f5d0"
            ],
            [
             0.7,
             "#b8e186"
            ],
            [
             0.8,
             "#7fbc41"
            ],
            [
             0.9,
             "#4d9221"
            ],
            [
             1,
             "#276419"
            ]
           ],
           "sequential": [
            [
             0,
             "#0d0887"
            ],
            [
             0.1111111111111111,
             "#46039f"
            ],
            [
             0.2222222222222222,
             "#7201a8"
            ],
            [
             0.3333333333333333,
             "#9c179e"
            ],
            [
             0.4444444444444444,
             "#bd3786"
            ],
            [
             0.5555555555555556,
             "#d8576b"
            ],
            [
             0.6666666666666666,
             "#ed7953"
            ],
            [
             0.7777777777777778,
             "#fb9f3a"
            ],
            [
             0.8888888888888888,
             "#fdca26"
            ],
            [
             1,
             "#f0f921"
            ]
           ],
           "sequentialminus": [
            [
             0,
             "#0d0887"
            ],
            [
             0.1111111111111111,
             "#46039f"
            ],
            [
             0.2222222222222222,
             "#7201a8"
            ],
            [
             0.3333333333333333,
             "#9c179e"
            ],
            [
             0.4444444444444444,
             "#bd3786"
            ],
            [
             0.5555555555555556,
             "#d8576b"
            ],
            [
             0.6666666666666666,
             "#ed7953"
            ],
            [
             0.7777777777777778,
             "#fb9f3a"
            ],
            [
             0.8888888888888888,
             "#fdca26"
            ],
            [
             1,
             "#f0f921"
            ]
           ]
          },
          "colorway": [
           "#636efa",
           "#EF553B",
           "#00cc96",
           "#ab63fa",
           "#FFA15A",
           "#19d3f3",
           "#FF6692",
           "#B6E880",
           "#FF97FF",
           "#FECB52"
          ],
          "font": {
           "color": "#2a3f5f"
          },
          "geo": {
           "bgcolor": "white",
           "lakecolor": "white",
           "landcolor": "#E5ECF6",
           "showlakes": true,
           "showland": true,
           "subunitcolor": "white"
          },
          "hoverlabel": {
           "align": "left"
          },
          "hovermode": "closest",
          "mapbox": {
           "style": "light"
          },
          "paper_bgcolor": "white",
          "plot_bgcolor": "#E5ECF6",
          "polar": {
           "angularaxis": {
            "gridcolor": "white",
            "linecolor": "white",
            "ticks": ""
           },
           "bgcolor": "#E5ECF6",
           "radialaxis": {
            "gridcolor": "white",
            "linecolor": "white",
            "ticks": ""
           }
          },
          "scene": {
           "xaxis": {
            "backgroundcolor": "#E5ECF6",
            "gridcolor": "white",
            "gridwidth": 2,
            "linecolor": "white",
            "showbackground": true,
            "ticks": "",
            "zerolinecolor": "white"
           },
           "yaxis": {
            "backgroundcolor": "#E5ECF6",
            "gridcolor": "white",
            "gridwidth": 2,
            "linecolor": "white",
            "showbackground": true,
            "ticks": "",
            "zerolinecolor": "white"
           },
           "zaxis": {
            "backgroundcolor": "#E5ECF6",
            "gridcolor": "white",
            "gridwidth": 2,
            "linecolor": "white",
            "showbackground": true,
            "ticks": "",
            "zerolinecolor": "white"
           }
          },
          "shapedefaults": {
           "line": {
            "color": "#2a3f5f"
           }
          },
          "ternary": {
           "aaxis": {
            "gridcolor": "white",
            "linecolor": "white",
            "ticks": ""
           },
           "baxis": {
            "gridcolor": "white",
            "linecolor": "white",
            "ticks": ""
           },
           "bgcolor": "#E5ECF6",
           "caxis": {
            "gridcolor": "white",
            "linecolor": "white",
            "ticks": ""
           }
          },
          "title": {
           "x": 0.05
          },
          "xaxis": {
           "automargin": true,
           "gridcolor": "white",
           "linecolor": "white",
           "ticks": "",
           "title": {
            "standoff": 15
           },
           "zerolinecolor": "white",
           "zerolinewidth": 2
          },
          "yaxis": {
           "automargin": true,
           "gridcolor": "white",
           "linecolor": "white",
           "ticks": "",
           "title": {
            "standoff": 15
           },
           "zerolinecolor": "white",
           "zerolinewidth": 2
          }
         }
        },
        "title": {
         "font": {
          "color": "#4D5663"
         }
        },
        "xaxis": {
         "gridcolor": "#E1E5ED",
         "showgrid": true,
         "tickfont": {
          "color": "#4D5663"
         },
         "title": {
          "font": {
           "color": "#4D5663"
          },
          "text": ""
         },
         "zerolinecolor": "#E1E5ED"
        },
        "yaxis": {
         "gridcolor": "#E1E5ED",
         "showgrid": true,
         "tickfont": {
          "color": "#4D5663"
         },
         "title": {
          "font": {
           "color": "#4D5663"
          },
          "text": ""
         },
         "zerolinecolor": "#E1E5ED"
        }
       }
      },
      "text/html": [
       "<div>                            <div id=\"00455a4e-9461-408e-a095-89ec09b08cca\" class=\"plotly-graph-div\" style=\"height:525px; width:100%;\"></div>            <script type=\"text/javascript\">                require([\"plotly\"], function(Plotly) {                    window.PLOTLYENV=window.PLOTLYENV || {};\n",
       "                    window.PLOTLYENV.BASE_URL='https://plot.ly';                                    if (document.getElementById(\"00455a4e-9461-408e-a095-89ec09b08cca\")) {                    Plotly.newPlot(                        \"00455a4e-9461-408e-a095-89ec09b08cca\",                        [{\"line\":{\"color\":\"rgba(255, 153, 51, 1.0)\",\"dash\":\"solid\",\"shape\":\"linear\",\"width\":1.3},\"mode\":\"lines\",\"name\":\"A\",\"text\":\"\",\"x\":[0,1,2,3,4,5,6,7,8,9,10,11,12,13,14,15,16,17,18,19,20,21,22,23,24,25,26,27,28,29,30,31,32,33,34,35,36,37,38,39,40,41,42,43,44,45,46,47,48,49,50,51,52,53,54,55,56,57,58,59,60,61,62,63,64,65,66,67,68,69,70,71,72,73,74,75,76,77,78,79,80,81,82,83,84,85,86,87,88,89,90,91,92,93,94,95,96,97,98,99],\"y\":[-0.6237268104686525,1.274572752369918,1.2855856084667923,0.4780921393755692,0.34494324406716476,-0.6405949323178967,-0.23348553233512562,0.17813370617579363,-0.7673268343683513,0.6579796347779423,0.09150439440134266,-0.3202194087654672,-0.7198822372283044,-0.03040259488005372,1.130130891132435,-1.3944379204410033,1.8055147559922298,-1.9857070195145679,1.4470767837214011,1.2874355830663946,0.696433594308047,2.404825719871125,-0.9623858314433245,-0.1859132142492279,0.03170213208913351,0.5002634060080197,1.4787083705078896,0.7458816130279491,0.3594135831219899,-1.2275883098721305,-0.03238291414533404,-0.15198417429647754,-0.8830153029958461,-0.8132224851313794,-2.0501610155245906,-0.9041899883149012,2.178167424721099,0.286622228389137,1.075573863823262,-0.4356904238305605,-1.0651750876267727,-0.0028056950631574658,-0.49382633776458307,-1.3147464271320535,-0.08989013325516612,-0.7042291895417842,-0.36343888412820746,0.333312240811528,1.0876510344408286,-0.3062546243441566,0.5660085135696187,0.09294517023552899,0.1894174818824277,0.04080039057265011,1.9675892925427019,-1.301768091588984,1.3152747666891773,0.005160869784432948,1.462520086249543,0.23850033626882083,0.8276718102531865,0.7004459393770409,0.19721486412706607,1.352394056400812,-1.5484023795619661,-0.22703321615797586,0.38543157811012896,0.8648956881612846,0.11555970092743817,0.24377042358437961,-0.8907934979824191,-0.41298058093838874,0.08772890141429637,-0.07976871061424609,0.2956966147265074,0.004051788741819877,-0.21232058552429844,-1.644617144448248,0.9817767416421945,-0.4355636648375388,-0.5358800350351557,0.2686898414179787,-1.7857386894657712,0.16534194227863233,1.6237878884244912,0.940607078882582,0.21777436019505278,1.2675257874568937,-1.1924645795499464,-1.0024359732972687,-0.9049278274834502,2.1992791381619425,-0.10497720054729366,-0.4905151303510943,-0.6425792587255553,0.5835158348888574,0.1531735913687253,1.2239349589688424,-0.03703710548486216,-0.2791575018844413],\"type\":\"scatter\"},{\"line\":{\"color\":\"rgba(55, 128, 191, 1.0)\",\"dash\":\"solid\",\"shape\":\"linear\",\"width\":1.3},\"mode\":\"lines\",\"name\":\"B\",\"text\":\"\",\"x\":[0,1,2,3,4,5,6,7,8,9,10,11,12,13,14,15,16,17,18,19,20,21,22,23,24,25,26,27,28,29,30,31,32,33,34,35,36,37,38,39,40,41,42,43,44,45,46,47,48,49,50,51,52,53,54,55,56,57,58,59,60,61,62,63,64,65,66,67,68,69,70,71,72,73,74,75,76,77,78,79,80,81,82,83,84,85,86,87,88,89,90,91,92,93,94,95,96,97,98,99],\"y\":[-0.5992388419623923,-1.2575663073827104,-0.8681566591353996,0.7064138445219653,1.220897910921186,-0.23843854751836333,0.08125458191418496,0.6318372109145688,0.942548979492198,2.320690008639898,0.9429607967997387,-0.29015875072636427,-1.6581592775086522,-0.5477094864769935,0.767637407871621,0.8881186319337434,-0.0643904961411898,0.9534947040026447,-0.16606079238591212,0.8603565522937122,-0.1580619170545945,-0.9653181739405476,-0.46734405290943015,-1.2911496712539385,-0.3972209893445163,0.3488214938166166,-0.21314454951927206,-0.4643598207233956,-0.6800305118874078,1.2935401582290862,1.4361191337703871,-1.171567562342489,-0.3670068378880621,-1.1054577060016664,-0.32064801789654274,-0.9363926236184297,-0.49477094246354825,0.812902698213528,0.8537832422872523,0.094645992888546,-0.6994604522634928,1.0646035005563184,0.8307767553268849,1.0896853366905155,0.2714464628285896,-0.5975426618874339,-0.16416177611486993,0.2877218711794547,-0.3781742013756831,0.48423209173426957,-1.180883461347576,-1.8120680649992547,0.8284734124830162,-1.1731129598625227,1.9801720805279264,1.2077623807204638,-0.13553492849395918,0.7018366579992051,0.23908836812693707,1.1711500013199105,0.3263080964506011,1.9688996231734426,0.18021053530810413,0.5375796221576216,1.5367208473457563,0.3513982997315935,0.9127172041851135,-2.230666072053595,-0.019961815619791035,-0.30999675103673313,-0.8464020313819279,-0.2533707794233801,0.4896143033570152,1.46020941716156,1.2582452885624982,-0.029048024548711818,-1.946621422012302,0.9796055069317009,1.7544797453482672,-0.9410046003128689,0.05471156767059863,1.8503324453552497,1.5160510298296148,-0.18408876323412576,-0.997566364283777,-1.2160719819895915,-0.015213805397837697,-1.3869063045253367,-0.3214812075644415,-0.27298008360765874,-0.424922336179347,-0.43640971391586103,0.24837444626450242,-0.5897616186959732,-0.966304223117495,0.3293893994072471,-1.126034549538087,0.7201557873948927,0.19646839542118436,-0.8793115217131454],\"type\":\"scatter\"},{\"line\":{\"color\":\"rgba(50, 171, 96, 1.0)\",\"dash\":\"solid\",\"shape\":\"linear\",\"width\":1.3},\"mode\":\"lines\",\"name\":\"C\",\"text\":\"\",\"x\":[0,1,2,3,4,5,6,7,8,9,10,11,12,13,14,15,16,17,18,19,20,21,22,23,24,25,26,27,28,29,30,31,32,33,34,35,36,37,38,39,40,41,42,43,44,45,46,47,48,49,50,51,52,53,54,55,56,57,58,59,60,61,62,63,64,65,66,67,68,69,70,71,72,73,74,75,76,77,78,79,80,81,82,83,84,85,86,87,88,89,90,91,92,93,94,95,96,97,98,99],\"y\":[0.8583663857467344,-1.5145392864678382,0.34690164059855494,-1.0771202641605213,0.7457894747870629,1.3465439153846355,-0.19439011320307956,-0.1278688585773838,0.8714217088237272,-1.2069465803723132,0.678669003387527,0.6908710435304085,-1.3518678827881616,-2.109643525172609,-0.14739200141021705,0.2736555043972159,1.5072558687922262,0.3716347249206074,0.9505652814339628,-1.9060707429949018,-0.7216299456200906,0.5033731431095232,1.567603658183932,-1.744367667834536,0.6046135698475051,-1.2591214070600647,0.24835386011648616,-1.990235566012449,0.2909701259669725,0.3835805487265389,-0.3289224481078893,2.783013415400195,0.004641289184778225,-0.5331706362446346,-0.85464536453022,-1.939048766759401,1.5732448829480874,0.6039064537817525,1.7959504221230522,1.0956375803715455,-0.30958601346015857,0.6493122178381358,-0.13110025881025425,0.08373256007282438,-0.9453019502596386,1.3098828552097408,1.0238437785917132,-0.2796519031510746,-0.18589891701581704,-1.9507939085538313,-1.9240307432375254,0.25150645933656285,-0.4025651321810857,-2.0008241036823686,-0.6715003970746136,-0.4865133485971033,-1.0906624905781868,-0.3155942117620863,1.0912079824359904,0.7558457550507326,0.9947145179461878,-0.884063002623822,-0.9426633092127263,-1.5032010405626413,0.016891280439735923,-1.4880291703598918,1.1960536111450781,0.645816263530466,0.7265415536969748,-0.07193586504117896,-0.15127496930009326,0.7246289940737326,1.1197657056355594,-2.0824336274218602,-0.9504679410546145,0.41403009909111205,0.29797641820947335,1.1205868149104123,-0.7225223044674257,-1.7344026712503873,0.7463173594083022,-0.25507555623623346,-0.3559478068672032,-0.42604250219736656,1.4951429885340772,-0.2616445199840373,0.8296699030143622,-2.343331318484972,0.9516666452755717,-0.05688586925889025,0.051787880004286954,2.352043014383918,-1.5993797304717008,-1.0915611825741727,-0.5340771017543282,0.7301909733814406,-0.9680356653278129,-0.6277223443047016,-0.8408546145530816,-1.5771668688401028],\"type\":\"scatter\"},{\"line\":{\"color\":\"rgba(128, 0, 128, 1.0)\",\"dash\":\"solid\",\"shape\":\"linear\",\"width\":1.3},\"mode\":\"lines\",\"name\":\"D\",\"text\":\"\",\"x\":[0,1,2,3,4,5,6,7,8,9,10,11,12,13,14,15,16,17,18,19,20,21,22,23,24,25,26,27,28,29,30,31,32,33,34,35,36,37,38,39,40,41,42,43,44,45,46,47,48,49,50,51,52,53,54,55,56,57,58,59,60,61,62,63,64,65,66,67,68,69,70,71,72,73,74,75,76,77,78,79,80,81,82,83,84,85,86,87,88,89,90,91,92,93,94,95,96,97,98,99],\"y\":[0.07924185651283985,0.6818652924290595,-1.5873646183219725,0.12143990441081044,0.05207846008017546,-1.6172186411018126,0.011936196923565652,0.3529043777707589,-0.2505368958304461,0.5242368019228532,0.8248947952081447,-0.44144132648920137,-1.1808687641887123,-0.5373388775111392,-0.3237467751304937,-0.3776318955153955,-1.0239629768554412,1.245531514165095,1.1073940699327756,0.4251891543621005,0.513692890737192,-0.8251306325144719,-0.5401465320493954,-0.16508677184432394,0.10365248867441129,-0.49532774975850336,0.33529958182784414,0.43571929713716445,0.39720144728297835,1.310944841202766,-2.3169983885896843,-0.18908103238767154,0.5292222231066129,0.29016145332777066,0.8427822926991279,-0.23657082738896495,-0.9235212521760812,-1.7890541565202018,0.8155050859900476,-0.10032716975412605,-1.365892603250562,0.13199703355022221,0.7329981815183036,-0.028480770358342258,0.5961455415925334,0.12109006891748281,-0.27040586484201984,-0.05622323384537568,0.2547450277359559,0.7390152320916648,1.4217961618406467,0.2806795766706054,1.036600861298079,-0.25972435751392714,-1.354284864112056,0.22207571354595435,1.86260698428309,-0.023431220580845128,0.12190958858536981,-0.3441378034341104,-0.3071343352575743,0.731265097288132,-0.9491959956966635,-1.1545115660287404,-0.452396235391058,-0.754086005700038,-0.43677995059947394,-1.2842290256385585,-0.5598699785720364,-1.9924405355160102,0.021257367426427105,0.668053699107769,-1.6077823585790698,-0.9608748165757212,0.5312422174535207,1.3370322151179366,0.8246792139371296,-0.43104272603839816,0.20878375668740443,-0.20858077619848964,-0.06922238817565377,-0.31461710761825573,3.1295338984364833,0.8281974921069192,1.2578508827664443,-0.4435176039959194,0.5236437557733773,-0.19699010977378437,0.006036150046611265,-0.7437834804755933,1.1688954857881058,0.46977893589293973,0.9529961423643826,1.0784673273714247,0.0937729889871102,-0.0691169318342257,-0.6697870179389714,-0.06400552700673463,-1.8031729430720378,0.49745682576903094],\"type\":\"scatter\"}],                        {\"legend\":{\"bgcolor\":\"#F5F6F9\",\"font\":{\"color\":\"#4D5663\"}},\"paper_bgcolor\":\"#F5F6F9\",\"plot_bgcolor\":\"#F5F6F9\",\"template\":{\"data\":{\"barpolar\":[{\"marker\":{\"line\":{\"color\":\"#E5ECF6\",\"width\":0.5},\"pattern\":{\"fillmode\":\"overlay\",\"size\":10,\"solidity\":0.2}},\"type\":\"barpolar\"}],\"bar\":[{\"error_x\":{\"color\":\"#2a3f5f\"},\"error_y\":{\"color\":\"#2a3f5f\"},\"marker\":{\"line\":{\"color\":\"#E5ECF6\",\"width\":0.5},\"pattern\":{\"fillmode\":\"overlay\",\"size\":10,\"solidity\":0.2}},\"type\":\"bar\"}],\"carpet\":[{\"aaxis\":{\"endlinecolor\":\"#2a3f5f\",\"gridcolor\":\"white\",\"linecolor\":\"white\",\"minorgridcolor\":\"white\",\"startlinecolor\":\"#2a3f5f\"},\"baxis\":{\"endlinecolor\":\"#2a3f5f\",\"gridcolor\":\"white\",\"linecolor\":\"white\",\"minorgridcolor\":\"white\",\"startlinecolor\":\"#2a3f5f\"},\"type\":\"carpet\"}],\"choropleth\":[{\"colorbar\":{\"outlinewidth\":0,\"ticks\":\"\"},\"type\":\"choropleth\"}],\"contourcarpet\":[{\"colorbar\":{\"outlinewidth\":0,\"ticks\":\"\"},\"type\":\"contourcarpet\"}],\"contour\":[{\"colorbar\":{\"outlinewidth\":0,\"ticks\":\"\"},\"colorscale\":[[0.0,\"#0d0887\"],[0.1111111111111111,\"#46039f\"],[0.2222222222222222,\"#7201a8\"],[0.3333333333333333,\"#9c179e\"],[0.4444444444444444,\"#bd3786\"],[0.5555555555555556,\"#d8576b\"],[0.6666666666666666,\"#ed7953\"],[0.7777777777777778,\"#fb9f3a\"],[0.8888888888888888,\"#fdca26\"],[1.0,\"#f0f921\"]],\"type\":\"contour\"}],\"heatmapgl\":[{\"colorbar\":{\"outlinewidth\":0,\"ticks\":\"\"},\"colorscale\":[[0.0,\"#0d0887\"],[0.1111111111111111,\"#46039f\"],[0.2222222222222222,\"#7201a8\"],[0.3333333333333333,\"#9c179e\"],[0.4444444444444444,\"#bd3786\"],[0.5555555555555556,\"#d8576b\"],[0.6666666666666666,\"#ed7953\"],[0.7777777777777778,\"#fb9f3a\"],[0.8888888888888888,\"#fdca26\"],[1.0,\"#f0f921\"]],\"type\":\"heatmapgl\"}],\"heatmap\":[{\"colorbar\":{\"outlinewidth\":0,\"ticks\":\"\"},\"colorscale\":[[0.0,\"#0d0887\"],[0.1111111111111111,\"#46039f\"],[0.2222222222222222,\"#7201a8\"],[0.3333333333333333,\"#9c179e\"],[0.4444444444444444,\"#bd3786\"],[0.5555555555555556,\"#d8576b\"],[0.6666666666666666,\"#ed7953\"],[0.7777777777777778,\"#fb9f3a\"],[0.8888888888888888,\"#fdca26\"],[1.0,\"#f0f921\"]],\"type\":\"heatmap\"}],\"histogram2dcontour\":[{\"colorbar\":{\"outlinewidth\":0,\"ticks\":\"\"},\"colorscale\":[[0.0,\"#0d0887\"],[0.1111111111111111,\"#46039f\"],[0.2222222222222222,\"#7201a8\"],[0.3333333333333333,\"#9c179e\"],[0.4444444444444444,\"#bd3786\"],[0.5555555555555556,\"#d8576b\"],[0.6666666666666666,\"#ed7953\"],[0.7777777777777778,\"#fb9f3a\"],[0.8888888888888888,\"#fdca26\"],[1.0,\"#f0f921\"]],\"type\":\"histogram2dcontour\"}],\"histogram2d\":[{\"colorbar\":{\"outlinewidth\":0,\"ticks\":\"\"},\"colorscale\":[[0.0,\"#0d0887\"],[0.1111111111111111,\"#46039f\"],[0.2222222222222222,\"#7201a8\"],[0.3333333333333333,\"#9c179e\"],[0.4444444444444444,\"#bd3786\"],[0.5555555555555556,\"#d8576b\"],[0.6666666666666666,\"#ed7953\"],[0.7777777777777778,\"#fb9f3a\"],[0.8888888888888888,\"#fdca26\"],[1.0,\"#f0f921\"]],\"type\":\"histogram2d\"}],\"histogram\":[{\"marker\":{\"pattern\":{\"fillmode\":\"overlay\",\"size\":10,\"solidity\":0.2}},\"type\":\"histogram\"}],\"mesh3d\":[{\"colorbar\":{\"outlinewidth\":0,\"ticks\":\"\"},\"type\":\"mesh3d\"}],\"parcoords\":[{\"line\":{\"colorbar\":{\"outlinewidth\":0,\"ticks\":\"\"}},\"type\":\"parcoords\"}],\"pie\":[{\"automargin\":true,\"type\":\"pie\"}],\"scatter3d\":[{\"line\":{\"colorbar\":{\"outlinewidth\":0,\"ticks\":\"\"}},\"marker\":{\"colorbar\":{\"outlinewidth\":0,\"ticks\":\"\"}},\"type\":\"scatter3d\"}],\"scattercarpet\":[{\"marker\":{\"colorbar\":{\"outlinewidth\":0,\"ticks\":\"\"}},\"type\":\"scattercarpet\"}],\"scattergeo\":[{\"marker\":{\"colorbar\":{\"outlinewidth\":0,\"ticks\":\"\"}},\"type\":\"scattergeo\"}],\"scattergl\":[{\"marker\":{\"colorbar\":{\"outlinewidth\":0,\"ticks\":\"\"}},\"type\":\"scattergl\"}],\"scattermapbox\":[{\"marker\":{\"colorbar\":{\"outlinewidth\":0,\"ticks\":\"\"}},\"type\":\"scattermapbox\"}],\"scatterpolargl\":[{\"marker\":{\"colorbar\":{\"outlinewidth\":0,\"ticks\":\"\"}},\"type\":\"scatterpolargl\"}],\"scatterpolar\":[{\"marker\":{\"colorbar\":{\"outlinewidth\":0,\"ticks\":\"\"}},\"type\":\"scatterpolar\"}],\"scatter\":[{\"fillpattern\":{\"fillmode\":\"overlay\",\"size\":10,\"solidity\":0.2},\"type\":\"scatter\"}],\"scatterternary\":[{\"marker\":{\"colorbar\":{\"outlinewidth\":0,\"ticks\":\"\"}},\"type\":\"scatterternary\"}],\"surface\":[{\"colorbar\":{\"outlinewidth\":0,\"ticks\":\"\"},\"colorscale\":[[0.0,\"#0d0887\"],[0.1111111111111111,\"#46039f\"],[0.2222222222222222,\"#7201a8\"],[0.3333333333333333,\"#9c179e\"],[0.4444444444444444,\"#bd3786\"],[0.5555555555555556,\"#d8576b\"],[0.6666666666666666,\"#ed7953\"],[0.7777777777777778,\"#fb9f3a\"],[0.8888888888888888,\"#fdca26\"],[1.0,\"#f0f921\"]],\"type\":\"surface\"}],\"table\":[{\"cells\":{\"fill\":{\"color\":\"#EBF0F8\"},\"line\":{\"color\":\"white\"}},\"header\":{\"fill\":{\"color\":\"#C8D4E3\"},\"line\":{\"color\":\"white\"}},\"type\":\"table\"}]},\"layout\":{\"annotationdefaults\":{\"arrowcolor\":\"#2a3f5f\",\"arrowhead\":0,\"arrowwidth\":1},\"autotypenumbers\":\"strict\",\"coloraxis\":{\"colorbar\":{\"outlinewidth\":0,\"ticks\":\"\"}},\"colorscale\":{\"diverging\":[[0,\"#8e0152\"],[0.1,\"#c51b7d\"],[0.2,\"#de77ae\"],[0.3,\"#f1b6da\"],[0.4,\"#fde0ef\"],[0.5,\"#f7f7f7\"],[0.6,\"#e6f5d0\"],[0.7,\"#b8e186\"],[0.8,\"#7fbc41\"],[0.9,\"#4d9221\"],[1,\"#276419\"]],\"sequential\":[[0.0,\"#0d0887\"],[0.1111111111111111,\"#46039f\"],[0.2222222222222222,\"#7201a8\"],[0.3333333333333333,\"#9c179e\"],[0.4444444444444444,\"#bd3786\"],[0.5555555555555556,\"#d8576b\"],[0.6666666666666666,\"#ed7953\"],[0.7777777777777778,\"#fb9f3a\"],[0.8888888888888888,\"#fdca26\"],[1.0,\"#f0f921\"]],\"sequentialminus\":[[0.0,\"#0d0887\"],[0.1111111111111111,\"#46039f\"],[0.2222222222222222,\"#7201a8\"],[0.3333333333333333,\"#9c179e\"],[0.4444444444444444,\"#bd3786\"],[0.5555555555555556,\"#d8576b\"],[0.6666666666666666,\"#ed7953\"],[0.7777777777777778,\"#fb9f3a\"],[0.8888888888888888,\"#fdca26\"],[1.0,\"#f0f921\"]]},\"colorway\":[\"#636efa\",\"#EF553B\",\"#00cc96\",\"#ab63fa\",\"#FFA15A\",\"#19d3f3\",\"#FF6692\",\"#B6E880\",\"#FF97FF\",\"#FECB52\"],\"font\":{\"color\":\"#2a3f5f\"},\"geo\":{\"bgcolor\":\"white\",\"lakecolor\":\"white\",\"landcolor\":\"#E5ECF6\",\"showlakes\":true,\"showland\":true,\"subunitcolor\":\"white\"},\"hoverlabel\":{\"align\":\"left\"},\"hovermode\":\"closest\",\"mapbox\":{\"style\":\"light\"},\"paper_bgcolor\":\"white\",\"plot_bgcolor\":\"#E5ECF6\",\"polar\":{\"angularaxis\":{\"gridcolor\":\"white\",\"linecolor\":\"white\",\"ticks\":\"\"},\"bgcolor\":\"#E5ECF6\",\"radialaxis\":{\"gridcolor\":\"white\",\"linecolor\":\"white\",\"ticks\":\"\"}},\"scene\":{\"xaxis\":{\"backgroundcolor\":\"#E5ECF6\",\"gridcolor\":\"white\",\"gridwidth\":2,\"linecolor\":\"white\",\"showbackground\":true,\"ticks\":\"\",\"zerolinecolor\":\"white\"},\"yaxis\":{\"backgroundcolor\":\"#E5ECF6\",\"gridcolor\":\"white\",\"gridwidth\":2,\"linecolor\":\"white\",\"showbackground\":true,\"ticks\":\"\",\"zerolinecolor\":\"white\"},\"zaxis\":{\"backgroundcolor\":\"#E5ECF6\",\"gridcolor\":\"white\",\"gridwidth\":2,\"linecolor\":\"white\",\"showbackground\":true,\"ticks\":\"\",\"zerolinecolor\":\"white\"}},\"shapedefaults\":{\"line\":{\"color\":\"#2a3f5f\"}},\"ternary\":{\"aaxis\":{\"gridcolor\":\"white\",\"linecolor\":\"white\",\"ticks\":\"\"},\"baxis\":{\"gridcolor\":\"white\",\"linecolor\":\"white\",\"ticks\":\"\"},\"bgcolor\":\"#E5ECF6\",\"caxis\":{\"gridcolor\":\"white\",\"linecolor\":\"white\",\"ticks\":\"\"}},\"title\":{\"x\":0.05},\"xaxis\":{\"automargin\":true,\"gridcolor\":\"white\",\"linecolor\":\"white\",\"ticks\":\"\",\"title\":{\"standoff\":15},\"zerolinecolor\":\"white\",\"zerolinewidth\":2},\"yaxis\":{\"automargin\":true,\"gridcolor\":\"white\",\"linecolor\":\"white\",\"ticks\":\"\",\"title\":{\"standoff\":15},\"zerolinecolor\":\"white\",\"zerolinewidth\":2}}},\"title\":{\"font\":{\"color\":\"#4D5663\"}},\"xaxis\":{\"gridcolor\":\"#E1E5ED\",\"showgrid\":true,\"tickfont\":{\"color\":\"#4D5663\"},\"title\":{\"font\":{\"color\":\"#4D5663\"},\"text\":\"\"},\"zerolinecolor\":\"#E1E5ED\"},\"yaxis\":{\"gridcolor\":\"#E1E5ED\",\"showgrid\":true,\"tickfont\":{\"color\":\"#4D5663\"},\"title\":{\"font\":{\"color\":\"#4D5663\"},\"text\":\"\"},\"zerolinecolor\":\"#E1E5ED\"}},                        {\"showLink\": true, \"linkText\": \"Export to plot.ly\", \"plotlyServerURL\": \"https://plot.ly\", \"responsive\": true}                    ).then(function(){\n",
       "                            \n",
       "var gd = document.getElementById('00455a4e-9461-408e-a095-89ec09b08cca');\n",
       "var x = new MutationObserver(function (mutations, observer) {{\n",
       "        var display = window.getComputedStyle(gd).display;\n",
       "        if (!display || display === 'none') {{\n",
       "            console.log([gd, 'removed!']);\n",
       "            Plotly.purge(gd);\n",
       "            observer.disconnect();\n",
       "        }}\n",
       "}});\n",
       "\n",
       "// Listen for the removal of the full notebook cells\n",
       "var notebookContainer = gd.closest('#notebook-container');\n",
       "if (notebookContainer) {{\n",
       "    x.observe(notebookContainer, {childList: true});\n",
       "}}\n",
       "\n",
       "// Listen for the clearing of the current output cell\n",
       "var outputEl = gd.closest('.output');\n",
       "if (outputEl) {{\n",
       "    x.observe(outputEl, {childList: true});\n",
       "}}\n",
       "\n",
       "                        })                };                });            </script>        </div>"
      ]
     },
     "metadata": {},
     "output_type": "display_data"
    }
   ],
   "source": [
    "df.iplot()\n",
    "#this makes above plot interactivre"
   ]
  },
  {
   "cell_type": "markdown",
   "metadata": {},
   "source": [
    "#SCATTERPLOT"
   ]
  },
  {
   "cell_type": "code",
   "execution_count": 17,
   "metadata": {},
   "outputs": [
    {
     "data": {
      "application/vnd.plotly.v1+json": {
       "config": {
        "linkText": "Export to plot.ly",
        "plotlyServerURL": "https://plot.ly",
        "showLink": true
       },
       "data": [
        {
         "line": {
          "color": "rgba(255, 153, 51, 1.0)",
          "dash": "solid",
          "shape": "linear",
          "width": 1.3
         },
         "mode": "lines",
         "name": "B",
         "text": "",
         "type": "scatter",
         "x": [
          -0.6237268104686525,
          1.274572752369918,
          1.2855856084667923,
          0.4780921393755692,
          0.34494324406716476,
          -0.6405949323178967,
          -0.23348553233512562,
          0.17813370617579363,
          -0.7673268343683513,
          0.6579796347779423,
          0.09150439440134266,
          -0.3202194087654672,
          -0.7198822372283044,
          -0.03040259488005372,
          1.130130891132435,
          -1.3944379204410033,
          1.8055147559922298,
          -1.9857070195145679,
          1.4470767837214011,
          1.2874355830663946,
          0.696433594308047,
          2.404825719871125,
          -0.9623858314433245,
          -0.1859132142492279,
          0.03170213208913351,
          0.5002634060080197,
          1.4787083705078896,
          0.7458816130279491,
          0.3594135831219899,
          -1.2275883098721305,
          -0.03238291414533404,
          -0.15198417429647754,
          -0.8830153029958461,
          -0.8132224851313794,
          -2.0501610155245906,
          -0.9041899883149012,
          2.178167424721099,
          0.286622228389137,
          1.075573863823262,
          -0.4356904238305605,
          -1.0651750876267727,
          -0.0028056950631574658,
          -0.49382633776458307,
          -1.3147464271320535,
          -0.08989013325516612,
          -0.7042291895417842,
          -0.36343888412820746,
          0.333312240811528,
          1.0876510344408286,
          -0.3062546243441566,
          0.5660085135696187,
          0.09294517023552899,
          0.1894174818824277,
          0.04080039057265011,
          1.9675892925427019,
          -1.301768091588984,
          1.3152747666891773,
          0.005160869784432948,
          1.462520086249543,
          0.23850033626882083,
          0.8276718102531865,
          0.7004459393770409,
          0.19721486412706607,
          1.352394056400812,
          -1.5484023795619661,
          -0.22703321615797586,
          0.38543157811012896,
          0.8648956881612846,
          0.11555970092743817,
          0.24377042358437961,
          -0.8907934979824191,
          -0.41298058093838874,
          0.08772890141429637,
          -0.07976871061424609,
          0.2956966147265074,
          0.004051788741819877,
          -0.21232058552429844,
          -1.644617144448248,
          0.9817767416421945,
          -0.4355636648375388,
          -0.5358800350351557,
          0.2686898414179787,
          -1.7857386894657712,
          0.16534194227863233,
          1.6237878884244912,
          0.940607078882582,
          0.21777436019505278,
          1.2675257874568937,
          -1.1924645795499464,
          -1.0024359732972687,
          -0.9049278274834502,
          2.1992791381619425,
          -0.10497720054729366,
          -0.4905151303510943,
          -0.6425792587255553,
          0.5835158348888574,
          0.1531735913687253,
          1.2239349589688424,
          -0.03703710548486216,
          -0.2791575018844413
         ],
         "y": [
          -0.5992388419623923,
          -1.2575663073827104,
          -0.8681566591353996,
          0.7064138445219653,
          1.220897910921186,
          -0.23843854751836333,
          0.08125458191418496,
          0.6318372109145688,
          0.942548979492198,
          2.320690008639898,
          0.9429607967997387,
          -0.29015875072636427,
          -1.6581592775086522,
          -0.5477094864769935,
          0.767637407871621,
          0.8881186319337434,
          -0.0643904961411898,
          0.9534947040026447,
          -0.16606079238591212,
          0.8603565522937122,
          -0.1580619170545945,
          -0.9653181739405476,
          -0.46734405290943015,
          -1.2911496712539385,
          -0.3972209893445163,
          0.3488214938166166,
          -0.21314454951927206,
          -0.4643598207233956,
          -0.6800305118874078,
          1.2935401582290862,
          1.4361191337703871,
          -1.171567562342489,
          -0.3670068378880621,
          -1.1054577060016664,
          -0.32064801789654274,
          -0.9363926236184297,
          -0.49477094246354825,
          0.812902698213528,
          0.8537832422872523,
          0.094645992888546,
          -0.6994604522634928,
          1.0646035005563184,
          0.8307767553268849,
          1.0896853366905155,
          0.2714464628285896,
          -0.5975426618874339,
          -0.16416177611486993,
          0.2877218711794547,
          -0.3781742013756831,
          0.48423209173426957,
          -1.180883461347576,
          -1.8120680649992547,
          0.8284734124830162,
          -1.1731129598625227,
          1.9801720805279264,
          1.2077623807204638,
          -0.13553492849395918,
          0.7018366579992051,
          0.23908836812693707,
          1.1711500013199105,
          0.3263080964506011,
          1.9688996231734426,
          0.18021053530810413,
          0.5375796221576216,
          1.5367208473457563,
          0.3513982997315935,
          0.9127172041851135,
          -2.230666072053595,
          -0.019961815619791035,
          -0.30999675103673313,
          -0.8464020313819279,
          -0.2533707794233801,
          0.4896143033570152,
          1.46020941716156,
          1.2582452885624982,
          -0.029048024548711818,
          -1.946621422012302,
          0.9796055069317009,
          1.7544797453482672,
          -0.9410046003128689,
          0.05471156767059863,
          1.8503324453552497,
          1.5160510298296148,
          -0.18408876323412576,
          -0.997566364283777,
          -1.2160719819895915,
          -0.015213805397837697,
          -1.3869063045253367,
          -0.3214812075644415,
          -0.27298008360765874,
          -0.424922336179347,
          -0.43640971391586103,
          0.24837444626450242,
          -0.5897616186959732,
          -0.966304223117495,
          0.3293893994072471,
          -1.126034549538087,
          0.7201557873948927,
          0.19646839542118436,
          -0.8793115217131454
         ]
        }
       ],
       "layout": {
        "legend": {
         "bgcolor": "#F5F6F9",
         "font": {
          "color": "#4D5663"
         }
        },
        "paper_bgcolor": "#F5F6F9",
        "plot_bgcolor": "#F5F6F9",
        "template": {
         "data": {
          "bar": [
           {
            "error_x": {
             "color": "#2a3f5f"
            },
            "error_y": {
             "color": "#2a3f5f"
            },
            "marker": {
             "line": {
              "color": "#E5ECF6",
              "width": 0.5
             },
             "pattern": {
              "fillmode": "overlay",
              "size": 10,
              "solidity": 0.2
             }
            },
            "type": "bar"
           }
          ],
          "barpolar": [
           {
            "marker": {
             "line": {
              "color": "#E5ECF6",
              "width": 0.5
             },
             "pattern": {
              "fillmode": "overlay",
              "size": 10,
              "solidity": 0.2
             }
            },
            "type": "barpolar"
           }
          ],
          "carpet": [
           {
            "aaxis": {
             "endlinecolor": "#2a3f5f",
             "gridcolor": "white",
             "linecolor": "white",
             "minorgridcolor": "white",
             "startlinecolor": "#2a3f5f"
            },
            "baxis": {
             "endlinecolor": "#2a3f5f",
             "gridcolor": "white",
             "linecolor": "white",
             "minorgridcolor": "white",
             "startlinecolor": "#2a3f5f"
            },
            "type": "carpet"
           }
          ],
          "choropleth": [
           {
            "colorbar": {
             "outlinewidth": 0,
             "ticks": ""
            },
            "type": "choropleth"
           }
          ],
          "contour": [
           {
            "colorbar": {
             "outlinewidth": 0,
             "ticks": ""
            },
            "colorscale": [
             [
              0,
              "#0d0887"
             ],
             [
              0.1111111111111111,
              "#46039f"
             ],
             [
              0.2222222222222222,
              "#7201a8"
             ],
             [
              0.3333333333333333,
              "#9c179e"
             ],
             [
              0.4444444444444444,
              "#bd3786"
             ],
             [
              0.5555555555555556,
              "#d8576b"
             ],
             [
              0.6666666666666666,
              "#ed7953"
             ],
             [
              0.7777777777777778,
              "#fb9f3a"
             ],
             [
              0.8888888888888888,
              "#fdca26"
             ],
             [
              1,
              "#f0f921"
             ]
            ],
            "type": "contour"
           }
          ],
          "contourcarpet": [
           {
            "colorbar": {
             "outlinewidth": 0,
             "ticks": ""
            },
            "type": "contourcarpet"
           }
          ],
          "heatmap": [
           {
            "colorbar": {
             "outlinewidth": 0,
             "ticks": ""
            },
            "colorscale": [
             [
              0,
              "#0d0887"
             ],
             [
              0.1111111111111111,
              "#46039f"
             ],
             [
              0.2222222222222222,
              "#7201a8"
             ],
             [
              0.3333333333333333,
              "#9c179e"
             ],
             [
              0.4444444444444444,
              "#bd3786"
             ],
             [
              0.5555555555555556,
              "#d8576b"
             ],
             [
              0.6666666666666666,
              "#ed7953"
             ],
             [
              0.7777777777777778,
              "#fb9f3a"
             ],
             [
              0.8888888888888888,
              "#fdca26"
             ],
             [
              1,
              "#f0f921"
             ]
            ],
            "type": "heatmap"
           }
          ],
          "heatmapgl": [
           {
            "colorbar": {
             "outlinewidth": 0,
             "ticks": ""
            },
            "colorscale": [
             [
              0,
              "#0d0887"
             ],
             [
              0.1111111111111111,
              "#46039f"
             ],
             [
              0.2222222222222222,
              "#7201a8"
             ],
             [
              0.3333333333333333,
              "#9c179e"
             ],
             [
              0.4444444444444444,
              "#bd3786"
             ],
             [
              0.5555555555555556,
              "#d8576b"
             ],
             [
              0.6666666666666666,
              "#ed7953"
             ],
             [
              0.7777777777777778,
              "#fb9f3a"
             ],
             [
              0.8888888888888888,
              "#fdca26"
             ],
             [
              1,
              "#f0f921"
             ]
            ],
            "type": "heatmapgl"
           }
          ],
          "histogram": [
           {
            "marker": {
             "pattern": {
              "fillmode": "overlay",
              "size": 10,
              "solidity": 0.2
             }
            },
            "type": "histogram"
           }
          ],
          "histogram2d": [
           {
            "colorbar": {
             "outlinewidth": 0,
             "ticks": ""
            },
            "colorscale": [
             [
              0,
              "#0d0887"
             ],
             [
              0.1111111111111111,
              "#46039f"
             ],
             [
              0.2222222222222222,
              "#7201a8"
             ],
             [
              0.3333333333333333,
              "#9c179e"
             ],
             [
              0.4444444444444444,
              "#bd3786"
             ],
             [
              0.5555555555555556,
              "#d8576b"
             ],
             [
              0.6666666666666666,
              "#ed7953"
             ],
             [
              0.7777777777777778,
              "#fb9f3a"
             ],
             [
              0.8888888888888888,
              "#fdca26"
             ],
             [
              1,
              "#f0f921"
             ]
            ],
            "type": "histogram2d"
           }
          ],
          "histogram2dcontour": [
           {
            "colorbar": {
             "outlinewidth": 0,
             "ticks": ""
            },
            "colorscale": [
             [
              0,
              "#0d0887"
             ],
             [
              0.1111111111111111,
              "#46039f"
             ],
             [
              0.2222222222222222,
              "#7201a8"
             ],
             [
              0.3333333333333333,
              "#9c179e"
             ],
             [
              0.4444444444444444,
              "#bd3786"
             ],
             [
              0.5555555555555556,
              "#d8576b"
             ],
             [
              0.6666666666666666,
              "#ed7953"
             ],
             [
              0.7777777777777778,
              "#fb9f3a"
             ],
             [
              0.8888888888888888,
              "#fdca26"
             ],
             [
              1,
              "#f0f921"
             ]
            ],
            "type": "histogram2dcontour"
           }
          ],
          "mesh3d": [
           {
            "colorbar": {
             "outlinewidth": 0,
             "ticks": ""
            },
            "type": "mesh3d"
           }
          ],
          "parcoords": [
           {
            "line": {
             "colorbar": {
              "outlinewidth": 0,
              "ticks": ""
             }
            },
            "type": "parcoords"
           }
          ],
          "pie": [
           {
            "automargin": true,
            "type": "pie"
           }
          ],
          "scatter": [
           {
            "fillpattern": {
             "fillmode": "overlay",
             "size": 10,
             "solidity": 0.2
            },
            "type": "scatter"
           }
          ],
          "scatter3d": [
           {
            "line": {
             "colorbar": {
              "outlinewidth": 0,
              "ticks": ""
             }
            },
            "marker": {
             "colorbar": {
              "outlinewidth": 0,
              "ticks": ""
             }
            },
            "type": "scatter3d"
           }
          ],
          "scattercarpet": [
           {
            "marker": {
             "colorbar": {
              "outlinewidth": 0,
              "ticks": ""
             }
            },
            "type": "scattercarpet"
           }
          ],
          "scattergeo": [
           {
            "marker": {
             "colorbar": {
              "outlinewidth": 0,
              "ticks": ""
             }
            },
            "type": "scattergeo"
           }
          ],
          "scattergl": [
           {
            "marker": {
             "colorbar": {
              "outlinewidth": 0,
              "ticks": ""
             }
            },
            "type": "scattergl"
           }
          ],
          "scattermapbox": [
           {
            "marker": {
             "colorbar": {
              "outlinewidth": 0,
              "ticks": ""
             }
            },
            "type": "scattermapbox"
           }
          ],
          "scatterpolar": [
           {
            "marker": {
             "colorbar": {
              "outlinewidth": 0,
              "ticks": ""
             }
            },
            "type": "scatterpolar"
           }
          ],
          "scatterpolargl": [
           {
            "marker": {
             "colorbar": {
              "outlinewidth": 0,
              "ticks": ""
             }
            },
            "type": "scatterpolargl"
           }
          ],
          "scatterternary": [
           {
            "marker": {
             "colorbar": {
              "outlinewidth": 0,
              "ticks": ""
             }
            },
            "type": "scatterternary"
           }
          ],
          "surface": [
           {
            "colorbar": {
             "outlinewidth": 0,
             "ticks": ""
            },
            "colorscale": [
             [
              0,
              "#0d0887"
             ],
             [
              0.1111111111111111,
              "#46039f"
             ],
             [
              0.2222222222222222,
              "#7201a8"
             ],
             [
              0.3333333333333333,
              "#9c179e"
             ],
             [
              0.4444444444444444,
              "#bd3786"
             ],
             [
              0.5555555555555556,
              "#d8576b"
             ],
             [
              0.6666666666666666,
              "#ed7953"
             ],
             [
              0.7777777777777778,
              "#fb9f3a"
             ],
             [
              0.8888888888888888,
              "#fdca26"
             ],
             [
              1,
              "#f0f921"
             ]
            ],
            "type": "surface"
           }
          ],
          "table": [
           {
            "cells": {
             "fill": {
              "color": "#EBF0F8"
             },
             "line": {
              "color": "white"
             }
            },
            "header": {
             "fill": {
              "color": "#C8D4E3"
             },
             "line": {
              "color": "white"
             }
            },
            "type": "table"
           }
          ]
         },
         "layout": {
          "annotationdefaults": {
           "arrowcolor": "#2a3f5f",
           "arrowhead": 0,
           "arrowwidth": 1
          },
          "autotypenumbers": "strict",
          "coloraxis": {
           "colorbar": {
            "outlinewidth": 0,
            "ticks": ""
           }
          },
          "colorscale": {
           "diverging": [
            [
             0,
             "#8e0152"
            ],
            [
             0.1,
             "#c51b7d"
            ],
            [
             0.2,
             "#de77ae"
            ],
            [
             0.3,
             "#f1b6da"
            ],
            [
             0.4,
             "#fde0ef"
            ],
            [
             0.5,
             "#f7f7f7"
            ],
            [
             0.6,
             "#e6f5d0"
            ],
            [
             0.7,
             "#b8e186"
            ],
            [
             0.8,
             "#7fbc41"
            ],
            [
             0.9,
             "#4d9221"
            ],
            [
             1,
             "#276419"
            ]
           ],
           "sequential": [
            [
             0,
             "#0d0887"
            ],
            [
             0.1111111111111111,
             "#46039f"
            ],
            [
             0.2222222222222222,
             "#7201a8"
            ],
            [
             0.3333333333333333,
             "#9c179e"
            ],
            [
             0.4444444444444444,
             "#bd3786"
            ],
            [
             0.5555555555555556,
             "#d8576b"
            ],
            [
             0.6666666666666666,
             "#ed7953"
            ],
            [
             0.7777777777777778,
             "#fb9f3a"
            ],
            [
             0.8888888888888888,
             "#fdca26"
            ],
            [
             1,
             "#f0f921"
            ]
           ],
           "sequentialminus": [
            [
             0,
             "#0d0887"
            ],
            [
             0.1111111111111111,
             "#46039f"
            ],
            [
             0.2222222222222222,
             "#7201a8"
            ],
            [
             0.3333333333333333,
             "#9c179e"
            ],
            [
             0.4444444444444444,
             "#bd3786"
            ],
            [
             0.5555555555555556,
             "#d8576b"
            ],
            [
             0.6666666666666666,
             "#ed7953"
            ],
            [
             0.7777777777777778,
             "#fb9f3a"
            ],
            [
             0.8888888888888888,
             "#fdca26"
            ],
            [
             1,
             "#f0f921"
            ]
           ]
          },
          "colorway": [
           "#636efa",
           "#EF553B",
           "#00cc96",
           "#ab63fa",
           "#FFA15A",
           "#19d3f3",
           "#FF6692",
           "#B6E880",
           "#FF97FF",
           "#FECB52"
          ],
          "font": {
           "color": "#2a3f5f"
          },
          "geo": {
           "bgcolor": "white",
           "lakecolor": "white",
           "landcolor": "#E5ECF6",
           "showlakes": true,
           "showland": true,
           "subunitcolor": "white"
          },
          "hoverlabel": {
           "align": "left"
          },
          "hovermode": "closest",
          "mapbox": {
           "style": "light"
          },
          "paper_bgcolor": "white",
          "plot_bgcolor": "#E5ECF6",
          "polar": {
           "angularaxis": {
            "gridcolor": "white",
            "linecolor": "white",
            "ticks": ""
           },
           "bgcolor": "#E5ECF6",
           "radialaxis": {
            "gridcolor": "white",
            "linecolor": "white",
            "ticks": ""
           }
          },
          "scene": {
           "xaxis": {
            "backgroundcolor": "#E5ECF6",
            "gridcolor": "white",
            "gridwidth": 2,
            "linecolor": "white",
            "showbackground": true,
            "ticks": "",
            "zerolinecolor": "white"
           },
           "yaxis": {
            "backgroundcolor": "#E5ECF6",
            "gridcolor": "white",
            "gridwidth": 2,
            "linecolor": "white",
            "showbackground": true,
            "ticks": "",
            "zerolinecolor": "white"
           },
           "zaxis": {
            "backgroundcolor": "#E5ECF6",
            "gridcolor": "white",
            "gridwidth": 2,
            "linecolor": "white",
            "showbackground": true,
            "ticks": "",
            "zerolinecolor": "white"
           }
          },
          "shapedefaults": {
           "line": {
            "color": "#2a3f5f"
           }
          },
          "ternary": {
           "aaxis": {
            "gridcolor": "white",
            "linecolor": "white",
            "ticks": ""
           },
           "baxis": {
            "gridcolor": "white",
            "linecolor": "white",
            "ticks": ""
           },
           "bgcolor": "#E5ECF6",
           "caxis": {
            "gridcolor": "white",
            "linecolor": "white",
            "ticks": ""
           }
          },
          "title": {
           "x": 0.05
          },
          "xaxis": {
           "automargin": true,
           "gridcolor": "white",
           "linecolor": "white",
           "ticks": "",
           "title": {
            "standoff": 15
           },
           "zerolinecolor": "white",
           "zerolinewidth": 2
          },
          "yaxis": {
           "automargin": true,
           "gridcolor": "white",
           "linecolor": "white",
           "ticks": "",
           "title": {
            "standoff": 15
           },
           "zerolinecolor": "white",
           "zerolinewidth": 2
          }
         }
        },
        "title": {
         "font": {
          "color": "#4D5663"
         }
        },
        "xaxis": {
         "gridcolor": "#E1E5ED",
         "showgrid": true,
         "tickfont": {
          "color": "#4D5663"
         },
         "title": {
          "font": {
           "color": "#4D5663"
          },
          "text": ""
         },
         "zerolinecolor": "#E1E5ED"
        },
        "yaxis": {
         "gridcolor": "#E1E5ED",
         "showgrid": true,
         "tickfont": {
          "color": "#4D5663"
         },
         "title": {
          "font": {
           "color": "#4D5663"
          },
          "text": ""
         },
         "zerolinecolor": "#E1E5ED"
        }
       }
      },
      "text/html": [
       "<div>                            <div id=\"b3a9bf0b-92db-4801-bf1e-87bebedf970c\" class=\"plotly-graph-div\" style=\"height:525px; width:100%;\"></div>            <script type=\"text/javascript\">                require([\"plotly\"], function(Plotly) {                    window.PLOTLYENV=window.PLOTLYENV || {};\n",
       "                    window.PLOTLYENV.BASE_URL='https://plot.ly';                                    if (document.getElementById(\"b3a9bf0b-92db-4801-bf1e-87bebedf970c\")) {                    Plotly.newPlot(                        \"b3a9bf0b-92db-4801-bf1e-87bebedf970c\",                        [{\"line\":{\"color\":\"rgba(255, 153, 51, 1.0)\",\"dash\":\"solid\",\"shape\":\"linear\",\"width\":1.3},\"mode\":\"lines\",\"name\":\"B\",\"text\":\"\",\"x\":[-0.6237268104686525,1.274572752369918,1.2855856084667923,0.4780921393755692,0.34494324406716476,-0.6405949323178967,-0.23348553233512562,0.17813370617579363,-0.7673268343683513,0.6579796347779423,0.09150439440134266,-0.3202194087654672,-0.7198822372283044,-0.03040259488005372,1.130130891132435,-1.3944379204410033,1.8055147559922298,-1.9857070195145679,1.4470767837214011,1.2874355830663946,0.696433594308047,2.404825719871125,-0.9623858314433245,-0.1859132142492279,0.03170213208913351,0.5002634060080197,1.4787083705078896,0.7458816130279491,0.3594135831219899,-1.2275883098721305,-0.03238291414533404,-0.15198417429647754,-0.8830153029958461,-0.8132224851313794,-2.0501610155245906,-0.9041899883149012,2.178167424721099,0.286622228389137,1.075573863823262,-0.4356904238305605,-1.0651750876267727,-0.0028056950631574658,-0.49382633776458307,-1.3147464271320535,-0.08989013325516612,-0.7042291895417842,-0.36343888412820746,0.333312240811528,1.0876510344408286,-0.3062546243441566,0.5660085135696187,0.09294517023552899,0.1894174818824277,0.04080039057265011,1.9675892925427019,-1.301768091588984,1.3152747666891773,0.005160869784432948,1.462520086249543,0.23850033626882083,0.8276718102531865,0.7004459393770409,0.19721486412706607,1.352394056400812,-1.5484023795619661,-0.22703321615797586,0.38543157811012896,0.8648956881612846,0.11555970092743817,0.24377042358437961,-0.8907934979824191,-0.41298058093838874,0.08772890141429637,-0.07976871061424609,0.2956966147265074,0.004051788741819877,-0.21232058552429844,-1.644617144448248,0.9817767416421945,-0.4355636648375388,-0.5358800350351557,0.2686898414179787,-1.7857386894657712,0.16534194227863233,1.6237878884244912,0.940607078882582,0.21777436019505278,1.2675257874568937,-1.1924645795499464,-1.0024359732972687,-0.9049278274834502,2.1992791381619425,-0.10497720054729366,-0.4905151303510943,-0.6425792587255553,0.5835158348888574,0.1531735913687253,1.2239349589688424,-0.03703710548486216,-0.2791575018844413],\"y\":[-0.5992388419623923,-1.2575663073827104,-0.8681566591353996,0.7064138445219653,1.220897910921186,-0.23843854751836333,0.08125458191418496,0.6318372109145688,0.942548979492198,2.320690008639898,0.9429607967997387,-0.29015875072636427,-1.6581592775086522,-0.5477094864769935,0.767637407871621,0.8881186319337434,-0.0643904961411898,0.9534947040026447,-0.16606079238591212,0.8603565522937122,-0.1580619170545945,-0.9653181739405476,-0.46734405290943015,-1.2911496712539385,-0.3972209893445163,0.3488214938166166,-0.21314454951927206,-0.4643598207233956,-0.6800305118874078,1.2935401582290862,1.4361191337703871,-1.171567562342489,-0.3670068378880621,-1.1054577060016664,-0.32064801789654274,-0.9363926236184297,-0.49477094246354825,0.812902698213528,0.8537832422872523,0.094645992888546,-0.6994604522634928,1.0646035005563184,0.8307767553268849,1.0896853366905155,0.2714464628285896,-0.5975426618874339,-0.16416177611486993,0.2877218711794547,-0.3781742013756831,0.48423209173426957,-1.180883461347576,-1.8120680649992547,0.8284734124830162,-1.1731129598625227,1.9801720805279264,1.2077623807204638,-0.13553492849395918,0.7018366579992051,0.23908836812693707,1.1711500013199105,0.3263080964506011,1.9688996231734426,0.18021053530810413,0.5375796221576216,1.5367208473457563,0.3513982997315935,0.9127172041851135,-2.230666072053595,-0.019961815619791035,-0.30999675103673313,-0.8464020313819279,-0.2533707794233801,0.4896143033570152,1.46020941716156,1.2582452885624982,-0.029048024548711818,-1.946621422012302,0.9796055069317009,1.7544797453482672,-0.9410046003128689,0.05471156767059863,1.8503324453552497,1.5160510298296148,-0.18408876323412576,-0.997566364283777,-1.2160719819895915,-0.015213805397837697,-1.3869063045253367,-0.3214812075644415,-0.27298008360765874,-0.424922336179347,-0.43640971391586103,0.24837444626450242,-0.5897616186959732,-0.966304223117495,0.3293893994072471,-1.126034549538087,0.7201557873948927,0.19646839542118436,-0.8793115217131454],\"type\":\"scatter\"}],                        {\"legend\":{\"bgcolor\":\"#F5F6F9\",\"font\":{\"color\":\"#4D5663\"}},\"paper_bgcolor\":\"#F5F6F9\",\"plot_bgcolor\":\"#F5F6F9\",\"template\":{\"data\":{\"barpolar\":[{\"marker\":{\"line\":{\"color\":\"#E5ECF6\",\"width\":0.5},\"pattern\":{\"fillmode\":\"overlay\",\"size\":10,\"solidity\":0.2}},\"type\":\"barpolar\"}],\"bar\":[{\"error_x\":{\"color\":\"#2a3f5f\"},\"error_y\":{\"color\":\"#2a3f5f\"},\"marker\":{\"line\":{\"color\":\"#E5ECF6\",\"width\":0.5},\"pattern\":{\"fillmode\":\"overlay\",\"size\":10,\"solidity\":0.2}},\"type\":\"bar\"}],\"carpet\":[{\"aaxis\":{\"endlinecolor\":\"#2a3f5f\",\"gridcolor\":\"white\",\"linecolor\":\"white\",\"minorgridcolor\":\"white\",\"startlinecolor\":\"#2a3f5f\"},\"baxis\":{\"endlinecolor\":\"#2a3f5f\",\"gridcolor\":\"white\",\"linecolor\":\"white\",\"minorgridcolor\":\"white\",\"startlinecolor\":\"#2a3f5f\"},\"type\":\"carpet\"}],\"choropleth\":[{\"colorbar\":{\"outlinewidth\":0,\"ticks\":\"\"},\"type\":\"choropleth\"}],\"contourcarpet\":[{\"colorbar\":{\"outlinewidth\":0,\"ticks\":\"\"},\"type\":\"contourcarpet\"}],\"contour\":[{\"colorbar\":{\"outlinewidth\":0,\"ticks\":\"\"},\"colorscale\":[[0.0,\"#0d0887\"],[0.1111111111111111,\"#46039f\"],[0.2222222222222222,\"#7201a8\"],[0.3333333333333333,\"#9c179e\"],[0.4444444444444444,\"#bd3786\"],[0.5555555555555556,\"#d8576b\"],[0.6666666666666666,\"#ed7953\"],[0.7777777777777778,\"#fb9f3a\"],[0.8888888888888888,\"#fdca26\"],[1.0,\"#f0f921\"]],\"type\":\"contour\"}],\"heatmapgl\":[{\"colorbar\":{\"outlinewidth\":0,\"ticks\":\"\"},\"colorscale\":[[0.0,\"#0d0887\"],[0.1111111111111111,\"#46039f\"],[0.2222222222222222,\"#7201a8\"],[0.3333333333333333,\"#9c179e\"],[0.4444444444444444,\"#bd3786\"],[0.5555555555555556,\"#d8576b\"],[0.6666666666666666,\"#ed7953\"],[0.7777777777777778,\"#fb9f3a\"],[0.8888888888888888,\"#fdca26\"],[1.0,\"#f0f921\"]],\"type\":\"heatmapgl\"}],\"heatmap\":[{\"colorbar\":{\"outlinewidth\":0,\"ticks\":\"\"},\"colorscale\":[[0.0,\"#0d0887\"],[0.1111111111111111,\"#46039f\"],[0.2222222222222222,\"#7201a8\"],[0.3333333333333333,\"#9c179e\"],[0.4444444444444444,\"#bd3786\"],[0.5555555555555556,\"#d8576b\"],[0.6666666666666666,\"#ed7953\"],[0.7777777777777778,\"#fb9f3a\"],[0.8888888888888888,\"#fdca26\"],[1.0,\"#f0f921\"]],\"type\":\"heatmap\"}],\"histogram2dcontour\":[{\"colorbar\":{\"outlinewidth\":0,\"ticks\":\"\"},\"colorscale\":[[0.0,\"#0d0887\"],[0.1111111111111111,\"#46039f\"],[0.2222222222222222,\"#7201a8\"],[0.3333333333333333,\"#9c179e\"],[0.4444444444444444,\"#bd3786\"],[0.5555555555555556,\"#d8576b\"],[0.6666666666666666,\"#ed7953\"],[0.7777777777777778,\"#fb9f3a\"],[0.8888888888888888,\"#fdca26\"],[1.0,\"#f0f921\"]],\"type\":\"histogram2dcontour\"}],\"histogram2d\":[{\"colorbar\":{\"outlinewidth\":0,\"ticks\":\"\"},\"colorscale\":[[0.0,\"#0d0887\"],[0.1111111111111111,\"#46039f\"],[0.2222222222222222,\"#7201a8\"],[0.3333333333333333,\"#9c179e\"],[0.4444444444444444,\"#bd3786\"],[0.5555555555555556,\"#d8576b\"],[0.6666666666666666,\"#ed7953\"],[0.7777777777777778,\"#fb9f3a\"],[0.8888888888888888,\"#fdca26\"],[1.0,\"#f0f921\"]],\"type\":\"histogram2d\"}],\"histogram\":[{\"marker\":{\"pattern\":{\"fillmode\":\"overlay\",\"size\":10,\"solidity\":0.2}},\"type\":\"histogram\"}],\"mesh3d\":[{\"colorbar\":{\"outlinewidth\":0,\"ticks\":\"\"},\"type\":\"mesh3d\"}],\"parcoords\":[{\"line\":{\"colorbar\":{\"outlinewidth\":0,\"ticks\":\"\"}},\"type\":\"parcoords\"}],\"pie\":[{\"automargin\":true,\"type\":\"pie\"}],\"scatter3d\":[{\"line\":{\"colorbar\":{\"outlinewidth\":0,\"ticks\":\"\"}},\"marker\":{\"colorbar\":{\"outlinewidth\":0,\"ticks\":\"\"}},\"type\":\"scatter3d\"}],\"scattercarpet\":[{\"marker\":{\"colorbar\":{\"outlinewidth\":0,\"ticks\":\"\"}},\"type\":\"scattercarpet\"}],\"scattergeo\":[{\"marker\":{\"colorbar\":{\"outlinewidth\":0,\"ticks\":\"\"}},\"type\":\"scattergeo\"}],\"scattergl\":[{\"marker\":{\"colorbar\":{\"outlinewidth\":0,\"ticks\":\"\"}},\"type\":\"scattergl\"}],\"scattermapbox\":[{\"marker\":{\"colorbar\":{\"outlinewidth\":0,\"ticks\":\"\"}},\"type\":\"scattermapbox\"}],\"scatterpolargl\":[{\"marker\":{\"colorbar\":{\"outlinewidth\":0,\"ticks\":\"\"}},\"type\":\"scatterpolargl\"}],\"scatterpolar\":[{\"marker\":{\"colorbar\":{\"outlinewidth\":0,\"ticks\":\"\"}},\"type\":\"scatterpolar\"}],\"scatter\":[{\"fillpattern\":{\"fillmode\":\"overlay\",\"size\":10,\"solidity\":0.2},\"type\":\"scatter\"}],\"scatterternary\":[{\"marker\":{\"colorbar\":{\"outlinewidth\":0,\"ticks\":\"\"}},\"type\":\"scatterternary\"}],\"surface\":[{\"colorbar\":{\"outlinewidth\":0,\"ticks\":\"\"},\"colorscale\":[[0.0,\"#0d0887\"],[0.1111111111111111,\"#46039f\"],[0.2222222222222222,\"#7201a8\"],[0.3333333333333333,\"#9c179e\"],[0.4444444444444444,\"#bd3786\"],[0.5555555555555556,\"#d8576b\"],[0.6666666666666666,\"#ed7953\"],[0.7777777777777778,\"#fb9f3a\"],[0.8888888888888888,\"#fdca26\"],[1.0,\"#f0f921\"]],\"type\":\"surface\"}],\"table\":[{\"cells\":{\"fill\":{\"color\":\"#EBF0F8\"},\"line\":{\"color\":\"white\"}},\"header\":{\"fill\":{\"color\":\"#C8D4E3\"},\"line\":{\"color\":\"white\"}},\"type\":\"table\"}]},\"layout\":{\"annotationdefaults\":{\"arrowcolor\":\"#2a3f5f\",\"arrowhead\":0,\"arrowwidth\":1},\"autotypenumbers\":\"strict\",\"coloraxis\":{\"colorbar\":{\"outlinewidth\":0,\"ticks\":\"\"}},\"colorscale\":{\"diverging\":[[0,\"#8e0152\"],[0.1,\"#c51b7d\"],[0.2,\"#de77ae\"],[0.3,\"#f1b6da\"],[0.4,\"#fde0ef\"],[0.5,\"#f7f7f7\"],[0.6,\"#e6f5d0\"],[0.7,\"#b8e186\"],[0.8,\"#7fbc41\"],[0.9,\"#4d9221\"],[1,\"#276419\"]],\"sequential\":[[0.0,\"#0d0887\"],[0.1111111111111111,\"#46039f\"],[0.2222222222222222,\"#7201a8\"],[0.3333333333333333,\"#9c179e\"],[0.4444444444444444,\"#bd3786\"],[0.5555555555555556,\"#d8576b\"],[0.6666666666666666,\"#ed7953\"],[0.7777777777777778,\"#fb9f3a\"],[0.8888888888888888,\"#fdca26\"],[1.0,\"#f0f921\"]],\"sequentialminus\":[[0.0,\"#0d0887\"],[0.1111111111111111,\"#46039f\"],[0.2222222222222222,\"#7201a8\"],[0.3333333333333333,\"#9c179e\"],[0.4444444444444444,\"#bd3786\"],[0.5555555555555556,\"#d8576b\"],[0.6666666666666666,\"#ed7953\"],[0.7777777777777778,\"#fb9f3a\"],[0.8888888888888888,\"#fdca26\"],[1.0,\"#f0f921\"]]},\"colorway\":[\"#636efa\",\"#EF553B\",\"#00cc96\",\"#ab63fa\",\"#FFA15A\",\"#19d3f3\",\"#FF6692\",\"#B6E880\",\"#FF97FF\",\"#FECB52\"],\"font\":{\"color\":\"#2a3f5f\"},\"geo\":{\"bgcolor\":\"white\",\"lakecolor\":\"white\",\"landcolor\":\"#E5ECF6\",\"showlakes\":true,\"showland\":true,\"subunitcolor\":\"white\"},\"hoverlabel\":{\"align\":\"left\"},\"hovermode\":\"closest\",\"mapbox\":{\"style\":\"light\"},\"paper_bgcolor\":\"white\",\"plot_bgcolor\":\"#E5ECF6\",\"polar\":{\"angularaxis\":{\"gridcolor\":\"white\",\"linecolor\":\"white\",\"ticks\":\"\"},\"bgcolor\":\"#E5ECF6\",\"radialaxis\":{\"gridcolor\":\"white\",\"linecolor\":\"white\",\"ticks\":\"\"}},\"scene\":{\"xaxis\":{\"backgroundcolor\":\"#E5ECF6\",\"gridcolor\":\"white\",\"gridwidth\":2,\"linecolor\":\"white\",\"showbackground\":true,\"ticks\":\"\",\"zerolinecolor\":\"white\"},\"yaxis\":{\"backgroundcolor\":\"#E5ECF6\",\"gridcolor\":\"white\",\"gridwidth\":2,\"linecolor\":\"white\",\"showbackground\":true,\"ticks\":\"\",\"zerolinecolor\":\"white\"},\"zaxis\":{\"backgroundcolor\":\"#E5ECF6\",\"gridcolor\":\"white\",\"gridwidth\":2,\"linecolor\":\"white\",\"showbackground\":true,\"ticks\":\"\",\"zerolinecolor\":\"white\"}},\"shapedefaults\":{\"line\":{\"color\":\"#2a3f5f\"}},\"ternary\":{\"aaxis\":{\"gridcolor\":\"white\",\"linecolor\":\"white\",\"ticks\":\"\"},\"baxis\":{\"gridcolor\":\"white\",\"linecolor\":\"white\",\"ticks\":\"\"},\"bgcolor\":\"#E5ECF6\",\"caxis\":{\"gridcolor\":\"white\",\"linecolor\":\"white\",\"ticks\":\"\"}},\"title\":{\"x\":0.05},\"xaxis\":{\"automargin\":true,\"gridcolor\":\"white\",\"linecolor\":\"white\",\"ticks\":\"\",\"title\":{\"standoff\":15},\"zerolinecolor\":\"white\",\"zerolinewidth\":2},\"yaxis\":{\"automargin\":true,\"gridcolor\":\"white\",\"linecolor\":\"white\",\"ticks\":\"\",\"title\":{\"standoff\":15},\"zerolinecolor\":\"white\",\"zerolinewidth\":2}}},\"title\":{\"font\":{\"color\":\"#4D5663\"}},\"xaxis\":{\"gridcolor\":\"#E1E5ED\",\"showgrid\":true,\"tickfont\":{\"color\":\"#4D5663\"},\"title\":{\"font\":{\"color\":\"#4D5663\"},\"text\":\"\"},\"zerolinecolor\":\"#E1E5ED\"},\"yaxis\":{\"gridcolor\":\"#E1E5ED\",\"showgrid\":true,\"tickfont\":{\"color\":\"#4D5663\"},\"title\":{\"font\":{\"color\":\"#4D5663\"},\"text\":\"\"},\"zerolinecolor\":\"#E1E5ED\"}},                        {\"showLink\": true, \"linkText\": \"Export to plot.ly\", \"plotlyServerURL\": \"https://plot.ly\", \"responsive\": true}                    ).then(function(){\n",
       "                            \n",
       "var gd = document.getElementById('b3a9bf0b-92db-4801-bf1e-87bebedf970c');\n",
       "var x = new MutationObserver(function (mutations, observer) {{\n",
       "        var display = window.getComputedStyle(gd).display;\n",
       "        if (!display || display === 'none') {{\n",
       "            console.log([gd, 'removed!']);\n",
       "            Plotly.purge(gd);\n",
       "            observer.disconnect();\n",
       "        }}\n",
       "}});\n",
       "\n",
       "// Listen for the removal of the full notebook cells\n",
       "var notebookContainer = gd.closest('#notebook-container');\n",
       "if (notebookContainer) {{\n",
       "    x.observe(notebookContainer, {childList: true});\n",
       "}}\n",
       "\n",
       "// Listen for the clearing of the current output cell\n",
       "var outputEl = gd.closest('.output');\n",
       "if (outputEl) {{\n",
       "    x.observe(outputEl, {childList: true});\n",
       "}}\n",
       "\n",
       "                        })                };                });            </script>        </div>"
      ]
     },
     "metadata": {},
     "output_type": "display_data"
    }
   ],
   "source": [
    "df.iplot(kind='scatter',x='A',y='B')"
   ]
  },
  {
   "cell_type": "code",
   "execution_count": 24,
   "metadata": {},
   "outputs": [
    {
     "data": {
      "application/vnd.plotly.v1+json": {
       "config": {
        "linkText": "Export to plot.ly",
        "plotlyServerURL": "https://plot.ly",
        "showLink": true
       },
       "data": [
        {
         "line": {
          "color": "rgba(255, 153, 51, 1.0)",
          "dash": "solid",
          "shape": "linear",
          "width": 1.3
         },
         "marker": {
          "size": 20,
          "symbol": "circle"
         },
         "mode": "markers",
         "name": "B",
         "text": "",
         "type": "scatter",
         "x": [
          -0.6237268104686525,
          1.274572752369918,
          1.2855856084667923,
          0.4780921393755692,
          0.34494324406716476,
          -0.6405949323178967,
          -0.23348553233512562,
          0.17813370617579363,
          -0.7673268343683513,
          0.6579796347779423,
          0.09150439440134266,
          -0.3202194087654672,
          -0.7198822372283044,
          -0.03040259488005372,
          1.130130891132435,
          -1.3944379204410033,
          1.8055147559922298,
          -1.9857070195145679,
          1.4470767837214011,
          1.2874355830663946,
          0.696433594308047,
          2.404825719871125,
          -0.9623858314433245,
          -0.1859132142492279,
          0.03170213208913351,
          0.5002634060080197,
          1.4787083705078896,
          0.7458816130279491,
          0.3594135831219899,
          -1.2275883098721305,
          -0.03238291414533404,
          -0.15198417429647754,
          -0.8830153029958461,
          -0.8132224851313794,
          -2.0501610155245906,
          -0.9041899883149012,
          2.178167424721099,
          0.286622228389137,
          1.075573863823262,
          -0.4356904238305605,
          -1.0651750876267727,
          -0.0028056950631574658,
          -0.49382633776458307,
          -1.3147464271320535,
          -0.08989013325516612,
          -0.7042291895417842,
          -0.36343888412820746,
          0.333312240811528,
          1.0876510344408286,
          -0.3062546243441566,
          0.5660085135696187,
          0.09294517023552899,
          0.1894174818824277,
          0.04080039057265011,
          1.9675892925427019,
          -1.301768091588984,
          1.3152747666891773,
          0.005160869784432948,
          1.462520086249543,
          0.23850033626882083,
          0.8276718102531865,
          0.7004459393770409,
          0.19721486412706607,
          1.352394056400812,
          -1.5484023795619661,
          -0.22703321615797586,
          0.38543157811012896,
          0.8648956881612846,
          0.11555970092743817,
          0.24377042358437961,
          -0.8907934979824191,
          -0.41298058093838874,
          0.08772890141429637,
          -0.07976871061424609,
          0.2956966147265074,
          0.004051788741819877,
          -0.21232058552429844,
          -1.644617144448248,
          0.9817767416421945,
          -0.4355636648375388,
          -0.5358800350351557,
          0.2686898414179787,
          -1.7857386894657712,
          0.16534194227863233,
          1.6237878884244912,
          0.940607078882582,
          0.21777436019505278,
          1.2675257874568937,
          -1.1924645795499464,
          -1.0024359732972687,
          -0.9049278274834502,
          2.1992791381619425,
          -0.10497720054729366,
          -0.4905151303510943,
          -0.6425792587255553,
          0.5835158348888574,
          0.1531735913687253,
          1.2239349589688424,
          -0.03703710548486216,
          -0.2791575018844413
         ],
         "y": [
          -0.5992388419623923,
          -1.2575663073827104,
          -0.8681566591353996,
          0.7064138445219653,
          1.220897910921186,
          -0.23843854751836333,
          0.08125458191418496,
          0.6318372109145688,
          0.942548979492198,
          2.320690008639898,
          0.9429607967997387,
          -0.29015875072636427,
          -1.6581592775086522,
          -0.5477094864769935,
          0.767637407871621,
          0.8881186319337434,
          -0.0643904961411898,
          0.9534947040026447,
          -0.16606079238591212,
          0.8603565522937122,
          -0.1580619170545945,
          -0.9653181739405476,
          -0.46734405290943015,
          -1.2911496712539385,
          -0.3972209893445163,
          0.3488214938166166,
          -0.21314454951927206,
          -0.4643598207233956,
          -0.6800305118874078,
          1.2935401582290862,
          1.4361191337703871,
          -1.171567562342489,
          -0.3670068378880621,
          -1.1054577060016664,
          -0.32064801789654274,
          -0.9363926236184297,
          -0.49477094246354825,
          0.812902698213528,
          0.8537832422872523,
          0.094645992888546,
          -0.6994604522634928,
          1.0646035005563184,
          0.8307767553268849,
          1.0896853366905155,
          0.2714464628285896,
          -0.5975426618874339,
          -0.16416177611486993,
          0.2877218711794547,
          -0.3781742013756831,
          0.48423209173426957,
          -1.180883461347576,
          -1.8120680649992547,
          0.8284734124830162,
          -1.1731129598625227,
          1.9801720805279264,
          1.2077623807204638,
          -0.13553492849395918,
          0.7018366579992051,
          0.23908836812693707,
          1.1711500013199105,
          0.3263080964506011,
          1.9688996231734426,
          0.18021053530810413,
          0.5375796221576216,
          1.5367208473457563,
          0.3513982997315935,
          0.9127172041851135,
          -2.230666072053595,
          -0.019961815619791035,
          -0.30999675103673313,
          -0.8464020313819279,
          -0.2533707794233801,
          0.4896143033570152,
          1.46020941716156,
          1.2582452885624982,
          -0.029048024548711818,
          -1.946621422012302,
          0.9796055069317009,
          1.7544797453482672,
          -0.9410046003128689,
          0.05471156767059863,
          1.8503324453552497,
          1.5160510298296148,
          -0.18408876323412576,
          -0.997566364283777,
          -1.2160719819895915,
          -0.015213805397837697,
          -1.3869063045253367,
          -0.3214812075644415,
          -0.27298008360765874,
          -0.424922336179347,
          -0.43640971391586103,
          0.24837444626450242,
          -0.5897616186959732,
          -0.966304223117495,
          0.3293893994072471,
          -1.126034549538087,
          0.7201557873948927,
          0.19646839542118436,
          -0.8793115217131454
         ]
        }
       ],
       "layout": {
        "legend": {
         "bgcolor": "#F5F6F9",
         "font": {
          "color": "#4D5663"
         }
        },
        "paper_bgcolor": "#F5F6F9",
        "plot_bgcolor": "#F5F6F9",
        "template": {
         "data": {
          "bar": [
           {
            "error_x": {
             "color": "#2a3f5f"
            },
            "error_y": {
             "color": "#2a3f5f"
            },
            "marker": {
             "line": {
              "color": "#E5ECF6",
              "width": 0.5
             },
             "pattern": {
              "fillmode": "overlay",
              "size": 10,
              "solidity": 0.2
             }
            },
            "type": "bar"
           }
          ],
          "barpolar": [
           {
            "marker": {
             "line": {
              "color": "#E5ECF6",
              "width": 0.5
             },
             "pattern": {
              "fillmode": "overlay",
              "size": 10,
              "solidity": 0.2
             }
            },
            "type": "barpolar"
           }
          ],
          "carpet": [
           {
            "aaxis": {
             "endlinecolor": "#2a3f5f",
             "gridcolor": "white",
             "linecolor": "white",
             "minorgridcolor": "white",
             "startlinecolor": "#2a3f5f"
            },
            "baxis": {
             "endlinecolor": "#2a3f5f",
             "gridcolor": "white",
             "linecolor": "white",
             "minorgridcolor": "white",
             "startlinecolor": "#2a3f5f"
            },
            "type": "carpet"
           }
          ],
          "choropleth": [
           {
            "colorbar": {
             "outlinewidth": 0,
             "ticks": ""
            },
            "type": "choropleth"
           }
          ],
          "contour": [
           {
            "colorbar": {
             "outlinewidth": 0,
             "ticks": ""
            },
            "colorscale": [
             [
              0,
              "#0d0887"
             ],
             [
              0.1111111111111111,
              "#46039f"
             ],
             [
              0.2222222222222222,
              "#7201a8"
             ],
             [
              0.3333333333333333,
              "#9c179e"
             ],
             [
              0.4444444444444444,
              "#bd3786"
             ],
             [
              0.5555555555555556,
              "#d8576b"
             ],
             [
              0.6666666666666666,
              "#ed7953"
             ],
             [
              0.7777777777777778,
              "#fb9f3a"
             ],
             [
              0.8888888888888888,
              "#fdca26"
             ],
             [
              1,
              "#f0f921"
             ]
            ],
            "type": "contour"
           }
          ],
          "contourcarpet": [
           {
            "colorbar": {
             "outlinewidth": 0,
             "ticks": ""
            },
            "type": "contourcarpet"
           }
          ],
          "heatmap": [
           {
            "colorbar": {
             "outlinewidth": 0,
             "ticks": ""
            },
            "colorscale": [
             [
              0,
              "#0d0887"
             ],
             [
              0.1111111111111111,
              "#46039f"
             ],
             [
              0.2222222222222222,
              "#7201a8"
             ],
             [
              0.3333333333333333,
              "#9c179e"
             ],
             [
              0.4444444444444444,
              "#bd3786"
             ],
             [
              0.5555555555555556,
              "#d8576b"
             ],
             [
              0.6666666666666666,
              "#ed7953"
             ],
             [
              0.7777777777777778,
              "#fb9f3a"
             ],
             [
              0.8888888888888888,
              "#fdca26"
             ],
             [
              1,
              "#f0f921"
             ]
            ],
            "type": "heatmap"
           }
          ],
          "heatmapgl": [
           {
            "colorbar": {
             "outlinewidth": 0,
             "ticks": ""
            },
            "colorscale": [
             [
              0,
              "#0d0887"
             ],
             [
              0.1111111111111111,
              "#46039f"
             ],
             [
              0.2222222222222222,
              "#7201a8"
             ],
             [
              0.3333333333333333,
              "#9c179e"
             ],
             [
              0.4444444444444444,
              "#bd3786"
             ],
             [
              0.5555555555555556,
              "#d8576b"
             ],
             [
              0.6666666666666666,
              "#ed7953"
             ],
             [
              0.7777777777777778,
              "#fb9f3a"
             ],
             [
              0.8888888888888888,
              "#fdca26"
             ],
             [
              1,
              "#f0f921"
             ]
            ],
            "type": "heatmapgl"
           }
          ],
          "histogram": [
           {
            "marker": {
             "pattern": {
              "fillmode": "overlay",
              "size": 10,
              "solidity": 0.2
             }
            },
            "type": "histogram"
           }
          ],
          "histogram2d": [
           {
            "colorbar": {
             "outlinewidth": 0,
             "ticks": ""
            },
            "colorscale": [
             [
              0,
              "#0d0887"
             ],
             [
              0.1111111111111111,
              "#46039f"
             ],
             [
              0.2222222222222222,
              "#7201a8"
             ],
             [
              0.3333333333333333,
              "#9c179e"
             ],
             [
              0.4444444444444444,
              "#bd3786"
             ],
             [
              0.5555555555555556,
              "#d8576b"
             ],
             [
              0.6666666666666666,
              "#ed7953"
             ],
             [
              0.7777777777777778,
              "#fb9f3a"
             ],
             [
              0.8888888888888888,
              "#fdca26"
             ],
             [
              1,
              "#f0f921"
             ]
            ],
            "type": "histogram2d"
           }
          ],
          "histogram2dcontour": [
           {
            "colorbar": {
             "outlinewidth": 0,
             "ticks": ""
            },
            "colorscale": [
             [
              0,
              "#0d0887"
             ],
             [
              0.1111111111111111,
              "#46039f"
             ],
             [
              0.2222222222222222,
              "#7201a8"
             ],
             [
              0.3333333333333333,
              "#9c179e"
             ],
             [
              0.4444444444444444,
              "#bd3786"
             ],
             [
              0.5555555555555556,
              "#d8576b"
             ],
             [
              0.6666666666666666,
              "#ed7953"
             ],
             [
              0.7777777777777778,
              "#fb9f3a"
             ],
             [
              0.8888888888888888,
              "#fdca26"
             ],
             [
              1,
              "#f0f921"
             ]
            ],
            "type": "histogram2dcontour"
           }
          ],
          "mesh3d": [
           {
            "colorbar": {
             "outlinewidth": 0,
             "ticks": ""
            },
            "type": "mesh3d"
           }
          ],
          "parcoords": [
           {
            "line": {
             "colorbar": {
              "outlinewidth": 0,
              "ticks": ""
             }
            },
            "type": "parcoords"
           }
          ],
          "pie": [
           {
            "automargin": true,
            "type": "pie"
           }
          ],
          "scatter": [
           {
            "fillpattern": {
             "fillmode": "overlay",
             "size": 10,
             "solidity": 0.2
            },
            "type": "scatter"
           }
          ],
          "scatter3d": [
           {
            "line": {
             "colorbar": {
              "outlinewidth": 0,
              "ticks": ""
             }
            },
            "marker": {
             "colorbar": {
              "outlinewidth": 0,
              "ticks": ""
             }
            },
            "type": "scatter3d"
           }
          ],
          "scattercarpet": [
           {
            "marker": {
             "colorbar": {
              "outlinewidth": 0,
              "ticks": ""
             }
            },
            "type": "scattercarpet"
           }
          ],
          "scattergeo": [
           {
            "marker": {
             "colorbar": {
              "outlinewidth": 0,
              "ticks": ""
             }
            },
            "type": "scattergeo"
           }
          ],
          "scattergl": [
           {
            "marker": {
             "colorbar": {
              "outlinewidth": 0,
              "ticks": ""
             }
            },
            "type": "scattergl"
           }
          ],
          "scattermapbox": [
           {
            "marker": {
             "colorbar": {
              "outlinewidth": 0,
              "ticks": ""
             }
            },
            "type": "scattermapbox"
           }
          ],
          "scatterpolar": [
           {
            "marker": {
             "colorbar": {
              "outlinewidth": 0,
              "ticks": ""
             }
            },
            "type": "scatterpolar"
           }
          ],
          "scatterpolargl": [
           {
            "marker": {
             "colorbar": {
              "outlinewidth": 0,
              "ticks": ""
             }
            },
            "type": "scatterpolargl"
           }
          ],
          "scatterternary": [
           {
            "marker": {
             "colorbar": {
              "outlinewidth": 0,
              "ticks": ""
             }
            },
            "type": "scatterternary"
           }
          ],
          "surface": [
           {
            "colorbar": {
             "outlinewidth": 0,
             "ticks": ""
            },
            "colorscale": [
             [
              0,
              "#0d0887"
             ],
             [
              0.1111111111111111,
              "#46039f"
             ],
             [
              0.2222222222222222,
              "#7201a8"
             ],
             [
              0.3333333333333333,
              "#9c179e"
             ],
             [
              0.4444444444444444,
              "#bd3786"
             ],
             [
              0.5555555555555556,
              "#d8576b"
             ],
             [
              0.6666666666666666,
              "#ed7953"
             ],
             [
              0.7777777777777778,
              "#fb9f3a"
             ],
             [
              0.8888888888888888,
              "#fdca26"
             ],
             [
              1,
              "#f0f921"
             ]
            ],
            "type": "surface"
           }
          ],
          "table": [
           {
            "cells": {
             "fill": {
              "color": "#EBF0F8"
             },
             "line": {
              "color": "white"
             }
            },
            "header": {
             "fill": {
              "color": "#C8D4E3"
             },
             "line": {
              "color": "white"
             }
            },
            "type": "table"
           }
          ]
         },
         "layout": {
          "annotationdefaults": {
           "arrowcolor": "#2a3f5f",
           "arrowhead": 0,
           "arrowwidth": 1
          },
          "autotypenumbers": "strict",
          "coloraxis": {
           "colorbar": {
            "outlinewidth": 0,
            "ticks": ""
           }
          },
          "colorscale": {
           "diverging": [
            [
             0,
             "#8e0152"
            ],
            [
             0.1,
             "#c51b7d"
            ],
            [
             0.2,
             "#de77ae"
            ],
            [
             0.3,
             "#f1b6da"
            ],
            [
             0.4,
             "#fde0ef"
            ],
            [
             0.5,
             "#f7f7f7"
            ],
            [
             0.6,
             "#e6f5d0"
            ],
            [
             0.7,
             "#b8e186"
            ],
            [
             0.8,
             "#7fbc41"
            ],
            [
             0.9,
             "#4d9221"
            ],
            [
             1,
             "#276419"
            ]
           ],
           "sequential": [
            [
             0,
             "#0d0887"
            ],
            [
             0.1111111111111111,
             "#46039f"
            ],
            [
             0.2222222222222222,
             "#7201a8"
            ],
            [
             0.3333333333333333,
             "#9c179e"
            ],
            [
             0.4444444444444444,
             "#bd3786"
            ],
            [
             0.5555555555555556,
             "#d8576b"
            ],
            [
             0.6666666666666666,
             "#ed7953"
            ],
            [
             0.7777777777777778,
             "#fb9f3a"
            ],
            [
             0.8888888888888888,
             "#fdca26"
            ],
            [
             1,
             "#f0f921"
            ]
           ],
           "sequentialminus": [
            [
             0,
             "#0d0887"
            ],
            [
             0.1111111111111111,
             "#46039f"
            ],
            [
             0.2222222222222222,
             "#7201a8"
            ],
            [
             0.3333333333333333,
             "#9c179e"
            ],
            [
             0.4444444444444444,
             "#bd3786"
            ],
            [
             0.5555555555555556,
             "#d8576b"
            ],
            [
             0.6666666666666666,
             "#ed7953"
            ],
            [
             0.7777777777777778,
             "#fb9f3a"
            ],
            [
             0.8888888888888888,
             "#fdca26"
            ],
            [
             1,
             "#f0f921"
            ]
           ]
          },
          "colorway": [
           "#636efa",
           "#EF553B",
           "#00cc96",
           "#ab63fa",
           "#FFA15A",
           "#19d3f3",
           "#FF6692",
           "#B6E880",
           "#FF97FF",
           "#FECB52"
          ],
          "font": {
           "color": "#2a3f5f"
          },
          "geo": {
           "bgcolor": "white",
           "lakecolor": "white",
           "landcolor": "#E5ECF6",
           "showlakes": true,
           "showland": true,
           "subunitcolor": "white"
          },
          "hoverlabel": {
           "align": "left"
          },
          "hovermode": "closest",
          "mapbox": {
           "style": "light"
          },
          "paper_bgcolor": "white",
          "plot_bgcolor": "#E5ECF6",
          "polar": {
           "angularaxis": {
            "gridcolor": "white",
            "linecolor": "white",
            "ticks": ""
           },
           "bgcolor": "#E5ECF6",
           "radialaxis": {
            "gridcolor": "white",
            "linecolor": "white",
            "ticks": ""
           }
          },
          "scene": {
           "xaxis": {
            "backgroundcolor": "#E5ECF6",
            "gridcolor": "white",
            "gridwidth": 2,
            "linecolor": "white",
            "showbackground": true,
            "ticks": "",
            "zerolinecolor": "white"
           },
           "yaxis": {
            "backgroundcolor": "#E5ECF6",
            "gridcolor": "white",
            "gridwidth": 2,
            "linecolor": "white",
            "showbackground": true,
            "ticks": "",
            "zerolinecolor": "white"
           },
           "zaxis": {
            "backgroundcolor": "#E5ECF6",
            "gridcolor": "white",
            "gridwidth": 2,
            "linecolor": "white",
            "showbackground": true,
            "ticks": "",
            "zerolinecolor": "white"
           }
          },
          "shapedefaults": {
           "line": {
            "color": "#2a3f5f"
           }
          },
          "ternary": {
           "aaxis": {
            "gridcolor": "white",
            "linecolor": "white",
            "ticks": ""
           },
           "baxis": {
            "gridcolor": "white",
            "linecolor": "white",
            "ticks": ""
           },
           "bgcolor": "#E5ECF6",
           "caxis": {
            "gridcolor": "white",
            "linecolor": "white",
            "ticks": ""
           }
          },
          "title": {
           "x": 0.05
          },
          "xaxis": {
           "automargin": true,
           "gridcolor": "white",
           "linecolor": "white",
           "ticks": "",
           "title": {
            "standoff": 15
           },
           "zerolinecolor": "white",
           "zerolinewidth": 2
          },
          "yaxis": {
           "automargin": true,
           "gridcolor": "white",
           "linecolor": "white",
           "ticks": "",
           "title": {
            "standoff": 15
           },
           "zerolinecolor": "white",
           "zerolinewidth": 2
          }
         }
        },
        "title": {
         "font": {
          "color": "#4D5663"
         }
        },
        "xaxis": {
         "gridcolor": "#E1E5ED",
         "showgrid": true,
         "tickfont": {
          "color": "#4D5663"
         },
         "title": {
          "font": {
           "color": "#4D5663"
          },
          "text": ""
         },
         "zerolinecolor": "#E1E5ED"
        },
        "yaxis": {
         "gridcolor": "#E1E5ED",
         "showgrid": true,
         "tickfont": {
          "color": "#4D5663"
         },
         "title": {
          "font": {
           "color": "#4D5663"
          },
          "text": ""
         },
         "zerolinecolor": "#E1E5ED"
        }
       }
      },
      "text/html": [
       "<div>                            <div id=\"03338e96-37c7-45fd-b696-207921c84266\" class=\"plotly-graph-div\" style=\"height:525px; width:100%;\"></div>            <script type=\"text/javascript\">                require([\"plotly\"], function(Plotly) {                    window.PLOTLYENV=window.PLOTLYENV || {};\n",
       "                    window.PLOTLYENV.BASE_URL='https://plot.ly';                                    if (document.getElementById(\"03338e96-37c7-45fd-b696-207921c84266\")) {                    Plotly.newPlot(                        \"03338e96-37c7-45fd-b696-207921c84266\",                        [{\"line\":{\"color\":\"rgba(255, 153, 51, 1.0)\",\"dash\":\"solid\",\"shape\":\"linear\",\"width\":1.3},\"marker\":{\"size\":20,\"symbol\":\"circle\"},\"mode\":\"markers\",\"name\":\"B\",\"text\":\"\",\"x\":[-0.6237268104686525,1.274572752369918,1.2855856084667923,0.4780921393755692,0.34494324406716476,-0.6405949323178967,-0.23348553233512562,0.17813370617579363,-0.7673268343683513,0.6579796347779423,0.09150439440134266,-0.3202194087654672,-0.7198822372283044,-0.03040259488005372,1.130130891132435,-1.3944379204410033,1.8055147559922298,-1.9857070195145679,1.4470767837214011,1.2874355830663946,0.696433594308047,2.404825719871125,-0.9623858314433245,-0.1859132142492279,0.03170213208913351,0.5002634060080197,1.4787083705078896,0.7458816130279491,0.3594135831219899,-1.2275883098721305,-0.03238291414533404,-0.15198417429647754,-0.8830153029958461,-0.8132224851313794,-2.0501610155245906,-0.9041899883149012,2.178167424721099,0.286622228389137,1.075573863823262,-0.4356904238305605,-1.0651750876267727,-0.0028056950631574658,-0.49382633776458307,-1.3147464271320535,-0.08989013325516612,-0.7042291895417842,-0.36343888412820746,0.333312240811528,1.0876510344408286,-0.3062546243441566,0.5660085135696187,0.09294517023552899,0.1894174818824277,0.04080039057265011,1.9675892925427019,-1.301768091588984,1.3152747666891773,0.005160869784432948,1.462520086249543,0.23850033626882083,0.8276718102531865,0.7004459393770409,0.19721486412706607,1.352394056400812,-1.5484023795619661,-0.22703321615797586,0.38543157811012896,0.8648956881612846,0.11555970092743817,0.24377042358437961,-0.8907934979824191,-0.41298058093838874,0.08772890141429637,-0.07976871061424609,0.2956966147265074,0.004051788741819877,-0.21232058552429844,-1.644617144448248,0.9817767416421945,-0.4355636648375388,-0.5358800350351557,0.2686898414179787,-1.7857386894657712,0.16534194227863233,1.6237878884244912,0.940607078882582,0.21777436019505278,1.2675257874568937,-1.1924645795499464,-1.0024359732972687,-0.9049278274834502,2.1992791381619425,-0.10497720054729366,-0.4905151303510943,-0.6425792587255553,0.5835158348888574,0.1531735913687253,1.2239349589688424,-0.03703710548486216,-0.2791575018844413],\"y\":[-0.5992388419623923,-1.2575663073827104,-0.8681566591353996,0.7064138445219653,1.220897910921186,-0.23843854751836333,0.08125458191418496,0.6318372109145688,0.942548979492198,2.320690008639898,0.9429607967997387,-0.29015875072636427,-1.6581592775086522,-0.5477094864769935,0.767637407871621,0.8881186319337434,-0.0643904961411898,0.9534947040026447,-0.16606079238591212,0.8603565522937122,-0.1580619170545945,-0.9653181739405476,-0.46734405290943015,-1.2911496712539385,-0.3972209893445163,0.3488214938166166,-0.21314454951927206,-0.4643598207233956,-0.6800305118874078,1.2935401582290862,1.4361191337703871,-1.171567562342489,-0.3670068378880621,-1.1054577060016664,-0.32064801789654274,-0.9363926236184297,-0.49477094246354825,0.812902698213528,0.8537832422872523,0.094645992888546,-0.6994604522634928,1.0646035005563184,0.8307767553268849,1.0896853366905155,0.2714464628285896,-0.5975426618874339,-0.16416177611486993,0.2877218711794547,-0.3781742013756831,0.48423209173426957,-1.180883461347576,-1.8120680649992547,0.8284734124830162,-1.1731129598625227,1.9801720805279264,1.2077623807204638,-0.13553492849395918,0.7018366579992051,0.23908836812693707,1.1711500013199105,0.3263080964506011,1.9688996231734426,0.18021053530810413,0.5375796221576216,1.5367208473457563,0.3513982997315935,0.9127172041851135,-2.230666072053595,-0.019961815619791035,-0.30999675103673313,-0.8464020313819279,-0.2533707794233801,0.4896143033570152,1.46020941716156,1.2582452885624982,-0.029048024548711818,-1.946621422012302,0.9796055069317009,1.7544797453482672,-0.9410046003128689,0.05471156767059863,1.8503324453552497,1.5160510298296148,-0.18408876323412576,-0.997566364283777,-1.2160719819895915,-0.015213805397837697,-1.3869063045253367,-0.3214812075644415,-0.27298008360765874,-0.424922336179347,-0.43640971391586103,0.24837444626450242,-0.5897616186959732,-0.966304223117495,0.3293893994072471,-1.126034549538087,0.7201557873948927,0.19646839542118436,-0.8793115217131454],\"type\":\"scatter\"}],                        {\"legend\":{\"bgcolor\":\"#F5F6F9\",\"font\":{\"color\":\"#4D5663\"}},\"paper_bgcolor\":\"#F5F6F9\",\"plot_bgcolor\":\"#F5F6F9\",\"template\":{\"data\":{\"barpolar\":[{\"marker\":{\"line\":{\"color\":\"#E5ECF6\",\"width\":0.5},\"pattern\":{\"fillmode\":\"overlay\",\"size\":10,\"solidity\":0.2}},\"type\":\"barpolar\"}],\"bar\":[{\"error_x\":{\"color\":\"#2a3f5f\"},\"error_y\":{\"color\":\"#2a3f5f\"},\"marker\":{\"line\":{\"color\":\"#E5ECF6\",\"width\":0.5},\"pattern\":{\"fillmode\":\"overlay\",\"size\":10,\"solidity\":0.2}},\"type\":\"bar\"}],\"carpet\":[{\"aaxis\":{\"endlinecolor\":\"#2a3f5f\",\"gridcolor\":\"white\",\"linecolor\":\"white\",\"minorgridcolor\":\"white\",\"startlinecolor\":\"#2a3f5f\"},\"baxis\":{\"endlinecolor\":\"#2a3f5f\",\"gridcolor\":\"white\",\"linecolor\":\"white\",\"minorgridcolor\":\"white\",\"startlinecolor\":\"#2a3f5f\"},\"type\":\"carpet\"}],\"choropleth\":[{\"colorbar\":{\"outlinewidth\":0,\"ticks\":\"\"},\"type\":\"choropleth\"}],\"contourcarpet\":[{\"colorbar\":{\"outlinewidth\":0,\"ticks\":\"\"},\"type\":\"contourcarpet\"}],\"contour\":[{\"colorbar\":{\"outlinewidth\":0,\"ticks\":\"\"},\"colorscale\":[[0.0,\"#0d0887\"],[0.1111111111111111,\"#46039f\"],[0.2222222222222222,\"#7201a8\"],[0.3333333333333333,\"#9c179e\"],[0.4444444444444444,\"#bd3786\"],[0.5555555555555556,\"#d8576b\"],[0.6666666666666666,\"#ed7953\"],[0.7777777777777778,\"#fb9f3a\"],[0.8888888888888888,\"#fdca26\"],[1.0,\"#f0f921\"]],\"type\":\"contour\"}],\"heatmapgl\":[{\"colorbar\":{\"outlinewidth\":0,\"ticks\":\"\"},\"colorscale\":[[0.0,\"#0d0887\"],[0.1111111111111111,\"#46039f\"],[0.2222222222222222,\"#7201a8\"],[0.3333333333333333,\"#9c179e\"],[0.4444444444444444,\"#bd3786\"],[0.5555555555555556,\"#d8576b\"],[0.6666666666666666,\"#ed7953\"],[0.7777777777777778,\"#fb9f3a\"],[0.8888888888888888,\"#fdca26\"],[1.0,\"#f0f921\"]],\"type\":\"heatmapgl\"}],\"heatmap\":[{\"colorbar\":{\"outlinewidth\":0,\"ticks\":\"\"},\"colorscale\":[[0.0,\"#0d0887\"],[0.1111111111111111,\"#46039f\"],[0.2222222222222222,\"#7201a8\"],[0.3333333333333333,\"#9c179e\"],[0.4444444444444444,\"#bd3786\"],[0.5555555555555556,\"#d8576b\"],[0.6666666666666666,\"#ed7953\"],[0.7777777777777778,\"#fb9f3a\"],[0.8888888888888888,\"#fdca26\"],[1.0,\"#f0f921\"]],\"type\":\"heatmap\"}],\"histogram2dcontour\":[{\"colorbar\":{\"outlinewidth\":0,\"ticks\":\"\"},\"colorscale\":[[0.0,\"#0d0887\"],[0.1111111111111111,\"#46039f\"],[0.2222222222222222,\"#7201a8\"],[0.3333333333333333,\"#9c179e\"],[0.4444444444444444,\"#bd3786\"],[0.5555555555555556,\"#d8576b\"],[0.6666666666666666,\"#ed7953\"],[0.7777777777777778,\"#fb9f3a\"],[0.8888888888888888,\"#fdca26\"],[1.0,\"#f0f921\"]],\"type\":\"histogram2dcontour\"}],\"histogram2d\":[{\"colorbar\":{\"outlinewidth\":0,\"ticks\":\"\"},\"colorscale\":[[0.0,\"#0d0887\"],[0.1111111111111111,\"#46039f\"],[0.2222222222222222,\"#7201a8\"],[0.3333333333333333,\"#9c179e\"],[0.4444444444444444,\"#bd3786\"],[0.5555555555555556,\"#d8576b\"],[0.6666666666666666,\"#ed7953\"],[0.7777777777777778,\"#fb9f3a\"],[0.8888888888888888,\"#fdca26\"],[1.0,\"#f0f921\"]],\"type\":\"histogram2d\"}],\"histogram\":[{\"marker\":{\"pattern\":{\"fillmode\":\"overlay\",\"size\":10,\"solidity\":0.2}},\"type\":\"histogram\"}],\"mesh3d\":[{\"colorbar\":{\"outlinewidth\":0,\"ticks\":\"\"},\"type\":\"mesh3d\"}],\"parcoords\":[{\"line\":{\"colorbar\":{\"outlinewidth\":0,\"ticks\":\"\"}},\"type\":\"parcoords\"}],\"pie\":[{\"automargin\":true,\"type\":\"pie\"}],\"scatter3d\":[{\"line\":{\"colorbar\":{\"outlinewidth\":0,\"ticks\":\"\"}},\"marker\":{\"colorbar\":{\"outlinewidth\":0,\"ticks\":\"\"}},\"type\":\"scatter3d\"}],\"scattercarpet\":[{\"marker\":{\"colorbar\":{\"outlinewidth\":0,\"ticks\":\"\"}},\"type\":\"scattercarpet\"}],\"scattergeo\":[{\"marker\":{\"colorbar\":{\"outlinewidth\":0,\"ticks\":\"\"}},\"type\":\"scattergeo\"}],\"scattergl\":[{\"marker\":{\"colorbar\":{\"outlinewidth\":0,\"ticks\":\"\"}},\"type\":\"scattergl\"}],\"scattermapbox\":[{\"marker\":{\"colorbar\":{\"outlinewidth\":0,\"ticks\":\"\"}},\"type\":\"scattermapbox\"}],\"scatterpolargl\":[{\"marker\":{\"colorbar\":{\"outlinewidth\":0,\"ticks\":\"\"}},\"type\":\"scatterpolargl\"}],\"scatterpolar\":[{\"marker\":{\"colorbar\":{\"outlinewidth\":0,\"ticks\":\"\"}},\"type\":\"scatterpolar\"}],\"scatter\":[{\"fillpattern\":{\"fillmode\":\"overlay\",\"size\":10,\"solidity\":0.2},\"type\":\"scatter\"}],\"scatterternary\":[{\"marker\":{\"colorbar\":{\"outlinewidth\":0,\"ticks\":\"\"}},\"type\":\"scatterternary\"}],\"surface\":[{\"colorbar\":{\"outlinewidth\":0,\"ticks\":\"\"},\"colorscale\":[[0.0,\"#0d0887\"],[0.1111111111111111,\"#46039f\"],[0.2222222222222222,\"#7201a8\"],[0.3333333333333333,\"#9c179e\"],[0.4444444444444444,\"#bd3786\"],[0.5555555555555556,\"#d8576b\"],[0.6666666666666666,\"#ed7953\"],[0.7777777777777778,\"#fb9f3a\"],[0.8888888888888888,\"#fdca26\"],[1.0,\"#f0f921\"]],\"type\":\"surface\"}],\"table\":[{\"cells\":{\"fill\":{\"color\":\"#EBF0F8\"},\"line\":{\"color\":\"white\"}},\"header\":{\"fill\":{\"color\":\"#C8D4E3\"},\"line\":{\"color\":\"white\"}},\"type\":\"table\"}]},\"layout\":{\"annotationdefaults\":{\"arrowcolor\":\"#2a3f5f\",\"arrowhead\":0,\"arrowwidth\":1},\"autotypenumbers\":\"strict\",\"coloraxis\":{\"colorbar\":{\"outlinewidth\":0,\"ticks\":\"\"}},\"colorscale\":{\"diverging\":[[0,\"#8e0152\"],[0.1,\"#c51b7d\"],[0.2,\"#de77ae\"],[0.3,\"#f1b6da\"],[0.4,\"#fde0ef\"],[0.5,\"#f7f7f7\"],[0.6,\"#e6f5d0\"],[0.7,\"#b8e186\"],[0.8,\"#7fbc41\"],[0.9,\"#4d9221\"],[1,\"#276419\"]],\"sequential\":[[0.0,\"#0d0887\"],[0.1111111111111111,\"#46039f\"],[0.2222222222222222,\"#7201a8\"],[0.3333333333333333,\"#9c179e\"],[0.4444444444444444,\"#bd3786\"],[0.5555555555555556,\"#d8576b\"],[0.6666666666666666,\"#ed7953\"],[0.7777777777777778,\"#fb9f3a\"],[0.8888888888888888,\"#fdca26\"],[1.0,\"#f0f921\"]],\"sequentialminus\":[[0.0,\"#0d0887\"],[0.1111111111111111,\"#46039f\"],[0.2222222222222222,\"#7201a8\"],[0.3333333333333333,\"#9c179e\"],[0.4444444444444444,\"#bd3786\"],[0.5555555555555556,\"#d8576b\"],[0.6666666666666666,\"#ed7953\"],[0.7777777777777778,\"#fb9f3a\"],[0.8888888888888888,\"#fdca26\"],[1.0,\"#f0f921\"]]},\"colorway\":[\"#636efa\",\"#EF553B\",\"#00cc96\",\"#ab63fa\",\"#FFA15A\",\"#19d3f3\",\"#FF6692\",\"#B6E880\",\"#FF97FF\",\"#FECB52\"],\"font\":{\"color\":\"#2a3f5f\"},\"geo\":{\"bgcolor\":\"white\",\"lakecolor\":\"white\",\"landcolor\":\"#E5ECF6\",\"showlakes\":true,\"showland\":true,\"subunitcolor\":\"white\"},\"hoverlabel\":{\"align\":\"left\"},\"hovermode\":\"closest\",\"mapbox\":{\"style\":\"light\"},\"paper_bgcolor\":\"white\",\"plot_bgcolor\":\"#E5ECF6\",\"polar\":{\"angularaxis\":{\"gridcolor\":\"white\",\"linecolor\":\"white\",\"ticks\":\"\"},\"bgcolor\":\"#E5ECF6\",\"radialaxis\":{\"gridcolor\":\"white\",\"linecolor\":\"white\",\"ticks\":\"\"}},\"scene\":{\"xaxis\":{\"backgroundcolor\":\"#E5ECF6\",\"gridcolor\":\"white\",\"gridwidth\":2,\"linecolor\":\"white\",\"showbackground\":true,\"ticks\":\"\",\"zerolinecolor\":\"white\"},\"yaxis\":{\"backgroundcolor\":\"#E5ECF6\",\"gridcolor\":\"white\",\"gridwidth\":2,\"linecolor\":\"white\",\"showbackground\":true,\"ticks\":\"\",\"zerolinecolor\":\"white\"},\"zaxis\":{\"backgroundcolor\":\"#E5ECF6\",\"gridcolor\":\"white\",\"gridwidth\":2,\"linecolor\":\"white\",\"showbackground\":true,\"ticks\":\"\",\"zerolinecolor\":\"white\"}},\"shapedefaults\":{\"line\":{\"color\":\"#2a3f5f\"}},\"ternary\":{\"aaxis\":{\"gridcolor\":\"white\",\"linecolor\":\"white\",\"ticks\":\"\"},\"baxis\":{\"gridcolor\":\"white\",\"linecolor\":\"white\",\"ticks\":\"\"},\"bgcolor\":\"#E5ECF6\",\"caxis\":{\"gridcolor\":\"white\",\"linecolor\":\"white\",\"ticks\":\"\"}},\"title\":{\"x\":0.05},\"xaxis\":{\"automargin\":true,\"gridcolor\":\"white\",\"linecolor\":\"white\",\"ticks\":\"\",\"title\":{\"standoff\":15},\"zerolinecolor\":\"white\",\"zerolinewidth\":2},\"yaxis\":{\"automargin\":true,\"gridcolor\":\"white\",\"linecolor\":\"white\",\"ticks\":\"\",\"title\":{\"standoff\":15},\"zerolinecolor\":\"white\",\"zerolinewidth\":2}}},\"title\":{\"font\":{\"color\":\"#4D5663\"}},\"xaxis\":{\"gridcolor\":\"#E1E5ED\",\"showgrid\":true,\"tickfont\":{\"color\":\"#4D5663\"},\"title\":{\"font\":{\"color\":\"#4D5663\"},\"text\":\"\"},\"zerolinecolor\":\"#E1E5ED\"},\"yaxis\":{\"gridcolor\":\"#E1E5ED\",\"showgrid\":true,\"tickfont\":{\"color\":\"#4D5663\"},\"title\":{\"font\":{\"color\":\"#4D5663\"},\"text\":\"\"},\"zerolinecolor\":\"#E1E5ED\"}},                        {\"showLink\": true, \"linkText\": \"Export to plot.ly\", \"plotlyServerURL\": \"https://plot.ly\", \"responsive\": true}                    ).then(function(){\n",
       "                            \n",
       "var gd = document.getElementById('03338e96-37c7-45fd-b696-207921c84266');\n",
       "var x = new MutationObserver(function (mutations, observer) {{\n",
       "        var display = window.getComputedStyle(gd).display;\n",
       "        if (!display || display === 'none') {{\n",
       "            console.log([gd, 'removed!']);\n",
       "            Plotly.purge(gd);\n",
       "            observer.disconnect();\n",
       "        }}\n",
       "}});\n",
       "\n",
       "// Listen for the removal of the full notebook cells\n",
       "var notebookContainer = gd.closest('#notebook-container');\n",
       "if (notebookContainer) {{\n",
       "    x.observe(notebookContainer, {childList: true});\n",
       "}}\n",
       "\n",
       "// Listen for the clearing of the current output cell\n",
       "var outputEl = gd.closest('.output');\n",
       "if (outputEl) {{\n",
       "    x.observe(outputEl, {childList: true});\n",
       "}}\n",
       "\n",
       "                        })                };                });            </script>        </div>"
      ]
     },
     "metadata": {},
     "output_type": "display_data"
    }
   ],
   "source": [
    "df.iplot(kind='scatter',x='A',y='B',mode='markers',size=20)"
   ]
  },
  {
   "cell_type": "markdown",
   "metadata": {},
   "source": [
    "#BARPLOT"
   ]
  },
  {
   "cell_type": "code",
   "execution_count": 26,
   "metadata": {},
   "outputs": [
    {
     "data": {
      "application/vnd.plotly.v1+json": {
       "config": {
        "linkText": "Export to plot.ly",
        "plotlyServerURL": "https://plot.ly",
        "showLink": true
       },
       "data": [
        {
         "marker": {
          "color": "rgba(255, 153, 51, 0.6)",
          "line": {
           "color": "rgba(255, 153, 51, 1.0)",
           "width": 1
          }
         },
         "name": "Values",
         "orientation": "v",
         "text": "",
         "type": "bar",
         "x": [
          "A",
          "B",
          "C"
         ],
         "y": [
          32,
          43,
          50
         ]
        }
       ],
       "layout": {
        "legend": {
         "bgcolor": "#F5F6F9",
         "font": {
          "color": "#4D5663"
         }
        },
        "paper_bgcolor": "#F5F6F9",
        "plot_bgcolor": "#F5F6F9",
        "template": {
         "data": {
          "bar": [
           {
            "error_x": {
             "color": "#2a3f5f"
            },
            "error_y": {
             "color": "#2a3f5f"
            },
            "marker": {
             "line": {
              "color": "#E5ECF6",
              "width": 0.5
             },
             "pattern": {
              "fillmode": "overlay",
              "size": 10,
              "solidity": 0.2
             }
            },
            "type": "bar"
           }
          ],
          "barpolar": [
           {
            "marker": {
             "line": {
              "color": "#E5ECF6",
              "width": 0.5
             },
             "pattern": {
              "fillmode": "overlay",
              "size": 10,
              "solidity": 0.2
             }
            },
            "type": "barpolar"
           }
          ],
          "carpet": [
           {
            "aaxis": {
             "endlinecolor": "#2a3f5f",
             "gridcolor": "white",
             "linecolor": "white",
             "minorgridcolor": "white",
             "startlinecolor": "#2a3f5f"
            },
            "baxis": {
             "endlinecolor": "#2a3f5f",
             "gridcolor": "white",
             "linecolor": "white",
             "minorgridcolor": "white",
             "startlinecolor": "#2a3f5f"
            },
            "type": "carpet"
           }
          ],
          "choropleth": [
           {
            "colorbar": {
             "outlinewidth": 0,
             "ticks": ""
            },
            "type": "choropleth"
           }
          ],
          "contour": [
           {
            "colorbar": {
             "outlinewidth": 0,
             "ticks": ""
            },
            "colorscale": [
             [
              0,
              "#0d0887"
             ],
             [
              0.1111111111111111,
              "#46039f"
             ],
             [
              0.2222222222222222,
              "#7201a8"
             ],
             [
              0.3333333333333333,
              "#9c179e"
             ],
             [
              0.4444444444444444,
              "#bd3786"
             ],
             [
              0.5555555555555556,
              "#d8576b"
             ],
             [
              0.6666666666666666,
              "#ed7953"
             ],
             [
              0.7777777777777778,
              "#fb9f3a"
             ],
             [
              0.8888888888888888,
              "#fdca26"
             ],
             [
              1,
              "#f0f921"
             ]
            ],
            "type": "contour"
           }
          ],
          "contourcarpet": [
           {
            "colorbar": {
             "outlinewidth": 0,
             "ticks": ""
            },
            "type": "contourcarpet"
           }
          ],
          "heatmap": [
           {
            "colorbar": {
             "outlinewidth": 0,
             "ticks": ""
            },
            "colorscale": [
             [
              0,
              "#0d0887"
             ],
             [
              0.1111111111111111,
              "#46039f"
             ],
             [
              0.2222222222222222,
              "#7201a8"
             ],
             [
              0.3333333333333333,
              "#9c179e"
             ],
             [
              0.4444444444444444,
              "#bd3786"
             ],
             [
              0.5555555555555556,
              "#d8576b"
             ],
             [
              0.6666666666666666,
              "#ed7953"
             ],
             [
              0.7777777777777778,
              "#fb9f3a"
             ],
             [
              0.8888888888888888,
              "#fdca26"
             ],
             [
              1,
              "#f0f921"
             ]
            ],
            "type": "heatmap"
           }
          ],
          "heatmapgl": [
           {
            "colorbar": {
             "outlinewidth": 0,
             "ticks": ""
            },
            "colorscale": [
             [
              0,
              "#0d0887"
             ],
             [
              0.1111111111111111,
              "#46039f"
             ],
             [
              0.2222222222222222,
              "#7201a8"
             ],
             [
              0.3333333333333333,
              "#9c179e"
             ],
             [
              0.4444444444444444,
              "#bd3786"
             ],
             [
              0.5555555555555556,
              "#d8576b"
             ],
             [
              0.6666666666666666,
              "#ed7953"
             ],
             [
              0.7777777777777778,
              "#fb9f3a"
             ],
             [
              0.8888888888888888,
              "#fdca26"
             ],
             [
              1,
              "#f0f921"
             ]
            ],
            "type": "heatmapgl"
           }
          ],
          "histogram": [
           {
            "marker": {
             "pattern": {
              "fillmode": "overlay",
              "size": 10,
              "solidity": 0.2
             }
            },
            "type": "histogram"
           }
          ],
          "histogram2d": [
           {
            "colorbar": {
             "outlinewidth": 0,
             "ticks": ""
            },
            "colorscale": [
             [
              0,
              "#0d0887"
             ],
             [
              0.1111111111111111,
              "#46039f"
             ],
             [
              0.2222222222222222,
              "#7201a8"
             ],
             [
              0.3333333333333333,
              "#9c179e"
             ],
             [
              0.4444444444444444,
              "#bd3786"
             ],
             [
              0.5555555555555556,
              "#d8576b"
             ],
             [
              0.6666666666666666,
              "#ed7953"
             ],
             [
              0.7777777777777778,
              "#fb9f3a"
             ],
             [
              0.8888888888888888,
              "#fdca26"
             ],
             [
              1,
              "#f0f921"
             ]
            ],
            "type": "histogram2d"
           }
          ],
          "histogram2dcontour": [
           {
            "colorbar": {
             "outlinewidth": 0,
             "ticks": ""
            },
            "colorscale": [
             [
              0,
              "#0d0887"
             ],
             [
              0.1111111111111111,
              "#46039f"
             ],
             [
              0.2222222222222222,
              "#7201a8"
             ],
             [
              0.3333333333333333,
              "#9c179e"
             ],
             [
              0.4444444444444444,
              "#bd3786"
             ],
             [
              0.5555555555555556,
              "#d8576b"
             ],
             [
              0.6666666666666666,
              "#ed7953"
             ],
             [
              0.7777777777777778,
              "#fb9f3a"
             ],
             [
              0.8888888888888888,
              "#fdca26"
             ],
             [
              1,
              "#f0f921"
             ]
            ],
            "type": "histogram2dcontour"
           }
          ],
          "mesh3d": [
           {
            "colorbar": {
             "outlinewidth": 0,
             "ticks": ""
            },
            "type": "mesh3d"
           }
          ],
          "parcoords": [
           {
            "line": {
             "colorbar": {
              "outlinewidth": 0,
              "ticks": ""
             }
            },
            "type": "parcoords"
           }
          ],
          "pie": [
           {
            "automargin": true,
            "type": "pie"
           }
          ],
          "scatter": [
           {
            "fillpattern": {
             "fillmode": "overlay",
             "size": 10,
             "solidity": 0.2
            },
            "type": "scatter"
           }
          ],
          "scatter3d": [
           {
            "line": {
             "colorbar": {
              "outlinewidth": 0,
              "ticks": ""
             }
            },
            "marker": {
             "colorbar": {
              "outlinewidth": 0,
              "ticks": ""
             }
            },
            "type": "scatter3d"
           }
          ],
          "scattercarpet": [
           {
            "marker": {
             "colorbar": {
              "outlinewidth": 0,
              "ticks": ""
             }
            },
            "type": "scattercarpet"
           }
          ],
          "scattergeo": [
           {
            "marker": {
             "colorbar": {
              "outlinewidth": 0,
              "ticks": ""
             }
            },
            "type": "scattergeo"
           }
          ],
          "scattergl": [
           {
            "marker": {
             "colorbar": {
              "outlinewidth": 0,
              "ticks": ""
             }
            },
            "type": "scattergl"
           }
          ],
          "scattermapbox": [
           {
            "marker": {
             "colorbar": {
              "outlinewidth": 0,
              "ticks": ""
             }
            },
            "type": "scattermapbox"
           }
          ],
          "scatterpolar": [
           {
            "marker": {
             "colorbar": {
              "outlinewidth": 0,
              "ticks": ""
             }
            },
            "type": "scatterpolar"
           }
          ],
          "scatterpolargl": [
           {
            "marker": {
             "colorbar": {
              "outlinewidth": 0,
              "ticks": ""
             }
            },
            "type": "scatterpolargl"
           }
          ],
          "scatterternary": [
           {
            "marker": {
             "colorbar": {
              "outlinewidth": 0,
              "ticks": ""
             }
            },
            "type": "scatterternary"
           }
          ],
          "surface": [
           {
            "colorbar": {
             "outlinewidth": 0,
             "ticks": ""
            },
            "colorscale": [
             [
              0,
              "#0d0887"
             ],
             [
              0.1111111111111111,
              "#46039f"
             ],
             [
              0.2222222222222222,
              "#7201a8"
             ],
             [
              0.3333333333333333,
              "#9c179e"
             ],
             [
              0.4444444444444444,
              "#bd3786"
             ],
             [
              0.5555555555555556,
              "#d8576b"
             ],
             [
              0.6666666666666666,
              "#ed7953"
             ],
             [
              0.7777777777777778,
              "#fb9f3a"
             ],
             [
              0.8888888888888888,
              "#fdca26"
             ],
             [
              1,
              "#f0f921"
             ]
            ],
            "type": "surface"
           }
          ],
          "table": [
           {
            "cells": {
             "fill": {
              "color": "#EBF0F8"
             },
             "line": {
              "color": "white"
             }
            },
            "header": {
             "fill": {
              "color": "#C8D4E3"
             },
             "line": {
              "color": "white"
             }
            },
            "type": "table"
           }
          ]
         },
         "layout": {
          "annotationdefaults": {
           "arrowcolor": "#2a3f5f",
           "arrowhead": 0,
           "arrowwidth": 1
          },
          "autotypenumbers": "strict",
          "coloraxis": {
           "colorbar": {
            "outlinewidth": 0,
            "ticks": ""
           }
          },
          "colorscale": {
           "diverging": [
            [
             0,
             "#8e0152"
            ],
            [
             0.1,
             "#c51b7d"
            ],
            [
             0.2,
             "#de77ae"
            ],
            [
             0.3,
             "#f1b6da"
            ],
            [
             0.4,
             "#fde0ef"
            ],
            [
             0.5,
             "#f7f7f7"
            ],
            [
             0.6,
             "#e6f5d0"
            ],
            [
             0.7,
             "#b8e186"
            ],
            [
             0.8,
             "#7fbc41"
            ],
            [
             0.9,
             "#4d9221"
            ],
            [
             1,
             "#276419"
            ]
           ],
           "sequential": [
            [
             0,
             "#0d0887"
            ],
            [
             0.1111111111111111,
             "#46039f"
            ],
            [
             0.2222222222222222,
             "#7201a8"
            ],
            [
             0.3333333333333333,
             "#9c179e"
            ],
            [
             0.4444444444444444,
             "#bd3786"
            ],
            [
             0.5555555555555556,
             "#d8576b"
            ],
            [
             0.6666666666666666,
             "#ed7953"
            ],
            [
             0.7777777777777778,
             "#fb9f3a"
            ],
            [
             0.8888888888888888,
             "#fdca26"
            ],
            [
             1,
             "#f0f921"
            ]
           ],
           "sequentialminus": [
            [
             0,
             "#0d0887"
            ],
            [
             0.1111111111111111,
             "#46039f"
            ],
            [
             0.2222222222222222,
             "#7201a8"
            ],
            [
             0.3333333333333333,
             "#9c179e"
            ],
            [
             0.4444444444444444,
             "#bd3786"
            ],
            [
             0.5555555555555556,
             "#d8576b"
            ],
            [
             0.6666666666666666,
             "#ed7953"
            ],
            [
             0.7777777777777778,
             "#fb9f3a"
            ],
            [
             0.8888888888888888,
             "#fdca26"
            ],
            [
             1,
             "#f0f921"
            ]
           ]
          },
          "colorway": [
           "#636efa",
           "#EF553B",
           "#00cc96",
           "#ab63fa",
           "#FFA15A",
           "#19d3f3",
           "#FF6692",
           "#B6E880",
           "#FF97FF",
           "#FECB52"
          ],
          "font": {
           "color": "#2a3f5f"
          },
          "geo": {
           "bgcolor": "white",
           "lakecolor": "white",
           "landcolor": "#E5ECF6",
           "showlakes": true,
           "showland": true,
           "subunitcolor": "white"
          },
          "hoverlabel": {
           "align": "left"
          },
          "hovermode": "closest",
          "mapbox": {
           "style": "light"
          },
          "paper_bgcolor": "white",
          "plot_bgcolor": "#E5ECF6",
          "polar": {
           "angularaxis": {
            "gridcolor": "white",
            "linecolor": "white",
            "ticks": ""
           },
           "bgcolor": "#E5ECF6",
           "radialaxis": {
            "gridcolor": "white",
            "linecolor": "white",
            "ticks": ""
           }
          },
          "scene": {
           "xaxis": {
            "backgroundcolor": "#E5ECF6",
            "gridcolor": "white",
            "gridwidth": 2,
            "linecolor": "white",
            "showbackground": true,
            "ticks": "",
            "zerolinecolor": "white"
           },
           "yaxis": {
            "backgroundcolor": "#E5ECF6",
            "gridcolor": "white",
            "gridwidth": 2,
            "linecolor": "white",
            "showbackground": true,
            "ticks": "",
            "zerolinecolor": "white"
           },
           "zaxis": {
            "backgroundcolor": "#E5ECF6",
            "gridcolor": "white",
            "gridwidth": 2,
            "linecolor": "white",
            "showbackground": true,
            "ticks": "",
            "zerolinecolor": "white"
           }
          },
          "shapedefaults": {
           "line": {
            "color": "#2a3f5f"
           }
          },
          "ternary": {
           "aaxis": {
            "gridcolor": "white",
            "linecolor": "white",
            "ticks": ""
           },
           "baxis": {
            "gridcolor": "white",
            "linecolor": "white",
            "ticks": ""
           },
           "bgcolor": "#E5ECF6",
           "caxis": {
            "gridcolor": "white",
            "linecolor": "white",
            "ticks": ""
           }
          },
          "title": {
           "x": 0.05
          },
          "xaxis": {
           "automargin": true,
           "gridcolor": "white",
           "linecolor": "white",
           "ticks": "",
           "title": {
            "standoff": 15
           },
           "zerolinecolor": "white",
           "zerolinewidth": 2
          },
          "yaxis": {
           "automargin": true,
           "gridcolor": "white",
           "linecolor": "white",
           "ticks": "",
           "title": {
            "standoff": 15
           },
           "zerolinecolor": "white",
           "zerolinewidth": 2
          }
         }
        },
        "title": {
         "font": {
          "color": "#4D5663"
         }
        },
        "xaxis": {
         "gridcolor": "#E1E5ED",
         "showgrid": true,
         "tickfont": {
          "color": "#4D5663"
         },
         "title": {
          "font": {
           "color": "#4D5663"
          },
          "text": ""
         },
         "zerolinecolor": "#E1E5ED"
        },
        "yaxis": {
         "gridcolor": "#E1E5ED",
         "showgrid": true,
         "tickfont": {
          "color": "#4D5663"
         },
         "title": {
          "font": {
           "color": "#4D5663"
          },
          "text": ""
         },
         "zerolinecolor": "#E1E5ED"
        }
       }
      },
      "text/html": [
       "<div>                            <div id=\"1f93c387-aa6f-47ec-a62c-bc1e6af7e5dd\" class=\"plotly-graph-div\" style=\"height:525px; width:100%;\"></div>            <script type=\"text/javascript\">                require([\"plotly\"], function(Plotly) {                    window.PLOTLYENV=window.PLOTLYENV || {};\n",
       "                    window.PLOTLYENV.BASE_URL='https://plot.ly';                                    if (document.getElementById(\"1f93c387-aa6f-47ec-a62c-bc1e6af7e5dd\")) {                    Plotly.newPlot(                        \"1f93c387-aa6f-47ec-a62c-bc1e6af7e5dd\",                        [{\"marker\":{\"color\":\"rgba(255, 153, 51, 0.6)\",\"line\":{\"color\":\"rgba(255, 153, 51, 1.0)\",\"width\":1}},\"name\":\"Values\",\"orientation\":\"v\",\"text\":\"\",\"x\":[\"A\",\"B\",\"C\"],\"y\":[32,43,50],\"type\":\"bar\"}],                        {\"legend\":{\"bgcolor\":\"#F5F6F9\",\"font\":{\"color\":\"#4D5663\"}},\"paper_bgcolor\":\"#F5F6F9\",\"plot_bgcolor\":\"#F5F6F9\",\"template\":{\"data\":{\"barpolar\":[{\"marker\":{\"line\":{\"color\":\"#E5ECF6\",\"width\":0.5},\"pattern\":{\"fillmode\":\"overlay\",\"size\":10,\"solidity\":0.2}},\"type\":\"barpolar\"}],\"bar\":[{\"error_x\":{\"color\":\"#2a3f5f\"},\"error_y\":{\"color\":\"#2a3f5f\"},\"marker\":{\"line\":{\"color\":\"#E5ECF6\",\"width\":0.5},\"pattern\":{\"fillmode\":\"overlay\",\"size\":10,\"solidity\":0.2}},\"type\":\"bar\"}],\"carpet\":[{\"aaxis\":{\"endlinecolor\":\"#2a3f5f\",\"gridcolor\":\"white\",\"linecolor\":\"white\",\"minorgridcolor\":\"white\",\"startlinecolor\":\"#2a3f5f\"},\"baxis\":{\"endlinecolor\":\"#2a3f5f\",\"gridcolor\":\"white\",\"linecolor\":\"white\",\"minorgridcolor\":\"white\",\"startlinecolor\":\"#2a3f5f\"},\"type\":\"carpet\"}],\"choropleth\":[{\"colorbar\":{\"outlinewidth\":0,\"ticks\":\"\"},\"type\":\"choropleth\"}],\"contourcarpet\":[{\"colorbar\":{\"outlinewidth\":0,\"ticks\":\"\"},\"type\":\"contourcarpet\"}],\"contour\":[{\"colorbar\":{\"outlinewidth\":0,\"ticks\":\"\"},\"colorscale\":[[0.0,\"#0d0887\"],[0.1111111111111111,\"#46039f\"],[0.2222222222222222,\"#7201a8\"],[0.3333333333333333,\"#9c179e\"],[0.4444444444444444,\"#bd3786\"],[0.5555555555555556,\"#d8576b\"],[0.6666666666666666,\"#ed7953\"],[0.7777777777777778,\"#fb9f3a\"],[0.8888888888888888,\"#fdca26\"],[1.0,\"#f0f921\"]],\"type\":\"contour\"}],\"heatmapgl\":[{\"colorbar\":{\"outlinewidth\":0,\"ticks\":\"\"},\"colorscale\":[[0.0,\"#0d0887\"],[0.1111111111111111,\"#46039f\"],[0.2222222222222222,\"#7201a8\"],[0.3333333333333333,\"#9c179e\"],[0.4444444444444444,\"#bd3786\"],[0.5555555555555556,\"#d8576b\"],[0.6666666666666666,\"#ed7953\"],[0.7777777777777778,\"#fb9f3a\"],[0.8888888888888888,\"#fdca26\"],[1.0,\"#f0f921\"]],\"type\":\"heatmapgl\"}],\"heatmap\":[{\"colorbar\":{\"outlinewidth\":0,\"ticks\":\"\"},\"colorscale\":[[0.0,\"#0d0887\"],[0.1111111111111111,\"#46039f\"],[0.2222222222222222,\"#7201a8\"],[0.3333333333333333,\"#9c179e\"],[0.4444444444444444,\"#bd3786\"],[0.5555555555555556,\"#d8576b\"],[0.6666666666666666,\"#ed7953\"],[0.7777777777777778,\"#fb9f3a\"],[0.8888888888888888,\"#fdca26\"],[1.0,\"#f0f921\"]],\"type\":\"heatmap\"}],\"histogram2dcontour\":[{\"colorbar\":{\"outlinewidth\":0,\"ticks\":\"\"},\"colorscale\":[[0.0,\"#0d0887\"],[0.1111111111111111,\"#46039f\"],[0.2222222222222222,\"#7201a8\"],[0.3333333333333333,\"#9c179e\"],[0.4444444444444444,\"#bd3786\"],[0.5555555555555556,\"#d8576b\"],[0.6666666666666666,\"#ed7953\"],[0.7777777777777778,\"#fb9f3a\"],[0.8888888888888888,\"#fdca26\"],[1.0,\"#f0f921\"]],\"type\":\"histogram2dcontour\"}],\"histogram2d\":[{\"colorbar\":{\"outlinewidth\":0,\"ticks\":\"\"},\"colorscale\":[[0.0,\"#0d0887\"],[0.1111111111111111,\"#46039f\"],[0.2222222222222222,\"#7201a8\"],[0.3333333333333333,\"#9c179e\"],[0.4444444444444444,\"#bd3786\"],[0.5555555555555556,\"#d8576b\"],[0.6666666666666666,\"#ed7953\"],[0.7777777777777778,\"#fb9f3a\"],[0.8888888888888888,\"#fdca26\"],[1.0,\"#f0f921\"]],\"type\":\"histogram2d\"}],\"histogram\":[{\"marker\":{\"pattern\":{\"fillmode\":\"overlay\",\"size\":10,\"solidity\":0.2}},\"type\":\"histogram\"}],\"mesh3d\":[{\"colorbar\":{\"outlinewidth\":0,\"ticks\":\"\"},\"type\":\"mesh3d\"}],\"parcoords\":[{\"line\":{\"colorbar\":{\"outlinewidth\":0,\"ticks\":\"\"}},\"type\":\"parcoords\"}],\"pie\":[{\"automargin\":true,\"type\":\"pie\"}],\"scatter3d\":[{\"line\":{\"colorbar\":{\"outlinewidth\":0,\"ticks\":\"\"}},\"marker\":{\"colorbar\":{\"outlinewidth\":0,\"ticks\":\"\"}},\"type\":\"scatter3d\"}],\"scattercarpet\":[{\"marker\":{\"colorbar\":{\"outlinewidth\":0,\"ticks\":\"\"}},\"type\":\"scattercarpet\"}],\"scattergeo\":[{\"marker\":{\"colorbar\":{\"outlinewidth\":0,\"ticks\":\"\"}},\"type\":\"scattergeo\"}],\"scattergl\":[{\"marker\":{\"colorbar\":{\"outlinewidth\":0,\"ticks\":\"\"}},\"type\":\"scattergl\"}],\"scattermapbox\":[{\"marker\":{\"colorbar\":{\"outlinewidth\":0,\"ticks\":\"\"}},\"type\":\"scattermapbox\"}],\"scatterpolargl\":[{\"marker\":{\"colorbar\":{\"outlinewidth\":0,\"ticks\":\"\"}},\"type\":\"scatterpolargl\"}],\"scatterpolar\":[{\"marker\":{\"colorbar\":{\"outlinewidth\":0,\"ticks\":\"\"}},\"type\":\"scatterpolar\"}],\"scatter\":[{\"fillpattern\":{\"fillmode\":\"overlay\",\"size\":10,\"solidity\":0.2},\"type\":\"scatter\"}],\"scatterternary\":[{\"marker\":{\"colorbar\":{\"outlinewidth\":0,\"ticks\":\"\"}},\"type\":\"scatterternary\"}],\"surface\":[{\"colorbar\":{\"outlinewidth\":0,\"ticks\":\"\"},\"colorscale\":[[0.0,\"#0d0887\"],[0.1111111111111111,\"#46039f\"],[0.2222222222222222,\"#7201a8\"],[0.3333333333333333,\"#9c179e\"],[0.4444444444444444,\"#bd3786\"],[0.5555555555555556,\"#d8576b\"],[0.6666666666666666,\"#ed7953\"],[0.7777777777777778,\"#fb9f3a\"],[0.8888888888888888,\"#fdca26\"],[1.0,\"#f0f921\"]],\"type\":\"surface\"}],\"table\":[{\"cells\":{\"fill\":{\"color\":\"#EBF0F8\"},\"line\":{\"color\":\"white\"}},\"header\":{\"fill\":{\"color\":\"#C8D4E3\"},\"line\":{\"color\":\"white\"}},\"type\":\"table\"}]},\"layout\":{\"annotationdefaults\":{\"arrowcolor\":\"#2a3f5f\",\"arrowhead\":0,\"arrowwidth\":1},\"autotypenumbers\":\"strict\",\"coloraxis\":{\"colorbar\":{\"outlinewidth\":0,\"ticks\":\"\"}},\"colorscale\":{\"diverging\":[[0,\"#8e0152\"],[0.1,\"#c51b7d\"],[0.2,\"#de77ae\"],[0.3,\"#f1b6da\"],[0.4,\"#fde0ef\"],[0.5,\"#f7f7f7\"],[0.6,\"#e6f5d0\"],[0.7,\"#b8e186\"],[0.8,\"#7fbc41\"],[0.9,\"#4d9221\"],[1,\"#276419\"]],\"sequential\":[[0.0,\"#0d0887\"],[0.1111111111111111,\"#46039f\"],[0.2222222222222222,\"#7201a8\"],[0.3333333333333333,\"#9c179e\"],[0.4444444444444444,\"#bd3786\"],[0.5555555555555556,\"#d8576b\"],[0.6666666666666666,\"#ed7953\"],[0.7777777777777778,\"#fb9f3a\"],[0.8888888888888888,\"#fdca26\"],[1.0,\"#f0f921\"]],\"sequentialminus\":[[0.0,\"#0d0887\"],[0.1111111111111111,\"#46039f\"],[0.2222222222222222,\"#7201a8\"],[0.3333333333333333,\"#9c179e\"],[0.4444444444444444,\"#bd3786\"],[0.5555555555555556,\"#d8576b\"],[0.6666666666666666,\"#ed7953\"],[0.7777777777777778,\"#fb9f3a\"],[0.8888888888888888,\"#fdca26\"],[1.0,\"#f0f921\"]]},\"colorway\":[\"#636efa\",\"#EF553B\",\"#00cc96\",\"#ab63fa\",\"#FFA15A\",\"#19d3f3\",\"#FF6692\",\"#B6E880\",\"#FF97FF\",\"#FECB52\"],\"font\":{\"color\":\"#2a3f5f\"},\"geo\":{\"bgcolor\":\"white\",\"lakecolor\":\"white\",\"landcolor\":\"#E5ECF6\",\"showlakes\":true,\"showland\":true,\"subunitcolor\":\"white\"},\"hoverlabel\":{\"align\":\"left\"},\"hovermode\":\"closest\",\"mapbox\":{\"style\":\"light\"},\"paper_bgcolor\":\"white\",\"plot_bgcolor\":\"#E5ECF6\",\"polar\":{\"angularaxis\":{\"gridcolor\":\"white\",\"linecolor\":\"white\",\"ticks\":\"\"},\"bgcolor\":\"#E5ECF6\",\"radialaxis\":{\"gridcolor\":\"white\",\"linecolor\":\"white\",\"ticks\":\"\"}},\"scene\":{\"xaxis\":{\"backgroundcolor\":\"#E5ECF6\",\"gridcolor\":\"white\",\"gridwidth\":2,\"linecolor\":\"white\",\"showbackground\":true,\"ticks\":\"\",\"zerolinecolor\":\"white\"},\"yaxis\":{\"backgroundcolor\":\"#E5ECF6\",\"gridcolor\":\"white\",\"gridwidth\":2,\"linecolor\":\"white\",\"showbackground\":true,\"ticks\":\"\",\"zerolinecolor\":\"white\"},\"zaxis\":{\"backgroundcolor\":\"#E5ECF6\",\"gridcolor\":\"white\",\"gridwidth\":2,\"linecolor\":\"white\",\"showbackground\":true,\"ticks\":\"\",\"zerolinecolor\":\"white\"}},\"shapedefaults\":{\"line\":{\"color\":\"#2a3f5f\"}},\"ternary\":{\"aaxis\":{\"gridcolor\":\"white\",\"linecolor\":\"white\",\"ticks\":\"\"},\"baxis\":{\"gridcolor\":\"white\",\"linecolor\":\"white\",\"ticks\":\"\"},\"bgcolor\":\"#E5ECF6\",\"caxis\":{\"gridcolor\":\"white\",\"linecolor\":\"white\",\"ticks\":\"\"}},\"title\":{\"x\":0.05},\"xaxis\":{\"automargin\":true,\"gridcolor\":\"white\",\"linecolor\":\"white\",\"ticks\":\"\",\"title\":{\"standoff\":15},\"zerolinecolor\":\"white\",\"zerolinewidth\":2},\"yaxis\":{\"automargin\":true,\"gridcolor\":\"white\",\"linecolor\":\"white\",\"ticks\":\"\",\"title\":{\"standoff\":15},\"zerolinecolor\":\"white\",\"zerolinewidth\":2}}},\"title\":{\"font\":{\"color\":\"#4D5663\"}},\"xaxis\":{\"gridcolor\":\"#E1E5ED\",\"showgrid\":true,\"tickfont\":{\"color\":\"#4D5663\"},\"title\":{\"font\":{\"color\":\"#4D5663\"},\"text\":\"\"},\"zerolinecolor\":\"#E1E5ED\"},\"yaxis\":{\"gridcolor\":\"#E1E5ED\",\"showgrid\":true,\"tickfont\":{\"color\":\"#4D5663\"},\"title\":{\"font\":{\"color\":\"#4D5663\"},\"text\":\"\"},\"zerolinecolor\":\"#E1E5ED\"}},                        {\"showLink\": true, \"linkText\": \"Export to plot.ly\", \"plotlyServerURL\": \"https://plot.ly\", \"responsive\": true}                    ).then(function(){\n",
       "                            \n",
       "var gd = document.getElementById('1f93c387-aa6f-47ec-a62c-bc1e6af7e5dd');\n",
       "var x = new MutationObserver(function (mutations, observer) {{\n",
       "        var display = window.getComputedStyle(gd).display;\n",
       "        if (!display || display === 'none') {{\n",
       "            console.log([gd, 'removed!']);\n",
       "            Plotly.purge(gd);\n",
       "            observer.disconnect();\n",
       "        }}\n",
       "}});\n",
       "\n",
       "// Listen for the removal of the full notebook cells\n",
       "var notebookContainer = gd.closest('#notebook-container');\n",
       "if (notebookContainer) {{\n",
       "    x.observe(notebookContainer, {childList: true});\n",
       "}}\n",
       "\n",
       "// Listen for the clearing of the current output cell\n",
       "var outputEl = gd.closest('.output');\n",
       "if (outputEl) {{\n",
       "    x.observe(outputEl, {childList: true});\n",
       "}}\n",
       "\n",
       "                        })                };                });            </script>        </div>"
      ]
     },
     "metadata": {},
     "output_type": "display_data"
    }
   ],
   "source": [
    "df2.iplot(kind='bar',x='Category',y='Values')"
   ]
  },
  {
   "cell_type": "code",
   "execution_count": 30,
   "metadata": {},
   "outputs": [
    {
     "data": {
      "application/vnd.plotly.v1+json": {
       "config": {
        "linkText": "Export to plot.ly",
        "plotlyServerURL": "https://plot.ly",
        "showLink": true
       },
       "data": [
        {
         "marker": {
          "color": "rgba(255, 153, 51, 0.6)",
          "line": {
           "color": "rgba(255, 153, 51, 1.0)",
           "width": 1
          }
         },
         "name": "None",
         "orientation": "v",
         "text": "",
         "type": "bar",
         "x": [
          "A",
          "B",
          "C",
          "D"
         ],
         "y": [
          100,
          100,
          100,
          100
         ]
        }
       ],
       "layout": {
        "legend": {
         "bgcolor": "#F5F6F9",
         "font": {
          "color": "#4D5663"
         }
        },
        "paper_bgcolor": "#F5F6F9",
        "plot_bgcolor": "#F5F6F9",
        "template": {
         "data": {
          "bar": [
           {
            "error_x": {
             "color": "#2a3f5f"
            },
            "error_y": {
             "color": "#2a3f5f"
            },
            "marker": {
             "line": {
              "color": "#E5ECF6",
              "width": 0.5
             },
             "pattern": {
              "fillmode": "overlay",
              "size": 10,
              "solidity": 0.2
             }
            },
            "type": "bar"
           }
          ],
          "barpolar": [
           {
            "marker": {
             "line": {
              "color": "#E5ECF6",
              "width": 0.5
             },
             "pattern": {
              "fillmode": "overlay",
              "size": 10,
              "solidity": 0.2
             }
            },
            "type": "barpolar"
           }
          ],
          "carpet": [
           {
            "aaxis": {
             "endlinecolor": "#2a3f5f",
             "gridcolor": "white",
             "linecolor": "white",
             "minorgridcolor": "white",
             "startlinecolor": "#2a3f5f"
            },
            "baxis": {
             "endlinecolor": "#2a3f5f",
             "gridcolor": "white",
             "linecolor": "white",
             "minorgridcolor": "white",
             "startlinecolor": "#2a3f5f"
            },
            "type": "carpet"
           }
          ],
          "choropleth": [
           {
            "colorbar": {
             "outlinewidth": 0,
             "ticks": ""
            },
            "type": "choropleth"
           }
          ],
          "contour": [
           {
            "colorbar": {
             "outlinewidth": 0,
             "ticks": ""
            },
            "colorscale": [
             [
              0,
              "#0d0887"
             ],
             [
              0.1111111111111111,
              "#46039f"
             ],
             [
              0.2222222222222222,
              "#7201a8"
             ],
             [
              0.3333333333333333,
              "#9c179e"
             ],
             [
              0.4444444444444444,
              "#bd3786"
             ],
             [
              0.5555555555555556,
              "#d8576b"
             ],
             [
              0.6666666666666666,
              "#ed7953"
             ],
             [
              0.7777777777777778,
              "#fb9f3a"
             ],
             [
              0.8888888888888888,
              "#fdca26"
             ],
             [
              1,
              "#f0f921"
             ]
            ],
            "type": "contour"
           }
          ],
          "contourcarpet": [
           {
            "colorbar": {
             "outlinewidth": 0,
             "ticks": ""
            },
            "type": "contourcarpet"
           }
          ],
          "heatmap": [
           {
            "colorbar": {
             "outlinewidth": 0,
             "ticks": ""
            },
            "colorscale": [
             [
              0,
              "#0d0887"
             ],
             [
              0.1111111111111111,
              "#46039f"
             ],
             [
              0.2222222222222222,
              "#7201a8"
             ],
             [
              0.3333333333333333,
              "#9c179e"
             ],
             [
              0.4444444444444444,
              "#bd3786"
             ],
             [
              0.5555555555555556,
              "#d8576b"
             ],
             [
              0.6666666666666666,
              "#ed7953"
             ],
             [
              0.7777777777777778,
              "#fb9f3a"
             ],
             [
              0.8888888888888888,
              "#fdca26"
             ],
             [
              1,
              "#f0f921"
             ]
            ],
            "type": "heatmap"
           }
          ],
          "heatmapgl": [
           {
            "colorbar": {
             "outlinewidth": 0,
             "ticks": ""
            },
            "colorscale": [
             [
              0,
              "#0d0887"
             ],
             [
              0.1111111111111111,
              "#46039f"
             ],
             [
              0.2222222222222222,
              "#7201a8"
             ],
             [
              0.3333333333333333,
              "#9c179e"
             ],
             [
              0.4444444444444444,
              "#bd3786"
             ],
             [
              0.5555555555555556,
              "#d8576b"
             ],
             [
              0.6666666666666666,
              "#ed7953"
             ],
             [
              0.7777777777777778,
              "#fb9f3a"
             ],
             [
              0.8888888888888888,
              "#fdca26"
             ],
             [
              1,
              "#f0f921"
             ]
            ],
            "type": "heatmapgl"
           }
          ],
          "histogram": [
           {
            "marker": {
             "pattern": {
              "fillmode": "overlay",
              "size": 10,
              "solidity": 0.2
             }
            },
            "type": "histogram"
           }
          ],
          "histogram2d": [
           {
            "colorbar": {
             "outlinewidth": 0,
             "ticks": ""
            },
            "colorscale": [
             [
              0,
              "#0d0887"
             ],
             [
              0.1111111111111111,
              "#46039f"
             ],
             [
              0.2222222222222222,
              "#7201a8"
             ],
             [
              0.3333333333333333,
              "#9c179e"
             ],
             [
              0.4444444444444444,
              "#bd3786"
             ],
             [
              0.5555555555555556,
              "#d8576b"
             ],
             [
              0.6666666666666666,
              "#ed7953"
             ],
             [
              0.7777777777777778,
              "#fb9f3a"
             ],
             [
              0.8888888888888888,
              "#fdca26"
             ],
             [
              1,
              "#f0f921"
             ]
            ],
            "type": "histogram2d"
           }
          ],
          "histogram2dcontour": [
           {
            "colorbar": {
             "outlinewidth": 0,
             "ticks": ""
            },
            "colorscale": [
             [
              0,
              "#0d0887"
             ],
             [
              0.1111111111111111,
              "#46039f"
             ],
             [
              0.2222222222222222,
              "#7201a8"
             ],
             [
              0.3333333333333333,
              "#9c179e"
             ],
             [
              0.4444444444444444,
              "#bd3786"
             ],
             [
              0.5555555555555556,
              "#d8576b"
             ],
             [
              0.6666666666666666,
              "#ed7953"
             ],
             [
              0.7777777777777778,
              "#fb9f3a"
             ],
             [
              0.8888888888888888,
              "#fdca26"
             ],
             [
              1,
              "#f0f921"
             ]
            ],
            "type": "histogram2dcontour"
           }
          ],
          "mesh3d": [
           {
            "colorbar": {
             "outlinewidth": 0,
             "ticks": ""
            },
            "type": "mesh3d"
           }
          ],
          "parcoords": [
           {
            "line": {
             "colorbar": {
              "outlinewidth": 0,
              "ticks": ""
             }
            },
            "type": "parcoords"
           }
          ],
          "pie": [
           {
            "automargin": true,
            "type": "pie"
           }
          ],
          "scatter": [
           {
            "fillpattern": {
             "fillmode": "overlay",
             "size": 10,
             "solidity": 0.2
            },
            "type": "scatter"
           }
          ],
          "scatter3d": [
           {
            "line": {
             "colorbar": {
              "outlinewidth": 0,
              "ticks": ""
             }
            },
            "marker": {
             "colorbar": {
              "outlinewidth": 0,
              "ticks": ""
             }
            },
            "type": "scatter3d"
           }
          ],
          "scattercarpet": [
           {
            "marker": {
             "colorbar": {
              "outlinewidth": 0,
              "ticks": ""
             }
            },
            "type": "scattercarpet"
           }
          ],
          "scattergeo": [
           {
            "marker": {
             "colorbar": {
              "outlinewidth": 0,
              "ticks": ""
             }
            },
            "type": "scattergeo"
           }
          ],
          "scattergl": [
           {
            "marker": {
             "colorbar": {
              "outlinewidth": 0,
              "ticks": ""
             }
            },
            "type": "scattergl"
           }
          ],
          "scattermapbox": [
           {
            "marker": {
             "colorbar": {
              "outlinewidth": 0,
              "ticks": ""
             }
            },
            "type": "scattermapbox"
           }
          ],
          "scatterpolar": [
           {
            "marker": {
             "colorbar": {
              "outlinewidth": 0,
              "ticks": ""
             }
            },
            "type": "scatterpolar"
           }
          ],
          "scatterpolargl": [
           {
            "marker": {
             "colorbar": {
              "outlinewidth": 0,
              "ticks": ""
             }
            },
            "type": "scatterpolargl"
           }
          ],
          "scatterternary": [
           {
            "marker": {
             "colorbar": {
              "outlinewidth": 0,
              "ticks": ""
             }
            },
            "type": "scatterternary"
           }
          ],
          "surface": [
           {
            "colorbar": {
             "outlinewidth": 0,
             "ticks": ""
            },
            "colorscale": [
             [
              0,
              "#0d0887"
             ],
             [
              0.1111111111111111,
              "#46039f"
             ],
             [
              0.2222222222222222,
              "#7201a8"
             ],
             [
              0.3333333333333333,
              "#9c179e"
             ],
             [
              0.4444444444444444,
              "#bd3786"
             ],
             [
              0.5555555555555556,
              "#d8576b"
             ],
             [
              0.6666666666666666,
              "#ed7953"
             ],
             [
              0.7777777777777778,
              "#fb9f3a"
             ],
             [
              0.8888888888888888,
              "#fdca26"
             ],
             [
              1,
              "#f0f921"
             ]
            ],
            "type": "surface"
           }
          ],
          "table": [
           {
            "cells": {
             "fill": {
              "color": "#EBF0F8"
             },
             "line": {
              "color": "white"
             }
            },
            "header": {
             "fill": {
              "color": "#C8D4E3"
             },
             "line": {
              "color": "white"
             }
            },
            "type": "table"
           }
          ]
         },
         "layout": {
          "annotationdefaults": {
           "arrowcolor": "#2a3f5f",
           "arrowhead": 0,
           "arrowwidth": 1
          },
          "autotypenumbers": "strict",
          "coloraxis": {
           "colorbar": {
            "outlinewidth": 0,
            "ticks": ""
           }
          },
          "colorscale": {
           "diverging": [
            [
             0,
             "#8e0152"
            ],
            [
             0.1,
             "#c51b7d"
            ],
            [
             0.2,
             "#de77ae"
            ],
            [
             0.3,
             "#f1b6da"
            ],
            [
             0.4,
             "#fde0ef"
            ],
            [
             0.5,
             "#f7f7f7"
            ],
            [
             0.6,
             "#e6f5d0"
            ],
            [
             0.7,
             "#b8e186"
            ],
            [
             0.8,
             "#7fbc41"
            ],
            [
             0.9,
             "#4d9221"
            ],
            [
             1,
             "#276419"
            ]
           ],
           "sequential": [
            [
             0,
             "#0d0887"
            ],
            [
             0.1111111111111111,
             "#46039f"
            ],
            [
             0.2222222222222222,
             "#7201a8"
            ],
            [
             0.3333333333333333,
             "#9c179e"
            ],
            [
             0.4444444444444444,
             "#bd3786"
            ],
            [
             0.5555555555555556,
             "#d8576b"
            ],
            [
             0.6666666666666666,
             "#ed7953"
            ],
            [
             0.7777777777777778,
             "#fb9f3a"
            ],
            [
             0.8888888888888888,
             "#fdca26"
            ],
            [
             1,
             "#f0f921"
            ]
           ],
           "sequentialminus": [
            [
             0,
             "#0d0887"
            ],
            [
             0.1111111111111111,
             "#46039f"
            ],
            [
             0.2222222222222222,
             "#7201a8"
            ],
            [
             0.3333333333333333,
             "#9c179e"
            ],
            [
             0.4444444444444444,
             "#bd3786"
            ],
            [
             0.5555555555555556,
             "#d8576b"
            ],
            [
             0.6666666666666666,
             "#ed7953"
            ],
            [
             0.7777777777777778,
             "#fb9f3a"
            ],
            [
             0.8888888888888888,
             "#fdca26"
            ],
            [
             1,
             "#f0f921"
            ]
           ]
          },
          "colorway": [
           "#636efa",
           "#EF553B",
           "#00cc96",
           "#ab63fa",
           "#FFA15A",
           "#19d3f3",
           "#FF6692",
           "#B6E880",
           "#FF97FF",
           "#FECB52"
          ],
          "font": {
           "color": "#2a3f5f"
          },
          "geo": {
           "bgcolor": "white",
           "lakecolor": "white",
           "landcolor": "#E5ECF6",
           "showlakes": true,
           "showland": true,
           "subunitcolor": "white"
          },
          "hoverlabel": {
           "align": "left"
          },
          "hovermode": "closest",
          "mapbox": {
           "style": "light"
          },
          "paper_bgcolor": "white",
          "plot_bgcolor": "#E5ECF6",
          "polar": {
           "angularaxis": {
            "gridcolor": "white",
            "linecolor": "white",
            "ticks": ""
           },
           "bgcolor": "#E5ECF6",
           "radialaxis": {
            "gridcolor": "white",
            "linecolor": "white",
            "ticks": ""
           }
          },
          "scene": {
           "xaxis": {
            "backgroundcolor": "#E5ECF6",
            "gridcolor": "white",
            "gridwidth": 2,
            "linecolor": "white",
            "showbackground": true,
            "ticks": "",
            "zerolinecolor": "white"
           },
           "yaxis": {
            "backgroundcolor": "#E5ECF6",
            "gridcolor": "white",
            "gridwidth": 2,
            "linecolor": "white",
            "showbackground": true,
            "ticks": "",
            "zerolinecolor": "white"
           },
           "zaxis": {
            "backgroundcolor": "#E5ECF6",
            "gridcolor": "white",
            "gridwidth": 2,
            "linecolor": "white",
            "showbackground": true,
            "ticks": "",
            "zerolinecolor": "white"
           }
          },
          "shapedefaults": {
           "line": {
            "color": "#2a3f5f"
           }
          },
          "ternary": {
           "aaxis": {
            "gridcolor": "white",
            "linecolor": "white",
            "ticks": ""
           },
           "baxis": {
            "gridcolor": "white",
            "linecolor": "white",
            "ticks": ""
           },
           "bgcolor": "#E5ECF6",
           "caxis": {
            "gridcolor": "white",
            "linecolor": "white",
            "ticks": ""
           }
          },
          "title": {
           "x": 0.05
          },
          "xaxis": {
           "automargin": true,
           "gridcolor": "white",
           "linecolor": "white",
           "ticks": "",
           "title": {
            "standoff": 15
           },
           "zerolinecolor": "white",
           "zerolinewidth": 2
          },
          "yaxis": {
           "automargin": true,
           "gridcolor": "white",
           "linecolor": "white",
           "ticks": "",
           "title": {
            "standoff": 15
           },
           "zerolinecolor": "white",
           "zerolinewidth": 2
          }
         }
        },
        "title": {
         "font": {
          "color": "#4D5663"
         }
        },
        "xaxis": {
         "gridcolor": "#E1E5ED",
         "showgrid": true,
         "tickfont": {
          "color": "#4D5663"
         },
         "title": {
          "font": {
           "color": "#4D5663"
          },
          "text": ""
         },
         "zerolinecolor": "#E1E5ED"
        },
        "yaxis": {
         "gridcolor": "#E1E5ED",
         "showgrid": true,
         "tickfont": {
          "color": "#4D5663"
         },
         "title": {
          "font": {
           "color": "#4D5663"
          },
          "text": ""
         },
         "zerolinecolor": "#E1E5ED"
        }
       }
      },
      "text/html": [
       "<div>                            <div id=\"5e45676a-9d61-4e99-920d-fb5f4cf93907\" class=\"plotly-graph-div\" style=\"height:525px; width:100%;\"></div>            <script type=\"text/javascript\">                require([\"plotly\"], function(Plotly) {                    window.PLOTLYENV=window.PLOTLYENV || {};\n",
       "                    window.PLOTLYENV.BASE_URL='https://plot.ly';                                    if (document.getElementById(\"5e45676a-9d61-4e99-920d-fb5f4cf93907\")) {                    Plotly.newPlot(                        \"5e45676a-9d61-4e99-920d-fb5f4cf93907\",                        [{\"marker\":{\"color\":\"rgba(255, 153, 51, 0.6)\",\"line\":{\"color\":\"rgba(255, 153, 51, 1.0)\",\"width\":1}},\"name\":\"None\",\"orientation\":\"v\",\"text\":\"\",\"x\":[\"A\",\"B\",\"C\",\"D\"],\"y\":[100,100,100,100],\"type\":\"bar\"}],                        {\"legend\":{\"bgcolor\":\"#F5F6F9\",\"font\":{\"color\":\"#4D5663\"}},\"paper_bgcolor\":\"#F5F6F9\",\"plot_bgcolor\":\"#F5F6F9\",\"template\":{\"data\":{\"barpolar\":[{\"marker\":{\"line\":{\"color\":\"#E5ECF6\",\"width\":0.5},\"pattern\":{\"fillmode\":\"overlay\",\"size\":10,\"solidity\":0.2}},\"type\":\"barpolar\"}],\"bar\":[{\"error_x\":{\"color\":\"#2a3f5f\"},\"error_y\":{\"color\":\"#2a3f5f\"},\"marker\":{\"line\":{\"color\":\"#E5ECF6\",\"width\":0.5},\"pattern\":{\"fillmode\":\"overlay\",\"size\":10,\"solidity\":0.2}},\"type\":\"bar\"}],\"carpet\":[{\"aaxis\":{\"endlinecolor\":\"#2a3f5f\",\"gridcolor\":\"white\",\"linecolor\":\"white\",\"minorgridcolor\":\"white\",\"startlinecolor\":\"#2a3f5f\"},\"baxis\":{\"endlinecolor\":\"#2a3f5f\",\"gridcolor\":\"white\",\"linecolor\":\"white\",\"minorgridcolor\":\"white\",\"startlinecolor\":\"#2a3f5f\"},\"type\":\"carpet\"}],\"choropleth\":[{\"colorbar\":{\"outlinewidth\":0,\"ticks\":\"\"},\"type\":\"choropleth\"}],\"contourcarpet\":[{\"colorbar\":{\"outlinewidth\":0,\"ticks\":\"\"},\"type\":\"contourcarpet\"}],\"contour\":[{\"colorbar\":{\"outlinewidth\":0,\"ticks\":\"\"},\"colorscale\":[[0.0,\"#0d0887\"],[0.1111111111111111,\"#46039f\"],[0.2222222222222222,\"#7201a8\"],[0.3333333333333333,\"#9c179e\"],[0.4444444444444444,\"#bd3786\"],[0.5555555555555556,\"#d8576b\"],[0.6666666666666666,\"#ed7953\"],[0.7777777777777778,\"#fb9f3a\"],[0.8888888888888888,\"#fdca26\"],[1.0,\"#f0f921\"]],\"type\":\"contour\"}],\"heatmapgl\":[{\"colorbar\":{\"outlinewidth\":0,\"ticks\":\"\"},\"colorscale\":[[0.0,\"#0d0887\"],[0.1111111111111111,\"#46039f\"],[0.2222222222222222,\"#7201a8\"],[0.3333333333333333,\"#9c179e\"],[0.4444444444444444,\"#bd3786\"],[0.5555555555555556,\"#d8576b\"],[0.6666666666666666,\"#ed7953\"],[0.7777777777777778,\"#fb9f3a\"],[0.8888888888888888,\"#fdca26\"],[1.0,\"#f0f921\"]],\"type\":\"heatmapgl\"}],\"heatmap\":[{\"colorbar\":{\"outlinewidth\":0,\"ticks\":\"\"},\"colorscale\":[[0.0,\"#0d0887\"],[0.1111111111111111,\"#46039f\"],[0.2222222222222222,\"#7201a8\"],[0.3333333333333333,\"#9c179e\"],[0.4444444444444444,\"#bd3786\"],[0.5555555555555556,\"#d8576b\"],[0.6666666666666666,\"#ed7953\"],[0.7777777777777778,\"#fb9f3a\"],[0.8888888888888888,\"#fdca26\"],[1.0,\"#f0f921\"]],\"type\":\"heatmap\"}],\"histogram2dcontour\":[{\"colorbar\":{\"outlinewidth\":0,\"ticks\":\"\"},\"colorscale\":[[0.0,\"#0d0887\"],[0.1111111111111111,\"#46039f\"],[0.2222222222222222,\"#7201a8\"],[0.3333333333333333,\"#9c179e\"],[0.4444444444444444,\"#bd3786\"],[0.5555555555555556,\"#d8576b\"],[0.6666666666666666,\"#ed7953\"],[0.7777777777777778,\"#fb9f3a\"],[0.8888888888888888,\"#fdca26\"],[1.0,\"#f0f921\"]],\"type\":\"histogram2dcontour\"}],\"histogram2d\":[{\"colorbar\":{\"outlinewidth\":0,\"ticks\":\"\"},\"colorscale\":[[0.0,\"#0d0887\"],[0.1111111111111111,\"#46039f\"],[0.2222222222222222,\"#7201a8\"],[0.3333333333333333,\"#9c179e\"],[0.4444444444444444,\"#bd3786\"],[0.5555555555555556,\"#d8576b\"],[0.6666666666666666,\"#ed7953\"],[0.7777777777777778,\"#fb9f3a\"],[0.8888888888888888,\"#fdca26\"],[1.0,\"#f0f921\"]],\"type\":\"histogram2d\"}],\"histogram\":[{\"marker\":{\"pattern\":{\"fillmode\":\"overlay\",\"size\":10,\"solidity\":0.2}},\"type\":\"histogram\"}],\"mesh3d\":[{\"colorbar\":{\"outlinewidth\":0,\"ticks\":\"\"},\"type\":\"mesh3d\"}],\"parcoords\":[{\"line\":{\"colorbar\":{\"outlinewidth\":0,\"ticks\":\"\"}},\"type\":\"parcoords\"}],\"pie\":[{\"automargin\":true,\"type\":\"pie\"}],\"scatter3d\":[{\"line\":{\"colorbar\":{\"outlinewidth\":0,\"ticks\":\"\"}},\"marker\":{\"colorbar\":{\"outlinewidth\":0,\"ticks\":\"\"}},\"type\":\"scatter3d\"}],\"scattercarpet\":[{\"marker\":{\"colorbar\":{\"outlinewidth\":0,\"ticks\":\"\"}},\"type\":\"scattercarpet\"}],\"scattergeo\":[{\"marker\":{\"colorbar\":{\"outlinewidth\":0,\"ticks\":\"\"}},\"type\":\"scattergeo\"}],\"scattergl\":[{\"marker\":{\"colorbar\":{\"outlinewidth\":0,\"ticks\":\"\"}},\"type\":\"scattergl\"}],\"scattermapbox\":[{\"marker\":{\"colorbar\":{\"outlinewidth\":0,\"ticks\":\"\"}},\"type\":\"scattermapbox\"}],\"scatterpolargl\":[{\"marker\":{\"colorbar\":{\"outlinewidth\":0,\"ticks\":\"\"}},\"type\":\"scatterpolargl\"}],\"scatterpolar\":[{\"marker\":{\"colorbar\":{\"outlinewidth\":0,\"ticks\":\"\"}},\"type\":\"scatterpolar\"}],\"scatter\":[{\"fillpattern\":{\"fillmode\":\"overlay\",\"size\":10,\"solidity\":0.2},\"type\":\"scatter\"}],\"scatterternary\":[{\"marker\":{\"colorbar\":{\"outlinewidth\":0,\"ticks\":\"\"}},\"type\":\"scatterternary\"}],\"surface\":[{\"colorbar\":{\"outlinewidth\":0,\"ticks\":\"\"},\"colorscale\":[[0.0,\"#0d0887\"],[0.1111111111111111,\"#46039f\"],[0.2222222222222222,\"#7201a8\"],[0.3333333333333333,\"#9c179e\"],[0.4444444444444444,\"#bd3786\"],[0.5555555555555556,\"#d8576b\"],[0.6666666666666666,\"#ed7953\"],[0.7777777777777778,\"#fb9f3a\"],[0.8888888888888888,\"#fdca26\"],[1.0,\"#f0f921\"]],\"type\":\"surface\"}],\"table\":[{\"cells\":{\"fill\":{\"color\":\"#EBF0F8\"},\"line\":{\"color\":\"white\"}},\"header\":{\"fill\":{\"color\":\"#C8D4E3\"},\"line\":{\"color\":\"white\"}},\"type\":\"table\"}]},\"layout\":{\"annotationdefaults\":{\"arrowcolor\":\"#2a3f5f\",\"arrowhead\":0,\"arrowwidth\":1},\"autotypenumbers\":\"strict\",\"coloraxis\":{\"colorbar\":{\"outlinewidth\":0,\"ticks\":\"\"}},\"colorscale\":{\"diverging\":[[0,\"#8e0152\"],[0.1,\"#c51b7d\"],[0.2,\"#de77ae\"],[0.3,\"#f1b6da\"],[0.4,\"#fde0ef\"],[0.5,\"#f7f7f7\"],[0.6,\"#e6f5d0\"],[0.7,\"#b8e186\"],[0.8,\"#7fbc41\"],[0.9,\"#4d9221\"],[1,\"#276419\"]],\"sequential\":[[0.0,\"#0d0887\"],[0.1111111111111111,\"#46039f\"],[0.2222222222222222,\"#7201a8\"],[0.3333333333333333,\"#9c179e\"],[0.4444444444444444,\"#bd3786\"],[0.5555555555555556,\"#d8576b\"],[0.6666666666666666,\"#ed7953\"],[0.7777777777777778,\"#fb9f3a\"],[0.8888888888888888,\"#fdca26\"],[1.0,\"#f0f921\"]],\"sequentialminus\":[[0.0,\"#0d0887\"],[0.1111111111111111,\"#46039f\"],[0.2222222222222222,\"#7201a8\"],[0.3333333333333333,\"#9c179e\"],[0.4444444444444444,\"#bd3786\"],[0.5555555555555556,\"#d8576b\"],[0.6666666666666666,\"#ed7953\"],[0.7777777777777778,\"#fb9f3a\"],[0.8888888888888888,\"#fdca26\"],[1.0,\"#f0f921\"]]},\"colorway\":[\"#636efa\",\"#EF553B\",\"#00cc96\",\"#ab63fa\",\"#FFA15A\",\"#19d3f3\",\"#FF6692\",\"#B6E880\",\"#FF97FF\",\"#FECB52\"],\"font\":{\"color\":\"#2a3f5f\"},\"geo\":{\"bgcolor\":\"white\",\"lakecolor\":\"white\",\"landcolor\":\"#E5ECF6\",\"showlakes\":true,\"showland\":true,\"subunitcolor\":\"white\"},\"hoverlabel\":{\"align\":\"left\"},\"hovermode\":\"closest\",\"mapbox\":{\"style\":\"light\"},\"paper_bgcolor\":\"white\",\"plot_bgcolor\":\"#E5ECF6\",\"polar\":{\"angularaxis\":{\"gridcolor\":\"white\",\"linecolor\":\"white\",\"ticks\":\"\"},\"bgcolor\":\"#E5ECF6\",\"radialaxis\":{\"gridcolor\":\"white\",\"linecolor\":\"white\",\"ticks\":\"\"}},\"scene\":{\"xaxis\":{\"backgroundcolor\":\"#E5ECF6\",\"gridcolor\":\"white\",\"gridwidth\":2,\"linecolor\":\"white\",\"showbackground\":true,\"ticks\":\"\",\"zerolinecolor\":\"white\"},\"yaxis\":{\"backgroundcolor\":\"#E5ECF6\",\"gridcolor\":\"white\",\"gridwidth\":2,\"linecolor\":\"white\",\"showbackground\":true,\"ticks\":\"\",\"zerolinecolor\":\"white\"},\"zaxis\":{\"backgroundcolor\":\"#E5ECF6\",\"gridcolor\":\"white\",\"gridwidth\":2,\"linecolor\":\"white\",\"showbackground\":true,\"ticks\":\"\",\"zerolinecolor\":\"white\"}},\"shapedefaults\":{\"line\":{\"color\":\"#2a3f5f\"}},\"ternary\":{\"aaxis\":{\"gridcolor\":\"white\",\"linecolor\":\"white\",\"ticks\":\"\"},\"baxis\":{\"gridcolor\":\"white\",\"linecolor\":\"white\",\"ticks\":\"\"},\"bgcolor\":\"#E5ECF6\",\"caxis\":{\"gridcolor\":\"white\",\"linecolor\":\"white\",\"ticks\":\"\"}},\"title\":{\"x\":0.05},\"xaxis\":{\"automargin\":true,\"gridcolor\":\"white\",\"linecolor\":\"white\",\"ticks\":\"\",\"title\":{\"standoff\":15},\"zerolinecolor\":\"white\",\"zerolinewidth\":2},\"yaxis\":{\"automargin\":true,\"gridcolor\":\"white\",\"linecolor\":\"white\",\"ticks\":\"\",\"title\":{\"standoff\":15},\"zerolinecolor\":\"white\",\"zerolinewidth\":2}}},\"title\":{\"font\":{\"color\":\"#4D5663\"}},\"xaxis\":{\"gridcolor\":\"#E1E5ED\",\"showgrid\":true,\"tickfont\":{\"color\":\"#4D5663\"},\"title\":{\"font\":{\"color\":\"#4D5663\"},\"text\":\"\"},\"zerolinecolor\":\"#E1E5ED\"},\"yaxis\":{\"gridcolor\":\"#E1E5ED\",\"showgrid\":true,\"tickfont\":{\"color\":\"#4D5663\"},\"title\":{\"font\":{\"color\":\"#4D5663\"},\"text\":\"\"},\"zerolinecolor\":\"#E1E5ED\"}},                        {\"showLink\": true, \"linkText\": \"Export to plot.ly\", \"plotlyServerURL\": \"https://plot.ly\", \"responsive\": true}                    ).then(function(){\n",
       "                            \n",
       "var gd = document.getElementById('5e45676a-9d61-4e99-920d-fb5f4cf93907');\n",
       "var x = new MutationObserver(function (mutations, observer) {{\n",
       "        var display = window.getComputedStyle(gd).display;\n",
       "        if (!display || display === 'none') {{\n",
       "            console.log([gd, 'removed!']);\n",
       "            Plotly.purge(gd);\n",
       "            observer.disconnect();\n",
       "        }}\n",
       "}});\n",
       "\n",
       "// Listen for the removal of the full notebook cells\n",
       "var notebookContainer = gd.closest('#notebook-container');\n",
       "if (notebookContainer) {{\n",
       "    x.observe(notebookContainer, {childList: true});\n",
       "}}\n",
       "\n",
       "// Listen for the clearing of the current output cell\n",
       "var outputEl = gd.closest('.output');\n",
       "if (outputEl) {{\n",
       "    x.observe(outputEl, {childList: true});\n",
       "}}\n",
       "\n",
       "                        })                };                });            </script>        </div>"
      ]
     },
     "metadata": {},
     "output_type": "display_data"
    }
   ],
   "source": [
    "df.count().iplot(kind='bar')"
   ]
  },
  {
   "cell_type": "code",
   "execution_count": 39,
   "metadata": {},
   "outputs": [
    {
     "data": {
      "application/vnd.plotly.v1+json": {
       "config": {
        "linkText": "Export to plot.ly",
        "plotlyServerURL": "https://plot.ly",
        "showLink": true
       },
       "data": [
        {
         "marker": {
          "color": "rgba(255, 153, 51, 0.6)",
          "line": {
           "color": "rgba(255, 153, 51, 1.0)",
           "width": 1
          }
         },
         "name": "None",
         "orientation": "v",
         "text": "",
         "type": "bar",
         "x": [
          "A",
          "B",
          "C",
          "D"
         ],
         "y": [
          0.09306365639514066,
          0.05727028816482341,
          -0.11494004285049877,
          -0.012455759678931345
         ]
        }
       ],
       "layout": {
        "legend": {
         "bgcolor": "#F5F6F9",
         "font": {
          "color": "#4D5663"
         }
        },
        "paper_bgcolor": "#F5F6F9",
        "plot_bgcolor": "#F5F6F9",
        "template": {
         "data": {
          "bar": [
           {
            "error_x": {
             "color": "#2a3f5f"
            },
            "error_y": {
             "color": "#2a3f5f"
            },
            "marker": {
             "line": {
              "color": "#E5ECF6",
              "width": 0.5
             },
             "pattern": {
              "fillmode": "overlay",
              "size": 10,
              "solidity": 0.2
             }
            },
            "type": "bar"
           }
          ],
          "barpolar": [
           {
            "marker": {
             "line": {
              "color": "#E5ECF6",
              "width": 0.5
             },
             "pattern": {
              "fillmode": "overlay",
              "size": 10,
              "solidity": 0.2
             }
            },
            "type": "barpolar"
           }
          ],
          "carpet": [
           {
            "aaxis": {
             "endlinecolor": "#2a3f5f",
             "gridcolor": "white",
             "linecolor": "white",
             "minorgridcolor": "white",
             "startlinecolor": "#2a3f5f"
            },
            "baxis": {
             "endlinecolor": "#2a3f5f",
             "gridcolor": "white",
             "linecolor": "white",
             "minorgridcolor": "white",
             "startlinecolor": "#2a3f5f"
            },
            "type": "carpet"
           }
          ],
          "choropleth": [
           {
            "colorbar": {
             "outlinewidth": 0,
             "ticks": ""
            },
            "type": "choropleth"
           }
          ],
          "contour": [
           {
            "colorbar": {
             "outlinewidth": 0,
             "ticks": ""
            },
            "colorscale": [
             [
              0,
              "#0d0887"
             ],
             [
              0.1111111111111111,
              "#46039f"
             ],
             [
              0.2222222222222222,
              "#7201a8"
             ],
             [
              0.3333333333333333,
              "#9c179e"
             ],
             [
              0.4444444444444444,
              "#bd3786"
             ],
             [
              0.5555555555555556,
              "#d8576b"
             ],
             [
              0.6666666666666666,
              "#ed7953"
             ],
             [
              0.7777777777777778,
              "#fb9f3a"
             ],
             [
              0.8888888888888888,
              "#fdca26"
             ],
             [
              1,
              "#f0f921"
             ]
            ],
            "type": "contour"
           }
          ],
          "contourcarpet": [
           {
            "colorbar": {
             "outlinewidth": 0,
             "ticks": ""
            },
            "type": "contourcarpet"
           }
          ],
          "heatmap": [
           {
            "colorbar": {
             "outlinewidth": 0,
             "ticks": ""
            },
            "colorscale": [
             [
              0,
              "#0d0887"
             ],
             [
              0.1111111111111111,
              "#46039f"
             ],
             [
              0.2222222222222222,
              "#7201a8"
             ],
             [
              0.3333333333333333,
              "#9c179e"
             ],
             [
              0.4444444444444444,
              "#bd3786"
             ],
             [
              0.5555555555555556,
              "#d8576b"
             ],
             [
              0.6666666666666666,
              "#ed7953"
             ],
             [
              0.7777777777777778,
              "#fb9f3a"
             ],
             [
              0.8888888888888888,
              "#fdca26"
             ],
             [
              1,
              "#f0f921"
             ]
            ],
            "type": "heatmap"
           }
          ],
          "heatmapgl": [
           {
            "colorbar": {
             "outlinewidth": 0,
             "ticks": ""
            },
            "colorscale": [
             [
              0,
              "#0d0887"
             ],
             [
              0.1111111111111111,
              "#46039f"
             ],
             [
              0.2222222222222222,
              "#7201a8"
             ],
             [
              0.3333333333333333,
              "#9c179e"
             ],
             [
              0.4444444444444444,
              "#bd3786"
             ],
             [
              0.5555555555555556,
              "#d8576b"
             ],
             [
              0.6666666666666666,
              "#ed7953"
             ],
             [
              0.7777777777777778,
              "#fb9f3a"
             ],
             [
              0.8888888888888888,
              "#fdca26"
             ],
             [
              1,
              "#f0f921"
             ]
            ],
            "type": "heatmapgl"
           }
          ],
          "histogram": [
           {
            "marker": {
             "pattern": {
              "fillmode": "overlay",
              "size": 10,
              "solidity": 0.2
             }
            },
            "type": "histogram"
           }
          ],
          "histogram2d": [
           {
            "colorbar": {
             "outlinewidth": 0,
             "ticks": ""
            },
            "colorscale": [
             [
              0,
              "#0d0887"
             ],
             [
              0.1111111111111111,
              "#46039f"
             ],
             [
              0.2222222222222222,
              "#7201a8"
             ],
             [
              0.3333333333333333,
              "#9c179e"
             ],
             [
              0.4444444444444444,
              "#bd3786"
             ],
             [
              0.5555555555555556,
              "#d8576b"
             ],
             [
              0.6666666666666666,
              "#ed7953"
             ],
             [
              0.7777777777777778,
              "#fb9f3a"
             ],
             [
              0.8888888888888888,
              "#fdca26"
             ],
             [
              1,
              "#f0f921"
             ]
            ],
            "type": "histogram2d"
           }
          ],
          "histogram2dcontour": [
           {
            "colorbar": {
             "outlinewidth": 0,
             "ticks": ""
            },
            "colorscale": [
             [
              0,
              "#0d0887"
             ],
             [
              0.1111111111111111,
              "#46039f"
             ],
             [
              0.2222222222222222,
              "#7201a8"
             ],
             [
              0.3333333333333333,
              "#9c179e"
             ],
             [
              0.4444444444444444,
              "#bd3786"
             ],
             [
              0.5555555555555556,
              "#d8576b"
             ],
             [
              0.6666666666666666,
              "#ed7953"
             ],
             [
              0.7777777777777778,
              "#fb9f3a"
             ],
             [
              0.8888888888888888,
              "#fdca26"
             ],
             [
              1,
              "#f0f921"
             ]
            ],
            "type": "histogram2dcontour"
           }
          ],
          "mesh3d": [
           {
            "colorbar": {
             "outlinewidth": 0,
             "ticks": ""
            },
            "type": "mesh3d"
           }
          ],
          "parcoords": [
           {
            "line": {
             "colorbar": {
              "outlinewidth": 0,
              "ticks": ""
             }
            },
            "type": "parcoords"
           }
          ],
          "pie": [
           {
            "automargin": true,
            "type": "pie"
           }
          ],
          "scatter": [
           {
            "fillpattern": {
             "fillmode": "overlay",
             "size": 10,
             "solidity": 0.2
            },
            "type": "scatter"
           }
          ],
          "scatter3d": [
           {
            "line": {
             "colorbar": {
              "outlinewidth": 0,
              "ticks": ""
             }
            },
            "marker": {
             "colorbar": {
              "outlinewidth": 0,
              "ticks": ""
             }
            },
            "type": "scatter3d"
           }
          ],
          "scattercarpet": [
           {
            "marker": {
             "colorbar": {
              "outlinewidth": 0,
              "ticks": ""
             }
            },
            "type": "scattercarpet"
           }
          ],
          "scattergeo": [
           {
            "marker": {
             "colorbar": {
              "outlinewidth": 0,
              "ticks": ""
             }
            },
            "type": "scattergeo"
           }
          ],
          "scattergl": [
           {
            "marker": {
             "colorbar": {
              "outlinewidth": 0,
              "ticks": ""
             }
            },
            "type": "scattergl"
           }
          ],
          "scattermapbox": [
           {
            "marker": {
             "colorbar": {
              "outlinewidth": 0,
              "ticks": ""
             }
            },
            "type": "scattermapbox"
           }
          ],
          "scatterpolar": [
           {
            "marker": {
             "colorbar": {
              "outlinewidth": 0,
              "ticks": ""
             }
            },
            "type": "scatterpolar"
           }
          ],
          "scatterpolargl": [
           {
            "marker": {
             "colorbar": {
              "outlinewidth": 0,
              "ticks": ""
             }
            },
            "type": "scatterpolargl"
           }
          ],
          "scatterternary": [
           {
            "marker": {
             "colorbar": {
              "outlinewidth": 0,
              "ticks": ""
             }
            },
            "type": "scatterternary"
           }
          ],
          "surface": [
           {
            "colorbar": {
             "outlinewidth": 0,
             "ticks": ""
            },
            "colorscale": [
             [
              0,
              "#0d0887"
             ],
             [
              0.1111111111111111,
              "#46039f"
             ],
             [
              0.2222222222222222,
              "#7201a8"
             ],
             [
              0.3333333333333333,
              "#9c179e"
             ],
             [
              0.4444444444444444,
              "#bd3786"
             ],
             [
              0.5555555555555556,
              "#d8576b"
             ],
             [
              0.6666666666666666,
              "#ed7953"
             ],
             [
              0.7777777777777778,
              "#fb9f3a"
             ],
             [
              0.8888888888888888,
              "#fdca26"
             ],
             [
              1,
              "#f0f921"
             ]
            ],
            "type": "surface"
           }
          ],
          "table": [
           {
            "cells": {
             "fill": {
              "color": "#EBF0F8"
             },
             "line": {
              "color": "white"
             }
            },
            "header": {
             "fill": {
              "color": "#C8D4E3"
             },
             "line": {
              "color": "white"
             }
            },
            "type": "table"
           }
          ]
         },
         "layout": {
          "annotationdefaults": {
           "arrowcolor": "#2a3f5f",
           "arrowhead": 0,
           "arrowwidth": 1
          },
          "autotypenumbers": "strict",
          "coloraxis": {
           "colorbar": {
            "outlinewidth": 0,
            "ticks": ""
           }
          },
          "colorscale": {
           "diverging": [
            [
             0,
             "#8e0152"
            ],
            [
             0.1,
             "#c51b7d"
            ],
            [
             0.2,
             "#de77ae"
            ],
            [
             0.3,
             "#f1b6da"
            ],
            [
             0.4,
             "#fde0ef"
            ],
            [
             0.5,
             "#f7f7f7"
            ],
            [
             0.6,
             "#e6f5d0"
            ],
            [
             0.7,
             "#b8e186"
            ],
            [
             0.8,
             "#7fbc41"
            ],
            [
             0.9,
             "#4d9221"
            ],
            [
             1,
             "#276419"
            ]
           ],
           "sequential": [
            [
             0,
             "#0d0887"
            ],
            [
             0.1111111111111111,
             "#46039f"
            ],
            [
             0.2222222222222222,
             "#7201a8"
            ],
            [
             0.3333333333333333,
             "#9c179e"
            ],
            [
             0.4444444444444444,
             "#bd3786"
            ],
            [
             0.5555555555555556,
             "#d8576b"
            ],
            [
             0.6666666666666666,
             "#ed7953"
            ],
            [
             0.7777777777777778,
             "#fb9f3a"
            ],
            [
             0.8888888888888888,
             "#fdca26"
            ],
            [
             1,
             "#f0f921"
            ]
           ],
           "sequentialminus": [
            [
             0,
             "#0d0887"
            ],
            [
             0.1111111111111111,
             "#46039f"
            ],
            [
             0.2222222222222222,
             "#7201a8"
            ],
            [
             0.3333333333333333,
             "#9c179e"
            ],
            [
             0.4444444444444444,
             "#bd3786"
            ],
            [
             0.5555555555555556,
             "#d8576b"
            ],
            [
             0.6666666666666666,
             "#ed7953"
            ],
            [
             0.7777777777777778,
             "#fb9f3a"
            ],
            [
             0.8888888888888888,
             "#fdca26"
            ],
            [
             1,
             "#f0f921"
            ]
           ]
          },
          "colorway": [
           "#636efa",
           "#EF553B",
           "#00cc96",
           "#ab63fa",
           "#FFA15A",
           "#19d3f3",
           "#FF6692",
           "#B6E880",
           "#FF97FF",
           "#FECB52"
          ],
          "font": {
           "color": "#2a3f5f"
          },
          "geo": {
           "bgcolor": "white",
           "lakecolor": "white",
           "landcolor": "#E5ECF6",
           "showlakes": true,
           "showland": true,
           "subunitcolor": "white"
          },
          "hoverlabel": {
           "align": "left"
          },
          "hovermode": "closest",
          "mapbox": {
           "style": "light"
          },
          "paper_bgcolor": "white",
          "plot_bgcolor": "#E5ECF6",
          "polar": {
           "angularaxis": {
            "gridcolor": "white",
            "linecolor": "white",
            "ticks": ""
           },
           "bgcolor": "#E5ECF6",
           "radialaxis": {
            "gridcolor": "white",
            "linecolor": "white",
            "ticks": ""
           }
          },
          "scene": {
           "xaxis": {
            "backgroundcolor": "#E5ECF6",
            "gridcolor": "white",
            "gridwidth": 2,
            "linecolor": "white",
            "showbackground": true,
            "ticks": "",
            "zerolinecolor": "white"
           },
           "yaxis": {
            "backgroundcolor": "#E5ECF6",
            "gridcolor": "white",
            "gridwidth": 2,
            "linecolor": "white",
            "showbackground": true,
            "ticks": "",
            "zerolinecolor": "white"
           },
           "zaxis": {
            "backgroundcolor": "#E5ECF6",
            "gridcolor": "white",
            "gridwidth": 2,
            "linecolor": "white",
            "showbackground": true,
            "ticks": "",
            "zerolinecolor": "white"
           }
          },
          "shapedefaults": {
           "line": {
            "color": "#2a3f5f"
           }
          },
          "ternary": {
           "aaxis": {
            "gridcolor": "white",
            "linecolor": "white",
            "ticks": ""
           },
           "baxis": {
            "gridcolor": "white",
            "linecolor": "white",
            "ticks": ""
           },
           "bgcolor": "#E5ECF6",
           "caxis": {
            "gridcolor": "white",
            "linecolor": "white",
            "ticks": ""
           }
          },
          "title": {
           "x": 0.05
          },
          "xaxis": {
           "automargin": true,
           "gridcolor": "white",
           "linecolor": "white",
           "ticks": "",
           "title": {
            "standoff": 15
           },
           "zerolinecolor": "white",
           "zerolinewidth": 2
          },
          "yaxis": {
           "automargin": true,
           "gridcolor": "white",
           "linecolor": "white",
           "ticks": "",
           "title": {
            "standoff": 15
           },
           "zerolinecolor": "white",
           "zerolinewidth": 2
          }
         }
        },
        "title": {
         "font": {
          "color": "#4D5663"
         }
        },
        "xaxis": {
         "gridcolor": "#E1E5ED",
         "showgrid": true,
         "tickfont": {
          "color": "#4D5663"
         },
         "title": {
          "font": {
           "color": "#4D5663"
          },
          "text": ""
         },
         "zerolinecolor": "#E1E5ED"
        },
        "yaxis": {
         "gridcolor": "#E1E5ED",
         "showgrid": true,
         "tickfont": {
          "color": "#4D5663"
         },
         "title": {
          "font": {
           "color": "#4D5663"
          },
          "text": ""
         },
         "zerolinecolor": "#E1E5ED"
        }
       }
      },
      "text/html": [
       "<div>                            <div id=\"b7cb7917-081a-43b8-8706-caef510b042d\" class=\"plotly-graph-div\" style=\"height:525px; width:100%;\"></div>            <script type=\"text/javascript\">                require([\"plotly\"], function(Plotly) {                    window.PLOTLYENV=window.PLOTLYENV || {};\n",
       "                    window.PLOTLYENV.BASE_URL='https://plot.ly';                                    if (document.getElementById(\"b7cb7917-081a-43b8-8706-caef510b042d\")) {                    Plotly.newPlot(                        \"b7cb7917-081a-43b8-8706-caef510b042d\",                        [{\"marker\":{\"color\":\"rgba(255, 153, 51, 0.6)\",\"line\":{\"color\":\"rgba(255, 153, 51, 1.0)\",\"width\":1}},\"name\":\"None\",\"orientation\":\"v\",\"text\":\"\",\"x\":[\"A\",\"B\",\"C\",\"D\"],\"y\":[0.09306365639514066,0.05727028816482341,-0.11494004285049877,-0.012455759678931345],\"type\":\"bar\"}],                        {\"legend\":{\"bgcolor\":\"#F5F6F9\",\"font\":{\"color\":\"#4D5663\"}},\"paper_bgcolor\":\"#F5F6F9\",\"plot_bgcolor\":\"#F5F6F9\",\"template\":{\"data\":{\"barpolar\":[{\"marker\":{\"line\":{\"color\":\"#E5ECF6\",\"width\":0.5},\"pattern\":{\"fillmode\":\"overlay\",\"size\":10,\"solidity\":0.2}},\"type\":\"barpolar\"}],\"bar\":[{\"error_x\":{\"color\":\"#2a3f5f\"},\"error_y\":{\"color\":\"#2a3f5f\"},\"marker\":{\"line\":{\"color\":\"#E5ECF6\",\"width\":0.5},\"pattern\":{\"fillmode\":\"overlay\",\"size\":10,\"solidity\":0.2}},\"type\":\"bar\"}],\"carpet\":[{\"aaxis\":{\"endlinecolor\":\"#2a3f5f\",\"gridcolor\":\"white\",\"linecolor\":\"white\",\"minorgridcolor\":\"white\",\"startlinecolor\":\"#2a3f5f\"},\"baxis\":{\"endlinecolor\":\"#2a3f5f\",\"gridcolor\":\"white\",\"linecolor\":\"white\",\"minorgridcolor\":\"white\",\"startlinecolor\":\"#2a3f5f\"},\"type\":\"carpet\"}],\"choropleth\":[{\"colorbar\":{\"outlinewidth\":0,\"ticks\":\"\"},\"type\":\"choropleth\"}],\"contourcarpet\":[{\"colorbar\":{\"outlinewidth\":0,\"ticks\":\"\"},\"type\":\"contourcarpet\"}],\"contour\":[{\"colorbar\":{\"outlinewidth\":0,\"ticks\":\"\"},\"colorscale\":[[0.0,\"#0d0887\"],[0.1111111111111111,\"#46039f\"],[0.2222222222222222,\"#7201a8\"],[0.3333333333333333,\"#9c179e\"],[0.4444444444444444,\"#bd3786\"],[0.5555555555555556,\"#d8576b\"],[0.6666666666666666,\"#ed7953\"],[0.7777777777777778,\"#fb9f3a\"],[0.8888888888888888,\"#fdca26\"],[1.0,\"#f0f921\"]],\"type\":\"contour\"}],\"heatmapgl\":[{\"colorbar\":{\"outlinewidth\":0,\"ticks\":\"\"},\"colorscale\":[[0.0,\"#0d0887\"],[0.1111111111111111,\"#46039f\"],[0.2222222222222222,\"#7201a8\"],[0.3333333333333333,\"#9c179e\"],[0.4444444444444444,\"#bd3786\"],[0.5555555555555556,\"#d8576b\"],[0.6666666666666666,\"#ed7953\"],[0.7777777777777778,\"#fb9f3a\"],[0.8888888888888888,\"#fdca26\"],[1.0,\"#f0f921\"]],\"type\":\"heatmapgl\"}],\"heatmap\":[{\"colorbar\":{\"outlinewidth\":0,\"ticks\":\"\"},\"colorscale\":[[0.0,\"#0d0887\"],[0.1111111111111111,\"#46039f\"],[0.2222222222222222,\"#7201a8\"],[0.3333333333333333,\"#9c179e\"],[0.4444444444444444,\"#bd3786\"],[0.5555555555555556,\"#d8576b\"],[0.6666666666666666,\"#ed7953\"],[0.7777777777777778,\"#fb9f3a\"],[0.8888888888888888,\"#fdca26\"],[1.0,\"#f0f921\"]],\"type\":\"heatmap\"}],\"histogram2dcontour\":[{\"colorbar\":{\"outlinewidth\":0,\"ticks\":\"\"},\"colorscale\":[[0.0,\"#0d0887\"],[0.1111111111111111,\"#46039f\"],[0.2222222222222222,\"#7201a8\"],[0.3333333333333333,\"#9c179e\"],[0.4444444444444444,\"#bd3786\"],[0.5555555555555556,\"#d8576b\"],[0.6666666666666666,\"#ed7953\"],[0.7777777777777778,\"#fb9f3a\"],[0.8888888888888888,\"#fdca26\"],[1.0,\"#f0f921\"]],\"type\":\"histogram2dcontour\"}],\"histogram2d\":[{\"colorbar\":{\"outlinewidth\":0,\"ticks\":\"\"},\"colorscale\":[[0.0,\"#0d0887\"],[0.1111111111111111,\"#46039f\"],[0.2222222222222222,\"#7201a8\"],[0.3333333333333333,\"#9c179e\"],[0.4444444444444444,\"#bd3786\"],[0.5555555555555556,\"#d8576b\"],[0.6666666666666666,\"#ed7953\"],[0.7777777777777778,\"#fb9f3a\"],[0.8888888888888888,\"#fdca26\"],[1.0,\"#f0f921\"]],\"type\":\"histogram2d\"}],\"histogram\":[{\"marker\":{\"pattern\":{\"fillmode\":\"overlay\",\"size\":10,\"solidity\":0.2}},\"type\":\"histogram\"}],\"mesh3d\":[{\"colorbar\":{\"outlinewidth\":0,\"ticks\":\"\"},\"type\":\"mesh3d\"}],\"parcoords\":[{\"line\":{\"colorbar\":{\"outlinewidth\":0,\"ticks\":\"\"}},\"type\":\"parcoords\"}],\"pie\":[{\"automargin\":true,\"type\":\"pie\"}],\"scatter3d\":[{\"line\":{\"colorbar\":{\"outlinewidth\":0,\"ticks\":\"\"}},\"marker\":{\"colorbar\":{\"outlinewidth\":0,\"ticks\":\"\"}},\"type\":\"scatter3d\"}],\"scattercarpet\":[{\"marker\":{\"colorbar\":{\"outlinewidth\":0,\"ticks\":\"\"}},\"type\":\"scattercarpet\"}],\"scattergeo\":[{\"marker\":{\"colorbar\":{\"outlinewidth\":0,\"ticks\":\"\"}},\"type\":\"scattergeo\"}],\"scattergl\":[{\"marker\":{\"colorbar\":{\"outlinewidth\":0,\"ticks\":\"\"}},\"type\":\"scattergl\"}],\"scattermapbox\":[{\"marker\":{\"colorbar\":{\"outlinewidth\":0,\"ticks\":\"\"}},\"type\":\"scattermapbox\"}],\"scatterpolargl\":[{\"marker\":{\"colorbar\":{\"outlinewidth\":0,\"ticks\":\"\"}},\"type\":\"scatterpolargl\"}],\"scatterpolar\":[{\"marker\":{\"colorbar\":{\"outlinewidth\":0,\"ticks\":\"\"}},\"type\":\"scatterpolar\"}],\"scatter\":[{\"fillpattern\":{\"fillmode\":\"overlay\",\"size\":10,\"solidity\":0.2},\"type\":\"scatter\"}],\"scatterternary\":[{\"marker\":{\"colorbar\":{\"outlinewidth\":0,\"ticks\":\"\"}},\"type\":\"scatterternary\"}],\"surface\":[{\"colorbar\":{\"outlinewidth\":0,\"ticks\":\"\"},\"colorscale\":[[0.0,\"#0d0887\"],[0.1111111111111111,\"#46039f\"],[0.2222222222222222,\"#7201a8\"],[0.3333333333333333,\"#9c179e\"],[0.4444444444444444,\"#bd3786\"],[0.5555555555555556,\"#d8576b\"],[0.6666666666666666,\"#ed7953\"],[0.7777777777777778,\"#fb9f3a\"],[0.8888888888888888,\"#fdca26\"],[1.0,\"#f0f921\"]],\"type\":\"surface\"}],\"table\":[{\"cells\":{\"fill\":{\"color\":\"#EBF0F8\"},\"line\":{\"color\":\"white\"}},\"header\":{\"fill\":{\"color\":\"#C8D4E3\"},\"line\":{\"color\":\"white\"}},\"type\":\"table\"}]},\"layout\":{\"annotationdefaults\":{\"arrowcolor\":\"#2a3f5f\",\"arrowhead\":0,\"arrowwidth\":1},\"autotypenumbers\":\"strict\",\"coloraxis\":{\"colorbar\":{\"outlinewidth\":0,\"ticks\":\"\"}},\"colorscale\":{\"diverging\":[[0,\"#8e0152\"],[0.1,\"#c51b7d\"],[0.2,\"#de77ae\"],[0.3,\"#f1b6da\"],[0.4,\"#fde0ef\"],[0.5,\"#f7f7f7\"],[0.6,\"#e6f5d0\"],[0.7,\"#b8e186\"],[0.8,\"#7fbc41\"],[0.9,\"#4d9221\"],[1,\"#276419\"]],\"sequential\":[[0.0,\"#0d0887\"],[0.1111111111111111,\"#46039f\"],[0.2222222222222222,\"#7201a8\"],[0.3333333333333333,\"#9c179e\"],[0.4444444444444444,\"#bd3786\"],[0.5555555555555556,\"#d8576b\"],[0.6666666666666666,\"#ed7953\"],[0.7777777777777778,\"#fb9f3a\"],[0.8888888888888888,\"#fdca26\"],[1.0,\"#f0f921\"]],\"sequentialminus\":[[0.0,\"#0d0887\"],[0.1111111111111111,\"#46039f\"],[0.2222222222222222,\"#7201a8\"],[0.3333333333333333,\"#9c179e\"],[0.4444444444444444,\"#bd3786\"],[0.5555555555555556,\"#d8576b\"],[0.6666666666666666,\"#ed7953\"],[0.7777777777777778,\"#fb9f3a\"],[0.8888888888888888,\"#fdca26\"],[1.0,\"#f0f921\"]]},\"colorway\":[\"#636efa\",\"#EF553B\",\"#00cc96\",\"#ab63fa\",\"#FFA15A\",\"#19d3f3\",\"#FF6692\",\"#B6E880\",\"#FF97FF\",\"#FECB52\"],\"font\":{\"color\":\"#2a3f5f\"},\"geo\":{\"bgcolor\":\"white\",\"lakecolor\":\"white\",\"landcolor\":\"#E5ECF6\",\"showlakes\":true,\"showland\":true,\"subunitcolor\":\"white\"},\"hoverlabel\":{\"align\":\"left\"},\"hovermode\":\"closest\",\"mapbox\":{\"style\":\"light\"},\"paper_bgcolor\":\"white\",\"plot_bgcolor\":\"#E5ECF6\",\"polar\":{\"angularaxis\":{\"gridcolor\":\"white\",\"linecolor\":\"white\",\"ticks\":\"\"},\"bgcolor\":\"#E5ECF6\",\"radialaxis\":{\"gridcolor\":\"white\",\"linecolor\":\"white\",\"ticks\":\"\"}},\"scene\":{\"xaxis\":{\"backgroundcolor\":\"#E5ECF6\",\"gridcolor\":\"white\",\"gridwidth\":2,\"linecolor\":\"white\",\"showbackground\":true,\"ticks\":\"\",\"zerolinecolor\":\"white\"},\"yaxis\":{\"backgroundcolor\":\"#E5ECF6\",\"gridcolor\":\"white\",\"gridwidth\":2,\"linecolor\":\"white\",\"showbackground\":true,\"ticks\":\"\",\"zerolinecolor\":\"white\"},\"zaxis\":{\"backgroundcolor\":\"#E5ECF6\",\"gridcolor\":\"white\",\"gridwidth\":2,\"linecolor\":\"white\",\"showbackground\":true,\"ticks\":\"\",\"zerolinecolor\":\"white\"}},\"shapedefaults\":{\"line\":{\"color\":\"#2a3f5f\"}},\"ternary\":{\"aaxis\":{\"gridcolor\":\"white\",\"linecolor\":\"white\",\"ticks\":\"\"},\"baxis\":{\"gridcolor\":\"white\",\"linecolor\":\"white\",\"ticks\":\"\"},\"bgcolor\":\"#E5ECF6\",\"caxis\":{\"gridcolor\":\"white\",\"linecolor\":\"white\",\"ticks\":\"\"}},\"title\":{\"x\":0.05},\"xaxis\":{\"automargin\":true,\"gridcolor\":\"white\",\"linecolor\":\"white\",\"ticks\":\"\",\"title\":{\"standoff\":15},\"zerolinecolor\":\"white\",\"zerolinewidth\":2},\"yaxis\":{\"automargin\":true,\"gridcolor\":\"white\",\"linecolor\":\"white\",\"ticks\":\"\",\"title\":{\"standoff\":15},\"zerolinecolor\":\"white\",\"zerolinewidth\":2}}},\"title\":{\"font\":{\"color\":\"#4D5663\"}},\"xaxis\":{\"gridcolor\":\"#E1E5ED\",\"showgrid\":true,\"tickfont\":{\"color\":\"#4D5663\"},\"title\":{\"font\":{\"color\":\"#4D5663\"},\"text\":\"\"},\"zerolinecolor\":\"#E1E5ED\"},\"yaxis\":{\"gridcolor\":\"#E1E5ED\",\"showgrid\":true,\"tickfont\":{\"color\":\"#4D5663\"},\"title\":{\"font\":{\"color\":\"#4D5663\"},\"text\":\"\"},\"zerolinecolor\":\"#E1E5ED\"}},                        {\"showLink\": true, \"linkText\": \"Export to plot.ly\", \"plotlyServerURL\": \"https://plot.ly\", \"responsive\": true}                    ).then(function(){\n",
       "                            \n",
       "var gd = document.getElementById('b7cb7917-081a-43b8-8706-caef510b042d');\n",
       "var x = new MutationObserver(function (mutations, observer) {{\n",
       "        var display = window.getComputedStyle(gd).display;\n",
       "        if (!display || display === 'none') {{\n",
       "            console.log([gd, 'removed!']);\n",
       "            Plotly.purge(gd);\n",
       "            observer.disconnect();\n",
       "        }}\n",
       "}});\n",
       "\n",
       "// Listen for the removal of the full notebook cells\n",
       "var notebookContainer = gd.closest('#notebook-container');\n",
       "if (notebookContainer) {{\n",
       "    x.observe(notebookContainer, {childList: true});\n",
       "}}\n",
       "\n",
       "// Listen for the clearing of the current output cell\n",
       "var outputEl = gd.closest('.output');\n",
       "if (outputEl) {{\n",
       "    x.observe(outputEl, {childList: true});\n",
       "}}\n",
       "\n",
       "                        })                };                });            </script>        </div>"
      ]
     },
     "metadata": {},
     "output_type": "display_data"
    }
   ],
   "source": [
    "df.mean().iplot(kind='bar')"
   ]
  },
  {
   "cell_type": "code",
   "execution_count": 41,
   "metadata": {},
   "outputs": [
    {
     "data": {
      "text/plain": [
       "9.306365639514068"
      ]
     },
     "execution_count": 41,
     "metadata": {},
     "output_type": "execute_result"
    }
   ],
   "source": [
    "df['A'].sum()"
   ]
  },
  {
   "cell_type": "code",
   "execution_count": 40,
   "metadata": {},
   "outputs": [
    {
     "data": {
      "application/vnd.plotly.v1+json": {
       "config": {
        "linkText": "Export to plot.ly",
        "plotlyServerURL": "https://plot.ly",
        "showLink": true
       },
       "data": [
        {
         "marker": {
          "color": "rgba(255, 153, 51, 0.6)",
          "line": {
           "color": "rgba(255, 153, 51, 1.0)",
           "width": 1
          }
         },
         "name": "None",
         "orientation": "v",
         "text": "",
         "type": "bar",
         "x": [
          "A",
          "B",
          "C",
          "D"
         ],
         "y": [
          9.306365639514066,
          5.727028816482341,
          -11.494004285049877,
          -1.2455759678931346
         ]
        }
       ],
       "layout": {
        "legend": {
         "bgcolor": "#F5F6F9",
         "font": {
          "color": "#4D5663"
         }
        },
        "paper_bgcolor": "#F5F6F9",
        "plot_bgcolor": "#F5F6F9",
        "template": {
         "data": {
          "bar": [
           {
            "error_x": {
             "color": "#2a3f5f"
            },
            "error_y": {
             "color": "#2a3f5f"
            },
            "marker": {
             "line": {
              "color": "#E5ECF6",
              "width": 0.5
             },
             "pattern": {
              "fillmode": "overlay",
              "size": 10,
              "solidity": 0.2
             }
            },
            "type": "bar"
           }
          ],
          "barpolar": [
           {
            "marker": {
             "line": {
              "color": "#E5ECF6",
              "width": 0.5
             },
             "pattern": {
              "fillmode": "overlay",
              "size": 10,
              "solidity": 0.2
             }
            },
            "type": "barpolar"
           }
          ],
          "carpet": [
           {
            "aaxis": {
             "endlinecolor": "#2a3f5f",
             "gridcolor": "white",
             "linecolor": "white",
             "minorgridcolor": "white",
             "startlinecolor": "#2a3f5f"
            },
            "baxis": {
             "endlinecolor": "#2a3f5f",
             "gridcolor": "white",
             "linecolor": "white",
             "minorgridcolor": "white",
             "startlinecolor": "#2a3f5f"
            },
            "type": "carpet"
           }
          ],
          "choropleth": [
           {
            "colorbar": {
             "outlinewidth": 0,
             "ticks": ""
            },
            "type": "choropleth"
           }
          ],
          "contour": [
           {
            "colorbar": {
             "outlinewidth": 0,
             "ticks": ""
            },
            "colorscale": [
             [
              0,
              "#0d0887"
             ],
             [
              0.1111111111111111,
              "#46039f"
             ],
             [
              0.2222222222222222,
              "#7201a8"
             ],
             [
              0.3333333333333333,
              "#9c179e"
             ],
             [
              0.4444444444444444,
              "#bd3786"
             ],
             [
              0.5555555555555556,
              "#d8576b"
             ],
             [
              0.6666666666666666,
              "#ed7953"
             ],
             [
              0.7777777777777778,
              "#fb9f3a"
             ],
             [
              0.8888888888888888,
              "#fdca26"
             ],
             [
              1,
              "#f0f921"
             ]
            ],
            "type": "contour"
           }
          ],
          "contourcarpet": [
           {
            "colorbar": {
             "outlinewidth": 0,
             "ticks": ""
            },
            "type": "contourcarpet"
           }
          ],
          "heatmap": [
           {
            "colorbar": {
             "outlinewidth": 0,
             "ticks": ""
            },
            "colorscale": [
             [
              0,
              "#0d0887"
             ],
             [
              0.1111111111111111,
              "#46039f"
             ],
             [
              0.2222222222222222,
              "#7201a8"
             ],
             [
              0.3333333333333333,
              "#9c179e"
             ],
             [
              0.4444444444444444,
              "#bd3786"
             ],
             [
              0.5555555555555556,
              "#d8576b"
             ],
             [
              0.6666666666666666,
              "#ed7953"
             ],
             [
              0.7777777777777778,
              "#fb9f3a"
             ],
             [
              0.8888888888888888,
              "#fdca26"
             ],
             [
              1,
              "#f0f921"
             ]
            ],
            "type": "heatmap"
           }
          ],
          "heatmapgl": [
           {
            "colorbar": {
             "outlinewidth": 0,
             "ticks": ""
            },
            "colorscale": [
             [
              0,
              "#0d0887"
             ],
             [
              0.1111111111111111,
              "#46039f"
             ],
             [
              0.2222222222222222,
              "#7201a8"
             ],
             [
              0.3333333333333333,
              "#9c179e"
             ],
             [
              0.4444444444444444,
              "#bd3786"
             ],
             [
              0.5555555555555556,
              "#d8576b"
             ],
             [
              0.6666666666666666,
              "#ed7953"
             ],
             [
              0.7777777777777778,
              "#fb9f3a"
             ],
             [
              0.8888888888888888,
              "#fdca26"
             ],
             [
              1,
              "#f0f921"
             ]
            ],
            "type": "heatmapgl"
           }
          ],
          "histogram": [
           {
            "marker": {
             "pattern": {
              "fillmode": "overlay",
              "size": 10,
              "solidity": 0.2
             }
            },
            "type": "histogram"
           }
          ],
          "histogram2d": [
           {
            "colorbar": {
             "outlinewidth": 0,
             "ticks": ""
            },
            "colorscale": [
             [
              0,
              "#0d0887"
             ],
             [
              0.1111111111111111,
              "#46039f"
             ],
             [
              0.2222222222222222,
              "#7201a8"
             ],
             [
              0.3333333333333333,
              "#9c179e"
             ],
             [
              0.4444444444444444,
              "#bd3786"
             ],
             [
              0.5555555555555556,
              "#d8576b"
             ],
             [
              0.6666666666666666,
              "#ed7953"
             ],
             [
              0.7777777777777778,
              "#fb9f3a"
             ],
             [
              0.8888888888888888,
              "#fdca26"
             ],
             [
              1,
              "#f0f921"
             ]
            ],
            "type": "histogram2d"
           }
          ],
          "histogram2dcontour": [
           {
            "colorbar": {
             "outlinewidth": 0,
             "ticks": ""
            },
            "colorscale": [
             [
              0,
              "#0d0887"
             ],
             [
              0.1111111111111111,
              "#46039f"
             ],
             [
              0.2222222222222222,
              "#7201a8"
             ],
             [
              0.3333333333333333,
              "#9c179e"
             ],
             [
              0.4444444444444444,
              "#bd3786"
             ],
             [
              0.5555555555555556,
              "#d8576b"
             ],
             [
              0.6666666666666666,
              "#ed7953"
             ],
             [
              0.7777777777777778,
              "#fb9f3a"
             ],
             [
              0.8888888888888888,
              "#fdca26"
             ],
             [
              1,
              "#f0f921"
             ]
            ],
            "type": "histogram2dcontour"
           }
          ],
          "mesh3d": [
           {
            "colorbar": {
             "outlinewidth": 0,
             "ticks": ""
            },
            "type": "mesh3d"
           }
          ],
          "parcoords": [
           {
            "line": {
             "colorbar": {
              "outlinewidth": 0,
              "ticks": ""
             }
            },
            "type": "parcoords"
           }
          ],
          "pie": [
           {
            "automargin": true,
            "type": "pie"
           }
          ],
          "scatter": [
           {
            "fillpattern": {
             "fillmode": "overlay",
             "size": 10,
             "solidity": 0.2
            },
            "type": "scatter"
           }
          ],
          "scatter3d": [
           {
            "line": {
             "colorbar": {
              "outlinewidth": 0,
              "ticks": ""
             }
            },
            "marker": {
             "colorbar": {
              "outlinewidth": 0,
              "ticks": ""
             }
            },
            "type": "scatter3d"
           }
          ],
          "scattercarpet": [
           {
            "marker": {
             "colorbar": {
              "outlinewidth": 0,
              "ticks": ""
             }
            },
            "type": "scattercarpet"
           }
          ],
          "scattergeo": [
           {
            "marker": {
             "colorbar": {
              "outlinewidth": 0,
              "ticks": ""
             }
            },
            "type": "scattergeo"
           }
          ],
          "scattergl": [
           {
            "marker": {
             "colorbar": {
              "outlinewidth": 0,
              "ticks": ""
             }
            },
            "type": "scattergl"
           }
          ],
          "scattermapbox": [
           {
            "marker": {
             "colorbar": {
              "outlinewidth": 0,
              "ticks": ""
             }
            },
            "type": "scattermapbox"
           }
          ],
          "scatterpolar": [
           {
            "marker": {
             "colorbar": {
              "outlinewidth": 0,
              "ticks": ""
             }
            },
            "type": "scatterpolar"
           }
          ],
          "scatterpolargl": [
           {
            "marker": {
             "colorbar": {
              "outlinewidth": 0,
              "ticks": ""
             }
            },
            "type": "scatterpolargl"
           }
          ],
          "scatterternary": [
           {
            "marker": {
             "colorbar": {
              "outlinewidth": 0,
              "ticks": ""
             }
            },
            "type": "scatterternary"
           }
          ],
          "surface": [
           {
            "colorbar": {
             "outlinewidth": 0,
             "ticks": ""
            },
            "colorscale": [
             [
              0,
              "#0d0887"
             ],
             [
              0.1111111111111111,
              "#46039f"
             ],
             [
              0.2222222222222222,
              "#7201a8"
             ],
             [
              0.3333333333333333,
              "#9c179e"
             ],
             [
              0.4444444444444444,
              "#bd3786"
             ],
             [
              0.5555555555555556,
              "#d8576b"
             ],
             [
              0.6666666666666666,
              "#ed7953"
             ],
             [
              0.7777777777777778,
              "#fb9f3a"
             ],
             [
              0.8888888888888888,
              "#fdca26"
             ],
             [
              1,
              "#f0f921"
             ]
            ],
            "type": "surface"
           }
          ],
          "table": [
           {
            "cells": {
             "fill": {
              "color": "#EBF0F8"
             },
             "line": {
              "color": "white"
             }
            },
            "header": {
             "fill": {
              "color": "#C8D4E3"
             },
             "line": {
              "color": "white"
             }
            },
            "type": "table"
           }
          ]
         },
         "layout": {
          "annotationdefaults": {
           "arrowcolor": "#2a3f5f",
           "arrowhead": 0,
           "arrowwidth": 1
          },
          "autotypenumbers": "strict",
          "coloraxis": {
           "colorbar": {
            "outlinewidth": 0,
            "ticks": ""
           }
          },
          "colorscale": {
           "diverging": [
            [
             0,
             "#8e0152"
            ],
            [
             0.1,
             "#c51b7d"
            ],
            [
             0.2,
             "#de77ae"
            ],
            [
             0.3,
             "#f1b6da"
            ],
            [
             0.4,
             "#fde0ef"
            ],
            [
             0.5,
             "#f7f7f7"
            ],
            [
             0.6,
             "#e6f5d0"
            ],
            [
             0.7,
             "#b8e186"
            ],
            [
             0.8,
             "#7fbc41"
            ],
            [
             0.9,
             "#4d9221"
            ],
            [
             1,
             "#276419"
            ]
           ],
           "sequential": [
            [
             0,
             "#0d0887"
            ],
            [
             0.1111111111111111,
             "#46039f"
            ],
            [
             0.2222222222222222,
             "#7201a8"
            ],
            [
             0.3333333333333333,
             "#9c179e"
            ],
            [
             0.4444444444444444,
             "#bd3786"
            ],
            [
             0.5555555555555556,
             "#d8576b"
            ],
            [
             0.6666666666666666,
             "#ed7953"
            ],
            [
             0.7777777777777778,
             "#fb9f3a"
            ],
            [
             0.8888888888888888,
             "#fdca26"
            ],
            [
             1,
             "#f0f921"
            ]
           ],
           "sequentialminus": [
            [
             0,
             "#0d0887"
            ],
            [
             0.1111111111111111,
             "#46039f"
            ],
            [
             0.2222222222222222,
             "#7201a8"
            ],
            [
             0.3333333333333333,
             "#9c179e"
            ],
            [
             0.4444444444444444,
             "#bd3786"
            ],
            [
             0.5555555555555556,
             "#d8576b"
            ],
            [
             0.6666666666666666,
             "#ed7953"
            ],
            [
             0.7777777777777778,
             "#fb9f3a"
            ],
            [
             0.8888888888888888,
             "#fdca26"
            ],
            [
             1,
             "#f0f921"
            ]
           ]
          },
          "colorway": [
           "#636efa",
           "#EF553B",
           "#00cc96",
           "#ab63fa",
           "#FFA15A",
           "#19d3f3",
           "#FF6692",
           "#B6E880",
           "#FF97FF",
           "#FECB52"
          ],
          "font": {
           "color": "#2a3f5f"
          },
          "geo": {
           "bgcolor": "white",
           "lakecolor": "white",
           "landcolor": "#E5ECF6",
           "showlakes": true,
           "showland": true,
           "subunitcolor": "white"
          },
          "hoverlabel": {
           "align": "left"
          },
          "hovermode": "closest",
          "mapbox": {
           "style": "light"
          },
          "paper_bgcolor": "white",
          "plot_bgcolor": "#E5ECF6",
          "polar": {
           "angularaxis": {
            "gridcolor": "white",
            "linecolor": "white",
            "ticks": ""
           },
           "bgcolor": "#E5ECF6",
           "radialaxis": {
            "gridcolor": "white",
            "linecolor": "white",
            "ticks": ""
           }
          },
          "scene": {
           "xaxis": {
            "backgroundcolor": "#E5ECF6",
            "gridcolor": "white",
            "gridwidth": 2,
            "linecolor": "white",
            "showbackground": true,
            "ticks": "",
            "zerolinecolor": "white"
           },
           "yaxis": {
            "backgroundcolor": "#E5ECF6",
            "gridcolor": "white",
            "gridwidth": 2,
            "linecolor": "white",
            "showbackground": true,
            "ticks": "",
            "zerolinecolor": "white"
           },
           "zaxis": {
            "backgroundcolor": "#E5ECF6",
            "gridcolor": "white",
            "gridwidth": 2,
            "linecolor": "white",
            "showbackground": true,
            "ticks": "",
            "zerolinecolor": "white"
           }
          },
          "shapedefaults": {
           "line": {
            "color": "#2a3f5f"
           }
          },
          "ternary": {
           "aaxis": {
            "gridcolor": "white",
            "linecolor": "white",
            "ticks": ""
           },
           "baxis": {
            "gridcolor": "white",
            "linecolor": "white",
            "ticks": ""
           },
           "bgcolor": "#E5ECF6",
           "caxis": {
            "gridcolor": "white",
            "linecolor": "white",
            "ticks": ""
           }
          },
          "title": {
           "x": 0.05
          },
          "xaxis": {
           "automargin": true,
           "gridcolor": "white",
           "linecolor": "white",
           "ticks": "",
           "title": {
            "standoff": 15
           },
           "zerolinecolor": "white",
           "zerolinewidth": 2
          },
          "yaxis": {
           "automargin": true,
           "gridcolor": "white",
           "linecolor": "white",
           "ticks": "",
           "title": {
            "standoff": 15
           },
           "zerolinecolor": "white",
           "zerolinewidth": 2
          }
         }
        },
        "title": {
         "font": {
          "color": "#4D5663"
         }
        },
        "xaxis": {
         "gridcolor": "#E1E5ED",
         "showgrid": true,
         "tickfont": {
          "color": "#4D5663"
         },
         "title": {
          "font": {
           "color": "#4D5663"
          },
          "text": ""
         },
         "zerolinecolor": "#E1E5ED"
        },
        "yaxis": {
         "gridcolor": "#E1E5ED",
         "showgrid": true,
         "tickfont": {
          "color": "#4D5663"
         },
         "title": {
          "font": {
           "color": "#4D5663"
          },
          "text": ""
         },
         "zerolinecolor": "#E1E5ED"
        }
       }
      },
      "text/html": [
       "<div>                            <div id=\"07b6d539-680e-4333-b1df-bec0131df358\" class=\"plotly-graph-div\" style=\"height:525px; width:100%;\"></div>            <script type=\"text/javascript\">                require([\"plotly\"], function(Plotly) {                    window.PLOTLYENV=window.PLOTLYENV || {};\n",
       "                    window.PLOTLYENV.BASE_URL='https://plot.ly';                                    if (document.getElementById(\"07b6d539-680e-4333-b1df-bec0131df358\")) {                    Plotly.newPlot(                        \"07b6d539-680e-4333-b1df-bec0131df358\",                        [{\"marker\":{\"color\":\"rgba(255, 153, 51, 0.6)\",\"line\":{\"color\":\"rgba(255, 153, 51, 1.0)\",\"width\":1}},\"name\":\"None\",\"orientation\":\"v\",\"text\":\"\",\"x\":[\"A\",\"B\",\"C\",\"D\"],\"y\":[9.306365639514066,5.727028816482341,-11.494004285049877,-1.2455759678931346],\"type\":\"bar\"}],                        {\"legend\":{\"bgcolor\":\"#F5F6F9\",\"font\":{\"color\":\"#4D5663\"}},\"paper_bgcolor\":\"#F5F6F9\",\"plot_bgcolor\":\"#F5F6F9\",\"template\":{\"data\":{\"barpolar\":[{\"marker\":{\"line\":{\"color\":\"#E5ECF6\",\"width\":0.5},\"pattern\":{\"fillmode\":\"overlay\",\"size\":10,\"solidity\":0.2}},\"type\":\"barpolar\"}],\"bar\":[{\"error_x\":{\"color\":\"#2a3f5f\"},\"error_y\":{\"color\":\"#2a3f5f\"},\"marker\":{\"line\":{\"color\":\"#E5ECF6\",\"width\":0.5},\"pattern\":{\"fillmode\":\"overlay\",\"size\":10,\"solidity\":0.2}},\"type\":\"bar\"}],\"carpet\":[{\"aaxis\":{\"endlinecolor\":\"#2a3f5f\",\"gridcolor\":\"white\",\"linecolor\":\"white\",\"minorgridcolor\":\"white\",\"startlinecolor\":\"#2a3f5f\"},\"baxis\":{\"endlinecolor\":\"#2a3f5f\",\"gridcolor\":\"white\",\"linecolor\":\"white\",\"minorgridcolor\":\"white\",\"startlinecolor\":\"#2a3f5f\"},\"type\":\"carpet\"}],\"choropleth\":[{\"colorbar\":{\"outlinewidth\":0,\"ticks\":\"\"},\"type\":\"choropleth\"}],\"contourcarpet\":[{\"colorbar\":{\"outlinewidth\":0,\"ticks\":\"\"},\"type\":\"contourcarpet\"}],\"contour\":[{\"colorbar\":{\"outlinewidth\":0,\"ticks\":\"\"},\"colorscale\":[[0.0,\"#0d0887\"],[0.1111111111111111,\"#46039f\"],[0.2222222222222222,\"#7201a8\"],[0.3333333333333333,\"#9c179e\"],[0.4444444444444444,\"#bd3786\"],[0.5555555555555556,\"#d8576b\"],[0.6666666666666666,\"#ed7953\"],[0.7777777777777778,\"#fb9f3a\"],[0.8888888888888888,\"#fdca26\"],[1.0,\"#f0f921\"]],\"type\":\"contour\"}],\"heatmapgl\":[{\"colorbar\":{\"outlinewidth\":0,\"ticks\":\"\"},\"colorscale\":[[0.0,\"#0d0887\"],[0.1111111111111111,\"#46039f\"],[0.2222222222222222,\"#7201a8\"],[0.3333333333333333,\"#9c179e\"],[0.4444444444444444,\"#bd3786\"],[0.5555555555555556,\"#d8576b\"],[0.6666666666666666,\"#ed7953\"],[0.7777777777777778,\"#fb9f3a\"],[0.8888888888888888,\"#fdca26\"],[1.0,\"#f0f921\"]],\"type\":\"heatmapgl\"}],\"heatmap\":[{\"colorbar\":{\"outlinewidth\":0,\"ticks\":\"\"},\"colorscale\":[[0.0,\"#0d0887\"],[0.1111111111111111,\"#46039f\"],[0.2222222222222222,\"#7201a8\"],[0.3333333333333333,\"#9c179e\"],[0.4444444444444444,\"#bd3786\"],[0.5555555555555556,\"#d8576b\"],[0.6666666666666666,\"#ed7953\"],[0.7777777777777778,\"#fb9f3a\"],[0.8888888888888888,\"#fdca26\"],[1.0,\"#f0f921\"]],\"type\":\"heatmap\"}],\"histogram2dcontour\":[{\"colorbar\":{\"outlinewidth\":0,\"ticks\":\"\"},\"colorscale\":[[0.0,\"#0d0887\"],[0.1111111111111111,\"#46039f\"],[0.2222222222222222,\"#7201a8\"],[0.3333333333333333,\"#9c179e\"],[0.4444444444444444,\"#bd3786\"],[0.5555555555555556,\"#d8576b\"],[0.6666666666666666,\"#ed7953\"],[0.7777777777777778,\"#fb9f3a\"],[0.8888888888888888,\"#fdca26\"],[1.0,\"#f0f921\"]],\"type\":\"histogram2dcontour\"}],\"histogram2d\":[{\"colorbar\":{\"outlinewidth\":0,\"ticks\":\"\"},\"colorscale\":[[0.0,\"#0d0887\"],[0.1111111111111111,\"#46039f\"],[0.2222222222222222,\"#7201a8\"],[0.3333333333333333,\"#9c179e\"],[0.4444444444444444,\"#bd3786\"],[0.5555555555555556,\"#d8576b\"],[0.6666666666666666,\"#ed7953\"],[0.7777777777777778,\"#fb9f3a\"],[0.8888888888888888,\"#fdca26\"],[1.0,\"#f0f921\"]],\"type\":\"histogram2d\"}],\"histogram\":[{\"marker\":{\"pattern\":{\"fillmode\":\"overlay\",\"size\":10,\"solidity\":0.2}},\"type\":\"histogram\"}],\"mesh3d\":[{\"colorbar\":{\"outlinewidth\":0,\"ticks\":\"\"},\"type\":\"mesh3d\"}],\"parcoords\":[{\"line\":{\"colorbar\":{\"outlinewidth\":0,\"ticks\":\"\"}},\"type\":\"parcoords\"}],\"pie\":[{\"automargin\":true,\"type\":\"pie\"}],\"scatter3d\":[{\"line\":{\"colorbar\":{\"outlinewidth\":0,\"ticks\":\"\"}},\"marker\":{\"colorbar\":{\"outlinewidth\":0,\"ticks\":\"\"}},\"type\":\"scatter3d\"}],\"scattercarpet\":[{\"marker\":{\"colorbar\":{\"outlinewidth\":0,\"ticks\":\"\"}},\"type\":\"scattercarpet\"}],\"scattergeo\":[{\"marker\":{\"colorbar\":{\"outlinewidth\":0,\"ticks\":\"\"}},\"type\":\"scattergeo\"}],\"scattergl\":[{\"marker\":{\"colorbar\":{\"outlinewidth\":0,\"ticks\":\"\"}},\"type\":\"scattergl\"}],\"scattermapbox\":[{\"marker\":{\"colorbar\":{\"outlinewidth\":0,\"ticks\":\"\"}},\"type\":\"scattermapbox\"}],\"scatterpolargl\":[{\"marker\":{\"colorbar\":{\"outlinewidth\":0,\"ticks\":\"\"}},\"type\":\"scatterpolargl\"}],\"scatterpolar\":[{\"marker\":{\"colorbar\":{\"outlinewidth\":0,\"ticks\":\"\"}},\"type\":\"scatterpolar\"}],\"scatter\":[{\"fillpattern\":{\"fillmode\":\"overlay\",\"size\":10,\"solidity\":0.2},\"type\":\"scatter\"}],\"scatterternary\":[{\"marker\":{\"colorbar\":{\"outlinewidth\":0,\"ticks\":\"\"}},\"type\":\"scatterternary\"}],\"surface\":[{\"colorbar\":{\"outlinewidth\":0,\"ticks\":\"\"},\"colorscale\":[[0.0,\"#0d0887\"],[0.1111111111111111,\"#46039f\"],[0.2222222222222222,\"#7201a8\"],[0.3333333333333333,\"#9c179e\"],[0.4444444444444444,\"#bd3786\"],[0.5555555555555556,\"#d8576b\"],[0.6666666666666666,\"#ed7953\"],[0.7777777777777778,\"#fb9f3a\"],[0.8888888888888888,\"#fdca26\"],[1.0,\"#f0f921\"]],\"type\":\"surface\"}],\"table\":[{\"cells\":{\"fill\":{\"color\":\"#EBF0F8\"},\"line\":{\"color\":\"white\"}},\"header\":{\"fill\":{\"color\":\"#C8D4E3\"},\"line\":{\"color\":\"white\"}},\"type\":\"table\"}]},\"layout\":{\"annotationdefaults\":{\"arrowcolor\":\"#2a3f5f\",\"arrowhead\":0,\"arrowwidth\":1},\"autotypenumbers\":\"strict\",\"coloraxis\":{\"colorbar\":{\"outlinewidth\":0,\"ticks\":\"\"}},\"colorscale\":{\"diverging\":[[0,\"#8e0152\"],[0.1,\"#c51b7d\"],[0.2,\"#de77ae\"],[0.3,\"#f1b6da\"],[0.4,\"#fde0ef\"],[0.5,\"#f7f7f7\"],[0.6,\"#e6f5d0\"],[0.7,\"#b8e186\"],[0.8,\"#7fbc41\"],[0.9,\"#4d9221\"],[1,\"#276419\"]],\"sequential\":[[0.0,\"#0d0887\"],[0.1111111111111111,\"#46039f\"],[0.2222222222222222,\"#7201a8\"],[0.3333333333333333,\"#9c179e\"],[0.4444444444444444,\"#bd3786\"],[0.5555555555555556,\"#d8576b\"],[0.6666666666666666,\"#ed7953\"],[0.7777777777777778,\"#fb9f3a\"],[0.8888888888888888,\"#fdca26\"],[1.0,\"#f0f921\"]],\"sequentialminus\":[[0.0,\"#0d0887\"],[0.1111111111111111,\"#46039f\"],[0.2222222222222222,\"#7201a8\"],[0.3333333333333333,\"#9c179e\"],[0.4444444444444444,\"#bd3786\"],[0.5555555555555556,\"#d8576b\"],[0.6666666666666666,\"#ed7953\"],[0.7777777777777778,\"#fb9f3a\"],[0.8888888888888888,\"#fdca26\"],[1.0,\"#f0f921\"]]},\"colorway\":[\"#636efa\",\"#EF553B\",\"#00cc96\",\"#ab63fa\",\"#FFA15A\",\"#19d3f3\",\"#FF6692\",\"#B6E880\",\"#FF97FF\",\"#FECB52\"],\"font\":{\"color\":\"#2a3f5f\"},\"geo\":{\"bgcolor\":\"white\",\"lakecolor\":\"white\",\"landcolor\":\"#E5ECF6\",\"showlakes\":true,\"showland\":true,\"subunitcolor\":\"white\"},\"hoverlabel\":{\"align\":\"left\"},\"hovermode\":\"closest\",\"mapbox\":{\"style\":\"light\"},\"paper_bgcolor\":\"white\",\"plot_bgcolor\":\"#E5ECF6\",\"polar\":{\"angularaxis\":{\"gridcolor\":\"white\",\"linecolor\":\"white\",\"ticks\":\"\"},\"bgcolor\":\"#E5ECF6\",\"radialaxis\":{\"gridcolor\":\"white\",\"linecolor\":\"white\",\"ticks\":\"\"}},\"scene\":{\"xaxis\":{\"backgroundcolor\":\"#E5ECF6\",\"gridcolor\":\"white\",\"gridwidth\":2,\"linecolor\":\"white\",\"showbackground\":true,\"ticks\":\"\",\"zerolinecolor\":\"white\"},\"yaxis\":{\"backgroundcolor\":\"#E5ECF6\",\"gridcolor\":\"white\",\"gridwidth\":2,\"linecolor\":\"white\",\"showbackground\":true,\"ticks\":\"\",\"zerolinecolor\":\"white\"},\"zaxis\":{\"backgroundcolor\":\"#E5ECF6\",\"gridcolor\":\"white\",\"gridwidth\":2,\"linecolor\":\"white\",\"showbackground\":true,\"ticks\":\"\",\"zerolinecolor\":\"white\"}},\"shapedefaults\":{\"line\":{\"color\":\"#2a3f5f\"}},\"ternary\":{\"aaxis\":{\"gridcolor\":\"white\",\"linecolor\":\"white\",\"ticks\":\"\"},\"baxis\":{\"gridcolor\":\"white\",\"linecolor\":\"white\",\"ticks\":\"\"},\"bgcolor\":\"#E5ECF6\",\"caxis\":{\"gridcolor\":\"white\",\"linecolor\":\"white\",\"ticks\":\"\"}},\"title\":{\"x\":0.05},\"xaxis\":{\"automargin\":true,\"gridcolor\":\"white\",\"linecolor\":\"white\",\"ticks\":\"\",\"title\":{\"standoff\":15},\"zerolinecolor\":\"white\",\"zerolinewidth\":2},\"yaxis\":{\"automargin\":true,\"gridcolor\":\"white\",\"linecolor\":\"white\",\"ticks\":\"\",\"title\":{\"standoff\":15},\"zerolinecolor\":\"white\",\"zerolinewidth\":2}}},\"title\":{\"font\":{\"color\":\"#4D5663\"}},\"xaxis\":{\"gridcolor\":\"#E1E5ED\",\"showgrid\":true,\"tickfont\":{\"color\":\"#4D5663\"},\"title\":{\"font\":{\"color\":\"#4D5663\"},\"text\":\"\"},\"zerolinecolor\":\"#E1E5ED\"},\"yaxis\":{\"gridcolor\":\"#E1E5ED\",\"showgrid\":true,\"tickfont\":{\"color\":\"#4D5663\"},\"title\":{\"font\":{\"color\":\"#4D5663\"},\"text\":\"\"},\"zerolinecolor\":\"#E1E5ED\"}},                        {\"showLink\": true, \"linkText\": \"Export to plot.ly\", \"plotlyServerURL\": \"https://plot.ly\", \"responsive\": true}                    ).then(function(){\n",
       "                            \n",
       "var gd = document.getElementById('07b6d539-680e-4333-b1df-bec0131df358');\n",
       "var x = new MutationObserver(function (mutations, observer) {{\n",
       "        var display = window.getComputedStyle(gd).display;\n",
       "        if (!display || display === 'none') {{\n",
       "            console.log([gd, 'removed!']);\n",
       "            Plotly.purge(gd);\n",
       "            observer.disconnect();\n",
       "        }}\n",
       "}});\n",
       "\n",
       "// Listen for the removal of the full notebook cells\n",
       "var notebookContainer = gd.closest('#notebook-container');\n",
       "if (notebookContainer) {{\n",
       "    x.observe(notebookContainer, {childList: true});\n",
       "}}\n",
       "\n",
       "// Listen for the clearing of the current output cell\n",
       "var outputEl = gd.closest('.output');\n",
       "if (outputEl) {{\n",
       "    x.observe(outputEl, {childList: true});\n",
       "}}\n",
       "\n",
       "                        })                };                });            </script>        </div>"
      ]
     },
     "metadata": {},
     "output_type": "display_data"
    }
   ],
   "source": [
    "df.sum().iplot(kind='bar')"
   ]
  },
  {
   "cell_type": "markdown",
   "metadata": {},
   "source": [
    "#BOXPLOT"
   ]
  },
  {
   "cell_type": "code",
   "execution_count": 43,
   "metadata": {},
   "outputs": [
    {
     "data": {
      "application/vnd.plotly.v1+json": {
       "config": {
        "linkText": "Export to plot.ly",
        "plotlyServerURL": "https://plot.ly",
        "showLink": true
       },
       "data": [
        {
         "boxpoints": false,
         "line": {
          "width": 1.3
         },
         "marker": {
          "color": "rgba(255, 153, 51, 1.0)"
         },
         "name": "A",
         "orientation": "v",
         "type": "box",
         "y": [
          -0.6237268104686525,
          1.274572752369918,
          1.2855856084667923,
          0.4780921393755692,
          0.34494324406716476,
          -0.6405949323178967,
          -0.23348553233512562,
          0.17813370617579363,
          -0.7673268343683513,
          0.6579796347779423,
          0.09150439440134266,
          -0.3202194087654672,
          -0.7198822372283044,
          -0.03040259488005372,
          1.130130891132435,
          -1.3944379204410033,
          1.8055147559922298,
          -1.9857070195145679,
          1.4470767837214011,
          1.2874355830663946,
          0.696433594308047,
          2.404825719871125,
          -0.9623858314433245,
          -0.1859132142492279,
          0.03170213208913351,
          0.5002634060080197,
          1.4787083705078896,
          0.7458816130279491,
          0.3594135831219899,
          -1.2275883098721305,
          -0.03238291414533404,
          -0.15198417429647754,
          -0.8830153029958461,
          -0.8132224851313794,
          -2.0501610155245906,
          -0.9041899883149012,
          2.178167424721099,
          0.286622228389137,
          1.075573863823262,
          -0.4356904238305605,
          -1.0651750876267727,
          -0.0028056950631574658,
          -0.49382633776458307,
          -1.3147464271320535,
          -0.08989013325516612,
          -0.7042291895417842,
          -0.36343888412820746,
          0.333312240811528,
          1.0876510344408286,
          -0.3062546243441566,
          0.5660085135696187,
          0.09294517023552899,
          0.1894174818824277,
          0.04080039057265011,
          1.9675892925427019,
          -1.301768091588984,
          1.3152747666891773,
          0.005160869784432948,
          1.462520086249543,
          0.23850033626882083,
          0.8276718102531865,
          0.7004459393770409,
          0.19721486412706607,
          1.352394056400812,
          -1.5484023795619661,
          -0.22703321615797586,
          0.38543157811012896,
          0.8648956881612846,
          0.11555970092743817,
          0.24377042358437961,
          -0.8907934979824191,
          -0.41298058093838874,
          0.08772890141429637,
          -0.07976871061424609,
          0.2956966147265074,
          0.004051788741819877,
          -0.21232058552429844,
          -1.644617144448248,
          0.9817767416421945,
          -0.4355636648375388,
          -0.5358800350351557,
          0.2686898414179787,
          -1.7857386894657712,
          0.16534194227863233,
          1.6237878884244912,
          0.940607078882582,
          0.21777436019505278,
          1.2675257874568937,
          -1.1924645795499464,
          -1.0024359732972687,
          -0.9049278274834502,
          2.1992791381619425,
          -0.10497720054729366,
          -0.4905151303510943,
          -0.6425792587255553,
          0.5835158348888574,
          0.1531735913687253,
          1.2239349589688424,
          -0.03703710548486216,
          -0.2791575018844413
         ]
        },
        {
         "boxpoints": false,
         "line": {
          "width": 1.3
         },
         "marker": {
          "color": "rgba(55, 128, 191, 1.0)"
         },
         "name": "B",
         "orientation": "v",
         "type": "box",
         "y": [
          -0.5992388419623923,
          -1.2575663073827104,
          -0.8681566591353996,
          0.7064138445219653,
          1.220897910921186,
          -0.23843854751836333,
          0.08125458191418496,
          0.6318372109145688,
          0.942548979492198,
          2.320690008639898,
          0.9429607967997387,
          -0.29015875072636427,
          -1.6581592775086522,
          -0.5477094864769935,
          0.767637407871621,
          0.8881186319337434,
          -0.0643904961411898,
          0.9534947040026447,
          -0.16606079238591212,
          0.8603565522937122,
          -0.1580619170545945,
          -0.9653181739405476,
          -0.46734405290943015,
          -1.2911496712539385,
          -0.3972209893445163,
          0.3488214938166166,
          -0.21314454951927206,
          -0.4643598207233956,
          -0.6800305118874078,
          1.2935401582290862,
          1.4361191337703871,
          -1.171567562342489,
          -0.3670068378880621,
          -1.1054577060016664,
          -0.32064801789654274,
          -0.9363926236184297,
          -0.49477094246354825,
          0.812902698213528,
          0.8537832422872523,
          0.094645992888546,
          -0.6994604522634928,
          1.0646035005563184,
          0.8307767553268849,
          1.0896853366905155,
          0.2714464628285896,
          -0.5975426618874339,
          -0.16416177611486993,
          0.2877218711794547,
          -0.3781742013756831,
          0.48423209173426957,
          -1.180883461347576,
          -1.8120680649992547,
          0.8284734124830162,
          -1.1731129598625227,
          1.9801720805279264,
          1.2077623807204638,
          -0.13553492849395918,
          0.7018366579992051,
          0.23908836812693707,
          1.1711500013199105,
          0.3263080964506011,
          1.9688996231734426,
          0.18021053530810413,
          0.5375796221576216,
          1.5367208473457563,
          0.3513982997315935,
          0.9127172041851135,
          -2.230666072053595,
          -0.019961815619791035,
          -0.30999675103673313,
          -0.8464020313819279,
          -0.2533707794233801,
          0.4896143033570152,
          1.46020941716156,
          1.2582452885624982,
          -0.029048024548711818,
          -1.946621422012302,
          0.9796055069317009,
          1.7544797453482672,
          -0.9410046003128689,
          0.05471156767059863,
          1.8503324453552497,
          1.5160510298296148,
          -0.18408876323412576,
          -0.997566364283777,
          -1.2160719819895915,
          -0.015213805397837697,
          -1.3869063045253367,
          -0.3214812075644415,
          -0.27298008360765874,
          -0.424922336179347,
          -0.43640971391586103,
          0.24837444626450242,
          -0.5897616186959732,
          -0.966304223117495,
          0.3293893994072471,
          -1.126034549538087,
          0.7201557873948927,
          0.19646839542118436,
          -0.8793115217131454
         ]
        },
        {
         "boxpoints": false,
         "line": {
          "width": 1.3
         },
         "marker": {
          "color": "rgba(50, 171, 96, 1.0)"
         },
         "name": "C",
         "orientation": "v",
         "type": "box",
         "y": [
          0.8583663857467344,
          -1.5145392864678382,
          0.34690164059855494,
          -1.0771202641605213,
          0.7457894747870629,
          1.3465439153846355,
          -0.19439011320307956,
          -0.1278688585773838,
          0.8714217088237272,
          -1.2069465803723132,
          0.678669003387527,
          0.6908710435304085,
          -1.3518678827881616,
          -2.109643525172609,
          -0.14739200141021705,
          0.2736555043972159,
          1.5072558687922262,
          0.3716347249206074,
          0.9505652814339628,
          -1.9060707429949018,
          -0.7216299456200906,
          0.5033731431095232,
          1.567603658183932,
          -1.744367667834536,
          0.6046135698475051,
          -1.2591214070600647,
          0.24835386011648616,
          -1.990235566012449,
          0.2909701259669725,
          0.3835805487265389,
          -0.3289224481078893,
          2.783013415400195,
          0.004641289184778225,
          -0.5331706362446346,
          -0.85464536453022,
          -1.939048766759401,
          1.5732448829480874,
          0.6039064537817525,
          1.7959504221230522,
          1.0956375803715455,
          -0.30958601346015857,
          0.6493122178381358,
          -0.13110025881025425,
          0.08373256007282438,
          -0.9453019502596386,
          1.3098828552097408,
          1.0238437785917132,
          -0.2796519031510746,
          -0.18589891701581704,
          -1.9507939085538313,
          -1.9240307432375254,
          0.25150645933656285,
          -0.4025651321810857,
          -2.0008241036823686,
          -0.6715003970746136,
          -0.4865133485971033,
          -1.0906624905781868,
          -0.3155942117620863,
          1.0912079824359904,
          0.7558457550507326,
          0.9947145179461878,
          -0.884063002623822,
          -0.9426633092127263,
          -1.5032010405626413,
          0.016891280439735923,
          -1.4880291703598918,
          1.1960536111450781,
          0.645816263530466,
          0.7265415536969748,
          -0.07193586504117896,
          -0.15127496930009326,
          0.7246289940737326,
          1.1197657056355594,
          -2.0824336274218602,
          -0.9504679410546145,
          0.41403009909111205,
          0.29797641820947335,
          1.1205868149104123,
          -0.7225223044674257,
          -1.7344026712503873,
          0.7463173594083022,
          -0.25507555623623346,
          -0.3559478068672032,
          -0.42604250219736656,
          1.4951429885340772,
          -0.2616445199840373,
          0.8296699030143622,
          -2.343331318484972,
          0.9516666452755717,
          -0.05688586925889025,
          0.051787880004286954,
          2.352043014383918,
          -1.5993797304717008,
          -1.0915611825741727,
          -0.5340771017543282,
          0.7301909733814406,
          -0.9680356653278129,
          -0.6277223443047016,
          -0.8408546145530816,
          -1.5771668688401028
         ]
        },
        {
         "boxpoints": false,
         "line": {
          "width": 1.3
         },
         "marker": {
          "color": "rgba(128, 0, 128, 1.0)"
         },
         "name": "D",
         "orientation": "v",
         "type": "box",
         "y": [
          0.07924185651283985,
          0.6818652924290595,
          -1.5873646183219725,
          0.12143990441081044,
          0.05207846008017546,
          -1.6172186411018126,
          0.011936196923565652,
          0.3529043777707589,
          -0.2505368958304461,
          0.5242368019228532,
          0.8248947952081447,
          -0.44144132648920137,
          -1.1808687641887123,
          -0.5373388775111392,
          -0.3237467751304937,
          -0.3776318955153955,
          -1.0239629768554412,
          1.245531514165095,
          1.1073940699327756,
          0.4251891543621005,
          0.513692890737192,
          -0.8251306325144719,
          -0.5401465320493954,
          -0.16508677184432394,
          0.10365248867441129,
          -0.49532774975850336,
          0.33529958182784414,
          0.43571929713716445,
          0.39720144728297835,
          1.310944841202766,
          -2.3169983885896843,
          -0.18908103238767154,
          0.5292222231066129,
          0.29016145332777066,
          0.8427822926991279,
          -0.23657082738896495,
          -0.9235212521760812,
          -1.7890541565202018,
          0.8155050859900476,
          -0.10032716975412605,
          -1.365892603250562,
          0.13199703355022221,
          0.7329981815183036,
          -0.028480770358342258,
          0.5961455415925334,
          0.12109006891748281,
          -0.27040586484201984,
          -0.05622323384537568,
          0.2547450277359559,
          0.7390152320916648,
          1.4217961618406467,
          0.2806795766706054,
          1.036600861298079,
          -0.25972435751392714,
          -1.354284864112056,
          0.22207571354595435,
          1.86260698428309,
          -0.023431220580845128,
          0.12190958858536981,
          -0.3441378034341104,
          -0.3071343352575743,
          0.731265097288132,
          -0.9491959956966635,
          -1.1545115660287404,
          -0.452396235391058,
          -0.754086005700038,
          -0.43677995059947394,
          -1.2842290256385585,
          -0.5598699785720364,
          -1.9924405355160102,
          0.021257367426427105,
          0.668053699107769,
          -1.6077823585790698,
          -0.9608748165757212,
          0.5312422174535207,
          1.3370322151179366,
          0.8246792139371296,
          -0.43104272603839816,
          0.20878375668740443,
          -0.20858077619848964,
          -0.06922238817565377,
          -0.31461710761825573,
          3.1295338984364833,
          0.8281974921069192,
          1.2578508827664443,
          -0.4435176039959194,
          0.5236437557733773,
          -0.19699010977378437,
          0.006036150046611265,
          -0.7437834804755933,
          1.1688954857881058,
          0.46977893589293973,
          0.9529961423643826,
          1.0784673273714247,
          0.0937729889871102,
          -0.0691169318342257,
          -0.6697870179389714,
          -0.06400552700673463,
          -1.8031729430720378,
          0.49745682576903094
         ]
        }
       ],
       "layout": {
        "legend": {
         "bgcolor": "#F5F6F9",
         "font": {
          "color": "#4D5663"
         }
        },
        "paper_bgcolor": "#F5F6F9",
        "plot_bgcolor": "#F5F6F9",
        "template": {
         "data": {
          "bar": [
           {
            "error_x": {
             "color": "#2a3f5f"
            },
            "error_y": {
             "color": "#2a3f5f"
            },
            "marker": {
             "line": {
              "color": "#E5ECF6",
              "width": 0.5
             },
             "pattern": {
              "fillmode": "overlay",
              "size": 10,
              "solidity": 0.2
             }
            },
            "type": "bar"
           }
          ],
          "barpolar": [
           {
            "marker": {
             "line": {
              "color": "#E5ECF6",
              "width": 0.5
             },
             "pattern": {
              "fillmode": "overlay",
              "size": 10,
              "solidity": 0.2
             }
            },
            "type": "barpolar"
           }
          ],
          "carpet": [
           {
            "aaxis": {
             "endlinecolor": "#2a3f5f",
             "gridcolor": "white",
             "linecolor": "white",
             "minorgridcolor": "white",
             "startlinecolor": "#2a3f5f"
            },
            "baxis": {
             "endlinecolor": "#2a3f5f",
             "gridcolor": "white",
             "linecolor": "white",
             "minorgridcolor": "white",
             "startlinecolor": "#2a3f5f"
            },
            "type": "carpet"
           }
          ],
          "choropleth": [
           {
            "colorbar": {
             "outlinewidth": 0,
             "ticks": ""
            },
            "type": "choropleth"
           }
          ],
          "contour": [
           {
            "colorbar": {
             "outlinewidth": 0,
             "ticks": ""
            },
            "colorscale": [
             [
              0,
              "#0d0887"
             ],
             [
              0.1111111111111111,
              "#46039f"
             ],
             [
              0.2222222222222222,
              "#7201a8"
             ],
             [
              0.3333333333333333,
              "#9c179e"
             ],
             [
              0.4444444444444444,
              "#bd3786"
             ],
             [
              0.5555555555555556,
              "#d8576b"
             ],
             [
              0.6666666666666666,
              "#ed7953"
             ],
             [
              0.7777777777777778,
              "#fb9f3a"
             ],
             [
              0.8888888888888888,
              "#fdca26"
             ],
             [
              1,
              "#f0f921"
             ]
            ],
            "type": "contour"
           }
          ],
          "contourcarpet": [
           {
            "colorbar": {
             "outlinewidth": 0,
             "ticks": ""
            },
            "type": "contourcarpet"
           }
          ],
          "heatmap": [
           {
            "colorbar": {
             "outlinewidth": 0,
             "ticks": ""
            },
            "colorscale": [
             [
              0,
              "#0d0887"
             ],
             [
              0.1111111111111111,
              "#46039f"
             ],
             [
              0.2222222222222222,
              "#7201a8"
             ],
             [
              0.3333333333333333,
              "#9c179e"
             ],
             [
              0.4444444444444444,
              "#bd3786"
             ],
             [
              0.5555555555555556,
              "#d8576b"
             ],
             [
              0.6666666666666666,
              "#ed7953"
             ],
             [
              0.7777777777777778,
              "#fb9f3a"
             ],
             [
              0.8888888888888888,
              "#fdca26"
             ],
             [
              1,
              "#f0f921"
             ]
            ],
            "type": "heatmap"
           }
          ],
          "heatmapgl": [
           {
            "colorbar": {
             "outlinewidth": 0,
             "ticks": ""
            },
            "colorscale": [
             [
              0,
              "#0d0887"
             ],
             [
              0.1111111111111111,
              "#46039f"
             ],
             [
              0.2222222222222222,
              "#7201a8"
             ],
             [
              0.3333333333333333,
              "#9c179e"
             ],
             [
              0.4444444444444444,
              "#bd3786"
             ],
             [
              0.5555555555555556,
              "#d8576b"
             ],
             [
              0.6666666666666666,
              "#ed7953"
             ],
             [
              0.7777777777777778,
              "#fb9f3a"
             ],
             [
              0.8888888888888888,
              "#fdca26"
             ],
             [
              1,
              "#f0f921"
             ]
            ],
            "type": "heatmapgl"
           }
          ],
          "histogram": [
           {
            "marker": {
             "pattern": {
              "fillmode": "overlay",
              "size": 10,
              "solidity": 0.2
             }
            },
            "type": "histogram"
           }
          ],
          "histogram2d": [
           {
            "colorbar": {
             "outlinewidth": 0,
             "ticks": ""
            },
            "colorscale": [
             [
              0,
              "#0d0887"
             ],
             [
              0.1111111111111111,
              "#46039f"
             ],
             [
              0.2222222222222222,
              "#7201a8"
             ],
             [
              0.3333333333333333,
              "#9c179e"
             ],
             [
              0.4444444444444444,
              "#bd3786"
             ],
             [
              0.5555555555555556,
              "#d8576b"
             ],
             [
              0.6666666666666666,
              "#ed7953"
             ],
             [
              0.7777777777777778,
              "#fb9f3a"
             ],
             [
              0.8888888888888888,
              "#fdca26"
             ],
             [
              1,
              "#f0f921"
             ]
            ],
            "type": "histogram2d"
           }
          ],
          "histogram2dcontour": [
           {
            "colorbar": {
             "outlinewidth": 0,
             "ticks": ""
            },
            "colorscale": [
             [
              0,
              "#0d0887"
             ],
             [
              0.1111111111111111,
              "#46039f"
             ],
             [
              0.2222222222222222,
              "#7201a8"
             ],
             [
              0.3333333333333333,
              "#9c179e"
             ],
             [
              0.4444444444444444,
              "#bd3786"
             ],
             [
              0.5555555555555556,
              "#d8576b"
             ],
             [
              0.6666666666666666,
              "#ed7953"
             ],
             [
              0.7777777777777778,
              "#fb9f3a"
             ],
             [
              0.8888888888888888,
              "#fdca26"
             ],
             [
              1,
              "#f0f921"
             ]
            ],
            "type": "histogram2dcontour"
           }
          ],
          "mesh3d": [
           {
            "colorbar": {
             "outlinewidth": 0,
             "ticks": ""
            },
            "type": "mesh3d"
           }
          ],
          "parcoords": [
           {
            "line": {
             "colorbar": {
              "outlinewidth": 0,
              "ticks": ""
             }
            },
            "type": "parcoords"
           }
          ],
          "pie": [
           {
            "automargin": true,
            "type": "pie"
           }
          ],
          "scatter": [
           {
            "fillpattern": {
             "fillmode": "overlay",
             "size": 10,
             "solidity": 0.2
            },
            "type": "scatter"
           }
          ],
          "scatter3d": [
           {
            "line": {
             "colorbar": {
              "outlinewidth": 0,
              "ticks": ""
             }
            },
            "marker": {
             "colorbar": {
              "outlinewidth": 0,
              "ticks": ""
             }
            },
            "type": "scatter3d"
           }
          ],
          "scattercarpet": [
           {
            "marker": {
             "colorbar": {
              "outlinewidth": 0,
              "ticks": ""
             }
            },
            "type": "scattercarpet"
           }
          ],
          "scattergeo": [
           {
            "marker": {
             "colorbar": {
              "outlinewidth": 0,
              "ticks": ""
             }
            },
            "type": "scattergeo"
           }
          ],
          "scattergl": [
           {
            "marker": {
             "colorbar": {
              "outlinewidth": 0,
              "ticks": ""
             }
            },
            "type": "scattergl"
           }
          ],
          "scattermapbox": [
           {
            "marker": {
             "colorbar": {
              "outlinewidth": 0,
              "ticks": ""
             }
            },
            "type": "scattermapbox"
           }
          ],
          "scatterpolar": [
           {
            "marker": {
             "colorbar": {
              "outlinewidth": 0,
              "ticks": ""
             }
            },
            "type": "scatterpolar"
           }
          ],
          "scatterpolargl": [
           {
            "marker": {
             "colorbar": {
              "outlinewidth": 0,
              "ticks": ""
             }
            },
            "type": "scatterpolargl"
           }
          ],
          "scatterternary": [
           {
            "marker": {
             "colorbar": {
              "outlinewidth": 0,
              "ticks": ""
             }
            },
            "type": "scatterternary"
           }
          ],
          "surface": [
           {
            "colorbar": {
             "outlinewidth": 0,
             "ticks": ""
            },
            "colorscale": [
             [
              0,
              "#0d0887"
             ],
             [
              0.1111111111111111,
              "#46039f"
             ],
             [
              0.2222222222222222,
              "#7201a8"
             ],
             [
              0.3333333333333333,
              "#9c179e"
             ],
             [
              0.4444444444444444,
              "#bd3786"
             ],
             [
              0.5555555555555556,
              "#d8576b"
             ],
             [
              0.6666666666666666,
              "#ed7953"
             ],
             [
              0.7777777777777778,
              "#fb9f3a"
             ],
             [
              0.8888888888888888,
              "#fdca26"
             ],
             [
              1,
              "#f0f921"
             ]
            ],
            "type": "surface"
           }
          ],
          "table": [
           {
            "cells": {
             "fill": {
              "color": "#EBF0F8"
             },
             "line": {
              "color": "white"
             }
            },
            "header": {
             "fill": {
              "color": "#C8D4E3"
             },
             "line": {
              "color": "white"
             }
            },
            "type": "table"
           }
          ]
         },
         "layout": {
          "annotationdefaults": {
           "arrowcolor": "#2a3f5f",
           "arrowhead": 0,
           "arrowwidth": 1
          },
          "autotypenumbers": "strict",
          "coloraxis": {
           "colorbar": {
            "outlinewidth": 0,
            "ticks": ""
           }
          },
          "colorscale": {
           "diverging": [
            [
             0,
             "#8e0152"
            ],
            [
             0.1,
             "#c51b7d"
            ],
            [
             0.2,
             "#de77ae"
            ],
            [
             0.3,
             "#f1b6da"
            ],
            [
             0.4,
             "#fde0ef"
            ],
            [
             0.5,
             "#f7f7f7"
            ],
            [
             0.6,
             "#e6f5d0"
            ],
            [
             0.7,
             "#b8e186"
            ],
            [
             0.8,
             "#7fbc41"
            ],
            [
             0.9,
             "#4d9221"
            ],
            [
             1,
             "#276419"
            ]
           ],
           "sequential": [
            [
             0,
             "#0d0887"
            ],
            [
             0.1111111111111111,
             "#46039f"
            ],
            [
             0.2222222222222222,
             "#7201a8"
            ],
            [
             0.3333333333333333,
             "#9c179e"
            ],
            [
             0.4444444444444444,
             "#bd3786"
            ],
            [
             0.5555555555555556,
             "#d8576b"
            ],
            [
             0.6666666666666666,
             "#ed7953"
            ],
            [
             0.7777777777777778,
             "#fb9f3a"
            ],
            [
             0.8888888888888888,
             "#fdca26"
            ],
            [
             1,
             "#f0f921"
            ]
           ],
           "sequentialminus": [
            [
             0,
             "#0d0887"
            ],
            [
             0.1111111111111111,
             "#46039f"
            ],
            [
             0.2222222222222222,
             "#7201a8"
            ],
            [
             0.3333333333333333,
             "#9c179e"
            ],
            [
             0.4444444444444444,
             "#bd3786"
            ],
            [
             0.5555555555555556,
             "#d8576b"
            ],
            [
             0.6666666666666666,
             "#ed7953"
            ],
            [
             0.7777777777777778,
             "#fb9f3a"
            ],
            [
             0.8888888888888888,
             "#fdca26"
            ],
            [
             1,
             "#f0f921"
            ]
           ]
          },
          "colorway": [
           "#636efa",
           "#EF553B",
           "#00cc96",
           "#ab63fa",
           "#FFA15A",
           "#19d3f3",
           "#FF6692",
           "#B6E880",
           "#FF97FF",
           "#FECB52"
          ],
          "font": {
           "color": "#2a3f5f"
          },
          "geo": {
           "bgcolor": "white",
           "lakecolor": "white",
           "landcolor": "#E5ECF6",
           "showlakes": true,
           "showland": true,
           "subunitcolor": "white"
          },
          "hoverlabel": {
           "align": "left"
          },
          "hovermode": "closest",
          "mapbox": {
           "style": "light"
          },
          "paper_bgcolor": "white",
          "plot_bgcolor": "#E5ECF6",
          "polar": {
           "angularaxis": {
            "gridcolor": "white",
            "linecolor": "white",
            "ticks": ""
           },
           "bgcolor": "#E5ECF6",
           "radialaxis": {
            "gridcolor": "white",
            "linecolor": "white",
            "ticks": ""
           }
          },
          "scene": {
           "xaxis": {
            "backgroundcolor": "#E5ECF6",
            "gridcolor": "white",
            "gridwidth": 2,
            "linecolor": "white",
            "showbackground": true,
            "ticks": "",
            "zerolinecolor": "white"
           },
           "yaxis": {
            "backgroundcolor": "#E5ECF6",
            "gridcolor": "white",
            "gridwidth": 2,
            "linecolor": "white",
            "showbackground": true,
            "ticks": "",
            "zerolinecolor": "white"
           },
           "zaxis": {
            "backgroundcolor": "#E5ECF6",
            "gridcolor": "white",
            "gridwidth": 2,
            "linecolor": "white",
            "showbackground": true,
            "ticks": "",
            "zerolinecolor": "white"
           }
          },
          "shapedefaults": {
           "line": {
            "color": "#2a3f5f"
           }
          },
          "ternary": {
           "aaxis": {
            "gridcolor": "white",
            "linecolor": "white",
            "ticks": ""
           },
           "baxis": {
            "gridcolor": "white",
            "linecolor": "white",
            "ticks": ""
           },
           "bgcolor": "#E5ECF6",
           "caxis": {
            "gridcolor": "white",
            "linecolor": "white",
            "ticks": ""
           }
          },
          "title": {
           "x": 0.05
          },
          "xaxis": {
           "automargin": true,
           "gridcolor": "white",
           "linecolor": "white",
           "ticks": "",
           "title": {
            "standoff": 15
           },
           "zerolinecolor": "white",
           "zerolinewidth": 2
          },
          "yaxis": {
           "automargin": true,
           "gridcolor": "white",
           "linecolor": "white",
           "ticks": "",
           "title": {
            "standoff": 15
           },
           "zerolinecolor": "white",
           "zerolinewidth": 2
          }
         }
        },
        "title": {
         "font": {
          "color": "#4D5663"
         }
        },
        "xaxis": {
         "gridcolor": "#E1E5ED",
         "showgrid": true,
         "tickfont": {
          "color": "#4D5663"
         },
         "title": {
          "font": {
           "color": "#4D5663"
          },
          "text": ""
         },
         "zerolinecolor": "#E1E5ED"
        },
        "yaxis": {
         "gridcolor": "#E1E5ED",
         "showgrid": true,
         "tickfont": {
          "color": "#4D5663"
         },
         "title": {
          "font": {
           "color": "#4D5663"
          },
          "text": ""
         },
         "zerolinecolor": "#E1E5ED"
        }
       }
      },
      "text/html": [
       "<div>                            <div id=\"4bb182a1-022b-4c3f-9d91-8bf0f5669049\" class=\"plotly-graph-div\" style=\"height:525px; width:100%;\"></div>            <script type=\"text/javascript\">                require([\"plotly\"], function(Plotly) {                    window.PLOTLYENV=window.PLOTLYENV || {};\n",
       "                    window.PLOTLYENV.BASE_URL='https://plot.ly';                                    if (document.getElementById(\"4bb182a1-022b-4c3f-9d91-8bf0f5669049\")) {                    Plotly.newPlot(                        \"4bb182a1-022b-4c3f-9d91-8bf0f5669049\",                        [{\"boxpoints\":false,\"line\":{\"width\":1.3},\"marker\":{\"color\":\"rgba(255, 153, 51, 1.0)\"},\"name\":\"A\",\"orientation\":\"v\",\"y\":[-0.6237268104686525,1.274572752369918,1.2855856084667923,0.4780921393755692,0.34494324406716476,-0.6405949323178967,-0.23348553233512562,0.17813370617579363,-0.7673268343683513,0.6579796347779423,0.09150439440134266,-0.3202194087654672,-0.7198822372283044,-0.03040259488005372,1.130130891132435,-1.3944379204410033,1.8055147559922298,-1.9857070195145679,1.4470767837214011,1.2874355830663946,0.696433594308047,2.404825719871125,-0.9623858314433245,-0.1859132142492279,0.03170213208913351,0.5002634060080197,1.4787083705078896,0.7458816130279491,0.3594135831219899,-1.2275883098721305,-0.03238291414533404,-0.15198417429647754,-0.8830153029958461,-0.8132224851313794,-2.0501610155245906,-0.9041899883149012,2.178167424721099,0.286622228389137,1.075573863823262,-0.4356904238305605,-1.0651750876267727,-0.0028056950631574658,-0.49382633776458307,-1.3147464271320535,-0.08989013325516612,-0.7042291895417842,-0.36343888412820746,0.333312240811528,1.0876510344408286,-0.3062546243441566,0.5660085135696187,0.09294517023552899,0.1894174818824277,0.04080039057265011,1.9675892925427019,-1.301768091588984,1.3152747666891773,0.005160869784432948,1.462520086249543,0.23850033626882083,0.8276718102531865,0.7004459393770409,0.19721486412706607,1.352394056400812,-1.5484023795619661,-0.22703321615797586,0.38543157811012896,0.8648956881612846,0.11555970092743817,0.24377042358437961,-0.8907934979824191,-0.41298058093838874,0.08772890141429637,-0.07976871061424609,0.2956966147265074,0.004051788741819877,-0.21232058552429844,-1.644617144448248,0.9817767416421945,-0.4355636648375388,-0.5358800350351557,0.2686898414179787,-1.7857386894657712,0.16534194227863233,1.6237878884244912,0.940607078882582,0.21777436019505278,1.2675257874568937,-1.1924645795499464,-1.0024359732972687,-0.9049278274834502,2.1992791381619425,-0.10497720054729366,-0.4905151303510943,-0.6425792587255553,0.5835158348888574,0.1531735913687253,1.2239349589688424,-0.03703710548486216,-0.2791575018844413],\"type\":\"box\"},{\"boxpoints\":false,\"line\":{\"width\":1.3},\"marker\":{\"color\":\"rgba(55, 128, 191, 1.0)\"},\"name\":\"B\",\"orientation\":\"v\",\"y\":[-0.5992388419623923,-1.2575663073827104,-0.8681566591353996,0.7064138445219653,1.220897910921186,-0.23843854751836333,0.08125458191418496,0.6318372109145688,0.942548979492198,2.320690008639898,0.9429607967997387,-0.29015875072636427,-1.6581592775086522,-0.5477094864769935,0.767637407871621,0.8881186319337434,-0.0643904961411898,0.9534947040026447,-0.16606079238591212,0.8603565522937122,-0.1580619170545945,-0.9653181739405476,-0.46734405290943015,-1.2911496712539385,-0.3972209893445163,0.3488214938166166,-0.21314454951927206,-0.4643598207233956,-0.6800305118874078,1.2935401582290862,1.4361191337703871,-1.171567562342489,-0.3670068378880621,-1.1054577060016664,-0.32064801789654274,-0.9363926236184297,-0.49477094246354825,0.812902698213528,0.8537832422872523,0.094645992888546,-0.6994604522634928,1.0646035005563184,0.8307767553268849,1.0896853366905155,0.2714464628285896,-0.5975426618874339,-0.16416177611486993,0.2877218711794547,-0.3781742013756831,0.48423209173426957,-1.180883461347576,-1.8120680649992547,0.8284734124830162,-1.1731129598625227,1.9801720805279264,1.2077623807204638,-0.13553492849395918,0.7018366579992051,0.23908836812693707,1.1711500013199105,0.3263080964506011,1.9688996231734426,0.18021053530810413,0.5375796221576216,1.5367208473457563,0.3513982997315935,0.9127172041851135,-2.230666072053595,-0.019961815619791035,-0.30999675103673313,-0.8464020313819279,-0.2533707794233801,0.4896143033570152,1.46020941716156,1.2582452885624982,-0.029048024548711818,-1.946621422012302,0.9796055069317009,1.7544797453482672,-0.9410046003128689,0.05471156767059863,1.8503324453552497,1.5160510298296148,-0.18408876323412576,-0.997566364283777,-1.2160719819895915,-0.015213805397837697,-1.3869063045253367,-0.3214812075644415,-0.27298008360765874,-0.424922336179347,-0.43640971391586103,0.24837444626450242,-0.5897616186959732,-0.966304223117495,0.3293893994072471,-1.126034549538087,0.7201557873948927,0.19646839542118436,-0.8793115217131454],\"type\":\"box\"},{\"boxpoints\":false,\"line\":{\"width\":1.3},\"marker\":{\"color\":\"rgba(50, 171, 96, 1.0)\"},\"name\":\"C\",\"orientation\":\"v\",\"y\":[0.8583663857467344,-1.5145392864678382,0.34690164059855494,-1.0771202641605213,0.7457894747870629,1.3465439153846355,-0.19439011320307956,-0.1278688585773838,0.8714217088237272,-1.2069465803723132,0.678669003387527,0.6908710435304085,-1.3518678827881616,-2.109643525172609,-0.14739200141021705,0.2736555043972159,1.5072558687922262,0.3716347249206074,0.9505652814339628,-1.9060707429949018,-0.7216299456200906,0.5033731431095232,1.567603658183932,-1.744367667834536,0.6046135698475051,-1.2591214070600647,0.24835386011648616,-1.990235566012449,0.2909701259669725,0.3835805487265389,-0.3289224481078893,2.783013415400195,0.004641289184778225,-0.5331706362446346,-0.85464536453022,-1.939048766759401,1.5732448829480874,0.6039064537817525,1.7959504221230522,1.0956375803715455,-0.30958601346015857,0.6493122178381358,-0.13110025881025425,0.08373256007282438,-0.9453019502596386,1.3098828552097408,1.0238437785917132,-0.2796519031510746,-0.18589891701581704,-1.9507939085538313,-1.9240307432375254,0.25150645933656285,-0.4025651321810857,-2.0008241036823686,-0.6715003970746136,-0.4865133485971033,-1.0906624905781868,-0.3155942117620863,1.0912079824359904,0.7558457550507326,0.9947145179461878,-0.884063002623822,-0.9426633092127263,-1.5032010405626413,0.016891280439735923,-1.4880291703598918,1.1960536111450781,0.645816263530466,0.7265415536969748,-0.07193586504117896,-0.15127496930009326,0.7246289940737326,1.1197657056355594,-2.0824336274218602,-0.9504679410546145,0.41403009909111205,0.29797641820947335,1.1205868149104123,-0.7225223044674257,-1.7344026712503873,0.7463173594083022,-0.25507555623623346,-0.3559478068672032,-0.42604250219736656,1.4951429885340772,-0.2616445199840373,0.8296699030143622,-2.343331318484972,0.9516666452755717,-0.05688586925889025,0.051787880004286954,2.352043014383918,-1.5993797304717008,-1.0915611825741727,-0.5340771017543282,0.7301909733814406,-0.9680356653278129,-0.6277223443047016,-0.8408546145530816,-1.5771668688401028],\"type\":\"box\"},{\"boxpoints\":false,\"line\":{\"width\":1.3},\"marker\":{\"color\":\"rgba(128, 0, 128, 1.0)\"},\"name\":\"D\",\"orientation\":\"v\",\"y\":[0.07924185651283985,0.6818652924290595,-1.5873646183219725,0.12143990441081044,0.05207846008017546,-1.6172186411018126,0.011936196923565652,0.3529043777707589,-0.2505368958304461,0.5242368019228532,0.8248947952081447,-0.44144132648920137,-1.1808687641887123,-0.5373388775111392,-0.3237467751304937,-0.3776318955153955,-1.0239629768554412,1.245531514165095,1.1073940699327756,0.4251891543621005,0.513692890737192,-0.8251306325144719,-0.5401465320493954,-0.16508677184432394,0.10365248867441129,-0.49532774975850336,0.33529958182784414,0.43571929713716445,0.39720144728297835,1.310944841202766,-2.3169983885896843,-0.18908103238767154,0.5292222231066129,0.29016145332777066,0.8427822926991279,-0.23657082738896495,-0.9235212521760812,-1.7890541565202018,0.8155050859900476,-0.10032716975412605,-1.365892603250562,0.13199703355022221,0.7329981815183036,-0.028480770358342258,0.5961455415925334,0.12109006891748281,-0.27040586484201984,-0.05622323384537568,0.2547450277359559,0.7390152320916648,1.4217961618406467,0.2806795766706054,1.036600861298079,-0.25972435751392714,-1.354284864112056,0.22207571354595435,1.86260698428309,-0.023431220580845128,0.12190958858536981,-0.3441378034341104,-0.3071343352575743,0.731265097288132,-0.9491959956966635,-1.1545115660287404,-0.452396235391058,-0.754086005700038,-0.43677995059947394,-1.2842290256385585,-0.5598699785720364,-1.9924405355160102,0.021257367426427105,0.668053699107769,-1.6077823585790698,-0.9608748165757212,0.5312422174535207,1.3370322151179366,0.8246792139371296,-0.43104272603839816,0.20878375668740443,-0.20858077619848964,-0.06922238817565377,-0.31461710761825573,3.1295338984364833,0.8281974921069192,1.2578508827664443,-0.4435176039959194,0.5236437557733773,-0.19699010977378437,0.006036150046611265,-0.7437834804755933,1.1688954857881058,0.46977893589293973,0.9529961423643826,1.0784673273714247,0.0937729889871102,-0.0691169318342257,-0.6697870179389714,-0.06400552700673463,-1.8031729430720378,0.49745682576903094],\"type\":\"box\"}],                        {\"legend\":{\"bgcolor\":\"#F5F6F9\",\"font\":{\"color\":\"#4D5663\"}},\"paper_bgcolor\":\"#F5F6F9\",\"plot_bgcolor\":\"#F5F6F9\",\"template\":{\"data\":{\"barpolar\":[{\"marker\":{\"line\":{\"color\":\"#E5ECF6\",\"width\":0.5},\"pattern\":{\"fillmode\":\"overlay\",\"size\":10,\"solidity\":0.2}},\"type\":\"barpolar\"}],\"bar\":[{\"error_x\":{\"color\":\"#2a3f5f\"},\"error_y\":{\"color\":\"#2a3f5f\"},\"marker\":{\"line\":{\"color\":\"#E5ECF6\",\"width\":0.5},\"pattern\":{\"fillmode\":\"overlay\",\"size\":10,\"solidity\":0.2}},\"type\":\"bar\"}],\"carpet\":[{\"aaxis\":{\"endlinecolor\":\"#2a3f5f\",\"gridcolor\":\"white\",\"linecolor\":\"white\",\"minorgridcolor\":\"white\",\"startlinecolor\":\"#2a3f5f\"},\"baxis\":{\"endlinecolor\":\"#2a3f5f\",\"gridcolor\":\"white\",\"linecolor\":\"white\",\"minorgridcolor\":\"white\",\"startlinecolor\":\"#2a3f5f\"},\"type\":\"carpet\"}],\"choropleth\":[{\"colorbar\":{\"outlinewidth\":0,\"ticks\":\"\"},\"type\":\"choropleth\"}],\"contourcarpet\":[{\"colorbar\":{\"outlinewidth\":0,\"ticks\":\"\"},\"type\":\"contourcarpet\"}],\"contour\":[{\"colorbar\":{\"outlinewidth\":0,\"ticks\":\"\"},\"colorscale\":[[0.0,\"#0d0887\"],[0.1111111111111111,\"#46039f\"],[0.2222222222222222,\"#7201a8\"],[0.3333333333333333,\"#9c179e\"],[0.4444444444444444,\"#bd3786\"],[0.5555555555555556,\"#d8576b\"],[0.6666666666666666,\"#ed7953\"],[0.7777777777777778,\"#fb9f3a\"],[0.8888888888888888,\"#fdca26\"],[1.0,\"#f0f921\"]],\"type\":\"contour\"}],\"heatmapgl\":[{\"colorbar\":{\"outlinewidth\":0,\"ticks\":\"\"},\"colorscale\":[[0.0,\"#0d0887\"],[0.1111111111111111,\"#46039f\"],[0.2222222222222222,\"#7201a8\"],[0.3333333333333333,\"#9c179e\"],[0.4444444444444444,\"#bd3786\"],[0.5555555555555556,\"#d8576b\"],[0.6666666666666666,\"#ed7953\"],[0.7777777777777778,\"#fb9f3a\"],[0.8888888888888888,\"#fdca26\"],[1.0,\"#f0f921\"]],\"type\":\"heatmapgl\"}],\"heatmap\":[{\"colorbar\":{\"outlinewidth\":0,\"ticks\":\"\"},\"colorscale\":[[0.0,\"#0d0887\"],[0.1111111111111111,\"#46039f\"],[0.2222222222222222,\"#7201a8\"],[0.3333333333333333,\"#9c179e\"],[0.4444444444444444,\"#bd3786\"],[0.5555555555555556,\"#d8576b\"],[0.6666666666666666,\"#ed7953\"],[0.7777777777777778,\"#fb9f3a\"],[0.8888888888888888,\"#fdca26\"],[1.0,\"#f0f921\"]],\"type\":\"heatmap\"}],\"histogram2dcontour\":[{\"colorbar\":{\"outlinewidth\":0,\"ticks\":\"\"},\"colorscale\":[[0.0,\"#0d0887\"],[0.1111111111111111,\"#46039f\"],[0.2222222222222222,\"#7201a8\"],[0.3333333333333333,\"#9c179e\"],[0.4444444444444444,\"#bd3786\"],[0.5555555555555556,\"#d8576b\"],[0.6666666666666666,\"#ed7953\"],[0.7777777777777778,\"#fb9f3a\"],[0.8888888888888888,\"#fdca26\"],[1.0,\"#f0f921\"]],\"type\":\"histogram2dcontour\"}],\"histogram2d\":[{\"colorbar\":{\"outlinewidth\":0,\"ticks\":\"\"},\"colorscale\":[[0.0,\"#0d0887\"],[0.1111111111111111,\"#46039f\"],[0.2222222222222222,\"#7201a8\"],[0.3333333333333333,\"#9c179e\"],[0.4444444444444444,\"#bd3786\"],[0.5555555555555556,\"#d8576b\"],[0.6666666666666666,\"#ed7953\"],[0.7777777777777778,\"#fb9f3a\"],[0.8888888888888888,\"#fdca26\"],[1.0,\"#f0f921\"]],\"type\":\"histogram2d\"}],\"histogram\":[{\"marker\":{\"pattern\":{\"fillmode\":\"overlay\",\"size\":10,\"solidity\":0.2}},\"type\":\"histogram\"}],\"mesh3d\":[{\"colorbar\":{\"outlinewidth\":0,\"ticks\":\"\"},\"type\":\"mesh3d\"}],\"parcoords\":[{\"line\":{\"colorbar\":{\"outlinewidth\":0,\"ticks\":\"\"}},\"type\":\"parcoords\"}],\"pie\":[{\"automargin\":true,\"type\":\"pie\"}],\"scatter3d\":[{\"line\":{\"colorbar\":{\"outlinewidth\":0,\"ticks\":\"\"}},\"marker\":{\"colorbar\":{\"outlinewidth\":0,\"ticks\":\"\"}},\"type\":\"scatter3d\"}],\"scattercarpet\":[{\"marker\":{\"colorbar\":{\"outlinewidth\":0,\"ticks\":\"\"}},\"type\":\"scattercarpet\"}],\"scattergeo\":[{\"marker\":{\"colorbar\":{\"outlinewidth\":0,\"ticks\":\"\"}},\"type\":\"scattergeo\"}],\"scattergl\":[{\"marker\":{\"colorbar\":{\"outlinewidth\":0,\"ticks\":\"\"}},\"type\":\"scattergl\"}],\"scattermapbox\":[{\"marker\":{\"colorbar\":{\"outlinewidth\":0,\"ticks\":\"\"}},\"type\":\"scattermapbox\"}],\"scatterpolargl\":[{\"marker\":{\"colorbar\":{\"outlinewidth\":0,\"ticks\":\"\"}},\"type\":\"scatterpolargl\"}],\"scatterpolar\":[{\"marker\":{\"colorbar\":{\"outlinewidth\":0,\"ticks\":\"\"}},\"type\":\"scatterpolar\"}],\"scatter\":[{\"fillpattern\":{\"fillmode\":\"overlay\",\"size\":10,\"solidity\":0.2},\"type\":\"scatter\"}],\"scatterternary\":[{\"marker\":{\"colorbar\":{\"outlinewidth\":0,\"ticks\":\"\"}},\"type\":\"scatterternary\"}],\"surface\":[{\"colorbar\":{\"outlinewidth\":0,\"ticks\":\"\"},\"colorscale\":[[0.0,\"#0d0887\"],[0.1111111111111111,\"#46039f\"],[0.2222222222222222,\"#7201a8\"],[0.3333333333333333,\"#9c179e\"],[0.4444444444444444,\"#bd3786\"],[0.5555555555555556,\"#d8576b\"],[0.6666666666666666,\"#ed7953\"],[0.7777777777777778,\"#fb9f3a\"],[0.8888888888888888,\"#fdca26\"],[1.0,\"#f0f921\"]],\"type\":\"surface\"}],\"table\":[{\"cells\":{\"fill\":{\"color\":\"#EBF0F8\"},\"line\":{\"color\":\"white\"}},\"header\":{\"fill\":{\"color\":\"#C8D4E3\"},\"line\":{\"color\":\"white\"}},\"type\":\"table\"}]},\"layout\":{\"annotationdefaults\":{\"arrowcolor\":\"#2a3f5f\",\"arrowhead\":0,\"arrowwidth\":1},\"autotypenumbers\":\"strict\",\"coloraxis\":{\"colorbar\":{\"outlinewidth\":0,\"ticks\":\"\"}},\"colorscale\":{\"diverging\":[[0,\"#8e0152\"],[0.1,\"#c51b7d\"],[0.2,\"#de77ae\"],[0.3,\"#f1b6da\"],[0.4,\"#fde0ef\"],[0.5,\"#f7f7f7\"],[0.6,\"#e6f5d0\"],[0.7,\"#b8e186\"],[0.8,\"#7fbc41\"],[0.9,\"#4d9221\"],[1,\"#276419\"]],\"sequential\":[[0.0,\"#0d0887\"],[0.1111111111111111,\"#46039f\"],[0.2222222222222222,\"#7201a8\"],[0.3333333333333333,\"#9c179e\"],[0.4444444444444444,\"#bd3786\"],[0.5555555555555556,\"#d8576b\"],[0.6666666666666666,\"#ed7953\"],[0.7777777777777778,\"#fb9f3a\"],[0.8888888888888888,\"#fdca26\"],[1.0,\"#f0f921\"]],\"sequentialminus\":[[0.0,\"#0d0887\"],[0.1111111111111111,\"#46039f\"],[0.2222222222222222,\"#7201a8\"],[0.3333333333333333,\"#9c179e\"],[0.4444444444444444,\"#bd3786\"],[0.5555555555555556,\"#d8576b\"],[0.6666666666666666,\"#ed7953\"],[0.7777777777777778,\"#fb9f3a\"],[0.8888888888888888,\"#fdca26\"],[1.0,\"#f0f921\"]]},\"colorway\":[\"#636efa\",\"#EF553B\",\"#00cc96\",\"#ab63fa\",\"#FFA15A\",\"#19d3f3\",\"#FF6692\",\"#B6E880\",\"#FF97FF\",\"#FECB52\"],\"font\":{\"color\":\"#2a3f5f\"},\"geo\":{\"bgcolor\":\"white\",\"lakecolor\":\"white\",\"landcolor\":\"#E5ECF6\",\"showlakes\":true,\"showland\":true,\"subunitcolor\":\"white\"},\"hoverlabel\":{\"align\":\"left\"},\"hovermode\":\"closest\",\"mapbox\":{\"style\":\"light\"},\"paper_bgcolor\":\"white\",\"plot_bgcolor\":\"#E5ECF6\",\"polar\":{\"angularaxis\":{\"gridcolor\":\"white\",\"linecolor\":\"white\",\"ticks\":\"\"},\"bgcolor\":\"#E5ECF6\",\"radialaxis\":{\"gridcolor\":\"white\",\"linecolor\":\"white\",\"ticks\":\"\"}},\"scene\":{\"xaxis\":{\"backgroundcolor\":\"#E5ECF6\",\"gridcolor\":\"white\",\"gridwidth\":2,\"linecolor\":\"white\",\"showbackground\":true,\"ticks\":\"\",\"zerolinecolor\":\"white\"},\"yaxis\":{\"backgroundcolor\":\"#E5ECF6\",\"gridcolor\":\"white\",\"gridwidth\":2,\"linecolor\":\"white\",\"showbackground\":true,\"ticks\":\"\",\"zerolinecolor\":\"white\"},\"zaxis\":{\"backgroundcolor\":\"#E5ECF6\",\"gridcolor\":\"white\",\"gridwidth\":2,\"linecolor\":\"white\",\"showbackground\":true,\"ticks\":\"\",\"zerolinecolor\":\"white\"}},\"shapedefaults\":{\"line\":{\"color\":\"#2a3f5f\"}},\"ternary\":{\"aaxis\":{\"gridcolor\":\"white\",\"linecolor\":\"white\",\"ticks\":\"\"},\"baxis\":{\"gridcolor\":\"white\",\"linecolor\":\"white\",\"ticks\":\"\"},\"bgcolor\":\"#E5ECF6\",\"caxis\":{\"gridcolor\":\"white\",\"linecolor\":\"white\",\"ticks\":\"\"}},\"title\":{\"x\":0.05},\"xaxis\":{\"automargin\":true,\"gridcolor\":\"white\",\"linecolor\":\"white\",\"ticks\":\"\",\"title\":{\"standoff\":15},\"zerolinecolor\":\"white\",\"zerolinewidth\":2},\"yaxis\":{\"automargin\":true,\"gridcolor\":\"white\",\"linecolor\":\"white\",\"ticks\":\"\",\"title\":{\"standoff\":15},\"zerolinecolor\":\"white\",\"zerolinewidth\":2}}},\"title\":{\"font\":{\"color\":\"#4D5663\"}},\"xaxis\":{\"gridcolor\":\"#E1E5ED\",\"showgrid\":true,\"tickfont\":{\"color\":\"#4D5663\"},\"title\":{\"font\":{\"color\":\"#4D5663\"},\"text\":\"\"},\"zerolinecolor\":\"#E1E5ED\"},\"yaxis\":{\"gridcolor\":\"#E1E5ED\",\"showgrid\":true,\"tickfont\":{\"color\":\"#4D5663\"},\"title\":{\"font\":{\"color\":\"#4D5663\"},\"text\":\"\"},\"zerolinecolor\":\"#E1E5ED\"}},                        {\"showLink\": true, \"linkText\": \"Export to plot.ly\", \"plotlyServerURL\": \"https://plot.ly\", \"responsive\": true}                    ).then(function(){\n",
       "                            \n",
       "var gd = document.getElementById('4bb182a1-022b-4c3f-9d91-8bf0f5669049');\n",
       "var x = new MutationObserver(function (mutations, observer) {{\n",
       "        var display = window.getComputedStyle(gd).display;\n",
       "        if (!display || display === 'none') {{\n",
       "            console.log([gd, 'removed!']);\n",
       "            Plotly.purge(gd);\n",
       "            observer.disconnect();\n",
       "        }}\n",
       "}});\n",
       "\n",
       "// Listen for the removal of the full notebook cells\n",
       "var notebookContainer = gd.closest('#notebook-container');\n",
       "if (notebookContainer) {{\n",
       "    x.observe(notebookContainer, {childList: true});\n",
       "}}\n",
       "\n",
       "// Listen for the clearing of the current output cell\n",
       "var outputEl = gd.closest('.output');\n",
       "if (outputEl) {{\n",
       "    x.observe(outputEl, {childList: true});\n",
       "}}\n",
       "\n",
       "                        })                };                });            </script>        </div>"
      ]
     },
     "metadata": {},
     "output_type": "display_data"
    }
   ],
   "source": [
    "df.iplot(kind='box')"
   ]
  },
  {
   "cell_type": "markdown",
   "metadata": {},
   "source": [
    "#HISTOGRAM"
   ]
  },
  {
   "cell_type": "code",
   "execution_count": 61,
   "metadata": {},
   "outputs": [
    {
     "data": {
      "application/vnd.plotly.v1+json": {
       "config": {
        "linkText": "Export to plot.ly",
        "plotlyServerURL": "https://plot.ly",
        "showLink": true
       },
       "data": [
        {
         "histfunc": "count",
         "histnorm": "",
         "marker": {
          "color": "rgba(255, 153, 51, 1.0)",
          "line": {
           "color": "#4D5663",
           "width": 1.3
          }
         },
         "name": "A",
         "opacity": 0.8,
         "orientation": "v",
         "type": "histogram",
         "x": [
          -0.6237268104686525,
          1.274572752369918,
          1.2855856084667923,
          0.4780921393755692,
          0.34494324406716476,
          -0.6405949323178967,
          -0.23348553233512562,
          0.17813370617579363,
          -0.7673268343683513,
          0.6579796347779423,
          0.09150439440134266,
          -0.3202194087654672,
          -0.7198822372283044,
          -0.03040259488005372,
          1.130130891132435,
          -1.3944379204410033,
          1.8055147559922298,
          -1.9857070195145679,
          1.4470767837214011,
          1.2874355830663946,
          0.696433594308047,
          2.404825719871125,
          -0.9623858314433245,
          -0.1859132142492279,
          0.03170213208913351,
          0.5002634060080197,
          1.4787083705078896,
          0.7458816130279491,
          0.3594135831219899,
          -1.2275883098721305,
          -0.03238291414533404,
          -0.15198417429647754,
          -0.8830153029958461,
          -0.8132224851313794,
          -2.0501610155245906,
          -0.9041899883149012,
          2.178167424721099,
          0.286622228389137,
          1.075573863823262,
          -0.4356904238305605,
          -1.0651750876267727,
          -0.0028056950631574658,
          -0.49382633776458307,
          -1.3147464271320535,
          -0.08989013325516612,
          -0.7042291895417842,
          -0.36343888412820746,
          0.333312240811528,
          1.0876510344408286,
          -0.3062546243441566,
          0.5660085135696187,
          0.09294517023552899,
          0.1894174818824277,
          0.04080039057265011,
          1.9675892925427019,
          -1.301768091588984,
          1.3152747666891773,
          0.005160869784432948,
          1.462520086249543,
          0.23850033626882083,
          0.8276718102531865,
          0.7004459393770409,
          0.19721486412706607,
          1.352394056400812,
          -1.5484023795619661,
          -0.22703321615797586,
          0.38543157811012896,
          0.8648956881612846,
          0.11555970092743817,
          0.24377042358437961,
          -0.8907934979824191,
          -0.41298058093838874,
          0.08772890141429637,
          -0.07976871061424609,
          0.2956966147265074,
          0.004051788741819877,
          -0.21232058552429844,
          -1.644617144448248,
          0.9817767416421945,
          -0.4355636648375388,
          -0.5358800350351557,
          0.2686898414179787,
          -1.7857386894657712,
          0.16534194227863233,
          1.6237878884244912,
          0.940607078882582,
          0.21777436019505278,
          1.2675257874568937,
          -1.1924645795499464,
          -1.0024359732972687,
          -0.9049278274834502,
          2.1992791381619425,
          -0.10497720054729366,
          -0.4905151303510943,
          -0.6425792587255553,
          0.5835158348888574,
          0.1531735913687253,
          1.2239349589688424,
          -0.03703710548486216,
          -0.2791575018844413
         ]
        },
        {
         "histfunc": "count",
         "histnorm": "",
         "marker": {
          "color": "rgba(55, 128, 191, 1.0)",
          "line": {
           "color": "#4D5663",
           "width": 1.3
          }
         },
         "name": "B",
         "opacity": 0.8,
         "orientation": "v",
         "type": "histogram",
         "x": [
          -0.5992388419623923,
          -1.2575663073827104,
          -0.8681566591353996,
          0.7064138445219653,
          1.220897910921186,
          -0.23843854751836333,
          0.08125458191418496,
          0.6318372109145688,
          0.942548979492198,
          2.320690008639898,
          0.9429607967997387,
          -0.29015875072636427,
          -1.6581592775086522,
          -0.5477094864769935,
          0.767637407871621,
          0.8881186319337434,
          -0.0643904961411898,
          0.9534947040026447,
          -0.16606079238591212,
          0.8603565522937122,
          -0.1580619170545945,
          -0.9653181739405476,
          -0.46734405290943015,
          -1.2911496712539385,
          -0.3972209893445163,
          0.3488214938166166,
          -0.21314454951927206,
          -0.4643598207233956,
          -0.6800305118874078,
          1.2935401582290862,
          1.4361191337703871,
          -1.171567562342489,
          -0.3670068378880621,
          -1.1054577060016664,
          -0.32064801789654274,
          -0.9363926236184297,
          -0.49477094246354825,
          0.812902698213528,
          0.8537832422872523,
          0.094645992888546,
          -0.6994604522634928,
          1.0646035005563184,
          0.8307767553268849,
          1.0896853366905155,
          0.2714464628285896,
          -0.5975426618874339,
          -0.16416177611486993,
          0.2877218711794547,
          -0.3781742013756831,
          0.48423209173426957,
          -1.180883461347576,
          -1.8120680649992547,
          0.8284734124830162,
          -1.1731129598625227,
          1.9801720805279264,
          1.2077623807204638,
          -0.13553492849395918,
          0.7018366579992051,
          0.23908836812693707,
          1.1711500013199105,
          0.3263080964506011,
          1.9688996231734426,
          0.18021053530810413,
          0.5375796221576216,
          1.5367208473457563,
          0.3513982997315935,
          0.9127172041851135,
          -2.230666072053595,
          -0.019961815619791035,
          -0.30999675103673313,
          -0.8464020313819279,
          -0.2533707794233801,
          0.4896143033570152,
          1.46020941716156,
          1.2582452885624982,
          -0.029048024548711818,
          -1.946621422012302,
          0.9796055069317009,
          1.7544797453482672,
          -0.9410046003128689,
          0.05471156767059863,
          1.8503324453552497,
          1.5160510298296148,
          -0.18408876323412576,
          -0.997566364283777,
          -1.2160719819895915,
          -0.015213805397837697,
          -1.3869063045253367,
          -0.3214812075644415,
          -0.27298008360765874,
          -0.424922336179347,
          -0.43640971391586103,
          0.24837444626450242,
          -0.5897616186959732,
          -0.966304223117495,
          0.3293893994072471,
          -1.126034549538087,
          0.7201557873948927,
          0.19646839542118436,
          -0.8793115217131454
         ]
        },
        {
         "histfunc": "count",
         "histnorm": "",
         "marker": {
          "color": "rgba(50, 171, 96, 1.0)",
          "line": {
           "color": "#4D5663",
           "width": 1.3
          }
         },
         "name": "C",
         "opacity": 0.8,
         "orientation": "v",
         "type": "histogram",
         "x": [
          0.8583663857467344,
          -1.5145392864678382,
          0.34690164059855494,
          -1.0771202641605213,
          0.7457894747870629,
          1.3465439153846355,
          -0.19439011320307956,
          -0.1278688585773838,
          0.8714217088237272,
          -1.2069465803723132,
          0.678669003387527,
          0.6908710435304085,
          -1.3518678827881616,
          -2.109643525172609,
          -0.14739200141021705,
          0.2736555043972159,
          1.5072558687922262,
          0.3716347249206074,
          0.9505652814339628,
          -1.9060707429949018,
          -0.7216299456200906,
          0.5033731431095232,
          1.567603658183932,
          -1.744367667834536,
          0.6046135698475051,
          -1.2591214070600647,
          0.24835386011648616,
          -1.990235566012449,
          0.2909701259669725,
          0.3835805487265389,
          -0.3289224481078893,
          2.783013415400195,
          0.004641289184778225,
          -0.5331706362446346,
          -0.85464536453022,
          -1.939048766759401,
          1.5732448829480874,
          0.6039064537817525,
          1.7959504221230522,
          1.0956375803715455,
          -0.30958601346015857,
          0.6493122178381358,
          -0.13110025881025425,
          0.08373256007282438,
          -0.9453019502596386,
          1.3098828552097408,
          1.0238437785917132,
          -0.2796519031510746,
          -0.18589891701581704,
          -1.9507939085538313,
          -1.9240307432375254,
          0.25150645933656285,
          -0.4025651321810857,
          -2.0008241036823686,
          -0.6715003970746136,
          -0.4865133485971033,
          -1.0906624905781868,
          -0.3155942117620863,
          1.0912079824359904,
          0.7558457550507326,
          0.9947145179461878,
          -0.884063002623822,
          -0.9426633092127263,
          -1.5032010405626413,
          0.016891280439735923,
          -1.4880291703598918,
          1.1960536111450781,
          0.645816263530466,
          0.7265415536969748,
          -0.07193586504117896,
          -0.15127496930009326,
          0.7246289940737326,
          1.1197657056355594,
          -2.0824336274218602,
          -0.9504679410546145,
          0.41403009909111205,
          0.29797641820947335,
          1.1205868149104123,
          -0.7225223044674257,
          -1.7344026712503873,
          0.7463173594083022,
          -0.25507555623623346,
          -0.3559478068672032,
          -0.42604250219736656,
          1.4951429885340772,
          -0.2616445199840373,
          0.8296699030143622,
          -2.343331318484972,
          0.9516666452755717,
          -0.05688586925889025,
          0.051787880004286954,
          2.352043014383918,
          -1.5993797304717008,
          -1.0915611825741727,
          -0.5340771017543282,
          0.7301909733814406,
          -0.9680356653278129,
          -0.6277223443047016,
          -0.8408546145530816,
          -1.5771668688401028
         ]
        },
        {
         "histfunc": "count",
         "histnorm": "",
         "marker": {
          "color": "rgba(128, 0, 128, 1.0)",
          "line": {
           "color": "#4D5663",
           "width": 1.3
          }
         },
         "name": "D",
         "opacity": 0.8,
         "orientation": "v",
         "type": "histogram",
         "x": [
          0.07924185651283985,
          0.6818652924290595,
          -1.5873646183219725,
          0.12143990441081044,
          0.05207846008017546,
          -1.6172186411018126,
          0.011936196923565652,
          0.3529043777707589,
          -0.2505368958304461,
          0.5242368019228532,
          0.8248947952081447,
          -0.44144132648920137,
          -1.1808687641887123,
          -0.5373388775111392,
          -0.3237467751304937,
          -0.3776318955153955,
          -1.0239629768554412,
          1.245531514165095,
          1.1073940699327756,
          0.4251891543621005,
          0.513692890737192,
          -0.8251306325144719,
          -0.5401465320493954,
          -0.16508677184432394,
          0.10365248867441129,
          -0.49532774975850336,
          0.33529958182784414,
          0.43571929713716445,
          0.39720144728297835,
          1.310944841202766,
          -2.3169983885896843,
          -0.18908103238767154,
          0.5292222231066129,
          0.29016145332777066,
          0.8427822926991279,
          -0.23657082738896495,
          -0.9235212521760812,
          -1.7890541565202018,
          0.8155050859900476,
          -0.10032716975412605,
          -1.365892603250562,
          0.13199703355022221,
          0.7329981815183036,
          -0.028480770358342258,
          0.5961455415925334,
          0.12109006891748281,
          -0.27040586484201984,
          -0.05622323384537568,
          0.2547450277359559,
          0.7390152320916648,
          1.4217961618406467,
          0.2806795766706054,
          1.036600861298079,
          -0.25972435751392714,
          -1.354284864112056,
          0.22207571354595435,
          1.86260698428309,
          -0.023431220580845128,
          0.12190958858536981,
          -0.3441378034341104,
          -0.3071343352575743,
          0.731265097288132,
          -0.9491959956966635,
          -1.1545115660287404,
          -0.452396235391058,
          -0.754086005700038,
          -0.43677995059947394,
          -1.2842290256385585,
          -0.5598699785720364,
          -1.9924405355160102,
          0.021257367426427105,
          0.668053699107769,
          -1.6077823585790698,
          -0.9608748165757212,
          0.5312422174535207,
          1.3370322151179366,
          0.8246792139371296,
          -0.43104272603839816,
          0.20878375668740443,
          -0.20858077619848964,
          -0.06922238817565377,
          -0.31461710761825573,
          3.1295338984364833,
          0.8281974921069192,
          1.2578508827664443,
          -0.4435176039959194,
          0.5236437557733773,
          -0.19699010977378437,
          0.006036150046611265,
          -0.7437834804755933,
          1.1688954857881058,
          0.46977893589293973,
          0.9529961423643826,
          1.0784673273714247,
          0.0937729889871102,
          -0.0691169318342257,
          -0.6697870179389714,
          -0.06400552700673463,
          -1.8031729430720378,
          0.49745682576903094
         ]
        }
       ],
       "layout": {
        "barmode": "overlay",
        "legend": {
         "bgcolor": "#F5F6F9",
         "font": {
          "color": "#4D5663"
         }
        },
        "paper_bgcolor": "#F5F6F9",
        "plot_bgcolor": "#F5F6F9",
        "template": {
         "data": {
          "bar": [
           {
            "error_x": {
             "color": "#2a3f5f"
            },
            "error_y": {
             "color": "#2a3f5f"
            },
            "marker": {
             "line": {
              "color": "#E5ECF6",
              "width": 0.5
             },
             "pattern": {
              "fillmode": "overlay",
              "size": 10,
              "solidity": 0.2
             }
            },
            "type": "bar"
           }
          ],
          "barpolar": [
           {
            "marker": {
             "line": {
              "color": "#E5ECF6",
              "width": 0.5
             },
             "pattern": {
              "fillmode": "overlay",
              "size": 10,
              "solidity": 0.2
             }
            },
            "type": "barpolar"
           }
          ],
          "carpet": [
           {
            "aaxis": {
             "endlinecolor": "#2a3f5f",
             "gridcolor": "white",
             "linecolor": "white",
             "minorgridcolor": "white",
             "startlinecolor": "#2a3f5f"
            },
            "baxis": {
             "endlinecolor": "#2a3f5f",
             "gridcolor": "white",
             "linecolor": "white",
             "minorgridcolor": "white",
             "startlinecolor": "#2a3f5f"
            },
            "type": "carpet"
           }
          ],
          "choropleth": [
           {
            "colorbar": {
             "outlinewidth": 0,
             "ticks": ""
            },
            "type": "choropleth"
           }
          ],
          "contour": [
           {
            "colorbar": {
             "outlinewidth": 0,
             "ticks": ""
            },
            "colorscale": [
             [
              0,
              "#0d0887"
             ],
             [
              0.1111111111111111,
              "#46039f"
             ],
             [
              0.2222222222222222,
              "#7201a8"
             ],
             [
              0.3333333333333333,
              "#9c179e"
             ],
             [
              0.4444444444444444,
              "#bd3786"
             ],
             [
              0.5555555555555556,
              "#d8576b"
             ],
             [
              0.6666666666666666,
              "#ed7953"
             ],
             [
              0.7777777777777778,
              "#fb9f3a"
             ],
             [
              0.8888888888888888,
              "#fdca26"
             ],
             [
              1,
              "#f0f921"
             ]
            ],
            "type": "contour"
           }
          ],
          "contourcarpet": [
           {
            "colorbar": {
             "outlinewidth": 0,
             "ticks": ""
            },
            "type": "contourcarpet"
           }
          ],
          "heatmap": [
           {
            "colorbar": {
             "outlinewidth": 0,
             "ticks": ""
            },
            "colorscale": [
             [
              0,
              "#0d0887"
             ],
             [
              0.1111111111111111,
              "#46039f"
             ],
             [
              0.2222222222222222,
              "#7201a8"
             ],
             [
              0.3333333333333333,
              "#9c179e"
             ],
             [
              0.4444444444444444,
              "#bd3786"
             ],
             [
              0.5555555555555556,
              "#d8576b"
             ],
             [
              0.6666666666666666,
              "#ed7953"
             ],
             [
              0.7777777777777778,
              "#fb9f3a"
             ],
             [
              0.8888888888888888,
              "#fdca26"
             ],
             [
              1,
              "#f0f921"
             ]
            ],
            "type": "heatmap"
           }
          ],
          "heatmapgl": [
           {
            "colorbar": {
             "outlinewidth": 0,
             "ticks": ""
            },
            "colorscale": [
             [
              0,
              "#0d0887"
             ],
             [
              0.1111111111111111,
              "#46039f"
             ],
             [
              0.2222222222222222,
              "#7201a8"
             ],
             [
              0.3333333333333333,
              "#9c179e"
             ],
             [
              0.4444444444444444,
              "#bd3786"
             ],
             [
              0.5555555555555556,
              "#d8576b"
             ],
             [
              0.6666666666666666,
              "#ed7953"
             ],
             [
              0.7777777777777778,
              "#fb9f3a"
             ],
             [
              0.8888888888888888,
              "#fdca26"
             ],
             [
              1,
              "#f0f921"
             ]
            ],
            "type": "heatmapgl"
           }
          ],
          "histogram": [
           {
            "marker": {
             "pattern": {
              "fillmode": "overlay",
              "size": 10,
              "solidity": 0.2
             }
            },
            "type": "histogram"
           }
          ],
          "histogram2d": [
           {
            "colorbar": {
             "outlinewidth": 0,
             "ticks": ""
            },
            "colorscale": [
             [
              0,
              "#0d0887"
             ],
             [
              0.1111111111111111,
              "#46039f"
             ],
             [
              0.2222222222222222,
              "#7201a8"
             ],
             [
              0.3333333333333333,
              "#9c179e"
             ],
             [
              0.4444444444444444,
              "#bd3786"
             ],
             [
              0.5555555555555556,
              "#d8576b"
             ],
             [
              0.6666666666666666,
              "#ed7953"
             ],
             [
              0.7777777777777778,
              "#fb9f3a"
             ],
             [
              0.8888888888888888,
              "#fdca26"
             ],
             [
              1,
              "#f0f921"
             ]
            ],
            "type": "histogram2d"
           }
          ],
          "histogram2dcontour": [
           {
            "colorbar": {
             "outlinewidth": 0,
             "ticks": ""
            },
            "colorscale": [
             [
              0,
              "#0d0887"
             ],
             [
              0.1111111111111111,
              "#46039f"
             ],
             [
              0.2222222222222222,
              "#7201a8"
             ],
             [
              0.3333333333333333,
              "#9c179e"
             ],
             [
              0.4444444444444444,
              "#bd3786"
             ],
             [
              0.5555555555555556,
              "#d8576b"
             ],
             [
              0.6666666666666666,
              "#ed7953"
             ],
             [
              0.7777777777777778,
              "#fb9f3a"
             ],
             [
              0.8888888888888888,
              "#fdca26"
             ],
             [
              1,
              "#f0f921"
             ]
            ],
            "type": "histogram2dcontour"
           }
          ],
          "mesh3d": [
           {
            "colorbar": {
             "outlinewidth": 0,
             "ticks": ""
            },
            "type": "mesh3d"
           }
          ],
          "parcoords": [
           {
            "line": {
             "colorbar": {
              "outlinewidth": 0,
              "ticks": ""
             }
            },
            "type": "parcoords"
           }
          ],
          "pie": [
           {
            "automargin": true,
            "type": "pie"
           }
          ],
          "scatter": [
           {
            "fillpattern": {
             "fillmode": "overlay",
             "size": 10,
             "solidity": 0.2
            },
            "type": "scatter"
           }
          ],
          "scatter3d": [
           {
            "line": {
             "colorbar": {
              "outlinewidth": 0,
              "ticks": ""
             }
            },
            "marker": {
             "colorbar": {
              "outlinewidth": 0,
              "ticks": ""
             }
            },
            "type": "scatter3d"
           }
          ],
          "scattercarpet": [
           {
            "marker": {
             "colorbar": {
              "outlinewidth": 0,
              "ticks": ""
             }
            },
            "type": "scattercarpet"
           }
          ],
          "scattergeo": [
           {
            "marker": {
             "colorbar": {
              "outlinewidth": 0,
              "ticks": ""
             }
            },
            "type": "scattergeo"
           }
          ],
          "scattergl": [
           {
            "marker": {
             "colorbar": {
              "outlinewidth": 0,
              "ticks": ""
             }
            },
            "type": "scattergl"
           }
          ],
          "scattermapbox": [
           {
            "marker": {
             "colorbar": {
              "outlinewidth": 0,
              "ticks": ""
             }
            },
            "type": "scattermapbox"
           }
          ],
          "scatterpolar": [
           {
            "marker": {
             "colorbar": {
              "outlinewidth": 0,
              "ticks": ""
             }
            },
            "type": "scatterpolar"
           }
          ],
          "scatterpolargl": [
           {
            "marker": {
             "colorbar": {
              "outlinewidth": 0,
              "ticks": ""
             }
            },
            "type": "scatterpolargl"
           }
          ],
          "scatterternary": [
           {
            "marker": {
             "colorbar": {
              "outlinewidth": 0,
              "ticks": ""
             }
            },
            "type": "scatterternary"
           }
          ],
          "surface": [
           {
            "colorbar": {
             "outlinewidth": 0,
             "ticks": ""
            },
            "colorscale": [
             [
              0,
              "#0d0887"
             ],
             [
              0.1111111111111111,
              "#46039f"
             ],
             [
              0.2222222222222222,
              "#7201a8"
             ],
             [
              0.3333333333333333,
              "#9c179e"
             ],
             [
              0.4444444444444444,
              "#bd3786"
             ],
             [
              0.5555555555555556,
              "#d8576b"
             ],
             [
              0.6666666666666666,
              "#ed7953"
             ],
             [
              0.7777777777777778,
              "#fb9f3a"
             ],
             [
              0.8888888888888888,
              "#fdca26"
             ],
             [
              1,
              "#f0f921"
             ]
            ],
            "type": "surface"
           }
          ],
          "table": [
           {
            "cells": {
             "fill": {
              "color": "#EBF0F8"
             },
             "line": {
              "color": "white"
             }
            },
            "header": {
             "fill": {
              "color": "#C8D4E3"
             },
             "line": {
              "color": "white"
             }
            },
            "type": "table"
           }
          ]
         },
         "layout": {
          "annotationdefaults": {
           "arrowcolor": "#2a3f5f",
           "arrowhead": 0,
           "arrowwidth": 1
          },
          "autotypenumbers": "strict",
          "coloraxis": {
           "colorbar": {
            "outlinewidth": 0,
            "ticks": ""
           }
          },
          "colorscale": {
           "diverging": [
            [
             0,
             "#8e0152"
            ],
            [
             0.1,
             "#c51b7d"
            ],
            [
             0.2,
             "#de77ae"
            ],
            [
             0.3,
             "#f1b6da"
            ],
            [
             0.4,
             "#fde0ef"
            ],
            [
             0.5,
             "#f7f7f7"
            ],
            [
             0.6,
             "#e6f5d0"
            ],
            [
             0.7,
             "#b8e186"
            ],
            [
             0.8,
             "#7fbc41"
            ],
            [
             0.9,
             "#4d9221"
            ],
            [
             1,
             "#276419"
            ]
           ],
           "sequential": [
            [
             0,
             "#0d0887"
            ],
            [
             0.1111111111111111,
             "#46039f"
            ],
            [
             0.2222222222222222,
             "#7201a8"
            ],
            [
             0.3333333333333333,
             "#9c179e"
            ],
            [
             0.4444444444444444,
             "#bd3786"
            ],
            [
             0.5555555555555556,
             "#d8576b"
            ],
            [
             0.6666666666666666,
             "#ed7953"
            ],
            [
             0.7777777777777778,
             "#fb9f3a"
            ],
            [
             0.8888888888888888,
             "#fdca26"
            ],
            [
             1,
             "#f0f921"
            ]
           ],
           "sequentialminus": [
            [
             0,
             "#0d0887"
            ],
            [
             0.1111111111111111,
             "#46039f"
            ],
            [
             0.2222222222222222,
             "#7201a8"
            ],
            [
             0.3333333333333333,
             "#9c179e"
            ],
            [
             0.4444444444444444,
             "#bd3786"
            ],
            [
             0.5555555555555556,
             "#d8576b"
            ],
            [
             0.6666666666666666,
             "#ed7953"
            ],
            [
             0.7777777777777778,
             "#fb9f3a"
            ],
            [
             0.8888888888888888,
             "#fdca26"
            ],
            [
             1,
             "#f0f921"
            ]
           ]
          },
          "colorway": [
           "#636efa",
           "#EF553B",
           "#00cc96",
           "#ab63fa",
           "#FFA15A",
           "#19d3f3",
           "#FF6692",
           "#B6E880",
           "#FF97FF",
           "#FECB52"
          ],
          "font": {
           "color": "#2a3f5f"
          },
          "geo": {
           "bgcolor": "white",
           "lakecolor": "white",
           "landcolor": "#E5ECF6",
           "showlakes": true,
           "showland": true,
           "subunitcolor": "white"
          },
          "hoverlabel": {
           "align": "left"
          },
          "hovermode": "closest",
          "mapbox": {
           "style": "light"
          },
          "paper_bgcolor": "white",
          "plot_bgcolor": "#E5ECF6",
          "polar": {
           "angularaxis": {
            "gridcolor": "white",
            "linecolor": "white",
            "ticks": ""
           },
           "bgcolor": "#E5ECF6",
           "radialaxis": {
            "gridcolor": "white",
            "linecolor": "white",
            "ticks": ""
           }
          },
          "scene": {
           "xaxis": {
            "backgroundcolor": "#E5ECF6",
            "gridcolor": "white",
            "gridwidth": 2,
            "linecolor": "white",
            "showbackground": true,
            "ticks": "",
            "zerolinecolor": "white"
           },
           "yaxis": {
            "backgroundcolor": "#E5ECF6",
            "gridcolor": "white",
            "gridwidth": 2,
            "linecolor": "white",
            "showbackground": true,
            "ticks": "",
            "zerolinecolor": "white"
           },
           "zaxis": {
            "backgroundcolor": "#E5ECF6",
            "gridcolor": "white",
            "gridwidth": 2,
            "linecolor": "white",
            "showbackground": true,
            "ticks": "",
            "zerolinecolor": "white"
           }
          },
          "shapedefaults": {
           "line": {
            "color": "#2a3f5f"
           }
          },
          "ternary": {
           "aaxis": {
            "gridcolor": "white",
            "linecolor": "white",
            "ticks": ""
           },
           "baxis": {
            "gridcolor": "white",
            "linecolor": "white",
            "ticks": ""
           },
           "bgcolor": "#E5ECF6",
           "caxis": {
            "gridcolor": "white",
            "linecolor": "white",
            "ticks": ""
           }
          },
          "title": {
           "x": 0.05
          },
          "xaxis": {
           "automargin": true,
           "gridcolor": "white",
           "linecolor": "white",
           "ticks": "",
           "title": {
            "standoff": 15
           },
           "zerolinecolor": "white",
           "zerolinewidth": 2
          },
          "yaxis": {
           "automargin": true,
           "gridcolor": "white",
           "linecolor": "white",
           "ticks": "",
           "title": {
            "standoff": 15
           },
           "zerolinecolor": "white",
           "zerolinewidth": 2
          }
         }
        },
        "title": {
         "font": {
          "color": "#4D5663"
         }
        },
        "xaxis": {
         "gridcolor": "#E1E5ED",
         "showgrid": true,
         "tickfont": {
          "color": "#4D5663"
         },
         "title": {
          "font": {
           "color": "#4D5663"
          },
          "text": ""
         },
         "zerolinecolor": "#E1E5ED"
        },
        "yaxis": {
         "gridcolor": "#E1E5ED",
         "showgrid": true,
         "tickfont": {
          "color": "#4D5663"
         },
         "title": {
          "font": {
           "color": "#4D5663"
          },
          "text": ""
         },
         "zerolinecolor": "#E1E5ED"
        }
       }
      },
      "text/html": [
       "<div>                            <div id=\"86a7f07f-0796-426e-b8ab-25187d64eda5\" class=\"plotly-graph-div\" style=\"height:525px; width:100%;\"></div>            <script type=\"text/javascript\">                require([\"plotly\"], function(Plotly) {                    window.PLOTLYENV=window.PLOTLYENV || {};\n",
       "                    window.PLOTLYENV.BASE_URL='https://plot.ly';                                    if (document.getElementById(\"86a7f07f-0796-426e-b8ab-25187d64eda5\")) {                    Plotly.newPlot(                        \"86a7f07f-0796-426e-b8ab-25187d64eda5\",                        [{\"histfunc\":\"count\",\"histnorm\":\"\",\"marker\":{\"color\":\"rgba(255, 153, 51, 1.0)\",\"line\":{\"color\":\"#4D5663\",\"width\":1.3}},\"name\":\"A\",\"opacity\":0.8,\"orientation\":\"v\",\"x\":[-0.6237268104686525,1.274572752369918,1.2855856084667923,0.4780921393755692,0.34494324406716476,-0.6405949323178967,-0.23348553233512562,0.17813370617579363,-0.7673268343683513,0.6579796347779423,0.09150439440134266,-0.3202194087654672,-0.7198822372283044,-0.03040259488005372,1.130130891132435,-1.3944379204410033,1.8055147559922298,-1.9857070195145679,1.4470767837214011,1.2874355830663946,0.696433594308047,2.404825719871125,-0.9623858314433245,-0.1859132142492279,0.03170213208913351,0.5002634060080197,1.4787083705078896,0.7458816130279491,0.3594135831219899,-1.2275883098721305,-0.03238291414533404,-0.15198417429647754,-0.8830153029958461,-0.8132224851313794,-2.0501610155245906,-0.9041899883149012,2.178167424721099,0.286622228389137,1.075573863823262,-0.4356904238305605,-1.0651750876267727,-0.0028056950631574658,-0.49382633776458307,-1.3147464271320535,-0.08989013325516612,-0.7042291895417842,-0.36343888412820746,0.333312240811528,1.0876510344408286,-0.3062546243441566,0.5660085135696187,0.09294517023552899,0.1894174818824277,0.04080039057265011,1.9675892925427019,-1.301768091588984,1.3152747666891773,0.005160869784432948,1.462520086249543,0.23850033626882083,0.8276718102531865,0.7004459393770409,0.19721486412706607,1.352394056400812,-1.5484023795619661,-0.22703321615797586,0.38543157811012896,0.8648956881612846,0.11555970092743817,0.24377042358437961,-0.8907934979824191,-0.41298058093838874,0.08772890141429637,-0.07976871061424609,0.2956966147265074,0.004051788741819877,-0.21232058552429844,-1.644617144448248,0.9817767416421945,-0.4355636648375388,-0.5358800350351557,0.2686898414179787,-1.7857386894657712,0.16534194227863233,1.6237878884244912,0.940607078882582,0.21777436019505278,1.2675257874568937,-1.1924645795499464,-1.0024359732972687,-0.9049278274834502,2.1992791381619425,-0.10497720054729366,-0.4905151303510943,-0.6425792587255553,0.5835158348888574,0.1531735913687253,1.2239349589688424,-0.03703710548486216,-0.2791575018844413],\"type\":\"histogram\"},{\"histfunc\":\"count\",\"histnorm\":\"\",\"marker\":{\"color\":\"rgba(55, 128, 191, 1.0)\",\"line\":{\"color\":\"#4D5663\",\"width\":1.3}},\"name\":\"B\",\"opacity\":0.8,\"orientation\":\"v\",\"x\":[-0.5992388419623923,-1.2575663073827104,-0.8681566591353996,0.7064138445219653,1.220897910921186,-0.23843854751836333,0.08125458191418496,0.6318372109145688,0.942548979492198,2.320690008639898,0.9429607967997387,-0.29015875072636427,-1.6581592775086522,-0.5477094864769935,0.767637407871621,0.8881186319337434,-0.0643904961411898,0.9534947040026447,-0.16606079238591212,0.8603565522937122,-0.1580619170545945,-0.9653181739405476,-0.46734405290943015,-1.2911496712539385,-0.3972209893445163,0.3488214938166166,-0.21314454951927206,-0.4643598207233956,-0.6800305118874078,1.2935401582290862,1.4361191337703871,-1.171567562342489,-0.3670068378880621,-1.1054577060016664,-0.32064801789654274,-0.9363926236184297,-0.49477094246354825,0.812902698213528,0.8537832422872523,0.094645992888546,-0.6994604522634928,1.0646035005563184,0.8307767553268849,1.0896853366905155,0.2714464628285896,-0.5975426618874339,-0.16416177611486993,0.2877218711794547,-0.3781742013756831,0.48423209173426957,-1.180883461347576,-1.8120680649992547,0.8284734124830162,-1.1731129598625227,1.9801720805279264,1.2077623807204638,-0.13553492849395918,0.7018366579992051,0.23908836812693707,1.1711500013199105,0.3263080964506011,1.9688996231734426,0.18021053530810413,0.5375796221576216,1.5367208473457563,0.3513982997315935,0.9127172041851135,-2.230666072053595,-0.019961815619791035,-0.30999675103673313,-0.8464020313819279,-0.2533707794233801,0.4896143033570152,1.46020941716156,1.2582452885624982,-0.029048024548711818,-1.946621422012302,0.9796055069317009,1.7544797453482672,-0.9410046003128689,0.05471156767059863,1.8503324453552497,1.5160510298296148,-0.18408876323412576,-0.997566364283777,-1.2160719819895915,-0.015213805397837697,-1.3869063045253367,-0.3214812075644415,-0.27298008360765874,-0.424922336179347,-0.43640971391586103,0.24837444626450242,-0.5897616186959732,-0.966304223117495,0.3293893994072471,-1.126034549538087,0.7201557873948927,0.19646839542118436,-0.8793115217131454],\"type\":\"histogram\"},{\"histfunc\":\"count\",\"histnorm\":\"\",\"marker\":{\"color\":\"rgba(50, 171, 96, 1.0)\",\"line\":{\"color\":\"#4D5663\",\"width\":1.3}},\"name\":\"C\",\"opacity\":0.8,\"orientation\":\"v\",\"x\":[0.8583663857467344,-1.5145392864678382,0.34690164059855494,-1.0771202641605213,0.7457894747870629,1.3465439153846355,-0.19439011320307956,-0.1278688585773838,0.8714217088237272,-1.2069465803723132,0.678669003387527,0.6908710435304085,-1.3518678827881616,-2.109643525172609,-0.14739200141021705,0.2736555043972159,1.5072558687922262,0.3716347249206074,0.9505652814339628,-1.9060707429949018,-0.7216299456200906,0.5033731431095232,1.567603658183932,-1.744367667834536,0.6046135698475051,-1.2591214070600647,0.24835386011648616,-1.990235566012449,0.2909701259669725,0.3835805487265389,-0.3289224481078893,2.783013415400195,0.004641289184778225,-0.5331706362446346,-0.85464536453022,-1.939048766759401,1.5732448829480874,0.6039064537817525,1.7959504221230522,1.0956375803715455,-0.30958601346015857,0.6493122178381358,-0.13110025881025425,0.08373256007282438,-0.9453019502596386,1.3098828552097408,1.0238437785917132,-0.2796519031510746,-0.18589891701581704,-1.9507939085538313,-1.9240307432375254,0.25150645933656285,-0.4025651321810857,-2.0008241036823686,-0.6715003970746136,-0.4865133485971033,-1.0906624905781868,-0.3155942117620863,1.0912079824359904,0.7558457550507326,0.9947145179461878,-0.884063002623822,-0.9426633092127263,-1.5032010405626413,0.016891280439735923,-1.4880291703598918,1.1960536111450781,0.645816263530466,0.7265415536969748,-0.07193586504117896,-0.15127496930009326,0.7246289940737326,1.1197657056355594,-2.0824336274218602,-0.9504679410546145,0.41403009909111205,0.29797641820947335,1.1205868149104123,-0.7225223044674257,-1.7344026712503873,0.7463173594083022,-0.25507555623623346,-0.3559478068672032,-0.42604250219736656,1.4951429885340772,-0.2616445199840373,0.8296699030143622,-2.343331318484972,0.9516666452755717,-0.05688586925889025,0.051787880004286954,2.352043014383918,-1.5993797304717008,-1.0915611825741727,-0.5340771017543282,0.7301909733814406,-0.9680356653278129,-0.6277223443047016,-0.8408546145530816,-1.5771668688401028],\"type\":\"histogram\"},{\"histfunc\":\"count\",\"histnorm\":\"\",\"marker\":{\"color\":\"rgba(128, 0, 128, 1.0)\",\"line\":{\"color\":\"#4D5663\",\"width\":1.3}},\"name\":\"D\",\"opacity\":0.8,\"orientation\":\"v\",\"x\":[0.07924185651283985,0.6818652924290595,-1.5873646183219725,0.12143990441081044,0.05207846008017546,-1.6172186411018126,0.011936196923565652,0.3529043777707589,-0.2505368958304461,0.5242368019228532,0.8248947952081447,-0.44144132648920137,-1.1808687641887123,-0.5373388775111392,-0.3237467751304937,-0.3776318955153955,-1.0239629768554412,1.245531514165095,1.1073940699327756,0.4251891543621005,0.513692890737192,-0.8251306325144719,-0.5401465320493954,-0.16508677184432394,0.10365248867441129,-0.49532774975850336,0.33529958182784414,0.43571929713716445,0.39720144728297835,1.310944841202766,-2.3169983885896843,-0.18908103238767154,0.5292222231066129,0.29016145332777066,0.8427822926991279,-0.23657082738896495,-0.9235212521760812,-1.7890541565202018,0.8155050859900476,-0.10032716975412605,-1.365892603250562,0.13199703355022221,0.7329981815183036,-0.028480770358342258,0.5961455415925334,0.12109006891748281,-0.27040586484201984,-0.05622323384537568,0.2547450277359559,0.7390152320916648,1.4217961618406467,0.2806795766706054,1.036600861298079,-0.25972435751392714,-1.354284864112056,0.22207571354595435,1.86260698428309,-0.023431220580845128,0.12190958858536981,-0.3441378034341104,-0.3071343352575743,0.731265097288132,-0.9491959956966635,-1.1545115660287404,-0.452396235391058,-0.754086005700038,-0.43677995059947394,-1.2842290256385585,-0.5598699785720364,-1.9924405355160102,0.021257367426427105,0.668053699107769,-1.6077823585790698,-0.9608748165757212,0.5312422174535207,1.3370322151179366,0.8246792139371296,-0.43104272603839816,0.20878375668740443,-0.20858077619848964,-0.06922238817565377,-0.31461710761825573,3.1295338984364833,0.8281974921069192,1.2578508827664443,-0.4435176039959194,0.5236437557733773,-0.19699010977378437,0.006036150046611265,-0.7437834804755933,1.1688954857881058,0.46977893589293973,0.9529961423643826,1.0784673273714247,0.0937729889871102,-0.0691169318342257,-0.6697870179389714,-0.06400552700673463,-1.8031729430720378,0.49745682576903094],\"type\":\"histogram\"}],                        {\"barmode\":\"overlay\",\"legend\":{\"bgcolor\":\"#F5F6F9\",\"font\":{\"color\":\"#4D5663\"}},\"paper_bgcolor\":\"#F5F6F9\",\"plot_bgcolor\":\"#F5F6F9\",\"template\":{\"data\":{\"barpolar\":[{\"marker\":{\"line\":{\"color\":\"#E5ECF6\",\"width\":0.5},\"pattern\":{\"fillmode\":\"overlay\",\"size\":10,\"solidity\":0.2}},\"type\":\"barpolar\"}],\"bar\":[{\"error_x\":{\"color\":\"#2a3f5f\"},\"error_y\":{\"color\":\"#2a3f5f\"},\"marker\":{\"line\":{\"color\":\"#E5ECF6\",\"width\":0.5},\"pattern\":{\"fillmode\":\"overlay\",\"size\":10,\"solidity\":0.2}},\"type\":\"bar\"}],\"carpet\":[{\"aaxis\":{\"endlinecolor\":\"#2a3f5f\",\"gridcolor\":\"white\",\"linecolor\":\"white\",\"minorgridcolor\":\"white\",\"startlinecolor\":\"#2a3f5f\"},\"baxis\":{\"endlinecolor\":\"#2a3f5f\",\"gridcolor\":\"white\",\"linecolor\":\"white\",\"minorgridcolor\":\"white\",\"startlinecolor\":\"#2a3f5f\"},\"type\":\"carpet\"}],\"choropleth\":[{\"colorbar\":{\"outlinewidth\":0,\"ticks\":\"\"},\"type\":\"choropleth\"}],\"contourcarpet\":[{\"colorbar\":{\"outlinewidth\":0,\"ticks\":\"\"},\"type\":\"contourcarpet\"}],\"contour\":[{\"colorbar\":{\"outlinewidth\":0,\"ticks\":\"\"},\"colorscale\":[[0.0,\"#0d0887\"],[0.1111111111111111,\"#46039f\"],[0.2222222222222222,\"#7201a8\"],[0.3333333333333333,\"#9c179e\"],[0.4444444444444444,\"#bd3786\"],[0.5555555555555556,\"#d8576b\"],[0.6666666666666666,\"#ed7953\"],[0.7777777777777778,\"#fb9f3a\"],[0.8888888888888888,\"#fdca26\"],[1.0,\"#f0f921\"]],\"type\":\"contour\"}],\"heatmapgl\":[{\"colorbar\":{\"outlinewidth\":0,\"ticks\":\"\"},\"colorscale\":[[0.0,\"#0d0887\"],[0.1111111111111111,\"#46039f\"],[0.2222222222222222,\"#7201a8\"],[0.3333333333333333,\"#9c179e\"],[0.4444444444444444,\"#bd3786\"],[0.5555555555555556,\"#d8576b\"],[0.6666666666666666,\"#ed7953\"],[0.7777777777777778,\"#fb9f3a\"],[0.8888888888888888,\"#fdca26\"],[1.0,\"#f0f921\"]],\"type\":\"heatmapgl\"}],\"heatmap\":[{\"colorbar\":{\"outlinewidth\":0,\"ticks\":\"\"},\"colorscale\":[[0.0,\"#0d0887\"],[0.1111111111111111,\"#46039f\"],[0.2222222222222222,\"#7201a8\"],[0.3333333333333333,\"#9c179e\"],[0.4444444444444444,\"#bd3786\"],[0.5555555555555556,\"#d8576b\"],[0.6666666666666666,\"#ed7953\"],[0.7777777777777778,\"#fb9f3a\"],[0.8888888888888888,\"#fdca26\"],[1.0,\"#f0f921\"]],\"type\":\"heatmap\"}],\"histogram2dcontour\":[{\"colorbar\":{\"outlinewidth\":0,\"ticks\":\"\"},\"colorscale\":[[0.0,\"#0d0887\"],[0.1111111111111111,\"#46039f\"],[0.2222222222222222,\"#7201a8\"],[0.3333333333333333,\"#9c179e\"],[0.4444444444444444,\"#bd3786\"],[0.5555555555555556,\"#d8576b\"],[0.6666666666666666,\"#ed7953\"],[0.7777777777777778,\"#fb9f3a\"],[0.8888888888888888,\"#fdca26\"],[1.0,\"#f0f921\"]],\"type\":\"histogram2dcontour\"}],\"histogram2d\":[{\"colorbar\":{\"outlinewidth\":0,\"ticks\":\"\"},\"colorscale\":[[0.0,\"#0d0887\"],[0.1111111111111111,\"#46039f\"],[0.2222222222222222,\"#7201a8\"],[0.3333333333333333,\"#9c179e\"],[0.4444444444444444,\"#bd3786\"],[0.5555555555555556,\"#d8576b\"],[0.6666666666666666,\"#ed7953\"],[0.7777777777777778,\"#fb9f3a\"],[0.8888888888888888,\"#fdca26\"],[1.0,\"#f0f921\"]],\"type\":\"histogram2d\"}],\"histogram\":[{\"marker\":{\"pattern\":{\"fillmode\":\"overlay\",\"size\":10,\"solidity\":0.2}},\"type\":\"histogram\"}],\"mesh3d\":[{\"colorbar\":{\"outlinewidth\":0,\"ticks\":\"\"},\"type\":\"mesh3d\"}],\"parcoords\":[{\"line\":{\"colorbar\":{\"outlinewidth\":0,\"ticks\":\"\"}},\"type\":\"parcoords\"}],\"pie\":[{\"automargin\":true,\"type\":\"pie\"}],\"scatter3d\":[{\"line\":{\"colorbar\":{\"outlinewidth\":0,\"ticks\":\"\"}},\"marker\":{\"colorbar\":{\"outlinewidth\":0,\"ticks\":\"\"}},\"type\":\"scatter3d\"}],\"scattercarpet\":[{\"marker\":{\"colorbar\":{\"outlinewidth\":0,\"ticks\":\"\"}},\"type\":\"scattercarpet\"}],\"scattergeo\":[{\"marker\":{\"colorbar\":{\"outlinewidth\":0,\"ticks\":\"\"}},\"type\":\"scattergeo\"}],\"scattergl\":[{\"marker\":{\"colorbar\":{\"outlinewidth\":0,\"ticks\":\"\"}},\"type\":\"scattergl\"}],\"scattermapbox\":[{\"marker\":{\"colorbar\":{\"outlinewidth\":0,\"ticks\":\"\"}},\"type\":\"scattermapbox\"}],\"scatterpolargl\":[{\"marker\":{\"colorbar\":{\"outlinewidth\":0,\"ticks\":\"\"}},\"type\":\"scatterpolargl\"}],\"scatterpolar\":[{\"marker\":{\"colorbar\":{\"outlinewidth\":0,\"ticks\":\"\"}},\"type\":\"scatterpolar\"}],\"scatter\":[{\"fillpattern\":{\"fillmode\":\"overlay\",\"size\":10,\"solidity\":0.2},\"type\":\"scatter\"}],\"scatterternary\":[{\"marker\":{\"colorbar\":{\"outlinewidth\":0,\"ticks\":\"\"}},\"type\":\"scatterternary\"}],\"surface\":[{\"colorbar\":{\"outlinewidth\":0,\"ticks\":\"\"},\"colorscale\":[[0.0,\"#0d0887\"],[0.1111111111111111,\"#46039f\"],[0.2222222222222222,\"#7201a8\"],[0.3333333333333333,\"#9c179e\"],[0.4444444444444444,\"#bd3786\"],[0.5555555555555556,\"#d8576b\"],[0.6666666666666666,\"#ed7953\"],[0.7777777777777778,\"#fb9f3a\"],[0.8888888888888888,\"#fdca26\"],[1.0,\"#f0f921\"]],\"type\":\"surface\"}],\"table\":[{\"cells\":{\"fill\":{\"color\":\"#EBF0F8\"},\"line\":{\"color\":\"white\"}},\"header\":{\"fill\":{\"color\":\"#C8D4E3\"},\"line\":{\"color\":\"white\"}},\"type\":\"table\"}]},\"layout\":{\"annotationdefaults\":{\"arrowcolor\":\"#2a3f5f\",\"arrowhead\":0,\"arrowwidth\":1},\"autotypenumbers\":\"strict\",\"coloraxis\":{\"colorbar\":{\"outlinewidth\":0,\"ticks\":\"\"}},\"colorscale\":{\"diverging\":[[0,\"#8e0152\"],[0.1,\"#c51b7d\"],[0.2,\"#de77ae\"],[0.3,\"#f1b6da\"],[0.4,\"#fde0ef\"],[0.5,\"#f7f7f7\"],[0.6,\"#e6f5d0\"],[0.7,\"#b8e186\"],[0.8,\"#7fbc41\"],[0.9,\"#4d9221\"],[1,\"#276419\"]],\"sequential\":[[0.0,\"#0d0887\"],[0.1111111111111111,\"#46039f\"],[0.2222222222222222,\"#7201a8\"],[0.3333333333333333,\"#9c179e\"],[0.4444444444444444,\"#bd3786\"],[0.5555555555555556,\"#d8576b\"],[0.6666666666666666,\"#ed7953\"],[0.7777777777777778,\"#fb9f3a\"],[0.8888888888888888,\"#fdca26\"],[1.0,\"#f0f921\"]],\"sequentialminus\":[[0.0,\"#0d0887\"],[0.1111111111111111,\"#46039f\"],[0.2222222222222222,\"#7201a8\"],[0.3333333333333333,\"#9c179e\"],[0.4444444444444444,\"#bd3786\"],[0.5555555555555556,\"#d8576b\"],[0.6666666666666666,\"#ed7953\"],[0.7777777777777778,\"#fb9f3a\"],[0.8888888888888888,\"#fdca26\"],[1.0,\"#f0f921\"]]},\"colorway\":[\"#636efa\",\"#EF553B\",\"#00cc96\",\"#ab63fa\",\"#FFA15A\",\"#19d3f3\",\"#FF6692\",\"#B6E880\",\"#FF97FF\",\"#FECB52\"],\"font\":{\"color\":\"#2a3f5f\"},\"geo\":{\"bgcolor\":\"white\",\"lakecolor\":\"white\",\"landcolor\":\"#E5ECF6\",\"showlakes\":true,\"showland\":true,\"subunitcolor\":\"white\"},\"hoverlabel\":{\"align\":\"left\"},\"hovermode\":\"closest\",\"mapbox\":{\"style\":\"light\"},\"paper_bgcolor\":\"white\",\"plot_bgcolor\":\"#E5ECF6\",\"polar\":{\"angularaxis\":{\"gridcolor\":\"white\",\"linecolor\":\"white\",\"ticks\":\"\"},\"bgcolor\":\"#E5ECF6\",\"radialaxis\":{\"gridcolor\":\"white\",\"linecolor\":\"white\",\"ticks\":\"\"}},\"scene\":{\"xaxis\":{\"backgroundcolor\":\"#E5ECF6\",\"gridcolor\":\"white\",\"gridwidth\":2,\"linecolor\":\"white\",\"showbackground\":true,\"ticks\":\"\",\"zerolinecolor\":\"white\"},\"yaxis\":{\"backgroundcolor\":\"#E5ECF6\",\"gridcolor\":\"white\",\"gridwidth\":2,\"linecolor\":\"white\",\"showbackground\":true,\"ticks\":\"\",\"zerolinecolor\":\"white\"},\"zaxis\":{\"backgroundcolor\":\"#E5ECF6\",\"gridcolor\":\"white\",\"gridwidth\":2,\"linecolor\":\"white\",\"showbackground\":true,\"ticks\":\"\",\"zerolinecolor\":\"white\"}},\"shapedefaults\":{\"line\":{\"color\":\"#2a3f5f\"}},\"ternary\":{\"aaxis\":{\"gridcolor\":\"white\",\"linecolor\":\"white\",\"ticks\":\"\"},\"baxis\":{\"gridcolor\":\"white\",\"linecolor\":\"white\",\"ticks\":\"\"},\"bgcolor\":\"#E5ECF6\",\"caxis\":{\"gridcolor\":\"white\",\"linecolor\":\"white\",\"ticks\":\"\"}},\"title\":{\"x\":0.05},\"xaxis\":{\"automargin\":true,\"gridcolor\":\"white\",\"linecolor\":\"white\",\"ticks\":\"\",\"title\":{\"standoff\":15},\"zerolinecolor\":\"white\",\"zerolinewidth\":2},\"yaxis\":{\"automargin\":true,\"gridcolor\":\"white\",\"linecolor\":\"white\",\"ticks\":\"\",\"title\":{\"standoff\":15},\"zerolinecolor\":\"white\",\"zerolinewidth\":2}}},\"title\":{\"font\":{\"color\":\"#4D5663\"}},\"xaxis\":{\"gridcolor\":\"#E1E5ED\",\"showgrid\":true,\"tickfont\":{\"color\":\"#4D5663\"},\"title\":{\"font\":{\"color\":\"#4D5663\"},\"text\":\"\"},\"zerolinecolor\":\"#E1E5ED\"},\"yaxis\":{\"gridcolor\":\"#E1E5ED\",\"showgrid\":true,\"tickfont\":{\"color\":\"#4D5663\"},\"title\":{\"font\":{\"color\":\"#4D5663\"},\"text\":\"\"},\"zerolinecolor\":\"#E1E5ED\"}},                        {\"showLink\": true, \"linkText\": \"Export to plot.ly\", \"plotlyServerURL\": \"https://plot.ly\", \"responsive\": true}                    ).then(function(){\n",
       "                            \n",
       "var gd = document.getElementById('86a7f07f-0796-426e-b8ab-25187d64eda5');\n",
       "var x = new MutationObserver(function (mutations, observer) {{\n",
       "        var display = window.getComputedStyle(gd).display;\n",
       "        if (!display || display === 'none') {{\n",
       "            console.log([gd, 'removed!']);\n",
       "            Plotly.purge(gd);\n",
       "            observer.disconnect();\n",
       "        }}\n",
       "}});\n",
       "\n",
       "// Listen for the removal of the full notebook cells\n",
       "var notebookContainer = gd.closest('#notebook-container');\n",
       "if (notebookContainer) {{\n",
       "    x.observe(notebookContainer, {childList: true});\n",
       "}}\n",
       "\n",
       "// Listen for the clearing of the current output cell\n",
       "var outputEl = gd.closest('.output');\n",
       "if (outputEl) {{\n",
       "    x.observe(outputEl, {childList: true});\n",
       "}}\n",
       "\n",
       "                        })                };                });            </script>        </div>"
      ]
     },
     "metadata": {},
     "output_type": "display_data"
    }
   ],
   "source": [
    "df.iplot(kind='hist')"
   ]
  },
  {
   "cell_type": "code",
   "execution_count": 60,
   "metadata": {},
   "outputs": [
    {
     "data": {
      "application/vnd.plotly.v1+json": {
       "config": {
        "linkText": "Export to plot.ly",
        "plotlyServerURL": "https://plot.ly",
        "showLink": true
       },
       "data": [
        {
         "histfunc": "count",
         "histnorm": "",
         "marker": {
          "color": "rgba(255, 153, 51, 1.0)",
          "line": {
           "color": "#4D5663",
           "width": 1.3
          }
         },
         "name": "A",
         "nbinsx": 10,
         "opacity": 0.8,
         "orientation": "v",
         "type": "histogram",
         "x": [
          -0.6237268104686525,
          1.274572752369918,
          1.2855856084667923,
          0.4780921393755692,
          0.34494324406716476,
          -0.6405949323178967,
          -0.23348553233512562,
          0.17813370617579363,
          -0.7673268343683513,
          0.6579796347779423,
          0.09150439440134266,
          -0.3202194087654672,
          -0.7198822372283044,
          -0.03040259488005372,
          1.130130891132435,
          -1.3944379204410033,
          1.8055147559922298,
          -1.9857070195145679,
          1.4470767837214011,
          1.2874355830663946,
          0.696433594308047,
          2.404825719871125,
          -0.9623858314433245,
          -0.1859132142492279,
          0.03170213208913351,
          0.5002634060080197,
          1.4787083705078896,
          0.7458816130279491,
          0.3594135831219899,
          -1.2275883098721305,
          -0.03238291414533404,
          -0.15198417429647754,
          -0.8830153029958461,
          -0.8132224851313794,
          -2.0501610155245906,
          -0.9041899883149012,
          2.178167424721099,
          0.286622228389137,
          1.075573863823262,
          -0.4356904238305605,
          -1.0651750876267727,
          -0.0028056950631574658,
          -0.49382633776458307,
          -1.3147464271320535,
          -0.08989013325516612,
          -0.7042291895417842,
          -0.36343888412820746,
          0.333312240811528,
          1.0876510344408286,
          -0.3062546243441566,
          0.5660085135696187,
          0.09294517023552899,
          0.1894174818824277,
          0.04080039057265011,
          1.9675892925427019,
          -1.301768091588984,
          1.3152747666891773,
          0.005160869784432948,
          1.462520086249543,
          0.23850033626882083,
          0.8276718102531865,
          0.7004459393770409,
          0.19721486412706607,
          1.352394056400812,
          -1.5484023795619661,
          -0.22703321615797586,
          0.38543157811012896,
          0.8648956881612846,
          0.11555970092743817,
          0.24377042358437961,
          -0.8907934979824191,
          -0.41298058093838874,
          0.08772890141429637,
          -0.07976871061424609,
          0.2956966147265074,
          0.004051788741819877,
          -0.21232058552429844,
          -1.644617144448248,
          0.9817767416421945,
          -0.4355636648375388,
          -0.5358800350351557,
          0.2686898414179787,
          -1.7857386894657712,
          0.16534194227863233,
          1.6237878884244912,
          0.940607078882582,
          0.21777436019505278,
          1.2675257874568937,
          -1.1924645795499464,
          -1.0024359732972687,
          -0.9049278274834502,
          2.1992791381619425,
          -0.10497720054729366,
          -0.4905151303510943,
          -0.6425792587255553,
          0.5835158348888574,
          0.1531735913687253,
          1.2239349589688424,
          -0.03703710548486216,
          -0.2791575018844413
         ]
        },
        {
         "histfunc": "count",
         "histnorm": "",
         "marker": {
          "color": "rgba(55, 128, 191, 1.0)",
          "line": {
           "color": "#4D5663",
           "width": 1.3
          }
         },
         "name": "B",
         "nbinsx": 10,
         "opacity": 0.8,
         "orientation": "v",
         "type": "histogram",
         "x": [
          -0.5992388419623923,
          -1.2575663073827104,
          -0.8681566591353996,
          0.7064138445219653,
          1.220897910921186,
          -0.23843854751836333,
          0.08125458191418496,
          0.6318372109145688,
          0.942548979492198,
          2.320690008639898,
          0.9429607967997387,
          -0.29015875072636427,
          -1.6581592775086522,
          -0.5477094864769935,
          0.767637407871621,
          0.8881186319337434,
          -0.0643904961411898,
          0.9534947040026447,
          -0.16606079238591212,
          0.8603565522937122,
          -0.1580619170545945,
          -0.9653181739405476,
          -0.46734405290943015,
          -1.2911496712539385,
          -0.3972209893445163,
          0.3488214938166166,
          -0.21314454951927206,
          -0.4643598207233956,
          -0.6800305118874078,
          1.2935401582290862,
          1.4361191337703871,
          -1.171567562342489,
          -0.3670068378880621,
          -1.1054577060016664,
          -0.32064801789654274,
          -0.9363926236184297,
          -0.49477094246354825,
          0.812902698213528,
          0.8537832422872523,
          0.094645992888546,
          -0.6994604522634928,
          1.0646035005563184,
          0.8307767553268849,
          1.0896853366905155,
          0.2714464628285896,
          -0.5975426618874339,
          -0.16416177611486993,
          0.2877218711794547,
          -0.3781742013756831,
          0.48423209173426957,
          -1.180883461347576,
          -1.8120680649992547,
          0.8284734124830162,
          -1.1731129598625227,
          1.9801720805279264,
          1.2077623807204638,
          -0.13553492849395918,
          0.7018366579992051,
          0.23908836812693707,
          1.1711500013199105,
          0.3263080964506011,
          1.9688996231734426,
          0.18021053530810413,
          0.5375796221576216,
          1.5367208473457563,
          0.3513982997315935,
          0.9127172041851135,
          -2.230666072053595,
          -0.019961815619791035,
          -0.30999675103673313,
          -0.8464020313819279,
          -0.2533707794233801,
          0.4896143033570152,
          1.46020941716156,
          1.2582452885624982,
          -0.029048024548711818,
          -1.946621422012302,
          0.9796055069317009,
          1.7544797453482672,
          -0.9410046003128689,
          0.05471156767059863,
          1.8503324453552497,
          1.5160510298296148,
          -0.18408876323412576,
          -0.997566364283777,
          -1.2160719819895915,
          -0.015213805397837697,
          -1.3869063045253367,
          -0.3214812075644415,
          -0.27298008360765874,
          -0.424922336179347,
          -0.43640971391586103,
          0.24837444626450242,
          -0.5897616186959732,
          -0.966304223117495,
          0.3293893994072471,
          -1.126034549538087,
          0.7201557873948927,
          0.19646839542118436,
          -0.8793115217131454
         ]
        },
        {
         "histfunc": "count",
         "histnorm": "",
         "marker": {
          "color": "rgba(50, 171, 96, 1.0)",
          "line": {
           "color": "#4D5663",
           "width": 1.3
          }
         },
         "name": "C",
         "nbinsx": 10,
         "opacity": 0.8,
         "orientation": "v",
         "type": "histogram",
         "x": [
          0.8583663857467344,
          -1.5145392864678382,
          0.34690164059855494,
          -1.0771202641605213,
          0.7457894747870629,
          1.3465439153846355,
          -0.19439011320307956,
          -0.1278688585773838,
          0.8714217088237272,
          -1.2069465803723132,
          0.678669003387527,
          0.6908710435304085,
          -1.3518678827881616,
          -2.109643525172609,
          -0.14739200141021705,
          0.2736555043972159,
          1.5072558687922262,
          0.3716347249206074,
          0.9505652814339628,
          -1.9060707429949018,
          -0.7216299456200906,
          0.5033731431095232,
          1.567603658183932,
          -1.744367667834536,
          0.6046135698475051,
          -1.2591214070600647,
          0.24835386011648616,
          -1.990235566012449,
          0.2909701259669725,
          0.3835805487265389,
          -0.3289224481078893,
          2.783013415400195,
          0.004641289184778225,
          -0.5331706362446346,
          -0.85464536453022,
          -1.939048766759401,
          1.5732448829480874,
          0.6039064537817525,
          1.7959504221230522,
          1.0956375803715455,
          -0.30958601346015857,
          0.6493122178381358,
          -0.13110025881025425,
          0.08373256007282438,
          -0.9453019502596386,
          1.3098828552097408,
          1.0238437785917132,
          -0.2796519031510746,
          -0.18589891701581704,
          -1.9507939085538313,
          -1.9240307432375254,
          0.25150645933656285,
          -0.4025651321810857,
          -2.0008241036823686,
          -0.6715003970746136,
          -0.4865133485971033,
          -1.0906624905781868,
          -0.3155942117620863,
          1.0912079824359904,
          0.7558457550507326,
          0.9947145179461878,
          -0.884063002623822,
          -0.9426633092127263,
          -1.5032010405626413,
          0.016891280439735923,
          -1.4880291703598918,
          1.1960536111450781,
          0.645816263530466,
          0.7265415536969748,
          -0.07193586504117896,
          -0.15127496930009326,
          0.7246289940737326,
          1.1197657056355594,
          -2.0824336274218602,
          -0.9504679410546145,
          0.41403009909111205,
          0.29797641820947335,
          1.1205868149104123,
          -0.7225223044674257,
          -1.7344026712503873,
          0.7463173594083022,
          -0.25507555623623346,
          -0.3559478068672032,
          -0.42604250219736656,
          1.4951429885340772,
          -0.2616445199840373,
          0.8296699030143622,
          -2.343331318484972,
          0.9516666452755717,
          -0.05688586925889025,
          0.051787880004286954,
          2.352043014383918,
          -1.5993797304717008,
          -1.0915611825741727,
          -0.5340771017543282,
          0.7301909733814406,
          -0.9680356653278129,
          -0.6277223443047016,
          -0.8408546145530816,
          -1.5771668688401028
         ]
        },
        {
         "histfunc": "count",
         "histnorm": "",
         "marker": {
          "color": "rgba(128, 0, 128, 1.0)",
          "line": {
           "color": "#4D5663",
           "width": 1.3
          }
         },
         "name": "D",
         "nbinsx": 10,
         "opacity": 0.8,
         "orientation": "v",
         "type": "histogram",
         "x": [
          0.07924185651283985,
          0.6818652924290595,
          -1.5873646183219725,
          0.12143990441081044,
          0.05207846008017546,
          -1.6172186411018126,
          0.011936196923565652,
          0.3529043777707589,
          -0.2505368958304461,
          0.5242368019228532,
          0.8248947952081447,
          -0.44144132648920137,
          -1.1808687641887123,
          -0.5373388775111392,
          -0.3237467751304937,
          -0.3776318955153955,
          -1.0239629768554412,
          1.245531514165095,
          1.1073940699327756,
          0.4251891543621005,
          0.513692890737192,
          -0.8251306325144719,
          -0.5401465320493954,
          -0.16508677184432394,
          0.10365248867441129,
          -0.49532774975850336,
          0.33529958182784414,
          0.43571929713716445,
          0.39720144728297835,
          1.310944841202766,
          -2.3169983885896843,
          -0.18908103238767154,
          0.5292222231066129,
          0.29016145332777066,
          0.8427822926991279,
          -0.23657082738896495,
          -0.9235212521760812,
          -1.7890541565202018,
          0.8155050859900476,
          -0.10032716975412605,
          -1.365892603250562,
          0.13199703355022221,
          0.7329981815183036,
          -0.028480770358342258,
          0.5961455415925334,
          0.12109006891748281,
          -0.27040586484201984,
          -0.05622323384537568,
          0.2547450277359559,
          0.7390152320916648,
          1.4217961618406467,
          0.2806795766706054,
          1.036600861298079,
          -0.25972435751392714,
          -1.354284864112056,
          0.22207571354595435,
          1.86260698428309,
          -0.023431220580845128,
          0.12190958858536981,
          -0.3441378034341104,
          -0.3071343352575743,
          0.731265097288132,
          -0.9491959956966635,
          -1.1545115660287404,
          -0.452396235391058,
          -0.754086005700038,
          -0.43677995059947394,
          -1.2842290256385585,
          -0.5598699785720364,
          -1.9924405355160102,
          0.021257367426427105,
          0.668053699107769,
          -1.6077823585790698,
          -0.9608748165757212,
          0.5312422174535207,
          1.3370322151179366,
          0.8246792139371296,
          -0.43104272603839816,
          0.20878375668740443,
          -0.20858077619848964,
          -0.06922238817565377,
          -0.31461710761825573,
          3.1295338984364833,
          0.8281974921069192,
          1.2578508827664443,
          -0.4435176039959194,
          0.5236437557733773,
          -0.19699010977378437,
          0.006036150046611265,
          -0.7437834804755933,
          1.1688954857881058,
          0.46977893589293973,
          0.9529961423643826,
          1.0784673273714247,
          0.0937729889871102,
          -0.0691169318342257,
          -0.6697870179389714,
          -0.06400552700673463,
          -1.8031729430720378,
          0.49745682576903094
         ]
        }
       ],
       "layout": {
        "barmode": "overlay",
        "legend": {
         "bgcolor": "#F5F6F9",
         "font": {
          "color": "#4D5663"
         }
        },
        "paper_bgcolor": "#F5F6F9",
        "plot_bgcolor": "#F5F6F9",
        "template": {
         "data": {
          "bar": [
           {
            "error_x": {
             "color": "#2a3f5f"
            },
            "error_y": {
             "color": "#2a3f5f"
            },
            "marker": {
             "line": {
              "color": "#E5ECF6",
              "width": 0.5
             },
             "pattern": {
              "fillmode": "overlay",
              "size": 10,
              "solidity": 0.2
             }
            },
            "type": "bar"
           }
          ],
          "barpolar": [
           {
            "marker": {
             "line": {
              "color": "#E5ECF6",
              "width": 0.5
             },
             "pattern": {
              "fillmode": "overlay",
              "size": 10,
              "solidity": 0.2
             }
            },
            "type": "barpolar"
           }
          ],
          "carpet": [
           {
            "aaxis": {
             "endlinecolor": "#2a3f5f",
             "gridcolor": "white",
             "linecolor": "white",
             "minorgridcolor": "white",
             "startlinecolor": "#2a3f5f"
            },
            "baxis": {
             "endlinecolor": "#2a3f5f",
             "gridcolor": "white",
             "linecolor": "white",
             "minorgridcolor": "white",
             "startlinecolor": "#2a3f5f"
            },
            "type": "carpet"
           }
          ],
          "choropleth": [
           {
            "colorbar": {
             "outlinewidth": 0,
             "ticks": ""
            },
            "type": "choropleth"
           }
          ],
          "contour": [
           {
            "colorbar": {
             "outlinewidth": 0,
             "ticks": ""
            },
            "colorscale": [
             [
              0,
              "#0d0887"
             ],
             [
              0.1111111111111111,
              "#46039f"
             ],
             [
              0.2222222222222222,
              "#7201a8"
             ],
             [
              0.3333333333333333,
              "#9c179e"
             ],
             [
              0.4444444444444444,
              "#bd3786"
             ],
             [
              0.5555555555555556,
              "#d8576b"
             ],
             [
              0.6666666666666666,
              "#ed7953"
             ],
             [
              0.7777777777777778,
              "#fb9f3a"
             ],
             [
              0.8888888888888888,
              "#fdca26"
             ],
             [
              1,
              "#f0f921"
             ]
            ],
            "type": "contour"
           }
          ],
          "contourcarpet": [
           {
            "colorbar": {
             "outlinewidth": 0,
             "ticks": ""
            },
            "type": "contourcarpet"
           }
          ],
          "heatmap": [
           {
            "colorbar": {
             "outlinewidth": 0,
             "ticks": ""
            },
            "colorscale": [
             [
              0,
              "#0d0887"
             ],
             [
              0.1111111111111111,
              "#46039f"
             ],
             [
              0.2222222222222222,
              "#7201a8"
             ],
             [
              0.3333333333333333,
              "#9c179e"
             ],
             [
              0.4444444444444444,
              "#bd3786"
             ],
             [
              0.5555555555555556,
              "#d8576b"
             ],
             [
              0.6666666666666666,
              "#ed7953"
             ],
             [
              0.7777777777777778,
              "#fb9f3a"
             ],
             [
              0.8888888888888888,
              "#fdca26"
             ],
             [
              1,
              "#f0f921"
             ]
            ],
            "type": "heatmap"
           }
          ],
          "heatmapgl": [
           {
            "colorbar": {
             "outlinewidth": 0,
             "ticks": ""
            },
            "colorscale": [
             [
              0,
              "#0d0887"
             ],
             [
              0.1111111111111111,
              "#46039f"
             ],
             [
              0.2222222222222222,
              "#7201a8"
             ],
             [
              0.3333333333333333,
              "#9c179e"
             ],
             [
              0.4444444444444444,
              "#bd3786"
             ],
             [
              0.5555555555555556,
              "#d8576b"
             ],
             [
              0.6666666666666666,
              "#ed7953"
             ],
             [
              0.7777777777777778,
              "#fb9f3a"
             ],
             [
              0.8888888888888888,
              "#fdca26"
             ],
             [
              1,
              "#f0f921"
             ]
            ],
            "type": "heatmapgl"
           }
          ],
          "histogram": [
           {
            "marker": {
             "pattern": {
              "fillmode": "overlay",
              "size": 10,
              "solidity": 0.2
             }
            },
            "type": "histogram"
           }
          ],
          "histogram2d": [
           {
            "colorbar": {
             "outlinewidth": 0,
             "ticks": ""
            },
            "colorscale": [
             [
              0,
              "#0d0887"
             ],
             [
              0.1111111111111111,
              "#46039f"
             ],
             [
              0.2222222222222222,
              "#7201a8"
             ],
             [
              0.3333333333333333,
              "#9c179e"
             ],
             [
              0.4444444444444444,
              "#bd3786"
             ],
             [
              0.5555555555555556,
              "#d8576b"
             ],
             [
              0.6666666666666666,
              "#ed7953"
             ],
             [
              0.7777777777777778,
              "#fb9f3a"
             ],
             [
              0.8888888888888888,
              "#fdca26"
             ],
             [
              1,
              "#f0f921"
             ]
            ],
            "type": "histogram2d"
           }
          ],
          "histogram2dcontour": [
           {
            "colorbar": {
             "outlinewidth": 0,
             "ticks": ""
            },
            "colorscale": [
             [
              0,
              "#0d0887"
             ],
             [
              0.1111111111111111,
              "#46039f"
             ],
             [
              0.2222222222222222,
              "#7201a8"
             ],
             [
              0.3333333333333333,
              "#9c179e"
             ],
             [
              0.4444444444444444,
              "#bd3786"
             ],
             [
              0.5555555555555556,
              "#d8576b"
             ],
             [
              0.6666666666666666,
              "#ed7953"
             ],
             [
              0.7777777777777778,
              "#fb9f3a"
             ],
             [
              0.8888888888888888,
              "#fdca26"
             ],
             [
              1,
              "#f0f921"
             ]
            ],
            "type": "histogram2dcontour"
           }
          ],
          "mesh3d": [
           {
            "colorbar": {
             "outlinewidth": 0,
             "ticks": ""
            },
            "type": "mesh3d"
           }
          ],
          "parcoords": [
           {
            "line": {
             "colorbar": {
              "outlinewidth": 0,
              "ticks": ""
             }
            },
            "type": "parcoords"
           }
          ],
          "pie": [
           {
            "automargin": true,
            "type": "pie"
           }
          ],
          "scatter": [
           {
            "fillpattern": {
             "fillmode": "overlay",
             "size": 10,
             "solidity": 0.2
            },
            "type": "scatter"
           }
          ],
          "scatter3d": [
           {
            "line": {
             "colorbar": {
              "outlinewidth": 0,
              "ticks": ""
             }
            },
            "marker": {
             "colorbar": {
              "outlinewidth": 0,
              "ticks": ""
             }
            },
            "type": "scatter3d"
           }
          ],
          "scattercarpet": [
           {
            "marker": {
             "colorbar": {
              "outlinewidth": 0,
              "ticks": ""
             }
            },
            "type": "scattercarpet"
           }
          ],
          "scattergeo": [
           {
            "marker": {
             "colorbar": {
              "outlinewidth": 0,
              "ticks": ""
             }
            },
            "type": "scattergeo"
           }
          ],
          "scattergl": [
           {
            "marker": {
             "colorbar": {
              "outlinewidth": 0,
              "ticks": ""
             }
            },
            "type": "scattergl"
           }
          ],
          "scattermapbox": [
           {
            "marker": {
             "colorbar": {
              "outlinewidth": 0,
              "ticks": ""
             }
            },
            "type": "scattermapbox"
           }
          ],
          "scatterpolar": [
           {
            "marker": {
             "colorbar": {
              "outlinewidth": 0,
              "ticks": ""
             }
            },
            "type": "scatterpolar"
           }
          ],
          "scatterpolargl": [
           {
            "marker": {
             "colorbar": {
              "outlinewidth": 0,
              "ticks": ""
             }
            },
            "type": "scatterpolargl"
           }
          ],
          "scatterternary": [
           {
            "marker": {
             "colorbar": {
              "outlinewidth": 0,
              "ticks": ""
             }
            },
            "type": "scatterternary"
           }
          ],
          "surface": [
           {
            "colorbar": {
             "outlinewidth": 0,
             "ticks": ""
            },
            "colorscale": [
             [
              0,
              "#0d0887"
             ],
             [
              0.1111111111111111,
              "#46039f"
             ],
             [
              0.2222222222222222,
              "#7201a8"
             ],
             [
              0.3333333333333333,
              "#9c179e"
             ],
             [
              0.4444444444444444,
              "#bd3786"
             ],
             [
              0.5555555555555556,
              "#d8576b"
             ],
             [
              0.6666666666666666,
              "#ed7953"
             ],
             [
              0.7777777777777778,
              "#fb9f3a"
             ],
             [
              0.8888888888888888,
              "#fdca26"
             ],
             [
              1,
              "#f0f921"
             ]
            ],
            "type": "surface"
           }
          ],
          "table": [
           {
            "cells": {
             "fill": {
              "color": "#EBF0F8"
             },
             "line": {
              "color": "white"
             }
            },
            "header": {
             "fill": {
              "color": "#C8D4E3"
             },
             "line": {
              "color": "white"
             }
            },
            "type": "table"
           }
          ]
         },
         "layout": {
          "annotationdefaults": {
           "arrowcolor": "#2a3f5f",
           "arrowhead": 0,
           "arrowwidth": 1
          },
          "autotypenumbers": "strict",
          "coloraxis": {
           "colorbar": {
            "outlinewidth": 0,
            "ticks": ""
           }
          },
          "colorscale": {
           "diverging": [
            [
             0,
             "#8e0152"
            ],
            [
             0.1,
             "#c51b7d"
            ],
            [
             0.2,
             "#de77ae"
            ],
            [
             0.3,
             "#f1b6da"
            ],
            [
             0.4,
             "#fde0ef"
            ],
            [
             0.5,
             "#f7f7f7"
            ],
            [
             0.6,
             "#e6f5d0"
            ],
            [
             0.7,
             "#b8e186"
            ],
            [
             0.8,
             "#7fbc41"
            ],
            [
             0.9,
             "#4d9221"
            ],
            [
             1,
             "#276419"
            ]
           ],
           "sequential": [
            [
             0,
             "#0d0887"
            ],
            [
             0.1111111111111111,
             "#46039f"
            ],
            [
             0.2222222222222222,
             "#7201a8"
            ],
            [
             0.3333333333333333,
             "#9c179e"
            ],
            [
             0.4444444444444444,
             "#bd3786"
            ],
            [
             0.5555555555555556,
             "#d8576b"
            ],
            [
             0.6666666666666666,
             "#ed7953"
            ],
            [
             0.7777777777777778,
             "#fb9f3a"
            ],
            [
             0.8888888888888888,
             "#fdca26"
            ],
            [
             1,
             "#f0f921"
            ]
           ],
           "sequentialminus": [
            [
             0,
             "#0d0887"
            ],
            [
             0.1111111111111111,
             "#46039f"
            ],
            [
             0.2222222222222222,
             "#7201a8"
            ],
            [
             0.3333333333333333,
             "#9c179e"
            ],
            [
             0.4444444444444444,
             "#bd3786"
            ],
            [
             0.5555555555555556,
             "#d8576b"
            ],
            [
             0.6666666666666666,
             "#ed7953"
            ],
            [
             0.7777777777777778,
             "#fb9f3a"
            ],
            [
             0.8888888888888888,
             "#fdca26"
            ],
            [
             1,
             "#f0f921"
            ]
           ]
          },
          "colorway": [
           "#636efa",
           "#EF553B",
           "#00cc96",
           "#ab63fa",
           "#FFA15A",
           "#19d3f3",
           "#FF6692",
           "#B6E880",
           "#FF97FF",
           "#FECB52"
          ],
          "font": {
           "color": "#2a3f5f"
          },
          "geo": {
           "bgcolor": "white",
           "lakecolor": "white",
           "landcolor": "#E5ECF6",
           "showlakes": true,
           "showland": true,
           "subunitcolor": "white"
          },
          "hoverlabel": {
           "align": "left"
          },
          "hovermode": "closest",
          "mapbox": {
           "style": "light"
          },
          "paper_bgcolor": "white",
          "plot_bgcolor": "#E5ECF6",
          "polar": {
           "angularaxis": {
            "gridcolor": "white",
            "linecolor": "white",
            "ticks": ""
           },
           "bgcolor": "#E5ECF6",
           "radialaxis": {
            "gridcolor": "white",
            "linecolor": "white",
            "ticks": ""
           }
          },
          "scene": {
           "xaxis": {
            "backgroundcolor": "#E5ECF6",
            "gridcolor": "white",
            "gridwidth": 2,
            "linecolor": "white",
            "showbackground": true,
            "ticks": "",
            "zerolinecolor": "white"
           },
           "yaxis": {
            "backgroundcolor": "#E5ECF6",
            "gridcolor": "white",
            "gridwidth": 2,
            "linecolor": "white",
            "showbackground": true,
            "ticks": "",
            "zerolinecolor": "white"
           },
           "zaxis": {
            "backgroundcolor": "#E5ECF6",
            "gridcolor": "white",
            "gridwidth": 2,
            "linecolor": "white",
            "showbackground": true,
            "ticks": "",
            "zerolinecolor": "white"
           }
          },
          "shapedefaults": {
           "line": {
            "color": "#2a3f5f"
           }
          },
          "ternary": {
           "aaxis": {
            "gridcolor": "white",
            "linecolor": "white",
            "ticks": ""
           },
           "baxis": {
            "gridcolor": "white",
            "linecolor": "white",
            "ticks": ""
           },
           "bgcolor": "#E5ECF6",
           "caxis": {
            "gridcolor": "white",
            "linecolor": "white",
            "ticks": ""
           }
          },
          "title": {
           "x": 0.05
          },
          "xaxis": {
           "automargin": true,
           "gridcolor": "white",
           "linecolor": "white",
           "ticks": "",
           "title": {
            "standoff": 15
           },
           "zerolinecolor": "white",
           "zerolinewidth": 2
          },
          "yaxis": {
           "automargin": true,
           "gridcolor": "white",
           "linecolor": "white",
           "ticks": "",
           "title": {
            "standoff": 15
           },
           "zerolinecolor": "white",
           "zerolinewidth": 2
          }
         }
        },
        "title": {
         "font": {
          "color": "#4D5663"
         }
        },
        "xaxis": {
         "gridcolor": "#E1E5ED",
         "showgrid": true,
         "tickfont": {
          "color": "#4D5663"
         },
         "title": {
          "font": {
           "color": "#4D5663"
          },
          "text": ""
         },
         "zerolinecolor": "#E1E5ED"
        },
        "yaxis": {
         "gridcolor": "#E1E5ED",
         "showgrid": true,
         "tickfont": {
          "color": "#4D5663"
         },
         "title": {
          "font": {
           "color": "#4D5663"
          },
          "text": ""
         },
         "zerolinecolor": "#E1E5ED"
        }
       }
      },
      "text/html": [
       "<div>                            <div id=\"7b9bf4a6-0121-42fb-a42b-bfee99dc6537\" class=\"plotly-graph-div\" style=\"height:525px; width:100%;\"></div>            <script type=\"text/javascript\">                require([\"plotly\"], function(Plotly) {                    window.PLOTLYENV=window.PLOTLYENV || {};\n",
       "                    window.PLOTLYENV.BASE_URL='https://plot.ly';                                    if (document.getElementById(\"7b9bf4a6-0121-42fb-a42b-bfee99dc6537\")) {                    Plotly.newPlot(                        \"7b9bf4a6-0121-42fb-a42b-bfee99dc6537\",                        [{\"histfunc\":\"count\",\"histnorm\":\"\",\"marker\":{\"color\":\"rgba(255, 153, 51, 1.0)\",\"line\":{\"color\":\"#4D5663\",\"width\":1.3}},\"name\":\"A\",\"nbinsx\":10,\"opacity\":0.8,\"orientation\":\"v\",\"x\":[-0.6237268104686525,1.274572752369918,1.2855856084667923,0.4780921393755692,0.34494324406716476,-0.6405949323178967,-0.23348553233512562,0.17813370617579363,-0.7673268343683513,0.6579796347779423,0.09150439440134266,-0.3202194087654672,-0.7198822372283044,-0.03040259488005372,1.130130891132435,-1.3944379204410033,1.8055147559922298,-1.9857070195145679,1.4470767837214011,1.2874355830663946,0.696433594308047,2.404825719871125,-0.9623858314433245,-0.1859132142492279,0.03170213208913351,0.5002634060080197,1.4787083705078896,0.7458816130279491,0.3594135831219899,-1.2275883098721305,-0.03238291414533404,-0.15198417429647754,-0.8830153029958461,-0.8132224851313794,-2.0501610155245906,-0.9041899883149012,2.178167424721099,0.286622228389137,1.075573863823262,-0.4356904238305605,-1.0651750876267727,-0.0028056950631574658,-0.49382633776458307,-1.3147464271320535,-0.08989013325516612,-0.7042291895417842,-0.36343888412820746,0.333312240811528,1.0876510344408286,-0.3062546243441566,0.5660085135696187,0.09294517023552899,0.1894174818824277,0.04080039057265011,1.9675892925427019,-1.301768091588984,1.3152747666891773,0.005160869784432948,1.462520086249543,0.23850033626882083,0.8276718102531865,0.7004459393770409,0.19721486412706607,1.352394056400812,-1.5484023795619661,-0.22703321615797586,0.38543157811012896,0.8648956881612846,0.11555970092743817,0.24377042358437961,-0.8907934979824191,-0.41298058093838874,0.08772890141429637,-0.07976871061424609,0.2956966147265074,0.004051788741819877,-0.21232058552429844,-1.644617144448248,0.9817767416421945,-0.4355636648375388,-0.5358800350351557,0.2686898414179787,-1.7857386894657712,0.16534194227863233,1.6237878884244912,0.940607078882582,0.21777436019505278,1.2675257874568937,-1.1924645795499464,-1.0024359732972687,-0.9049278274834502,2.1992791381619425,-0.10497720054729366,-0.4905151303510943,-0.6425792587255553,0.5835158348888574,0.1531735913687253,1.2239349589688424,-0.03703710548486216,-0.2791575018844413],\"type\":\"histogram\"},{\"histfunc\":\"count\",\"histnorm\":\"\",\"marker\":{\"color\":\"rgba(55, 128, 191, 1.0)\",\"line\":{\"color\":\"#4D5663\",\"width\":1.3}},\"name\":\"B\",\"nbinsx\":10,\"opacity\":0.8,\"orientation\":\"v\",\"x\":[-0.5992388419623923,-1.2575663073827104,-0.8681566591353996,0.7064138445219653,1.220897910921186,-0.23843854751836333,0.08125458191418496,0.6318372109145688,0.942548979492198,2.320690008639898,0.9429607967997387,-0.29015875072636427,-1.6581592775086522,-0.5477094864769935,0.767637407871621,0.8881186319337434,-0.0643904961411898,0.9534947040026447,-0.16606079238591212,0.8603565522937122,-0.1580619170545945,-0.9653181739405476,-0.46734405290943015,-1.2911496712539385,-0.3972209893445163,0.3488214938166166,-0.21314454951927206,-0.4643598207233956,-0.6800305118874078,1.2935401582290862,1.4361191337703871,-1.171567562342489,-0.3670068378880621,-1.1054577060016664,-0.32064801789654274,-0.9363926236184297,-0.49477094246354825,0.812902698213528,0.8537832422872523,0.094645992888546,-0.6994604522634928,1.0646035005563184,0.8307767553268849,1.0896853366905155,0.2714464628285896,-0.5975426618874339,-0.16416177611486993,0.2877218711794547,-0.3781742013756831,0.48423209173426957,-1.180883461347576,-1.8120680649992547,0.8284734124830162,-1.1731129598625227,1.9801720805279264,1.2077623807204638,-0.13553492849395918,0.7018366579992051,0.23908836812693707,1.1711500013199105,0.3263080964506011,1.9688996231734426,0.18021053530810413,0.5375796221576216,1.5367208473457563,0.3513982997315935,0.9127172041851135,-2.230666072053595,-0.019961815619791035,-0.30999675103673313,-0.8464020313819279,-0.2533707794233801,0.4896143033570152,1.46020941716156,1.2582452885624982,-0.029048024548711818,-1.946621422012302,0.9796055069317009,1.7544797453482672,-0.9410046003128689,0.05471156767059863,1.8503324453552497,1.5160510298296148,-0.18408876323412576,-0.997566364283777,-1.2160719819895915,-0.015213805397837697,-1.3869063045253367,-0.3214812075644415,-0.27298008360765874,-0.424922336179347,-0.43640971391586103,0.24837444626450242,-0.5897616186959732,-0.966304223117495,0.3293893994072471,-1.126034549538087,0.7201557873948927,0.19646839542118436,-0.8793115217131454],\"type\":\"histogram\"},{\"histfunc\":\"count\",\"histnorm\":\"\",\"marker\":{\"color\":\"rgba(50, 171, 96, 1.0)\",\"line\":{\"color\":\"#4D5663\",\"width\":1.3}},\"name\":\"C\",\"nbinsx\":10,\"opacity\":0.8,\"orientation\":\"v\",\"x\":[0.8583663857467344,-1.5145392864678382,0.34690164059855494,-1.0771202641605213,0.7457894747870629,1.3465439153846355,-0.19439011320307956,-0.1278688585773838,0.8714217088237272,-1.2069465803723132,0.678669003387527,0.6908710435304085,-1.3518678827881616,-2.109643525172609,-0.14739200141021705,0.2736555043972159,1.5072558687922262,0.3716347249206074,0.9505652814339628,-1.9060707429949018,-0.7216299456200906,0.5033731431095232,1.567603658183932,-1.744367667834536,0.6046135698475051,-1.2591214070600647,0.24835386011648616,-1.990235566012449,0.2909701259669725,0.3835805487265389,-0.3289224481078893,2.783013415400195,0.004641289184778225,-0.5331706362446346,-0.85464536453022,-1.939048766759401,1.5732448829480874,0.6039064537817525,1.7959504221230522,1.0956375803715455,-0.30958601346015857,0.6493122178381358,-0.13110025881025425,0.08373256007282438,-0.9453019502596386,1.3098828552097408,1.0238437785917132,-0.2796519031510746,-0.18589891701581704,-1.9507939085538313,-1.9240307432375254,0.25150645933656285,-0.4025651321810857,-2.0008241036823686,-0.6715003970746136,-0.4865133485971033,-1.0906624905781868,-0.3155942117620863,1.0912079824359904,0.7558457550507326,0.9947145179461878,-0.884063002623822,-0.9426633092127263,-1.5032010405626413,0.016891280439735923,-1.4880291703598918,1.1960536111450781,0.645816263530466,0.7265415536969748,-0.07193586504117896,-0.15127496930009326,0.7246289940737326,1.1197657056355594,-2.0824336274218602,-0.9504679410546145,0.41403009909111205,0.29797641820947335,1.1205868149104123,-0.7225223044674257,-1.7344026712503873,0.7463173594083022,-0.25507555623623346,-0.3559478068672032,-0.42604250219736656,1.4951429885340772,-0.2616445199840373,0.8296699030143622,-2.343331318484972,0.9516666452755717,-0.05688586925889025,0.051787880004286954,2.352043014383918,-1.5993797304717008,-1.0915611825741727,-0.5340771017543282,0.7301909733814406,-0.9680356653278129,-0.6277223443047016,-0.8408546145530816,-1.5771668688401028],\"type\":\"histogram\"},{\"histfunc\":\"count\",\"histnorm\":\"\",\"marker\":{\"color\":\"rgba(128, 0, 128, 1.0)\",\"line\":{\"color\":\"#4D5663\",\"width\":1.3}},\"name\":\"D\",\"nbinsx\":10,\"opacity\":0.8,\"orientation\":\"v\",\"x\":[0.07924185651283985,0.6818652924290595,-1.5873646183219725,0.12143990441081044,0.05207846008017546,-1.6172186411018126,0.011936196923565652,0.3529043777707589,-0.2505368958304461,0.5242368019228532,0.8248947952081447,-0.44144132648920137,-1.1808687641887123,-0.5373388775111392,-0.3237467751304937,-0.3776318955153955,-1.0239629768554412,1.245531514165095,1.1073940699327756,0.4251891543621005,0.513692890737192,-0.8251306325144719,-0.5401465320493954,-0.16508677184432394,0.10365248867441129,-0.49532774975850336,0.33529958182784414,0.43571929713716445,0.39720144728297835,1.310944841202766,-2.3169983885896843,-0.18908103238767154,0.5292222231066129,0.29016145332777066,0.8427822926991279,-0.23657082738896495,-0.9235212521760812,-1.7890541565202018,0.8155050859900476,-0.10032716975412605,-1.365892603250562,0.13199703355022221,0.7329981815183036,-0.028480770358342258,0.5961455415925334,0.12109006891748281,-0.27040586484201984,-0.05622323384537568,0.2547450277359559,0.7390152320916648,1.4217961618406467,0.2806795766706054,1.036600861298079,-0.25972435751392714,-1.354284864112056,0.22207571354595435,1.86260698428309,-0.023431220580845128,0.12190958858536981,-0.3441378034341104,-0.3071343352575743,0.731265097288132,-0.9491959956966635,-1.1545115660287404,-0.452396235391058,-0.754086005700038,-0.43677995059947394,-1.2842290256385585,-0.5598699785720364,-1.9924405355160102,0.021257367426427105,0.668053699107769,-1.6077823585790698,-0.9608748165757212,0.5312422174535207,1.3370322151179366,0.8246792139371296,-0.43104272603839816,0.20878375668740443,-0.20858077619848964,-0.06922238817565377,-0.31461710761825573,3.1295338984364833,0.8281974921069192,1.2578508827664443,-0.4435176039959194,0.5236437557733773,-0.19699010977378437,0.006036150046611265,-0.7437834804755933,1.1688954857881058,0.46977893589293973,0.9529961423643826,1.0784673273714247,0.0937729889871102,-0.0691169318342257,-0.6697870179389714,-0.06400552700673463,-1.8031729430720378,0.49745682576903094],\"type\":\"histogram\"}],                        {\"barmode\":\"overlay\",\"legend\":{\"bgcolor\":\"#F5F6F9\",\"font\":{\"color\":\"#4D5663\"}},\"paper_bgcolor\":\"#F5F6F9\",\"plot_bgcolor\":\"#F5F6F9\",\"template\":{\"data\":{\"barpolar\":[{\"marker\":{\"line\":{\"color\":\"#E5ECF6\",\"width\":0.5},\"pattern\":{\"fillmode\":\"overlay\",\"size\":10,\"solidity\":0.2}},\"type\":\"barpolar\"}],\"bar\":[{\"error_x\":{\"color\":\"#2a3f5f\"},\"error_y\":{\"color\":\"#2a3f5f\"},\"marker\":{\"line\":{\"color\":\"#E5ECF6\",\"width\":0.5},\"pattern\":{\"fillmode\":\"overlay\",\"size\":10,\"solidity\":0.2}},\"type\":\"bar\"}],\"carpet\":[{\"aaxis\":{\"endlinecolor\":\"#2a3f5f\",\"gridcolor\":\"white\",\"linecolor\":\"white\",\"minorgridcolor\":\"white\",\"startlinecolor\":\"#2a3f5f\"},\"baxis\":{\"endlinecolor\":\"#2a3f5f\",\"gridcolor\":\"white\",\"linecolor\":\"white\",\"minorgridcolor\":\"white\",\"startlinecolor\":\"#2a3f5f\"},\"type\":\"carpet\"}],\"choropleth\":[{\"colorbar\":{\"outlinewidth\":0,\"ticks\":\"\"},\"type\":\"choropleth\"}],\"contourcarpet\":[{\"colorbar\":{\"outlinewidth\":0,\"ticks\":\"\"},\"type\":\"contourcarpet\"}],\"contour\":[{\"colorbar\":{\"outlinewidth\":0,\"ticks\":\"\"},\"colorscale\":[[0.0,\"#0d0887\"],[0.1111111111111111,\"#46039f\"],[0.2222222222222222,\"#7201a8\"],[0.3333333333333333,\"#9c179e\"],[0.4444444444444444,\"#bd3786\"],[0.5555555555555556,\"#d8576b\"],[0.6666666666666666,\"#ed7953\"],[0.7777777777777778,\"#fb9f3a\"],[0.8888888888888888,\"#fdca26\"],[1.0,\"#f0f921\"]],\"type\":\"contour\"}],\"heatmapgl\":[{\"colorbar\":{\"outlinewidth\":0,\"ticks\":\"\"},\"colorscale\":[[0.0,\"#0d0887\"],[0.1111111111111111,\"#46039f\"],[0.2222222222222222,\"#7201a8\"],[0.3333333333333333,\"#9c179e\"],[0.4444444444444444,\"#bd3786\"],[0.5555555555555556,\"#d8576b\"],[0.6666666666666666,\"#ed7953\"],[0.7777777777777778,\"#fb9f3a\"],[0.8888888888888888,\"#fdca26\"],[1.0,\"#f0f921\"]],\"type\":\"heatmapgl\"}],\"heatmap\":[{\"colorbar\":{\"outlinewidth\":0,\"ticks\":\"\"},\"colorscale\":[[0.0,\"#0d0887\"],[0.1111111111111111,\"#46039f\"],[0.2222222222222222,\"#7201a8\"],[0.3333333333333333,\"#9c179e\"],[0.4444444444444444,\"#bd3786\"],[0.5555555555555556,\"#d8576b\"],[0.6666666666666666,\"#ed7953\"],[0.7777777777777778,\"#fb9f3a\"],[0.8888888888888888,\"#fdca26\"],[1.0,\"#f0f921\"]],\"type\":\"heatmap\"}],\"histogram2dcontour\":[{\"colorbar\":{\"outlinewidth\":0,\"ticks\":\"\"},\"colorscale\":[[0.0,\"#0d0887\"],[0.1111111111111111,\"#46039f\"],[0.2222222222222222,\"#7201a8\"],[0.3333333333333333,\"#9c179e\"],[0.4444444444444444,\"#bd3786\"],[0.5555555555555556,\"#d8576b\"],[0.6666666666666666,\"#ed7953\"],[0.7777777777777778,\"#fb9f3a\"],[0.8888888888888888,\"#fdca26\"],[1.0,\"#f0f921\"]],\"type\":\"histogram2dcontour\"}],\"histogram2d\":[{\"colorbar\":{\"outlinewidth\":0,\"ticks\":\"\"},\"colorscale\":[[0.0,\"#0d0887\"],[0.1111111111111111,\"#46039f\"],[0.2222222222222222,\"#7201a8\"],[0.3333333333333333,\"#9c179e\"],[0.4444444444444444,\"#bd3786\"],[0.5555555555555556,\"#d8576b\"],[0.6666666666666666,\"#ed7953\"],[0.7777777777777778,\"#fb9f3a\"],[0.8888888888888888,\"#fdca26\"],[1.0,\"#f0f921\"]],\"type\":\"histogram2d\"}],\"histogram\":[{\"marker\":{\"pattern\":{\"fillmode\":\"overlay\",\"size\":10,\"solidity\":0.2}},\"type\":\"histogram\"}],\"mesh3d\":[{\"colorbar\":{\"outlinewidth\":0,\"ticks\":\"\"},\"type\":\"mesh3d\"}],\"parcoords\":[{\"line\":{\"colorbar\":{\"outlinewidth\":0,\"ticks\":\"\"}},\"type\":\"parcoords\"}],\"pie\":[{\"automargin\":true,\"type\":\"pie\"}],\"scatter3d\":[{\"line\":{\"colorbar\":{\"outlinewidth\":0,\"ticks\":\"\"}},\"marker\":{\"colorbar\":{\"outlinewidth\":0,\"ticks\":\"\"}},\"type\":\"scatter3d\"}],\"scattercarpet\":[{\"marker\":{\"colorbar\":{\"outlinewidth\":0,\"ticks\":\"\"}},\"type\":\"scattercarpet\"}],\"scattergeo\":[{\"marker\":{\"colorbar\":{\"outlinewidth\":0,\"ticks\":\"\"}},\"type\":\"scattergeo\"}],\"scattergl\":[{\"marker\":{\"colorbar\":{\"outlinewidth\":0,\"ticks\":\"\"}},\"type\":\"scattergl\"}],\"scattermapbox\":[{\"marker\":{\"colorbar\":{\"outlinewidth\":0,\"ticks\":\"\"}},\"type\":\"scattermapbox\"}],\"scatterpolargl\":[{\"marker\":{\"colorbar\":{\"outlinewidth\":0,\"ticks\":\"\"}},\"type\":\"scatterpolargl\"}],\"scatterpolar\":[{\"marker\":{\"colorbar\":{\"outlinewidth\":0,\"ticks\":\"\"}},\"type\":\"scatterpolar\"}],\"scatter\":[{\"fillpattern\":{\"fillmode\":\"overlay\",\"size\":10,\"solidity\":0.2},\"type\":\"scatter\"}],\"scatterternary\":[{\"marker\":{\"colorbar\":{\"outlinewidth\":0,\"ticks\":\"\"}},\"type\":\"scatterternary\"}],\"surface\":[{\"colorbar\":{\"outlinewidth\":0,\"ticks\":\"\"},\"colorscale\":[[0.0,\"#0d0887\"],[0.1111111111111111,\"#46039f\"],[0.2222222222222222,\"#7201a8\"],[0.3333333333333333,\"#9c179e\"],[0.4444444444444444,\"#bd3786\"],[0.5555555555555556,\"#d8576b\"],[0.6666666666666666,\"#ed7953\"],[0.7777777777777778,\"#fb9f3a\"],[0.8888888888888888,\"#fdca26\"],[1.0,\"#f0f921\"]],\"type\":\"surface\"}],\"table\":[{\"cells\":{\"fill\":{\"color\":\"#EBF0F8\"},\"line\":{\"color\":\"white\"}},\"header\":{\"fill\":{\"color\":\"#C8D4E3\"},\"line\":{\"color\":\"white\"}},\"type\":\"table\"}]},\"layout\":{\"annotationdefaults\":{\"arrowcolor\":\"#2a3f5f\",\"arrowhead\":0,\"arrowwidth\":1},\"autotypenumbers\":\"strict\",\"coloraxis\":{\"colorbar\":{\"outlinewidth\":0,\"ticks\":\"\"}},\"colorscale\":{\"diverging\":[[0,\"#8e0152\"],[0.1,\"#c51b7d\"],[0.2,\"#de77ae\"],[0.3,\"#f1b6da\"],[0.4,\"#fde0ef\"],[0.5,\"#f7f7f7\"],[0.6,\"#e6f5d0\"],[0.7,\"#b8e186\"],[0.8,\"#7fbc41\"],[0.9,\"#4d9221\"],[1,\"#276419\"]],\"sequential\":[[0.0,\"#0d0887\"],[0.1111111111111111,\"#46039f\"],[0.2222222222222222,\"#7201a8\"],[0.3333333333333333,\"#9c179e\"],[0.4444444444444444,\"#bd3786\"],[0.5555555555555556,\"#d8576b\"],[0.6666666666666666,\"#ed7953\"],[0.7777777777777778,\"#fb9f3a\"],[0.8888888888888888,\"#fdca26\"],[1.0,\"#f0f921\"]],\"sequentialminus\":[[0.0,\"#0d0887\"],[0.1111111111111111,\"#46039f\"],[0.2222222222222222,\"#7201a8\"],[0.3333333333333333,\"#9c179e\"],[0.4444444444444444,\"#bd3786\"],[0.5555555555555556,\"#d8576b\"],[0.6666666666666666,\"#ed7953\"],[0.7777777777777778,\"#fb9f3a\"],[0.8888888888888888,\"#fdca26\"],[1.0,\"#f0f921\"]]},\"colorway\":[\"#636efa\",\"#EF553B\",\"#00cc96\",\"#ab63fa\",\"#FFA15A\",\"#19d3f3\",\"#FF6692\",\"#B6E880\",\"#FF97FF\",\"#FECB52\"],\"font\":{\"color\":\"#2a3f5f\"},\"geo\":{\"bgcolor\":\"white\",\"lakecolor\":\"white\",\"landcolor\":\"#E5ECF6\",\"showlakes\":true,\"showland\":true,\"subunitcolor\":\"white\"},\"hoverlabel\":{\"align\":\"left\"},\"hovermode\":\"closest\",\"mapbox\":{\"style\":\"light\"},\"paper_bgcolor\":\"white\",\"plot_bgcolor\":\"#E5ECF6\",\"polar\":{\"angularaxis\":{\"gridcolor\":\"white\",\"linecolor\":\"white\",\"ticks\":\"\"},\"bgcolor\":\"#E5ECF6\",\"radialaxis\":{\"gridcolor\":\"white\",\"linecolor\":\"white\",\"ticks\":\"\"}},\"scene\":{\"xaxis\":{\"backgroundcolor\":\"#E5ECF6\",\"gridcolor\":\"white\",\"gridwidth\":2,\"linecolor\":\"white\",\"showbackground\":true,\"ticks\":\"\",\"zerolinecolor\":\"white\"},\"yaxis\":{\"backgroundcolor\":\"#E5ECF6\",\"gridcolor\":\"white\",\"gridwidth\":2,\"linecolor\":\"white\",\"showbackground\":true,\"ticks\":\"\",\"zerolinecolor\":\"white\"},\"zaxis\":{\"backgroundcolor\":\"#E5ECF6\",\"gridcolor\":\"white\",\"gridwidth\":2,\"linecolor\":\"white\",\"showbackground\":true,\"ticks\":\"\",\"zerolinecolor\":\"white\"}},\"shapedefaults\":{\"line\":{\"color\":\"#2a3f5f\"}},\"ternary\":{\"aaxis\":{\"gridcolor\":\"white\",\"linecolor\":\"white\",\"ticks\":\"\"},\"baxis\":{\"gridcolor\":\"white\",\"linecolor\":\"white\",\"ticks\":\"\"},\"bgcolor\":\"#E5ECF6\",\"caxis\":{\"gridcolor\":\"white\",\"linecolor\":\"white\",\"ticks\":\"\"}},\"title\":{\"x\":0.05},\"xaxis\":{\"automargin\":true,\"gridcolor\":\"white\",\"linecolor\":\"white\",\"ticks\":\"\",\"title\":{\"standoff\":15},\"zerolinecolor\":\"white\",\"zerolinewidth\":2},\"yaxis\":{\"automargin\":true,\"gridcolor\":\"white\",\"linecolor\":\"white\",\"ticks\":\"\",\"title\":{\"standoff\":15},\"zerolinecolor\":\"white\",\"zerolinewidth\":2}}},\"title\":{\"font\":{\"color\":\"#4D5663\"}},\"xaxis\":{\"gridcolor\":\"#E1E5ED\",\"showgrid\":true,\"tickfont\":{\"color\":\"#4D5663\"},\"title\":{\"font\":{\"color\":\"#4D5663\"},\"text\":\"\"},\"zerolinecolor\":\"#E1E5ED\"},\"yaxis\":{\"gridcolor\":\"#E1E5ED\",\"showgrid\":true,\"tickfont\":{\"color\":\"#4D5663\"},\"title\":{\"font\":{\"color\":\"#4D5663\"},\"text\":\"\"},\"zerolinecolor\":\"#E1E5ED\"}},                        {\"showLink\": true, \"linkText\": \"Export to plot.ly\", \"plotlyServerURL\": \"https://plot.ly\", \"responsive\": true}                    ).then(function(){\n",
       "                            \n",
       "var gd = document.getElementById('7b9bf4a6-0121-42fb-a42b-bfee99dc6537');\n",
       "var x = new MutationObserver(function (mutations, observer) {{\n",
       "        var display = window.getComputedStyle(gd).display;\n",
       "        if (!display || display === 'none') {{\n",
       "            console.log([gd, 'removed!']);\n",
       "            Plotly.purge(gd);\n",
       "            observer.disconnect();\n",
       "        }}\n",
       "}});\n",
       "\n",
       "// Listen for the removal of the full notebook cells\n",
       "var notebookContainer = gd.closest('#notebook-container');\n",
       "if (notebookContainer) {{\n",
       "    x.observe(notebookContainer, {childList: true});\n",
       "}}\n",
       "\n",
       "// Listen for the clearing of the current output cell\n",
       "var outputEl = gd.closest('.output');\n",
       "if (outputEl) {{\n",
       "    x.observe(outputEl, {childList: true});\n",
       "}}\n",
       "\n",
       "                        })                };                });            </script>        </div>"
      ]
     },
     "metadata": {},
     "output_type": "display_data"
    }
   ],
   "source": [
    "df.iplot(kind='hist',bins=10)"
   ]
  },
  {
   "cell_type": "code",
   "execution_count": 57,
   "metadata": {},
   "outputs": [
    {
     "data": {
      "application/vnd.plotly.v1+json": {
       "config": {
        "linkText": "Export to plot.ly",
        "plotlyServerURL": "https://plot.ly",
        "showLink": true
       },
       "data": [
        {
         "histfunc": "count",
         "histnorm": "",
         "marker": {
          "color": "rgba(255, 153, 51, 1.0)",
          "line": {
           "color": "#4D5663",
           "width": 1.3
          }
         },
         "name": "A",
         "opacity": 0.8,
         "orientation": "v",
         "type": "histogram",
         "x": [
          -0.6237268104686525,
          1.274572752369918,
          1.2855856084667923,
          0.4780921393755692,
          0.34494324406716476,
          -0.6405949323178967,
          -0.23348553233512562,
          0.17813370617579363,
          -0.7673268343683513,
          0.6579796347779423,
          0.09150439440134266,
          -0.3202194087654672,
          -0.7198822372283044,
          -0.03040259488005372,
          1.130130891132435,
          -1.3944379204410033,
          1.8055147559922298,
          -1.9857070195145679,
          1.4470767837214011,
          1.2874355830663946,
          0.696433594308047,
          2.404825719871125,
          -0.9623858314433245,
          -0.1859132142492279,
          0.03170213208913351,
          0.5002634060080197,
          1.4787083705078896,
          0.7458816130279491,
          0.3594135831219899,
          -1.2275883098721305,
          -0.03238291414533404,
          -0.15198417429647754,
          -0.8830153029958461,
          -0.8132224851313794,
          -2.0501610155245906,
          -0.9041899883149012,
          2.178167424721099,
          0.286622228389137,
          1.075573863823262,
          -0.4356904238305605,
          -1.0651750876267727,
          -0.0028056950631574658,
          -0.49382633776458307,
          -1.3147464271320535,
          -0.08989013325516612,
          -0.7042291895417842,
          -0.36343888412820746,
          0.333312240811528,
          1.0876510344408286,
          -0.3062546243441566,
          0.5660085135696187,
          0.09294517023552899,
          0.1894174818824277,
          0.04080039057265011,
          1.9675892925427019,
          -1.301768091588984,
          1.3152747666891773,
          0.005160869784432948,
          1.462520086249543,
          0.23850033626882083,
          0.8276718102531865,
          0.7004459393770409,
          0.19721486412706607,
          1.352394056400812,
          -1.5484023795619661,
          -0.22703321615797586,
          0.38543157811012896,
          0.8648956881612846,
          0.11555970092743817,
          0.24377042358437961,
          -0.8907934979824191,
          -0.41298058093838874,
          0.08772890141429637,
          -0.07976871061424609,
          0.2956966147265074,
          0.004051788741819877,
          -0.21232058552429844,
          -1.644617144448248,
          0.9817767416421945,
          -0.4355636648375388,
          -0.5358800350351557,
          0.2686898414179787,
          -1.7857386894657712,
          0.16534194227863233,
          1.6237878884244912,
          0.940607078882582,
          0.21777436019505278,
          1.2675257874568937,
          -1.1924645795499464,
          -1.0024359732972687,
          -0.9049278274834502,
          2.1992791381619425,
          -0.10497720054729366,
          -0.4905151303510943,
          -0.6425792587255553,
          0.5835158348888574,
          0.1531735913687253,
          1.2239349589688424,
          -0.03703710548486216,
          -0.2791575018844413
         ]
        }
       ],
       "layout": {
        "barmode": "overlay",
        "legend": {
         "bgcolor": "#F5F6F9",
         "font": {
          "color": "#4D5663"
         }
        },
        "paper_bgcolor": "#F5F6F9",
        "plot_bgcolor": "#F5F6F9",
        "template": {
         "data": {
          "bar": [
           {
            "error_x": {
             "color": "#2a3f5f"
            },
            "error_y": {
             "color": "#2a3f5f"
            },
            "marker": {
             "line": {
              "color": "#E5ECF6",
              "width": 0.5
             },
             "pattern": {
              "fillmode": "overlay",
              "size": 10,
              "solidity": 0.2
             }
            },
            "type": "bar"
           }
          ],
          "barpolar": [
           {
            "marker": {
             "line": {
              "color": "#E5ECF6",
              "width": 0.5
             },
             "pattern": {
              "fillmode": "overlay",
              "size": 10,
              "solidity": 0.2
             }
            },
            "type": "barpolar"
           }
          ],
          "carpet": [
           {
            "aaxis": {
             "endlinecolor": "#2a3f5f",
             "gridcolor": "white",
             "linecolor": "white",
             "minorgridcolor": "white",
             "startlinecolor": "#2a3f5f"
            },
            "baxis": {
             "endlinecolor": "#2a3f5f",
             "gridcolor": "white",
             "linecolor": "white",
             "minorgridcolor": "white",
             "startlinecolor": "#2a3f5f"
            },
            "type": "carpet"
           }
          ],
          "choropleth": [
           {
            "colorbar": {
             "outlinewidth": 0,
             "ticks": ""
            },
            "type": "choropleth"
           }
          ],
          "contour": [
           {
            "colorbar": {
             "outlinewidth": 0,
             "ticks": ""
            },
            "colorscale": [
             [
              0,
              "#0d0887"
             ],
             [
              0.1111111111111111,
              "#46039f"
             ],
             [
              0.2222222222222222,
              "#7201a8"
             ],
             [
              0.3333333333333333,
              "#9c179e"
             ],
             [
              0.4444444444444444,
              "#bd3786"
             ],
             [
              0.5555555555555556,
              "#d8576b"
             ],
             [
              0.6666666666666666,
              "#ed7953"
             ],
             [
              0.7777777777777778,
              "#fb9f3a"
             ],
             [
              0.8888888888888888,
              "#fdca26"
             ],
             [
              1,
              "#f0f921"
             ]
            ],
            "type": "contour"
           }
          ],
          "contourcarpet": [
           {
            "colorbar": {
             "outlinewidth": 0,
             "ticks": ""
            },
            "type": "contourcarpet"
           }
          ],
          "heatmap": [
           {
            "colorbar": {
             "outlinewidth": 0,
             "ticks": ""
            },
            "colorscale": [
             [
              0,
              "#0d0887"
             ],
             [
              0.1111111111111111,
              "#46039f"
             ],
             [
              0.2222222222222222,
              "#7201a8"
             ],
             [
              0.3333333333333333,
              "#9c179e"
             ],
             [
              0.4444444444444444,
              "#bd3786"
             ],
             [
              0.5555555555555556,
              "#d8576b"
             ],
             [
              0.6666666666666666,
              "#ed7953"
             ],
             [
              0.7777777777777778,
              "#fb9f3a"
             ],
             [
              0.8888888888888888,
              "#fdca26"
             ],
             [
              1,
              "#f0f921"
             ]
            ],
            "type": "heatmap"
           }
          ],
          "heatmapgl": [
           {
            "colorbar": {
             "outlinewidth": 0,
             "ticks": ""
            },
            "colorscale": [
             [
              0,
              "#0d0887"
             ],
             [
              0.1111111111111111,
              "#46039f"
             ],
             [
              0.2222222222222222,
              "#7201a8"
             ],
             [
              0.3333333333333333,
              "#9c179e"
             ],
             [
              0.4444444444444444,
              "#bd3786"
             ],
             [
              0.5555555555555556,
              "#d8576b"
             ],
             [
              0.6666666666666666,
              "#ed7953"
             ],
             [
              0.7777777777777778,
              "#fb9f3a"
             ],
             [
              0.8888888888888888,
              "#fdca26"
             ],
             [
              1,
              "#f0f921"
             ]
            ],
            "type": "heatmapgl"
           }
          ],
          "histogram": [
           {
            "marker": {
             "pattern": {
              "fillmode": "overlay",
              "size": 10,
              "solidity": 0.2
             }
            },
            "type": "histogram"
           }
          ],
          "histogram2d": [
           {
            "colorbar": {
             "outlinewidth": 0,
             "ticks": ""
            },
            "colorscale": [
             [
              0,
              "#0d0887"
             ],
             [
              0.1111111111111111,
              "#46039f"
             ],
             [
              0.2222222222222222,
              "#7201a8"
             ],
             [
              0.3333333333333333,
              "#9c179e"
             ],
             [
              0.4444444444444444,
              "#bd3786"
             ],
             [
              0.5555555555555556,
              "#d8576b"
             ],
             [
              0.6666666666666666,
              "#ed7953"
             ],
             [
              0.7777777777777778,
              "#fb9f3a"
             ],
             [
              0.8888888888888888,
              "#fdca26"
             ],
             [
              1,
              "#f0f921"
             ]
            ],
            "type": "histogram2d"
           }
          ],
          "histogram2dcontour": [
           {
            "colorbar": {
             "outlinewidth": 0,
             "ticks": ""
            },
            "colorscale": [
             [
              0,
              "#0d0887"
             ],
             [
              0.1111111111111111,
              "#46039f"
             ],
             [
              0.2222222222222222,
              "#7201a8"
             ],
             [
              0.3333333333333333,
              "#9c179e"
             ],
             [
              0.4444444444444444,
              "#bd3786"
             ],
             [
              0.5555555555555556,
              "#d8576b"
             ],
             [
              0.6666666666666666,
              "#ed7953"
             ],
             [
              0.7777777777777778,
              "#fb9f3a"
             ],
             [
              0.8888888888888888,
              "#fdca26"
             ],
             [
              1,
              "#f0f921"
             ]
            ],
            "type": "histogram2dcontour"
           }
          ],
          "mesh3d": [
           {
            "colorbar": {
             "outlinewidth": 0,
             "ticks": ""
            },
            "type": "mesh3d"
           }
          ],
          "parcoords": [
           {
            "line": {
             "colorbar": {
              "outlinewidth": 0,
              "ticks": ""
             }
            },
            "type": "parcoords"
           }
          ],
          "pie": [
           {
            "automargin": true,
            "type": "pie"
           }
          ],
          "scatter": [
           {
            "fillpattern": {
             "fillmode": "overlay",
             "size": 10,
             "solidity": 0.2
            },
            "type": "scatter"
           }
          ],
          "scatter3d": [
           {
            "line": {
             "colorbar": {
              "outlinewidth": 0,
              "ticks": ""
             }
            },
            "marker": {
             "colorbar": {
              "outlinewidth": 0,
              "ticks": ""
             }
            },
            "type": "scatter3d"
           }
          ],
          "scattercarpet": [
           {
            "marker": {
             "colorbar": {
              "outlinewidth": 0,
              "ticks": ""
             }
            },
            "type": "scattercarpet"
           }
          ],
          "scattergeo": [
           {
            "marker": {
             "colorbar": {
              "outlinewidth": 0,
              "ticks": ""
             }
            },
            "type": "scattergeo"
           }
          ],
          "scattergl": [
           {
            "marker": {
             "colorbar": {
              "outlinewidth": 0,
              "ticks": ""
             }
            },
            "type": "scattergl"
           }
          ],
          "scattermapbox": [
           {
            "marker": {
             "colorbar": {
              "outlinewidth": 0,
              "ticks": ""
             }
            },
            "type": "scattermapbox"
           }
          ],
          "scatterpolar": [
           {
            "marker": {
             "colorbar": {
              "outlinewidth": 0,
              "ticks": ""
             }
            },
            "type": "scatterpolar"
           }
          ],
          "scatterpolargl": [
           {
            "marker": {
             "colorbar": {
              "outlinewidth": 0,
              "ticks": ""
             }
            },
            "type": "scatterpolargl"
           }
          ],
          "scatterternary": [
           {
            "marker": {
             "colorbar": {
              "outlinewidth": 0,
              "ticks": ""
             }
            },
            "type": "scatterternary"
           }
          ],
          "surface": [
           {
            "colorbar": {
             "outlinewidth": 0,
             "ticks": ""
            },
            "colorscale": [
             [
              0,
              "#0d0887"
             ],
             [
              0.1111111111111111,
              "#46039f"
             ],
             [
              0.2222222222222222,
              "#7201a8"
             ],
             [
              0.3333333333333333,
              "#9c179e"
             ],
             [
              0.4444444444444444,
              "#bd3786"
             ],
             [
              0.5555555555555556,
              "#d8576b"
             ],
             [
              0.6666666666666666,
              "#ed7953"
             ],
             [
              0.7777777777777778,
              "#fb9f3a"
             ],
             [
              0.8888888888888888,
              "#fdca26"
             ],
             [
              1,
              "#f0f921"
             ]
            ],
            "type": "surface"
           }
          ],
          "table": [
           {
            "cells": {
             "fill": {
              "color": "#EBF0F8"
             },
             "line": {
              "color": "white"
             }
            },
            "header": {
             "fill": {
              "color": "#C8D4E3"
             },
             "line": {
              "color": "white"
             }
            },
            "type": "table"
           }
          ]
         },
         "layout": {
          "annotationdefaults": {
           "arrowcolor": "#2a3f5f",
           "arrowhead": 0,
           "arrowwidth": 1
          },
          "autotypenumbers": "strict",
          "coloraxis": {
           "colorbar": {
            "outlinewidth": 0,
            "ticks": ""
           }
          },
          "colorscale": {
           "diverging": [
            [
             0,
             "#8e0152"
            ],
            [
             0.1,
             "#c51b7d"
            ],
            [
             0.2,
             "#de77ae"
            ],
            [
             0.3,
             "#f1b6da"
            ],
            [
             0.4,
             "#fde0ef"
            ],
            [
             0.5,
             "#f7f7f7"
            ],
            [
             0.6,
             "#e6f5d0"
            ],
            [
             0.7,
             "#b8e186"
            ],
            [
             0.8,
             "#7fbc41"
            ],
            [
             0.9,
             "#4d9221"
            ],
            [
             1,
             "#276419"
            ]
           ],
           "sequential": [
            [
             0,
             "#0d0887"
            ],
            [
             0.1111111111111111,
             "#46039f"
            ],
            [
             0.2222222222222222,
             "#7201a8"
            ],
            [
             0.3333333333333333,
             "#9c179e"
            ],
            [
             0.4444444444444444,
             "#bd3786"
            ],
            [
             0.5555555555555556,
             "#d8576b"
            ],
            [
             0.6666666666666666,
             "#ed7953"
            ],
            [
             0.7777777777777778,
             "#fb9f3a"
            ],
            [
             0.8888888888888888,
             "#fdca26"
            ],
            [
             1,
             "#f0f921"
            ]
           ],
           "sequentialminus": [
            [
             0,
             "#0d0887"
            ],
            [
             0.1111111111111111,
             "#46039f"
            ],
            [
             0.2222222222222222,
             "#7201a8"
            ],
            [
             0.3333333333333333,
             "#9c179e"
            ],
            [
             0.4444444444444444,
             "#bd3786"
            ],
            [
             0.5555555555555556,
             "#d8576b"
            ],
            [
             0.6666666666666666,
             "#ed7953"
            ],
            [
             0.7777777777777778,
             "#fb9f3a"
            ],
            [
             0.8888888888888888,
             "#fdca26"
            ],
            [
             1,
             "#f0f921"
            ]
           ]
          },
          "colorway": [
           "#636efa",
           "#EF553B",
           "#00cc96",
           "#ab63fa",
           "#FFA15A",
           "#19d3f3",
           "#FF6692",
           "#B6E880",
           "#FF97FF",
           "#FECB52"
          ],
          "font": {
           "color": "#2a3f5f"
          },
          "geo": {
           "bgcolor": "white",
           "lakecolor": "white",
           "landcolor": "#E5ECF6",
           "showlakes": true,
           "showland": true,
           "subunitcolor": "white"
          },
          "hoverlabel": {
           "align": "left"
          },
          "hovermode": "closest",
          "mapbox": {
           "style": "light"
          },
          "paper_bgcolor": "white",
          "plot_bgcolor": "#E5ECF6",
          "polar": {
           "angularaxis": {
            "gridcolor": "white",
            "linecolor": "white",
            "ticks": ""
           },
           "bgcolor": "#E5ECF6",
           "radialaxis": {
            "gridcolor": "white",
            "linecolor": "white",
            "ticks": ""
           }
          },
          "scene": {
           "xaxis": {
            "backgroundcolor": "#E5ECF6",
            "gridcolor": "white",
            "gridwidth": 2,
            "linecolor": "white",
            "showbackground": true,
            "ticks": "",
            "zerolinecolor": "white"
           },
           "yaxis": {
            "backgroundcolor": "#E5ECF6",
            "gridcolor": "white",
            "gridwidth": 2,
            "linecolor": "white",
            "showbackground": true,
            "ticks": "",
            "zerolinecolor": "white"
           },
           "zaxis": {
            "backgroundcolor": "#E5ECF6",
            "gridcolor": "white",
            "gridwidth": 2,
            "linecolor": "white",
            "showbackground": true,
            "ticks": "",
            "zerolinecolor": "white"
           }
          },
          "shapedefaults": {
           "line": {
            "color": "#2a3f5f"
           }
          },
          "ternary": {
           "aaxis": {
            "gridcolor": "white",
            "linecolor": "white",
            "ticks": ""
           },
           "baxis": {
            "gridcolor": "white",
            "linecolor": "white",
            "ticks": ""
           },
           "bgcolor": "#E5ECF6",
           "caxis": {
            "gridcolor": "white",
            "linecolor": "white",
            "ticks": ""
           }
          },
          "title": {
           "x": 0.05
          },
          "xaxis": {
           "automargin": true,
           "gridcolor": "white",
           "linecolor": "white",
           "ticks": "",
           "title": {
            "standoff": 15
           },
           "zerolinecolor": "white",
           "zerolinewidth": 2
          },
          "yaxis": {
           "automargin": true,
           "gridcolor": "white",
           "linecolor": "white",
           "ticks": "",
           "title": {
            "standoff": 15
           },
           "zerolinecolor": "white",
           "zerolinewidth": 2
          }
         }
        },
        "title": {
         "font": {
          "color": "#4D5663"
         }
        },
        "xaxis": {
         "gridcolor": "#E1E5ED",
         "showgrid": true,
         "tickfont": {
          "color": "#4D5663"
         },
         "title": {
          "font": {
           "color": "#4D5663"
          },
          "text": ""
         },
         "zerolinecolor": "#E1E5ED"
        },
        "yaxis": {
         "gridcolor": "#E1E5ED",
         "showgrid": true,
         "tickfont": {
          "color": "#4D5663"
         },
         "title": {
          "font": {
           "color": "#4D5663"
          },
          "text": ""
         },
         "zerolinecolor": "#E1E5ED"
        }
       }
      },
      "text/html": [
       "<div>                            <div id=\"eb2d9ccd-f1af-43d7-b233-e56dbc7feb78\" class=\"plotly-graph-div\" style=\"height:525px; width:100%;\"></div>            <script type=\"text/javascript\">                require([\"plotly\"], function(Plotly) {                    window.PLOTLYENV=window.PLOTLYENV || {};\n",
       "                    window.PLOTLYENV.BASE_URL='https://plot.ly';                                    if (document.getElementById(\"eb2d9ccd-f1af-43d7-b233-e56dbc7feb78\")) {                    Plotly.newPlot(                        \"eb2d9ccd-f1af-43d7-b233-e56dbc7feb78\",                        [{\"histfunc\":\"count\",\"histnorm\":\"\",\"marker\":{\"color\":\"rgba(255, 153, 51, 1.0)\",\"line\":{\"color\":\"#4D5663\",\"width\":1.3}},\"name\":\"A\",\"opacity\":0.8,\"orientation\":\"v\",\"x\":[-0.6237268104686525,1.274572752369918,1.2855856084667923,0.4780921393755692,0.34494324406716476,-0.6405949323178967,-0.23348553233512562,0.17813370617579363,-0.7673268343683513,0.6579796347779423,0.09150439440134266,-0.3202194087654672,-0.7198822372283044,-0.03040259488005372,1.130130891132435,-1.3944379204410033,1.8055147559922298,-1.9857070195145679,1.4470767837214011,1.2874355830663946,0.696433594308047,2.404825719871125,-0.9623858314433245,-0.1859132142492279,0.03170213208913351,0.5002634060080197,1.4787083705078896,0.7458816130279491,0.3594135831219899,-1.2275883098721305,-0.03238291414533404,-0.15198417429647754,-0.8830153029958461,-0.8132224851313794,-2.0501610155245906,-0.9041899883149012,2.178167424721099,0.286622228389137,1.075573863823262,-0.4356904238305605,-1.0651750876267727,-0.0028056950631574658,-0.49382633776458307,-1.3147464271320535,-0.08989013325516612,-0.7042291895417842,-0.36343888412820746,0.333312240811528,1.0876510344408286,-0.3062546243441566,0.5660085135696187,0.09294517023552899,0.1894174818824277,0.04080039057265011,1.9675892925427019,-1.301768091588984,1.3152747666891773,0.005160869784432948,1.462520086249543,0.23850033626882083,0.8276718102531865,0.7004459393770409,0.19721486412706607,1.352394056400812,-1.5484023795619661,-0.22703321615797586,0.38543157811012896,0.8648956881612846,0.11555970092743817,0.24377042358437961,-0.8907934979824191,-0.41298058093838874,0.08772890141429637,-0.07976871061424609,0.2956966147265074,0.004051788741819877,-0.21232058552429844,-1.644617144448248,0.9817767416421945,-0.4355636648375388,-0.5358800350351557,0.2686898414179787,-1.7857386894657712,0.16534194227863233,1.6237878884244912,0.940607078882582,0.21777436019505278,1.2675257874568937,-1.1924645795499464,-1.0024359732972687,-0.9049278274834502,2.1992791381619425,-0.10497720054729366,-0.4905151303510943,-0.6425792587255553,0.5835158348888574,0.1531735913687253,1.2239349589688424,-0.03703710548486216,-0.2791575018844413],\"type\":\"histogram\"}],                        {\"barmode\":\"overlay\",\"legend\":{\"bgcolor\":\"#F5F6F9\",\"font\":{\"color\":\"#4D5663\"}},\"paper_bgcolor\":\"#F5F6F9\",\"plot_bgcolor\":\"#F5F6F9\",\"template\":{\"data\":{\"barpolar\":[{\"marker\":{\"line\":{\"color\":\"#E5ECF6\",\"width\":0.5},\"pattern\":{\"fillmode\":\"overlay\",\"size\":10,\"solidity\":0.2}},\"type\":\"barpolar\"}],\"bar\":[{\"error_x\":{\"color\":\"#2a3f5f\"},\"error_y\":{\"color\":\"#2a3f5f\"},\"marker\":{\"line\":{\"color\":\"#E5ECF6\",\"width\":0.5},\"pattern\":{\"fillmode\":\"overlay\",\"size\":10,\"solidity\":0.2}},\"type\":\"bar\"}],\"carpet\":[{\"aaxis\":{\"endlinecolor\":\"#2a3f5f\",\"gridcolor\":\"white\",\"linecolor\":\"white\",\"minorgridcolor\":\"white\",\"startlinecolor\":\"#2a3f5f\"},\"baxis\":{\"endlinecolor\":\"#2a3f5f\",\"gridcolor\":\"white\",\"linecolor\":\"white\",\"minorgridcolor\":\"white\",\"startlinecolor\":\"#2a3f5f\"},\"type\":\"carpet\"}],\"choropleth\":[{\"colorbar\":{\"outlinewidth\":0,\"ticks\":\"\"},\"type\":\"choropleth\"}],\"contourcarpet\":[{\"colorbar\":{\"outlinewidth\":0,\"ticks\":\"\"},\"type\":\"contourcarpet\"}],\"contour\":[{\"colorbar\":{\"outlinewidth\":0,\"ticks\":\"\"},\"colorscale\":[[0.0,\"#0d0887\"],[0.1111111111111111,\"#46039f\"],[0.2222222222222222,\"#7201a8\"],[0.3333333333333333,\"#9c179e\"],[0.4444444444444444,\"#bd3786\"],[0.5555555555555556,\"#d8576b\"],[0.6666666666666666,\"#ed7953\"],[0.7777777777777778,\"#fb9f3a\"],[0.8888888888888888,\"#fdca26\"],[1.0,\"#f0f921\"]],\"type\":\"contour\"}],\"heatmapgl\":[{\"colorbar\":{\"outlinewidth\":0,\"ticks\":\"\"},\"colorscale\":[[0.0,\"#0d0887\"],[0.1111111111111111,\"#46039f\"],[0.2222222222222222,\"#7201a8\"],[0.3333333333333333,\"#9c179e\"],[0.4444444444444444,\"#bd3786\"],[0.5555555555555556,\"#d8576b\"],[0.6666666666666666,\"#ed7953\"],[0.7777777777777778,\"#fb9f3a\"],[0.8888888888888888,\"#fdca26\"],[1.0,\"#f0f921\"]],\"type\":\"heatmapgl\"}],\"heatmap\":[{\"colorbar\":{\"outlinewidth\":0,\"ticks\":\"\"},\"colorscale\":[[0.0,\"#0d0887\"],[0.1111111111111111,\"#46039f\"],[0.2222222222222222,\"#7201a8\"],[0.3333333333333333,\"#9c179e\"],[0.4444444444444444,\"#bd3786\"],[0.5555555555555556,\"#d8576b\"],[0.6666666666666666,\"#ed7953\"],[0.7777777777777778,\"#fb9f3a\"],[0.8888888888888888,\"#fdca26\"],[1.0,\"#f0f921\"]],\"type\":\"heatmap\"}],\"histogram2dcontour\":[{\"colorbar\":{\"outlinewidth\":0,\"ticks\":\"\"},\"colorscale\":[[0.0,\"#0d0887\"],[0.1111111111111111,\"#46039f\"],[0.2222222222222222,\"#7201a8\"],[0.3333333333333333,\"#9c179e\"],[0.4444444444444444,\"#bd3786\"],[0.5555555555555556,\"#d8576b\"],[0.6666666666666666,\"#ed7953\"],[0.7777777777777778,\"#fb9f3a\"],[0.8888888888888888,\"#fdca26\"],[1.0,\"#f0f921\"]],\"type\":\"histogram2dcontour\"}],\"histogram2d\":[{\"colorbar\":{\"outlinewidth\":0,\"ticks\":\"\"},\"colorscale\":[[0.0,\"#0d0887\"],[0.1111111111111111,\"#46039f\"],[0.2222222222222222,\"#7201a8\"],[0.3333333333333333,\"#9c179e\"],[0.4444444444444444,\"#bd3786\"],[0.5555555555555556,\"#d8576b\"],[0.6666666666666666,\"#ed7953\"],[0.7777777777777778,\"#fb9f3a\"],[0.8888888888888888,\"#fdca26\"],[1.0,\"#f0f921\"]],\"type\":\"histogram2d\"}],\"histogram\":[{\"marker\":{\"pattern\":{\"fillmode\":\"overlay\",\"size\":10,\"solidity\":0.2}},\"type\":\"histogram\"}],\"mesh3d\":[{\"colorbar\":{\"outlinewidth\":0,\"ticks\":\"\"},\"type\":\"mesh3d\"}],\"parcoords\":[{\"line\":{\"colorbar\":{\"outlinewidth\":0,\"ticks\":\"\"}},\"type\":\"parcoords\"}],\"pie\":[{\"automargin\":true,\"type\":\"pie\"}],\"scatter3d\":[{\"line\":{\"colorbar\":{\"outlinewidth\":0,\"ticks\":\"\"}},\"marker\":{\"colorbar\":{\"outlinewidth\":0,\"ticks\":\"\"}},\"type\":\"scatter3d\"}],\"scattercarpet\":[{\"marker\":{\"colorbar\":{\"outlinewidth\":0,\"ticks\":\"\"}},\"type\":\"scattercarpet\"}],\"scattergeo\":[{\"marker\":{\"colorbar\":{\"outlinewidth\":0,\"ticks\":\"\"}},\"type\":\"scattergeo\"}],\"scattergl\":[{\"marker\":{\"colorbar\":{\"outlinewidth\":0,\"ticks\":\"\"}},\"type\":\"scattergl\"}],\"scattermapbox\":[{\"marker\":{\"colorbar\":{\"outlinewidth\":0,\"ticks\":\"\"}},\"type\":\"scattermapbox\"}],\"scatterpolargl\":[{\"marker\":{\"colorbar\":{\"outlinewidth\":0,\"ticks\":\"\"}},\"type\":\"scatterpolargl\"}],\"scatterpolar\":[{\"marker\":{\"colorbar\":{\"outlinewidth\":0,\"ticks\":\"\"}},\"type\":\"scatterpolar\"}],\"scatter\":[{\"fillpattern\":{\"fillmode\":\"overlay\",\"size\":10,\"solidity\":0.2},\"type\":\"scatter\"}],\"scatterternary\":[{\"marker\":{\"colorbar\":{\"outlinewidth\":0,\"ticks\":\"\"}},\"type\":\"scatterternary\"}],\"surface\":[{\"colorbar\":{\"outlinewidth\":0,\"ticks\":\"\"},\"colorscale\":[[0.0,\"#0d0887\"],[0.1111111111111111,\"#46039f\"],[0.2222222222222222,\"#7201a8\"],[0.3333333333333333,\"#9c179e\"],[0.4444444444444444,\"#bd3786\"],[0.5555555555555556,\"#d8576b\"],[0.6666666666666666,\"#ed7953\"],[0.7777777777777778,\"#fb9f3a\"],[0.8888888888888888,\"#fdca26\"],[1.0,\"#f0f921\"]],\"type\":\"surface\"}],\"table\":[{\"cells\":{\"fill\":{\"color\":\"#EBF0F8\"},\"line\":{\"color\":\"white\"}},\"header\":{\"fill\":{\"color\":\"#C8D4E3\"},\"line\":{\"color\":\"white\"}},\"type\":\"table\"}]},\"layout\":{\"annotationdefaults\":{\"arrowcolor\":\"#2a3f5f\",\"arrowhead\":0,\"arrowwidth\":1},\"autotypenumbers\":\"strict\",\"coloraxis\":{\"colorbar\":{\"outlinewidth\":0,\"ticks\":\"\"}},\"colorscale\":{\"diverging\":[[0,\"#8e0152\"],[0.1,\"#c51b7d\"],[0.2,\"#de77ae\"],[0.3,\"#f1b6da\"],[0.4,\"#fde0ef\"],[0.5,\"#f7f7f7\"],[0.6,\"#e6f5d0\"],[0.7,\"#b8e186\"],[0.8,\"#7fbc41\"],[0.9,\"#4d9221\"],[1,\"#276419\"]],\"sequential\":[[0.0,\"#0d0887\"],[0.1111111111111111,\"#46039f\"],[0.2222222222222222,\"#7201a8\"],[0.3333333333333333,\"#9c179e\"],[0.4444444444444444,\"#bd3786\"],[0.5555555555555556,\"#d8576b\"],[0.6666666666666666,\"#ed7953\"],[0.7777777777777778,\"#fb9f3a\"],[0.8888888888888888,\"#fdca26\"],[1.0,\"#f0f921\"]],\"sequentialminus\":[[0.0,\"#0d0887\"],[0.1111111111111111,\"#46039f\"],[0.2222222222222222,\"#7201a8\"],[0.3333333333333333,\"#9c179e\"],[0.4444444444444444,\"#bd3786\"],[0.5555555555555556,\"#d8576b\"],[0.6666666666666666,\"#ed7953\"],[0.7777777777777778,\"#fb9f3a\"],[0.8888888888888888,\"#fdca26\"],[1.0,\"#f0f921\"]]},\"colorway\":[\"#636efa\",\"#EF553B\",\"#00cc96\",\"#ab63fa\",\"#FFA15A\",\"#19d3f3\",\"#FF6692\",\"#B6E880\",\"#FF97FF\",\"#FECB52\"],\"font\":{\"color\":\"#2a3f5f\"},\"geo\":{\"bgcolor\":\"white\",\"lakecolor\":\"white\",\"landcolor\":\"#E5ECF6\",\"showlakes\":true,\"showland\":true,\"subunitcolor\":\"white\"},\"hoverlabel\":{\"align\":\"left\"},\"hovermode\":\"closest\",\"mapbox\":{\"style\":\"light\"},\"paper_bgcolor\":\"white\",\"plot_bgcolor\":\"#E5ECF6\",\"polar\":{\"angularaxis\":{\"gridcolor\":\"white\",\"linecolor\":\"white\",\"ticks\":\"\"},\"bgcolor\":\"#E5ECF6\",\"radialaxis\":{\"gridcolor\":\"white\",\"linecolor\":\"white\",\"ticks\":\"\"}},\"scene\":{\"xaxis\":{\"backgroundcolor\":\"#E5ECF6\",\"gridcolor\":\"white\",\"gridwidth\":2,\"linecolor\":\"white\",\"showbackground\":true,\"ticks\":\"\",\"zerolinecolor\":\"white\"},\"yaxis\":{\"backgroundcolor\":\"#E5ECF6\",\"gridcolor\":\"white\",\"gridwidth\":2,\"linecolor\":\"white\",\"showbackground\":true,\"ticks\":\"\",\"zerolinecolor\":\"white\"},\"zaxis\":{\"backgroundcolor\":\"#E5ECF6\",\"gridcolor\":\"white\",\"gridwidth\":2,\"linecolor\":\"white\",\"showbackground\":true,\"ticks\":\"\",\"zerolinecolor\":\"white\"}},\"shapedefaults\":{\"line\":{\"color\":\"#2a3f5f\"}},\"ternary\":{\"aaxis\":{\"gridcolor\":\"white\",\"linecolor\":\"white\",\"ticks\":\"\"},\"baxis\":{\"gridcolor\":\"white\",\"linecolor\":\"white\",\"ticks\":\"\"},\"bgcolor\":\"#E5ECF6\",\"caxis\":{\"gridcolor\":\"white\",\"linecolor\":\"white\",\"ticks\":\"\"}},\"title\":{\"x\":0.05},\"xaxis\":{\"automargin\":true,\"gridcolor\":\"white\",\"linecolor\":\"white\",\"ticks\":\"\",\"title\":{\"standoff\":15},\"zerolinecolor\":\"white\",\"zerolinewidth\":2},\"yaxis\":{\"automargin\":true,\"gridcolor\":\"white\",\"linecolor\":\"white\",\"ticks\":\"\",\"title\":{\"standoff\":15},\"zerolinecolor\":\"white\",\"zerolinewidth\":2}}},\"title\":{\"font\":{\"color\":\"#4D5663\"}},\"xaxis\":{\"gridcolor\":\"#E1E5ED\",\"showgrid\":true,\"tickfont\":{\"color\":\"#4D5663\"},\"title\":{\"font\":{\"color\":\"#4D5663\"},\"text\":\"\"},\"zerolinecolor\":\"#E1E5ED\"},\"yaxis\":{\"gridcolor\":\"#E1E5ED\",\"showgrid\":true,\"tickfont\":{\"color\":\"#4D5663\"},\"title\":{\"font\":{\"color\":\"#4D5663\"},\"text\":\"\"},\"zerolinecolor\":\"#E1E5ED\"}},                        {\"showLink\": true, \"linkText\": \"Export to plot.ly\", \"plotlyServerURL\": \"https://plot.ly\", \"responsive\": true}                    ).then(function(){\n",
       "                            \n",
       "var gd = document.getElementById('eb2d9ccd-f1af-43d7-b233-e56dbc7feb78');\n",
       "var x = new MutationObserver(function (mutations, observer) {{\n",
       "        var display = window.getComputedStyle(gd).display;\n",
       "        if (!display || display === 'none') {{\n",
       "            console.log([gd, 'removed!']);\n",
       "            Plotly.purge(gd);\n",
       "            observer.disconnect();\n",
       "        }}\n",
       "}});\n",
       "\n",
       "// Listen for the removal of the full notebook cells\n",
       "var notebookContainer = gd.closest('#notebook-container');\n",
       "if (notebookContainer) {{\n",
       "    x.observe(notebookContainer, {childList: true});\n",
       "}}\n",
       "\n",
       "// Listen for the clearing of the current output cell\n",
       "var outputEl = gd.closest('.output');\n",
       "if (outputEl) {{\n",
       "    x.observe(outputEl, {childList: true});\n",
       "}}\n",
       "\n",
       "                        })                };                });            </script>        </div>"
      ]
     },
     "metadata": {},
     "output_type": "display_data"
    }
   ],
   "source": [
    "df['A'].iplot(kind='hist')"
   ]
  },
  {
   "cell_type": "code",
   "execution_count": 52,
   "metadata": {},
   "outputs": [],
   "source": [
    "df3=pd.DataFrame({'x':[1,2,3,4,5],'y':[10,20,30,40,10],'z':[5,4,3,2,1]})"
   ]
  },
  {
   "cell_type": "code",
   "execution_count": 53,
   "metadata": {},
   "outputs": [
    {
     "data": {
      "text/html": [
       "<div>\n",
       "<style scoped>\n",
       "    .dataframe tbody tr th:only-of-type {\n",
       "        vertical-align: middle;\n",
       "    }\n",
       "\n",
       "    .dataframe tbody tr th {\n",
       "        vertical-align: top;\n",
       "    }\n",
       "\n",
       "    .dataframe thead th {\n",
       "        text-align: right;\n",
       "    }\n",
       "</style>\n",
       "<table border=\"1\" class=\"dataframe\">\n",
       "  <thead>\n",
       "    <tr style=\"text-align: right;\">\n",
       "      <th></th>\n",
       "      <th>x</th>\n",
       "      <th>y</th>\n",
       "      <th>z</th>\n",
       "    </tr>\n",
       "  </thead>\n",
       "  <tbody>\n",
       "    <tr>\n",
       "      <th>0</th>\n",
       "      <td>1</td>\n",
       "      <td>10</td>\n",
       "      <td>5</td>\n",
       "    </tr>\n",
       "    <tr>\n",
       "      <th>1</th>\n",
       "      <td>2</td>\n",
       "      <td>20</td>\n",
       "      <td>4</td>\n",
       "    </tr>\n",
       "    <tr>\n",
       "      <th>2</th>\n",
       "      <td>3</td>\n",
       "      <td>30</td>\n",
       "      <td>3</td>\n",
       "    </tr>\n",
       "    <tr>\n",
       "      <th>3</th>\n",
       "      <td>4</td>\n",
       "      <td>40</td>\n",
       "      <td>2</td>\n",
       "    </tr>\n",
       "    <tr>\n",
       "      <th>4</th>\n",
       "      <td>5</td>\n",
       "      <td>10</td>\n",
       "      <td>1</td>\n",
       "    </tr>\n",
       "  </tbody>\n",
       "</table>\n",
       "</div>"
      ],
      "text/plain": [
       "   x   y  z\n",
       "0  1  10  5\n",
       "1  2  20  4\n",
       "2  3  30  3\n",
       "3  4  40  2\n",
       "4  5  10  1"
      ]
     },
     "execution_count": 53,
     "metadata": {},
     "output_type": "execute_result"
    }
   ],
   "source": [
    "df3"
   ]
  },
  {
   "cell_type": "markdown",
   "metadata": {},
   "source": [
    "#SURFACEPLOT"
   ]
  },
  {
   "cell_type": "code",
   "execution_count": 54,
   "metadata": {},
   "outputs": [
    {
     "data": {
      "application/vnd.plotly.v1+json": {
       "config": {
        "linkText": "Export to plot.ly",
        "plotlyServerURL": "https://plot.ly",
        "showLink": true
       },
       "data": [
        {
         "colorscale": [
          [
           0,
           "rgb(255, 153, 51)"
          ],
          [
           0.1111111111111111,
           "rgb(55, 128, 191)"
          ],
          [
           0.2222222222222222,
           "rgb(50, 171, 96)"
          ],
          [
           0.3333333333333333,
           "rgb(128, 0, 128)"
          ],
          [
           0.4444444444444444,
           "rgb(219, 64, 82)"
          ],
          [
           0.5555555555555556,
           "rgb(0, 128, 128)"
          ],
          [
           0.6666666666666666,
           "rgb(255, 255, 51)"
          ],
          [
           0.7777777777777778,
           "rgb(128, 128, 0)"
          ],
          [
           0.8888888888888888,
           "rgb(251, 128, 114)"
          ],
          [
           1,
           "rgb(128, 177, 211)"
          ]
         ],
         "type": "surface",
         "x": [
          0,
          1,
          2,
          3,
          4
         ],
         "y": [
          "x",
          "y",
          "z"
         ],
         "z": [
          [
           1,
           2,
           3,
           4,
           5
          ],
          [
           10,
           20,
           30,
           40,
           10
          ],
          [
           5,
           4,
           3,
           2,
           1
          ]
         ]
        }
       ],
       "layout": {
        "legend": {
         "bgcolor": "#F5F6F9",
         "font": {
          "color": "#4D5663"
         }
        },
        "paper_bgcolor": "#F5F6F9",
        "plot_bgcolor": "#F5F6F9",
        "template": {
         "data": {
          "bar": [
           {
            "error_x": {
             "color": "#2a3f5f"
            },
            "error_y": {
             "color": "#2a3f5f"
            },
            "marker": {
             "line": {
              "color": "#E5ECF6",
              "width": 0.5
             },
             "pattern": {
              "fillmode": "overlay",
              "size": 10,
              "solidity": 0.2
             }
            },
            "type": "bar"
           }
          ],
          "barpolar": [
           {
            "marker": {
             "line": {
              "color": "#E5ECF6",
              "width": 0.5
             },
             "pattern": {
              "fillmode": "overlay",
              "size": 10,
              "solidity": 0.2
             }
            },
            "type": "barpolar"
           }
          ],
          "carpet": [
           {
            "aaxis": {
             "endlinecolor": "#2a3f5f",
             "gridcolor": "white",
             "linecolor": "white",
             "minorgridcolor": "white",
             "startlinecolor": "#2a3f5f"
            },
            "baxis": {
             "endlinecolor": "#2a3f5f",
             "gridcolor": "white",
             "linecolor": "white",
             "minorgridcolor": "white",
             "startlinecolor": "#2a3f5f"
            },
            "type": "carpet"
           }
          ],
          "choropleth": [
           {
            "colorbar": {
             "outlinewidth": 0,
             "ticks": ""
            },
            "type": "choropleth"
           }
          ],
          "contour": [
           {
            "colorbar": {
             "outlinewidth": 0,
             "ticks": ""
            },
            "colorscale": [
             [
              0,
              "#0d0887"
             ],
             [
              0.1111111111111111,
              "#46039f"
             ],
             [
              0.2222222222222222,
              "#7201a8"
             ],
             [
              0.3333333333333333,
              "#9c179e"
             ],
             [
              0.4444444444444444,
              "#bd3786"
             ],
             [
              0.5555555555555556,
              "#d8576b"
             ],
             [
              0.6666666666666666,
              "#ed7953"
             ],
             [
              0.7777777777777778,
              "#fb9f3a"
             ],
             [
              0.8888888888888888,
              "#fdca26"
             ],
             [
              1,
              "#f0f921"
             ]
            ],
            "type": "contour"
           }
          ],
          "contourcarpet": [
           {
            "colorbar": {
             "outlinewidth": 0,
             "ticks": ""
            },
            "type": "contourcarpet"
           }
          ],
          "heatmap": [
           {
            "colorbar": {
             "outlinewidth": 0,
             "ticks": ""
            },
            "colorscale": [
             [
              0,
              "#0d0887"
             ],
             [
              0.1111111111111111,
              "#46039f"
             ],
             [
              0.2222222222222222,
              "#7201a8"
             ],
             [
              0.3333333333333333,
              "#9c179e"
             ],
             [
              0.4444444444444444,
              "#bd3786"
             ],
             [
              0.5555555555555556,
              "#d8576b"
             ],
             [
              0.6666666666666666,
              "#ed7953"
             ],
             [
              0.7777777777777778,
              "#fb9f3a"
             ],
             [
              0.8888888888888888,
              "#fdca26"
             ],
             [
              1,
              "#f0f921"
             ]
            ],
            "type": "heatmap"
           }
          ],
          "heatmapgl": [
           {
            "colorbar": {
             "outlinewidth": 0,
             "ticks": ""
            },
            "colorscale": [
             [
              0,
              "#0d0887"
             ],
             [
              0.1111111111111111,
              "#46039f"
             ],
             [
              0.2222222222222222,
              "#7201a8"
             ],
             [
              0.3333333333333333,
              "#9c179e"
             ],
             [
              0.4444444444444444,
              "#bd3786"
             ],
             [
              0.5555555555555556,
              "#d8576b"
             ],
             [
              0.6666666666666666,
              "#ed7953"
             ],
             [
              0.7777777777777778,
              "#fb9f3a"
             ],
             [
              0.8888888888888888,
              "#fdca26"
             ],
             [
              1,
              "#f0f921"
             ]
            ],
            "type": "heatmapgl"
           }
          ],
          "histogram": [
           {
            "marker": {
             "pattern": {
              "fillmode": "overlay",
              "size": 10,
              "solidity": 0.2
             }
            },
            "type": "histogram"
           }
          ],
          "histogram2d": [
           {
            "colorbar": {
             "outlinewidth": 0,
             "ticks": ""
            },
            "colorscale": [
             [
              0,
              "#0d0887"
             ],
             [
              0.1111111111111111,
              "#46039f"
             ],
             [
              0.2222222222222222,
              "#7201a8"
             ],
             [
              0.3333333333333333,
              "#9c179e"
             ],
             [
              0.4444444444444444,
              "#bd3786"
             ],
             [
              0.5555555555555556,
              "#d8576b"
             ],
             [
              0.6666666666666666,
              "#ed7953"
             ],
             [
              0.7777777777777778,
              "#fb9f3a"
             ],
             [
              0.8888888888888888,
              "#fdca26"
             ],
             [
              1,
              "#f0f921"
             ]
            ],
            "type": "histogram2d"
           }
          ],
          "histogram2dcontour": [
           {
            "colorbar": {
             "outlinewidth": 0,
             "ticks": ""
            },
            "colorscale": [
             [
              0,
              "#0d0887"
             ],
             [
              0.1111111111111111,
              "#46039f"
             ],
             [
              0.2222222222222222,
              "#7201a8"
             ],
             [
              0.3333333333333333,
              "#9c179e"
             ],
             [
              0.4444444444444444,
              "#bd3786"
             ],
             [
              0.5555555555555556,
              "#d8576b"
             ],
             [
              0.6666666666666666,
              "#ed7953"
             ],
             [
              0.7777777777777778,
              "#fb9f3a"
             ],
             [
              0.8888888888888888,
              "#fdca26"
             ],
             [
              1,
              "#f0f921"
             ]
            ],
            "type": "histogram2dcontour"
           }
          ],
          "mesh3d": [
           {
            "colorbar": {
             "outlinewidth": 0,
             "ticks": ""
            },
            "type": "mesh3d"
           }
          ],
          "parcoords": [
           {
            "line": {
             "colorbar": {
              "outlinewidth": 0,
              "ticks": ""
             }
            },
            "type": "parcoords"
           }
          ],
          "pie": [
           {
            "automargin": true,
            "type": "pie"
           }
          ],
          "scatter": [
           {
            "fillpattern": {
             "fillmode": "overlay",
             "size": 10,
             "solidity": 0.2
            },
            "type": "scatter"
           }
          ],
          "scatter3d": [
           {
            "line": {
             "colorbar": {
              "outlinewidth": 0,
              "ticks": ""
             }
            },
            "marker": {
             "colorbar": {
              "outlinewidth": 0,
              "ticks": ""
             }
            },
            "type": "scatter3d"
           }
          ],
          "scattercarpet": [
           {
            "marker": {
             "colorbar": {
              "outlinewidth": 0,
              "ticks": ""
             }
            },
            "type": "scattercarpet"
           }
          ],
          "scattergeo": [
           {
            "marker": {
             "colorbar": {
              "outlinewidth": 0,
              "ticks": ""
             }
            },
            "type": "scattergeo"
           }
          ],
          "scattergl": [
           {
            "marker": {
             "colorbar": {
              "outlinewidth": 0,
              "ticks": ""
             }
            },
            "type": "scattergl"
           }
          ],
          "scattermapbox": [
           {
            "marker": {
             "colorbar": {
              "outlinewidth": 0,
              "ticks": ""
             }
            },
            "type": "scattermapbox"
           }
          ],
          "scatterpolar": [
           {
            "marker": {
             "colorbar": {
              "outlinewidth": 0,
              "ticks": ""
             }
            },
            "type": "scatterpolar"
           }
          ],
          "scatterpolargl": [
           {
            "marker": {
             "colorbar": {
              "outlinewidth": 0,
              "ticks": ""
             }
            },
            "type": "scatterpolargl"
           }
          ],
          "scatterternary": [
           {
            "marker": {
             "colorbar": {
              "outlinewidth": 0,
              "ticks": ""
             }
            },
            "type": "scatterternary"
           }
          ],
          "surface": [
           {
            "colorbar": {
             "outlinewidth": 0,
             "ticks": ""
            },
            "colorscale": [
             [
              0,
              "#0d0887"
             ],
             [
              0.1111111111111111,
              "#46039f"
             ],
             [
              0.2222222222222222,
              "#7201a8"
             ],
             [
              0.3333333333333333,
              "#9c179e"
             ],
             [
              0.4444444444444444,
              "#bd3786"
             ],
             [
              0.5555555555555556,
              "#d8576b"
             ],
             [
              0.6666666666666666,
              "#ed7953"
             ],
             [
              0.7777777777777778,
              "#fb9f3a"
             ],
             [
              0.8888888888888888,
              "#fdca26"
             ],
             [
              1,
              "#f0f921"
             ]
            ],
            "type": "surface"
           }
          ],
          "table": [
           {
            "cells": {
             "fill": {
              "color": "#EBF0F8"
             },
             "line": {
              "color": "white"
             }
            },
            "header": {
             "fill": {
              "color": "#C8D4E3"
             },
             "line": {
              "color": "white"
             }
            },
            "type": "table"
           }
          ]
         },
         "layout": {
          "annotationdefaults": {
           "arrowcolor": "#2a3f5f",
           "arrowhead": 0,
           "arrowwidth": 1
          },
          "autotypenumbers": "strict",
          "coloraxis": {
           "colorbar": {
            "outlinewidth": 0,
            "ticks": ""
           }
          },
          "colorscale": {
           "diverging": [
            [
             0,
             "#8e0152"
            ],
            [
             0.1,
             "#c51b7d"
            ],
            [
             0.2,
             "#de77ae"
            ],
            [
             0.3,
             "#f1b6da"
            ],
            [
             0.4,
             "#fde0ef"
            ],
            [
             0.5,
             "#f7f7f7"
            ],
            [
             0.6,
             "#e6f5d0"
            ],
            [
             0.7,
             "#b8e186"
            ],
            [
             0.8,
             "#7fbc41"
            ],
            [
             0.9,
             "#4d9221"
            ],
            [
             1,
             "#276419"
            ]
           ],
           "sequential": [
            [
             0,
             "#0d0887"
            ],
            [
             0.1111111111111111,
             "#46039f"
            ],
            [
             0.2222222222222222,
             "#7201a8"
            ],
            [
             0.3333333333333333,
             "#9c179e"
            ],
            [
             0.4444444444444444,
             "#bd3786"
            ],
            [
             0.5555555555555556,
             "#d8576b"
            ],
            [
             0.6666666666666666,
             "#ed7953"
            ],
            [
             0.7777777777777778,
             "#fb9f3a"
            ],
            [
             0.8888888888888888,
             "#fdca26"
            ],
            [
             1,
             "#f0f921"
            ]
           ],
           "sequentialminus": [
            [
             0,
             "#0d0887"
            ],
            [
             0.1111111111111111,
             "#46039f"
            ],
            [
             0.2222222222222222,
             "#7201a8"
            ],
            [
             0.3333333333333333,
             "#9c179e"
            ],
            [
             0.4444444444444444,
             "#bd3786"
            ],
            [
             0.5555555555555556,
             "#d8576b"
            ],
            [
             0.6666666666666666,
             "#ed7953"
            ],
            [
             0.7777777777777778,
             "#fb9f3a"
            ],
            [
             0.8888888888888888,
             "#fdca26"
            ],
            [
             1,
             "#f0f921"
            ]
           ]
          },
          "colorway": [
           "#636efa",
           "#EF553B",
           "#00cc96",
           "#ab63fa",
           "#FFA15A",
           "#19d3f3",
           "#FF6692",
           "#B6E880",
           "#FF97FF",
           "#FECB52"
          ],
          "font": {
           "color": "#2a3f5f"
          },
          "geo": {
           "bgcolor": "white",
           "lakecolor": "white",
           "landcolor": "#E5ECF6",
           "showlakes": true,
           "showland": true,
           "subunitcolor": "white"
          },
          "hoverlabel": {
           "align": "left"
          },
          "hovermode": "closest",
          "mapbox": {
           "style": "light"
          },
          "paper_bgcolor": "white",
          "plot_bgcolor": "#E5ECF6",
          "polar": {
           "angularaxis": {
            "gridcolor": "white",
            "linecolor": "white",
            "ticks": ""
           },
           "bgcolor": "#E5ECF6",
           "radialaxis": {
            "gridcolor": "white",
            "linecolor": "white",
            "ticks": ""
           }
          },
          "scene": {
           "xaxis": {
            "backgroundcolor": "#E5ECF6",
            "gridcolor": "white",
            "gridwidth": 2,
            "linecolor": "white",
            "showbackground": true,
            "ticks": "",
            "zerolinecolor": "white"
           },
           "yaxis": {
            "backgroundcolor": "#E5ECF6",
            "gridcolor": "white",
            "gridwidth": 2,
            "linecolor": "white",
            "showbackground": true,
            "ticks": "",
            "zerolinecolor": "white"
           },
           "zaxis": {
            "backgroundcolor": "#E5ECF6",
            "gridcolor": "white",
            "gridwidth": 2,
            "linecolor": "white",
            "showbackground": true,
            "ticks": "",
            "zerolinecolor": "white"
           }
          },
          "shapedefaults": {
           "line": {
            "color": "#2a3f5f"
           }
          },
          "ternary": {
           "aaxis": {
            "gridcolor": "white",
            "linecolor": "white",
            "ticks": ""
           },
           "baxis": {
            "gridcolor": "white",
            "linecolor": "white",
            "ticks": ""
           },
           "bgcolor": "#E5ECF6",
           "caxis": {
            "gridcolor": "white",
            "linecolor": "white",
            "ticks": ""
           }
          },
          "title": {
           "x": 0.05
          },
          "xaxis": {
           "automargin": true,
           "gridcolor": "white",
           "linecolor": "white",
           "ticks": "",
           "title": {
            "standoff": 15
           },
           "zerolinecolor": "white",
           "zerolinewidth": 2
          },
          "yaxis": {
           "automargin": true,
           "gridcolor": "white",
           "linecolor": "white",
           "ticks": "",
           "title": {
            "standoff": 15
           },
           "zerolinecolor": "white",
           "zerolinewidth": 2
          }
         }
        },
        "title": {
         "font": {
          "color": "#4D5663"
         }
        },
        "xaxis": {
         "gridcolor": "#E1E5ED",
         "showgrid": true,
         "tickfont": {
          "color": "#4D5663"
         },
         "title": {
          "font": {
           "color": "#4D5663"
          },
          "text": ""
         },
         "zerolinecolor": "#E1E5ED"
        },
        "yaxis": {
         "gridcolor": "#E1E5ED",
         "showgrid": true,
         "tickfont": {
          "color": "#4D5663"
         },
         "title": {
          "font": {
           "color": "#4D5663"
          },
          "text": ""
         },
         "zerolinecolor": "#E1E5ED"
        }
       }
      },
      "text/html": [
       "<div>                            <div id=\"f9a81888-5c4f-4bdd-916e-3614f9e259e7\" class=\"plotly-graph-div\" style=\"height:525px; width:100%;\"></div>            <script type=\"text/javascript\">                require([\"plotly\"], function(Plotly) {                    window.PLOTLYENV=window.PLOTLYENV || {};\n",
       "                    window.PLOTLYENV.BASE_URL='https://plot.ly';                                    if (document.getElementById(\"f9a81888-5c4f-4bdd-916e-3614f9e259e7\")) {                    Plotly.newPlot(                        \"f9a81888-5c4f-4bdd-916e-3614f9e259e7\",                        [{\"colorscale\":[[0.0,\"rgb(255, 153, 51)\"],[0.1111111111111111,\"rgb(55, 128, 191)\"],[0.2222222222222222,\"rgb(50, 171, 96)\"],[0.3333333333333333,\"rgb(128, 0, 128)\"],[0.4444444444444444,\"rgb(219, 64, 82)\"],[0.5555555555555556,\"rgb(0, 128, 128)\"],[0.6666666666666666,\"rgb(255, 255, 51)\"],[0.7777777777777778,\"rgb(128, 128, 0)\"],[0.8888888888888888,\"rgb(251, 128, 114)\"],[1.0,\"rgb(128, 177, 211)\"]],\"x\":[0,1,2,3,4],\"y\":[\"x\",\"y\",\"z\"],\"z\":[[1,2,3,4,5],[10,20,30,40,10],[5,4,3,2,1]],\"type\":\"surface\"}],                        {\"legend\":{\"bgcolor\":\"#F5F6F9\",\"font\":{\"color\":\"#4D5663\"}},\"paper_bgcolor\":\"#F5F6F9\",\"plot_bgcolor\":\"#F5F6F9\",\"template\":{\"data\":{\"barpolar\":[{\"marker\":{\"line\":{\"color\":\"#E5ECF6\",\"width\":0.5},\"pattern\":{\"fillmode\":\"overlay\",\"size\":10,\"solidity\":0.2}},\"type\":\"barpolar\"}],\"bar\":[{\"error_x\":{\"color\":\"#2a3f5f\"},\"error_y\":{\"color\":\"#2a3f5f\"},\"marker\":{\"line\":{\"color\":\"#E5ECF6\",\"width\":0.5},\"pattern\":{\"fillmode\":\"overlay\",\"size\":10,\"solidity\":0.2}},\"type\":\"bar\"}],\"carpet\":[{\"aaxis\":{\"endlinecolor\":\"#2a3f5f\",\"gridcolor\":\"white\",\"linecolor\":\"white\",\"minorgridcolor\":\"white\",\"startlinecolor\":\"#2a3f5f\"},\"baxis\":{\"endlinecolor\":\"#2a3f5f\",\"gridcolor\":\"white\",\"linecolor\":\"white\",\"minorgridcolor\":\"white\",\"startlinecolor\":\"#2a3f5f\"},\"type\":\"carpet\"}],\"choropleth\":[{\"colorbar\":{\"outlinewidth\":0,\"ticks\":\"\"},\"type\":\"choropleth\"}],\"contourcarpet\":[{\"colorbar\":{\"outlinewidth\":0,\"ticks\":\"\"},\"type\":\"contourcarpet\"}],\"contour\":[{\"colorbar\":{\"outlinewidth\":0,\"ticks\":\"\"},\"colorscale\":[[0.0,\"#0d0887\"],[0.1111111111111111,\"#46039f\"],[0.2222222222222222,\"#7201a8\"],[0.3333333333333333,\"#9c179e\"],[0.4444444444444444,\"#bd3786\"],[0.5555555555555556,\"#d8576b\"],[0.6666666666666666,\"#ed7953\"],[0.7777777777777778,\"#fb9f3a\"],[0.8888888888888888,\"#fdca26\"],[1.0,\"#f0f921\"]],\"type\":\"contour\"}],\"heatmapgl\":[{\"colorbar\":{\"outlinewidth\":0,\"ticks\":\"\"},\"colorscale\":[[0.0,\"#0d0887\"],[0.1111111111111111,\"#46039f\"],[0.2222222222222222,\"#7201a8\"],[0.3333333333333333,\"#9c179e\"],[0.4444444444444444,\"#bd3786\"],[0.5555555555555556,\"#d8576b\"],[0.6666666666666666,\"#ed7953\"],[0.7777777777777778,\"#fb9f3a\"],[0.8888888888888888,\"#fdca26\"],[1.0,\"#f0f921\"]],\"type\":\"heatmapgl\"}],\"heatmap\":[{\"colorbar\":{\"outlinewidth\":0,\"ticks\":\"\"},\"colorscale\":[[0.0,\"#0d0887\"],[0.1111111111111111,\"#46039f\"],[0.2222222222222222,\"#7201a8\"],[0.3333333333333333,\"#9c179e\"],[0.4444444444444444,\"#bd3786\"],[0.5555555555555556,\"#d8576b\"],[0.6666666666666666,\"#ed7953\"],[0.7777777777777778,\"#fb9f3a\"],[0.8888888888888888,\"#fdca26\"],[1.0,\"#f0f921\"]],\"type\":\"heatmap\"}],\"histogram2dcontour\":[{\"colorbar\":{\"outlinewidth\":0,\"ticks\":\"\"},\"colorscale\":[[0.0,\"#0d0887\"],[0.1111111111111111,\"#46039f\"],[0.2222222222222222,\"#7201a8\"],[0.3333333333333333,\"#9c179e\"],[0.4444444444444444,\"#bd3786\"],[0.5555555555555556,\"#d8576b\"],[0.6666666666666666,\"#ed7953\"],[0.7777777777777778,\"#fb9f3a\"],[0.8888888888888888,\"#fdca26\"],[1.0,\"#f0f921\"]],\"type\":\"histogram2dcontour\"}],\"histogram2d\":[{\"colorbar\":{\"outlinewidth\":0,\"ticks\":\"\"},\"colorscale\":[[0.0,\"#0d0887\"],[0.1111111111111111,\"#46039f\"],[0.2222222222222222,\"#7201a8\"],[0.3333333333333333,\"#9c179e\"],[0.4444444444444444,\"#bd3786\"],[0.5555555555555556,\"#d8576b\"],[0.6666666666666666,\"#ed7953\"],[0.7777777777777778,\"#fb9f3a\"],[0.8888888888888888,\"#fdca26\"],[1.0,\"#f0f921\"]],\"type\":\"histogram2d\"}],\"histogram\":[{\"marker\":{\"pattern\":{\"fillmode\":\"overlay\",\"size\":10,\"solidity\":0.2}},\"type\":\"histogram\"}],\"mesh3d\":[{\"colorbar\":{\"outlinewidth\":0,\"ticks\":\"\"},\"type\":\"mesh3d\"}],\"parcoords\":[{\"line\":{\"colorbar\":{\"outlinewidth\":0,\"ticks\":\"\"}},\"type\":\"parcoords\"}],\"pie\":[{\"automargin\":true,\"type\":\"pie\"}],\"scatter3d\":[{\"line\":{\"colorbar\":{\"outlinewidth\":0,\"ticks\":\"\"}},\"marker\":{\"colorbar\":{\"outlinewidth\":0,\"ticks\":\"\"}},\"type\":\"scatter3d\"}],\"scattercarpet\":[{\"marker\":{\"colorbar\":{\"outlinewidth\":0,\"ticks\":\"\"}},\"type\":\"scattercarpet\"}],\"scattergeo\":[{\"marker\":{\"colorbar\":{\"outlinewidth\":0,\"ticks\":\"\"}},\"type\":\"scattergeo\"}],\"scattergl\":[{\"marker\":{\"colorbar\":{\"outlinewidth\":0,\"ticks\":\"\"}},\"type\":\"scattergl\"}],\"scattermapbox\":[{\"marker\":{\"colorbar\":{\"outlinewidth\":0,\"ticks\":\"\"}},\"type\":\"scattermapbox\"}],\"scatterpolargl\":[{\"marker\":{\"colorbar\":{\"outlinewidth\":0,\"ticks\":\"\"}},\"type\":\"scatterpolargl\"}],\"scatterpolar\":[{\"marker\":{\"colorbar\":{\"outlinewidth\":0,\"ticks\":\"\"}},\"type\":\"scatterpolar\"}],\"scatter\":[{\"fillpattern\":{\"fillmode\":\"overlay\",\"size\":10,\"solidity\":0.2},\"type\":\"scatter\"}],\"scatterternary\":[{\"marker\":{\"colorbar\":{\"outlinewidth\":0,\"ticks\":\"\"}},\"type\":\"scatterternary\"}],\"surface\":[{\"colorbar\":{\"outlinewidth\":0,\"ticks\":\"\"},\"colorscale\":[[0.0,\"#0d0887\"],[0.1111111111111111,\"#46039f\"],[0.2222222222222222,\"#7201a8\"],[0.3333333333333333,\"#9c179e\"],[0.4444444444444444,\"#bd3786\"],[0.5555555555555556,\"#d8576b\"],[0.6666666666666666,\"#ed7953\"],[0.7777777777777778,\"#fb9f3a\"],[0.8888888888888888,\"#fdca26\"],[1.0,\"#f0f921\"]],\"type\":\"surface\"}],\"table\":[{\"cells\":{\"fill\":{\"color\":\"#EBF0F8\"},\"line\":{\"color\":\"white\"}},\"header\":{\"fill\":{\"color\":\"#C8D4E3\"},\"line\":{\"color\":\"white\"}},\"type\":\"table\"}]},\"layout\":{\"annotationdefaults\":{\"arrowcolor\":\"#2a3f5f\",\"arrowhead\":0,\"arrowwidth\":1},\"autotypenumbers\":\"strict\",\"coloraxis\":{\"colorbar\":{\"outlinewidth\":0,\"ticks\":\"\"}},\"colorscale\":{\"diverging\":[[0,\"#8e0152\"],[0.1,\"#c51b7d\"],[0.2,\"#de77ae\"],[0.3,\"#f1b6da\"],[0.4,\"#fde0ef\"],[0.5,\"#f7f7f7\"],[0.6,\"#e6f5d0\"],[0.7,\"#b8e186\"],[0.8,\"#7fbc41\"],[0.9,\"#4d9221\"],[1,\"#276419\"]],\"sequential\":[[0.0,\"#0d0887\"],[0.1111111111111111,\"#46039f\"],[0.2222222222222222,\"#7201a8\"],[0.3333333333333333,\"#9c179e\"],[0.4444444444444444,\"#bd3786\"],[0.5555555555555556,\"#d8576b\"],[0.6666666666666666,\"#ed7953\"],[0.7777777777777778,\"#fb9f3a\"],[0.8888888888888888,\"#fdca26\"],[1.0,\"#f0f921\"]],\"sequentialminus\":[[0.0,\"#0d0887\"],[0.1111111111111111,\"#46039f\"],[0.2222222222222222,\"#7201a8\"],[0.3333333333333333,\"#9c179e\"],[0.4444444444444444,\"#bd3786\"],[0.5555555555555556,\"#d8576b\"],[0.6666666666666666,\"#ed7953\"],[0.7777777777777778,\"#fb9f3a\"],[0.8888888888888888,\"#fdca26\"],[1.0,\"#f0f921\"]]},\"colorway\":[\"#636efa\",\"#EF553B\",\"#00cc96\",\"#ab63fa\",\"#FFA15A\",\"#19d3f3\",\"#FF6692\",\"#B6E880\",\"#FF97FF\",\"#FECB52\"],\"font\":{\"color\":\"#2a3f5f\"},\"geo\":{\"bgcolor\":\"white\",\"lakecolor\":\"white\",\"landcolor\":\"#E5ECF6\",\"showlakes\":true,\"showland\":true,\"subunitcolor\":\"white\"},\"hoverlabel\":{\"align\":\"left\"},\"hovermode\":\"closest\",\"mapbox\":{\"style\":\"light\"},\"paper_bgcolor\":\"white\",\"plot_bgcolor\":\"#E5ECF6\",\"polar\":{\"angularaxis\":{\"gridcolor\":\"white\",\"linecolor\":\"white\",\"ticks\":\"\"},\"bgcolor\":\"#E5ECF6\",\"radialaxis\":{\"gridcolor\":\"white\",\"linecolor\":\"white\",\"ticks\":\"\"}},\"scene\":{\"xaxis\":{\"backgroundcolor\":\"#E5ECF6\",\"gridcolor\":\"white\",\"gridwidth\":2,\"linecolor\":\"white\",\"showbackground\":true,\"ticks\":\"\",\"zerolinecolor\":\"white\"},\"yaxis\":{\"backgroundcolor\":\"#E5ECF6\",\"gridcolor\":\"white\",\"gridwidth\":2,\"linecolor\":\"white\",\"showbackground\":true,\"ticks\":\"\",\"zerolinecolor\":\"white\"},\"zaxis\":{\"backgroundcolor\":\"#E5ECF6\",\"gridcolor\":\"white\",\"gridwidth\":2,\"linecolor\":\"white\",\"showbackground\":true,\"ticks\":\"\",\"zerolinecolor\":\"white\"}},\"shapedefaults\":{\"line\":{\"color\":\"#2a3f5f\"}},\"ternary\":{\"aaxis\":{\"gridcolor\":\"white\",\"linecolor\":\"white\",\"ticks\":\"\"},\"baxis\":{\"gridcolor\":\"white\",\"linecolor\":\"white\",\"ticks\":\"\"},\"bgcolor\":\"#E5ECF6\",\"caxis\":{\"gridcolor\":\"white\",\"linecolor\":\"white\",\"ticks\":\"\"}},\"title\":{\"x\":0.05},\"xaxis\":{\"automargin\":true,\"gridcolor\":\"white\",\"linecolor\":\"white\",\"ticks\":\"\",\"title\":{\"standoff\":15},\"zerolinecolor\":\"white\",\"zerolinewidth\":2},\"yaxis\":{\"automargin\":true,\"gridcolor\":\"white\",\"linecolor\":\"white\",\"ticks\":\"\",\"title\":{\"standoff\":15},\"zerolinecolor\":\"white\",\"zerolinewidth\":2}}},\"title\":{\"font\":{\"color\":\"#4D5663\"}},\"xaxis\":{\"gridcolor\":\"#E1E5ED\",\"showgrid\":true,\"tickfont\":{\"color\":\"#4D5663\"},\"title\":{\"font\":{\"color\":\"#4D5663\"},\"text\":\"\"},\"zerolinecolor\":\"#E1E5ED\"},\"yaxis\":{\"gridcolor\":\"#E1E5ED\",\"showgrid\":true,\"tickfont\":{\"color\":\"#4D5663\"},\"title\":{\"font\":{\"color\":\"#4D5663\"},\"text\":\"\"},\"zerolinecolor\":\"#E1E5ED\"}},                        {\"showLink\": true, \"linkText\": \"Export to plot.ly\", \"plotlyServerURL\": \"https://plot.ly\", \"responsive\": true}                    ).then(function(){\n",
       "                            \n",
       "var gd = document.getElementById('f9a81888-5c4f-4bdd-916e-3614f9e259e7');\n",
       "var x = new MutationObserver(function (mutations, observer) {{\n",
       "        var display = window.getComputedStyle(gd).display;\n",
       "        if (!display || display === 'none') {{\n",
       "            console.log([gd, 'removed!']);\n",
       "            Plotly.purge(gd);\n",
       "            observer.disconnect();\n",
       "        }}\n",
       "}});\n",
       "\n",
       "// Listen for the removal of the full notebook cells\n",
       "var notebookContainer = gd.closest('#notebook-container');\n",
       "if (notebookContainer) {{\n",
       "    x.observe(notebookContainer, {childList: true});\n",
       "}}\n",
       "\n",
       "// Listen for the clearing of the current output cell\n",
       "var outputEl = gd.closest('.output');\n",
       "if (outputEl) {{\n",
       "    x.observe(outputEl, {childList: true});\n",
       "}}\n",
       "\n",
       "                        })                };                });            </script>        </div>"
      ]
     },
     "metadata": {},
     "output_type": "display_data"
    }
   ],
   "source": [
    "df3.iplot(kind='surface')"
   ]
  },
  {
   "cell_type": "code",
   "execution_count": 56,
   "metadata": {},
   "outputs": [
    {
     "data": {
      "application/vnd.plotly.v1+json": {
       "config": {
        "linkText": "Export to plot.ly",
        "plotlyServerURL": "https://plot.ly",
        "showLink": true
       },
       "data": [
        {
         "colorscale": [
          [
           0,
           "rgb(165,0,38)"
          ],
          [
           0.1,
           "rgb(215,48,39)"
          ],
          [
           0.2,
           "rgb(244,109,67)"
          ],
          [
           0.3,
           "rgb(253,174,97)"
          ],
          [
           0.4,
           "rgb(254,224,144)"
          ],
          [
           0.5,
           "rgb(255,255,191)"
          ],
          [
           0.6,
           "rgb(224,243,248)"
          ],
          [
           0.7,
           "rgb(171,217,233)"
          ],
          [
           0.8,
           "rgb(116,173,209)"
          ],
          [
           0.9,
           "rgb(69,117,180)"
          ],
          [
           1,
           "rgb(49,54,149)"
          ]
         ],
         "type": "surface",
         "x": [
          0,
          1,
          2,
          3,
          4
         ],
         "y": [
          "x",
          "y",
          "z"
         ],
         "z": [
          [
           1,
           2,
           3,
           4,
           5
          ],
          [
           10,
           20,
           30,
           40,
           10
          ],
          [
           5,
           4,
           3,
           2,
           1
          ]
         ]
        }
       ],
       "layout": {
        "legend": {
         "bgcolor": "#F5F6F9",
         "font": {
          "color": "#4D5663"
         }
        },
        "paper_bgcolor": "#F5F6F9",
        "plot_bgcolor": "#F5F6F9",
        "template": {
         "data": {
          "bar": [
           {
            "error_x": {
             "color": "#2a3f5f"
            },
            "error_y": {
             "color": "#2a3f5f"
            },
            "marker": {
             "line": {
              "color": "#E5ECF6",
              "width": 0.5
             },
             "pattern": {
              "fillmode": "overlay",
              "size": 10,
              "solidity": 0.2
             }
            },
            "type": "bar"
           }
          ],
          "barpolar": [
           {
            "marker": {
             "line": {
              "color": "#E5ECF6",
              "width": 0.5
             },
             "pattern": {
              "fillmode": "overlay",
              "size": 10,
              "solidity": 0.2
             }
            },
            "type": "barpolar"
           }
          ],
          "carpet": [
           {
            "aaxis": {
             "endlinecolor": "#2a3f5f",
             "gridcolor": "white",
             "linecolor": "white",
             "minorgridcolor": "white",
             "startlinecolor": "#2a3f5f"
            },
            "baxis": {
             "endlinecolor": "#2a3f5f",
             "gridcolor": "white",
             "linecolor": "white",
             "minorgridcolor": "white",
             "startlinecolor": "#2a3f5f"
            },
            "type": "carpet"
           }
          ],
          "choropleth": [
           {
            "colorbar": {
             "outlinewidth": 0,
             "ticks": ""
            },
            "type": "choropleth"
           }
          ],
          "contour": [
           {
            "colorbar": {
             "outlinewidth": 0,
             "ticks": ""
            },
            "colorscale": [
             [
              0,
              "#0d0887"
             ],
             [
              0.1111111111111111,
              "#46039f"
             ],
             [
              0.2222222222222222,
              "#7201a8"
             ],
             [
              0.3333333333333333,
              "#9c179e"
             ],
             [
              0.4444444444444444,
              "#bd3786"
             ],
             [
              0.5555555555555556,
              "#d8576b"
             ],
             [
              0.6666666666666666,
              "#ed7953"
             ],
             [
              0.7777777777777778,
              "#fb9f3a"
             ],
             [
              0.8888888888888888,
              "#fdca26"
             ],
             [
              1,
              "#f0f921"
             ]
            ],
            "type": "contour"
           }
          ],
          "contourcarpet": [
           {
            "colorbar": {
             "outlinewidth": 0,
             "ticks": ""
            },
            "type": "contourcarpet"
           }
          ],
          "heatmap": [
           {
            "colorbar": {
             "outlinewidth": 0,
             "ticks": ""
            },
            "colorscale": [
             [
              0,
              "#0d0887"
             ],
             [
              0.1111111111111111,
              "#46039f"
             ],
             [
              0.2222222222222222,
              "#7201a8"
             ],
             [
              0.3333333333333333,
              "#9c179e"
             ],
             [
              0.4444444444444444,
              "#bd3786"
             ],
             [
              0.5555555555555556,
              "#d8576b"
             ],
             [
              0.6666666666666666,
              "#ed7953"
             ],
             [
              0.7777777777777778,
              "#fb9f3a"
             ],
             [
              0.8888888888888888,
              "#fdca26"
             ],
             [
              1,
              "#f0f921"
             ]
            ],
            "type": "heatmap"
           }
          ],
          "heatmapgl": [
           {
            "colorbar": {
             "outlinewidth": 0,
             "ticks": ""
            },
            "colorscale": [
             [
              0,
              "#0d0887"
             ],
             [
              0.1111111111111111,
              "#46039f"
             ],
             [
              0.2222222222222222,
              "#7201a8"
             ],
             [
              0.3333333333333333,
              "#9c179e"
             ],
             [
              0.4444444444444444,
              "#bd3786"
             ],
             [
              0.5555555555555556,
              "#d8576b"
             ],
             [
              0.6666666666666666,
              "#ed7953"
             ],
             [
              0.7777777777777778,
              "#fb9f3a"
             ],
             [
              0.8888888888888888,
              "#fdca26"
             ],
             [
              1,
              "#f0f921"
             ]
            ],
            "type": "heatmapgl"
           }
          ],
          "histogram": [
           {
            "marker": {
             "pattern": {
              "fillmode": "overlay",
              "size": 10,
              "solidity": 0.2
             }
            },
            "type": "histogram"
           }
          ],
          "histogram2d": [
           {
            "colorbar": {
             "outlinewidth": 0,
             "ticks": ""
            },
            "colorscale": [
             [
              0,
              "#0d0887"
             ],
             [
              0.1111111111111111,
              "#46039f"
             ],
             [
              0.2222222222222222,
              "#7201a8"
             ],
             [
              0.3333333333333333,
              "#9c179e"
             ],
             [
              0.4444444444444444,
              "#bd3786"
             ],
             [
              0.5555555555555556,
              "#d8576b"
             ],
             [
              0.6666666666666666,
              "#ed7953"
             ],
             [
              0.7777777777777778,
              "#fb9f3a"
             ],
             [
              0.8888888888888888,
              "#fdca26"
             ],
             [
              1,
              "#f0f921"
             ]
            ],
            "type": "histogram2d"
           }
          ],
          "histogram2dcontour": [
           {
            "colorbar": {
             "outlinewidth": 0,
             "ticks": ""
            },
            "colorscale": [
             [
              0,
              "#0d0887"
             ],
             [
              0.1111111111111111,
              "#46039f"
             ],
             [
              0.2222222222222222,
              "#7201a8"
             ],
             [
              0.3333333333333333,
              "#9c179e"
             ],
             [
              0.4444444444444444,
              "#bd3786"
             ],
             [
              0.5555555555555556,
              "#d8576b"
             ],
             [
              0.6666666666666666,
              "#ed7953"
             ],
             [
              0.7777777777777778,
              "#fb9f3a"
             ],
             [
              0.8888888888888888,
              "#fdca26"
             ],
             [
              1,
              "#f0f921"
             ]
            ],
            "type": "histogram2dcontour"
           }
          ],
          "mesh3d": [
           {
            "colorbar": {
             "outlinewidth": 0,
             "ticks": ""
            },
            "type": "mesh3d"
           }
          ],
          "parcoords": [
           {
            "line": {
             "colorbar": {
              "outlinewidth": 0,
              "ticks": ""
             }
            },
            "type": "parcoords"
           }
          ],
          "pie": [
           {
            "automargin": true,
            "type": "pie"
           }
          ],
          "scatter": [
           {
            "fillpattern": {
             "fillmode": "overlay",
             "size": 10,
             "solidity": 0.2
            },
            "type": "scatter"
           }
          ],
          "scatter3d": [
           {
            "line": {
             "colorbar": {
              "outlinewidth": 0,
              "ticks": ""
             }
            },
            "marker": {
             "colorbar": {
              "outlinewidth": 0,
              "ticks": ""
             }
            },
            "type": "scatter3d"
           }
          ],
          "scattercarpet": [
           {
            "marker": {
             "colorbar": {
              "outlinewidth": 0,
              "ticks": ""
             }
            },
            "type": "scattercarpet"
           }
          ],
          "scattergeo": [
           {
            "marker": {
             "colorbar": {
              "outlinewidth": 0,
              "ticks": ""
             }
            },
            "type": "scattergeo"
           }
          ],
          "scattergl": [
           {
            "marker": {
             "colorbar": {
              "outlinewidth": 0,
              "ticks": ""
             }
            },
            "type": "scattergl"
           }
          ],
          "scattermapbox": [
           {
            "marker": {
             "colorbar": {
              "outlinewidth": 0,
              "ticks": ""
             }
            },
            "type": "scattermapbox"
           }
          ],
          "scatterpolar": [
           {
            "marker": {
             "colorbar": {
              "outlinewidth": 0,
              "ticks": ""
             }
            },
            "type": "scatterpolar"
           }
          ],
          "scatterpolargl": [
           {
            "marker": {
             "colorbar": {
              "outlinewidth": 0,
              "ticks": ""
             }
            },
            "type": "scatterpolargl"
           }
          ],
          "scatterternary": [
           {
            "marker": {
             "colorbar": {
              "outlinewidth": 0,
              "ticks": ""
             }
            },
            "type": "scatterternary"
           }
          ],
          "surface": [
           {
            "colorbar": {
             "outlinewidth": 0,
             "ticks": ""
            },
            "colorscale": [
             [
              0,
              "#0d0887"
             ],
             [
              0.1111111111111111,
              "#46039f"
             ],
             [
              0.2222222222222222,
              "#7201a8"
             ],
             [
              0.3333333333333333,
              "#9c179e"
             ],
             [
              0.4444444444444444,
              "#bd3786"
             ],
             [
              0.5555555555555556,
              "#d8576b"
             ],
             [
              0.6666666666666666,
              "#ed7953"
             ],
             [
              0.7777777777777778,
              "#fb9f3a"
             ],
             [
              0.8888888888888888,
              "#fdca26"
             ],
             [
              1,
              "#f0f921"
             ]
            ],
            "type": "surface"
           }
          ],
          "table": [
           {
            "cells": {
             "fill": {
              "color": "#EBF0F8"
             },
             "line": {
              "color": "white"
             }
            },
            "header": {
             "fill": {
              "color": "#C8D4E3"
             },
             "line": {
              "color": "white"
             }
            },
            "type": "table"
           }
          ]
         },
         "layout": {
          "annotationdefaults": {
           "arrowcolor": "#2a3f5f",
           "arrowhead": 0,
           "arrowwidth": 1
          },
          "autotypenumbers": "strict",
          "coloraxis": {
           "colorbar": {
            "outlinewidth": 0,
            "ticks": ""
           }
          },
          "colorscale": {
           "diverging": [
            [
             0,
             "#8e0152"
            ],
            [
             0.1,
             "#c51b7d"
            ],
            [
             0.2,
             "#de77ae"
            ],
            [
             0.3,
             "#f1b6da"
            ],
            [
             0.4,
             "#fde0ef"
            ],
            [
             0.5,
             "#f7f7f7"
            ],
            [
             0.6,
             "#e6f5d0"
            ],
            [
             0.7,
             "#b8e186"
            ],
            [
             0.8,
             "#7fbc41"
            ],
            [
             0.9,
             "#4d9221"
            ],
            [
             1,
             "#276419"
            ]
           ],
           "sequential": [
            [
             0,
             "#0d0887"
            ],
            [
             0.1111111111111111,
             "#46039f"
            ],
            [
             0.2222222222222222,
             "#7201a8"
            ],
            [
             0.3333333333333333,
             "#9c179e"
            ],
            [
             0.4444444444444444,
             "#bd3786"
            ],
            [
             0.5555555555555556,
             "#d8576b"
            ],
            [
             0.6666666666666666,
             "#ed7953"
            ],
            [
             0.7777777777777778,
             "#fb9f3a"
            ],
            [
             0.8888888888888888,
             "#fdca26"
            ],
            [
             1,
             "#f0f921"
            ]
           ],
           "sequentialminus": [
            [
             0,
             "#0d0887"
            ],
            [
             0.1111111111111111,
             "#46039f"
            ],
            [
             0.2222222222222222,
             "#7201a8"
            ],
            [
             0.3333333333333333,
             "#9c179e"
            ],
            [
             0.4444444444444444,
             "#bd3786"
            ],
            [
             0.5555555555555556,
             "#d8576b"
            ],
            [
             0.6666666666666666,
             "#ed7953"
            ],
            [
             0.7777777777777778,
             "#fb9f3a"
            ],
            [
             0.8888888888888888,
             "#fdca26"
            ],
            [
             1,
             "#f0f921"
            ]
           ]
          },
          "colorway": [
           "#636efa",
           "#EF553B",
           "#00cc96",
           "#ab63fa",
           "#FFA15A",
           "#19d3f3",
           "#FF6692",
           "#B6E880",
           "#FF97FF",
           "#FECB52"
          ],
          "font": {
           "color": "#2a3f5f"
          },
          "geo": {
           "bgcolor": "white",
           "lakecolor": "white",
           "landcolor": "#E5ECF6",
           "showlakes": true,
           "showland": true,
           "subunitcolor": "white"
          },
          "hoverlabel": {
           "align": "left"
          },
          "hovermode": "closest",
          "mapbox": {
           "style": "light"
          },
          "paper_bgcolor": "white",
          "plot_bgcolor": "#E5ECF6",
          "polar": {
           "angularaxis": {
            "gridcolor": "white",
            "linecolor": "white",
            "ticks": ""
           },
           "bgcolor": "#E5ECF6",
           "radialaxis": {
            "gridcolor": "white",
            "linecolor": "white",
            "ticks": ""
           }
          },
          "scene": {
           "xaxis": {
            "backgroundcolor": "#E5ECF6",
            "gridcolor": "white",
            "gridwidth": 2,
            "linecolor": "white",
            "showbackground": true,
            "ticks": "",
            "zerolinecolor": "white"
           },
           "yaxis": {
            "backgroundcolor": "#E5ECF6",
            "gridcolor": "white",
            "gridwidth": 2,
            "linecolor": "white",
            "showbackground": true,
            "ticks": "",
            "zerolinecolor": "white"
           },
           "zaxis": {
            "backgroundcolor": "#E5ECF6",
            "gridcolor": "white",
            "gridwidth": 2,
            "linecolor": "white",
            "showbackground": true,
            "ticks": "",
            "zerolinecolor": "white"
           }
          },
          "shapedefaults": {
           "line": {
            "color": "#2a3f5f"
           }
          },
          "ternary": {
           "aaxis": {
            "gridcolor": "white",
            "linecolor": "white",
            "ticks": ""
           },
           "baxis": {
            "gridcolor": "white",
            "linecolor": "white",
            "ticks": ""
           },
           "bgcolor": "#E5ECF6",
           "caxis": {
            "gridcolor": "white",
            "linecolor": "white",
            "ticks": ""
           }
          },
          "title": {
           "x": 0.05
          },
          "xaxis": {
           "automargin": true,
           "gridcolor": "white",
           "linecolor": "white",
           "ticks": "",
           "title": {
            "standoff": 15
           },
           "zerolinecolor": "white",
           "zerolinewidth": 2
          },
          "yaxis": {
           "automargin": true,
           "gridcolor": "white",
           "linecolor": "white",
           "ticks": "",
           "title": {
            "standoff": 15
           },
           "zerolinecolor": "white",
           "zerolinewidth": 2
          }
         }
        },
        "title": {
         "font": {
          "color": "#4D5663"
         }
        },
        "xaxis": {
         "gridcolor": "#E1E5ED",
         "showgrid": true,
         "tickfont": {
          "color": "#4D5663"
         },
         "title": {
          "font": {
           "color": "#4D5663"
          },
          "text": ""
         },
         "zerolinecolor": "#E1E5ED"
        },
        "yaxis": {
         "gridcolor": "#E1E5ED",
         "showgrid": true,
         "tickfont": {
          "color": "#4D5663"
         },
         "title": {
          "font": {
           "color": "#4D5663"
          },
          "text": ""
         },
         "zerolinecolor": "#E1E5ED"
        }
       }
      },
      "text/html": [
       "<div>                            <div id=\"2209ab37-4c59-49e5-9813-61567da7ce01\" class=\"plotly-graph-div\" style=\"height:525px; width:100%;\"></div>            <script type=\"text/javascript\">                require([\"plotly\"], function(Plotly) {                    window.PLOTLYENV=window.PLOTLYENV || {};\n",
       "                    window.PLOTLYENV.BASE_URL='https://plot.ly';                                    if (document.getElementById(\"2209ab37-4c59-49e5-9813-61567da7ce01\")) {                    Plotly.newPlot(                        \"2209ab37-4c59-49e5-9813-61567da7ce01\",                        [{\"colorscale\":[[0.0,\"rgb(165,0,38)\"],[0.1,\"rgb(215,48,39)\"],[0.2,\"rgb(244,109,67)\"],[0.3,\"rgb(253,174,97)\"],[0.4,\"rgb(254,224,144)\"],[0.5,\"rgb(255,255,191)\"],[0.6,\"rgb(224,243,248)\"],[0.7,\"rgb(171,217,233)\"],[0.8,\"rgb(116,173,209)\"],[0.9,\"rgb(69,117,180)\"],[1.0,\"rgb(49,54,149)\"]],\"x\":[0,1,2,3,4],\"y\":[\"x\",\"y\",\"z\"],\"z\":[[1,2,3,4,5],[10,20,30,40,10],[5,4,3,2,1]],\"type\":\"surface\"}],                        {\"legend\":{\"bgcolor\":\"#F5F6F9\",\"font\":{\"color\":\"#4D5663\"}},\"paper_bgcolor\":\"#F5F6F9\",\"plot_bgcolor\":\"#F5F6F9\",\"template\":{\"data\":{\"barpolar\":[{\"marker\":{\"line\":{\"color\":\"#E5ECF6\",\"width\":0.5},\"pattern\":{\"fillmode\":\"overlay\",\"size\":10,\"solidity\":0.2}},\"type\":\"barpolar\"}],\"bar\":[{\"error_x\":{\"color\":\"#2a3f5f\"},\"error_y\":{\"color\":\"#2a3f5f\"},\"marker\":{\"line\":{\"color\":\"#E5ECF6\",\"width\":0.5},\"pattern\":{\"fillmode\":\"overlay\",\"size\":10,\"solidity\":0.2}},\"type\":\"bar\"}],\"carpet\":[{\"aaxis\":{\"endlinecolor\":\"#2a3f5f\",\"gridcolor\":\"white\",\"linecolor\":\"white\",\"minorgridcolor\":\"white\",\"startlinecolor\":\"#2a3f5f\"},\"baxis\":{\"endlinecolor\":\"#2a3f5f\",\"gridcolor\":\"white\",\"linecolor\":\"white\",\"minorgridcolor\":\"white\",\"startlinecolor\":\"#2a3f5f\"},\"type\":\"carpet\"}],\"choropleth\":[{\"colorbar\":{\"outlinewidth\":0,\"ticks\":\"\"},\"type\":\"choropleth\"}],\"contourcarpet\":[{\"colorbar\":{\"outlinewidth\":0,\"ticks\":\"\"},\"type\":\"contourcarpet\"}],\"contour\":[{\"colorbar\":{\"outlinewidth\":0,\"ticks\":\"\"},\"colorscale\":[[0.0,\"#0d0887\"],[0.1111111111111111,\"#46039f\"],[0.2222222222222222,\"#7201a8\"],[0.3333333333333333,\"#9c179e\"],[0.4444444444444444,\"#bd3786\"],[0.5555555555555556,\"#d8576b\"],[0.6666666666666666,\"#ed7953\"],[0.7777777777777778,\"#fb9f3a\"],[0.8888888888888888,\"#fdca26\"],[1.0,\"#f0f921\"]],\"type\":\"contour\"}],\"heatmapgl\":[{\"colorbar\":{\"outlinewidth\":0,\"ticks\":\"\"},\"colorscale\":[[0.0,\"#0d0887\"],[0.1111111111111111,\"#46039f\"],[0.2222222222222222,\"#7201a8\"],[0.3333333333333333,\"#9c179e\"],[0.4444444444444444,\"#bd3786\"],[0.5555555555555556,\"#d8576b\"],[0.6666666666666666,\"#ed7953\"],[0.7777777777777778,\"#fb9f3a\"],[0.8888888888888888,\"#fdca26\"],[1.0,\"#f0f921\"]],\"type\":\"heatmapgl\"}],\"heatmap\":[{\"colorbar\":{\"outlinewidth\":0,\"ticks\":\"\"},\"colorscale\":[[0.0,\"#0d0887\"],[0.1111111111111111,\"#46039f\"],[0.2222222222222222,\"#7201a8\"],[0.3333333333333333,\"#9c179e\"],[0.4444444444444444,\"#bd3786\"],[0.5555555555555556,\"#d8576b\"],[0.6666666666666666,\"#ed7953\"],[0.7777777777777778,\"#fb9f3a\"],[0.8888888888888888,\"#fdca26\"],[1.0,\"#f0f921\"]],\"type\":\"heatmap\"}],\"histogram2dcontour\":[{\"colorbar\":{\"outlinewidth\":0,\"ticks\":\"\"},\"colorscale\":[[0.0,\"#0d0887\"],[0.1111111111111111,\"#46039f\"],[0.2222222222222222,\"#7201a8\"],[0.3333333333333333,\"#9c179e\"],[0.4444444444444444,\"#bd3786\"],[0.5555555555555556,\"#d8576b\"],[0.6666666666666666,\"#ed7953\"],[0.7777777777777778,\"#fb9f3a\"],[0.8888888888888888,\"#fdca26\"],[1.0,\"#f0f921\"]],\"type\":\"histogram2dcontour\"}],\"histogram2d\":[{\"colorbar\":{\"outlinewidth\":0,\"ticks\":\"\"},\"colorscale\":[[0.0,\"#0d0887\"],[0.1111111111111111,\"#46039f\"],[0.2222222222222222,\"#7201a8\"],[0.3333333333333333,\"#9c179e\"],[0.4444444444444444,\"#bd3786\"],[0.5555555555555556,\"#d8576b\"],[0.6666666666666666,\"#ed7953\"],[0.7777777777777778,\"#fb9f3a\"],[0.8888888888888888,\"#fdca26\"],[1.0,\"#f0f921\"]],\"type\":\"histogram2d\"}],\"histogram\":[{\"marker\":{\"pattern\":{\"fillmode\":\"overlay\",\"size\":10,\"solidity\":0.2}},\"type\":\"histogram\"}],\"mesh3d\":[{\"colorbar\":{\"outlinewidth\":0,\"ticks\":\"\"},\"type\":\"mesh3d\"}],\"parcoords\":[{\"line\":{\"colorbar\":{\"outlinewidth\":0,\"ticks\":\"\"}},\"type\":\"parcoords\"}],\"pie\":[{\"automargin\":true,\"type\":\"pie\"}],\"scatter3d\":[{\"line\":{\"colorbar\":{\"outlinewidth\":0,\"ticks\":\"\"}},\"marker\":{\"colorbar\":{\"outlinewidth\":0,\"ticks\":\"\"}},\"type\":\"scatter3d\"}],\"scattercarpet\":[{\"marker\":{\"colorbar\":{\"outlinewidth\":0,\"ticks\":\"\"}},\"type\":\"scattercarpet\"}],\"scattergeo\":[{\"marker\":{\"colorbar\":{\"outlinewidth\":0,\"ticks\":\"\"}},\"type\":\"scattergeo\"}],\"scattergl\":[{\"marker\":{\"colorbar\":{\"outlinewidth\":0,\"ticks\":\"\"}},\"type\":\"scattergl\"}],\"scattermapbox\":[{\"marker\":{\"colorbar\":{\"outlinewidth\":0,\"ticks\":\"\"}},\"type\":\"scattermapbox\"}],\"scatterpolargl\":[{\"marker\":{\"colorbar\":{\"outlinewidth\":0,\"ticks\":\"\"}},\"type\":\"scatterpolargl\"}],\"scatterpolar\":[{\"marker\":{\"colorbar\":{\"outlinewidth\":0,\"ticks\":\"\"}},\"type\":\"scatterpolar\"}],\"scatter\":[{\"fillpattern\":{\"fillmode\":\"overlay\",\"size\":10,\"solidity\":0.2},\"type\":\"scatter\"}],\"scatterternary\":[{\"marker\":{\"colorbar\":{\"outlinewidth\":0,\"ticks\":\"\"}},\"type\":\"scatterternary\"}],\"surface\":[{\"colorbar\":{\"outlinewidth\":0,\"ticks\":\"\"},\"colorscale\":[[0.0,\"#0d0887\"],[0.1111111111111111,\"#46039f\"],[0.2222222222222222,\"#7201a8\"],[0.3333333333333333,\"#9c179e\"],[0.4444444444444444,\"#bd3786\"],[0.5555555555555556,\"#d8576b\"],[0.6666666666666666,\"#ed7953\"],[0.7777777777777778,\"#fb9f3a\"],[0.8888888888888888,\"#fdca26\"],[1.0,\"#f0f921\"]],\"type\":\"surface\"}],\"table\":[{\"cells\":{\"fill\":{\"color\":\"#EBF0F8\"},\"line\":{\"color\":\"white\"}},\"header\":{\"fill\":{\"color\":\"#C8D4E3\"},\"line\":{\"color\":\"white\"}},\"type\":\"table\"}]},\"layout\":{\"annotationdefaults\":{\"arrowcolor\":\"#2a3f5f\",\"arrowhead\":0,\"arrowwidth\":1},\"autotypenumbers\":\"strict\",\"coloraxis\":{\"colorbar\":{\"outlinewidth\":0,\"ticks\":\"\"}},\"colorscale\":{\"diverging\":[[0,\"#8e0152\"],[0.1,\"#c51b7d\"],[0.2,\"#de77ae\"],[0.3,\"#f1b6da\"],[0.4,\"#fde0ef\"],[0.5,\"#f7f7f7\"],[0.6,\"#e6f5d0\"],[0.7,\"#b8e186\"],[0.8,\"#7fbc41\"],[0.9,\"#4d9221\"],[1,\"#276419\"]],\"sequential\":[[0.0,\"#0d0887\"],[0.1111111111111111,\"#46039f\"],[0.2222222222222222,\"#7201a8\"],[0.3333333333333333,\"#9c179e\"],[0.4444444444444444,\"#bd3786\"],[0.5555555555555556,\"#d8576b\"],[0.6666666666666666,\"#ed7953\"],[0.7777777777777778,\"#fb9f3a\"],[0.8888888888888888,\"#fdca26\"],[1.0,\"#f0f921\"]],\"sequentialminus\":[[0.0,\"#0d0887\"],[0.1111111111111111,\"#46039f\"],[0.2222222222222222,\"#7201a8\"],[0.3333333333333333,\"#9c179e\"],[0.4444444444444444,\"#bd3786\"],[0.5555555555555556,\"#d8576b\"],[0.6666666666666666,\"#ed7953\"],[0.7777777777777778,\"#fb9f3a\"],[0.8888888888888888,\"#fdca26\"],[1.0,\"#f0f921\"]]},\"colorway\":[\"#636efa\",\"#EF553B\",\"#00cc96\",\"#ab63fa\",\"#FFA15A\",\"#19d3f3\",\"#FF6692\",\"#B6E880\",\"#FF97FF\",\"#FECB52\"],\"font\":{\"color\":\"#2a3f5f\"},\"geo\":{\"bgcolor\":\"white\",\"lakecolor\":\"white\",\"landcolor\":\"#E5ECF6\",\"showlakes\":true,\"showland\":true,\"subunitcolor\":\"white\"},\"hoverlabel\":{\"align\":\"left\"},\"hovermode\":\"closest\",\"mapbox\":{\"style\":\"light\"},\"paper_bgcolor\":\"white\",\"plot_bgcolor\":\"#E5ECF6\",\"polar\":{\"angularaxis\":{\"gridcolor\":\"white\",\"linecolor\":\"white\",\"ticks\":\"\"},\"bgcolor\":\"#E5ECF6\",\"radialaxis\":{\"gridcolor\":\"white\",\"linecolor\":\"white\",\"ticks\":\"\"}},\"scene\":{\"xaxis\":{\"backgroundcolor\":\"#E5ECF6\",\"gridcolor\":\"white\",\"gridwidth\":2,\"linecolor\":\"white\",\"showbackground\":true,\"ticks\":\"\",\"zerolinecolor\":\"white\"},\"yaxis\":{\"backgroundcolor\":\"#E5ECF6\",\"gridcolor\":\"white\",\"gridwidth\":2,\"linecolor\":\"white\",\"showbackground\":true,\"ticks\":\"\",\"zerolinecolor\":\"white\"},\"zaxis\":{\"backgroundcolor\":\"#E5ECF6\",\"gridcolor\":\"white\",\"gridwidth\":2,\"linecolor\":\"white\",\"showbackground\":true,\"ticks\":\"\",\"zerolinecolor\":\"white\"}},\"shapedefaults\":{\"line\":{\"color\":\"#2a3f5f\"}},\"ternary\":{\"aaxis\":{\"gridcolor\":\"white\",\"linecolor\":\"white\",\"ticks\":\"\"},\"baxis\":{\"gridcolor\":\"white\",\"linecolor\":\"white\",\"ticks\":\"\"},\"bgcolor\":\"#E5ECF6\",\"caxis\":{\"gridcolor\":\"white\",\"linecolor\":\"white\",\"ticks\":\"\"}},\"title\":{\"x\":0.05},\"xaxis\":{\"automargin\":true,\"gridcolor\":\"white\",\"linecolor\":\"white\",\"ticks\":\"\",\"title\":{\"standoff\":15},\"zerolinecolor\":\"white\",\"zerolinewidth\":2},\"yaxis\":{\"automargin\":true,\"gridcolor\":\"white\",\"linecolor\":\"white\",\"ticks\":\"\",\"title\":{\"standoff\":15},\"zerolinecolor\":\"white\",\"zerolinewidth\":2}}},\"title\":{\"font\":{\"color\":\"#4D5663\"}},\"xaxis\":{\"gridcolor\":\"#E1E5ED\",\"showgrid\":true,\"tickfont\":{\"color\":\"#4D5663\"},\"title\":{\"font\":{\"color\":\"#4D5663\"},\"text\":\"\"},\"zerolinecolor\":\"#E1E5ED\"},\"yaxis\":{\"gridcolor\":\"#E1E5ED\",\"showgrid\":true,\"tickfont\":{\"color\":\"#4D5663\"},\"title\":{\"font\":{\"color\":\"#4D5663\"},\"text\":\"\"},\"zerolinecolor\":\"#E1E5ED\"}},                        {\"showLink\": true, \"linkText\": \"Export to plot.ly\", \"plotlyServerURL\": \"https://plot.ly\", \"responsive\": true}                    ).then(function(){\n",
       "                            \n",
       "var gd = document.getElementById('2209ab37-4c59-49e5-9813-61567da7ce01');\n",
       "var x = new MutationObserver(function (mutations, observer) {{\n",
       "        var display = window.getComputedStyle(gd).display;\n",
       "        if (!display || display === 'none') {{\n",
       "            console.log([gd, 'removed!']);\n",
       "            Plotly.purge(gd);\n",
       "            observer.disconnect();\n",
       "        }}\n",
       "}});\n",
       "\n",
       "// Listen for the removal of the full notebook cells\n",
       "var notebookContainer = gd.closest('#notebook-container');\n",
       "if (notebookContainer) {{\n",
       "    x.observe(notebookContainer, {childList: true});\n",
       "}}\n",
       "\n",
       "// Listen for the clearing of the current output cell\n",
       "var outputEl = gd.closest('.output');\n",
       "if (outputEl) {{\n",
       "    x.observe(outputEl, {childList: true});\n",
       "}}\n",
       "\n",
       "                        })                };                });            </script>        </div>"
      ]
     },
     "metadata": {},
     "output_type": "display_data"
    }
   ],
   "source": [
    "df3.iplot(kind='surface',colorscale='rdylbu')"
   ]
  },
  {
   "cell_type": "markdown",
   "metadata": {},
   "source": [
    "#SPREAD"
   ]
  },
  {
   "cell_type": "code",
   "execution_count": 63,
   "metadata": {},
   "outputs": [
    {
     "data": {
      "text/html": [
       "<div>\n",
       "<style scoped>\n",
       "    .dataframe tbody tr th:only-of-type {\n",
       "        vertical-align: middle;\n",
       "    }\n",
       "\n",
       "    .dataframe tbody tr th {\n",
       "        vertical-align: top;\n",
       "    }\n",
       "\n",
       "    .dataframe thead th {\n",
       "        text-align: right;\n",
       "    }\n",
       "</style>\n",
       "<table border=\"1\" class=\"dataframe\">\n",
       "  <thead>\n",
       "    <tr style=\"text-align: right;\">\n",
       "      <th></th>\n",
       "      <th>A</th>\n",
       "      <th>B</th>\n",
       "    </tr>\n",
       "  </thead>\n",
       "  <tbody>\n",
       "    <tr>\n",
       "      <th>0</th>\n",
       "      <td>-0.623727</td>\n",
       "      <td>-0.599239</td>\n",
       "    </tr>\n",
       "    <tr>\n",
       "      <th>1</th>\n",
       "      <td>1.274573</td>\n",
       "      <td>-1.257566</td>\n",
       "    </tr>\n",
       "    <tr>\n",
       "      <th>2</th>\n",
       "      <td>1.285586</td>\n",
       "      <td>-0.868157</td>\n",
       "    </tr>\n",
       "    <tr>\n",
       "      <th>3</th>\n",
       "      <td>0.478092</td>\n",
       "      <td>0.706414</td>\n",
       "    </tr>\n",
       "    <tr>\n",
       "      <th>4</th>\n",
       "      <td>0.344943</td>\n",
       "      <td>1.220898</td>\n",
       "    </tr>\n",
       "    <tr>\n",
       "      <th>...</th>\n",
       "      <td>...</td>\n",
       "      <td>...</td>\n",
       "    </tr>\n",
       "    <tr>\n",
       "      <th>95</th>\n",
       "      <td>0.583516</td>\n",
       "      <td>0.329389</td>\n",
       "    </tr>\n",
       "    <tr>\n",
       "      <th>96</th>\n",
       "      <td>0.153174</td>\n",
       "      <td>-1.126035</td>\n",
       "    </tr>\n",
       "    <tr>\n",
       "      <th>97</th>\n",
       "      <td>1.223935</td>\n",
       "      <td>0.720156</td>\n",
       "    </tr>\n",
       "    <tr>\n",
       "      <th>98</th>\n",
       "      <td>-0.037037</td>\n",
       "      <td>0.196468</td>\n",
       "    </tr>\n",
       "    <tr>\n",
       "      <th>99</th>\n",
       "      <td>-0.279158</td>\n",
       "      <td>-0.879312</td>\n",
       "    </tr>\n",
       "  </tbody>\n",
       "</table>\n",
       "<p>100 rows × 2 columns</p>\n",
       "</div>"
      ],
      "text/plain": [
       "           A         B\n",
       "0  -0.623727 -0.599239\n",
       "1   1.274573 -1.257566\n",
       "2   1.285586 -0.868157\n",
       "3   0.478092  0.706414\n",
       "4   0.344943  1.220898\n",
       "..       ...       ...\n",
       "95  0.583516  0.329389\n",
       "96  0.153174 -1.126035\n",
       "97  1.223935  0.720156\n",
       "98 -0.037037  0.196468\n",
       "99 -0.279158 -0.879312\n",
       "\n",
       "[100 rows x 2 columns]"
      ]
     },
     "execution_count": 63,
     "metadata": {},
     "output_type": "execute_result"
    }
   ],
   "source": [
    "df[['A','B']]"
   ]
  },
  {
   "cell_type": "code",
   "execution_count": 83,
   "metadata": {},
   "outputs": [
    {
     "name": "stderr",
     "output_type": "stream",
     "text": [
      "f:\\EDU CODING\\PYTHON STP\\Lib\\site-packages\\cufflinks\\plotlytools.py:848: FutureWarning:\n",
      "\n",
      "Series.__getitem__ treating keys as positions is deprecated. In a future version, integer keys will always be treated as labels (consistent with DataFrame behavior). To access a value by position, use `ser.iloc[pos]`\n",
      "\n"
     ]
    },
    {
     "ename": "AttributeError",
     "evalue": "module 'pandas' has no attribute 'np'",
     "output_type": "error",
     "traceback": [
      "\u001b[1;31m---------------------------------------------------------------------------\u001b[0m",
      "\u001b[1;31mAttributeError\u001b[0m                            Traceback (most recent call last)",
      "Cell \u001b[1;32mIn[83], line 1\u001b[0m\n\u001b[1;32m----> 1\u001b[0m \u001b[43mdf\u001b[49m\u001b[43m[\u001b[49m\u001b[43m[\u001b[49m\u001b[38;5;124;43m'\u001b[39;49m\u001b[38;5;124;43mA\u001b[39;49m\u001b[38;5;124;43m'\u001b[39;49m\u001b[43m,\u001b[49m\u001b[38;5;124;43m'\u001b[39;49m\u001b[38;5;124;43mB\u001b[39;49m\u001b[38;5;124;43m'\u001b[39;49m\u001b[43m]\u001b[49m\u001b[43m]\u001b[49m\u001b[38;5;241;43m.\u001b[39;49m\u001b[43miplot\u001b[49m\u001b[43m(\u001b[49m\u001b[43mkind\u001b[49m\u001b[38;5;241;43m=\u001b[39;49m\u001b[38;5;124;43m'\u001b[39;49m\u001b[38;5;124;43mspread\u001b[39;49m\u001b[38;5;124;43m'\u001b[39;49m\u001b[43m)\u001b[49m\n",
      "File \u001b[1;32mf:\\EDU CODING\\PYTHON STP\\Lib\\site-packages\\cufflinks\\plotlytools.py:849\u001b[0m, in \u001b[0;36m_iplot\u001b[1;34m(self, kind, data, layout, filename, sharing, title, xTitle, yTitle, zTitle, theme, colors, colorscale, fill, width, dash, mode, interpolation, symbol, size, barmode, sortbars, bargap, bargroupgap, bins, histnorm, histfunc, orientation, boxpoints, annotations, keys, bestfit, bestfit_colors, mean, mean_colors, categories, x, y, z, text, gridcolor, zerolinecolor, margin, labels, values, secondary_y, secondary_y_title, subplots, shape, error_x, error_y, error_type, locations, lon, lat, asFrame, asDates, asFigure, asImage, dimensions, asPlot, asUrl, online, **kwargs)\u001b[0m\n\u001b[0;32m    847\u001b[0m \u001b[38;5;28;01mif\u001b[39;00m kind\u001b[38;5;241m==\u001b[39m\u001b[38;5;124m'\u001b[39m\u001b[38;5;124mspread\u001b[39m\u001b[38;5;124m'\u001b[39m:\n\u001b[0;32m    848\u001b[0m \ttrace\u001b[38;5;241m=\u001b[39m\u001b[38;5;28mself\u001b[39m\u001b[38;5;241m.\u001b[39mapply(\u001b[38;5;28;01mlambda\u001b[39;00m x:x[\u001b[38;5;241m0\u001b[39m]\u001b[38;5;241m-\u001b[39mx[\u001b[38;5;241m1\u001b[39m],axis\u001b[38;5;241m=\u001b[39m\u001b[38;5;241m1\u001b[39m)\n\u001b[1;32m--> 849\u001b[0m \tpositive\u001b[38;5;241m=\u001b[39m\u001b[43mtrace\u001b[49m\u001b[38;5;241;43m.\u001b[39;49m\u001b[43mapply\u001b[49m\u001b[43m(\u001b[49m\u001b[38;5;28;43;01mlambda\u001b[39;49;00m\u001b[43m \u001b[49m\u001b[43mx\u001b[49m\u001b[43m:\u001b[49m\u001b[43mx\u001b[49m\u001b[43m \u001b[49m\u001b[38;5;28;43;01mif\u001b[39;49;00m\u001b[43m \u001b[49m\u001b[43mx\u001b[49m\u001b[38;5;241;43m>\u001b[39;49m\u001b[38;5;241;43m=\u001b[39;49m\u001b[38;5;241;43m0\u001b[39;49m\u001b[43m \u001b[49m\u001b[38;5;28;43;01melse\u001b[39;49;00m\u001b[43m \u001b[49m\u001b[43mpd\u001b[49m\u001b[38;5;241;43m.\u001b[39;49m\u001b[43mnp\u001b[49m\u001b[38;5;241;43m.\u001b[39;49m\u001b[43mnan\u001b[49m\u001b[43m)\u001b[49m\n\u001b[0;32m    850\u001b[0m \tnegative\u001b[38;5;241m=\u001b[39mtrace\u001b[38;5;241m.\u001b[39mapply(\u001b[38;5;28;01mlambda\u001b[39;00m x:x \u001b[38;5;28;01mif\u001b[39;00m x\u001b[38;5;241m<\u001b[39m\u001b[38;5;241m0\u001b[39m \u001b[38;5;28;01melse\u001b[39;00m pd\u001b[38;5;241m.\u001b[39mnp\u001b[38;5;241m.\u001b[39mnan)\n\u001b[0;32m    851\u001b[0m \ttrace\u001b[38;5;241m=\u001b[39mpd\u001b[38;5;241m.\u001b[39mDataFrame({\u001b[38;5;124m'\u001b[39m\u001b[38;5;124mpositive\u001b[39m\u001b[38;5;124m'\u001b[39m:positive,\u001b[38;5;124m'\u001b[39m\u001b[38;5;124mnegative\u001b[39m\u001b[38;5;124m'\u001b[39m:negative})\n",
      "File \u001b[1;32mf:\\EDU CODING\\PYTHON STP\\Lib\\site-packages\\pandas\\core\\series.py:4924\u001b[0m, in \u001b[0;36mSeries.apply\u001b[1;34m(self, func, convert_dtype, args, by_row, **kwargs)\u001b[0m\n\u001b[0;32m   4789\u001b[0m \u001b[38;5;28;01mdef\u001b[39;00m \u001b[38;5;21mapply\u001b[39m(\n\u001b[0;32m   4790\u001b[0m     \u001b[38;5;28mself\u001b[39m,\n\u001b[0;32m   4791\u001b[0m     func: AggFuncType,\n\u001b[1;32m   (...)\u001b[0m\n\u001b[0;32m   4796\u001b[0m     \u001b[38;5;241m*\u001b[39m\u001b[38;5;241m*\u001b[39mkwargs,\n\u001b[0;32m   4797\u001b[0m ) \u001b[38;5;241m-\u001b[39m\u001b[38;5;241m>\u001b[39m DataFrame \u001b[38;5;241m|\u001b[39m Series:\n\u001b[0;32m   4798\u001b[0m \u001b[38;5;250m    \u001b[39m\u001b[38;5;124;03m\"\"\"\u001b[39;00m\n\u001b[0;32m   4799\u001b[0m \u001b[38;5;124;03m    Invoke function on values of Series.\u001b[39;00m\n\u001b[0;32m   4800\u001b[0m \n\u001b[1;32m   (...)\u001b[0m\n\u001b[0;32m   4915\u001b[0m \u001b[38;5;124;03m    dtype: float64\u001b[39;00m\n\u001b[0;32m   4916\u001b[0m \u001b[38;5;124;03m    \"\"\"\u001b[39;00m\n\u001b[0;32m   4917\u001b[0m     \u001b[38;5;28;01mreturn\u001b[39;00m \u001b[43mSeriesApply\u001b[49m\u001b[43m(\u001b[49m\n\u001b[0;32m   4918\u001b[0m \u001b[43m        \u001b[49m\u001b[38;5;28;43mself\u001b[39;49m\u001b[43m,\u001b[49m\n\u001b[0;32m   4919\u001b[0m \u001b[43m        \u001b[49m\u001b[43mfunc\u001b[49m\u001b[43m,\u001b[49m\n\u001b[0;32m   4920\u001b[0m \u001b[43m        \u001b[49m\u001b[43mconvert_dtype\u001b[49m\u001b[38;5;241;43m=\u001b[39;49m\u001b[43mconvert_dtype\u001b[49m\u001b[43m,\u001b[49m\n\u001b[0;32m   4921\u001b[0m \u001b[43m        \u001b[49m\u001b[43mby_row\u001b[49m\u001b[38;5;241;43m=\u001b[39;49m\u001b[43mby_row\u001b[49m\u001b[43m,\u001b[49m\n\u001b[0;32m   4922\u001b[0m \u001b[43m        \u001b[49m\u001b[43margs\u001b[49m\u001b[38;5;241;43m=\u001b[39;49m\u001b[43margs\u001b[49m\u001b[43m,\u001b[49m\n\u001b[0;32m   4923\u001b[0m \u001b[43m        \u001b[49m\u001b[43mkwargs\u001b[49m\u001b[38;5;241;43m=\u001b[39;49m\u001b[43mkwargs\u001b[49m\u001b[43m,\u001b[49m\n\u001b[1;32m-> 4924\u001b[0m \u001b[43m    \u001b[49m\u001b[43m)\u001b[49m\u001b[38;5;241;43m.\u001b[39;49m\u001b[43mapply\u001b[49m\u001b[43m(\u001b[49m\u001b[43m)\u001b[49m\n",
      "File \u001b[1;32mf:\\EDU CODING\\PYTHON STP\\Lib\\site-packages\\pandas\\core\\apply.py:1427\u001b[0m, in \u001b[0;36mSeriesApply.apply\u001b[1;34m(self)\u001b[0m\n\u001b[0;32m   1424\u001b[0m     \u001b[38;5;28;01mreturn\u001b[39;00m \u001b[38;5;28mself\u001b[39m\u001b[38;5;241m.\u001b[39mapply_compat()\n\u001b[0;32m   1426\u001b[0m \u001b[38;5;66;03m# self.func is Callable\u001b[39;00m\n\u001b[1;32m-> 1427\u001b[0m \u001b[38;5;28;01mreturn\u001b[39;00m \u001b[38;5;28;43mself\u001b[39;49m\u001b[38;5;241;43m.\u001b[39;49m\u001b[43mapply_standard\u001b[49m\u001b[43m(\u001b[49m\u001b[43m)\u001b[49m\n",
      "File \u001b[1;32mf:\\EDU CODING\\PYTHON STP\\Lib\\site-packages\\pandas\\core\\apply.py:1507\u001b[0m, in \u001b[0;36mSeriesApply.apply_standard\u001b[1;34m(self)\u001b[0m\n\u001b[0;32m   1501\u001b[0m \u001b[38;5;66;03m# row-wise access\u001b[39;00m\n\u001b[0;32m   1502\u001b[0m \u001b[38;5;66;03m# apply doesn't have a `na_action` keyword and for backward compat reasons\u001b[39;00m\n\u001b[0;32m   1503\u001b[0m \u001b[38;5;66;03m# we need to give `na_action=\"ignore\"` for categorical data.\u001b[39;00m\n\u001b[0;32m   1504\u001b[0m \u001b[38;5;66;03m# TODO: remove the `na_action=\"ignore\"` when that default has been changed in\u001b[39;00m\n\u001b[0;32m   1505\u001b[0m \u001b[38;5;66;03m#  Categorical (GH51645).\u001b[39;00m\n\u001b[0;32m   1506\u001b[0m action \u001b[38;5;241m=\u001b[39m \u001b[38;5;124m\"\u001b[39m\u001b[38;5;124mignore\u001b[39m\u001b[38;5;124m\"\u001b[39m \u001b[38;5;28;01mif\u001b[39;00m \u001b[38;5;28misinstance\u001b[39m(obj\u001b[38;5;241m.\u001b[39mdtype, CategoricalDtype) \u001b[38;5;28;01melse\u001b[39;00m \u001b[38;5;28;01mNone\u001b[39;00m\n\u001b[1;32m-> 1507\u001b[0m mapped \u001b[38;5;241m=\u001b[39m \u001b[43mobj\u001b[49m\u001b[38;5;241;43m.\u001b[39;49m\u001b[43m_map_values\u001b[49m\u001b[43m(\u001b[49m\n\u001b[0;32m   1508\u001b[0m \u001b[43m    \u001b[49m\u001b[43mmapper\u001b[49m\u001b[38;5;241;43m=\u001b[39;49m\u001b[43mcurried\u001b[49m\u001b[43m,\u001b[49m\u001b[43m \u001b[49m\u001b[43mna_action\u001b[49m\u001b[38;5;241;43m=\u001b[39;49m\u001b[43maction\u001b[49m\u001b[43m,\u001b[49m\u001b[43m \u001b[49m\u001b[43mconvert\u001b[49m\u001b[38;5;241;43m=\u001b[39;49m\u001b[38;5;28;43mself\u001b[39;49m\u001b[38;5;241;43m.\u001b[39;49m\u001b[43mconvert_dtype\u001b[49m\n\u001b[0;32m   1509\u001b[0m \u001b[43m\u001b[49m\u001b[43m)\u001b[49m\n\u001b[0;32m   1511\u001b[0m \u001b[38;5;28;01mif\u001b[39;00m \u001b[38;5;28mlen\u001b[39m(mapped) \u001b[38;5;129;01mand\u001b[39;00m \u001b[38;5;28misinstance\u001b[39m(mapped[\u001b[38;5;241m0\u001b[39m], ABCSeries):\n\u001b[0;32m   1512\u001b[0m     \u001b[38;5;66;03m# GH#43986 Need to do list(mapped) in order to get treated as nested\u001b[39;00m\n\u001b[0;32m   1513\u001b[0m     \u001b[38;5;66;03m#  See also GH#25959 regarding EA support\u001b[39;00m\n\u001b[0;32m   1514\u001b[0m     \u001b[38;5;28;01mreturn\u001b[39;00m obj\u001b[38;5;241m.\u001b[39m_constructor_expanddim(\u001b[38;5;28mlist\u001b[39m(mapped), index\u001b[38;5;241m=\u001b[39mobj\u001b[38;5;241m.\u001b[39mindex)\n",
      "File \u001b[1;32mf:\\EDU CODING\\PYTHON STP\\Lib\\site-packages\\pandas\\core\\base.py:921\u001b[0m, in \u001b[0;36mIndexOpsMixin._map_values\u001b[1;34m(self, mapper, na_action, convert)\u001b[0m\n\u001b[0;32m    918\u001b[0m \u001b[38;5;28;01mif\u001b[39;00m \u001b[38;5;28misinstance\u001b[39m(arr, ExtensionArray):\n\u001b[0;32m    919\u001b[0m     \u001b[38;5;28;01mreturn\u001b[39;00m arr\u001b[38;5;241m.\u001b[39mmap(mapper, na_action\u001b[38;5;241m=\u001b[39mna_action)\n\u001b[1;32m--> 921\u001b[0m \u001b[38;5;28;01mreturn\u001b[39;00m \u001b[43malgorithms\u001b[49m\u001b[38;5;241;43m.\u001b[39;49m\u001b[43mmap_array\u001b[49m\u001b[43m(\u001b[49m\u001b[43marr\u001b[49m\u001b[43m,\u001b[49m\u001b[43m \u001b[49m\u001b[43mmapper\u001b[49m\u001b[43m,\u001b[49m\u001b[43m \u001b[49m\u001b[43mna_action\u001b[49m\u001b[38;5;241;43m=\u001b[39;49m\u001b[43mna_action\u001b[49m\u001b[43m,\u001b[49m\u001b[43m \u001b[49m\u001b[43mconvert\u001b[49m\u001b[38;5;241;43m=\u001b[39;49m\u001b[43mconvert\u001b[49m\u001b[43m)\u001b[49m\n",
      "File \u001b[1;32mf:\\EDU CODING\\PYTHON STP\\Lib\\site-packages\\pandas\\core\\algorithms.py:1743\u001b[0m, in \u001b[0;36mmap_array\u001b[1;34m(arr, mapper, na_action, convert)\u001b[0m\n\u001b[0;32m   1741\u001b[0m values \u001b[38;5;241m=\u001b[39m arr\u001b[38;5;241m.\u001b[39mastype(\u001b[38;5;28mobject\u001b[39m, copy\u001b[38;5;241m=\u001b[39m\u001b[38;5;28;01mFalse\u001b[39;00m)\n\u001b[0;32m   1742\u001b[0m \u001b[38;5;28;01mif\u001b[39;00m na_action \u001b[38;5;129;01mis\u001b[39;00m \u001b[38;5;28;01mNone\u001b[39;00m:\n\u001b[1;32m-> 1743\u001b[0m     \u001b[38;5;28;01mreturn\u001b[39;00m \u001b[43mlib\u001b[49m\u001b[38;5;241;43m.\u001b[39;49m\u001b[43mmap_infer\u001b[49m\u001b[43m(\u001b[49m\u001b[43mvalues\u001b[49m\u001b[43m,\u001b[49m\u001b[43m \u001b[49m\u001b[43mmapper\u001b[49m\u001b[43m,\u001b[49m\u001b[43m \u001b[49m\u001b[43mconvert\u001b[49m\u001b[38;5;241;43m=\u001b[39;49m\u001b[43mconvert\u001b[49m\u001b[43m)\u001b[49m\n\u001b[0;32m   1744\u001b[0m \u001b[38;5;28;01melse\u001b[39;00m:\n\u001b[0;32m   1745\u001b[0m     \u001b[38;5;28;01mreturn\u001b[39;00m lib\u001b[38;5;241m.\u001b[39mmap_infer_mask(\n\u001b[0;32m   1746\u001b[0m         values, mapper, mask\u001b[38;5;241m=\u001b[39misna(values)\u001b[38;5;241m.\u001b[39mview(np\u001b[38;5;241m.\u001b[39muint8), convert\u001b[38;5;241m=\u001b[39mconvert\n\u001b[0;32m   1747\u001b[0m     )\n",
      "File \u001b[1;32mlib.pyx:2972\u001b[0m, in \u001b[0;36mpandas._libs.lib.map_infer\u001b[1;34m()\u001b[0m\n",
      "File \u001b[1;32mf:\\EDU CODING\\PYTHON STP\\Lib\\site-packages\\cufflinks\\plotlytools.py:849\u001b[0m, in \u001b[0;36m_iplot.<locals>.<lambda>\u001b[1;34m(x)\u001b[0m\n\u001b[0;32m    847\u001b[0m \u001b[38;5;28;01mif\u001b[39;00m kind\u001b[38;5;241m==\u001b[39m\u001b[38;5;124m'\u001b[39m\u001b[38;5;124mspread\u001b[39m\u001b[38;5;124m'\u001b[39m:\n\u001b[0;32m    848\u001b[0m \ttrace\u001b[38;5;241m=\u001b[39m\u001b[38;5;28mself\u001b[39m\u001b[38;5;241m.\u001b[39mapply(\u001b[38;5;28;01mlambda\u001b[39;00m x:x[\u001b[38;5;241m0\u001b[39m]\u001b[38;5;241m-\u001b[39mx[\u001b[38;5;241m1\u001b[39m],axis\u001b[38;5;241m=\u001b[39m\u001b[38;5;241m1\u001b[39m)\n\u001b[1;32m--> 849\u001b[0m \tpositive\u001b[38;5;241m=\u001b[39mtrace\u001b[38;5;241m.\u001b[39mapply(\u001b[38;5;28;01mlambda\u001b[39;00m x:x \u001b[38;5;28;01mif\u001b[39;00m x\u001b[38;5;241m>\u001b[39m\u001b[38;5;241m=\u001b[39m\u001b[38;5;241m0\u001b[39m \u001b[38;5;28;01melse\u001b[39;00m \u001b[43mpd\u001b[49m\u001b[38;5;241;43m.\u001b[39;49m\u001b[43mnp\u001b[49m\u001b[38;5;241m.\u001b[39mnan)\n\u001b[0;32m    850\u001b[0m \tnegative\u001b[38;5;241m=\u001b[39mtrace\u001b[38;5;241m.\u001b[39mapply(\u001b[38;5;28;01mlambda\u001b[39;00m x:x \u001b[38;5;28;01mif\u001b[39;00m x\u001b[38;5;241m<\u001b[39m\u001b[38;5;241m0\u001b[39m \u001b[38;5;28;01melse\u001b[39;00m pd\u001b[38;5;241m.\u001b[39mnp\u001b[38;5;241m.\u001b[39mnan)\n\u001b[0;32m    851\u001b[0m \ttrace\u001b[38;5;241m=\u001b[39mpd\u001b[38;5;241m.\u001b[39mDataFrame({\u001b[38;5;124m'\u001b[39m\u001b[38;5;124mpositive\u001b[39m\u001b[38;5;124m'\u001b[39m:positive,\u001b[38;5;124m'\u001b[39m\u001b[38;5;124mnegative\u001b[39m\u001b[38;5;124m'\u001b[39m:negative})\n",
      "\u001b[1;31mAttributeError\u001b[0m: module 'pandas' has no attribute 'np'"
     ]
    }
   ],
   "source": [
    "df[['A','B']].iplot(kind='spread')"
   ]
  },
  {
   "cell_type": "markdown",
   "metadata": {},
   "source": [
    "#BUBBLEPLOT"
   ]
  },
  {
   "cell_type": "code",
   "execution_count": 78,
   "metadata": {},
   "outputs": [
    {
     "data": {
      "application/vnd.plotly.v1+json": {
       "config": {
        "linkText": "Export to plot.ly",
        "plotlyServerURL": "https://plot.ly",
        "showLink": true
       },
       "data": [
        {
         "marker": {
          "color": [
           "rgb(255, 153, 51)",
           "rgb(55, 128, 191)",
           "rgb(50, 171, 96)",
           "rgb(128, 0, 128)",
           "rgb(219, 64, 82)",
           "rgb(0, 128, 128)",
           "rgb(255, 255, 51)",
           "rgb(128, 128, 0)",
           "rgb(251, 128, 114)",
           "rgb(128, 177, 211)"
          ],
          "line": {
           "width": 1.3
          },
          "size": [
           74,
           28,
           64,
           36,
           72,
           83,
           53,
           55,
           74,
           34,
           70,
           71,
           31,
           16,
           54,
           63,
           87,
           64,
           76,
           20,
           43,
           67,
           88,
           23,
           69,
           33,
           62,
           18,
           63,
           65,
           51,
           112,
           57,
           47,
           41,
           19,
           88,
           69,
           92,
           79,
           51,
           70,
           55,
           59,
           39,
           83,
           77,
           52,
           54,
           19,
           20,
           62,
           49,
           18,
           44,
           48,
           36,
           51,
           78,
           72,
           77,
           40,
           39,
           28,
           58,
           28,
           81,
           70,
           71,
           56,
           54,
           71,
           79,
           17,
           39,
           65,
           63,
           79,
           43,
           23,
           72,
           52,
           50,
           49,
           86,
           52,
           73,
           12,
           76,
           56,
           58,
           103,
           26,
           36,
           47,
           71,
           38,
           45,
           41,
           26
          ],
          "symbol": "circle"
         },
         "mode": "markers",
         "text": "",
         "type": "scatter",
         "x": [
          -0.6237268104686525,
          1.274572752369918,
          1.2855856084667923,
          0.4780921393755692,
          0.34494324406716476,
          -0.6405949323178967,
          -0.23348553233512562,
          0.17813370617579363,
          -0.7673268343683513,
          0.6579796347779423,
          0.09150439440134266,
          -0.3202194087654672,
          -0.7198822372283044,
          -0.03040259488005372,
          1.130130891132435,
          -1.3944379204410033,
          1.8055147559922298,
          -1.9857070195145679,
          1.4470767837214011,
          1.2874355830663946,
          0.696433594308047,
          2.404825719871125,
          -0.9623858314433245,
          -0.1859132142492279,
          0.03170213208913351,
          0.5002634060080197,
          1.4787083705078896,
          0.7458816130279491,
          0.3594135831219899,
          -1.2275883098721305,
          -0.03238291414533404,
          -0.15198417429647754,
          -0.8830153029958461,
          -0.8132224851313794,
          -2.0501610155245906,
          -0.9041899883149012,
          2.178167424721099,
          0.286622228389137,
          1.075573863823262,
          -0.4356904238305605,
          -1.0651750876267727,
          -0.0028056950631574658,
          -0.49382633776458307,
          -1.3147464271320535,
          -0.08989013325516612,
          -0.7042291895417842,
          -0.36343888412820746,
          0.333312240811528,
          1.0876510344408286,
          -0.3062546243441566,
          0.5660085135696187,
          0.09294517023552899,
          0.1894174818824277,
          0.04080039057265011,
          1.9675892925427019,
          -1.301768091588984,
          1.3152747666891773,
          0.005160869784432948,
          1.462520086249543,
          0.23850033626882083,
          0.8276718102531865,
          0.7004459393770409,
          0.19721486412706607,
          1.352394056400812,
          -1.5484023795619661,
          -0.22703321615797586,
          0.38543157811012896,
          0.8648956881612846,
          0.11555970092743817,
          0.24377042358437961,
          -0.8907934979824191,
          -0.41298058093838874,
          0.08772890141429637,
          -0.07976871061424609,
          0.2956966147265074,
          0.004051788741819877,
          -0.21232058552429844,
          -1.644617144448248,
          0.9817767416421945,
          -0.4355636648375388,
          -0.5358800350351557,
          0.2686898414179787,
          -1.7857386894657712,
          0.16534194227863233,
          1.6237878884244912,
          0.940607078882582,
          0.21777436019505278,
          1.2675257874568937,
          -1.1924645795499464,
          -1.0024359732972687,
          -0.9049278274834502,
          2.1992791381619425,
          -0.10497720054729366,
          -0.4905151303510943,
          -0.6425792587255553,
          0.5835158348888574,
          0.1531735913687253,
          1.2239349589688424,
          -0.03703710548486216,
          -0.2791575018844413
         ],
         "y": [
          -0.5992388419623923,
          -1.2575663073827104,
          -0.8681566591353996,
          0.7064138445219653,
          1.220897910921186,
          -0.23843854751836333,
          0.08125458191418496,
          0.6318372109145688,
          0.942548979492198,
          2.320690008639898,
          0.9429607967997387,
          -0.29015875072636427,
          -1.6581592775086522,
          -0.5477094864769935,
          0.767637407871621,
          0.8881186319337434,
          -0.0643904961411898,
          0.9534947040026447,
          -0.16606079238591212,
          0.8603565522937122,
          -0.1580619170545945,
          -0.9653181739405476,
          -0.46734405290943015,
          -1.2911496712539385,
          -0.3972209893445163,
          0.3488214938166166,
          -0.21314454951927206,
          -0.4643598207233956,
          -0.6800305118874078,
          1.2935401582290862,
          1.4361191337703871,
          -1.171567562342489,
          -0.3670068378880621,
          -1.1054577060016664,
          -0.32064801789654274,
          -0.9363926236184297,
          -0.49477094246354825,
          0.812902698213528,
          0.8537832422872523,
          0.094645992888546,
          -0.6994604522634928,
          1.0646035005563184,
          0.8307767553268849,
          1.0896853366905155,
          0.2714464628285896,
          -0.5975426618874339,
          -0.16416177611486993,
          0.2877218711794547,
          -0.3781742013756831,
          0.48423209173426957,
          -1.180883461347576,
          -1.8120680649992547,
          0.8284734124830162,
          -1.1731129598625227,
          1.9801720805279264,
          1.2077623807204638,
          -0.13553492849395918,
          0.7018366579992051,
          0.23908836812693707,
          1.1711500013199105,
          0.3263080964506011,
          1.9688996231734426,
          0.18021053530810413,
          0.5375796221576216,
          1.5367208473457563,
          0.3513982997315935,
          0.9127172041851135,
          -2.230666072053595,
          -0.019961815619791035,
          -0.30999675103673313,
          -0.8464020313819279,
          -0.2533707794233801,
          0.4896143033570152,
          1.46020941716156,
          1.2582452885624982,
          -0.029048024548711818,
          -1.946621422012302,
          0.9796055069317009,
          1.7544797453482672,
          -0.9410046003128689,
          0.05471156767059863,
          1.8503324453552497,
          1.5160510298296148,
          -0.18408876323412576,
          -0.997566364283777,
          -1.2160719819895915,
          -0.015213805397837697,
          -1.3869063045253367,
          -0.3214812075644415,
          -0.27298008360765874,
          -0.424922336179347,
          -0.43640971391586103,
          0.24837444626450242,
          -0.5897616186959732,
          -0.966304223117495,
          0.3293893994072471,
          -1.126034549538087,
          0.7201557873948927,
          0.19646839542118436,
          -0.8793115217131454
         ]
        }
       ],
       "layout": {
        "legend": {
         "bgcolor": "#F5F6F9",
         "font": {
          "color": "#4D5663"
         }
        },
        "paper_bgcolor": "#F5F6F9",
        "plot_bgcolor": "#F5F6F9",
        "template": {
         "data": {
          "bar": [
           {
            "error_x": {
             "color": "#2a3f5f"
            },
            "error_y": {
             "color": "#2a3f5f"
            },
            "marker": {
             "line": {
              "color": "#E5ECF6",
              "width": 0.5
             },
             "pattern": {
              "fillmode": "overlay",
              "size": 10,
              "solidity": 0.2
             }
            },
            "type": "bar"
           }
          ],
          "barpolar": [
           {
            "marker": {
             "line": {
              "color": "#E5ECF6",
              "width": 0.5
             },
             "pattern": {
              "fillmode": "overlay",
              "size": 10,
              "solidity": 0.2
             }
            },
            "type": "barpolar"
           }
          ],
          "carpet": [
           {
            "aaxis": {
             "endlinecolor": "#2a3f5f",
             "gridcolor": "white",
             "linecolor": "white",
             "minorgridcolor": "white",
             "startlinecolor": "#2a3f5f"
            },
            "baxis": {
             "endlinecolor": "#2a3f5f",
             "gridcolor": "white",
             "linecolor": "white",
             "minorgridcolor": "white",
             "startlinecolor": "#2a3f5f"
            },
            "type": "carpet"
           }
          ],
          "choropleth": [
           {
            "colorbar": {
             "outlinewidth": 0,
             "ticks": ""
            },
            "type": "choropleth"
           }
          ],
          "contour": [
           {
            "colorbar": {
             "outlinewidth": 0,
             "ticks": ""
            },
            "colorscale": [
             [
              0,
              "#0d0887"
             ],
             [
              0.1111111111111111,
              "#46039f"
             ],
             [
              0.2222222222222222,
              "#7201a8"
             ],
             [
              0.3333333333333333,
              "#9c179e"
             ],
             [
              0.4444444444444444,
              "#bd3786"
             ],
             [
              0.5555555555555556,
              "#d8576b"
             ],
             [
              0.6666666666666666,
              "#ed7953"
             ],
             [
              0.7777777777777778,
              "#fb9f3a"
             ],
             [
              0.8888888888888888,
              "#fdca26"
             ],
             [
              1,
              "#f0f921"
             ]
            ],
            "type": "contour"
           }
          ],
          "contourcarpet": [
           {
            "colorbar": {
             "outlinewidth": 0,
             "ticks": ""
            },
            "type": "contourcarpet"
           }
          ],
          "heatmap": [
           {
            "colorbar": {
             "outlinewidth": 0,
             "ticks": ""
            },
            "colorscale": [
             [
              0,
              "#0d0887"
             ],
             [
              0.1111111111111111,
              "#46039f"
             ],
             [
              0.2222222222222222,
              "#7201a8"
             ],
             [
              0.3333333333333333,
              "#9c179e"
             ],
             [
              0.4444444444444444,
              "#bd3786"
             ],
             [
              0.5555555555555556,
              "#d8576b"
             ],
             [
              0.6666666666666666,
              "#ed7953"
             ],
             [
              0.7777777777777778,
              "#fb9f3a"
             ],
             [
              0.8888888888888888,
              "#fdca26"
             ],
             [
              1,
              "#f0f921"
             ]
            ],
            "type": "heatmap"
           }
          ],
          "heatmapgl": [
           {
            "colorbar": {
             "outlinewidth": 0,
             "ticks": ""
            },
            "colorscale": [
             [
              0,
              "#0d0887"
             ],
             [
              0.1111111111111111,
              "#46039f"
             ],
             [
              0.2222222222222222,
              "#7201a8"
             ],
             [
              0.3333333333333333,
              "#9c179e"
             ],
             [
              0.4444444444444444,
              "#bd3786"
             ],
             [
              0.5555555555555556,
              "#d8576b"
             ],
             [
              0.6666666666666666,
              "#ed7953"
             ],
             [
              0.7777777777777778,
              "#fb9f3a"
             ],
             [
              0.8888888888888888,
              "#fdca26"
             ],
             [
              1,
              "#f0f921"
             ]
            ],
            "type": "heatmapgl"
           }
          ],
          "histogram": [
           {
            "marker": {
             "pattern": {
              "fillmode": "overlay",
              "size": 10,
              "solidity": 0.2
             }
            },
            "type": "histogram"
           }
          ],
          "histogram2d": [
           {
            "colorbar": {
             "outlinewidth": 0,
             "ticks": ""
            },
            "colorscale": [
             [
              0,
              "#0d0887"
             ],
             [
              0.1111111111111111,
              "#46039f"
             ],
             [
              0.2222222222222222,
              "#7201a8"
             ],
             [
              0.3333333333333333,
              "#9c179e"
             ],
             [
              0.4444444444444444,
              "#bd3786"
             ],
             [
              0.5555555555555556,
              "#d8576b"
             ],
             [
              0.6666666666666666,
              "#ed7953"
             ],
             [
              0.7777777777777778,
              "#fb9f3a"
             ],
             [
              0.8888888888888888,
              "#fdca26"
             ],
             [
              1,
              "#f0f921"
             ]
            ],
            "type": "histogram2d"
           }
          ],
          "histogram2dcontour": [
           {
            "colorbar": {
             "outlinewidth": 0,
             "ticks": ""
            },
            "colorscale": [
             [
              0,
              "#0d0887"
             ],
             [
              0.1111111111111111,
              "#46039f"
             ],
             [
              0.2222222222222222,
              "#7201a8"
             ],
             [
              0.3333333333333333,
              "#9c179e"
             ],
             [
              0.4444444444444444,
              "#bd3786"
             ],
             [
              0.5555555555555556,
              "#d8576b"
             ],
             [
              0.6666666666666666,
              "#ed7953"
             ],
             [
              0.7777777777777778,
              "#fb9f3a"
             ],
             [
              0.8888888888888888,
              "#fdca26"
             ],
             [
              1,
              "#f0f921"
             ]
            ],
            "type": "histogram2dcontour"
           }
          ],
          "mesh3d": [
           {
            "colorbar": {
             "outlinewidth": 0,
             "ticks": ""
            },
            "type": "mesh3d"
           }
          ],
          "parcoords": [
           {
            "line": {
             "colorbar": {
              "outlinewidth": 0,
              "ticks": ""
             }
            },
            "type": "parcoords"
           }
          ],
          "pie": [
           {
            "automargin": true,
            "type": "pie"
           }
          ],
          "scatter": [
           {
            "fillpattern": {
             "fillmode": "overlay",
             "size": 10,
             "solidity": 0.2
            },
            "type": "scatter"
           }
          ],
          "scatter3d": [
           {
            "line": {
             "colorbar": {
              "outlinewidth": 0,
              "ticks": ""
             }
            },
            "marker": {
             "colorbar": {
              "outlinewidth": 0,
              "ticks": ""
             }
            },
            "type": "scatter3d"
           }
          ],
          "scattercarpet": [
           {
            "marker": {
             "colorbar": {
              "outlinewidth": 0,
              "ticks": ""
             }
            },
            "type": "scattercarpet"
           }
          ],
          "scattergeo": [
           {
            "marker": {
             "colorbar": {
              "outlinewidth": 0,
              "ticks": ""
             }
            },
            "type": "scattergeo"
           }
          ],
          "scattergl": [
           {
            "marker": {
             "colorbar": {
              "outlinewidth": 0,
              "ticks": ""
             }
            },
            "type": "scattergl"
           }
          ],
          "scattermapbox": [
           {
            "marker": {
             "colorbar": {
              "outlinewidth": 0,
              "ticks": ""
             }
            },
            "type": "scattermapbox"
           }
          ],
          "scatterpolar": [
           {
            "marker": {
             "colorbar": {
              "outlinewidth": 0,
              "ticks": ""
             }
            },
            "type": "scatterpolar"
           }
          ],
          "scatterpolargl": [
           {
            "marker": {
             "colorbar": {
              "outlinewidth": 0,
              "ticks": ""
             }
            },
            "type": "scatterpolargl"
           }
          ],
          "scatterternary": [
           {
            "marker": {
             "colorbar": {
              "outlinewidth": 0,
              "ticks": ""
             }
            },
            "type": "scatterternary"
           }
          ],
          "surface": [
           {
            "colorbar": {
             "outlinewidth": 0,
             "ticks": ""
            },
            "colorscale": [
             [
              0,
              "#0d0887"
             ],
             [
              0.1111111111111111,
              "#46039f"
             ],
             [
              0.2222222222222222,
              "#7201a8"
             ],
             [
              0.3333333333333333,
              "#9c179e"
             ],
             [
              0.4444444444444444,
              "#bd3786"
             ],
             [
              0.5555555555555556,
              "#d8576b"
             ],
             [
              0.6666666666666666,
              "#ed7953"
             ],
             [
              0.7777777777777778,
              "#fb9f3a"
             ],
             [
              0.8888888888888888,
              "#fdca26"
             ],
             [
              1,
              "#f0f921"
             ]
            ],
            "type": "surface"
           }
          ],
          "table": [
           {
            "cells": {
             "fill": {
              "color": "#EBF0F8"
             },
             "line": {
              "color": "white"
             }
            },
            "header": {
             "fill": {
              "color": "#C8D4E3"
             },
             "line": {
              "color": "white"
             }
            },
            "type": "table"
           }
          ]
         },
         "layout": {
          "annotationdefaults": {
           "arrowcolor": "#2a3f5f",
           "arrowhead": 0,
           "arrowwidth": 1
          },
          "autotypenumbers": "strict",
          "coloraxis": {
           "colorbar": {
            "outlinewidth": 0,
            "ticks": ""
           }
          },
          "colorscale": {
           "diverging": [
            [
             0,
             "#8e0152"
            ],
            [
             0.1,
             "#c51b7d"
            ],
            [
             0.2,
             "#de77ae"
            ],
            [
             0.3,
             "#f1b6da"
            ],
            [
             0.4,
             "#fde0ef"
            ],
            [
             0.5,
             "#f7f7f7"
            ],
            [
             0.6,
             "#e6f5d0"
            ],
            [
             0.7,
             "#b8e186"
            ],
            [
             0.8,
             "#7fbc41"
            ],
            [
             0.9,
             "#4d9221"
            ],
            [
             1,
             "#276419"
            ]
           ],
           "sequential": [
            [
             0,
             "#0d0887"
            ],
            [
             0.1111111111111111,
             "#46039f"
            ],
            [
             0.2222222222222222,
             "#7201a8"
            ],
            [
             0.3333333333333333,
             "#9c179e"
            ],
            [
             0.4444444444444444,
             "#bd3786"
            ],
            [
             0.5555555555555556,
             "#d8576b"
            ],
            [
             0.6666666666666666,
             "#ed7953"
            ],
            [
             0.7777777777777778,
             "#fb9f3a"
            ],
            [
             0.8888888888888888,
             "#fdca26"
            ],
            [
             1,
             "#f0f921"
            ]
           ],
           "sequentialminus": [
            [
             0,
             "#0d0887"
            ],
            [
             0.1111111111111111,
             "#46039f"
            ],
            [
             0.2222222222222222,
             "#7201a8"
            ],
            [
             0.3333333333333333,
             "#9c179e"
            ],
            [
             0.4444444444444444,
             "#bd3786"
            ],
            [
             0.5555555555555556,
             "#d8576b"
            ],
            [
             0.6666666666666666,
             "#ed7953"
            ],
            [
             0.7777777777777778,
             "#fb9f3a"
            ],
            [
             0.8888888888888888,
             "#fdca26"
            ],
            [
             1,
             "#f0f921"
            ]
           ]
          },
          "colorway": [
           "#636efa",
           "#EF553B",
           "#00cc96",
           "#ab63fa",
           "#FFA15A",
           "#19d3f3",
           "#FF6692",
           "#B6E880",
           "#FF97FF",
           "#FECB52"
          ],
          "font": {
           "color": "#2a3f5f"
          },
          "geo": {
           "bgcolor": "white",
           "lakecolor": "white",
           "landcolor": "#E5ECF6",
           "showlakes": true,
           "showland": true,
           "subunitcolor": "white"
          },
          "hoverlabel": {
           "align": "left"
          },
          "hovermode": "closest",
          "mapbox": {
           "style": "light"
          },
          "paper_bgcolor": "white",
          "plot_bgcolor": "#E5ECF6",
          "polar": {
           "angularaxis": {
            "gridcolor": "white",
            "linecolor": "white",
            "ticks": ""
           },
           "bgcolor": "#E5ECF6",
           "radialaxis": {
            "gridcolor": "white",
            "linecolor": "white",
            "ticks": ""
           }
          },
          "scene": {
           "xaxis": {
            "backgroundcolor": "#E5ECF6",
            "gridcolor": "white",
            "gridwidth": 2,
            "linecolor": "white",
            "showbackground": true,
            "ticks": "",
            "zerolinecolor": "white"
           },
           "yaxis": {
            "backgroundcolor": "#E5ECF6",
            "gridcolor": "white",
            "gridwidth": 2,
            "linecolor": "white",
            "showbackground": true,
            "ticks": "",
            "zerolinecolor": "white"
           },
           "zaxis": {
            "backgroundcolor": "#E5ECF6",
            "gridcolor": "white",
            "gridwidth": 2,
            "linecolor": "white",
            "showbackground": true,
            "ticks": "",
            "zerolinecolor": "white"
           }
          },
          "shapedefaults": {
           "line": {
            "color": "#2a3f5f"
           }
          },
          "ternary": {
           "aaxis": {
            "gridcolor": "white",
            "linecolor": "white",
            "ticks": ""
           },
           "baxis": {
            "gridcolor": "white",
            "linecolor": "white",
            "ticks": ""
           },
           "bgcolor": "#E5ECF6",
           "caxis": {
            "gridcolor": "white",
            "linecolor": "white",
            "ticks": ""
           }
          },
          "title": {
           "x": 0.05
          },
          "xaxis": {
           "automargin": true,
           "gridcolor": "white",
           "linecolor": "white",
           "ticks": "",
           "title": {
            "standoff": 15
           },
           "zerolinecolor": "white",
           "zerolinewidth": 2
          },
          "yaxis": {
           "automargin": true,
           "gridcolor": "white",
           "linecolor": "white",
           "ticks": "",
           "title": {
            "standoff": 15
           },
           "zerolinecolor": "white",
           "zerolinewidth": 2
          }
         }
        },
        "title": {
         "font": {
          "color": "#4D5663"
         }
        },
        "xaxis": {
         "gridcolor": "#E1E5ED",
         "showgrid": true,
         "tickfont": {
          "color": "#4D5663"
         },
         "title": {
          "font": {
           "color": "#4D5663"
          },
          "text": ""
         },
         "zerolinecolor": "#E1E5ED"
        },
        "yaxis": {
         "gridcolor": "#E1E5ED",
         "showgrid": true,
         "tickfont": {
          "color": "#4D5663"
         },
         "title": {
          "font": {
           "color": "#4D5663"
          },
          "text": ""
         },
         "zerolinecolor": "#E1E5ED"
        }
       }
      },
      "text/html": [
       "<div>                            <div id=\"4f98b8ce-88cc-4c7a-8e5d-7eb90d8d8e54\" class=\"plotly-graph-div\" style=\"height:525px; width:100%;\"></div>            <script type=\"text/javascript\">                require([\"plotly\"], function(Plotly) {                    window.PLOTLYENV=window.PLOTLYENV || {};\n",
       "                    window.PLOTLYENV.BASE_URL='https://plot.ly';                                    if (document.getElementById(\"4f98b8ce-88cc-4c7a-8e5d-7eb90d8d8e54\")) {                    Plotly.newPlot(                        \"4f98b8ce-88cc-4c7a-8e5d-7eb90d8d8e54\",                        [{\"marker\":{\"color\":[\"rgb(255, 153, 51)\",\"rgb(55, 128, 191)\",\"rgb(50, 171, 96)\",\"rgb(128, 0, 128)\",\"rgb(219, 64, 82)\",\"rgb(0, 128, 128)\",\"rgb(255, 255, 51)\",\"rgb(128, 128, 0)\",\"rgb(251, 128, 114)\",\"rgb(128, 177, 211)\"],\"line\":{\"width\":1.3},\"size\":[74,28,64,36,72,83,53,55,74,34,70,71,31,16,54,63,87,64,76,20,43,67,88,23,69,33,62,18,63,65,51,112,57,47,41,19,88,69,92,79,51,70,55,59,39,83,77,52,54,19,20,62,49,18,44,48,36,51,78,72,77,40,39,28,58,28,81,70,71,56,54,71,79,17,39,65,63,79,43,23,72,52,50,49,86,52,73,12,76,56,58,103,26,36,47,71,38,45,41,26],\"symbol\":\"circle\"},\"mode\":\"markers\",\"text\":\"\",\"x\":[-0.6237268104686525,1.274572752369918,1.2855856084667923,0.4780921393755692,0.34494324406716476,-0.6405949323178967,-0.23348553233512562,0.17813370617579363,-0.7673268343683513,0.6579796347779423,0.09150439440134266,-0.3202194087654672,-0.7198822372283044,-0.03040259488005372,1.130130891132435,-1.3944379204410033,1.8055147559922298,-1.9857070195145679,1.4470767837214011,1.2874355830663946,0.696433594308047,2.404825719871125,-0.9623858314433245,-0.1859132142492279,0.03170213208913351,0.5002634060080197,1.4787083705078896,0.7458816130279491,0.3594135831219899,-1.2275883098721305,-0.03238291414533404,-0.15198417429647754,-0.8830153029958461,-0.8132224851313794,-2.0501610155245906,-0.9041899883149012,2.178167424721099,0.286622228389137,1.075573863823262,-0.4356904238305605,-1.0651750876267727,-0.0028056950631574658,-0.49382633776458307,-1.3147464271320535,-0.08989013325516612,-0.7042291895417842,-0.36343888412820746,0.333312240811528,1.0876510344408286,-0.3062546243441566,0.5660085135696187,0.09294517023552899,0.1894174818824277,0.04080039057265011,1.9675892925427019,-1.301768091588984,1.3152747666891773,0.005160869784432948,1.462520086249543,0.23850033626882083,0.8276718102531865,0.7004459393770409,0.19721486412706607,1.352394056400812,-1.5484023795619661,-0.22703321615797586,0.38543157811012896,0.8648956881612846,0.11555970092743817,0.24377042358437961,-0.8907934979824191,-0.41298058093838874,0.08772890141429637,-0.07976871061424609,0.2956966147265074,0.004051788741819877,-0.21232058552429844,-1.644617144448248,0.9817767416421945,-0.4355636648375388,-0.5358800350351557,0.2686898414179787,-1.7857386894657712,0.16534194227863233,1.6237878884244912,0.940607078882582,0.21777436019505278,1.2675257874568937,-1.1924645795499464,-1.0024359732972687,-0.9049278274834502,2.1992791381619425,-0.10497720054729366,-0.4905151303510943,-0.6425792587255553,0.5835158348888574,0.1531735913687253,1.2239349589688424,-0.03703710548486216,-0.2791575018844413],\"y\":[-0.5992388419623923,-1.2575663073827104,-0.8681566591353996,0.7064138445219653,1.220897910921186,-0.23843854751836333,0.08125458191418496,0.6318372109145688,0.942548979492198,2.320690008639898,0.9429607967997387,-0.29015875072636427,-1.6581592775086522,-0.5477094864769935,0.767637407871621,0.8881186319337434,-0.0643904961411898,0.9534947040026447,-0.16606079238591212,0.8603565522937122,-0.1580619170545945,-0.9653181739405476,-0.46734405290943015,-1.2911496712539385,-0.3972209893445163,0.3488214938166166,-0.21314454951927206,-0.4643598207233956,-0.6800305118874078,1.2935401582290862,1.4361191337703871,-1.171567562342489,-0.3670068378880621,-1.1054577060016664,-0.32064801789654274,-0.9363926236184297,-0.49477094246354825,0.812902698213528,0.8537832422872523,0.094645992888546,-0.6994604522634928,1.0646035005563184,0.8307767553268849,1.0896853366905155,0.2714464628285896,-0.5975426618874339,-0.16416177611486993,0.2877218711794547,-0.3781742013756831,0.48423209173426957,-1.180883461347576,-1.8120680649992547,0.8284734124830162,-1.1731129598625227,1.9801720805279264,1.2077623807204638,-0.13553492849395918,0.7018366579992051,0.23908836812693707,1.1711500013199105,0.3263080964506011,1.9688996231734426,0.18021053530810413,0.5375796221576216,1.5367208473457563,0.3513982997315935,0.9127172041851135,-2.230666072053595,-0.019961815619791035,-0.30999675103673313,-0.8464020313819279,-0.2533707794233801,0.4896143033570152,1.46020941716156,1.2582452885624982,-0.029048024548711818,-1.946621422012302,0.9796055069317009,1.7544797453482672,-0.9410046003128689,0.05471156767059863,1.8503324453552497,1.5160510298296148,-0.18408876323412576,-0.997566364283777,-1.2160719819895915,-0.015213805397837697,-1.3869063045253367,-0.3214812075644415,-0.27298008360765874,-0.424922336179347,-0.43640971391586103,0.24837444626450242,-0.5897616186959732,-0.966304223117495,0.3293893994072471,-1.126034549538087,0.7201557873948927,0.19646839542118436,-0.8793115217131454],\"type\":\"scatter\"}],                        {\"legend\":{\"bgcolor\":\"#F5F6F9\",\"font\":{\"color\":\"#4D5663\"}},\"paper_bgcolor\":\"#F5F6F9\",\"plot_bgcolor\":\"#F5F6F9\",\"template\":{\"data\":{\"barpolar\":[{\"marker\":{\"line\":{\"color\":\"#E5ECF6\",\"width\":0.5},\"pattern\":{\"fillmode\":\"overlay\",\"size\":10,\"solidity\":0.2}},\"type\":\"barpolar\"}],\"bar\":[{\"error_x\":{\"color\":\"#2a3f5f\"},\"error_y\":{\"color\":\"#2a3f5f\"},\"marker\":{\"line\":{\"color\":\"#E5ECF6\",\"width\":0.5},\"pattern\":{\"fillmode\":\"overlay\",\"size\":10,\"solidity\":0.2}},\"type\":\"bar\"}],\"carpet\":[{\"aaxis\":{\"endlinecolor\":\"#2a3f5f\",\"gridcolor\":\"white\",\"linecolor\":\"white\",\"minorgridcolor\":\"white\",\"startlinecolor\":\"#2a3f5f\"},\"baxis\":{\"endlinecolor\":\"#2a3f5f\",\"gridcolor\":\"white\",\"linecolor\":\"white\",\"minorgridcolor\":\"white\",\"startlinecolor\":\"#2a3f5f\"},\"type\":\"carpet\"}],\"choropleth\":[{\"colorbar\":{\"outlinewidth\":0,\"ticks\":\"\"},\"type\":\"choropleth\"}],\"contourcarpet\":[{\"colorbar\":{\"outlinewidth\":0,\"ticks\":\"\"},\"type\":\"contourcarpet\"}],\"contour\":[{\"colorbar\":{\"outlinewidth\":0,\"ticks\":\"\"},\"colorscale\":[[0.0,\"#0d0887\"],[0.1111111111111111,\"#46039f\"],[0.2222222222222222,\"#7201a8\"],[0.3333333333333333,\"#9c179e\"],[0.4444444444444444,\"#bd3786\"],[0.5555555555555556,\"#d8576b\"],[0.6666666666666666,\"#ed7953\"],[0.7777777777777778,\"#fb9f3a\"],[0.8888888888888888,\"#fdca26\"],[1.0,\"#f0f921\"]],\"type\":\"contour\"}],\"heatmapgl\":[{\"colorbar\":{\"outlinewidth\":0,\"ticks\":\"\"},\"colorscale\":[[0.0,\"#0d0887\"],[0.1111111111111111,\"#46039f\"],[0.2222222222222222,\"#7201a8\"],[0.3333333333333333,\"#9c179e\"],[0.4444444444444444,\"#bd3786\"],[0.5555555555555556,\"#d8576b\"],[0.6666666666666666,\"#ed7953\"],[0.7777777777777778,\"#fb9f3a\"],[0.8888888888888888,\"#fdca26\"],[1.0,\"#f0f921\"]],\"type\":\"heatmapgl\"}],\"heatmap\":[{\"colorbar\":{\"outlinewidth\":0,\"ticks\":\"\"},\"colorscale\":[[0.0,\"#0d0887\"],[0.1111111111111111,\"#46039f\"],[0.2222222222222222,\"#7201a8\"],[0.3333333333333333,\"#9c179e\"],[0.4444444444444444,\"#bd3786\"],[0.5555555555555556,\"#d8576b\"],[0.6666666666666666,\"#ed7953\"],[0.7777777777777778,\"#fb9f3a\"],[0.8888888888888888,\"#fdca26\"],[1.0,\"#f0f921\"]],\"type\":\"heatmap\"}],\"histogram2dcontour\":[{\"colorbar\":{\"outlinewidth\":0,\"ticks\":\"\"},\"colorscale\":[[0.0,\"#0d0887\"],[0.1111111111111111,\"#46039f\"],[0.2222222222222222,\"#7201a8\"],[0.3333333333333333,\"#9c179e\"],[0.4444444444444444,\"#bd3786\"],[0.5555555555555556,\"#d8576b\"],[0.6666666666666666,\"#ed7953\"],[0.7777777777777778,\"#fb9f3a\"],[0.8888888888888888,\"#fdca26\"],[1.0,\"#f0f921\"]],\"type\":\"histogram2dcontour\"}],\"histogram2d\":[{\"colorbar\":{\"outlinewidth\":0,\"ticks\":\"\"},\"colorscale\":[[0.0,\"#0d0887\"],[0.1111111111111111,\"#46039f\"],[0.2222222222222222,\"#7201a8\"],[0.3333333333333333,\"#9c179e\"],[0.4444444444444444,\"#bd3786\"],[0.5555555555555556,\"#d8576b\"],[0.6666666666666666,\"#ed7953\"],[0.7777777777777778,\"#fb9f3a\"],[0.8888888888888888,\"#fdca26\"],[1.0,\"#f0f921\"]],\"type\":\"histogram2d\"}],\"histogram\":[{\"marker\":{\"pattern\":{\"fillmode\":\"overlay\",\"size\":10,\"solidity\":0.2}},\"type\":\"histogram\"}],\"mesh3d\":[{\"colorbar\":{\"outlinewidth\":0,\"ticks\":\"\"},\"type\":\"mesh3d\"}],\"parcoords\":[{\"line\":{\"colorbar\":{\"outlinewidth\":0,\"ticks\":\"\"}},\"type\":\"parcoords\"}],\"pie\":[{\"automargin\":true,\"type\":\"pie\"}],\"scatter3d\":[{\"line\":{\"colorbar\":{\"outlinewidth\":0,\"ticks\":\"\"}},\"marker\":{\"colorbar\":{\"outlinewidth\":0,\"ticks\":\"\"}},\"type\":\"scatter3d\"}],\"scattercarpet\":[{\"marker\":{\"colorbar\":{\"outlinewidth\":0,\"ticks\":\"\"}},\"type\":\"scattercarpet\"}],\"scattergeo\":[{\"marker\":{\"colorbar\":{\"outlinewidth\":0,\"ticks\":\"\"}},\"type\":\"scattergeo\"}],\"scattergl\":[{\"marker\":{\"colorbar\":{\"outlinewidth\":0,\"ticks\":\"\"}},\"type\":\"scattergl\"}],\"scattermapbox\":[{\"marker\":{\"colorbar\":{\"outlinewidth\":0,\"ticks\":\"\"}},\"type\":\"scattermapbox\"}],\"scatterpolargl\":[{\"marker\":{\"colorbar\":{\"outlinewidth\":0,\"ticks\":\"\"}},\"type\":\"scatterpolargl\"}],\"scatterpolar\":[{\"marker\":{\"colorbar\":{\"outlinewidth\":0,\"ticks\":\"\"}},\"type\":\"scatterpolar\"}],\"scatter\":[{\"fillpattern\":{\"fillmode\":\"overlay\",\"size\":10,\"solidity\":0.2},\"type\":\"scatter\"}],\"scatterternary\":[{\"marker\":{\"colorbar\":{\"outlinewidth\":0,\"ticks\":\"\"}},\"type\":\"scatterternary\"}],\"surface\":[{\"colorbar\":{\"outlinewidth\":0,\"ticks\":\"\"},\"colorscale\":[[0.0,\"#0d0887\"],[0.1111111111111111,\"#46039f\"],[0.2222222222222222,\"#7201a8\"],[0.3333333333333333,\"#9c179e\"],[0.4444444444444444,\"#bd3786\"],[0.5555555555555556,\"#d8576b\"],[0.6666666666666666,\"#ed7953\"],[0.7777777777777778,\"#fb9f3a\"],[0.8888888888888888,\"#fdca26\"],[1.0,\"#f0f921\"]],\"type\":\"surface\"}],\"table\":[{\"cells\":{\"fill\":{\"color\":\"#EBF0F8\"},\"line\":{\"color\":\"white\"}},\"header\":{\"fill\":{\"color\":\"#C8D4E3\"},\"line\":{\"color\":\"white\"}},\"type\":\"table\"}]},\"layout\":{\"annotationdefaults\":{\"arrowcolor\":\"#2a3f5f\",\"arrowhead\":0,\"arrowwidth\":1},\"autotypenumbers\":\"strict\",\"coloraxis\":{\"colorbar\":{\"outlinewidth\":0,\"ticks\":\"\"}},\"colorscale\":{\"diverging\":[[0,\"#8e0152\"],[0.1,\"#c51b7d\"],[0.2,\"#de77ae\"],[0.3,\"#f1b6da\"],[0.4,\"#fde0ef\"],[0.5,\"#f7f7f7\"],[0.6,\"#e6f5d0\"],[0.7,\"#b8e186\"],[0.8,\"#7fbc41\"],[0.9,\"#4d9221\"],[1,\"#276419\"]],\"sequential\":[[0.0,\"#0d0887\"],[0.1111111111111111,\"#46039f\"],[0.2222222222222222,\"#7201a8\"],[0.3333333333333333,\"#9c179e\"],[0.4444444444444444,\"#bd3786\"],[0.5555555555555556,\"#d8576b\"],[0.6666666666666666,\"#ed7953\"],[0.7777777777777778,\"#fb9f3a\"],[0.8888888888888888,\"#fdca26\"],[1.0,\"#f0f921\"]],\"sequentialminus\":[[0.0,\"#0d0887\"],[0.1111111111111111,\"#46039f\"],[0.2222222222222222,\"#7201a8\"],[0.3333333333333333,\"#9c179e\"],[0.4444444444444444,\"#bd3786\"],[0.5555555555555556,\"#d8576b\"],[0.6666666666666666,\"#ed7953\"],[0.7777777777777778,\"#fb9f3a\"],[0.8888888888888888,\"#fdca26\"],[1.0,\"#f0f921\"]]},\"colorway\":[\"#636efa\",\"#EF553B\",\"#00cc96\",\"#ab63fa\",\"#FFA15A\",\"#19d3f3\",\"#FF6692\",\"#B6E880\",\"#FF97FF\",\"#FECB52\"],\"font\":{\"color\":\"#2a3f5f\"},\"geo\":{\"bgcolor\":\"white\",\"lakecolor\":\"white\",\"landcolor\":\"#E5ECF6\",\"showlakes\":true,\"showland\":true,\"subunitcolor\":\"white\"},\"hoverlabel\":{\"align\":\"left\"},\"hovermode\":\"closest\",\"mapbox\":{\"style\":\"light\"},\"paper_bgcolor\":\"white\",\"plot_bgcolor\":\"#E5ECF6\",\"polar\":{\"angularaxis\":{\"gridcolor\":\"white\",\"linecolor\":\"white\",\"ticks\":\"\"},\"bgcolor\":\"#E5ECF6\",\"radialaxis\":{\"gridcolor\":\"white\",\"linecolor\":\"white\",\"ticks\":\"\"}},\"scene\":{\"xaxis\":{\"backgroundcolor\":\"#E5ECF6\",\"gridcolor\":\"white\",\"gridwidth\":2,\"linecolor\":\"white\",\"showbackground\":true,\"ticks\":\"\",\"zerolinecolor\":\"white\"},\"yaxis\":{\"backgroundcolor\":\"#E5ECF6\",\"gridcolor\":\"white\",\"gridwidth\":2,\"linecolor\":\"white\",\"showbackground\":true,\"ticks\":\"\",\"zerolinecolor\":\"white\"},\"zaxis\":{\"backgroundcolor\":\"#E5ECF6\",\"gridcolor\":\"white\",\"gridwidth\":2,\"linecolor\":\"white\",\"showbackground\":true,\"ticks\":\"\",\"zerolinecolor\":\"white\"}},\"shapedefaults\":{\"line\":{\"color\":\"#2a3f5f\"}},\"ternary\":{\"aaxis\":{\"gridcolor\":\"white\",\"linecolor\":\"white\",\"ticks\":\"\"},\"baxis\":{\"gridcolor\":\"white\",\"linecolor\":\"white\",\"ticks\":\"\"},\"bgcolor\":\"#E5ECF6\",\"caxis\":{\"gridcolor\":\"white\",\"linecolor\":\"white\",\"ticks\":\"\"}},\"title\":{\"x\":0.05},\"xaxis\":{\"automargin\":true,\"gridcolor\":\"white\",\"linecolor\":\"white\",\"ticks\":\"\",\"title\":{\"standoff\":15},\"zerolinecolor\":\"white\",\"zerolinewidth\":2},\"yaxis\":{\"automargin\":true,\"gridcolor\":\"white\",\"linecolor\":\"white\",\"ticks\":\"\",\"title\":{\"standoff\":15},\"zerolinecolor\":\"white\",\"zerolinewidth\":2}}},\"title\":{\"font\":{\"color\":\"#4D5663\"}},\"xaxis\":{\"gridcolor\":\"#E1E5ED\",\"showgrid\":true,\"tickfont\":{\"color\":\"#4D5663\"},\"title\":{\"font\":{\"color\":\"#4D5663\"},\"text\":\"\"},\"zerolinecolor\":\"#E1E5ED\"},\"yaxis\":{\"gridcolor\":\"#E1E5ED\",\"showgrid\":true,\"tickfont\":{\"color\":\"#4D5663\"},\"title\":{\"font\":{\"color\":\"#4D5663\"},\"text\":\"\"},\"zerolinecolor\":\"#E1E5ED\"}},                        {\"showLink\": true, \"linkText\": \"Export to plot.ly\", \"plotlyServerURL\": \"https://plot.ly\", \"responsive\": true}                    ).then(function(){\n",
       "                            \n",
       "var gd = document.getElementById('4f98b8ce-88cc-4c7a-8e5d-7eb90d8d8e54');\n",
       "var x = new MutationObserver(function (mutations, observer) {{\n",
       "        var display = window.getComputedStyle(gd).display;\n",
       "        if (!display || display === 'none') {{\n",
       "            console.log([gd, 'removed!']);\n",
       "            Plotly.purge(gd);\n",
       "            observer.disconnect();\n",
       "        }}\n",
       "}});\n",
       "\n",
       "// Listen for the removal of the full notebook cells\n",
       "var notebookContainer = gd.closest('#notebook-container');\n",
       "if (notebookContainer) {{\n",
       "    x.observe(notebookContainer, {childList: true});\n",
       "}}\n",
       "\n",
       "// Listen for the clearing of the current output cell\n",
       "var outputEl = gd.closest('.output');\n",
       "if (outputEl) {{\n",
       "    x.observe(outputEl, {childList: true});\n",
       "}}\n",
       "\n",
       "                        })                };                });            </script>        </div>"
      ]
     },
     "metadata": {},
     "output_type": "display_data"
    }
   ],
   "source": [
    "df.iplot(kind='bubble',x='A',y='B',size='C')"
   ]
  },
  {
   "cell_type": "markdown",
   "metadata": {},
   "source": [
    "#SCATTER MATRIX"
   ]
  },
  {
   "cell_type": "code",
   "execution_count": 82,
   "metadata": {},
   "outputs": [
    {
     "data": {
      "application/vnd.plotly.v1+json": {
       "config": {
        "linkText": "Export to plot.ly",
        "plotlyServerURL": "https://plot.ly",
        "showLink": true
       },
       "data": [
        {
         "histfunc": "count",
         "histnorm": "",
         "marker": {
          "color": "rgba(255, 153, 51, 1.0)",
          "line": {
           "color": "#4D5663",
           "width": 1.3
          }
         },
         "name": "A",
         "nbinsx": 10,
         "opacity": 0.8,
         "orientation": "v",
         "type": "histogram",
         "x": [
          -0.6237268104686525,
          1.274572752369918,
          1.2855856084667923,
          0.4780921393755692,
          0.34494324406716476,
          -0.6405949323178967,
          -0.23348553233512562,
          0.17813370617579363,
          -0.7673268343683513,
          0.6579796347779423,
          0.09150439440134266,
          -0.3202194087654672,
          -0.7198822372283044,
          -0.03040259488005372,
          1.130130891132435,
          -1.3944379204410033,
          1.8055147559922298,
          -1.9857070195145679,
          1.4470767837214011,
          1.2874355830663946,
          0.696433594308047,
          2.404825719871125,
          -0.9623858314433245,
          -0.1859132142492279,
          0.03170213208913351,
          0.5002634060080197,
          1.4787083705078896,
          0.7458816130279491,
          0.3594135831219899,
          -1.2275883098721305,
          -0.03238291414533404,
          -0.15198417429647754,
          -0.8830153029958461,
          -0.8132224851313794,
          -2.0501610155245906,
          -0.9041899883149012,
          2.178167424721099,
          0.286622228389137,
          1.075573863823262,
          -0.4356904238305605,
          -1.0651750876267727,
          -0.0028056950631574658,
          -0.49382633776458307,
          -1.3147464271320535,
          -0.08989013325516612,
          -0.7042291895417842,
          -0.36343888412820746,
          0.333312240811528,
          1.0876510344408286,
          -0.3062546243441566,
          0.5660085135696187,
          0.09294517023552899,
          0.1894174818824277,
          0.04080039057265011,
          1.9675892925427019,
          -1.301768091588984,
          1.3152747666891773,
          0.005160869784432948,
          1.462520086249543,
          0.23850033626882083,
          0.8276718102531865,
          0.7004459393770409,
          0.19721486412706607,
          1.352394056400812,
          -1.5484023795619661,
          -0.22703321615797586,
          0.38543157811012896,
          0.8648956881612846,
          0.11555970092743817,
          0.24377042358437961,
          -0.8907934979824191,
          -0.41298058093838874,
          0.08772890141429637,
          -0.07976871061424609,
          0.2956966147265074,
          0.004051788741819877,
          -0.21232058552429844,
          -1.644617144448248,
          0.9817767416421945,
          -0.4355636648375388,
          -0.5358800350351557,
          0.2686898414179787,
          -1.7857386894657712,
          0.16534194227863233,
          1.6237878884244912,
          0.940607078882582,
          0.21777436019505278,
          1.2675257874568937,
          -1.1924645795499464,
          -1.0024359732972687,
          -0.9049278274834502,
          2.1992791381619425,
          -0.10497720054729366,
          -0.4905151303510943,
          -0.6425792587255553,
          0.5835158348888574,
          0.1531735913687253,
          1.2239349589688424,
          -0.03703710548486216,
          -0.2791575018844413
         ],
         "xaxis": "x",
         "yaxis": "y"
        },
        {
         "line": {
          "color": "rgba(128, 128, 128, 1.0)",
          "dash": "solid",
          "shape": "linear",
          "width": 1.3
         },
         "marker": {
          "size": 2,
          "symbol": "circle"
         },
         "mode": "markers",
         "name": "A",
         "text": "",
         "type": "scatter",
         "x": [
          -0.5992388419623923,
          -1.2575663073827104,
          -0.8681566591353996,
          0.7064138445219653,
          1.220897910921186,
          -0.23843854751836333,
          0.08125458191418496,
          0.6318372109145688,
          0.942548979492198,
          2.320690008639898,
          0.9429607967997387,
          -0.29015875072636427,
          -1.6581592775086522,
          -0.5477094864769935,
          0.767637407871621,
          0.8881186319337434,
          -0.0643904961411898,
          0.9534947040026447,
          -0.16606079238591212,
          0.8603565522937122,
          -0.1580619170545945,
          -0.9653181739405476,
          -0.46734405290943015,
          -1.2911496712539385,
          -0.3972209893445163,
          0.3488214938166166,
          -0.21314454951927206,
          -0.4643598207233956,
          -0.6800305118874078,
          1.2935401582290862,
          1.4361191337703871,
          -1.171567562342489,
          -0.3670068378880621,
          -1.1054577060016664,
          -0.32064801789654274,
          -0.9363926236184297,
          -0.49477094246354825,
          0.812902698213528,
          0.8537832422872523,
          0.094645992888546,
          -0.6994604522634928,
          1.0646035005563184,
          0.8307767553268849,
          1.0896853366905155,
          0.2714464628285896,
          -0.5975426618874339,
          -0.16416177611486993,
          0.2877218711794547,
          -0.3781742013756831,
          0.48423209173426957,
          -1.180883461347576,
          -1.8120680649992547,
          0.8284734124830162,
          -1.1731129598625227,
          1.9801720805279264,
          1.2077623807204638,
          -0.13553492849395918,
          0.7018366579992051,
          0.23908836812693707,
          1.1711500013199105,
          0.3263080964506011,
          1.9688996231734426,
          0.18021053530810413,
          0.5375796221576216,
          1.5367208473457563,
          0.3513982997315935,
          0.9127172041851135,
          -2.230666072053595,
          -0.019961815619791035,
          -0.30999675103673313,
          -0.8464020313819279,
          -0.2533707794233801,
          0.4896143033570152,
          1.46020941716156,
          1.2582452885624982,
          -0.029048024548711818,
          -1.946621422012302,
          0.9796055069317009,
          1.7544797453482672,
          -0.9410046003128689,
          0.05471156767059863,
          1.8503324453552497,
          1.5160510298296148,
          -0.18408876323412576,
          -0.997566364283777,
          -1.2160719819895915,
          -0.015213805397837697,
          -1.3869063045253367,
          -0.3214812075644415,
          -0.27298008360765874,
          -0.424922336179347,
          -0.43640971391586103,
          0.24837444626450242,
          -0.5897616186959732,
          -0.966304223117495,
          0.3293893994072471,
          -1.126034549538087,
          0.7201557873948927,
          0.19646839542118436,
          -0.8793115217131454
         ],
         "xaxis": "x2",
         "y": [
          -0.6237268104686525,
          1.274572752369918,
          1.2855856084667923,
          0.4780921393755692,
          0.34494324406716476,
          -0.6405949323178967,
          -0.23348553233512562,
          0.17813370617579363,
          -0.7673268343683513,
          0.6579796347779423,
          0.09150439440134266,
          -0.3202194087654672,
          -0.7198822372283044,
          -0.03040259488005372,
          1.130130891132435,
          -1.3944379204410033,
          1.8055147559922298,
          -1.9857070195145679,
          1.4470767837214011,
          1.2874355830663946,
          0.696433594308047,
          2.404825719871125,
          -0.9623858314433245,
          -0.1859132142492279,
          0.03170213208913351,
          0.5002634060080197,
          1.4787083705078896,
          0.7458816130279491,
          0.3594135831219899,
          -1.2275883098721305,
          -0.03238291414533404,
          -0.15198417429647754,
          -0.8830153029958461,
          -0.8132224851313794,
          -2.0501610155245906,
          -0.9041899883149012,
          2.178167424721099,
          0.286622228389137,
          1.075573863823262,
          -0.4356904238305605,
          -1.0651750876267727,
          -0.0028056950631574658,
          -0.49382633776458307,
          -1.3147464271320535,
          -0.08989013325516612,
          -0.7042291895417842,
          -0.36343888412820746,
          0.333312240811528,
          1.0876510344408286,
          -0.3062546243441566,
          0.5660085135696187,
          0.09294517023552899,
          0.1894174818824277,
          0.04080039057265011,
          1.9675892925427019,
          -1.301768091588984,
          1.3152747666891773,
          0.005160869784432948,
          1.462520086249543,
          0.23850033626882083,
          0.8276718102531865,
          0.7004459393770409,
          0.19721486412706607,
          1.352394056400812,
          -1.5484023795619661,
          -0.22703321615797586,
          0.38543157811012896,
          0.8648956881612846,
          0.11555970092743817,
          0.24377042358437961,
          -0.8907934979824191,
          -0.41298058093838874,
          0.08772890141429637,
          -0.07976871061424609,
          0.2956966147265074,
          0.004051788741819877,
          -0.21232058552429844,
          -1.644617144448248,
          0.9817767416421945,
          -0.4355636648375388,
          -0.5358800350351557,
          0.2686898414179787,
          -1.7857386894657712,
          0.16534194227863233,
          1.6237878884244912,
          0.940607078882582,
          0.21777436019505278,
          1.2675257874568937,
          -1.1924645795499464,
          -1.0024359732972687,
          -0.9049278274834502,
          2.1992791381619425,
          -0.10497720054729366,
          -0.4905151303510943,
          -0.6425792587255553,
          0.5835158348888574,
          0.1531735913687253,
          1.2239349589688424,
          -0.03703710548486216,
          -0.2791575018844413
         ],
         "yaxis": "y2"
        },
        {
         "line": {
          "color": "rgba(128, 128, 128, 1.0)",
          "dash": "solid",
          "shape": "linear",
          "width": 1.3
         },
         "marker": {
          "size": 2,
          "symbol": "circle"
         },
         "mode": "markers",
         "name": "A",
         "text": "",
         "type": "scatter",
         "x": [
          0.8583663857467344,
          -1.5145392864678382,
          0.34690164059855494,
          -1.0771202641605213,
          0.7457894747870629,
          1.3465439153846355,
          -0.19439011320307956,
          -0.1278688585773838,
          0.8714217088237272,
          -1.2069465803723132,
          0.678669003387527,
          0.6908710435304085,
          -1.3518678827881616,
          -2.109643525172609,
          -0.14739200141021705,
          0.2736555043972159,
          1.5072558687922262,
          0.3716347249206074,
          0.9505652814339628,
          -1.9060707429949018,
          -0.7216299456200906,
          0.5033731431095232,
          1.567603658183932,
          -1.744367667834536,
          0.6046135698475051,
          -1.2591214070600647,
          0.24835386011648616,
          -1.990235566012449,
          0.2909701259669725,
          0.3835805487265389,
          -0.3289224481078893,
          2.783013415400195,
          0.004641289184778225,
          -0.5331706362446346,
          -0.85464536453022,
          -1.939048766759401,
          1.5732448829480874,
          0.6039064537817525,
          1.7959504221230522,
          1.0956375803715455,
          -0.30958601346015857,
          0.6493122178381358,
          -0.13110025881025425,
          0.08373256007282438,
          -0.9453019502596386,
          1.3098828552097408,
          1.0238437785917132,
          -0.2796519031510746,
          -0.18589891701581704,
          -1.9507939085538313,
          -1.9240307432375254,
          0.25150645933656285,
          -0.4025651321810857,
          -2.0008241036823686,
          -0.6715003970746136,
          -0.4865133485971033,
          -1.0906624905781868,
          -0.3155942117620863,
          1.0912079824359904,
          0.7558457550507326,
          0.9947145179461878,
          -0.884063002623822,
          -0.9426633092127263,
          -1.5032010405626413,
          0.016891280439735923,
          -1.4880291703598918,
          1.1960536111450781,
          0.645816263530466,
          0.7265415536969748,
          -0.07193586504117896,
          -0.15127496930009326,
          0.7246289940737326,
          1.1197657056355594,
          -2.0824336274218602,
          -0.9504679410546145,
          0.41403009909111205,
          0.29797641820947335,
          1.1205868149104123,
          -0.7225223044674257,
          -1.7344026712503873,
          0.7463173594083022,
          -0.25507555623623346,
          -0.3559478068672032,
          -0.42604250219736656,
          1.4951429885340772,
          -0.2616445199840373,
          0.8296699030143622,
          -2.343331318484972,
          0.9516666452755717,
          -0.05688586925889025,
          0.051787880004286954,
          2.352043014383918,
          -1.5993797304717008,
          -1.0915611825741727,
          -0.5340771017543282,
          0.7301909733814406,
          -0.9680356653278129,
          -0.6277223443047016,
          -0.8408546145530816,
          -1.5771668688401028
         ],
         "xaxis": "x3",
         "y": [
          -0.6237268104686525,
          1.274572752369918,
          1.2855856084667923,
          0.4780921393755692,
          0.34494324406716476,
          -0.6405949323178967,
          -0.23348553233512562,
          0.17813370617579363,
          -0.7673268343683513,
          0.6579796347779423,
          0.09150439440134266,
          -0.3202194087654672,
          -0.7198822372283044,
          -0.03040259488005372,
          1.130130891132435,
          -1.3944379204410033,
          1.8055147559922298,
          -1.9857070195145679,
          1.4470767837214011,
          1.2874355830663946,
          0.696433594308047,
          2.404825719871125,
          -0.9623858314433245,
          -0.1859132142492279,
          0.03170213208913351,
          0.5002634060080197,
          1.4787083705078896,
          0.7458816130279491,
          0.3594135831219899,
          -1.2275883098721305,
          -0.03238291414533404,
          -0.15198417429647754,
          -0.8830153029958461,
          -0.8132224851313794,
          -2.0501610155245906,
          -0.9041899883149012,
          2.178167424721099,
          0.286622228389137,
          1.075573863823262,
          -0.4356904238305605,
          -1.0651750876267727,
          -0.0028056950631574658,
          -0.49382633776458307,
          -1.3147464271320535,
          -0.08989013325516612,
          -0.7042291895417842,
          -0.36343888412820746,
          0.333312240811528,
          1.0876510344408286,
          -0.3062546243441566,
          0.5660085135696187,
          0.09294517023552899,
          0.1894174818824277,
          0.04080039057265011,
          1.9675892925427019,
          -1.301768091588984,
          1.3152747666891773,
          0.005160869784432948,
          1.462520086249543,
          0.23850033626882083,
          0.8276718102531865,
          0.7004459393770409,
          0.19721486412706607,
          1.352394056400812,
          -1.5484023795619661,
          -0.22703321615797586,
          0.38543157811012896,
          0.8648956881612846,
          0.11555970092743817,
          0.24377042358437961,
          -0.8907934979824191,
          -0.41298058093838874,
          0.08772890141429637,
          -0.07976871061424609,
          0.2956966147265074,
          0.004051788741819877,
          -0.21232058552429844,
          -1.644617144448248,
          0.9817767416421945,
          -0.4355636648375388,
          -0.5358800350351557,
          0.2686898414179787,
          -1.7857386894657712,
          0.16534194227863233,
          1.6237878884244912,
          0.940607078882582,
          0.21777436019505278,
          1.2675257874568937,
          -1.1924645795499464,
          -1.0024359732972687,
          -0.9049278274834502,
          2.1992791381619425,
          -0.10497720054729366,
          -0.4905151303510943,
          -0.6425792587255553,
          0.5835158348888574,
          0.1531735913687253,
          1.2239349589688424,
          -0.03703710548486216,
          -0.2791575018844413
         ],
         "yaxis": "y3"
        },
        {
         "line": {
          "color": "rgba(128, 128, 128, 1.0)",
          "dash": "solid",
          "shape": "linear",
          "width": 1.3
         },
         "marker": {
          "size": 2,
          "symbol": "circle"
         },
         "mode": "markers",
         "name": "A",
         "text": "",
         "type": "scatter",
         "x": [
          0.07924185651283985,
          0.6818652924290595,
          -1.5873646183219725,
          0.12143990441081044,
          0.05207846008017546,
          -1.6172186411018126,
          0.011936196923565652,
          0.3529043777707589,
          -0.2505368958304461,
          0.5242368019228532,
          0.8248947952081447,
          -0.44144132648920137,
          -1.1808687641887123,
          -0.5373388775111392,
          -0.3237467751304937,
          -0.3776318955153955,
          -1.0239629768554412,
          1.245531514165095,
          1.1073940699327756,
          0.4251891543621005,
          0.513692890737192,
          -0.8251306325144719,
          -0.5401465320493954,
          -0.16508677184432394,
          0.10365248867441129,
          -0.49532774975850336,
          0.33529958182784414,
          0.43571929713716445,
          0.39720144728297835,
          1.310944841202766,
          -2.3169983885896843,
          -0.18908103238767154,
          0.5292222231066129,
          0.29016145332777066,
          0.8427822926991279,
          -0.23657082738896495,
          -0.9235212521760812,
          -1.7890541565202018,
          0.8155050859900476,
          -0.10032716975412605,
          -1.365892603250562,
          0.13199703355022221,
          0.7329981815183036,
          -0.028480770358342258,
          0.5961455415925334,
          0.12109006891748281,
          -0.27040586484201984,
          -0.05622323384537568,
          0.2547450277359559,
          0.7390152320916648,
          1.4217961618406467,
          0.2806795766706054,
          1.036600861298079,
          -0.25972435751392714,
          -1.354284864112056,
          0.22207571354595435,
          1.86260698428309,
          -0.023431220580845128,
          0.12190958858536981,
          -0.3441378034341104,
          -0.3071343352575743,
          0.731265097288132,
          -0.9491959956966635,
          -1.1545115660287404,
          -0.452396235391058,
          -0.754086005700038,
          -0.43677995059947394,
          -1.2842290256385585,
          -0.5598699785720364,
          -1.9924405355160102,
          0.021257367426427105,
          0.668053699107769,
          -1.6077823585790698,
          -0.9608748165757212,
          0.5312422174535207,
          1.3370322151179366,
          0.8246792139371296,
          -0.43104272603839816,
          0.20878375668740443,
          -0.20858077619848964,
          -0.06922238817565377,
          -0.31461710761825573,
          3.1295338984364833,
          0.8281974921069192,
          1.2578508827664443,
          -0.4435176039959194,
          0.5236437557733773,
          -0.19699010977378437,
          0.006036150046611265,
          -0.7437834804755933,
          1.1688954857881058,
          0.46977893589293973,
          0.9529961423643826,
          1.0784673273714247,
          0.0937729889871102,
          -0.0691169318342257,
          -0.6697870179389714,
          -0.06400552700673463,
          -1.8031729430720378,
          0.49745682576903094
         ],
         "xaxis": "x4",
         "y": [
          -0.6237268104686525,
          1.274572752369918,
          1.2855856084667923,
          0.4780921393755692,
          0.34494324406716476,
          -0.6405949323178967,
          -0.23348553233512562,
          0.17813370617579363,
          -0.7673268343683513,
          0.6579796347779423,
          0.09150439440134266,
          -0.3202194087654672,
          -0.7198822372283044,
          -0.03040259488005372,
          1.130130891132435,
          -1.3944379204410033,
          1.8055147559922298,
          -1.9857070195145679,
          1.4470767837214011,
          1.2874355830663946,
          0.696433594308047,
          2.404825719871125,
          -0.9623858314433245,
          -0.1859132142492279,
          0.03170213208913351,
          0.5002634060080197,
          1.4787083705078896,
          0.7458816130279491,
          0.3594135831219899,
          -1.2275883098721305,
          -0.03238291414533404,
          -0.15198417429647754,
          -0.8830153029958461,
          -0.8132224851313794,
          -2.0501610155245906,
          -0.9041899883149012,
          2.178167424721099,
          0.286622228389137,
          1.075573863823262,
          -0.4356904238305605,
          -1.0651750876267727,
          -0.0028056950631574658,
          -0.49382633776458307,
          -1.3147464271320535,
          -0.08989013325516612,
          -0.7042291895417842,
          -0.36343888412820746,
          0.333312240811528,
          1.0876510344408286,
          -0.3062546243441566,
          0.5660085135696187,
          0.09294517023552899,
          0.1894174818824277,
          0.04080039057265011,
          1.9675892925427019,
          -1.301768091588984,
          1.3152747666891773,
          0.005160869784432948,
          1.462520086249543,
          0.23850033626882083,
          0.8276718102531865,
          0.7004459393770409,
          0.19721486412706607,
          1.352394056400812,
          -1.5484023795619661,
          -0.22703321615797586,
          0.38543157811012896,
          0.8648956881612846,
          0.11555970092743817,
          0.24377042358437961,
          -0.8907934979824191,
          -0.41298058093838874,
          0.08772890141429637,
          -0.07976871061424609,
          0.2956966147265074,
          0.004051788741819877,
          -0.21232058552429844,
          -1.644617144448248,
          0.9817767416421945,
          -0.4355636648375388,
          -0.5358800350351557,
          0.2686898414179787,
          -1.7857386894657712,
          0.16534194227863233,
          1.6237878884244912,
          0.940607078882582,
          0.21777436019505278,
          1.2675257874568937,
          -1.1924645795499464,
          -1.0024359732972687,
          -0.9049278274834502,
          2.1992791381619425,
          -0.10497720054729366,
          -0.4905151303510943,
          -0.6425792587255553,
          0.5835158348888574,
          0.1531735913687253,
          1.2239349589688424,
          -0.03703710548486216,
          -0.2791575018844413
         ],
         "yaxis": "y4"
        },
        {
         "line": {
          "color": "rgba(128, 128, 128, 1.0)",
          "dash": "solid",
          "shape": "linear",
          "width": 1.3
         },
         "marker": {
          "size": 2,
          "symbol": "circle"
         },
         "mode": "markers",
         "name": "B",
         "text": "",
         "type": "scatter",
         "x": [
          -0.6237268104686525,
          1.274572752369918,
          1.2855856084667923,
          0.4780921393755692,
          0.34494324406716476,
          -0.6405949323178967,
          -0.23348553233512562,
          0.17813370617579363,
          -0.7673268343683513,
          0.6579796347779423,
          0.09150439440134266,
          -0.3202194087654672,
          -0.7198822372283044,
          -0.03040259488005372,
          1.130130891132435,
          -1.3944379204410033,
          1.8055147559922298,
          -1.9857070195145679,
          1.4470767837214011,
          1.2874355830663946,
          0.696433594308047,
          2.404825719871125,
          -0.9623858314433245,
          -0.1859132142492279,
          0.03170213208913351,
          0.5002634060080197,
          1.4787083705078896,
          0.7458816130279491,
          0.3594135831219899,
          -1.2275883098721305,
          -0.03238291414533404,
          -0.15198417429647754,
          -0.8830153029958461,
          -0.8132224851313794,
          -2.0501610155245906,
          -0.9041899883149012,
          2.178167424721099,
          0.286622228389137,
          1.075573863823262,
          -0.4356904238305605,
          -1.0651750876267727,
          -0.0028056950631574658,
          -0.49382633776458307,
          -1.3147464271320535,
          -0.08989013325516612,
          -0.7042291895417842,
          -0.36343888412820746,
          0.333312240811528,
          1.0876510344408286,
          -0.3062546243441566,
          0.5660085135696187,
          0.09294517023552899,
          0.1894174818824277,
          0.04080039057265011,
          1.9675892925427019,
          -1.301768091588984,
          1.3152747666891773,
          0.005160869784432948,
          1.462520086249543,
          0.23850033626882083,
          0.8276718102531865,
          0.7004459393770409,
          0.19721486412706607,
          1.352394056400812,
          -1.5484023795619661,
          -0.22703321615797586,
          0.38543157811012896,
          0.8648956881612846,
          0.11555970092743817,
          0.24377042358437961,
          -0.8907934979824191,
          -0.41298058093838874,
          0.08772890141429637,
          -0.07976871061424609,
          0.2956966147265074,
          0.004051788741819877,
          -0.21232058552429844,
          -1.644617144448248,
          0.9817767416421945,
          -0.4355636648375388,
          -0.5358800350351557,
          0.2686898414179787,
          -1.7857386894657712,
          0.16534194227863233,
          1.6237878884244912,
          0.940607078882582,
          0.21777436019505278,
          1.2675257874568937,
          -1.1924645795499464,
          -1.0024359732972687,
          -0.9049278274834502,
          2.1992791381619425,
          -0.10497720054729366,
          -0.4905151303510943,
          -0.6425792587255553,
          0.5835158348888574,
          0.1531735913687253,
          1.2239349589688424,
          -0.03703710548486216,
          -0.2791575018844413
         ],
         "xaxis": "x5",
         "y": [
          -0.5992388419623923,
          -1.2575663073827104,
          -0.8681566591353996,
          0.7064138445219653,
          1.220897910921186,
          -0.23843854751836333,
          0.08125458191418496,
          0.6318372109145688,
          0.942548979492198,
          2.320690008639898,
          0.9429607967997387,
          -0.29015875072636427,
          -1.6581592775086522,
          -0.5477094864769935,
          0.767637407871621,
          0.8881186319337434,
          -0.0643904961411898,
          0.9534947040026447,
          -0.16606079238591212,
          0.8603565522937122,
          -0.1580619170545945,
          -0.9653181739405476,
          -0.46734405290943015,
          -1.2911496712539385,
          -0.3972209893445163,
          0.3488214938166166,
          -0.21314454951927206,
          -0.4643598207233956,
          -0.6800305118874078,
          1.2935401582290862,
          1.4361191337703871,
          -1.171567562342489,
          -0.3670068378880621,
          -1.1054577060016664,
          -0.32064801789654274,
          -0.9363926236184297,
          -0.49477094246354825,
          0.812902698213528,
          0.8537832422872523,
          0.094645992888546,
          -0.6994604522634928,
          1.0646035005563184,
          0.8307767553268849,
          1.0896853366905155,
          0.2714464628285896,
          -0.5975426618874339,
          -0.16416177611486993,
          0.2877218711794547,
          -0.3781742013756831,
          0.48423209173426957,
          -1.180883461347576,
          -1.8120680649992547,
          0.8284734124830162,
          -1.1731129598625227,
          1.9801720805279264,
          1.2077623807204638,
          -0.13553492849395918,
          0.7018366579992051,
          0.23908836812693707,
          1.1711500013199105,
          0.3263080964506011,
          1.9688996231734426,
          0.18021053530810413,
          0.5375796221576216,
          1.5367208473457563,
          0.3513982997315935,
          0.9127172041851135,
          -2.230666072053595,
          -0.019961815619791035,
          -0.30999675103673313,
          -0.8464020313819279,
          -0.2533707794233801,
          0.4896143033570152,
          1.46020941716156,
          1.2582452885624982,
          -0.029048024548711818,
          -1.946621422012302,
          0.9796055069317009,
          1.7544797453482672,
          -0.9410046003128689,
          0.05471156767059863,
          1.8503324453552497,
          1.5160510298296148,
          -0.18408876323412576,
          -0.997566364283777,
          -1.2160719819895915,
          -0.015213805397837697,
          -1.3869063045253367,
          -0.3214812075644415,
          -0.27298008360765874,
          -0.424922336179347,
          -0.43640971391586103,
          0.24837444626450242,
          -0.5897616186959732,
          -0.966304223117495,
          0.3293893994072471,
          -1.126034549538087,
          0.7201557873948927,
          0.19646839542118436,
          -0.8793115217131454
         ],
         "yaxis": "y5"
        },
        {
         "histfunc": "count",
         "histnorm": "",
         "marker": {
          "color": "rgba(55, 128, 191, 1.0)",
          "line": {
           "color": "#4D5663",
           "width": 1.3
          }
         },
         "name": "B",
         "nbinsx": 10,
         "opacity": 0.8,
         "orientation": "v",
         "type": "histogram",
         "x": [
          -0.5992388419623923,
          -1.2575663073827104,
          -0.8681566591353996,
          0.7064138445219653,
          1.220897910921186,
          -0.23843854751836333,
          0.08125458191418496,
          0.6318372109145688,
          0.942548979492198,
          2.320690008639898,
          0.9429607967997387,
          -0.29015875072636427,
          -1.6581592775086522,
          -0.5477094864769935,
          0.767637407871621,
          0.8881186319337434,
          -0.0643904961411898,
          0.9534947040026447,
          -0.16606079238591212,
          0.8603565522937122,
          -0.1580619170545945,
          -0.9653181739405476,
          -0.46734405290943015,
          -1.2911496712539385,
          -0.3972209893445163,
          0.3488214938166166,
          -0.21314454951927206,
          -0.4643598207233956,
          -0.6800305118874078,
          1.2935401582290862,
          1.4361191337703871,
          -1.171567562342489,
          -0.3670068378880621,
          -1.1054577060016664,
          -0.32064801789654274,
          -0.9363926236184297,
          -0.49477094246354825,
          0.812902698213528,
          0.8537832422872523,
          0.094645992888546,
          -0.6994604522634928,
          1.0646035005563184,
          0.8307767553268849,
          1.0896853366905155,
          0.2714464628285896,
          -0.5975426618874339,
          -0.16416177611486993,
          0.2877218711794547,
          -0.3781742013756831,
          0.48423209173426957,
          -1.180883461347576,
          -1.8120680649992547,
          0.8284734124830162,
          -1.1731129598625227,
          1.9801720805279264,
          1.2077623807204638,
          -0.13553492849395918,
          0.7018366579992051,
          0.23908836812693707,
          1.1711500013199105,
          0.3263080964506011,
          1.9688996231734426,
          0.18021053530810413,
          0.5375796221576216,
          1.5367208473457563,
          0.3513982997315935,
          0.9127172041851135,
          -2.230666072053595,
          -0.019961815619791035,
          -0.30999675103673313,
          -0.8464020313819279,
          -0.2533707794233801,
          0.4896143033570152,
          1.46020941716156,
          1.2582452885624982,
          -0.029048024548711818,
          -1.946621422012302,
          0.9796055069317009,
          1.7544797453482672,
          -0.9410046003128689,
          0.05471156767059863,
          1.8503324453552497,
          1.5160510298296148,
          -0.18408876323412576,
          -0.997566364283777,
          -1.2160719819895915,
          -0.015213805397837697,
          -1.3869063045253367,
          -0.3214812075644415,
          -0.27298008360765874,
          -0.424922336179347,
          -0.43640971391586103,
          0.24837444626450242,
          -0.5897616186959732,
          -0.966304223117495,
          0.3293893994072471,
          -1.126034549538087,
          0.7201557873948927,
          0.19646839542118436,
          -0.8793115217131454
         ],
         "xaxis": "x6",
         "yaxis": "y6"
        },
        {
         "line": {
          "color": "rgba(128, 128, 128, 1.0)",
          "dash": "solid",
          "shape": "linear",
          "width": 1.3
         },
         "marker": {
          "size": 2,
          "symbol": "circle"
         },
         "mode": "markers",
         "name": "B",
         "text": "",
         "type": "scatter",
         "x": [
          0.8583663857467344,
          -1.5145392864678382,
          0.34690164059855494,
          -1.0771202641605213,
          0.7457894747870629,
          1.3465439153846355,
          -0.19439011320307956,
          -0.1278688585773838,
          0.8714217088237272,
          -1.2069465803723132,
          0.678669003387527,
          0.6908710435304085,
          -1.3518678827881616,
          -2.109643525172609,
          -0.14739200141021705,
          0.2736555043972159,
          1.5072558687922262,
          0.3716347249206074,
          0.9505652814339628,
          -1.9060707429949018,
          -0.7216299456200906,
          0.5033731431095232,
          1.567603658183932,
          -1.744367667834536,
          0.6046135698475051,
          -1.2591214070600647,
          0.24835386011648616,
          -1.990235566012449,
          0.2909701259669725,
          0.3835805487265389,
          -0.3289224481078893,
          2.783013415400195,
          0.004641289184778225,
          -0.5331706362446346,
          -0.85464536453022,
          -1.939048766759401,
          1.5732448829480874,
          0.6039064537817525,
          1.7959504221230522,
          1.0956375803715455,
          -0.30958601346015857,
          0.6493122178381358,
          -0.13110025881025425,
          0.08373256007282438,
          -0.9453019502596386,
          1.3098828552097408,
          1.0238437785917132,
          -0.2796519031510746,
          -0.18589891701581704,
          -1.9507939085538313,
          -1.9240307432375254,
          0.25150645933656285,
          -0.4025651321810857,
          -2.0008241036823686,
          -0.6715003970746136,
          -0.4865133485971033,
          -1.0906624905781868,
          -0.3155942117620863,
          1.0912079824359904,
          0.7558457550507326,
          0.9947145179461878,
          -0.884063002623822,
          -0.9426633092127263,
          -1.5032010405626413,
          0.016891280439735923,
          -1.4880291703598918,
          1.1960536111450781,
          0.645816263530466,
          0.7265415536969748,
          -0.07193586504117896,
          -0.15127496930009326,
          0.7246289940737326,
          1.1197657056355594,
          -2.0824336274218602,
          -0.9504679410546145,
          0.41403009909111205,
          0.29797641820947335,
          1.1205868149104123,
          -0.7225223044674257,
          -1.7344026712503873,
          0.7463173594083022,
          -0.25507555623623346,
          -0.3559478068672032,
          -0.42604250219736656,
          1.4951429885340772,
          -0.2616445199840373,
          0.8296699030143622,
          -2.343331318484972,
          0.9516666452755717,
          -0.05688586925889025,
          0.051787880004286954,
          2.352043014383918,
          -1.5993797304717008,
          -1.0915611825741727,
          -0.5340771017543282,
          0.7301909733814406,
          -0.9680356653278129,
          -0.6277223443047016,
          -0.8408546145530816,
          -1.5771668688401028
         ],
         "xaxis": "x7",
         "y": [
          -0.5992388419623923,
          -1.2575663073827104,
          -0.8681566591353996,
          0.7064138445219653,
          1.220897910921186,
          -0.23843854751836333,
          0.08125458191418496,
          0.6318372109145688,
          0.942548979492198,
          2.320690008639898,
          0.9429607967997387,
          -0.29015875072636427,
          -1.6581592775086522,
          -0.5477094864769935,
          0.767637407871621,
          0.8881186319337434,
          -0.0643904961411898,
          0.9534947040026447,
          -0.16606079238591212,
          0.8603565522937122,
          -0.1580619170545945,
          -0.9653181739405476,
          -0.46734405290943015,
          -1.2911496712539385,
          -0.3972209893445163,
          0.3488214938166166,
          -0.21314454951927206,
          -0.4643598207233956,
          -0.6800305118874078,
          1.2935401582290862,
          1.4361191337703871,
          -1.171567562342489,
          -0.3670068378880621,
          -1.1054577060016664,
          -0.32064801789654274,
          -0.9363926236184297,
          -0.49477094246354825,
          0.812902698213528,
          0.8537832422872523,
          0.094645992888546,
          -0.6994604522634928,
          1.0646035005563184,
          0.8307767553268849,
          1.0896853366905155,
          0.2714464628285896,
          -0.5975426618874339,
          -0.16416177611486993,
          0.2877218711794547,
          -0.3781742013756831,
          0.48423209173426957,
          -1.180883461347576,
          -1.8120680649992547,
          0.8284734124830162,
          -1.1731129598625227,
          1.9801720805279264,
          1.2077623807204638,
          -0.13553492849395918,
          0.7018366579992051,
          0.23908836812693707,
          1.1711500013199105,
          0.3263080964506011,
          1.9688996231734426,
          0.18021053530810413,
          0.5375796221576216,
          1.5367208473457563,
          0.3513982997315935,
          0.9127172041851135,
          -2.230666072053595,
          -0.019961815619791035,
          -0.30999675103673313,
          -0.8464020313819279,
          -0.2533707794233801,
          0.4896143033570152,
          1.46020941716156,
          1.2582452885624982,
          -0.029048024548711818,
          -1.946621422012302,
          0.9796055069317009,
          1.7544797453482672,
          -0.9410046003128689,
          0.05471156767059863,
          1.8503324453552497,
          1.5160510298296148,
          -0.18408876323412576,
          -0.997566364283777,
          -1.2160719819895915,
          -0.015213805397837697,
          -1.3869063045253367,
          -0.3214812075644415,
          -0.27298008360765874,
          -0.424922336179347,
          -0.43640971391586103,
          0.24837444626450242,
          -0.5897616186959732,
          -0.966304223117495,
          0.3293893994072471,
          -1.126034549538087,
          0.7201557873948927,
          0.19646839542118436,
          -0.8793115217131454
         ],
         "yaxis": "y7"
        },
        {
         "line": {
          "color": "rgba(128, 128, 128, 1.0)",
          "dash": "solid",
          "shape": "linear",
          "width": 1.3
         },
         "marker": {
          "size": 2,
          "symbol": "circle"
         },
         "mode": "markers",
         "name": "B",
         "text": "",
         "type": "scatter",
         "x": [
          0.07924185651283985,
          0.6818652924290595,
          -1.5873646183219725,
          0.12143990441081044,
          0.05207846008017546,
          -1.6172186411018126,
          0.011936196923565652,
          0.3529043777707589,
          -0.2505368958304461,
          0.5242368019228532,
          0.8248947952081447,
          -0.44144132648920137,
          -1.1808687641887123,
          -0.5373388775111392,
          -0.3237467751304937,
          -0.3776318955153955,
          -1.0239629768554412,
          1.245531514165095,
          1.1073940699327756,
          0.4251891543621005,
          0.513692890737192,
          -0.8251306325144719,
          -0.5401465320493954,
          -0.16508677184432394,
          0.10365248867441129,
          -0.49532774975850336,
          0.33529958182784414,
          0.43571929713716445,
          0.39720144728297835,
          1.310944841202766,
          -2.3169983885896843,
          -0.18908103238767154,
          0.5292222231066129,
          0.29016145332777066,
          0.8427822926991279,
          -0.23657082738896495,
          -0.9235212521760812,
          -1.7890541565202018,
          0.8155050859900476,
          -0.10032716975412605,
          -1.365892603250562,
          0.13199703355022221,
          0.7329981815183036,
          -0.028480770358342258,
          0.5961455415925334,
          0.12109006891748281,
          -0.27040586484201984,
          -0.05622323384537568,
          0.2547450277359559,
          0.7390152320916648,
          1.4217961618406467,
          0.2806795766706054,
          1.036600861298079,
          -0.25972435751392714,
          -1.354284864112056,
          0.22207571354595435,
          1.86260698428309,
          -0.023431220580845128,
          0.12190958858536981,
          -0.3441378034341104,
          -0.3071343352575743,
          0.731265097288132,
          -0.9491959956966635,
          -1.1545115660287404,
          -0.452396235391058,
          -0.754086005700038,
          -0.43677995059947394,
          -1.2842290256385585,
          -0.5598699785720364,
          -1.9924405355160102,
          0.021257367426427105,
          0.668053699107769,
          -1.6077823585790698,
          -0.9608748165757212,
          0.5312422174535207,
          1.3370322151179366,
          0.8246792139371296,
          -0.43104272603839816,
          0.20878375668740443,
          -0.20858077619848964,
          -0.06922238817565377,
          -0.31461710761825573,
          3.1295338984364833,
          0.8281974921069192,
          1.2578508827664443,
          -0.4435176039959194,
          0.5236437557733773,
          -0.19699010977378437,
          0.006036150046611265,
          -0.7437834804755933,
          1.1688954857881058,
          0.46977893589293973,
          0.9529961423643826,
          1.0784673273714247,
          0.0937729889871102,
          -0.0691169318342257,
          -0.6697870179389714,
          -0.06400552700673463,
          -1.8031729430720378,
          0.49745682576903094
         ],
         "xaxis": "x8",
         "y": [
          -0.5992388419623923,
          -1.2575663073827104,
          -0.8681566591353996,
          0.7064138445219653,
          1.220897910921186,
          -0.23843854751836333,
          0.08125458191418496,
          0.6318372109145688,
          0.942548979492198,
          2.320690008639898,
          0.9429607967997387,
          -0.29015875072636427,
          -1.6581592775086522,
          -0.5477094864769935,
          0.767637407871621,
          0.8881186319337434,
          -0.0643904961411898,
          0.9534947040026447,
          -0.16606079238591212,
          0.8603565522937122,
          -0.1580619170545945,
          -0.9653181739405476,
          -0.46734405290943015,
          -1.2911496712539385,
          -0.3972209893445163,
          0.3488214938166166,
          -0.21314454951927206,
          -0.4643598207233956,
          -0.6800305118874078,
          1.2935401582290862,
          1.4361191337703871,
          -1.171567562342489,
          -0.3670068378880621,
          -1.1054577060016664,
          -0.32064801789654274,
          -0.9363926236184297,
          -0.49477094246354825,
          0.812902698213528,
          0.8537832422872523,
          0.094645992888546,
          -0.6994604522634928,
          1.0646035005563184,
          0.8307767553268849,
          1.0896853366905155,
          0.2714464628285896,
          -0.5975426618874339,
          -0.16416177611486993,
          0.2877218711794547,
          -0.3781742013756831,
          0.48423209173426957,
          -1.180883461347576,
          -1.8120680649992547,
          0.8284734124830162,
          -1.1731129598625227,
          1.9801720805279264,
          1.2077623807204638,
          -0.13553492849395918,
          0.7018366579992051,
          0.23908836812693707,
          1.1711500013199105,
          0.3263080964506011,
          1.9688996231734426,
          0.18021053530810413,
          0.5375796221576216,
          1.5367208473457563,
          0.3513982997315935,
          0.9127172041851135,
          -2.230666072053595,
          -0.019961815619791035,
          -0.30999675103673313,
          -0.8464020313819279,
          -0.2533707794233801,
          0.4896143033570152,
          1.46020941716156,
          1.2582452885624982,
          -0.029048024548711818,
          -1.946621422012302,
          0.9796055069317009,
          1.7544797453482672,
          -0.9410046003128689,
          0.05471156767059863,
          1.8503324453552497,
          1.5160510298296148,
          -0.18408876323412576,
          -0.997566364283777,
          -1.2160719819895915,
          -0.015213805397837697,
          -1.3869063045253367,
          -0.3214812075644415,
          -0.27298008360765874,
          -0.424922336179347,
          -0.43640971391586103,
          0.24837444626450242,
          -0.5897616186959732,
          -0.966304223117495,
          0.3293893994072471,
          -1.126034549538087,
          0.7201557873948927,
          0.19646839542118436,
          -0.8793115217131454
         ],
         "yaxis": "y8"
        },
        {
         "line": {
          "color": "rgba(128, 128, 128, 1.0)",
          "dash": "solid",
          "shape": "linear",
          "width": 1.3
         },
         "marker": {
          "size": 2,
          "symbol": "circle"
         },
         "mode": "markers",
         "name": "C",
         "text": "",
         "type": "scatter",
         "x": [
          -0.6237268104686525,
          1.274572752369918,
          1.2855856084667923,
          0.4780921393755692,
          0.34494324406716476,
          -0.6405949323178967,
          -0.23348553233512562,
          0.17813370617579363,
          -0.7673268343683513,
          0.6579796347779423,
          0.09150439440134266,
          -0.3202194087654672,
          -0.7198822372283044,
          -0.03040259488005372,
          1.130130891132435,
          -1.3944379204410033,
          1.8055147559922298,
          -1.9857070195145679,
          1.4470767837214011,
          1.2874355830663946,
          0.696433594308047,
          2.404825719871125,
          -0.9623858314433245,
          -0.1859132142492279,
          0.03170213208913351,
          0.5002634060080197,
          1.4787083705078896,
          0.7458816130279491,
          0.3594135831219899,
          -1.2275883098721305,
          -0.03238291414533404,
          -0.15198417429647754,
          -0.8830153029958461,
          -0.8132224851313794,
          -2.0501610155245906,
          -0.9041899883149012,
          2.178167424721099,
          0.286622228389137,
          1.075573863823262,
          -0.4356904238305605,
          -1.0651750876267727,
          -0.0028056950631574658,
          -0.49382633776458307,
          -1.3147464271320535,
          -0.08989013325516612,
          -0.7042291895417842,
          -0.36343888412820746,
          0.333312240811528,
          1.0876510344408286,
          -0.3062546243441566,
          0.5660085135696187,
          0.09294517023552899,
          0.1894174818824277,
          0.04080039057265011,
          1.9675892925427019,
          -1.301768091588984,
          1.3152747666891773,
          0.005160869784432948,
          1.462520086249543,
          0.23850033626882083,
          0.8276718102531865,
          0.7004459393770409,
          0.19721486412706607,
          1.352394056400812,
          -1.5484023795619661,
          -0.22703321615797586,
          0.38543157811012896,
          0.8648956881612846,
          0.11555970092743817,
          0.24377042358437961,
          -0.8907934979824191,
          -0.41298058093838874,
          0.08772890141429637,
          -0.07976871061424609,
          0.2956966147265074,
          0.004051788741819877,
          -0.21232058552429844,
          -1.644617144448248,
          0.9817767416421945,
          -0.4355636648375388,
          -0.5358800350351557,
          0.2686898414179787,
          -1.7857386894657712,
          0.16534194227863233,
          1.6237878884244912,
          0.940607078882582,
          0.21777436019505278,
          1.2675257874568937,
          -1.1924645795499464,
          -1.0024359732972687,
          -0.9049278274834502,
          2.1992791381619425,
          -0.10497720054729366,
          -0.4905151303510943,
          -0.6425792587255553,
          0.5835158348888574,
          0.1531735913687253,
          1.2239349589688424,
          -0.03703710548486216,
          -0.2791575018844413
         ],
         "xaxis": "x9",
         "y": [
          0.8583663857467344,
          -1.5145392864678382,
          0.34690164059855494,
          -1.0771202641605213,
          0.7457894747870629,
          1.3465439153846355,
          -0.19439011320307956,
          -0.1278688585773838,
          0.8714217088237272,
          -1.2069465803723132,
          0.678669003387527,
          0.6908710435304085,
          -1.3518678827881616,
          -2.109643525172609,
          -0.14739200141021705,
          0.2736555043972159,
          1.5072558687922262,
          0.3716347249206074,
          0.9505652814339628,
          -1.9060707429949018,
          -0.7216299456200906,
          0.5033731431095232,
          1.567603658183932,
          -1.744367667834536,
          0.6046135698475051,
          -1.2591214070600647,
          0.24835386011648616,
          -1.990235566012449,
          0.2909701259669725,
          0.3835805487265389,
          -0.3289224481078893,
          2.783013415400195,
          0.004641289184778225,
          -0.5331706362446346,
          -0.85464536453022,
          -1.939048766759401,
          1.5732448829480874,
          0.6039064537817525,
          1.7959504221230522,
          1.0956375803715455,
          -0.30958601346015857,
          0.6493122178381358,
          -0.13110025881025425,
          0.08373256007282438,
          -0.9453019502596386,
          1.3098828552097408,
          1.0238437785917132,
          -0.2796519031510746,
          -0.18589891701581704,
          -1.9507939085538313,
          -1.9240307432375254,
          0.25150645933656285,
          -0.4025651321810857,
          -2.0008241036823686,
          -0.6715003970746136,
          -0.4865133485971033,
          -1.0906624905781868,
          -0.3155942117620863,
          1.0912079824359904,
          0.7558457550507326,
          0.9947145179461878,
          -0.884063002623822,
          -0.9426633092127263,
          -1.5032010405626413,
          0.016891280439735923,
          -1.4880291703598918,
          1.1960536111450781,
          0.645816263530466,
          0.7265415536969748,
          -0.07193586504117896,
          -0.15127496930009326,
          0.7246289940737326,
          1.1197657056355594,
          -2.0824336274218602,
          -0.9504679410546145,
          0.41403009909111205,
          0.29797641820947335,
          1.1205868149104123,
          -0.7225223044674257,
          -1.7344026712503873,
          0.7463173594083022,
          -0.25507555623623346,
          -0.3559478068672032,
          -0.42604250219736656,
          1.4951429885340772,
          -0.2616445199840373,
          0.8296699030143622,
          -2.343331318484972,
          0.9516666452755717,
          -0.05688586925889025,
          0.051787880004286954,
          2.352043014383918,
          -1.5993797304717008,
          -1.0915611825741727,
          -0.5340771017543282,
          0.7301909733814406,
          -0.9680356653278129,
          -0.6277223443047016,
          -0.8408546145530816,
          -1.5771668688401028
         ],
         "yaxis": "y9"
        },
        {
         "line": {
          "color": "rgba(128, 128, 128, 1.0)",
          "dash": "solid",
          "shape": "linear",
          "width": 1.3
         },
         "marker": {
          "size": 2,
          "symbol": "circle"
         },
         "mode": "markers",
         "name": "C",
         "text": "",
         "type": "scatter",
         "x": [
          -0.5992388419623923,
          -1.2575663073827104,
          -0.8681566591353996,
          0.7064138445219653,
          1.220897910921186,
          -0.23843854751836333,
          0.08125458191418496,
          0.6318372109145688,
          0.942548979492198,
          2.320690008639898,
          0.9429607967997387,
          -0.29015875072636427,
          -1.6581592775086522,
          -0.5477094864769935,
          0.767637407871621,
          0.8881186319337434,
          -0.0643904961411898,
          0.9534947040026447,
          -0.16606079238591212,
          0.8603565522937122,
          -0.1580619170545945,
          -0.9653181739405476,
          -0.46734405290943015,
          -1.2911496712539385,
          -0.3972209893445163,
          0.3488214938166166,
          -0.21314454951927206,
          -0.4643598207233956,
          -0.6800305118874078,
          1.2935401582290862,
          1.4361191337703871,
          -1.171567562342489,
          -0.3670068378880621,
          -1.1054577060016664,
          -0.32064801789654274,
          -0.9363926236184297,
          -0.49477094246354825,
          0.812902698213528,
          0.8537832422872523,
          0.094645992888546,
          -0.6994604522634928,
          1.0646035005563184,
          0.8307767553268849,
          1.0896853366905155,
          0.2714464628285896,
          -0.5975426618874339,
          -0.16416177611486993,
          0.2877218711794547,
          -0.3781742013756831,
          0.48423209173426957,
          -1.180883461347576,
          -1.8120680649992547,
          0.8284734124830162,
          -1.1731129598625227,
          1.9801720805279264,
          1.2077623807204638,
          -0.13553492849395918,
          0.7018366579992051,
          0.23908836812693707,
          1.1711500013199105,
          0.3263080964506011,
          1.9688996231734426,
          0.18021053530810413,
          0.5375796221576216,
          1.5367208473457563,
          0.3513982997315935,
          0.9127172041851135,
          -2.230666072053595,
          -0.019961815619791035,
          -0.30999675103673313,
          -0.8464020313819279,
          -0.2533707794233801,
          0.4896143033570152,
          1.46020941716156,
          1.2582452885624982,
          -0.029048024548711818,
          -1.946621422012302,
          0.9796055069317009,
          1.7544797453482672,
          -0.9410046003128689,
          0.05471156767059863,
          1.8503324453552497,
          1.5160510298296148,
          -0.18408876323412576,
          -0.997566364283777,
          -1.2160719819895915,
          -0.015213805397837697,
          -1.3869063045253367,
          -0.3214812075644415,
          -0.27298008360765874,
          -0.424922336179347,
          -0.43640971391586103,
          0.24837444626450242,
          -0.5897616186959732,
          -0.966304223117495,
          0.3293893994072471,
          -1.126034549538087,
          0.7201557873948927,
          0.19646839542118436,
          -0.8793115217131454
         ],
         "xaxis": "x10",
         "y": [
          0.8583663857467344,
          -1.5145392864678382,
          0.34690164059855494,
          -1.0771202641605213,
          0.7457894747870629,
          1.3465439153846355,
          -0.19439011320307956,
          -0.1278688585773838,
          0.8714217088237272,
          -1.2069465803723132,
          0.678669003387527,
          0.6908710435304085,
          -1.3518678827881616,
          -2.109643525172609,
          -0.14739200141021705,
          0.2736555043972159,
          1.5072558687922262,
          0.3716347249206074,
          0.9505652814339628,
          -1.9060707429949018,
          -0.7216299456200906,
          0.5033731431095232,
          1.567603658183932,
          -1.744367667834536,
          0.6046135698475051,
          -1.2591214070600647,
          0.24835386011648616,
          -1.990235566012449,
          0.2909701259669725,
          0.3835805487265389,
          -0.3289224481078893,
          2.783013415400195,
          0.004641289184778225,
          -0.5331706362446346,
          -0.85464536453022,
          -1.939048766759401,
          1.5732448829480874,
          0.6039064537817525,
          1.7959504221230522,
          1.0956375803715455,
          -0.30958601346015857,
          0.6493122178381358,
          -0.13110025881025425,
          0.08373256007282438,
          -0.9453019502596386,
          1.3098828552097408,
          1.0238437785917132,
          -0.2796519031510746,
          -0.18589891701581704,
          -1.9507939085538313,
          -1.9240307432375254,
          0.25150645933656285,
          -0.4025651321810857,
          -2.0008241036823686,
          -0.6715003970746136,
          -0.4865133485971033,
          -1.0906624905781868,
          -0.3155942117620863,
          1.0912079824359904,
          0.7558457550507326,
          0.9947145179461878,
          -0.884063002623822,
          -0.9426633092127263,
          -1.5032010405626413,
          0.016891280439735923,
          -1.4880291703598918,
          1.1960536111450781,
          0.645816263530466,
          0.7265415536969748,
          -0.07193586504117896,
          -0.15127496930009326,
          0.7246289940737326,
          1.1197657056355594,
          -2.0824336274218602,
          -0.9504679410546145,
          0.41403009909111205,
          0.29797641820947335,
          1.1205868149104123,
          -0.7225223044674257,
          -1.7344026712503873,
          0.7463173594083022,
          -0.25507555623623346,
          -0.3559478068672032,
          -0.42604250219736656,
          1.4951429885340772,
          -0.2616445199840373,
          0.8296699030143622,
          -2.343331318484972,
          0.9516666452755717,
          -0.05688586925889025,
          0.051787880004286954,
          2.352043014383918,
          -1.5993797304717008,
          -1.0915611825741727,
          -0.5340771017543282,
          0.7301909733814406,
          -0.9680356653278129,
          -0.6277223443047016,
          -0.8408546145530816,
          -1.5771668688401028
         ],
         "yaxis": "y10"
        },
        {
         "histfunc": "count",
         "histnorm": "",
         "marker": {
          "color": "rgba(50, 171, 96, 1.0)",
          "line": {
           "color": "#4D5663",
           "width": 1.3
          }
         },
         "name": "C",
         "nbinsx": 10,
         "opacity": 0.8,
         "orientation": "v",
         "type": "histogram",
         "x": [
          0.8583663857467344,
          -1.5145392864678382,
          0.34690164059855494,
          -1.0771202641605213,
          0.7457894747870629,
          1.3465439153846355,
          -0.19439011320307956,
          -0.1278688585773838,
          0.8714217088237272,
          -1.2069465803723132,
          0.678669003387527,
          0.6908710435304085,
          -1.3518678827881616,
          -2.109643525172609,
          -0.14739200141021705,
          0.2736555043972159,
          1.5072558687922262,
          0.3716347249206074,
          0.9505652814339628,
          -1.9060707429949018,
          -0.7216299456200906,
          0.5033731431095232,
          1.567603658183932,
          -1.744367667834536,
          0.6046135698475051,
          -1.2591214070600647,
          0.24835386011648616,
          -1.990235566012449,
          0.2909701259669725,
          0.3835805487265389,
          -0.3289224481078893,
          2.783013415400195,
          0.004641289184778225,
          -0.5331706362446346,
          -0.85464536453022,
          -1.939048766759401,
          1.5732448829480874,
          0.6039064537817525,
          1.7959504221230522,
          1.0956375803715455,
          -0.30958601346015857,
          0.6493122178381358,
          -0.13110025881025425,
          0.08373256007282438,
          -0.9453019502596386,
          1.3098828552097408,
          1.0238437785917132,
          -0.2796519031510746,
          -0.18589891701581704,
          -1.9507939085538313,
          -1.9240307432375254,
          0.25150645933656285,
          -0.4025651321810857,
          -2.0008241036823686,
          -0.6715003970746136,
          -0.4865133485971033,
          -1.0906624905781868,
          -0.3155942117620863,
          1.0912079824359904,
          0.7558457550507326,
          0.9947145179461878,
          -0.884063002623822,
          -0.9426633092127263,
          -1.5032010405626413,
          0.016891280439735923,
          -1.4880291703598918,
          1.1960536111450781,
          0.645816263530466,
          0.7265415536969748,
          -0.07193586504117896,
          -0.15127496930009326,
          0.7246289940737326,
          1.1197657056355594,
          -2.0824336274218602,
          -0.9504679410546145,
          0.41403009909111205,
          0.29797641820947335,
          1.1205868149104123,
          -0.7225223044674257,
          -1.7344026712503873,
          0.7463173594083022,
          -0.25507555623623346,
          -0.3559478068672032,
          -0.42604250219736656,
          1.4951429885340772,
          -0.2616445199840373,
          0.8296699030143622,
          -2.343331318484972,
          0.9516666452755717,
          -0.05688586925889025,
          0.051787880004286954,
          2.352043014383918,
          -1.5993797304717008,
          -1.0915611825741727,
          -0.5340771017543282,
          0.7301909733814406,
          -0.9680356653278129,
          -0.6277223443047016,
          -0.8408546145530816,
          -1.5771668688401028
         ],
         "xaxis": "x11",
         "yaxis": "y11"
        },
        {
         "line": {
          "color": "rgba(128, 128, 128, 1.0)",
          "dash": "solid",
          "shape": "linear",
          "width": 1.3
         },
         "marker": {
          "size": 2,
          "symbol": "circle"
         },
         "mode": "markers",
         "name": "C",
         "text": "",
         "type": "scatter",
         "x": [
          0.07924185651283985,
          0.6818652924290595,
          -1.5873646183219725,
          0.12143990441081044,
          0.05207846008017546,
          -1.6172186411018126,
          0.011936196923565652,
          0.3529043777707589,
          -0.2505368958304461,
          0.5242368019228532,
          0.8248947952081447,
          -0.44144132648920137,
          -1.1808687641887123,
          -0.5373388775111392,
          -0.3237467751304937,
          -0.3776318955153955,
          -1.0239629768554412,
          1.245531514165095,
          1.1073940699327756,
          0.4251891543621005,
          0.513692890737192,
          -0.8251306325144719,
          -0.5401465320493954,
          -0.16508677184432394,
          0.10365248867441129,
          -0.49532774975850336,
          0.33529958182784414,
          0.43571929713716445,
          0.39720144728297835,
          1.310944841202766,
          -2.3169983885896843,
          -0.18908103238767154,
          0.5292222231066129,
          0.29016145332777066,
          0.8427822926991279,
          -0.23657082738896495,
          -0.9235212521760812,
          -1.7890541565202018,
          0.8155050859900476,
          -0.10032716975412605,
          -1.365892603250562,
          0.13199703355022221,
          0.7329981815183036,
          -0.028480770358342258,
          0.5961455415925334,
          0.12109006891748281,
          -0.27040586484201984,
          -0.05622323384537568,
          0.2547450277359559,
          0.7390152320916648,
          1.4217961618406467,
          0.2806795766706054,
          1.036600861298079,
          -0.25972435751392714,
          -1.354284864112056,
          0.22207571354595435,
          1.86260698428309,
          -0.023431220580845128,
          0.12190958858536981,
          -0.3441378034341104,
          -0.3071343352575743,
          0.731265097288132,
          -0.9491959956966635,
          -1.1545115660287404,
          -0.452396235391058,
          -0.754086005700038,
          -0.43677995059947394,
          -1.2842290256385585,
          -0.5598699785720364,
          -1.9924405355160102,
          0.021257367426427105,
          0.668053699107769,
          -1.6077823585790698,
          -0.9608748165757212,
          0.5312422174535207,
          1.3370322151179366,
          0.8246792139371296,
          -0.43104272603839816,
          0.20878375668740443,
          -0.20858077619848964,
          -0.06922238817565377,
          -0.31461710761825573,
          3.1295338984364833,
          0.8281974921069192,
          1.2578508827664443,
          -0.4435176039959194,
          0.5236437557733773,
          -0.19699010977378437,
          0.006036150046611265,
          -0.7437834804755933,
          1.1688954857881058,
          0.46977893589293973,
          0.9529961423643826,
          1.0784673273714247,
          0.0937729889871102,
          -0.0691169318342257,
          -0.6697870179389714,
          -0.06400552700673463,
          -1.8031729430720378,
          0.49745682576903094
         ],
         "xaxis": "x12",
         "y": [
          0.8583663857467344,
          -1.5145392864678382,
          0.34690164059855494,
          -1.0771202641605213,
          0.7457894747870629,
          1.3465439153846355,
          -0.19439011320307956,
          -0.1278688585773838,
          0.8714217088237272,
          -1.2069465803723132,
          0.678669003387527,
          0.6908710435304085,
          -1.3518678827881616,
          -2.109643525172609,
          -0.14739200141021705,
          0.2736555043972159,
          1.5072558687922262,
          0.3716347249206074,
          0.9505652814339628,
          -1.9060707429949018,
          -0.7216299456200906,
          0.5033731431095232,
          1.567603658183932,
          -1.744367667834536,
          0.6046135698475051,
          -1.2591214070600647,
          0.24835386011648616,
          -1.990235566012449,
          0.2909701259669725,
          0.3835805487265389,
          -0.3289224481078893,
          2.783013415400195,
          0.004641289184778225,
          -0.5331706362446346,
          -0.85464536453022,
          -1.939048766759401,
          1.5732448829480874,
          0.6039064537817525,
          1.7959504221230522,
          1.0956375803715455,
          -0.30958601346015857,
          0.6493122178381358,
          -0.13110025881025425,
          0.08373256007282438,
          -0.9453019502596386,
          1.3098828552097408,
          1.0238437785917132,
          -0.2796519031510746,
          -0.18589891701581704,
          -1.9507939085538313,
          -1.9240307432375254,
          0.25150645933656285,
          -0.4025651321810857,
          -2.0008241036823686,
          -0.6715003970746136,
          -0.4865133485971033,
          -1.0906624905781868,
          -0.3155942117620863,
          1.0912079824359904,
          0.7558457550507326,
          0.9947145179461878,
          -0.884063002623822,
          -0.9426633092127263,
          -1.5032010405626413,
          0.016891280439735923,
          -1.4880291703598918,
          1.1960536111450781,
          0.645816263530466,
          0.7265415536969748,
          -0.07193586504117896,
          -0.15127496930009326,
          0.7246289940737326,
          1.1197657056355594,
          -2.0824336274218602,
          -0.9504679410546145,
          0.41403009909111205,
          0.29797641820947335,
          1.1205868149104123,
          -0.7225223044674257,
          -1.7344026712503873,
          0.7463173594083022,
          -0.25507555623623346,
          -0.3559478068672032,
          -0.42604250219736656,
          1.4951429885340772,
          -0.2616445199840373,
          0.8296699030143622,
          -2.343331318484972,
          0.9516666452755717,
          -0.05688586925889025,
          0.051787880004286954,
          2.352043014383918,
          -1.5993797304717008,
          -1.0915611825741727,
          -0.5340771017543282,
          0.7301909733814406,
          -0.9680356653278129,
          -0.6277223443047016,
          -0.8408546145530816,
          -1.5771668688401028
         ],
         "yaxis": "y12"
        },
        {
         "line": {
          "color": "rgba(128, 128, 128, 1.0)",
          "dash": "solid",
          "shape": "linear",
          "width": 1.3
         },
         "marker": {
          "size": 2,
          "symbol": "circle"
         },
         "mode": "markers",
         "name": "D",
         "text": "",
         "type": "scatter",
         "x": [
          -0.6237268104686525,
          1.274572752369918,
          1.2855856084667923,
          0.4780921393755692,
          0.34494324406716476,
          -0.6405949323178967,
          -0.23348553233512562,
          0.17813370617579363,
          -0.7673268343683513,
          0.6579796347779423,
          0.09150439440134266,
          -0.3202194087654672,
          -0.7198822372283044,
          -0.03040259488005372,
          1.130130891132435,
          -1.3944379204410033,
          1.8055147559922298,
          -1.9857070195145679,
          1.4470767837214011,
          1.2874355830663946,
          0.696433594308047,
          2.404825719871125,
          -0.9623858314433245,
          -0.1859132142492279,
          0.03170213208913351,
          0.5002634060080197,
          1.4787083705078896,
          0.7458816130279491,
          0.3594135831219899,
          -1.2275883098721305,
          -0.03238291414533404,
          -0.15198417429647754,
          -0.8830153029958461,
          -0.8132224851313794,
          -2.0501610155245906,
          -0.9041899883149012,
          2.178167424721099,
          0.286622228389137,
          1.075573863823262,
          -0.4356904238305605,
          -1.0651750876267727,
          -0.0028056950631574658,
          -0.49382633776458307,
          -1.3147464271320535,
          -0.08989013325516612,
          -0.7042291895417842,
          -0.36343888412820746,
          0.333312240811528,
          1.0876510344408286,
          -0.3062546243441566,
          0.5660085135696187,
          0.09294517023552899,
          0.1894174818824277,
          0.04080039057265011,
          1.9675892925427019,
          -1.301768091588984,
          1.3152747666891773,
          0.005160869784432948,
          1.462520086249543,
          0.23850033626882083,
          0.8276718102531865,
          0.7004459393770409,
          0.19721486412706607,
          1.352394056400812,
          -1.5484023795619661,
          -0.22703321615797586,
          0.38543157811012896,
          0.8648956881612846,
          0.11555970092743817,
          0.24377042358437961,
          -0.8907934979824191,
          -0.41298058093838874,
          0.08772890141429637,
          -0.07976871061424609,
          0.2956966147265074,
          0.004051788741819877,
          -0.21232058552429844,
          -1.644617144448248,
          0.9817767416421945,
          -0.4355636648375388,
          -0.5358800350351557,
          0.2686898414179787,
          -1.7857386894657712,
          0.16534194227863233,
          1.6237878884244912,
          0.940607078882582,
          0.21777436019505278,
          1.2675257874568937,
          -1.1924645795499464,
          -1.0024359732972687,
          -0.9049278274834502,
          2.1992791381619425,
          -0.10497720054729366,
          -0.4905151303510943,
          -0.6425792587255553,
          0.5835158348888574,
          0.1531735913687253,
          1.2239349589688424,
          -0.03703710548486216,
          -0.2791575018844413
         ],
         "xaxis": "x13",
         "y": [
          0.07924185651283985,
          0.6818652924290595,
          -1.5873646183219725,
          0.12143990441081044,
          0.05207846008017546,
          -1.6172186411018126,
          0.011936196923565652,
          0.3529043777707589,
          -0.2505368958304461,
          0.5242368019228532,
          0.8248947952081447,
          -0.44144132648920137,
          -1.1808687641887123,
          -0.5373388775111392,
          -0.3237467751304937,
          -0.3776318955153955,
          -1.0239629768554412,
          1.245531514165095,
          1.1073940699327756,
          0.4251891543621005,
          0.513692890737192,
          -0.8251306325144719,
          -0.5401465320493954,
          -0.16508677184432394,
          0.10365248867441129,
          -0.49532774975850336,
          0.33529958182784414,
          0.43571929713716445,
          0.39720144728297835,
          1.310944841202766,
          -2.3169983885896843,
          -0.18908103238767154,
          0.5292222231066129,
          0.29016145332777066,
          0.8427822926991279,
          -0.23657082738896495,
          -0.9235212521760812,
          -1.7890541565202018,
          0.8155050859900476,
          -0.10032716975412605,
          -1.365892603250562,
          0.13199703355022221,
          0.7329981815183036,
          -0.028480770358342258,
          0.5961455415925334,
          0.12109006891748281,
          -0.27040586484201984,
          -0.05622323384537568,
          0.2547450277359559,
          0.7390152320916648,
          1.4217961618406467,
          0.2806795766706054,
          1.036600861298079,
          -0.25972435751392714,
          -1.354284864112056,
          0.22207571354595435,
          1.86260698428309,
          -0.023431220580845128,
          0.12190958858536981,
          -0.3441378034341104,
          -0.3071343352575743,
          0.731265097288132,
          -0.9491959956966635,
          -1.1545115660287404,
          -0.452396235391058,
          -0.754086005700038,
          -0.43677995059947394,
          -1.2842290256385585,
          -0.5598699785720364,
          -1.9924405355160102,
          0.021257367426427105,
          0.668053699107769,
          -1.6077823585790698,
          -0.9608748165757212,
          0.5312422174535207,
          1.3370322151179366,
          0.8246792139371296,
          -0.43104272603839816,
          0.20878375668740443,
          -0.20858077619848964,
          -0.06922238817565377,
          -0.31461710761825573,
          3.1295338984364833,
          0.8281974921069192,
          1.2578508827664443,
          -0.4435176039959194,
          0.5236437557733773,
          -0.19699010977378437,
          0.006036150046611265,
          -0.7437834804755933,
          1.1688954857881058,
          0.46977893589293973,
          0.9529961423643826,
          1.0784673273714247,
          0.0937729889871102,
          -0.0691169318342257,
          -0.6697870179389714,
          -0.06400552700673463,
          -1.8031729430720378,
          0.49745682576903094
         ],
         "yaxis": "y13"
        },
        {
         "line": {
          "color": "rgba(128, 128, 128, 1.0)",
          "dash": "solid",
          "shape": "linear",
          "width": 1.3
         },
         "marker": {
          "size": 2,
          "symbol": "circle"
         },
         "mode": "markers",
         "name": "D",
         "text": "",
         "type": "scatter",
         "x": [
          -0.5992388419623923,
          -1.2575663073827104,
          -0.8681566591353996,
          0.7064138445219653,
          1.220897910921186,
          -0.23843854751836333,
          0.08125458191418496,
          0.6318372109145688,
          0.942548979492198,
          2.320690008639898,
          0.9429607967997387,
          -0.29015875072636427,
          -1.6581592775086522,
          -0.5477094864769935,
          0.767637407871621,
          0.8881186319337434,
          -0.0643904961411898,
          0.9534947040026447,
          -0.16606079238591212,
          0.8603565522937122,
          -0.1580619170545945,
          -0.9653181739405476,
          -0.46734405290943015,
          -1.2911496712539385,
          -0.3972209893445163,
          0.3488214938166166,
          -0.21314454951927206,
          -0.4643598207233956,
          -0.6800305118874078,
          1.2935401582290862,
          1.4361191337703871,
          -1.171567562342489,
          -0.3670068378880621,
          -1.1054577060016664,
          -0.32064801789654274,
          -0.9363926236184297,
          -0.49477094246354825,
          0.812902698213528,
          0.8537832422872523,
          0.094645992888546,
          -0.6994604522634928,
          1.0646035005563184,
          0.8307767553268849,
          1.0896853366905155,
          0.2714464628285896,
          -0.5975426618874339,
          -0.16416177611486993,
          0.2877218711794547,
          -0.3781742013756831,
          0.48423209173426957,
          -1.180883461347576,
          -1.8120680649992547,
          0.8284734124830162,
          -1.1731129598625227,
          1.9801720805279264,
          1.2077623807204638,
          -0.13553492849395918,
          0.7018366579992051,
          0.23908836812693707,
          1.1711500013199105,
          0.3263080964506011,
          1.9688996231734426,
          0.18021053530810413,
          0.5375796221576216,
          1.5367208473457563,
          0.3513982997315935,
          0.9127172041851135,
          -2.230666072053595,
          -0.019961815619791035,
          -0.30999675103673313,
          -0.8464020313819279,
          -0.2533707794233801,
          0.4896143033570152,
          1.46020941716156,
          1.2582452885624982,
          -0.029048024548711818,
          -1.946621422012302,
          0.9796055069317009,
          1.7544797453482672,
          -0.9410046003128689,
          0.05471156767059863,
          1.8503324453552497,
          1.5160510298296148,
          -0.18408876323412576,
          -0.997566364283777,
          -1.2160719819895915,
          -0.015213805397837697,
          -1.3869063045253367,
          -0.3214812075644415,
          -0.27298008360765874,
          -0.424922336179347,
          -0.43640971391586103,
          0.24837444626450242,
          -0.5897616186959732,
          -0.966304223117495,
          0.3293893994072471,
          -1.126034549538087,
          0.7201557873948927,
          0.19646839542118436,
          -0.8793115217131454
         ],
         "xaxis": "x14",
         "y": [
          0.07924185651283985,
          0.6818652924290595,
          -1.5873646183219725,
          0.12143990441081044,
          0.05207846008017546,
          -1.6172186411018126,
          0.011936196923565652,
          0.3529043777707589,
          -0.2505368958304461,
          0.5242368019228532,
          0.8248947952081447,
          -0.44144132648920137,
          -1.1808687641887123,
          -0.5373388775111392,
          -0.3237467751304937,
          -0.3776318955153955,
          -1.0239629768554412,
          1.245531514165095,
          1.1073940699327756,
          0.4251891543621005,
          0.513692890737192,
          -0.8251306325144719,
          -0.5401465320493954,
          -0.16508677184432394,
          0.10365248867441129,
          -0.49532774975850336,
          0.33529958182784414,
          0.43571929713716445,
          0.39720144728297835,
          1.310944841202766,
          -2.3169983885896843,
          -0.18908103238767154,
          0.5292222231066129,
          0.29016145332777066,
          0.8427822926991279,
          -0.23657082738896495,
          -0.9235212521760812,
          -1.7890541565202018,
          0.8155050859900476,
          -0.10032716975412605,
          -1.365892603250562,
          0.13199703355022221,
          0.7329981815183036,
          -0.028480770358342258,
          0.5961455415925334,
          0.12109006891748281,
          -0.27040586484201984,
          -0.05622323384537568,
          0.2547450277359559,
          0.7390152320916648,
          1.4217961618406467,
          0.2806795766706054,
          1.036600861298079,
          -0.25972435751392714,
          -1.354284864112056,
          0.22207571354595435,
          1.86260698428309,
          -0.023431220580845128,
          0.12190958858536981,
          -0.3441378034341104,
          -0.3071343352575743,
          0.731265097288132,
          -0.9491959956966635,
          -1.1545115660287404,
          -0.452396235391058,
          -0.754086005700038,
          -0.43677995059947394,
          -1.2842290256385585,
          -0.5598699785720364,
          -1.9924405355160102,
          0.021257367426427105,
          0.668053699107769,
          -1.6077823585790698,
          -0.9608748165757212,
          0.5312422174535207,
          1.3370322151179366,
          0.8246792139371296,
          -0.43104272603839816,
          0.20878375668740443,
          -0.20858077619848964,
          -0.06922238817565377,
          -0.31461710761825573,
          3.1295338984364833,
          0.8281974921069192,
          1.2578508827664443,
          -0.4435176039959194,
          0.5236437557733773,
          -0.19699010977378437,
          0.006036150046611265,
          -0.7437834804755933,
          1.1688954857881058,
          0.46977893589293973,
          0.9529961423643826,
          1.0784673273714247,
          0.0937729889871102,
          -0.0691169318342257,
          -0.6697870179389714,
          -0.06400552700673463,
          -1.8031729430720378,
          0.49745682576903094
         ],
         "yaxis": "y14"
        },
        {
         "line": {
          "color": "rgba(128, 128, 128, 1.0)",
          "dash": "solid",
          "shape": "linear",
          "width": 1.3
         },
         "marker": {
          "size": 2,
          "symbol": "circle"
         },
         "mode": "markers",
         "name": "D",
         "text": "",
         "type": "scatter",
         "x": [
          0.8583663857467344,
          -1.5145392864678382,
          0.34690164059855494,
          -1.0771202641605213,
          0.7457894747870629,
          1.3465439153846355,
          -0.19439011320307956,
          -0.1278688585773838,
          0.8714217088237272,
          -1.2069465803723132,
          0.678669003387527,
          0.6908710435304085,
          -1.3518678827881616,
          -2.109643525172609,
          -0.14739200141021705,
          0.2736555043972159,
          1.5072558687922262,
          0.3716347249206074,
          0.9505652814339628,
          -1.9060707429949018,
          -0.7216299456200906,
          0.5033731431095232,
          1.567603658183932,
          -1.744367667834536,
          0.6046135698475051,
          -1.2591214070600647,
          0.24835386011648616,
          -1.990235566012449,
          0.2909701259669725,
          0.3835805487265389,
          -0.3289224481078893,
          2.783013415400195,
          0.004641289184778225,
          -0.5331706362446346,
          -0.85464536453022,
          -1.939048766759401,
          1.5732448829480874,
          0.6039064537817525,
          1.7959504221230522,
          1.0956375803715455,
          -0.30958601346015857,
          0.6493122178381358,
          -0.13110025881025425,
          0.08373256007282438,
          -0.9453019502596386,
          1.3098828552097408,
          1.0238437785917132,
          -0.2796519031510746,
          -0.18589891701581704,
          -1.9507939085538313,
          -1.9240307432375254,
          0.25150645933656285,
          -0.4025651321810857,
          -2.0008241036823686,
          -0.6715003970746136,
          -0.4865133485971033,
          -1.0906624905781868,
          -0.3155942117620863,
          1.0912079824359904,
          0.7558457550507326,
          0.9947145179461878,
          -0.884063002623822,
          -0.9426633092127263,
          -1.5032010405626413,
          0.016891280439735923,
          -1.4880291703598918,
          1.1960536111450781,
          0.645816263530466,
          0.7265415536969748,
          -0.07193586504117896,
          -0.15127496930009326,
          0.7246289940737326,
          1.1197657056355594,
          -2.0824336274218602,
          -0.9504679410546145,
          0.41403009909111205,
          0.29797641820947335,
          1.1205868149104123,
          -0.7225223044674257,
          -1.7344026712503873,
          0.7463173594083022,
          -0.25507555623623346,
          -0.3559478068672032,
          -0.42604250219736656,
          1.4951429885340772,
          -0.2616445199840373,
          0.8296699030143622,
          -2.343331318484972,
          0.9516666452755717,
          -0.05688586925889025,
          0.051787880004286954,
          2.352043014383918,
          -1.5993797304717008,
          -1.0915611825741727,
          -0.5340771017543282,
          0.7301909733814406,
          -0.9680356653278129,
          -0.6277223443047016,
          -0.8408546145530816,
          -1.5771668688401028
         ],
         "xaxis": "x15",
         "y": [
          0.07924185651283985,
          0.6818652924290595,
          -1.5873646183219725,
          0.12143990441081044,
          0.05207846008017546,
          -1.6172186411018126,
          0.011936196923565652,
          0.3529043777707589,
          -0.2505368958304461,
          0.5242368019228532,
          0.8248947952081447,
          -0.44144132648920137,
          -1.1808687641887123,
          -0.5373388775111392,
          -0.3237467751304937,
          -0.3776318955153955,
          -1.0239629768554412,
          1.245531514165095,
          1.1073940699327756,
          0.4251891543621005,
          0.513692890737192,
          -0.8251306325144719,
          -0.5401465320493954,
          -0.16508677184432394,
          0.10365248867441129,
          -0.49532774975850336,
          0.33529958182784414,
          0.43571929713716445,
          0.39720144728297835,
          1.310944841202766,
          -2.3169983885896843,
          -0.18908103238767154,
          0.5292222231066129,
          0.29016145332777066,
          0.8427822926991279,
          -0.23657082738896495,
          -0.9235212521760812,
          -1.7890541565202018,
          0.8155050859900476,
          -0.10032716975412605,
          -1.365892603250562,
          0.13199703355022221,
          0.7329981815183036,
          -0.028480770358342258,
          0.5961455415925334,
          0.12109006891748281,
          -0.27040586484201984,
          -0.05622323384537568,
          0.2547450277359559,
          0.7390152320916648,
          1.4217961618406467,
          0.2806795766706054,
          1.036600861298079,
          -0.25972435751392714,
          -1.354284864112056,
          0.22207571354595435,
          1.86260698428309,
          -0.023431220580845128,
          0.12190958858536981,
          -0.3441378034341104,
          -0.3071343352575743,
          0.731265097288132,
          -0.9491959956966635,
          -1.1545115660287404,
          -0.452396235391058,
          -0.754086005700038,
          -0.43677995059947394,
          -1.2842290256385585,
          -0.5598699785720364,
          -1.9924405355160102,
          0.021257367426427105,
          0.668053699107769,
          -1.6077823585790698,
          -0.9608748165757212,
          0.5312422174535207,
          1.3370322151179366,
          0.8246792139371296,
          -0.43104272603839816,
          0.20878375668740443,
          -0.20858077619848964,
          -0.06922238817565377,
          -0.31461710761825573,
          3.1295338984364833,
          0.8281974921069192,
          1.2578508827664443,
          -0.4435176039959194,
          0.5236437557733773,
          -0.19699010977378437,
          0.006036150046611265,
          -0.7437834804755933,
          1.1688954857881058,
          0.46977893589293973,
          0.9529961423643826,
          1.0784673273714247,
          0.0937729889871102,
          -0.0691169318342257,
          -0.6697870179389714,
          -0.06400552700673463,
          -1.8031729430720378,
          0.49745682576903094
         ],
         "yaxis": "y15"
        },
        {
         "histfunc": "count",
         "histnorm": "",
         "marker": {
          "color": "rgba(128, 0, 128, 1.0)",
          "line": {
           "color": "#4D5663",
           "width": 1.3
          }
         },
         "name": "D",
         "nbinsx": 10,
         "opacity": 0.8,
         "orientation": "v",
         "type": "histogram",
         "x": [
          0.07924185651283985,
          0.6818652924290595,
          -1.5873646183219725,
          0.12143990441081044,
          0.05207846008017546,
          -1.6172186411018126,
          0.011936196923565652,
          0.3529043777707589,
          -0.2505368958304461,
          0.5242368019228532,
          0.8248947952081447,
          -0.44144132648920137,
          -1.1808687641887123,
          -0.5373388775111392,
          -0.3237467751304937,
          -0.3776318955153955,
          -1.0239629768554412,
          1.245531514165095,
          1.1073940699327756,
          0.4251891543621005,
          0.513692890737192,
          -0.8251306325144719,
          -0.5401465320493954,
          -0.16508677184432394,
          0.10365248867441129,
          -0.49532774975850336,
          0.33529958182784414,
          0.43571929713716445,
          0.39720144728297835,
          1.310944841202766,
          -2.3169983885896843,
          -0.18908103238767154,
          0.5292222231066129,
          0.29016145332777066,
          0.8427822926991279,
          -0.23657082738896495,
          -0.9235212521760812,
          -1.7890541565202018,
          0.8155050859900476,
          -0.10032716975412605,
          -1.365892603250562,
          0.13199703355022221,
          0.7329981815183036,
          -0.028480770358342258,
          0.5961455415925334,
          0.12109006891748281,
          -0.27040586484201984,
          -0.05622323384537568,
          0.2547450277359559,
          0.7390152320916648,
          1.4217961618406467,
          0.2806795766706054,
          1.036600861298079,
          -0.25972435751392714,
          -1.354284864112056,
          0.22207571354595435,
          1.86260698428309,
          -0.023431220580845128,
          0.12190958858536981,
          -0.3441378034341104,
          -0.3071343352575743,
          0.731265097288132,
          -0.9491959956966635,
          -1.1545115660287404,
          -0.452396235391058,
          -0.754086005700038,
          -0.43677995059947394,
          -1.2842290256385585,
          -0.5598699785720364,
          -1.9924405355160102,
          0.021257367426427105,
          0.668053699107769,
          -1.6077823585790698,
          -0.9608748165757212,
          0.5312422174535207,
          1.3370322151179366,
          0.8246792139371296,
          -0.43104272603839816,
          0.20878375668740443,
          -0.20858077619848964,
          -0.06922238817565377,
          -0.31461710761825573,
          3.1295338984364833,
          0.8281974921069192,
          1.2578508827664443,
          -0.4435176039959194,
          0.5236437557733773,
          -0.19699010977378437,
          0.006036150046611265,
          -0.7437834804755933,
          1.1688954857881058,
          0.46977893589293973,
          0.9529961423643826,
          1.0784673273714247,
          0.0937729889871102,
          -0.0691169318342257,
          -0.6697870179389714,
          -0.06400552700673463,
          -1.8031729430720378,
          0.49745682576903094
         ],
         "xaxis": "x16",
         "yaxis": "y16"
        }
       ],
       "layout": {
        "bargap": 0.02,
        "legend": {
         "bgcolor": "#F5F6F9",
         "font": {
          "color": "#4D5663"
         }
        },
        "paper_bgcolor": "#F5F6F9",
        "plot_bgcolor": "#F5F6F9",
        "showlegend": false,
        "template": {
         "data": {
          "bar": [
           {
            "error_x": {
             "color": "#2a3f5f"
            },
            "error_y": {
             "color": "#2a3f5f"
            },
            "marker": {
             "line": {
              "color": "#E5ECF6",
              "width": 0.5
             },
             "pattern": {
              "fillmode": "overlay",
              "size": 10,
              "solidity": 0.2
             }
            },
            "type": "bar"
           }
          ],
          "barpolar": [
           {
            "marker": {
             "line": {
              "color": "#E5ECF6",
              "width": 0.5
             },
             "pattern": {
              "fillmode": "overlay",
              "size": 10,
              "solidity": 0.2
             }
            },
            "type": "barpolar"
           }
          ],
          "carpet": [
           {
            "aaxis": {
             "endlinecolor": "#2a3f5f",
             "gridcolor": "white",
             "linecolor": "white",
             "minorgridcolor": "white",
             "startlinecolor": "#2a3f5f"
            },
            "baxis": {
             "endlinecolor": "#2a3f5f",
             "gridcolor": "white",
             "linecolor": "white",
             "minorgridcolor": "white",
             "startlinecolor": "#2a3f5f"
            },
            "type": "carpet"
           }
          ],
          "choropleth": [
           {
            "colorbar": {
             "outlinewidth": 0,
             "ticks": ""
            },
            "type": "choropleth"
           }
          ],
          "contour": [
           {
            "colorbar": {
             "outlinewidth": 0,
             "ticks": ""
            },
            "colorscale": [
             [
              0,
              "#0d0887"
             ],
             [
              0.1111111111111111,
              "#46039f"
             ],
             [
              0.2222222222222222,
              "#7201a8"
             ],
             [
              0.3333333333333333,
              "#9c179e"
             ],
             [
              0.4444444444444444,
              "#bd3786"
             ],
             [
              0.5555555555555556,
              "#d8576b"
             ],
             [
              0.6666666666666666,
              "#ed7953"
             ],
             [
              0.7777777777777778,
              "#fb9f3a"
             ],
             [
              0.8888888888888888,
              "#fdca26"
             ],
             [
              1,
              "#f0f921"
             ]
            ],
            "type": "contour"
           }
          ],
          "contourcarpet": [
           {
            "colorbar": {
             "outlinewidth": 0,
             "ticks": ""
            },
            "type": "contourcarpet"
           }
          ],
          "heatmap": [
           {
            "colorbar": {
             "outlinewidth": 0,
             "ticks": ""
            },
            "colorscale": [
             [
              0,
              "#0d0887"
             ],
             [
              0.1111111111111111,
              "#46039f"
             ],
             [
              0.2222222222222222,
              "#7201a8"
             ],
             [
              0.3333333333333333,
              "#9c179e"
             ],
             [
              0.4444444444444444,
              "#bd3786"
             ],
             [
              0.5555555555555556,
              "#d8576b"
             ],
             [
              0.6666666666666666,
              "#ed7953"
             ],
             [
              0.7777777777777778,
              "#fb9f3a"
             ],
             [
              0.8888888888888888,
              "#fdca26"
             ],
             [
              1,
              "#f0f921"
             ]
            ],
            "type": "heatmap"
           }
          ],
          "heatmapgl": [
           {
            "colorbar": {
             "outlinewidth": 0,
             "ticks": ""
            },
            "colorscale": [
             [
              0,
              "#0d0887"
             ],
             [
              0.1111111111111111,
              "#46039f"
             ],
             [
              0.2222222222222222,
              "#7201a8"
             ],
             [
              0.3333333333333333,
              "#9c179e"
             ],
             [
              0.4444444444444444,
              "#bd3786"
             ],
             [
              0.5555555555555556,
              "#d8576b"
             ],
             [
              0.6666666666666666,
              "#ed7953"
             ],
             [
              0.7777777777777778,
              "#fb9f3a"
             ],
             [
              0.8888888888888888,
              "#fdca26"
             ],
             [
              1,
              "#f0f921"
             ]
            ],
            "type": "heatmapgl"
           }
          ],
          "histogram": [
           {
            "marker": {
             "pattern": {
              "fillmode": "overlay",
              "size": 10,
              "solidity": 0.2
             }
            },
            "type": "histogram"
           }
          ],
          "histogram2d": [
           {
            "colorbar": {
             "outlinewidth": 0,
             "ticks": ""
            },
            "colorscale": [
             [
              0,
              "#0d0887"
             ],
             [
              0.1111111111111111,
              "#46039f"
             ],
             [
              0.2222222222222222,
              "#7201a8"
             ],
             [
              0.3333333333333333,
              "#9c179e"
             ],
             [
              0.4444444444444444,
              "#bd3786"
             ],
             [
              0.5555555555555556,
              "#d8576b"
             ],
             [
              0.6666666666666666,
              "#ed7953"
             ],
             [
              0.7777777777777778,
              "#fb9f3a"
             ],
             [
              0.8888888888888888,
              "#fdca26"
             ],
             [
              1,
              "#f0f921"
             ]
            ],
            "type": "histogram2d"
           }
          ],
          "histogram2dcontour": [
           {
            "colorbar": {
             "outlinewidth": 0,
             "ticks": ""
            },
            "colorscale": [
             [
              0,
              "#0d0887"
             ],
             [
              0.1111111111111111,
              "#46039f"
             ],
             [
              0.2222222222222222,
              "#7201a8"
             ],
             [
              0.3333333333333333,
              "#9c179e"
             ],
             [
              0.4444444444444444,
              "#bd3786"
             ],
             [
              0.5555555555555556,
              "#d8576b"
             ],
             [
              0.6666666666666666,
              "#ed7953"
             ],
             [
              0.7777777777777778,
              "#fb9f3a"
             ],
             [
              0.8888888888888888,
              "#fdca26"
             ],
             [
              1,
              "#f0f921"
             ]
            ],
            "type": "histogram2dcontour"
           }
          ],
          "mesh3d": [
           {
            "colorbar": {
             "outlinewidth": 0,
             "ticks": ""
            },
            "type": "mesh3d"
           }
          ],
          "parcoords": [
           {
            "line": {
             "colorbar": {
              "outlinewidth": 0,
              "ticks": ""
             }
            },
            "type": "parcoords"
           }
          ],
          "pie": [
           {
            "automargin": true,
            "type": "pie"
           }
          ],
          "scatter": [
           {
            "fillpattern": {
             "fillmode": "overlay",
             "size": 10,
             "solidity": 0.2
            },
            "type": "scatter"
           }
          ],
          "scatter3d": [
           {
            "line": {
             "colorbar": {
              "outlinewidth": 0,
              "ticks": ""
             }
            },
            "marker": {
             "colorbar": {
              "outlinewidth": 0,
              "ticks": ""
             }
            },
            "type": "scatter3d"
           }
          ],
          "scattercarpet": [
           {
            "marker": {
             "colorbar": {
              "outlinewidth": 0,
              "ticks": ""
             }
            },
            "type": "scattercarpet"
           }
          ],
          "scattergeo": [
           {
            "marker": {
             "colorbar": {
              "outlinewidth": 0,
              "ticks": ""
             }
            },
            "type": "scattergeo"
           }
          ],
          "scattergl": [
           {
            "marker": {
             "colorbar": {
              "outlinewidth": 0,
              "ticks": ""
             }
            },
            "type": "scattergl"
           }
          ],
          "scattermapbox": [
           {
            "marker": {
             "colorbar": {
              "outlinewidth": 0,
              "ticks": ""
             }
            },
            "type": "scattermapbox"
           }
          ],
          "scatterpolar": [
           {
            "marker": {
             "colorbar": {
              "outlinewidth": 0,
              "ticks": ""
             }
            },
            "type": "scatterpolar"
           }
          ],
          "scatterpolargl": [
           {
            "marker": {
             "colorbar": {
              "outlinewidth": 0,
              "ticks": ""
             }
            },
            "type": "scatterpolargl"
           }
          ],
          "scatterternary": [
           {
            "marker": {
             "colorbar": {
              "outlinewidth": 0,
              "ticks": ""
             }
            },
            "type": "scatterternary"
           }
          ],
          "surface": [
           {
            "colorbar": {
             "outlinewidth": 0,
             "ticks": ""
            },
            "colorscale": [
             [
              0,
              "#0d0887"
             ],
             [
              0.1111111111111111,
              "#46039f"
             ],
             [
              0.2222222222222222,
              "#7201a8"
             ],
             [
              0.3333333333333333,
              "#9c179e"
             ],
             [
              0.4444444444444444,
              "#bd3786"
             ],
             [
              0.5555555555555556,
              "#d8576b"
             ],
             [
              0.6666666666666666,
              "#ed7953"
             ],
             [
              0.7777777777777778,
              "#fb9f3a"
             ],
             [
              0.8888888888888888,
              "#fdca26"
             ],
             [
              1,
              "#f0f921"
             ]
            ],
            "type": "surface"
           }
          ],
          "table": [
           {
            "cells": {
             "fill": {
              "color": "#EBF0F8"
             },
             "line": {
              "color": "white"
             }
            },
            "header": {
             "fill": {
              "color": "#C8D4E3"
             },
             "line": {
              "color": "white"
             }
            },
            "type": "table"
           }
          ]
         },
         "layout": {
          "annotationdefaults": {
           "arrowcolor": "#2a3f5f",
           "arrowhead": 0,
           "arrowwidth": 1
          },
          "autotypenumbers": "strict",
          "coloraxis": {
           "colorbar": {
            "outlinewidth": 0,
            "ticks": ""
           }
          },
          "colorscale": {
           "diverging": [
            [
             0,
             "#8e0152"
            ],
            [
             0.1,
             "#c51b7d"
            ],
            [
             0.2,
             "#de77ae"
            ],
            [
             0.3,
             "#f1b6da"
            ],
            [
             0.4,
             "#fde0ef"
            ],
            [
             0.5,
             "#f7f7f7"
            ],
            [
             0.6,
             "#e6f5d0"
            ],
            [
             0.7,
             "#b8e186"
            ],
            [
             0.8,
             "#7fbc41"
            ],
            [
             0.9,
             "#4d9221"
            ],
            [
             1,
             "#276419"
            ]
           ],
           "sequential": [
            [
             0,
             "#0d0887"
            ],
            [
             0.1111111111111111,
             "#46039f"
            ],
            [
             0.2222222222222222,
             "#7201a8"
            ],
            [
             0.3333333333333333,
             "#9c179e"
            ],
            [
             0.4444444444444444,
             "#bd3786"
            ],
            [
             0.5555555555555556,
             "#d8576b"
            ],
            [
             0.6666666666666666,
             "#ed7953"
            ],
            [
             0.7777777777777778,
             "#fb9f3a"
            ],
            [
             0.8888888888888888,
             "#fdca26"
            ],
            [
             1,
             "#f0f921"
            ]
           ],
           "sequentialminus": [
            [
             0,
             "#0d0887"
            ],
            [
             0.1111111111111111,
             "#46039f"
            ],
            [
             0.2222222222222222,
             "#7201a8"
            ],
            [
             0.3333333333333333,
             "#9c179e"
            ],
            [
             0.4444444444444444,
             "#bd3786"
            ],
            [
             0.5555555555555556,
             "#d8576b"
            ],
            [
             0.6666666666666666,
             "#ed7953"
            ],
            [
             0.7777777777777778,
             "#fb9f3a"
            ],
            [
             0.8888888888888888,
             "#fdca26"
            ],
            [
             1,
             "#f0f921"
            ]
           ]
          },
          "colorway": [
           "#636efa",
           "#EF553B",
           "#00cc96",
           "#ab63fa",
           "#FFA15A",
           "#19d3f3",
           "#FF6692",
           "#B6E880",
           "#FF97FF",
           "#FECB52"
          ],
          "font": {
           "color": "#2a3f5f"
          },
          "geo": {
           "bgcolor": "white",
           "lakecolor": "white",
           "landcolor": "#E5ECF6",
           "showlakes": true,
           "showland": true,
           "subunitcolor": "white"
          },
          "hoverlabel": {
           "align": "left"
          },
          "hovermode": "closest",
          "mapbox": {
           "style": "light"
          },
          "paper_bgcolor": "white",
          "plot_bgcolor": "#E5ECF6",
          "polar": {
           "angularaxis": {
            "gridcolor": "white",
            "linecolor": "white",
            "ticks": ""
           },
           "bgcolor": "#E5ECF6",
           "radialaxis": {
            "gridcolor": "white",
            "linecolor": "white",
            "ticks": ""
           }
          },
          "scene": {
           "xaxis": {
            "backgroundcolor": "#E5ECF6",
            "gridcolor": "white",
            "gridwidth": 2,
            "linecolor": "white",
            "showbackground": true,
            "ticks": "",
            "zerolinecolor": "white"
           },
           "yaxis": {
            "backgroundcolor": "#E5ECF6",
            "gridcolor": "white",
            "gridwidth": 2,
            "linecolor": "white",
            "showbackground": true,
            "ticks": "",
            "zerolinecolor": "white"
           },
           "zaxis": {
            "backgroundcolor": "#E5ECF6",
            "gridcolor": "white",
            "gridwidth": 2,
            "linecolor": "white",
            "showbackground": true,
            "ticks": "",
            "zerolinecolor": "white"
           }
          },
          "shapedefaults": {
           "line": {
            "color": "#2a3f5f"
           }
          },
          "ternary": {
           "aaxis": {
            "gridcolor": "white",
            "linecolor": "white",
            "ticks": ""
           },
           "baxis": {
            "gridcolor": "white",
            "linecolor": "white",
            "ticks": ""
           },
           "bgcolor": "#E5ECF6",
           "caxis": {
            "gridcolor": "white",
            "linecolor": "white",
            "ticks": ""
           }
          },
          "title": {
           "x": 0.05
          },
          "xaxis": {
           "automargin": true,
           "gridcolor": "white",
           "linecolor": "white",
           "ticks": "",
           "title": {
            "standoff": 15
           },
           "zerolinecolor": "white",
           "zerolinewidth": 2
          },
          "yaxis": {
           "automargin": true,
           "gridcolor": "white",
           "linecolor": "white",
           "ticks": "",
           "title": {
            "standoff": 15
           },
           "zerolinecolor": "white",
           "zerolinewidth": 2
          }
         }
        },
        "title": {
         "font": {
          "color": "#4D5663"
         }
        },
        "xaxis": {
         "anchor": "y",
         "domain": [
          0,
          0.2125
         ],
         "gridcolor": "#E1E5ED",
         "showgrid": false,
         "tickfont": {
          "color": "#4D5663"
         },
         "title": {
          "font": {
           "color": "#4D5663"
          },
          "text": ""
         },
         "zerolinecolor": "#E1E5ED"
        },
        "xaxis10": {
         "anchor": "y10",
         "domain": [
          0.2625,
          0.475
         ],
         "gridcolor": "#E1E5ED",
         "showgrid": false,
         "tickfont": {
          "color": "#4D5663"
         },
         "title": {
          "font": {
           "color": "#4D5663"
          },
          "text": ""
         },
         "zerolinecolor": "#E1E5ED"
        },
        "xaxis11": {
         "anchor": "y11",
         "domain": [
          0.525,
          0.7375
         ],
         "gridcolor": "#E1E5ED",
         "showgrid": false,
         "tickfont": {
          "color": "#4D5663"
         },
         "title": {
          "font": {
           "color": "#4D5663"
          },
          "text": ""
         },
         "zerolinecolor": "#E1E5ED"
        },
        "xaxis12": {
         "anchor": "y12",
         "domain": [
          0.7875,
          1
         ],
         "gridcolor": "#E1E5ED",
         "showgrid": false,
         "tickfont": {
          "color": "#4D5663"
         },
         "title": {
          "font": {
           "color": "#4D5663"
          },
          "text": ""
         },
         "zerolinecolor": "#E1E5ED"
        },
        "xaxis13": {
         "anchor": "y13",
         "domain": [
          0,
          0.2125
         ],
         "gridcolor": "#E1E5ED",
         "showgrid": false,
         "tickfont": {
          "color": "#4D5663"
         },
         "title": {
          "font": {
           "color": "#4D5663"
          },
          "text": ""
         },
         "zerolinecolor": "#E1E5ED"
        },
        "xaxis14": {
         "anchor": "y14",
         "domain": [
          0.2625,
          0.475
         ],
         "gridcolor": "#E1E5ED",
         "showgrid": false,
         "tickfont": {
          "color": "#4D5663"
         },
         "title": {
          "font": {
           "color": "#4D5663"
          },
          "text": ""
         },
         "zerolinecolor": "#E1E5ED"
        },
        "xaxis15": {
         "anchor": "y15",
         "domain": [
          0.525,
          0.7375
         ],
         "gridcolor": "#E1E5ED",
         "showgrid": false,
         "tickfont": {
          "color": "#4D5663"
         },
         "title": {
          "font": {
           "color": "#4D5663"
          },
          "text": ""
         },
         "zerolinecolor": "#E1E5ED"
        },
        "xaxis16": {
         "anchor": "y16",
         "domain": [
          0.7875,
          1
         ],
         "gridcolor": "#E1E5ED",
         "showgrid": false,
         "tickfont": {
          "color": "#4D5663"
         },
         "title": {
          "font": {
           "color": "#4D5663"
          },
          "text": ""
         },
         "zerolinecolor": "#E1E5ED"
        },
        "xaxis2": {
         "anchor": "y2",
         "domain": [
          0.2625,
          0.475
         ],
         "gridcolor": "#E1E5ED",
         "showgrid": false,
         "tickfont": {
          "color": "#4D5663"
         },
         "title": {
          "font": {
           "color": "#4D5663"
          },
          "text": ""
         },
         "zerolinecolor": "#E1E5ED"
        },
        "xaxis3": {
         "anchor": "y3",
         "domain": [
          0.525,
          0.7375
         ],
         "gridcolor": "#E1E5ED",
         "showgrid": false,
         "tickfont": {
          "color": "#4D5663"
         },
         "title": {
          "font": {
           "color": "#4D5663"
          },
          "text": ""
         },
         "zerolinecolor": "#E1E5ED"
        },
        "xaxis4": {
         "anchor": "y4",
         "domain": [
          0.7875,
          1
         ],
         "gridcolor": "#E1E5ED",
         "showgrid": false,
         "tickfont": {
          "color": "#4D5663"
         },
         "title": {
          "font": {
           "color": "#4D5663"
          },
          "text": ""
         },
         "zerolinecolor": "#E1E5ED"
        },
        "xaxis5": {
         "anchor": "y5",
         "domain": [
          0,
          0.2125
         ],
         "gridcolor": "#E1E5ED",
         "showgrid": false,
         "tickfont": {
          "color": "#4D5663"
         },
         "title": {
          "font": {
           "color": "#4D5663"
          },
          "text": ""
         },
         "zerolinecolor": "#E1E5ED"
        },
        "xaxis6": {
         "anchor": "y6",
         "domain": [
          0.2625,
          0.475
         ],
         "gridcolor": "#E1E5ED",
         "showgrid": false,
         "tickfont": {
          "color": "#4D5663"
         },
         "title": {
          "font": {
           "color": "#4D5663"
          },
          "text": ""
         },
         "zerolinecolor": "#E1E5ED"
        },
        "xaxis7": {
         "anchor": "y7",
         "domain": [
          0.525,
          0.7375
         ],
         "gridcolor": "#E1E5ED",
         "showgrid": false,
         "tickfont": {
          "color": "#4D5663"
         },
         "title": {
          "font": {
           "color": "#4D5663"
          },
          "text": ""
         },
         "zerolinecolor": "#E1E5ED"
        },
        "xaxis8": {
         "anchor": "y8",
         "domain": [
          0.7875,
          1
         ],
         "gridcolor": "#E1E5ED",
         "showgrid": false,
         "tickfont": {
          "color": "#4D5663"
         },
         "title": {
          "font": {
           "color": "#4D5663"
          },
          "text": ""
         },
         "zerolinecolor": "#E1E5ED"
        },
        "xaxis9": {
         "anchor": "y9",
         "domain": [
          0,
          0.2125
         ],
         "gridcolor": "#E1E5ED",
         "showgrid": false,
         "tickfont": {
          "color": "#4D5663"
         },
         "title": {
          "font": {
           "color": "#4D5663"
          },
          "text": ""
         },
         "zerolinecolor": "#E1E5ED"
        },
        "yaxis": {
         "anchor": "x",
         "domain": [
          0.8025,
          1
         ],
         "gridcolor": "#E1E5ED",
         "showgrid": false,
         "tickfont": {
          "color": "#4D5663"
         },
         "title": {
          "font": {
           "color": "#4D5663"
          },
          "text": ""
         },
         "zerolinecolor": "#E1E5ED"
        },
        "yaxis10": {
         "anchor": "x10",
         "domain": [
          0.2675,
          0.465
         ],
         "gridcolor": "#E1E5ED",
         "showgrid": false,
         "tickfont": {
          "color": "#4D5663"
         },
         "title": {
          "font": {
           "color": "#4D5663"
          },
          "text": ""
         },
         "zerolinecolor": "#E1E5ED"
        },
        "yaxis11": {
         "anchor": "x11",
         "domain": [
          0.2675,
          0.465
         ],
         "gridcolor": "#E1E5ED",
         "showgrid": false,
         "tickfont": {
          "color": "#4D5663"
         },
         "title": {
          "font": {
           "color": "#4D5663"
          },
          "text": ""
         },
         "zerolinecolor": "#E1E5ED"
        },
        "yaxis12": {
         "anchor": "x12",
         "domain": [
          0.2675,
          0.465
         ],
         "gridcolor": "#E1E5ED",
         "showgrid": false,
         "tickfont": {
          "color": "#4D5663"
         },
         "title": {
          "font": {
           "color": "#4D5663"
          },
          "text": ""
         },
         "zerolinecolor": "#E1E5ED"
        },
        "yaxis13": {
         "anchor": "x13",
         "domain": [
          0,
          0.1975
         ],
         "gridcolor": "#E1E5ED",
         "showgrid": false,
         "tickfont": {
          "color": "#4D5663"
         },
         "title": {
          "font": {
           "color": "#4D5663"
          },
          "text": ""
         },
         "zerolinecolor": "#E1E5ED"
        },
        "yaxis14": {
         "anchor": "x14",
         "domain": [
          0,
          0.1975
         ],
         "gridcolor": "#E1E5ED",
         "showgrid": false,
         "tickfont": {
          "color": "#4D5663"
         },
         "title": {
          "font": {
           "color": "#4D5663"
          },
          "text": ""
         },
         "zerolinecolor": "#E1E5ED"
        },
        "yaxis15": {
         "anchor": "x15",
         "domain": [
          0,
          0.1975
         ],
         "gridcolor": "#E1E5ED",
         "showgrid": false,
         "tickfont": {
          "color": "#4D5663"
         },
         "title": {
          "font": {
           "color": "#4D5663"
          },
          "text": ""
         },
         "zerolinecolor": "#E1E5ED"
        },
        "yaxis16": {
         "anchor": "x16",
         "domain": [
          0,
          0.1975
         ],
         "gridcolor": "#E1E5ED",
         "showgrid": false,
         "tickfont": {
          "color": "#4D5663"
         },
         "title": {
          "font": {
           "color": "#4D5663"
          },
          "text": ""
         },
         "zerolinecolor": "#E1E5ED"
        },
        "yaxis2": {
         "anchor": "x2",
         "domain": [
          0.8025,
          1
         ],
         "gridcolor": "#E1E5ED",
         "showgrid": false,
         "tickfont": {
          "color": "#4D5663"
         },
         "title": {
          "font": {
           "color": "#4D5663"
          },
          "text": ""
         },
         "zerolinecolor": "#E1E5ED"
        },
        "yaxis3": {
         "anchor": "x3",
         "domain": [
          0.8025,
          1
         ],
         "gridcolor": "#E1E5ED",
         "showgrid": false,
         "tickfont": {
          "color": "#4D5663"
         },
         "title": {
          "font": {
           "color": "#4D5663"
          },
          "text": ""
         },
         "zerolinecolor": "#E1E5ED"
        },
        "yaxis4": {
         "anchor": "x4",
         "domain": [
          0.8025,
          1
         ],
         "gridcolor": "#E1E5ED",
         "showgrid": false,
         "tickfont": {
          "color": "#4D5663"
         },
         "title": {
          "font": {
           "color": "#4D5663"
          },
          "text": ""
         },
         "zerolinecolor": "#E1E5ED"
        },
        "yaxis5": {
         "anchor": "x5",
         "domain": [
          0.535,
          0.7325
         ],
         "gridcolor": "#E1E5ED",
         "showgrid": false,
         "tickfont": {
          "color": "#4D5663"
         },
         "title": {
          "font": {
           "color": "#4D5663"
          },
          "text": ""
         },
         "zerolinecolor": "#E1E5ED"
        },
        "yaxis6": {
         "anchor": "x6",
         "domain": [
          0.535,
          0.7325
         ],
         "gridcolor": "#E1E5ED",
         "showgrid": false,
         "tickfont": {
          "color": "#4D5663"
         },
         "title": {
          "font": {
           "color": "#4D5663"
          },
          "text": ""
         },
         "zerolinecolor": "#E1E5ED"
        },
        "yaxis7": {
         "anchor": "x7",
         "domain": [
          0.535,
          0.7325
         ],
         "gridcolor": "#E1E5ED",
         "showgrid": false,
         "tickfont": {
          "color": "#4D5663"
         },
         "title": {
          "font": {
           "color": "#4D5663"
          },
          "text": ""
         },
         "zerolinecolor": "#E1E5ED"
        },
        "yaxis8": {
         "anchor": "x8",
         "domain": [
          0.535,
          0.7325
         ],
         "gridcolor": "#E1E5ED",
         "showgrid": false,
         "tickfont": {
          "color": "#4D5663"
         },
         "title": {
          "font": {
           "color": "#4D5663"
          },
          "text": ""
         },
         "zerolinecolor": "#E1E5ED"
        },
        "yaxis9": {
         "anchor": "x9",
         "domain": [
          0.2675,
          0.465
         ],
         "gridcolor": "#E1E5ED",
         "showgrid": false,
         "tickfont": {
          "color": "#4D5663"
         },
         "title": {
          "font": {
           "color": "#4D5663"
          },
          "text": ""
         },
         "zerolinecolor": "#E1E5ED"
        }
       }
      },
      "text/html": [
       "<div>                            <div id=\"dd57e976-a26d-48ab-9a9a-a91e3d81fa75\" class=\"plotly-graph-div\" style=\"height:525px; width:100%;\"></div>            <script type=\"text/javascript\">                require([\"plotly\"], function(Plotly) {                    window.PLOTLYENV=window.PLOTLYENV || {};\n",
       "                    window.PLOTLYENV.BASE_URL='https://plot.ly';                                    if (document.getElementById(\"dd57e976-a26d-48ab-9a9a-a91e3d81fa75\")) {                    Plotly.newPlot(                        \"dd57e976-a26d-48ab-9a9a-a91e3d81fa75\",                        [{\"histfunc\":\"count\",\"histnorm\":\"\",\"marker\":{\"color\":\"rgba(255, 153, 51, 1.0)\",\"line\":{\"color\":\"#4D5663\",\"width\":1.3}},\"name\":\"A\",\"nbinsx\":10,\"opacity\":0.8,\"orientation\":\"v\",\"x\":[-0.6237268104686525,1.274572752369918,1.2855856084667923,0.4780921393755692,0.34494324406716476,-0.6405949323178967,-0.23348553233512562,0.17813370617579363,-0.7673268343683513,0.6579796347779423,0.09150439440134266,-0.3202194087654672,-0.7198822372283044,-0.03040259488005372,1.130130891132435,-1.3944379204410033,1.8055147559922298,-1.9857070195145679,1.4470767837214011,1.2874355830663946,0.696433594308047,2.404825719871125,-0.9623858314433245,-0.1859132142492279,0.03170213208913351,0.5002634060080197,1.4787083705078896,0.7458816130279491,0.3594135831219899,-1.2275883098721305,-0.03238291414533404,-0.15198417429647754,-0.8830153029958461,-0.8132224851313794,-2.0501610155245906,-0.9041899883149012,2.178167424721099,0.286622228389137,1.075573863823262,-0.4356904238305605,-1.0651750876267727,-0.0028056950631574658,-0.49382633776458307,-1.3147464271320535,-0.08989013325516612,-0.7042291895417842,-0.36343888412820746,0.333312240811528,1.0876510344408286,-0.3062546243441566,0.5660085135696187,0.09294517023552899,0.1894174818824277,0.04080039057265011,1.9675892925427019,-1.301768091588984,1.3152747666891773,0.005160869784432948,1.462520086249543,0.23850033626882083,0.8276718102531865,0.7004459393770409,0.19721486412706607,1.352394056400812,-1.5484023795619661,-0.22703321615797586,0.38543157811012896,0.8648956881612846,0.11555970092743817,0.24377042358437961,-0.8907934979824191,-0.41298058093838874,0.08772890141429637,-0.07976871061424609,0.2956966147265074,0.004051788741819877,-0.21232058552429844,-1.644617144448248,0.9817767416421945,-0.4355636648375388,-0.5358800350351557,0.2686898414179787,-1.7857386894657712,0.16534194227863233,1.6237878884244912,0.940607078882582,0.21777436019505278,1.2675257874568937,-1.1924645795499464,-1.0024359732972687,-0.9049278274834502,2.1992791381619425,-0.10497720054729366,-0.4905151303510943,-0.6425792587255553,0.5835158348888574,0.1531735913687253,1.2239349589688424,-0.03703710548486216,-0.2791575018844413],\"xaxis\":\"x\",\"yaxis\":\"y\",\"type\":\"histogram\"},{\"line\":{\"color\":\"rgba(128, 128, 128, 1.0)\",\"dash\":\"solid\",\"shape\":\"linear\",\"width\":1.3},\"marker\":{\"size\":2,\"symbol\":\"circle\"},\"mode\":\"markers\",\"name\":\"A\",\"text\":\"\",\"x\":[-0.5992388419623923,-1.2575663073827104,-0.8681566591353996,0.7064138445219653,1.220897910921186,-0.23843854751836333,0.08125458191418496,0.6318372109145688,0.942548979492198,2.320690008639898,0.9429607967997387,-0.29015875072636427,-1.6581592775086522,-0.5477094864769935,0.767637407871621,0.8881186319337434,-0.0643904961411898,0.9534947040026447,-0.16606079238591212,0.8603565522937122,-0.1580619170545945,-0.9653181739405476,-0.46734405290943015,-1.2911496712539385,-0.3972209893445163,0.3488214938166166,-0.21314454951927206,-0.4643598207233956,-0.6800305118874078,1.2935401582290862,1.4361191337703871,-1.171567562342489,-0.3670068378880621,-1.1054577060016664,-0.32064801789654274,-0.9363926236184297,-0.49477094246354825,0.812902698213528,0.8537832422872523,0.094645992888546,-0.6994604522634928,1.0646035005563184,0.8307767553268849,1.0896853366905155,0.2714464628285896,-0.5975426618874339,-0.16416177611486993,0.2877218711794547,-0.3781742013756831,0.48423209173426957,-1.180883461347576,-1.8120680649992547,0.8284734124830162,-1.1731129598625227,1.9801720805279264,1.2077623807204638,-0.13553492849395918,0.7018366579992051,0.23908836812693707,1.1711500013199105,0.3263080964506011,1.9688996231734426,0.18021053530810413,0.5375796221576216,1.5367208473457563,0.3513982997315935,0.9127172041851135,-2.230666072053595,-0.019961815619791035,-0.30999675103673313,-0.8464020313819279,-0.2533707794233801,0.4896143033570152,1.46020941716156,1.2582452885624982,-0.029048024548711818,-1.946621422012302,0.9796055069317009,1.7544797453482672,-0.9410046003128689,0.05471156767059863,1.8503324453552497,1.5160510298296148,-0.18408876323412576,-0.997566364283777,-1.2160719819895915,-0.015213805397837697,-1.3869063045253367,-0.3214812075644415,-0.27298008360765874,-0.424922336179347,-0.43640971391586103,0.24837444626450242,-0.5897616186959732,-0.966304223117495,0.3293893994072471,-1.126034549538087,0.7201557873948927,0.19646839542118436,-0.8793115217131454],\"xaxis\":\"x2\",\"y\":[-0.6237268104686525,1.274572752369918,1.2855856084667923,0.4780921393755692,0.34494324406716476,-0.6405949323178967,-0.23348553233512562,0.17813370617579363,-0.7673268343683513,0.6579796347779423,0.09150439440134266,-0.3202194087654672,-0.7198822372283044,-0.03040259488005372,1.130130891132435,-1.3944379204410033,1.8055147559922298,-1.9857070195145679,1.4470767837214011,1.2874355830663946,0.696433594308047,2.404825719871125,-0.9623858314433245,-0.1859132142492279,0.03170213208913351,0.5002634060080197,1.4787083705078896,0.7458816130279491,0.3594135831219899,-1.2275883098721305,-0.03238291414533404,-0.15198417429647754,-0.8830153029958461,-0.8132224851313794,-2.0501610155245906,-0.9041899883149012,2.178167424721099,0.286622228389137,1.075573863823262,-0.4356904238305605,-1.0651750876267727,-0.0028056950631574658,-0.49382633776458307,-1.3147464271320535,-0.08989013325516612,-0.7042291895417842,-0.36343888412820746,0.333312240811528,1.0876510344408286,-0.3062546243441566,0.5660085135696187,0.09294517023552899,0.1894174818824277,0.04080039057265011,1.9675892925427019,-1.301768091588984,1.3152747666891773,0.005160869784432948,1.462520086249543,0.23850033626882083,0.8276718102531865,0.7004459393770409,0.19721486412706607,1.352394056400812,-1.5484023795619661,-0.22703321615797586,0.38543157811012896,0.8648956881612846,0.11555970092743817,0.24377042358437961,-0.8907934979824191,-0.41298058093838874,0.08772890141429637,-0.07976871061424609,0.2956966147265074,0.004051788741819877,-0.21232058552429844,-1.644617144448248,0.9817767416421945,-0.4355636648375388,-0.5358800350351557,0.2686898414179787,-1.7857386894657712,0.16534194227863233,1.6237878884244912,0.940607078882582,0.21777436019505278,1.2675257874568937,-1.1924645795499464,-1.0024359732972687,-0.9049278274834502,2.1992791381619425,-0.10497720054729366,-0.4905151303510943,-0.6425792587255553,0.5835158348888574,0.1531735913687253,1.2239349589688424,-0.03703710548486216,-0.2791575018844413],\"yaxis\":\"y2\",\"type\":\"scatter\"},{\"line\":{\"color\":\"rgba(128, 128, 128, 1.0)\",\"dash\":\"solid\",\"shape\":\"linear\",\"width\":1.3},\"marker\":{\"size\":2,\"symbol\":\"circle\"},\"mode\":\"markers\",\"name\":\"A\",\"text\":\"\",\"x\":[0.8583663857467344,-1.5145392864678382,0.34690164059855494,-1.0771202641605213,0.7457894747870629,1.3465439153846355,-0.19439011320307956,-0.1278688585773838,0.8714217088237272,-1.2069465803723132,0.678669003387527,0.6908710435304085,-1.3518678827881616,-2.109643525172609,-0.14739200141021705,0.2736555043972159,1.5072558687922262,0.3716347249206074,0.9505652814339628,-1.9060707429949018,-0.7216299456200906,0.5033731431095232,1.567603658183932,-1.744367667834536,0.6046135698475051,-1.2591214070600647,0.24835386011648616,-1.990235566012449,0.2909701259669725,0.3835805487265389,-0.3289224481078893,2.783013415400195,0.004641289184778225,-0.5331706362446346,-0.85464536453022,-1.939048766759401,1.5732448829480874,0.6039064537817525,1.7959504221230522,1.0956375803715455,-0.30958601346015857,0.6493122178381358,-0.13110025881025425,0.08373256007282438,-0.9453019502596386,1.3098828552097408,1.0238437785917132,-0.2796519031510746,-0.18589891701581704,-1.9507939085538313,-1.9240307432375254,0.25150645933656285,-0.4025651321810857,-2.0008241036823686,-0.6715003970746136,-0.4865133485971033,-1.0906624905781868,-0.3155942117620863,1.0912079824359904,0.7558457550507326,0.9947145179461878,-0.884063002623822,-0.9426633092127263,-1.5032010405626413,0.016891280439735923,-1.4880291703598918,1.1960536111450781,0.645816263530466,0.7265415536969748,-0.07193586504117896,-0.15127496930009326,0.7246289940737326,1.1197657056355594,-2.0824336274218602,-0.9504679410546145,0.41403009909111205,0.29797641820947335,1.1205868149104123,-0.7225223044674257,-1.7344026712503873,0.7463173594083022,-0.25507555623623346,-0.3559478068672032,-0.42604250219736656,1.4951429885340772,-0.2616445199840373,0.8296699030143622,-2.343331318484972,0.9516666452755717,-0.05688586925889025,0.051787880004286954,2.352043014383918,-1.5993797304717008,-1.0915611825741727,-0.5340771017543282,0.7301909733814406,-0.9680356653278129,-0.6277223443047016,-0.8408546145530816,-1.5771668688401028],\"xaxis\":\"x3\",\"y\":[-0.6237268104686525,1.274572752369918,1.2855856084667923,0.4780921393755692,0.34494324406716476,-0.6405949323178967,-0.23348553233512562,0.17813370617579363,-0.7673268343683513,0.6579796347779423,0.09150439440134266,-0.3202194087654672,-0.7198822372283044,-0.03040259488005372,1.130130891132435,-1.3944379204410033,1.8055147559922298,-1.9857070195145679,1.4470767837214011,1.2874355830663946,0.696433594308047,2.404825719871125,-0.9623858314433245,-0.1859132142492279,0.03170213208913351,0.5002634060080197,1.4787083705078896,0.7458816130279491,0.3594135831219899,-1.2275883098721305,-0.03238291414533404,-0.15198417429647754,-0.8830153029958461,-0.8132224851313794,-2.0501610155245906,-0.9041899883149012,2.178167424721099,0.286622228389137,1.075573863823262,-0.4356904238305605,-1.0651750876267727,-0.0028056950631574658,-0.49382633776458307,-1.3147464271320535,-0.08989013325516612,-0.7042291895417842,-0.36343888412820746,0.333312240811528,1.0876510344408286,-0.3062546243441566,0.5660085135696187,0.09294517023552899,0.1894174818824277,0.04080039057265011,1.9675892925427019,-1.301768091588984,1.3152747666891773,0.005160869784432948,1.462520086249543,0.23850033626882083,0.8276718102531865,0.7004459393770409,0.19721486412706607,1.352394056400812,-1.5484023795619661,-0.22703321615797586,0.38543157811012896,0.8648956881612846,0.11555970092743817,0.24377042358437961,-0.8907934979824191,-0.41298058093838874,0.08772890141429637,-0.07976871061424609,0.2956966147265074,0.004051788741819877,-0.21232058552429844,-1.644617144448248,0.9817767416421945,-0.4355636648375388,-0.5358800350351557,0.2686898414179787,-1.7857386894657712,0.16534194227863233,1.6237878884244912,0.940607078882582,0.21777436019505278,1.2675257874568937,-1.1924645795499464,-1.0024359732972687,-0.9049278274834502,2.1992791381619425,-0.10497720054729366,-0.4905151303510943,-0.6425792587255553,0.5835158348888574,0.1531735913687253,1.2239349589688424,-0.03703710548486216,-0.2791575018844413],\"yaxis\":\"y3\",\"type\":\"scatter\"},{\"line\":{\"color\":\"rgba(128, 128, 128, 1.0)\",\"dash\":\"solid\",\"shape\":\"linear\",\"width\":1.3},\"marker\":{\"size\":2,\"symbol\":\"circle\"},\"mode\":\"markers\",\"name\":\"A\",\"text\":\"\",\"x\":[0.07924185651283985,0.6818652924290595,-1.5873646183219725,0.12143990441081044,0.05207846008017546,-1.6172186411018126,0.011936196923565652,0.3529043777707589,-0.2505368958304461,0.5242368019228532,0.8248947952081447,-0.44144132648920137,-1.1808687641887123,-0.5373388775111392,-0.3237467751304937,-0.3776318955153955,-1.0239629768554412,1.245531514165095,1.1073940699327756,0.4251891543621005,0.513692890737192,-0.8251306325144719,-0.5401465320493954,-0.16508677184432394,0.10365248867441129,-0.49532774975850336,0.33529958182784414,0.43571929713716445,0.39720144728297835,1.310944841202766,-2.3169983885896843,-0.18908103238767154,0.5292222231066129,0.29016145332777066,0.8427822926991279,-0.23657082738896495,-0.9235212521760812,-1.7890541565202018,0.8155050859900476,-0.10032716975412605,-1.365892603250562,0.13199703355022221,0.7329981815183036,-0.028480770358342258,0.5961455415925334,0.12109006891748281,-0.27040586484201984,-0.05622323384537568,0.2547450277359559,0.7390152320916648,1.4217961618406467,0.2806795766706054,1.036600861298079,-0.25972435751392714,-1.354284864112056,0.22207571354595435,1.86260698428309,-0.023431220580845128,0.12190958858536981,-0.3441378034341104,-0.3071343352575743,0.731265097288132,-0.9491959956966635,-1.1545115660287404,-0.452396235391058,-0.754086005700038,-0.43677995059947394,-1.2842290256385585,-0.5598699785720364,-1.9924405355160102,0.021257367426427105,0.668053699107769,-1.6077823585790698,-0.9608748165757212,0.5312422174535207,1.3370322151179366,0.8246792139371296,-0.43104272603839816,0.20878375668740443,-0.20858077619848964,-0.06922238817565377,-0.31461710761825573,3.1295338984364833,0.8281974921069192,1.2578508827664443,-0.4435176039959194,0.5236437557733773,-0.19699010977378437,0.006036150046611265,-0.7437834804755933,1.1688954857881058,0.46977893589293973,0.9529961423643826,1.0784673273714247,0.0937729889871102,-0.0691169318342257,-0.6697870179389714,-0.06400552700673463,-1.8031729430720378,0.49745682576903094],\"xaxis\":\"x4\",\"y\":[-0.6237268104686525,1.274572752369918,1.2855856084667923,0.4780921393755692,0.34494324406716476,-0.6405949323178967,-0.23348553233512562,0.17813370617579363,-0.7673268343683513,0.6579796347779423,0.09150439440134266,-0.3202194087654672,-0.7198822372283044,-0.03040259488005372,1.130130891132435,-1.3944379204410033,1.8055147559922298,-1.9857070195145679,1.4470767837214011,1.2874355830663946,0.696433594308047,2.404825719871125,-0.9623858314433245,-0.1859132142492279,0.03170213208913351,0.5002634060080197,1.4787083705078896,0.7458816130279491,0.3594135831219899,-1.2275883098721305,-0.03238291414533404,-0.15198417429647754,-0.8830153029958461,-0.8132224851313794,-2.0501610155245906,-0.9041899883149012,2.178167424721099,0.286622228389137,1.075573863823262,-0.4356904238305605,-1.0651750876267727,-0.0028056950631574658,-0.49382633776458307,-1.3147464271320535,-0.08989013325516612,-0.7042291895417842,-0.36343888412820746,0.333312240811528,1.0876510344408286,-0.3062546243441566,0.5660085135696187,0.09294517023552899,0.1894174818824277,0.04080039057265011,1.9675892925427019,-1.301768091588984,1.3152747666891773,0.005160869784432948,1.462520086249543,0.23850033626882083,0.8276718102531865,0.7004459393770409,0.19721486412706607,1.352394056400812,-1.5484023795619661,-0.22703321615797586,0.38543157811012896,0.8648956881612846,0.11555970092743817,0.24377042358437961,-0.8907934979824191,-0.41298058093838874,0.08772890141429637,-0.07976871061424609,0.2956966147265074,0.004051788741819877,-0.21232058552429844,-1.644617144448248,0.9817767416421945,-0.4355636648375388,-0.5358800350351557,0.2686898414179787,-1.7857386894657712,0.16534194227863233,1.6237878884244912,0.940607078882582,0.21777436019505278,1.2675257874568937,-1.1924645795499464,-1.0024359732972687,-0.9049278274834502,2.1992791381619425,-0.10497720054729366,-0.4905151303510943,-0.6425792587255553,0.5835158348888574,0.1531735913687253,1.2239349589688424,-0.03703710548486216,-0.2791575018844413],\"yaxis\":\"y4\",\"type\":\"scatter\"},{\"line\":{\"color\":\"rgba(128, 128, 128, 1.0)\",\"dash\":\"solid\",\"shape\":\"linear\",\"width\":1.3},\"marker\":{\"size\":2,\"symbol\":\"circle\"},\"mode\":\"markers\",\"name\":\"B\",\"text\":\"\",\"x\":[-0.6237268104686525,1.274572752369918,1.2855856084667923,0.4780921393755692,0.34494324406716476,-0.6405949323178967,-0.23348553233512562,0.17813370617579363,-0.7673268343683513,0.6579796347779423,0.09150439440134266,-0.3202194087654672,-0.7198822372283044,-0.03040259488005372,1.130130891132435,-1.3944379204410033,1.8055147559922298,-1.9857070195145679,1.4470767837214011,1.2874355830663946,0.696433594308047,2.404825719871125,-0.9623858314433245,-0.1859132142492279,0.03170213208913351,0.5002634060080197,1.4787083705078896,0.7458816130279491,0.3594135831219899,-1.2275883098721305,-0.03238291414533404,-0.15198417429647754,-0.8830153029958461,-0.8132224851313794,-2.0501610155245906,-0.9041899883149012,2.178167424721099,0.286622228389137,1.075573863823262,-0.4356904238305605,-1.0651750876267727,-0.0028056950631574658,-0.49382633776458307,-1.3147464271320535,-0.08989013325516612,-0.7042291895417842,-0.36343888412820746,0.333312240811528,1.0876510344408286,-0.3062546243441566,0.5660085135696187,0.09294517023552899,0.1894174818824277,0.04080039057265011,1.9675892925427019,-1.301768091588984,1.3152747666891773,0.005160869784432948,1.462520086249543,0.23850033626882083,0.8276718102531865,0.7004459393770409,0.19721486412706607,1.352394056400812,-1.5484023795619661,-0.22703321615797586,0.38543157811012896,0.8648956881612846,0.11555970092743817,0.24377042358437961,-0.8907934979824191,-0.41298058093838874,0.08772890141429637,-0.07976871061424609,0.2956966147265074,0.004051788741819877,-0.21232058552429844,-1.644617144448248,0.9817767416421945,-0.4355636648375388,-0.5358800350351557,0.2686898414179787,-1.7857386894657712,0.16534194227863233,1.6237878884244912,0.940607078882582,0.21777436019505278,1.2675257874568937,-1.1924645795499464,-1.0024359732972687,-0.9049278274834502,2.1992791381619425,-0.10497720054729366,-0.4905151303510943,-0.6425792587255553,0.5835158348888574,0.1531735913687253,1.2239349589688424,-0.03703710548486216,-0.2791575018844413],\"xaxis\":\"x5\",\"y\":[-0.5992388419623923,-1.2575663073827104,-0.8681566591353996,0.7064138445219653,1.220897910921186,-0.23843854751836333,0.08125458191418496,0.6318372109145688,0.942548979492198,2.320690008639898,0.9429607967997387,-0.29015875072636427,-1.6581592775086522,-0.5477094864769935,0.767637407871621,0.8881186319337434,-0.0643904961411898,0.9534947040026447,-0.16606079238591212,0.8603565522937122,-0.1580619170545945,-0.9653181739405476,-0.46734405290943015,-1.2911496712539385,-0.3972209893445163,0.3488214938166166,-0.21314454951927206,-0.4643598207233956,-0.6800305118874078,1.2935401582290862,1.4361191337703871,-1.171567562342489,-0.3670068378880621,-1.1054577060016664,-0.32064801789654274,-0.9363926236184297,-0.49477094246354825,0.812902698213528,0.8537832422872523,0.094645992888546,-0.6994604522634928,1.0646035005563184,0.8307767553268849,1.0896853366905155,0.2714464628285896,-0.5975426618874339,-0.16416177611486993,0.2877218711794547,-0.3781742013756831,0.48423209173426957,-1.180883461347576,-1.8120680649992547,0.8284734124830162,-1.1731129598625227,1.9801720805279264,1.2077623807204638,-0.13553492849395918,0.7018366579992051,0.23908836812693707,1.1711500013199105,0.3263080964506011,1.9688996231734426,0.18021053530810413,0.5375796221576216,1.5367208473457563,0.3513982997315935,0.9127172041851135,-2.230666072053595,-0.019961815619791035,-0.30999675103673313,-0.8464020313819279,-0.2533707794233801,0.4896143033570152,1.46020941716156,1.2582452885624982,-0.029048024548711818,-1.946621422012302,0.9796055069317009,1.7544797453482672,-0.9410046003128689,0.05471156767059863,1.8503324453552497,1.5160510298296148,-0.18408876323412576,-0.997566364283777,-1.2160719819895915,-0.015213805397837697,-1.3869063045253367,-0.3214812075644415,-0.27298008360765874,-0.424922336179347,-0.43640971391586103,0.24837444626450242,-0.5897616186959732,-0.966304223117495,0.3293893994072471,-1.126034549538087,0.7201557873948927,0.19646839542118436,-0.8793115217131454],\"yaxis\":\"y5\",\"type\":\"scatter\"},{\"histfunc\":\"count\",\"histnorm\":\"\",\"marker\":{\"color\":\"rgba(55, 128, 191, 1.0)\",\"line\":{\"color\":\"#4D5663\",\"width\":1.3}},\"name\":\"B\",\"nbinsx\":10,\"opacity\":0.8,\"orientation\":\"v\",\"x\":[-0.5992388419623923,-1.2575663073827104,-0.8681566591353996,0.7064138445219653,1.220897910921186,-0.23843854751836333,0.08125458191418496,0.6318372109145688,0.942548979492198,2.320690008639898,0.9429607967997387,-0.29015875072636427,-1.6581592775086522,-0.5477094864769935,0.767637407871621,0.8881186319337434,-0.0643904961411898,0.9534947040026447,-0.16606079238591212,0.8603565522937122,-0.1580619170545945,-0.9653181739405476,-0.46734405290943015,-1.2911496712539385,-0.3972209893445163,0.3488214938166166,-0.21314454951927206,-0.4643598207233956,-0.6800305118874078,1.2935401582290862,1.4361191337703871,-1.171567562342489,-0.3670068378880621,-1.1054577060016664,-0.32064801789654274,-0.9363926236184297,-0.49477094246354825,0.812902698213528,0.8537832422872523,0.094645992888546,-0.6994604522634928,1.0646035005563184,0.8307767553268849,1.0896853366905155,0.2714464628285896,-0.5975426618874339,-0.16416177611486993,0.2877218711794547,-0.3781742013756831,0.48423209173426957,-1.180883461347576,-1.8120680649992547,0.8284734124830162,-1.1731129598625227,1.9801720805279264,1.2077623807204638,-0.13553492849395918,0.7018366579992051,0.23908836812693707,1.1711500013199105,0.3263080964506011,1.9688996231734426,0.18021053530810413,0.5375796221576216,1.5367208473457563,0.3513982997315935,0.9127172041851135,-2.230666072053595,-0.019961815619791035,-0.30999675103673313,-0.8464020313819279,-0.2533707794233801,0.4896143033570152,1.46020941716156,1.2582452885624982,-0.029048024548711818,-1.946621422012302,0.9796055069317009,1.7544797453482672,-0.9410046003128689,0.05471156767059863,1.8503324453552497,1.5160510298296148,-0.18408876323412576,-0.997566364283777,-1.2160719819895915,-0.015213805397837697,-1.3869063045253367,-0.3214812075644415,-0.27298008360765874,-0.424922336179347,-0.43640971391586103,0.24837444626450242,-0.5897616186959732,-0.966304223117495,0.3293893994072471,-1.126034549538087,0.7201557873948927,0.19646839542118436,-0.8793115217131454],\"xaxis\":\"x6\",\"yaxis\":\"y6\",\"type\":\"histogram\"},{\"line\":{\"color\":\"rgba(128, 128, 128, 1.0)\",\"dash\":\"solid\",\"shape\":\"linear\",\"width\":1.3},\"marker\":{\"size\":2,\"symbol\":\"circle\"},\"mode\":\"markers\",\"name\":\"B\",\"text\":\"\",\"x\":[0.8583663857467344,-1.5145392864678382,0.34690164059855494,-1.0771202641605213,0.7457894747870629,1.3465439153846355,-0.19439011320307956,-0.1278688585773838,0.8714217088237272,-1.2069465803723132,0.678669003387527,0.6908710435304085,-1.3518678827881616,-2.109643525172609,-0.14739200141021705,0.2736555043972159,1.5072558687922262,0.3716347249206074,0.9505652814339628,-1.9060707429949018,-0.7216299456200906,0.5033731431095232,1.567603658183932,-1.744367667834536,0.6046135698475051,-1.2591214070600647,0.24835386011648616,-1.990235566012449,0.2909701259669725,0.3835805487265389,-0.3289224481078893,2.783013415400195,0.004641289184778225,-0.5331706362446346,-0.85464536453022,-1.939048766759401,1.5732448829480874,0.6039064537817525,1.7959504221230522,1.0956375803715455,-0.30958601346015857,0.6493122178381358,-0.13110025881025425,0.08373256007282438,-0.9453019502596386,1.3098828552097408,1.0238437785917132,-0.2796519031510746,-0.18589891701581704,-1.9507939085538313,-1.9240307432375254,0.25150645933656285,-0.4025651321810857,-2.0008241036823686,-0.6715003970746136,-0.4865133485971033,-1.0906624905781868,-0.3155942117620863,1.0912079824359904,0.7558457550507326,0.9947145179461878,-0.884063002623822,-0.9426633092127263,-1.5032010405626413,0.016891280439735923,-1.4880291703598918,1.1960536111450781,0.645816263530466,0.7265415536969748,-0.07193586504117896,-0.15127496930009326,0.7246289940737326,1.1197657056355594,-2.0824336274218602,-0.9504679410546145,0.41403009909111205,0.29797641820947335,1.1205868149104123,-0.7225223044674257,-1.7344026712503873,0.7463173594083022,-0.25507555623623346,-0.3559478068672032,-0.42604250219736656,1.4951429885340772,-0.2616445199840373,0.8296699030143622,-2.343331318484972,0.9516666452755717,-0.05688586925889025,0.051787880004286954,2.352043014383918,-1.5993797304717008,-1.0915611825741727,-0.5340771017543282,0.7301909733814406,-0.9680356653278129,-0.6277223443047016,-0.8408546145530816,-1.5771668688401028],\"xaxis\":\"x7\",\"y\":[-0.5992388419623923,-1.2575663073827104,-0.8681566591353996,0.7064138445219653,1.220897910921186,-0.23843854751836333,0.08125458191418496,0.6318372109145688,0.942548979492198,2.320690008639898,0.9429607967997387,-0.29015875072636427,-1.6581592775086522,-0.5477094864769935,0.767637407871621,0.8881186319337434,-0.0643904961411898,0.9534947040026447,-0.16606079238591212,0.8603565522937122,-0.1580619170545945,-0.9653181739405476,-0.46734405290943015,-1.2911496712539385,-0.3972209893445163,0.3488214938166166,-0.21314454951927206,-0.4643598207233956,-0.6800305118874078,1.2935401582290862,1.4361191337703871,-1.171567562342489,-0.3670068378880621,-1.1054577060016664,-0.32064801789654274,-0.9363926236184297,-0.49477094246354825,0.812902698213528,0.8537832422872523,0.094645992888546,-0.6994604522634928,1.0646035005563184,0.8307767553268849,1.0896853366905155,0.2714464628285896,-0.5975426618874339,-0.16416177611486993,0.2877218711794547,-0.3781742013756831,0.48423209173426957,-1.180883461347576,-1.8120680649992547,0.8284734124830162,-1.1731129598625227,1.9801720805279264,1.2077623807204638,-0.13553492849395918,0.7018366579992051,0.23908836812693707,1.1711500013199105,0.3263080964506011,1.9688996231734426,0.18021053530810413,0.5375796221576216,1.5367208473457563,0.3513982997315935,0.9127172041851135,-2.230666072053595,-0.019961815619791035,-0.30999675103673313,-0.8464020313819279,-0.2533707794233801,0.4896143033570152,1.46020941716156,1.2582452885624982,-0.029048024548711818,-1.946621422012302,0.9796055069317009,1.7544797453482672,-0.9410046003128689,0.05471156767059863,1.8503324453552497,1.5160510298296148,-0.18408876323412576,-0.997566364283777,-1.2160719819895915,-0.015213805397837697,-1.3869063045253367,-0.3214812075644415,-0.27298008360765874,-0.424922336179347,-0.43640971391586103,0.24837444626450242,-0.5897616186959732,-0.966304223117495,0.3293893994072471,-1.126034549538087,0.7201557873948927,0.19646839542118436,-0.8793115217131454],\"yaxis\":\"y7\",\"type\":\"scatter\"},{\"line\":{\"color\":\"rgba(128, 128, 128, 1.0)\",\"dash\":\"solid\",\"shape\":\"linear\",\"width\":1.3},\"marker\":{\"size\":2,\"symbol\":\"circle\"},\"mode\":\"markers\",\"name\":\"B\",\"text\":\"\",\"x\":[0.07924185651283985,0.6818652924290595,-1.5873646183219725,0.12143990441081044,0.05207846008017546,-1.6172186411018126,0.011936196923565652,0.3529043777707589,-0.2505368958304461,0.5242368019228532,0.8248947952081447,-0.44144132648920137,-1.1808687641887123,-0.5373388775111392,-0.3237467751304937,-0.3776318955153955,-1.0239629768554412,1.245531514165095,1.1073940699327756,0.4251891543621005,0.513692890737192,-0.8251306325144719,-0.5401465320493954,-0.16508677184432394,0.10365248867441129,-0.49532774975850336,0.33529958182784414,0.43571929713716445,0.39720144728297835,1.310944841202766,-2.3169983885896843,-0.18908103238767154,0.5292222231066129,0.29016145332777066,0.8427822926991279,-0.23657082738896495,-0.9235212521760812,-1.7890541565202018,0.8155050859900476,-0.10032716975412605,-1.365892603250562,0.13199703355022221,0.7329981815183036,-0.028480770358342258,0.5961455415925334,0.12109006891748281,-0.27040586484201984,-0.05622323384537568,0.2547450277359559,0.7390152320916648,1.4217961618406467,0.2806795766706054,1.036600861298079,-0.25972435751392714,-1.354284864112056,0.22207571354595435,1.86260698428309,-0.023431220580845128,0.12190958858536981,-0.3441378034341104,-0.3071343352575743,0.731265097288132,-0.9491959956966635,-1.1545115660287404,-0.452396235391058,-0.754086005700038,-0.43677995059947394,-1.2842290256385585,-0.5598699785720364,-1.9924405355160102,0.021257367426427105,0.668053699107769,-1.6077823585790698,-0.9608748165757212,0.5312422174535207,1.3370322151179366,0.8246792139371296,-0.43104272603839816,0.20878375668740443,-0.20858077619848964,-0.06922238817565377,-0.31461710761825573,3.1295338984364833,0.8281974921069192,1.2578508827664443,-0.4435176039959194,0.5236437557733773,-0.19699010977378437,0.006036150046611265,-0.7437834804755933,1.1688954857881058,0.46977893589293973,0.9529961423643826,1.0784673273714247,0.0937729889871102,-0.0691169318342257,-0.6697870179389714,-0.06400552700673463,-1.8031729430720378,0.49745682576903094],\"xaxis\":\"x8\",\"y\":[-0.5992388419623923,-1.2575663073827104,-0.8681566591353996,0.7064138445219653,1.220897910921186,-0.23843854751836333,0.08125458191418496,0.6318372109145688,0.942548979492198,2.320690008639898,0.9429607967997387,-0.29015875072636427,-1.6581592775086522,-0.5477094864769935,0.767637407871621,0.8881186319337434,-0.0643904961411898,0.9534947040026447,-0.16606079238591212,0.8603565522937122,-0.1580619170545945,-0.9653181739405476,-0.46734405290943015,-1.2911496712539385,-0.3972209893445163,0.3488214938166166,-0.21314454951927206,-0.4643598207233956,-0.6800305118874078,1.2935401582290862,1.4361191337703871,-1.171567562342489,-0.3670068378880621,-1.1054577060016664,-0.32064801789654274,-0.9363926236184297,-0.49477094246354825,0.812902698213528,0.8537832422872523,0.094645992888546,-0.6994604522634928,1.0646035005563184,0.8307767553268849,1.0896853366905155,0.2714464628285896,-0.5975426618874339,-0.16416177611486993,0.2877218711794547,-0.3781742013756831,0.48423209173426957,-1.180883461347576,-1.8120680649992547,0.8284734124830162,-1.1731129598625227,1.9801720805279264,1.2077623807204638,-0.13553492849395918,0.7018366579992051,0.23908836812693707,1.1711500013199105,0.3263080964506011,1.9688996231734426,0.18021053530810413,0.5375796221576216,1.5367208473457563,0.3513982997315935,0.9127172041851135,-2.230666072053595,-0.019961815619791035,-0.30999675103673313,-0.8464020313819279,-0.2533707794233801,0.4896143033570152,1.46020941716156,1.2582452885624982,-0.029048024548711818,-1.946621422012302,0.9796055069317009,1.7544797453482672,-0.9410046003128689,0.05471156767059863,1.8503324453552497,1.5160510298296148,-0.18408876323412576,-0.997566364283777,-1.2160719819895915,-0.015213805397837697,-1.3869063045253367,-0.3214812075644415,-0.27298008360765874,-0.424922336179347,-0.43640971391586103,0.24837444626450242,-0.5897616186959732,-0.966304223117495,0.3293893994072471,-1.126034549538087,0.7201557873948927,0.19646839542118436,-0.8793115217131454],\"yaxis\":\"y8\",\"type\":\"scatter\"},{\"line\":{\"color\":\"rgba(128, 128, 128, 1.0)\",\"dash\":\"solid\",\"shape\":\"linear\",\"width\":1.3},\"marker\":{\"size\":2,\"symbol\":\"circle\"},\"mode\":\"markers\",\"name\":\"C\",\"text\":\"\",\"x\":[-0.6237268104686525,1.274572752369918,1.2855856084667923,0.4780921393755692,0.34494324406716476,-0.6405949323178967,-0.23348553233512562,0.17813370617579363,-0.7673268343683513,0.6579796347779423,0.09150439440134266,-0.3202194087654672,-0.7198822372283044,-0.03040259488005372,1.130130891132435,-1.3944379204410033,1.8055147559922298,-1.9857070195145679,1.4470767837214011,1.2874355830663946,0.696433594308047,2.404825719871125,-0.9623858314433245,-0.1859132142492279,0.03170213208913351,0.5002634060080197,1.4787083705078896,0.7458816130279491,0.3594135831219899,-1.2275883098721305,-0.03238291414533404,-0.15198417429647754,-0.8830153029958461,-0.8132224851313794,-2.0501610155245906,-0.9041899883149012,2.178167424721099,0.286622228389137,1.075573863823262,-0.4356904238305605,-1.0651750876267727,-0.0028056950631574658,-0.49382633776458307,-1.3147464271320535,-0.08989013325516612,-0.7042291895417842,-0.36343888412820746,0.333312240811528,1.0876510344408286,-0.3062546243441566,0.5660085135696187,0.09294517023552899,0.1894174818824277,0.04080039057265011,1.9675892925427019,-1.301768091588984,1.3152747666891773,0.005160869784432948,1.462520086249543,0.23850033626882083,0.8276718102531865,0.7004459393770409,0.19721486412706607,1.352394056400812,-1.5484023795619661,-0.22703321615797586,0.38543157811012896,0.8648956881612846,0.11555970092743817,0.24377042358437961,-0.8907934979824191,-0.41298058093838874,0.08772890141429637,-0.07976871061424609,0.2956966147265074,0.004051788741819877,-0.21232058552429844,-1.644617144448248,0.9817767416421945,-0.4355636648375388,-0.5358800350351557,0.2686898414179787,-1.7857386894657712,0.16534194227863233,1.6237878884244912,0.940607078882582,0.21777436019505278,1.2675257874568937,-1.1924645795499464,-1.0024359732972687,-0.9049278274834502,2.1992791381619425,-0.10497720054729366,-0.4905151303510943,-0.6425792587255553,0.5835158348888574,0.1531735913687253,1.2239349589688424,-0.03703710548486216,-0.2791575018844413],\"xaxis\":\"x9\",\"y\":[0.8583663857467344,-1.5145392864678382,0.34690164059855494,-1.0771202641605213,0.7457894747870629,1.3465439153846355,-0.19439011320307956,-0.1278688585773838,0.8714217088237272,-1.2069465803723132,0.678669003387527,0.6908710435304085,-1.3518678827881616,-2.109643525172609,-0.14739200141021705,0.2736555043972159,1.5072558687922262,0.3716347249206074,0.9505652814339628,-1.9060707429949018,-0.7216299456200906,0.5033731431095232,1.567603658183932,-1.744367667834536,0.6046135698475051,-1.2591214070600647,0.24835386011648616,-1.990235566012449,0.2909701259669725,0.3835805487265389,-0.3289224481078893,2.783013415400195,0.004641289184778225,-0.5331706362446346,-0.85464536453022,-1.939048766759401,1.5732448829480874,0.6039064537817525,1.7959504221230522,1.0956375803715455,-0.30958601346015857,0.6493122178381358,-0.13110025881025425,0.08373256007282438,-0.9453019502596386,1.3098828552097408,1.0238437785917132,-0.2796519031510746,-0.18589891701581704,-1.9507939085538313,-1.9240307432375254,0.25150645933656285,-0.4025651321810857,-2.0008241036823686,-0.6715003970746136,-0.4865133485971033,-1.0906624905781868,-0.3155942117620863,1.0912079824359904,0.7558457550507326,0.9947145179461878,-0.884063002623822,-0.9426633092127263,-1.5032010405626413,0.016891280439735923,-1.4880291703598918,1.1960536111450781,0.645816263530466,0.7265415536969748,-0.07193586504117896,-0.15127496930009326,0.7246289940737326,1.1197657056355594,-2.0824336274218602,-0.9504679410546145,0.41403009909111205,0.29797641820947335,1.1205868149104123,-0.7225223044674257,-1.7344026712503873,0.7463173594083022,-0.25507555623623346,-0.3559478068672032,-0.42604250219736656,1.4951429885340772,-0.2616445199840373,0.8296699030143622,-2.343331318484972,0.9516666452755717,-0.05688586925889025,0.051787880004286954,2.352043014383918,-1.5993797304717008,-1.0915611825741727,-0.5340771017543282,0.7301909733814406,-0.9680356653278129,-0.6277223443047016,-0.8408546145530816,-1.5771668688401028],\"yaxis\":\"y9\",\"type\":\"scatter\"},{\"line\":{\"color\":\"rgba(128, 128, 128, 1.0)\",\"dash\":\"solid\",\"shape\":\"linear\",\"width\":1.3},\"marker\":{\"size\":2,\"symbol\":\"circle\"},\"mode\":\"markers\",\"name\":\"C\",\"text\":\"\",\"x\":[-0.5992388419623923,-1.2575663073827104,-0.8681566591353996,0.7064138445219653,1.220897910921186,-0.23843854751836333,0.08125458191418496,0.6318372109145688,0.942548979492198,2.320690008639898,0.9429607967997387,-0.29015875072636427,-1.6581592775086522,-0.5477094864769935,0.767637407871621,0.8881186319337434,-0.0643904961411898,0.9534947040026447,-0.16606079238591212,0.8603565522937122,-0.1580619170545945,-0.9653181739405476,-0.46734405290943015,-1.2911496712539385,-0.3972209893445163,0.3488214938166166,-0.21314454951927206,-0.4643598207233956,-0.6800305118874078,1.2935401582290862,1.4361191337703871,-1.171567562342489,-0.3670068378880621,-1.1054577060016664,-0.32064801789654274,-0.9363926236184297,-0.49477094246354825,0.812902698213528,0.8537832422872523,0.094645992888546,-0.6994604522634928,1.0646035005563184,0.8307767553268849,1.0896853366905155,0.2714464628285896,-0.5975426618874339,-0.16416177611486993,0.2877218711794547,-0.3781742013756831,0.48423209173426957,-1.180883461347576,-1.8120680649992547,0.8284734124830162,-1.1731129598625227,1.9801720805279264,1.2077623807204638,-0.13553492849395918,0.7018366579992051,0.23908836812693707,1.1711500013199105,0.3263080964506011,1.9688996231734426,0.18021053530810413,0.5375796221576216,1.5367208473457563,0.3513982997315935,0.9127172041851135,-2.230666072053595,-0.019961815619791035,-0.30999675103673313,-0.8464020313819279,-0.2533707794233801,0.4896143033570152,1.46020941716156,1.2582452885624982,-0.029048024548711818,-1.946621422012302,0.9796055069317009,1.7544797453482672,-0.9410046003128689,0.05471156767059863,1.8503324453552497,1.5160510298296148,-0.18408876323412576,-0.997566364283777,-1.2160719819895915,-0.015213805397837697,-1.3869063045253367,-0.3214812075644415,-0.27298008360765874,-0.424922336179347,-0.43640971391586103,0.24837444626450242,-0.5897616186959732,-0.966304223117495,0.3293893994072471,-1.126034549538087,0.7201557873948927,0.19646839542118436,-0.8793115217131454],\"xaxis\":\"x10\",\"y\":[0.8583663857467344,-1.5145392864678382,0.34690164059855494,-1.0771202641605213,0.7457894747870629,1.3465439153846355,-0.19439011320307956,-0.1278688585773838,0.8714217088237272,-1.2069465803723132,0.678669003387527,0.6908710435304085,-1.3518678827881616,-2.109643525172609,-0.14739200141021705,0.2736555043972159,1.5072558687922262,0.3716347249206074,0.9505652814339628,-1.9060707429949018,-0.7216299456200906,0.5033731431095232,1.567603658183932,-1.744367667834536,0.6046135698475051,-1.2591214070600647,0.24835386011648616,-1.990235566012449,0.2909701259669725,0.3835805487265389,-0.3289224481078893,2.783013415400195,0.004641289184778225,-0.5331706362446346,-0.85464536453022,-1.939048766759401,1.5732448829480874,0.6039064537817525,1.7959504221230522,1.0956375803715455,-0.30958601346015857,0.6493122178381358,-0.13110025881025425,0.08373256007282438,-0.9453019502596386,1.3098828552097408,1.0238437785917132,-0.2796519031510746,-0.18589891701581704,-1.9507939085538313,-1.9240307432375254,0.25150645933656285,-0.4025651321810857,-2.0008241036823686,-0.6715003970746136,-0.4865133485971033,-1.0906624905781868,-0.3155942117620863,1.0912079824359904,0.7558457550507326,0.9947145179461878,-0.884063002623822,-0.9426633092127263,-1.5032010405626413,0.016891280439735923,-1.4880291703598918,1.1960536111450781,0.645816263530466,0.7265415536969748,-0.07193586504117896,-0.15127496930009326,0.7246289940737326,1.1197657056355594,-2.0824336274218602,-0.9504679410546145,0.41403009909111205,0.29797641820947335,1.1205868149104123,-0.7225223044674257,-1.7344026712503873,0.7463173594083022,-0.25507555623623346,-0.3559478068672032,-0.42604250219736656,1.4951429885340772,-0.2616445199840373,0.8296699030143622,-2.343331318484972,0.9516666452755717,-0.05688586925889025,0.051787880004286954,2.352043014383918,-1.5993797304717008,-1.0915611825741727,-0.5340771017543282,0.7301909733814406,-0.9680356653278129,-0.6277223443047016,-0.8408546145530816,-1.5771668688401028],\"yaxis\":\"y10\",\"type\":\"scatter\"},{\"histfunc\":\"count\",\"histnorm\":\"\",\"marker\":{\"color\":\"rgba(50, 171, 96, 1.0)\",\"line\":{\"color\":\"#4D5663\",\"width\":1.3}},\"name\":\"C\",\"nbinsx\":10,\"opacity\":0.8,\"orientation\":\"v\",\"x\":[0.8583663857467344,-1.5145392864678382,0.34690164059855494,-1.0771202641605213,0.7457894747870629,1.3465439153846355,-0.19439011320307956,-0.1278688585773838,0.8714217088237272,-1.2069465803723132,0.678669003387527,0.6908710435304085,-1.3518678827881616,-2.109643525172609,-0.14739200141021705,0.2736555043972159,1.5072558687922262,0.3716347249206074,0.9505652814339628,-1.9060707429949018,-0.7216299456200906,0.5033731431095232,1.567603658183932,-1.744367667834536,0.6046135698475051,-1.2591214070600647,0.24835386011648616,-1.990235566012449,0.2909701259669725,0.3835805487265389,-0.3289224481078893,2.783013415400195,0.004641289184778225,-0.5331706362446346,-0.85464536453022,-1.939048766759401,1.5732448829480874,0.6039064537817525,1.7959504221230522,1.0956375803715455,-0.30958601346015857,0.6493122178381358,-0.13110025881025425,0.08373256007282438,-0.9453019502596386,1.3098828552097408,1.0238437785917132,-0.2796519031510746,-0.18589891701581704,-1.9507939085538313,-1.9240307432375254,0.25150645933656285,-0.4025651321810857,-2.0008241036823686,-0.6715003970746136,-0.4865133485971033,-1.0906624905781868,-0.3155942117620863,1.0912079824359904,0.7558457550507326,0.9947145179461878,-0.884063002623822,-0.9426633092127263,-1.5032010405626413,0.016891280439735923,-1.4880291703598918,1.1960536111450781,0.645816263530466,0.7265415536969748,-0.07193586504117896,-0.15127496930009326,0.7246289940737326,1.1197657056355594,-2.0824336274218602,-0.9504679410546145,0.41403009909111205,0.29797641820947335,1.1205868149104123,-0.7225223044674257,-1.7344026712503873,0.7463173594083022,-0.25507555623623346,-0.3559478068672032,-0.42604250219736656,1.4951429885340772,-0.2616445199840373,0.8296699030143622,-2.343331318484972,0.9516666452755717,-0.05688586925889025,0.051787880004286954,2.352043014383918,-1.5993797304717008,-1.0915611825741727,-0.5340771017543282,0.7301909733814406,-0.9680356653278129,-0.6277223443047016,-0.8408546145530816,-1.5771668688401028],\"xaxis\":\"x11\",\"yaxis\":\"y11\",\"type\":\"histogram\"},{\"line\":{\"color\":\"rgba(128, 128, 128, 1.0)\",\"dash\":\"solid\",\"shape\":\"linear\",\"width\":1.3},\"marker\":{\"size\":2,\"symbol\":\"circle\"},\"mode\":\"markers\",\"name\":\"C\",\"text\":\"\",\"x\":[0.07924185651283985,0.6818652924290595,-1.5873646183219725,0.12143990441081044,0.05207846008017546,-1.6172186411018126,0.011936196923565652,0.3529043777707589,-0.2505368958304461,0.5242368019228532,0.8248947952081447,-0.44144132648920137,-1.1808687641887123,-0.5373388775111392,-0.3237467751304937,-0.3776318955153955,-1.0239629768554412,1.245531514165095,1.1073940699327756,0.4251891543621005,0.513692890737192,-0.8251306325144719,-0.5401465320493954,-0.16508677184432394,0.10365248867441129,-0.49532774975850336,0.33529958182784414,0.43571929713716445,0.39720144728297835,1.310944841202766,-2.3169983885896843,-0.18908103238767154,0.5292222231066129,0.29016145332777066,0.8427822926991279,-0.23657082738896495,-0.9235212521760812,-1.7890541565202018,0.8155050859900476,-0.10032716975412605,-1.365892603250562,0.13199703355022221,0.7329981815183036,-0.028480770358342258,0.5961455415925334,0.12109006891748281,-0.27040586484201984,-0.05622323384537568,0.2547450277359559,0.7390152320916648,1.4217961618406467,0.2806795766706054,1.036600861298079,-0.25972435751392714,-1.354284864112056,0.22207571354595435,1.86260698428309,-0.023431220580845128,0.12190958858536981,-0.3441378034341104,-0.3071343352575743,0.731265097288132,-0.9491959956966635,-1.1545115660287404,-0.452396235391058,-0.754086005700038,-0.43677995059947394,-1.2842290256385585,-0.5598699785720364,-1.9924405355160102,0.021257367426427105,0.668053699107769,-1.6077823585790698,-0.9608748165757212,0.5312422174535207,1.3370322151179366,0.8246792139371296,-0.43104272603839816,0.20878375668740443,-0.20858077619848964,-0.06922238817565377,-0.31461710761825573,3.1295338984364833,0.8281974921069192,1.2578508827664443,-0.4435176039959194,0.5236437557733773,-0.19699010977378437,0.006036150046611265,-0.7437834804755933,1.1688954857881058,0.46977893589293973,0.9529961423643826,1.0784673273714247,0.0937729889871102,-0.0691169318342257,-0.6697870179389714,-0.06400552700673463,-1.8031729430720378,0.49745682576903094],\"xaxis\":\"x12\",\"y\":[0.8583663857467344,-1.5145392864678382,0.34690164059855494,-1.0771202641605213,0.7457894747870629,1.3465439153846355,-0.19439011320307956,-0.1278688585773838,0.8714217088237272,-1.2069465803723132,0.678669003387527,0.6908710435304085,-1.3518678827881616,-2.109643525172609,-0.14739200141021705,0.2736555043972159,1.5072558687922262,0.3716347249206074,0.9505652814339628,-1.9060707429949018,-0.7216299456200906,0.5033731431095232,1.567603658183932,-1.744367667834536,0.6046135698475051,-1.2591214070600647,0.24835386011648616,-1.990235566012449,0.2909701259669725,0.3835805487265389,-0.3289224481078893,2.783013415400195,0.004641289184778225,-0.5331706362446346,-0.85464536453022,-1.939048766759401,1.5732448829480874,0.6039064537817525,1.7959504221230522,1.0956375803715455,-0.30958601346015857,0.6493122178381358,-0.13110025881025425,0.08373256007282438,-0.9453019502596386,1.3098828552097408,1.0238437785917132,-0.2796519031510746,-0.18589891701581704,-1.9507939085538313,-1.9240307432375254,0.25150645933656285,-0.4025651321810857,-2.0008241036823686,-0.6715003970746136,-0.4865133485971033,-1.0906624905781868,-0.3155942117620863,1.0912079824359904,0.7558457550507326,0.9947145179461878,-0.884063002623822,-0.9426633092127263,-1.5032010405626413,0.016891280439735923,-1.4880291703598918,1.1960536111450781,0.645816263530466,0.7265415536969748,-0.07193586504117896,-0.15127496930009326,0.7246289940737326,1.1197657056355594,-2.0824336274218602,-0.9504679410546145,0.41403009909111205,0.29797641820947335,1.1205868149104123,-0.7225223044674257,-1.7344026712503873,0.7463173594083022,-0.25507555623623346,-0.3559478068672032,-0.42604250219736656,1.4951429885340772,-0.2616445199840373,0.8296699030143622,-2.343331318484972,0.9516666452755717,-0.05688586925889025,0.051787880004286954,2.352043014383918,-1.5993797304717008,-1.0915611825741727,-0.5340771017543282,0.7301909733814406,-0.9680356653278129,-0.6277223443047016,-0.8408546145530816,-1.5771668688401028],\"yaxis\":\"y12\",\"type\":\"scatter\"},{\"line\":{\"color\":\"rgba(128, 128, 128, 1.0)\",\"dash\":\"solid\",\"shape\":\"linear\",\"width\":1.3},\"marker\":{\"size\":2,\"symbol\":\"circle\"},\"mode\":\"markers\",\"name\":\"D\",\"text\":\"\",\"x\":[-0.6237268104686525,1.274572752369918,1.2855856084667923,0.4780921393755692,0.34494324406716476,-0.6405949323178967,-0.23348553233512562,0.17813370617579363,-0.7673268343683513,0.6579796347779423,0.09150439440134266,-0.3202194087654672,-0.7198822372283044,-0.03040259488005372,1.130130891132435,-1.3944379204410033,1.8055147559922298,-1.9857070195145679,1.4470767837214011,1.2874355830663946,0.696433594308047,2.404825719871125,-0.9623858314433245,-0.1859132142492279,0.03170213208913351,0.5002634060080197,1.4787083705078896,0.7458816130279491,0.3594135831219899,-1.2275883098721305,-0.03238291414533404,-0.15198417429647754,-0.8830153029958461,-0.8132224851313794,-2.0501610155245906,-0.9041899883149012,2.178167424721099,0.286622228389137,1.075573863823262,-0.4356904238305605,-1.0651750876267727,-0.0028056950631574658,-0.49382633776458307,-1.3147464271320535,-0.08989013325516612,-0.7042291895417842,-0.36343888412820746,0.333312240811528,1.0876510344408286,-0.3062546243441566,0.5660085135696187,0.09294517023552899,0.1894174818824277,0.04080039057265011,1.9675892925427019,-1.301768091588984,1.3152747666891773,0.005160869784432948,1.462520086249543,0.23850033626882083,0.8276718102531865,0.7004459393770409,0.19721486412706607,1.352394056400812,-1.5484023795619661,-0.22703321615797586,0.38543157811012896,0.8648956881612846,0.11555970092743817,0.24377042358437961,-0.8907934979824191,-0.41298058093838874,0.08772890141429637,-0.07976871061424609,0.2956966147265074,0.004051788741819877,-0.21232058552429844,-1.644617144448248,0.9817767416421945,-0.4355636648375388,-0.5358800350351557,0.2686898414179787,-1.7857386894657712,0.16534194227863233,1.6237878884244912,0.940607078882582,0.21777436019505278,1.2675257874568937,-1.1924645795499464,-1.0024359732972687,-0.9049278274834502,2.1992791381619425,-0.10497720054729366,-0.4905151303510943,-0.6425792587255553,0.5835158348888574,0.1531735913687253,1.2239349589688424,-0.03703710548486216,-0.2791575018844413],\"xaxis\":\"x13\",\"y\":[0.07924185651283985,0.6818652924290595,-1.5873646183219725,0.12143990441081044,0.05207846008017546,-1.6172186411018126,0.011936196923565652,0.3529043777707589,-0.2505368958304461,0.5242368019228532,0.8248947952081447,-0.44144132648920137,-1.1808687641887123,-0.5373388775111392,-0.3237467751304937,-0.3776318955153955,-1.0239629768554412,1.245531514165095,1.1073940699327756,0.4251891543621005,0.513692890737192,-0.8251306325144719,-0.5401465320493954,-0.16508677184432394,0.10365248867441129,-0.49532774975850336,0.33529958182784414,0.43571929713716445,0.39720144728297835,1.310944841202766,-2.3169983885896843,-0.18908103238767154,0.5292222231066129,0.29016145332777066,0.8427822926991279,-0.23657082738896495,-0.9235212521760812,-1.7890541565202018,0.8155050859900476,-0.10032716975412605,-1.365892603250562,0.13199703355022221,0.7329981815183036,-0.028480770358342258,0.5961455415925334,0.12109006891748281,-0.27040586484201984,-0.05622323384537568,0.2547450277359559,0.7390152320916648,1.4217961618406467,0.2806795766706054,1.036600861298079,-0.25972435751392714,-1.354284864112056,0.22207571354595435,1.86260698428309,-0.023431220580845128,0.12190958858536981,-0.3441378034341104,-0.3071343352575743,0.731265097288132,-0.9491959956966635,-1.1545115660287404,-0.452396235391058,-0.754086005700038,-0.43677995059947394,-1.2842290256385585,-0.5598699785720364,-1.9924405355160102,0.021257367426427105,0.668053699107769,-1.6077823585790698,-0.9608748165757212,0.5312422174535207,1.3370322151179366,0.8246792139371296,-0.43104272603839816,0.20878375668740443,-0.20858077619848964,-0.06922238817565377,-0.31461710761825573,3.1295338984364833,0.8281974921069192,1.2578508827664443,-0.4435176039959194,0.5236437557733773,-0.19699010977378437,0.006036150046611265,-0.7437834804755933,1.1688954857881058,0.46977893589293973,0.9529961423643826,1.0784673273714247,0.0937729889871102,-0.0691169318342257,-0.6697870179389714,-0.06400552700673463,-1.8031729430720378,0.49745682576903094],\"yaxis\":\"y13\",\"type\":\"scatter\"},{\"line\":{\"color\":\"rgba(128, 128, 128, 1.0)\",\"dash\":\"solid\",\"shape\":\"linear\",\"width\":1.3},\"marker\":{\"size\":2,\"symbol\":\"circle\"},\"mode\":\"markers\",\"name\":\"D\",\"text\":\"\",\"x\":[-0.5992388419623923,-1.2575663073827104,-0.8681566591353996,0.7064138445219653,1.220897910921186,-0.23843854751836333,0.08125458191418496,0.6318372109145688,0.942548979492198,2.320690008639898,0.9429607967997387,-0.29015875072636427,-1.6581592775086522,-0.5477094864769935,0.767637407871621,0.8881186319337434,-0.0643904961411898,0.9534947040026447,-0.16606079238591212,0.8603565522937122,-0.1580619170545945,-0.9653181739405476,-0.46734405290943015,-1.2911496712539385,-0.3972209893445163,0.3488214938166166,-0.21314454951927206,-0.4643598207233956,-0.6800305118874078,1.2935401582290862,1.4361191337703871,-1.171567562342489,-0.3670068378880621,-1.1054577060016664,-0.32064801789654274,-0.9363926236184297,-0.49477094246354825,0.812902698213528,0.8537832422872523,0.094645992888546,-0.6994604522634928,1.0646035005563184,0.8307767553268849,1.0896853366905155,0.2714464628285896,-0.5975426618874339,-0.16416177611486993,0.2877218711794547,-0.3781742013756831,0.48423209173426957,-1.180883461347576,-1.8120680649992547,0.8284734124830162,-1.1731129598625227,1.9801720805279264,1.2077623807204638,-0.13553492849395918,0.7018366579992051,0.23908836812693707,1.1711500013199105,0.3263080964506011,1.9688996231734426,0.18021053530810413,0.5375796221576216,1.5367208473457563,0.3513982997315935,0.9127172041851135,-2.230666072053595,-0.019961815619791035,-0.30999675103673313,-0.8464020313819279,-0.2533707794233801,0.4896143033570152,1.46020941716156,1.2582452885624982,-0.029048024548711818,-1.946621422012302,0.9796055069317009,1.7544797453482672,-0.9410046003128689,0.05471156767059863,1.8503324453552497,1.5160510298296148,-0.18408876323412576,-0.997566364283777,-1.2160719819895915,-0.015213805397837697,-1.3869063045253367,-0.3214812075644415,-0.27298008360765874,-0.424922336179347,-0.43640971391586103,0.24837444626450242,-0.5897616186959732,-0.966304223117495,0.3293893994072471,-1.126034549538087,0.7201557873948927,0.19646839542118436,-0.8793115217131454],\"xaxis\":\"x14\",\"y\":[0.07924185651283985,0.6818652924290595,-1.5873646183219725,0.12143990441081044,0.05207846008017546,-1.6172186411018126,0.011936196923565652,0.3529043777707589,-0.2505368958304461,0.5242368019228532,0.8248947952081447,-0.44144132648920137,-1.1808687641887123,-0.5373388775111392,-0.3237467751304937,-0.3776318955153955,-1.0239629768554412,1.245531514165095,1.1073940699327756,0.4251891543621005,0.513692890737192,-0.8251306325144719,-0.5401465320493954,-0.16508677184432394,0.10365248867441129,-0.49532774975850336,0.33529958182784414,0.43571929713716445,0.39720144728297835,1.310944841202766,-2.3169983885896843,-0.18908103238767154,0.5292222231066129,0.29016145332777066,0.8427822926991279,-0.23657082738896495,-0.9235212521760812,-1.7890541565202018,0.8155050859900476,-0.10032716975412605,-1.365892603250562,0.13199703355022221,0.7329981815183036,-0.028480770358342258,0.5961455415925334,0.12109006891748281,-0.27040586484201984,-0.05622323384537568,0.2547450277359559,0.7390152320916648,1.4217961618406467,0.2806795766706054,1.036600861298079,-0.25972435751392714,-1.354284864112056,0.22207571354595435,1.86260698428309,-0.023431220580845128,0.12190958858536981,-0.3441378034341104,-0.3071343352575743,0.731265097288132,-0.9491959956966635,-1.1545115660287404,-0.452396235391058,-0.754086005700038,-0.43677995059947394,-1.2842290256385585,-0.5598699785720364,-1.9924405355160102,0.021257367426427105,0.668053699107769,-1.6077823585790698,-0.9608748165757212,0.5312422174535207,1.3370322151179366,0.8246792139371296,-0.43104272603839816,0.20878375668740443,-0.20858077619848964,-0.06922238817565377,-0.31461710761825573,3.1295338984364833,0.8281974921069192,1.2578508827664443,-0.4435176039959194,0.5236437557733773,-0.19699010977378437,0.006036150046611265,-0.7437834804755933,1.1688954857881058,0.46977893589293973,0.9529961423643826,1.0784673273714247,0.0937729889871102,-0.0691169318342257,-0.6697870179389714,-0.06400552700673463,-1.8031729430720378,0.49745682576903094],\"yaxis\":\"y14\",\"type\":\"scatter\"},{\"line\":{\"color\":\"rgba(128, 128, 128, 1.0)\",\"dash\":\"solid\",\"shape\":\"linear\",\"width\":1.3},\"marker\":{\"size\":2,\"symbol\":\"circle\"},\"mode\":\"markers\",\"name\":\"D\",\"text\":\"\",\"x\":[0.8583663857467344,-1.5145392864678382,0.34690164059855494,-1.0771202641605213,0.7457894747870629,1.3465439153846355,-0.19439011320307956,-0.1278688585773838,0.8714217088237272,-1.2069465803723132,0.678669003387527,0.6908710435304085,-1.3518678827881616,-2.109643525172609,-0.14739200141021705,0.2736555043972159,1.5072558687922262,0.3716347249206074,0.9505652814339628,-1.9060707429949018,-0.7216299456200906,0.5033731431095232,1.567603658183932,-1.744367667834536,0.6046135698475051,-1.2591214070600647,0.24835386011648616,-1.990235566012449,0.2909701259669725,0.3835805487265389,-0.3289224481078893,2.783013415400195,0.004641289184778225,-0.5331706362446346,-0.85464536453022,-1.939048766759401,1.5732448829480874,0.6039064537817525,1.7959504221230522,1.0956375803715455,-0.30958601346015857,0.6493122178381358,-0.13110025881025425,0.08373256007282438,-0.9453019502596386,1.3098828552097408,1.0238437785917132,-0.2796519031510746,-0.18589891701581704,-1.9507939085538313,-1.9240307432375254,0.25150645933656285,-0.4025651321810857,-2.0008241036823686,-0.6715003970746136,-0.4865133485971033,-1.0906624905781868,-0.3155942117620863,1.0912079824359904,0.7558457550507326,0.9947145179461878,-0.884063002623822,-0.9426633092127263,-1.5032010405626413,0.016891280439735923,-1.4880291703598918,1.1960536111450781,0.645816263530466,0.7265415536969748,-0.07193586504117896,-0.15127496930009326,0.7246289940737326,1.1197657056355594,-2.0824336274218602,-0.9504679410546145,0.41403009909111205,0.29797641820947335,1.1205868149104123,-0.7225223044674257,-1.7344026712503873,0.7463173594083022,-0.25507555623623346,-0.3559478068672032,-0.42604250219736656,1.4951429885340772,-0.2616445199840373,0.8296699030143622,-2.343331318484972,0.9516666452755717,-0.05688586925889025,0.051787880004286954,2.352043014383918,-1.5993797304717008,-1.0915611825741727,-0.5340771017543282,0.7301909733814406,-0.9680356653278129,-0.6277223443047016,-0.8408546145530816,-1.5771668688401028],\"xaxis\":\"x15\",\"y\":[0.07924185651283985,0.6818652924290595,-1.5873646183219725,0.12143990441081044,0.05207846008017546,-1.6172186411018126,0.011936196923565652,0.3529043777707589,-0.2505368958304461,0.5242368019228532,0.8248947952081447,-0.44144132648920137,-1.1808687641887123,-0.5373388775111392,-0.3237467751304937,-0.3776318955153955,-1.0239629768554412,1.245531514165095,1.1073940699327756,0.4251891543621005,0.513692890737192,-0.8251306325144719,-0.5401465320493954,-0.16508677184432394,0.10365248867441129,-0.49532774975850336,0.33529958182784414,0.43571929713716445,0.39720144728297835,1.310944841202766,-2.3169983885896843,-0.18908103238767154,0.5292222231066129,0.29016145332777066,0.8427822926991279,-0.23657082738896495,-0.9235212521760812,-1.7890541565202018,0.8155050859900476,-0.10032716975412605,-1.365892603250562,0.13199703355022221,0.7329981815183036,-0.028480770358342258,0.5961455415925334,0.12109006891748281,-0.27040586484201984,-0.05622323384537568,0.2547450277359559,0.7390152320916648,1.4217961618406467,0.2806795766706054,1.036600861298079,-0.25972435751392714,-1.354284864112056,0.22207571354595435,1.86260698428309,-0.023431220580845128,0.12190958858536981,-0.3441378034341104,-0.3071343352575743,0.731265097288132,-0.9491959956966635,-1.1545115660287404,-0.452396235391058,-0.754086005700038,-0.43677995059947394,-1.2842290256385585,-0.5598699785720364,-1.9924405355160102,0.021257367426427105,0.668053699107769,-1.6077823585790698,-0.9608748165757212,0.5312422174535207,1.3370322151179366,0.8246792139371296,-0.43104272603839816,0.20878375668740443,-0.20858077619848964,-0.06922238817565377,-0.31461710761825573,3.1295338984364833,0.8281974921069192,1.2578508827664443,-0.4435176039959194,0.5236437557733773,-0.19699010977378437,0.006036150046611265,-0.7437834804755933,1.1688954857881058,0.46977893589293973,0.9529961423643826,1.0784673273714247,0.0937729889871102,-0.0691169318342257,-0.6697870179389714,-0.06400552700673463,-1.8031729430720378,0.49745682576903094],\"yaxis\":\"y15\",\"type\":\"scatter\"},{\"histfunc\":\"count\",\"histnorm\":\"\",\"marker\":{\"color\":\"rgba(128, 0, 128, 1.0)\",\"line\":{\"color\":\"#4D5663\",\"width\":1.3}},\"name\":\"D\",\"nbinsx\":10,\"opacity\":0.8,\"orientation\":\"v\",\"x\":[0.07924185651283985,0.6818652924290595,-1.5873646183219725,0.12143990441081044,0.05207846008017546,-1.6172186411018126,0.011936196923565652,0.3529043777707589,-0.2505368958304461,0.5242368019228532,0.8248947952081447,-0.44144132648920137,-1.1808687641887123,-0.5373388775111392,-0.3237467751304937,-0.3776318955153955,-1.0239629768554412,1.245531514165095,1.1073940699327756,0.4251891543621005,0.513692890737192,-0.8251306325144719,-0.5401465320493954,-0.16508677184432394,0.10365248867441129,-0.49532774975850336,0.33529958182784414,0.43571929713716445,0.39720144728297835,1.310944841202766,-2.3169983885896843,-0.18908103238767154,0.5292222231066129,0.29016145332777066,0.8427822926991279,-0.23657082738896495,-0.9235212521760812,-1.7890541565202018,0.8155050859900476,-0.10032716975412605,-1.365892603250562,0.13199703355022221,0.7329981815183036,-0.028480770358342258,0.5961455415925334,0.12109006891748281,-0.27040586484201984,-0.05622323384537568,0.2547450277359559,0.7390152320916648,1.4217961618406467,0.2806795766706054,1.036600861298079,-0.25972435751392714,-1.354284864112056,0.22207571354595435,1.86260698428309,-0.023431220580845128,0.12190958858536981,-0.3441378034341104,-0.3071343352575743,0.731265097288132,-0.9491959956966635,-1.1545115660287404,-0.452396235391058,-0.754086005700038,-0.43677995059947394,-1.2842290256385585,-0.5598699785720364,-1.9924405355160102,0.021257367426427105,0.668053699107769,-1.6077823585790698,-0.9608748165757212,0.5312422174535207,1.3370322151179366,0.8246792139371296,-0.43104272603839816,0.20878375668740443,-0.20858077619848964,-0.06922238817565377,-0.31461710761825573,3.1295338984364833,0.8281974921069192,1.2578508827664443,-0.4435176039959194,0.5236437557733773,-0.19699010977378437,0.006036150046611265,-0.7437834804755933,1.1688954857881058,0.46977893589293973,0.9529961423643826,1.0784673273714247,0.0937729889871102,-0.0691169318342257,-0.6697870179389714,-0.06400552700673463,-1.8031729430720378,0.49745682576903094],\"xaxis\":\"x16\",\"yaxis\":\"y16\",\"type\":\"histogram\"}],                        {\"bargap\":0.02,\"legend\":{\"bgcolor\":\"#F5F6F9\",\"font\":{\"color\":\"#4D5663\"}},\"paper_bgcolor\":\"#F5F6F9\",\"plot_bgcolor\":\"#F5F6F9\",\"showlegend\":false,\"template\":{\"data\":{\"barpolar\":[{\"marker\":{\"line\":{\"color\":\"#E5ECF6\",\"width\":0.5},\"pattern\":{\"fillmode\":\"overlay\",\"size\":10,\"solidity\":0.2}},\"type\":\"barpolar\"}],\"bar\":[{\"error_x\":{\"color\":\"#2a3f5f\"},\"error_y\":{\"color\":\"#2a3f5f\"},\"marker\":{\"line\":{\"color\":\"#E5ECF6\",\"width\":0.5},\"pattern\":{\"fillmode\":\"overlay\",\"size\":10,\"solidity\":0.2}},\"type\":\"bar\"}],\"carpet\":[{\"aaxis\":{\"endlinecolor\":\"#2a3f5f\",\"gridcolor\":\"white\",\"linecolor\":\"white\",\"minorgridcolor\":\"white\",\"startlinecolor\":\"#2a3f5f\"},\"baxis\":{\"endlinecolor\":\"#2a3f5f\",\"gridcolor\":\"white\",\"linecolor\":\"white\",\"minorgridcolor\":\"white\",\"startlinecolor\":\"#2a3f5f\"},\"type\":\"carpet\"}],\"choropleth\":[{\"colorbar\":{\"outlinewidth\":0,\"ticks\":\"\"},\"type\":\"choropleth\"}],\"contourcarpet\":[{\"colorbar\":{\"outlinewidth\":0,\"ticks\":\"\"},\"type\":\"contourcarpet\"}],\"contour\":[{\"colorbar\":{\"outlinewidth\":0,\"ticks\":\"\"},\"colorscale\":[[0.0,\"#0d0887\"],[0.1111111111111111,\"#46039f\"],[0.2222222222222222,\"#7201a8\"],[0.3333333333333333,\"#9c179e\"],[0.4444444444444444,\"#bd3786\"],[0.5555555555555556,\"#d8576b\"],[0.6666666666666666,\"#ed7953\"],[0.7777777777777778,\"#fb9f3a\"],[0.8888888888888888,\"#fdca26\"],[1.0,\"#f0f921\"]],\"type\":\"contour\"}],\"heatmapgl\":[{\"colorbar\":{\"outlinewidth\":0,\"ticks\":\"\"},\"colorscale\":[[0.0,\"#0d0887\"],[0.1111111111111111,\"#46039f\"],[0.2222222222222222,\"#7201a8\"],[0.3333333333333333,\"#9c179e\"],[0.4444444444444444,\"#bd3786\"],[0.5555555555555556,\"#d8576b\"],[0.6666666666666666,\"#ed7953\"],[0.7777777777777778,\"#fb9f3a\"],[0.8888888888888888,\"#fdca26\"],[1.0,\"#f0f921\"]],\"type\":\"heatmapgl\"}],\"heatmap\":[{\"colorbar\":{\"outlinewidth\":0,\"ticks\":\"\"},\"colorscale\":[[0.0,\"#0d0887\"],[0.1111111111111111,\"#46039f\"],[0.2222222222222222,\"#7201a8\"],[0.3333333333333333,\"#9c179e\"],[0.4444444444444444,\"#bd3786\"],[0.5555555555555556,\"#d8576b\"],[0.6666666666666666,\"#ed7953\"],[0.7777777777777778,\"#fb9f3a\"],[0.8888888888888888,\"#fdca26\"],[1.0,\"#f0f921\"]],\"type\":\"heatmap\"}],\"histogram2dcontour\":[{\"colorbar\":{\"outlinewidth\":0,\"ticks\":\"\"},\"colorscale\":[[0.0,\"#0d0887\"],[0.1111111111111111,\"#46039f\"],[0.2222222222222222,\"#7201a8\"],[0.3333333333333333,\"#9c179e\"],[0.4444444444444444,\"#bd3786\"],[0.5555555555555556,\"#d8576b\"],[0.6666666666666666,\"#ed7953\"],[0.7777777777777778,\"#fb9f3a\"],[0.8888888888888888,\"#fdca26\"],[1.0,\"#f0f921\"]],\"type\":\"histogram2dcontour\"}],\"histogram2d\":[{\"colorbar\":{\"outlinewidth\":0,\"ticks\":\"\"},\"colorscale\":[[0.0,\"#0d0887\"],[0.1111111111111111,\"#46039f\"],[0.2222222222222222,\"#7201a8\"],[0.3333333333333333,\"#9c179e\"],[0.4444444444444444,\"#bd3786\"],[0.5555555555555556,\"#d8576b\"],[0.6666666666666666,\"#ed7953\"],[0.7777777777777778,\"#fb9f3a\"],[0.8888888888888888,\"#fdca26\"],[1.0,\"#f0f921\"]],\"type\":\"histogram2d\"}],\"histogram\":[{\"marker\":{\"pattern\":{\"fillmode\":\"overlay\",\"size\":10,\"solidity\":0.2}},\"type\":\"histogram\"}],\"mesh3d\":[{\"colorbar\":{\"outlinewidth\":0,\"ticks\":\"\"},\"type\":\"mesh3d\"}],\"parcoords\":[{\"line\":{\"colorbar\":{\"outlinewidth\":0,\"ticks\":\"\"}},\"type\":\"parcoords\"}],\"pie\":[{\"automargin\":true,\"type\":\"pie\"}],\"scatter3d\":[{\"line\":{\"colorbar\":{\"outlinewidth\":0,\"ticks\":\"\"}},\"marker\":{\"colorbar\":{\"outlinewidth\":0,\"ticks\":\"\"}},\"type\":\"scatter3d\"}],\"scattercarpet\":[{\"marker\":{\"colorbar\":{\"outlinewidth\":0,\"ticks\":\"\"}},\"type\":\"scattercarpet\"}],\"scattergeo\":[{\"marker\":{\"colorbar\":{\"outlinewidth\":0,\"ticks\":\"\"}},\"type\":\"scattergeo\"}],\"scattergl\":[{\"marker\":{\"colorbar\":{\"outlinewidth\":0,\"ticks\":\"\"}},\"type\":\"scattergl\"}],\"scattermapbox\":[{\"marker\":{\"colorbar\":{\"outlinewidth\":0,\"ticks\":\"\"}},\"type\":\"scattermapbox\"}],\"scatterpolargl\":[{\"marker\":{\"colorbar\":{\"outlinewidth\":0,\"ticks\":\"\"}},\"type\":\"scatterpolargl\"}],\"scatterpolar\":[{\"marker\":{\"colorbar\":{\"outlinewidth\":0,\"ticks\":\"\"}},\"type\":\"scatterpolar\"}],\"scatter\":[{\"fillpattern\":{\"fillmode\":\"overlay\",\"size\":10,\"solidity\":0.2},\"type\":\"scatter\"}],\"scatterternary\":[{\"marker\":{\"colorbar\":{\"outlinewidth\":0,\"ticks\":\"\"}},\"type\":\"scatterternary\"}],\"surface\":[{\"colorbar\":{\"outlinewidth\":0,\"ticks\":\"\"},\"colorscale\":[[0.0,\"#0d0887\"],[0.1111111111111111,\"#46039f\"],[0.2222222222222222,\"#7201a8\"],[0.3333333333333333,\"#9c179e\"],[0.4444444444444444,\"#bd3786\"],[0.5555555555555556,\"#d8576b\"],[0.6666666666666666,\"#ed7953\"],[0.7777777777777778,\"#fb9f3a\"],[0.8888888888888888,\"#fdca26\"],[1.0,\"#f0f921\"]],\"type\":\"surface\"}],\"table\":[{\"cells\":{\"fill\":{\"color\":\"#EBF0F8\"},\"line\":{\"color\":\"white\"}},\"header\":{\"fill\":{\"color\":\"#C8D4E3\"},\"line\":{\"color\":\"white\"}},\"type\":\"table\"}]},\"layout\":{\"annotationdefaults\":{\"arrowcolor\":\"#2a3f5f\",\"arrowhead\":0,\"arrowwidth\":1},\"autotypenumbers\":\"strict\",\"coloraxis\":{\"colorbar\":{\"outlinewidth\":0,\"ticks\":\"\"}},\"colorscale\":{\"diverging\":[[0,\"#8e0152\"],[0.1,\"#c51b7d\"],[0.2,\"#de77ae\"],[0.3,\"#f1b6da\"],[0.4,\"#fde0ef\"],[0.5,\"#f7f7f7\"],[0.6,\"#e6f5d0\"],[0.7,\"#b8e186\"],[0.8,\"#7fbc41\"],[0.9,\"#4d9221\"],[1,\"#276419\"]],\"sequential\":[[0.0,\"#0d0887\"],[0.1111111111111111,\"#46039f\"],[0.2222222222222222,\"#7201a8\"],[0.3333333333333333,\"#9c179e\"],[0.4444444444444444,\"#bd3786\"],[0.5555555555555556,\"#d8576b\"],[0.6666666666666666,\"#ed7953\"],[0.7777777777777778,\"#fb9f3a\"],[0.8888888888888888,\"#fdca26\"],[1.0,\"#f0f921\"]],\"sequentialminus\":[[0.0,\"#0d0887\"],[0.1111111111111111,\"#46039f\"],[0.2222222222222222,\"#7201a8\"],[0.3333333333333333,\"#9c179e\"],[0.4444444444444444,\"#bd3786\"],[0.5555555555555556,\"#d8576b\"],[0.6666666666666666,\"#ed7953\"],[0.7777777777777778,\"#fb9f3a\"],[0.8888888888888888,\"#fdca26\"],[1.0,\"#f0f921\"]]},\"colorway\":[\"#636efa\",\"#EF553B\",\"#00cc96\",\"#ab63fa\",\"#FFA15A\",\"#19d3f3\",\"#FF6692\",\"#B6E880\",\"#FF97FF\",\"#FECB52\"],\"font\":{\"color\":\"#2a3f5f\"},\"geo\":{\"bgcolor\":\"white\",\"lakecolor\":\"white\",\"landcolor\":\"#E5ECF6\",\"showlakes\":true,\"showland\":true,\"subunitcolor\":\"white\"},\"hoverlabel\":{\"align\":\"left\"},\"hovermode\":\"closest\",\"mapbox\":{\"style\":\"light\"},\"paper_bgcolor\":\"white\",\"plot_bgcolor\":\"#E5ECF6\",\"polar\":{\"angularaxis\":{\"gridcolor\":\"white\",\"linecolor\":\"white\",\"ticks\":\"\"},\"bgcolor\":\"#E5ECF6\",\"radialaxis\":{\"gridcolor\":\"white\",\"linecolor\":\"white\",\"ticks\":\"\"}},\"scene\":{\"xaxis\":{\"backgroundcolor\":\"#E5ECF6\",\"gridcolor\":\"white\",\"gridwidth\":2,\"linecolor\":\"white\",\"showbackground\":true,\"ticks\":\"\",\"zerolinecolor\":\"white\"},\"yaxis\":{\"backgroundcolor\":\"#E5ECF6\",\"gridcolor\":\"white\",\"gridwidth\":2,\"linecolor\":\"white\",\"showbackground\":true,\"ticks\":\"\",\"zerolinecolor\":\"white\"},\"zaxis\":{\"backgroundcolor\":\"#E5ECF6\",\"gridcolor\":\"white\",\"gridwidth\":2,\"linecolor\":\"white\",\"showbackground\":true,\"ticks\":\"\",\"zerolinecolor\":\"white\"}},\"shapedefaults\":{\"line\":{\"color\":\"#2a3f5f\"}},\"ternary\":{\"aaxis\":{\"gridcolor\":\"white\",\"linecolor\":\"white\",\"ticks\":\"\"},\"baxis\":{\"gridcolor\":\"white\",\"linecolor\":\"white\",\"ticks\":\"\"},\"bgcolor\":\"#E5ECF6\",\"caxis\":{\"gridcolor\":\"white\",\"linecolor\":\"white\",\"ticks\":\"\"}},\"title\":{\"x\":0.05},\"xaxis\":{\"automargin\":true,\"gridcolor\":\"white\",\"linecolor\":\"white\",\"ticks\":\"\",\"title\":{\"standoff\":15},\"zerolinecolor\":\"white\",\"zerolinewidth\":2},\"yaxis\":{\"automargin\":true,\"gridcolor\":\"white\",\"linecolor\":\"white\",\"ticks\":\"\",\"title\":{\"standoff\":15},\"zerolinecolor\":\"white\",\"zerolinewidth\":2}}},\"title\":{\"font\":{\"color\":\"#4D5663\"}},\"xaxis\":{\"anchor\":\"y\",\"domain\":[0.0,0.2125],\"gridcolor\":\"#E1E5ED\",\"showgrid\":false,\"tickfont\":{\"color\":\"#4D5663\"},\"title\":{\"font\":{\"color\":\"#4D5663\"},\"text\":\"\"},\"zerolinecolor\":\"#E1E5ED\"},\"yaxis\":{\"anchor\":\"x\",\"domain\":[0.8025,1.0],\"gridcolor\":\"#E1E5ED\",\"showgrid\":false,\"tickfont\":{\"color\":\"#4D5663\"},\"title\":{\"font\":{\"color\":\"#4D5663\"},\"text\":\"\"},\"zerolinecolor\":\"#E1E5ED\"},\"xaxis2\":{\"anchor\":\"y2\",\"domain\":[0.2625,0.475],\"gridcolor\":\"#E1E5ED\",\"showgrid\":false,\"tickfont\":{\"color\":\"#4D5663\"},\"title\":{\"font\":{\"color\":\"#4D5663\"},\"text\":\"\"},\"zerolinecolor\":\"#E1E5ED\"},\"yaxis2\":{\"anchor\":\"x2\",\"domain\":[0.8025,1.0],\"gridcolor\":\"#E1E5ED\",\"showgrid\":false,\"tickfont\":{\"color\":\"#4D5663\"},\"title\":{\"font\":{\"color\":\"#4D5663\"},\"text\":\"\"},\"zerolinecolor\":\"#E1E5ED\"},\"xaxis3\":{\"anchor\":\"y3\",\"domain\":[0.525,0.7375],\"gridcolor\":\"#E1E5ED\",\"showgrid\":false,\"tickfont\":{\"color\":\"#4D5663\"},\"title\":{\"font\":{\"color\":\"#4D5663\"},\"text\":\"\"},\"zerolinecolor\":\"#E1E5ED\"},\"yaxis3\":{\"anchor\":\"x3\",\"domain\":[0.8025,1.0],\"gridcolor\":\"#E1E5ED\",\"showgrid\":false,\"tickfont\":{\"color\":\"#4D5663\"},\"title\":{\"font\":{\"color\":\"#4D5663\"},\"text\":\"\"},\"zerolinecolor\":\"#E1E5ED\"},\"xaxis4\":{\"anchor\":\"y4\",\"domain\":[0.7875,1.0],\"gridcolor\":\"#E1E5ED\",\"showgrid\":false,\"tickfont\":{\"color\":\"#4D5663\"},\"title\":{\"font\":{\"color\":\"#4D5663\"},\"text\":\"\"},\"zerolinecolor\":\"#E1E5ED\"},\"yaxis4\":{\"anchor\":\"x4\",\"domain\":[0.8025,1.0],\"gridcolor\":\"#E1E5ED\",\"showgrid\":false,\"tickfont\":{\"color\":\"#4D5663\"},\"title\":{\"font\":{\"color\":\"#4D5663\"},\"text\":\"\"},\"zerolinecolor\":\"#E1E5ED\"},\"xaxis5\":{\"anchor\":\"y5\",\"domain\":[0.0,0.2125],\"gridcolor\":\"#E1E5ED\",\"showgrid\":false,\"tickfont\":{\"color\":\"#4D5663\"},\"title\":{\"font\":{\"color\":\"#4D5663\"},\"text\":\"\"},\"zerolinecolor\":\"#E1E5ED\"},\"yaxis5\":{\"anchor\":\"x5\",\"domain\":[0.535,0.7325],\"gridcolor\":\"#E1E5ED\",\"showgrid\":false,\"tickfont\":{\"color\":\"#4D5663\"},\"title\":{\"font\":{\"color\":\"#4D5663\"},\"text\":\"\"},\"zerolinecolor\":\"#E1E5ED\"},\"xaxis6\":{\"anchor\":\"y6\",\"domain\":[0.2625,0.475],\"gridcolor\":\"#E1E5ED\",\"showgrid\":false,\"tickfont\":{\"color\":\"#4D5663\"},\"title\":{\"font\":{\"color\":\"#4D5663\"},\"text\":\"\"},\"zerolinecolor\":\"#E1E5ED\"},\"yaxis6\":{\"anchor\":\"x6\",\"domain\":[0.535,0.7325],\"gridcolor\":\"#E1E5ED\",\"showgrid\":false,\"tickfont\":{\"color\":\"#4D5663\"},\"title\":{\"font\":{\"color\":\"#4D5663\"},\"text\":\"\"},\"zerolinecolor\":\"#E1E5ED\"},\"xaxis7\":{\"anchor\":\"y7\",\"domain\":[0.525,0.7375],\"gridcolor\":\"#E1E5ED\",\"showgrid\":false,\"tickfont\":{\"color\":\"#4D5663\"},\"title\":{\"font\":{\"color\":\"#4D5663\"},\"text\":\"\"},\"zerolinecolor\":\"#E1E5ED\"},\"yaxis7\":{\"anchor\":\"x7\",\"domain\":[0.535,0.7325],\"gridcolor\":\"#E1E5ED\",\"showgrid\":false,\"tickfont\":{\"color\":\"#4D5663\"},\"title\":{\"font\":{\"color\":\"#4D5663\"},\"text\":\"\"},\"zerolinecolor\":\"#E1E5ED\"},\"xaxis8\":{\"anchor\":\"y8\",\"domain\":[0.7875,1.0],\"gridcolor\":\"#E1E5ED\",\"showgrid\":false,\"tickfont\":{\"color\":\"#4D5663\"},\"title\":{\"font\":{\"color\":\"#4D5663\"},\"text\":\"\"},\"zerolinecolor\":\"#E1E5ED\"},\"yaxis8\":{\"anchor\":\"x8\",\"domain\":[0.535,0.7325],\"gridcolor\":\"#E1E5ED\",\"showgrid\":false,\"tickfont\":{\"color\":\"#4D5663\"},\"title\":{\"font\":{\"color\":\"#4D5663\"},\"text\":\"\"},\"zerolinecolor\":\"#E1E5ED\"},\"xaxis9\":{\"anchor\":\"y9\",\"domain\":[0.0,0.2125],\"gridcolor\":\"#E1E5ED\",\"showgrid\":false,\"tickfont\":{\"color\":\"#4D5663\"},\"title\":{\"font\":{\"color\":\"#4D5663\"},\"text\":\"\"},\"zerolinecolor\":\"#E1E5ED\"},\"yaxis9\":{\"anchor\":\"x9\",\"domain\":[0.2675,0.465],\"gridcolor\":\"#E1E5ED\",\"showgrid\":false,\"tickfont\":{\"color\":\"#4D5663\"},\"title\":{\"font\":{\"color\":\"#4D5663\"},\"text\":\"\"},\"zerolinecolor\":\"#E1E5ED\"},\"xaxis10\":{\"anchor\":\"y10\",\"domain\":[0.2625,0.475],\"gridcolor\":\"#E1E5ED\",\"showgrid\":false,\"tickfont\":{\"color\":\"#4D5663\"},\"title\":{\"font\":{\"color\":\"#4D5663\"},\"text\":\"\"},\"zerolinecolor\":\"#E1E5ED\"},\"yaxis10\":{\"anchor\":\"x10\",\"domain\":[0.2675,0.465],\"gridcolor\":\"#E1E5ED\",\"showgrid\":false,\"tickfont\":{\"color\":\"#4D5663\"},\"title\":{\"font\":{\"color\":\"#4D5663\"},\"text\":\"\"},\"zerolinecolor\":\"#E1E5ED\"},\"xaxis11\":{\"anchor\":\"y11\",\"domain\":[0.525,0.7375],\"gridcolor\":\"#E1E5ED\",\"showgrid\":false,\"tickfont\":{\"color\":\"#4D5663\"},\"title\":{\"font\":{\"color\":\"#4D5663\"},\"text\":\"\"},\"zerolinecolor\":\"#E1E5ED\"},\"yaxis11\":{\"anchor\":\"x11\",\"domain\":[0.2675,0.465],\"gridcolor\":\"#E1E5ED\",\"showgrid\":false,\"tickfont\":{\"color\":\"#4D5663\"},\"title\":{\"font\":{\"color\":\"#4D5663\"},\"text\":\"\"},\"zerolinecolor\":\"#E1E5ED\"},\"xaxis12\":{\"anchor\":\"y12\",\"domain\":[0.7875,1.0],\"gridcolor\":\"#E1E5ED\",\"showgrid\":false,\"tickfont\":{\"color\":\"#4D5663\"},\"title\":{\"font\":{\"color\":\"#4D5663\"},\"text\":\"\"},\"zerolinecolor\":\"#E1E5ED\"},\"yaxis12\":{\"anchor\":\"x12\",\"domain\":[0.2675,0.465],\"gridcolor\":\"#E1E5ED\",\"showgrid\":false,\"tickfont\":{\"color\":\"#4D5663\"},\"title\":{\"font\":{\"color\":\"#4D5663\"},\"text\":\"\"},\"zerolinecolor\":\"#E1E5ED\"},\"xaxis13\":{\"anchor\":\"y13\",\"domain\":[0.0,0.2125],\"gridcolor\":\"#E1E5ED\",\"showgrid\":false,\"tickfont\":{\"color\":\"#4D5663\"},\"title\":{\"font\":{\"color\":\"#4D5663\"},\"text\":\"\"},\"zerolinecolor\":\"#E1E5ED\"},\"yaxis13\":{\"anchor\":\"x13\",\"domain\":[0.0,0.1975],\"gridcolor\":\"#E1E5ED\",\"showgrid\":false,\"tickfont\":{\"color\":\"#4D5663\"},\"title\":{\"font\":{\"color\":\"#4D5663\"},\"text\":\"\"},\"zerolinecolor\":\"#E1E5ED\"},\"xaxis14\":{\"anchor\":\"y14\",\"domain\":[0.2625,0.475],\"gridcolor\":\"#E1E5ED\",\"showgrid\":false,\"tickfont\":{\"color\":\"#4D5663\"},\"title\":{\"font\":{\"color\":\"#4D5663\"},\"text\":\"\"},\"zerolinecolor\":\"#E1E5ED\"},\"yaxis14\":{\"anchor\":\"x14\",\"domain\":[0.0,0.1975],\"gridcolor\":\"#E1E5ED\",\"showgrid\":false,\"tickfont\":{\"color\":\"#4D5663\"},\"title\":{\"font\":{\"color\":\"#4D5663\"},\"text\":\"\"},\"zerolinecolor\":\"#E1E5ED\"},\"xaxis15\":{\"anchor\":\"y15\",\"domain\":[0.525,0.7375],\"gridcolor\":\"#E1E5ED\",\"showgrid\":false,\"tickfont\":{\"color\":\"#4D5663\"},\"title\":{\"font\":{\"color\":\"#4D5663\"},\"text\":\"\"},\"zerolinecolor\":\"#E1E5ED\"},\"yaxis15\":{\"anchor\":\"x15\",\"domain\":[0.0,0.1975],\"gridcolor\":\"#E1E5ED\",\"showgrid\":false,\"tickfont\":{\"color\":\"#4D5663\"},\"title\":{\"font\":{\"color\":\"#4D5663\"},\"text\":\"\"},\"zerolinecolor\":\"#E1E5ED\"},\"xaxis16\":{\"anchor\":\"y16\",\"domain\":[0.7875,1.0],\"gridcolor\":\"#E1E5ED\",\"showgrid\":false,\"tickfont\":{\"color\":\"#4D5663\"},\"title\":{\"font\":{\"color\":\"#4D5663\"},\"text\":\"\"},\"zerolinecolor\":\"#E1E5ED\"},\"yaxis16\":{\"anchor\":\"x16\",\"domain\":[0.0,0.1975],\"gridcolor\":\"#E1E5ED\",\"showgrid\":false,\"tickfont\":{\"color\":\"#4D5663\"},\"title\":{\"font\":{\"color\":\"#4D5663\"},\"text\":\"\"},\"zerolinecolor\":\"#E1E5ED\"}},                        {\"showLink\": true, \"linkText\": \"Export to plot.ly\", \"plotlyServerURL\": \"https://plot.ly\", \"responsive\": true}                    ).then(function(){\n",
       "                            \n",
       "var gd = document.getElementById('dd57e976-a26d-48ab-9a9a-a91e3d81fa75');\n",
       "var x = new MutationObserver(function (mutations, observer) {{\n",
       "        var display = window.getComputedStyle(gd).display;\n",
       "        if (!display || display === 'none') {{\n",
       "            console.log([gd, 'removed!']);\n",
       "            Plotly.purge(gd);\n",
       "            observer.disconnect();\n",
       "        }}\n",
       "}});\n",
       "\n",
       "// Listen for the removal of the full notebook cells\n",
       "var notebookContainer = gd.closest('#notebook-container');\n",
       "if (notebookContainer) {{\n",
       "    x.observe(notebookContainer, {childList: true});\n",
       "}}\n",
       "\n",
       "// Listen for the clearing of the current output cell\n",
       "var outputEl = gd.closest('.output');\n",
       "if (outputEl) {{\n",
       "    x.observe(outputEl, {childList: true});\n",
       "}}\n",
       "\n",
       "                        })                };                });            </script>        </div>"
      ]
     },
     "metadata": {},
     "output_type": "display_data"
    }
   ],
   "source": [
    "df.scatter_matrix()\n",
    "#all columns are to be numerical"
   ]
  },
  {
   "cell_type": "code",
   "execution_count": null,
   "metadata": {},
   "outputs": [],
   "source": []
  }
 ],
 "metadata": {
  "kernelspec": {
   "display_name": "Python 3",
   "language": "python",
   "name": "python3"
  },
  "language_info": {
   "codemirror_mode": {
    "name": "ipython",
    "version": 3
   },
   "file_extension": ".py",
   "mimetype": "text/x-python",
   "name": "python",
   "nbconvert_exporter": "python",
   "pygments_lexer": "ipython3",
   "version": "3.11.5"
  }
 },
 "nbformat": 4,
 "nbformat_minor": 2
}
